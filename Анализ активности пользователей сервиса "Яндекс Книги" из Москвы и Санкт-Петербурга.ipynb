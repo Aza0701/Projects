{
 "cells": [
  {
   "cell_type": "markdown",
   "id": "_E41Wr5fqnFT",
   "metadata": {
    "id": "_E41Wr5fqnFT"
   },
   "source": [
    "# Часть 1. Проверка гипотезы в Python и составление аналитической записки"
   ]
  },
  {
   "cell_type": "markdown",
   "id": "Z5_6nf-FrY7o",
   "metadata": {
    "id": "Z5_6nf-FrY7o"
   },
   "source": [
    "Напомним, как выглядит гипотеза: пользователи из Санкт-Петербурга проводят в среднем больше времени за чтением и прослушиванием книг в приложении, чем пользователи из Москвы. Попробуйте статистически это доказать, используя одностороннюю проверку гипотезы с двумя выборками:\n",
    "\n",
    "Нулевая гипотеза $H_0: \\mu_{\\text{СПб}} \\leq \\mu_{\\text{Москва}}$ <br> Среднее время активности пользователей в Санкт-Петербурге не больше, чем в Москве.\n",
    "\n",
    "Альтернативная гипотеза $H_1: \\mu_{\\text{СПб}} > \\mu_{\\text{Москва}}$ <br> Среднее время активности пользователей в Санкт-Петербурге больше, и это различие статистически значимо.\n",
    "\n",
    "По результатам анализа данных подготовьте аналитическую записку, в которой опишите:\n",
    "\n",
    "Выбранный тип t-теста и уровень статистической значимости.\n",
    "\n",
    "Результат теста, или p-value.\n",
    "\n",
    "Вывод на основе полученного p-value, то есть интерпретацию результатов.\n",
    "\n",
    "Одну или две возможные причины, объясняющие полученные результаты."
   ]
  },
  {
   "cell_type": "markdown",
   "id": "e06910dd",
   "metadata": {
    "id": "e06910dd"
   },
   "source": [
    "## Проверка гипотезы в Python и составление аналитической записки"
   ]
  },
  {
   "cell_type": "markdown",
   "id": "4149134c",
   "metadata": {
    "id": "4149134c"
   },
   "source": [
    "## Цели и задачи проекта"
   ]
  },
  {
   "cell_type": "markdown",
   "id": "f8dda363",
   "metadata": {},
   "source": [
    "Цель проекта проверить гипотезу о том, что пользователи Санкт-Петербурга проводит больше времени за чтением и прослушиванием книг в приложении Яндекс книги, чем пользователи Москвы"
   ]
  },
  {
   "cell_type": "markdown",
   "id": "728986ea",
   "metadata": {
    "id": "728986ea"
   },
   "source": [
    "## Описание данных"
   ]
  },
  {
   "cell_type": "markdown",
   "id": "ea3a4567",
   "metadata": {},
   "source": [
    "https://code.s3.yandex.net/datasets/ab_test_participants.csv — таблица участников тестов.\n",
    "- Структура файла:\n",
    "- `user_id` — идентификатор пользователя;\n",
    "- `group` — группа пользователя;\n",
    "- `ab_test` — название теста;\n",
    "- `device` — устройство, с которого происходила регистрация\n",
    "- https://code.s3.yandex.net/datasets/ab_test_events.zip — архив с одним csv-файлом, в котором собраны события 2020 года;\n",
    "- Структура файла:\n",
    "- `user_id` — идентификатор пользователя;\n",
    "- `event_dt` — дата и время события;\n",
    "- `event_name` — тип события;\n",
    "- `details` — дополнительные данные о событии"
   ]
  },
  {
   "cell_type": "markdown",
   "id": "4fecaf95",
   "metadata": {
    "id": "4fecaf95"
   },
   "source": [
    "## Содержимое проекта"
   ]
  },
  {
   "cell_type": "markdown",
   "id": "c348c46a",
   "metadata": {},
   "source": [
    "**Часть 1. Проверка гипотезы в Python и составление аналитической записки**\n",
    "1. Проверка гипотезы в Python и составление аналитической записки\n",
    "2. Цели и задачи проекта\n",
    "3. Описание данных\n",
    "4. Содержимое проекта\n",
    "5.1 Загрузка данных и знакомство с ними\n",
    "6.2 Проверка гипотезы в Python\n",
    "7.3 Аналитическая записка\n",
    "\n",
    "**Часть 2. Анализ результатов А/В-тестирования**\n",
    "\n",
    "8.1 Опишите цели исследования\n",
    "\n",
    "9.2 Загрузите данные, оцените их целостность\n",
    "\n",
    "10.3 По таблице ab_test_participants оцените корректность проведения теста\n",
    "\n",
    "11.4 Проведите оценку результатов A/B-тестирования"
   ]
  },
  {
   "cell_type": "markdown",
   "id": "73735d79",
   "metadata": {},
   "source": [
    "## 1. Загрузка данных и знакомство с ними"
   ]
  },
  {
   "cell_type": "code",
   "execution_count": 3,
   "id": "2f00851d",
   "metadata": {},
   "outputs": [],
   "source": [
    "# Импортируем библиотеки\n",
    "import pandas as pd\n",
    "\n",
    "# Загружаем библиотеки для визуализации данных\n",
    "import matplotlib.pyplot as plt\n",
    "import seaborn as sns\n",
    "\n",
    "from scipy.stats import ttest_ind\n",
    "from statsmodels.stats.proportion import proportions_ztest"
   ]
  },
  {
   "cell_type": "code",
   "execution_count": 10,
   "id": "05faf34b",
   "metadata": {
    "id": "05faf34b"
   },
   "outputs": [
    {
     "data": {
      "text/html": [
       "<div>\n",
       "<style scoped>\n",
       "    .dataframe tbody tr th:only-of-type {\n",
       "        vertical-align: middle;\n",
       "    }\n",
       "\n",
       "    .dataframe tbody tr th {\n",
       "        vertical-align: top;\n",
       "    }\n",
       "\n",
       "    .dataframe thead th {\n",
       "        text-align: right;\n",
       "    }\n",
       "</style>\n",
       "<table border=\"1\" class=\"dataframe\">\n",
       "  <thead>\n",
       "    <tr style=\"text-align: right;\">\n",
       "      <th></th>\n",
       "      <th>Unnamed: 0</th>\n",
       "      <th>city</th>\n",
       "      <th>puid</th>\n",
       "      <th>hours</th>\n",
       "    </tr>\n",
       "  </thead>\n",
       "  <tbody>\n",
       "    <tr>\n",
       "      <th>0</th>\n",
       "      <td>0</td>\n",
       "      <td>Москва</td>\n",
       "      <td>9668</td>\n",
       "      <td>26.167776</td>\n",
       "    </tr>\n",
       "    <tr>\n",
       "      <th>1</th>\n",
       "      <td>1</td>\n",
       "      <td>Москва</td>\n",
       "      <td>16598</td>\n",
       "      <td>82.111217</td>\n",
       "    </tr>\n",
       "    <tr>\n",
       "      <th>2</th>\n",
       "      <td>2</td>\n",
       "      <td>Москва</td>\n",
       "      <td>80401</td>\n",
       "      <td>4.656906</td>\n",
       "    </tr>\n",
       "    <tr>\n",
       "      <th>3</th>\n",
       "      <td>3</td>\n",
       "      <td>Москва</td>\n",
       "      <td>140205</td>\n",
       "      <td>1.840556</td>\n",
       "    </tr>\n",
       "    <tr>\n",
       "      <th>4</th>\n",
       "      <td>4</td>\n",
       "      <td>Москва</td>\n",
       "      <td>248755</td>\n",
       "      <td>151.326434</td>\n",
       "    </tr>\n",
       "  </tbody>\n",
       "</table>\n",
       "</div>"
      ],
      "text/plain": [
       "   Unnamed: 0    city    puid       hours\n",
       "0           0  Москва    9668   26.167776\n",
       "1           1  Москва   16598   82.111217\n",
       "2           2  Москва   80401    4.656906\n",
       "3           3  Москва  140205    1.840556\n",
       "4           4  Москва  248755  151.326434"
      ]
     },
     "execution_count": 10,
     "metadata": {},
     "output_type": "execute_result"
    }
   ],
   "source": [
    "# Выгружаем данные\n",
    "df = pd.read_csv('/datasets/yandex_knigi_data.csv')\n",
    "\n",
    "# Выводим первые строки датафрейма на экран\n",
    "df.head()"
   ]
  },
  {
   "cell_type": "code",
   "execution_count": 11,
   "id": "115910c3",
   "metadata": {},
   "outputs": [],
   "source": [
    "# Устанавливаем столбец 'Unnamed: 0' в качестве индекса\n",
    "df = df.set_index('Unnamed: 0')"
   ]
  },
  {
   "cell_type": "code",
   "execution_count": 12,
   "id": "3772e07a",
   "metadata": {},
   "outputs": [
    {
     "name": "stdout",
     "output_type": "stream",
     "text": [
      "<class 'pandas.core.frame.DataFrame'>\n",
      "Int64Index: 8784 entries, 0 to 8783\n",
      "Data columns (total 3 columns):\n",
      " #   Column  Non-Null Count  Dtype  \n",
      "---  ------  --------------  -----  \n",
      " 0   city    8784 non-null   object \n",
      " 1   puid    8784 non-null   int64  \n",
      " 2   hours   8784 non-null   float64\n",
      "dtypes: float64(1), int64(1), object(1)\n",
      "memory usage: 274.5+ KB\n"
     ]
    }
   ],
   "source": [
    "# Выводим информацию о датафрейме\n",
    "df.info()"
   ]
  },
  {
   "cell_type": "markdown",
   "id": "fed357ff",
   "metadata": {},
   "source": [
    "Исходя из данных, в датафрейме пропусков нет"
   ]
  },
  {
   "cell_type": "code",
   "execution_count": 13,
   "id": "d97ab5e0",
   "metadata": {},
   "outputs": [
    {
     "data": {
      "text/plain": [
       "244"
      ]
     },
     "execution_count": 13,
     "metadata": {},
     "output_type": "execute_result"
    }
   ],
   "source": [
    "# Выводим информацию о дубликатах\n",
    "df.duplicated(['puid']).sum()"
   ]
  },
  {
   "cell_type": "markdown",
   "id": "d2dd96c2",
   "metadata": {},
   "source": [
    "Исходя из полученных данных видим наличие **244 дубликата**"
   ]
  },
  {
   "cell_type": "code",
   "execution_count": 14,
   "id": "e05da4cd",
   "metadata": {},
   "outputs": [
    {
     "data": {
      "text/plain": [
       "244"
      ]
     },
     "execution_count": 14,
     "metadata": {},
     "output_type": "execute_result"
    }
   ],
   "source": [
    "# Удаляем дубликаты\n",
    "df = df.drop_duplicates().reset_index(drop=True)\n",
    "df.duplicated(subset=['puid']).sum()"
   ]
  },
  {
   "cell_type": "code",
   "execution_count": 15,
   "id": "af96a748",
   "metadata": {},
   "outputs": [],
   "source": [
    "# Отсортируем всю таблицу и удалим неявные дубликаты\n",
    "df = df.sort_values(by=['puid']).drop_duplicates(subset=['puid'], keep='last', ignore_index=True)"
   ]
  },
  {
   "cell_type": "code",
   "execution_count": 16,
   "id": "f6228474",
   "metadata": {},
   "outputs": [
    {
     "data": {
      "text/plain": [
       "0"
      ]
     },
     "execution_count": 16,
     "metadata": {},
     "output_type": "execute_result"
    }
   ],
   "source": [
    "# Проверим\n",
    "df.duplicated(subset=['puid']).sum()"
   ]
  },
  {
   "cell_type": "markdown",
   "id": "c52cbd41",
   "metadata": {},
   "source": [
    "В DataFrame 8784 записи, пропусков нет\n",
    "В датафрейме 3 столбца, после того, как столбец `Unnamed: 0` заиндексировали :\n",
    "- столбец `city` с типом float64;\n",
    "- столбец `puid` с типом int64;\n",
    "- столбец `hours` с типом object\n",
    "\n",
    "Было 244 дубликата в столбце `puid`"
   ]
  },
  {
   "cell_type": "markdown",
   "id": "956e82e2",
   "metadata": {
    "id": "956e82e2"
   },
   "source": [
    "## 2. Проверка гипотезы в Python\n",
    "\n",
    "Гипотеза звучит так: пользователи из Санкт-Петербурга проводят в среднем больше времени за чтением и прослушиванием книг в приложении, чем пользователи из Москвы. Попробуйте статистически это доказать, используя одностороннюю проверку гипотезы с двумя выборками:\n",
    "\n",
    "- Нулевая гипотеза H₀: Средняя активность пользователей в часах в двух группах (Москва и Санкт-Петербург) не различается.\n",
    "\n",
    "- Альтернативная гипотеза H₁: Средняя активность пользователей в Санкт-Петербурге больше, и это различие статистически значимо."
   ]
  },
  {
   "cell_type": "markdown",
   "id": "6953e84c",
   "metadata": {
    "id": "6953e84c"
   },
   "source": [
    "## 3. Аналитическая записка\n",
    "По результатам анализа данных подготовьте аналитическую записку, в которой опишете:\n",
    "\n",
    "- Выбранный тип t-теста и уровень статистической значимости.\n",
    "\n",
    "- Результат теста, или p-value.\n",
    "\n",
    "- Вывод на основе полученного p-value, то есть интерпретацию результатов.\n",
    "\n",
    "- Одну или две возможные причины, объясняющие полученные результаты.\n",
    "\n"
   ]
  },
  {
   "cell_type": "code",
   "execution_count": 9,
   "id": "67956690",
   "metadata": {
    "id": "67956690"
   },
   "outputs": [
    {
     "data": {
      "text/plain": [
       "Москва             6110\n",
       "Санкт-Петербург    2430\n",
       "Name: city, dtype: int64"
      ]
     },
     "execution_count": 9,
     "metadata": {},
     "output_type": "execute_result"
    }
   ],
   "source": [
    "# Найдем уникальные значения по городам\n",
    "df.city.value_counts()"
   ]
  },
  {
   "cell_type": "code",
   "execution_count": 10,
   "id": "63fac55e",
   "metadata": {},
   "outputs": [
    {
     "data": {
      "image/png": "[encoded data removed]",
      "text/plain": [
       "<Figure size 504x216 with 1 Axes>"
      ]
     },
     "metadata": {
      "needs_background": "light"
     },
     "output_type": "display_data"
    }
   ],
   "source": [
    "# Создаём контейнер графика matplotlib и задаём его размер\n",
    "plt.figure(figsize=(7, 3))\n",
    "\n",
    "# Группируем данные по городам и суммируем количество часов\n",
    "city_hours = df.groupby('city')['hours'].sum()\n",
    "\n",
    "# Строим столбчатую диаграмму\n",
    "city_hours.plot(\n",
    "    kind='bar',  # Тип графика — столбчатая диаграмма\n",
    "    rot=0,  # Градус вращения подписи по оси X\n",
    "    legend=False,  # Выключаем легенду\n",
    "    title='Распределение часов в приложении по городам'\n",
    ")\n",
    "\n",
    "# Настраиваем оформление графика\n",
    "plt.xlabel('Города')\n",
    "plt.ylabel('Общее количество часов')\n",
    "\n",
    "# Выводим график\n",
    "plt.show()"
   ]
  },
  {
   "cell_type": "code",
   "execution_count": 11,
   "id": "c01eda52",
   "metadata": {},
   "outputs": [
    {
     "data": {
      "text/plain": [
       "<Figure size 504x144 with 0 Axes>"
      ]
     },
     "metadata": {},
     "output_type": "display_data"
    },
    {
     "data": {
      "image/png": "[encoded data removed]",
      "text/plain": [
       "<Figure size 432x288 with 1 Axes>"
      ]
     },
     "metadata": {
      "needs_background": "light"
     },
     "output_type": "display_data"
    }
   ],
   "source": [
    "plt.figure(figsize=(7, 2))\n",
    "\n",
    "# Строим диаграмму размаха значений в столбцах\n",
    "# Группируем данные по городам и строим boxplot для каждого города\n",
    "df.boxplot(column='hours', by='city', vert=False)\n",
    "\n",
    "# Добавляем заголовок и метки осей\n",
    "plt.title('Распределение часов в приложении по городам')\n",
    "plt.xlabel('Количество часов')\n",
    "plt.ylabel('Города')\n",
    "\n",
    "# Выводим график\n",
    "plt.show()"
   ]
  },
  {
   "cell_type": "markdown",
   "id": "5dac8941",
   "metadata": {},
   "source": [
    "По диаграмме размаха могу отметить, что выбросов небольшое количество и мной решено выполнить с помощью теста Стьюдента"
   ]
  },
  {
   "cell_type": "code",
   "execution_count": 12,
   "id": "777df859",
   "metadata": {},
   "outputs": [
    {
     "name": "stdout",
     "output_type": "stream",
     "text": [
      "p-value=0.8151395751256407 > 0.05\n",
      "Не получилось отвергнуть нулевую гипотезу: нет оснований утверждать, что среднее время активности в Санкт-Петербурге статистически значимо больше, чем в Москве.\n"
     ]
    }
   ],
   "source": [
    "# Выборка средних заказов для группы А (Москва)\n",
    "sample_a = df[df['city'] == 'Москва']['hours']\n",
    "# Выборка средних заказов для группы B (Санкт-Петербург)\n",
    "sample_b = df[df['city'] == 'Санкт-Петербург']['hours']\n",
    "\n",
    "# Проводим t-тест с правосторонней альтернативой\n",
    "test_result = ttest_ind(\n",
    "    sample_a,\n",
    "    sample_b,\n",
    "    alternative='greater'  # Проверяем, что mu_b > mu_a\n",
    ")\n",
    "\n",
    "# Фиксируем уровень значимости\n",
    "alpha = 0.05\n",
    "\n",
    "# Интерпретируем результаты теста\n",
    "if test_result.pvalue > alpha:\n",
    "    print(f'p-value={test_result.pvalue} > {alpha}')\n",
    "    print('Не получилось отвергнуть нулевую гипотезу: нет оснований утверждать, что среднее время активности в Санкт-Петербурге статистически значимо больше, чем в Москве.')\n",
    "else:\n",
    "    print(f'p-value={test_result.pvalue} < {alpha}')\n",
    "    print('Отвергаем нулевую гипотезу: среднее время активности в Санкт-Петербурге статистически значимо больше, чем в Москве.')"
   ]
  },
  {
   "cell_type": "markdown",
   "id": "ac43e6be",
   "metadata": {},
   "source": [
    "Исходя из результатов, можем сделать вывод, что нулевая гипотеза подтверждена\n",
    "\n",
    "Средняя активность пользователей в часах в двух группах (Москва и Санкт-Петербург) не различается"
   ]
  },
  {
   "cell_type": "markdown",
   "id": "a62b14ee",
   "metadata": {},
   "source": [
    "Так как исследовалась гипотеза о средних значениях из 2 выборок, использовался t-тест Стьюдента.\n",
    "\n",
    "Уровень значимости - 5%.\n",
    "\n",
    "Рассчитанный p-value - 0.82, выше уровня статистической значимости, следовательно не можем принять альтернативную гипотезу.\n",
    "\n",
    "То есть, выборочные средние в двух группах не различаются или различия не статистически значимы.\n",
    "\n",
    "Исходя из результатов, можем сделать вывод, что нулевая гипотеза подтверждена\n",
    "\n",
    "Средняя активность пользователей в часах в двух группах (Москва и Санкт-Петербург) не различается"
   ]
  },
  {
   "cell_type": "markdown",
   "id": "hc1d6jVISegz",
   "metadata": {
    "id": "hc1d6jVISegz"
   },
   "source": [
    "----"
   ]
  },
  {
   "cell_type": "markdown",
   "id": "NqOUIYhbrIfC",
   "metadata": {
    "id": "NqOUIYhbrIfC"
   },
   "source": [
    "# Часть 2. Анализ результатов A/B-тестирования"
   ]
  },
  {
   "cell_type": "markdown",
   "id": "tDwMKFNGsClr",
   "metadata": {
    "id": "tDwMKFNGsClr"
   },
   "source": [
    "Теперь вам нужно проанализировать другие данные. Представьте, что к вам обратились представители интернет-магазина BitMotion Kit, в котором продаются геймифицированные товары для тех, кто ведёт здоровый образ жизни. У него есть своя целевая аудитория, даже появились хиты продаж: эспандер со счётчиком и напоминанием, так и подстольный велотренажёр с Bluetooth.\n",
    "\n",
    "В будущем компания хочет расширить ассортимент товаров. Но перед этим нужно решить одну проблему. Интерфейс онлайн-магазина слишком сложен для пользователей — об этом говорят отзывы.\n",
    "\n",
    "Чтобы привлечь новых клиентов и увеличить число продаж, владельцы магазина разработали новую версию сайта и протестировали его на части пользователей. По задумке, это решение доказуемо повысит количество пользователей, которые совершат покупку.\n",
    "\n",
    "Ваша задача — провести оценку результатов A/B-теста. В вашем распоряжении:\n",
    "\n",
    "* данные о действиях пользователей и распределении их на группы,\n",
    "\n",
    "* техническое задание.\n",
    "\n",
    "Оцените корректность проведения теста и проанализируйте его результаты."
   ]
  },
  {
   "cell_type": "markdown",
   "id": "UNXAAyF5r9Rk",
   "metadata": {
    "id": "UNXAAyF5r9Rk"
   },
   "source": [
    "## 1. Опишите цели исследования.\n",
    "\n"
   ]
  },
  {
   "cell_type": "markdown",
   "id": "7ff6fc1e",
   "metadata": {},
   "source": [
    "**Цель исследования** заключается в том, чтобы проверить новую версию сайта , которая повысит количество пользователей, совершивших покупку"
   ]
  },
  {
   "cell_type": "markdown",
   "id": "_CZryx2OsH-s",
   "metadata": {
    "id": "_CZryx2OsH-s"
   },
   "source": [
    "## 2. Загрузите данные, оцените их целостность.\n"
   ]
  },
  {
   "cell_type": "code",
   "execution_count": 18,
   "id": "DjFcJbeGsTIg",
   "metadata": {
    "id": "DjFcJbeGsTIg"
   },
   "outputs": [],
   "source": [
    "participants = pd.read_csv('https://code.s3.yandex.net/datasets/ab_test_participants.csv')\n",
    "events = pd.read_csv('https://code.s3.yandex.net/datasets/ab_test_events.zip',\n",
    "                     parse_dates=['event_dt'], low_memory=False)"
   ]
  },
  {
   "cell_type": "code",
   "execution_count": 19,
   "id": "d891bd5e",
   "metadata": {
    "scrolled": true
   },
   "outputs": [
    {
     "name": "stdout",
     "output_type": "stream",
     "text": [
      "<class 'pandas.core.frame.DataFrame'>\n",
      "RangeIndex: 14525 entries, 0 to 14524\n",
      "Data columns (total 4 columns):\n",
      " #   Column   Non-Null Count  Dtype \n",
      "---  ------   --------------  ----- \n",
      " 0   user_id  14525 non-null  object\n",
      " 1   group    14525 non-null  object\n",
      " 2   ab_test  14525 non-null  object\n",
      " 3   device   14525 non-null  object\n",
      "dtypes: object(4)\n",
      "memory usage: 454.0+ KB\n"
     ]
    }
   ],
   "source": [
    "# Выводим информацию о датафрейме participants\n",
    "participants.info()"
   ]
  },
  {
   "cell_type": "markdown",
   "id": "c9ff2294",
   "metadata": {},
   "source": [
    "Пропусков нет, можем работать дальше"
   ]
  },
  {
   "cell_type": "code",
   "execution_count": 20,
   "id": "363037dc",
   "metadata": {},
   "outputs": [
    {
     "name": "stdout",
     "output_type": "stream",
     "text": [
      "<class 'pandas.core.frame.DataFrame'>\n",
      "RangeIndex: 787286 entries, 0 to 787285\n",
      "Data columns (total 4 columns):\n",
      " #   Column      Non-Null Count   Dtype         \n",
      "---  ------      --------------   -----         \n",
      " 0   user_id     787286 non-null  object        \n",
      " 1   event_dt    787286 non-null  datetime64[ns]\n",
      " 2   event_name  787286 non-null  object        \n",
      " 3   details     249022 non-null  object        \n",
      "dtypes: datetime64[ns](1), object(3)\n",
      "memory usage: 24.0+ MB\n"
     ]
    }
   ],
   "source": [
    "# Выводим информацию о датафрейме events\n",
    "events.info()"
   ]
  },
  {
   "cell_type": "markdown",
   "id": "bea8cad7",
   "metadata": {},
   "source": [
    "Видим, что есть пропуски в столбце `details`, а именно 538264 пропуска, что составляет 68% от значений в данном столбце"
   ]
  },
  {
   "cell_type": "code",
   "execution_count": 21,
   "id": "0de1f290",
   "metadata": {},
   "outputs": [
    {
     "data": {
      "text/html": [
       "<div>\n",
       "<style scoped>\n",
       "    .dataframe tbody tr th:only-of-type {\n",
       "        vertical-align: middle;\n",
       "    }\n",
       "\n",
       "    .dataframe tbody tr th {\n",
       "        vertical-align: top;\n",
       "    }\n",
       "\n",
       "    .dataframe thead th {\n",
       "        text-align: right;\n",
       "    }\n",
       "</style>\n",
       "<table border=\"1\" class=\"dataframe\">\n",
       "  <thead>\n",
       "    <tr style=\"text-align: right;\">\n",
       "      <th></th>\n",
       "      <th>user_id</th>\n",
       "      <th>group</th>\n",
       "      <th>ab_test</th>\n",
       "      <th>device</th>\n",
       "    </tr>\n",
       "  </thead>\n",
       "  <tbody>\n",
       "    <tr>\n",
       "      <th>0</th>\n",
       "      <td>0002CE61FF2C4011</td>\n",
       "      <td>B</td>\n",
       "      <td>interface_eu_test</td>\n",
       "      <td>Mac</td>\n",
       "    </tr>\n",
       "    <tr>\n",
       "      <th>1</th>\n",
       "      <td>001064FEAAB631A1</td>\n",
       "      <td>B</td>\n",
       "      <td>recommender_system_test</td>\n",
       "      <td>Android</td>\n",
       "    </tr>\n",
       "    <tr>\n",
       "      <th>2</th>\n",
       "      <td>001064FEAAB631A1</td>\n",
       "      <td>A</td>\n",
       "      <td>interface_eu_test</td>\n",
       "      <td>Android</td>\n",
       "    </tr>\n",
       "    <tr>\n",
       "      <th>3</th>\n",
       "      <td>0010A1C096941592</td>\n",
       "      <td>A</td>\n",
       "      <td>recommender_system_test</td>\n",
       "      <td>Android</td>\n",
       "    </tr>\n",
       "    <tr>\n",
       "      <th>4</th>\n",
       "      <td>001E72F50D1C48FA</td>\n",
       "      <td>A</td>\n",
       "      <td>interface_eu_test</td>\n",
       "      <td>Mac</td>\n",
       "    </tr>\n",
       "  </tbody>\n",
       "</table>\n",
       "</div>"
      ],
      "text/plain": [
       "            user_id group                  ab_test   device\n",
       "0  0002CE61FF2C4011     B        interface_eu_test      Mac\n",
       "1  001064FEAAB631A1     B  recommender_system_test  Android\n",
       "2  001064FEAAB631A1     A        interface_eu_test  Android\n",
       "3  0010A1C096941592     A  recommender_system_test  Android\n",
       "4  001E72F50D1C48FA     A        interface_eu_test      Mac"
      ]
     },
     "execution_count": 21,
     "metadata": {},
     "output_type": "execute_result"
    }
   ],
   "source": [
    "# Выводим первые строки датафрейма participants на экран\n",
    "participants.head()"
   ]
  },
  {
   "cell_type": "code",
   "execution_count": 22,
   "id": "e8aac900",
   "metadata": {},
   "outputs": [
    {
     "data": {
      "text/html": [
       "<div>\n",
       "<style scoped>\n",
       "    .dataframe tbody tr th:only-of-type {\n",
       "        vertical-align: middle;\n",
       "    }\n",
       "\n",
       "    .dataframe tbody tr th {\n",
       "        vertical-align: top;\n",
       "    }\n",
       "\n",
       "    .dataframe thead th {\n",
       "        text-align: right;\n",
       "    }\n",
       "</style>\n",
       "<table border=\"1\" class=\"dataframe\">\n",
       "  <thead>\n",
       "    <tr style=\"text-align: right;\">\n",
       "      <th></th>\n",
       "      <th>user_id</th>\n",
       "      <th>group</th>\n",
       "      <th>ab_test</th>\n",
       "      <th>device</th>\n",
       "    </tr>\n",
       "  </thead>\n",
       "  <tbody>\n",
       "    <tr>\n",
       "      <th>0</th>\n",
       "      <td>0002CE61FF2C4011</td>\n",
       "      <td>B</td>\n",
       "      <td>interface_eu_test</td>\n",
       "      <td>Mac</td>\n",
       "    </tr>\n",
       "    <tr>\n",
       "      <th>1</th>\n",
       "      <td>001064FEAAB631A1</td>\n",
       "      <td>B</td>\n",
       "      <td>recommender_system_test</td>\n",
       "      <td>Android</td>\n",
       "    </tr>\n",
       "    <tr>\n",
       "      <th>2</th>\n",
       "      <td>001064FEAAB631A1</td>\n",
       "      <td>A</td>\n",
       "      <td>interface_eu_test</td>\n",
       "      <td>Android</td>\n",
       "    </tr>\n",
       "    <tr>\n",
       "      <th>3</th>\n",
       "      <td>0010A1C096941592</td>\n",
       "      <td>A</td>\n",
       "      <td>recommender_system_test</td>\n",
       "      <td>Android</td>\n",
       "    </tr>\n",
       "    <tr>\n",
       "      <th>4</th>\n",
       "      <td>001E72F50D1C48FA</td>\n",
       "      <td>A</td>\n",
       "      <td>interface_eu_test</td>\n",
       "      <td>Mac</td>\n",
       "    </tr>\n",
       "    <tr>\n",
       "      <th>...</th>\n",
       "      <td>...</td>\n",
       "      <td>...</td>\n",
       "      <td>...</td>\n",
       "      <td>...</td>\n",
       "    </tr>\n",
       "    <tr>\n",
       "      <th>14520</th>\n",
       "      <td>FFE7FC140521F5F6</td>\n",
       "      <td>A</td>\n",
       "      <td>interface_eu_test</td>\n",
       "      <td>PC</td>\n",
       "    </tr>\n",
       "    <tr>\n",
       "      <th>14521</th>\n",
       "      <td>FFEFC0E55C1CCD4F</td>\n",
       "      <td>A</td>\n",
       "      <td>interface_eu_test</td>\n",
       "      <td>PC</td>\n",
       "    </tr>\n",
       "    <tr>\n",
       "      <th>14522</th>\n",
       "      <td>FFF28D02B1EACBE1</td>\n",
       "      <td>B</td>\n",
       "      <td>recommender_system_test</td>\n",
       "      <td>PC</td>\n",
       "    </tr>\n",
       "    <tr>\n",
       "      <th>14523</th>\n",
       "      <td>FFF28D02B1EACBE1</td>\n",
       "      <td>B</td>\n",
       "      <td>interface_eu_test</td>\n",
       "      <td>PC</td>\n",
       "    </tr>\n",
       "    <tr>\n",
       "      <th>14524</th>\n",
       "      <td>FFF58BC33966EB51</td>\n",
       "      <td>A</td>\n",
       "      <td>interface_eu_test</td>\n",
       "      <td>Android</td>\n",
       "    </tr>\n",
       "  </tbody>\n",
       "</table>\n",
       "<p>14525 rows × 4 columns</p>\n",
       "</div>"
      ],
      "text/plain": [
       "                user_id group                  ab_test   device\n",
       "0      0002CE61FF2C4011     B        interface_eu_test      Mac\n",
       "1      001064FEAAB631A1     B  recommender_system_test  Android\n",
       "2      001064FEAAB631A1     A        interface_eu_test  Android\n",
       "3      0010A1C096941592     A  recommender_system_test  Android\n",
       "4      001E72F50D1C48FA     A        interface_eu_test      Mac\n",
       "...                 ...   ...                      ...      ...\n",
       "14520  FFE7FC140521F5F6     A        interface_eu_test       PC\n",
       "14521  FFEFC0E55C1CCD4F     A        interface_eu_test       PC\n",
       "14522  FFF28D02B1EACBE1     B  recommender_system_test       PC\n",
       "14523  FFF28D02B1EACBE1     B        interface_eu_test       PC\n",
       "14524  FFF58BC33966EB51     A        interface_eu_test  Android\n",
       "\n",
       "[14525 rows x 4 columns]"
      ]
     },
     "metadata": {},
     "output_type": "display_data"
    }
   ],
   "source": [
    "# Просмотрим данные в датафрейме events\n",
    "display(participants)"
   ]
  },
  {
   "cell_type": "code",
   "execution_count": 23,
   "id": "6c9237b8",
   "metadata": {
    "scrolled": true
   },
   "outputs": [
    {
     "data": {
      "text/html": [
       "<div>\n",
       "<style scoped>\n",
       "    .dataframe tbody tr th:only-of-type {\n",
       "        vertical-align: middle;\n",
       "    }\n",
       "\n",
       "    .dataframe tbody tr th {\n",
       "        vertical-align: top;\n",
       "    }\n",
       "\n",
       "    .dataframe thead th {\n",
       "        text-align: right;\n",
       "    }\n",
       "</style>\n",
       "<table border=\"1\" class=\"dataframe\">\n",
       "  <thead>\n",
       "    <tr style=\"text-align: right;\">\n",
       "      <th></th>\n",
       "      <th>user_id</th>\n",
       "      <th>event_dt</th>\n",
       "      <th>event_name</th>\n",
       "      <th>details</th>\n",
       "    </tr>\n",
       "  </thead>\n",
       "  <tbody>\n",
       "    <tr>\n",
       "      <th>0</th>\n",
       "      <td>GLOBAL</td>\n",
       "      <td>2020-12-01 00:00:00</td>\n",
       "      <td>End of Black Friday Ads Campaign</td>\n",
       "      <td>ZONE_CODE15</td>\n",
       "    </tr>\n",
       "    <tr>\n",
       "      <th>1</th>\n",
       "      <td>CCBE9E7E99F94A08</td>\n",
       "      <td>2020-12-01 00:00:11</td>\n",
       "      <td>registration</td>\n",
       "      <td>0.0</td>\n",
       "    </tr>\n",
       "    <tr>\n",
       "      <th>2</th>\n",
       "      <td>GLOBAL</td>\n",
       "      <td>2020-12-01 00:00:25</td>\n",
       "      <td>product_page</td>\n",
       "      <td>NaN</td>\n",
       "    </tr>\n",
       "    <tr>\n",
       "      <th>3</th>\n",
       "      <td>CCBE9E7E99F94A08</td>\n",
       "      <td>2020-12-01 00:00:33</td>\n",
       "      <td>login</td>\n",
       "      <td>NaN</td>\n",
       "    </tr>\n",
       "    <tr>\n",
       "      <th>4</th>\n",
       "      <td>CCBE9E7E99F94A08</td>\n",
       "      <td>2020-12-01 00:00:52</td>\n",
       "      <td>product_page</td>\n",
       "      <td>NaN</td>\n",
       "    </tr>\n",
       "  </tbody>\n",
       "</table>\n",
       "</div>"
      ],
      "text/plain": [
       "            user_id            event_dt                        event_name  \\\n",
       "0            GLOBAL 2020-12-01 00:00:00  End of Black Friday Ads Campaign   \n",
       "1  CCBE9E7E99F94A08 2020-12-01 00:00:11                      registration   \n",
       "2            GLOBAL 2020-12-01 00:00:25                      product_page   \n",
       "3  CCBE9E7E99F94A08 2020-12-01 00:00:33                             login   \n",
       "4  CCBE9E7E99F94A08 2020-12-01 00:00:52                      product_page   \n",
       "\n",
       "       details  \n",
       "0  ZONE_CODE15  \n",
       "1          0.0  \n",
       "2          NaN  \n",
       "3          NaN  \n",
       "4          NaN  "
      ]
     },
     "execution_count": 23,
     "metadata": {},
     "output_type": "execute_result"
    }
   ],
   "source": [
    "# Выводим первые строки датафрейма events на экран\n",
    "events.head()"
   ]
  },
  {
   "cell_type": "code",
   "execution_count": 24,
   "id": "c0e2fb96",
   "metadata": {},
   "outputs": [
    {
     "data": {
      "text/html": [
       "<div>\n",
       "<style scoped>\n",
       "    .dataframe tbody tr th:only-of-type {\n",
       "        vertical-align: middle;\n",
       "    }\n",
       "\n",
       "    .dataframe tbody tr th {\n",
       "        vertical-align: top;\n",
       "    }\n",
       "\n",
       "    .dataframe thead th {\n",
       "        text-align: right;\n",
       "    }\n",
       "</style>\n",
       "<table border=\"1\" class=\"dataframe\">\n",
       "  <thead>\n",
       "    <tr style=\"text-align: right;\">\n",
       "      <th></th>\n",
       "      <th>user_id</th>\n",
       "      <th>event_dt</th>\n",
       "      <th>event_name</th>\n",
       "      <th>details</th>\n",
       "    </tr>\n",
       "  </thead>\n",
       "  <tbody>\n",
       "    <tr>\n",
       "      <th>0</th>\n",
       "      <td>GLOBAL</td>\n",
       "      <td>2020-12-01 00:00:00</td>\n",
       "      <td>End of Black Friday Ads Campaign</td>\n",
       "      <td>ZONE_CODE15</td>\n",
       "    </tr>\n",
       "    <tr>\n",
       "      <th>1</th>\n",
       "      <td>CCBE9E7E99F94A08</td>\n",
       "      <td>2020-12-01 00:00:11</td>\n",
       "      <td>registration</td>\n",
       "      <td>0.0</td>\n",
       "    </tr>\n",
       "    <tr>\n",
       "      <th>2</th>\n",
       "      <td>GLOBAL</td>\n",
       "      <td>2020-12-01 00:00:25</td>\n",
       "      <td>product_page</td>\n",
       "      <td>NaN</td>\n",
       "    </tr>\n",
       "    <tr>\n",
       "      <th>3</th>\n",
       "      <td>CCBE9E7E99F94A08</td>\n",
       "      <td>2020-12-01 00:00:33</td>\n",
       "      <td>login</td>\n",
       "      <td>NaN</td>\n",
       "    </tr>\n",
       "    <tr>\n",
       "      <th>4</th>\n",
       "      <td>CCBE9E7E99F94A08</td>\n",
       "      <td>2020-12-01 00:00:52</td>\n",
       "      <td>product_page</td>\n",
       "      <td>NaN</td>\n",
       "    </tr>\n",
       "    <tr>\n",
       "      <th>...</th>\n",
       "      <td>...</td>\n",
       "      <td>...</td>\n",
       "      <td>...</td>\n",
       "      <td>...</td>\n",
       "    </tr>\n",
       "    <tr>\n",
       "      <th>787281</th>\n",
       "      <td>1A655C280B064708</td>\n",
       "      <td>2020-12-31 23:57:44</td>\n",
       "      <td>product_page</td>\n",
       "      <td>NaN</td>\n",
       "    </tr>\n",
       "    <tr>\n",
       "      <th>787282</th>\n",
       "      <td>B77B2F4BCA134618</td>\n",
       "      <td>2020-12-31 23:58:23</td>\n",
       "      <td>registration</td>\n",
       "      <td>0.0</td>\n",
       "    </tr>\n",
       "    <tr>\n",
       "      <th>787283</th>\n",
       "      <td>GLOBAL</td>\n",
       "      <td>2020-12-31 23:58:30</td>\n",
       "      <td>product_cart</td>\n",
       "      <td>NaN</td>\n",
       "    </tr>\n",
       "    <tr>\n",
       "      <th>787284</th>\n",
       "      <td>B12AD1623E494FAD</td>\n",
       "      <td>2020-12-31 23:58:34</td>\n",
       "      <td>registration</td>\n",
       "      <td>-6.52</td>\n",
       "    </tr>\n",
       "    <tr>\n",
       "      <th>787285</th>\n",
       "      <td>5456977474344433</td>\n",
       "      <td>2020-12-31 23:59:48</td>\n",
       "      <td>registration</td>\n",
       "      <td>-3.67</td>\n",
       "    </tr>\n",
       "  </tbody>\n",
       "</table>\n",
       "<p>787286 rows × 4 columns</p>\n",
       "</div>"
      ],
      "text/plain": [
       "                 user_id            event_dt  \\\n",
       "0                 GLOBAL 2020-12-01 00:00:00   \n",
       "1       CCBE9E7E99F94A08 2020-12-01 00:00:11   \n",
       "2                 GLOBAL 2020-12-01 00:00:25   \n",
       "3       CCBE9E7E99F94A08 2020-12-01 00:00:33   \n",
       "4       CCBE9E7E99F94A08 2020-12-01 00:00:52   \n",
       "...                  ...                 ...   \n",
       "787281  1A655C280B064708 2020-12-31 23:57:44   \n",
       "787282  B77B2F4BCA134618 2020-12-31 23:58:23   \n",
       "787283            GLOBAL 2020-12-31 23:58:30   \n",
       "787284  B12AD1623E494FAD 2020-12-31 23:58:34   \n",
       "787285  5456977474344433 2020-12-31 23:59:48   \n",
       "\n",
       "                              event_name      details  \n",
       "0       End of Black Friday Ads Campaign  ZONE_CODE15  \n",
       "1                           registration          0.0  \n",
       "2                           product_page          NaN  \n",
       "3                                  login          NaN  \n",
       "4                           product_page          NaN  \n",
       "...                                  ...          ...  \n",
       "787281                      product_page          NaN  \n",
       "787282                      registration          0.0  \n",
       "787283                      product_cart          NaN  \n",
       "787284                      registration        -6.52  \n",
       "787285                      registration        -3.67  \n",
       "\n",
       "[787286 rows x 4 columns]"
      ]
     },
     "metadata": {},
     "output_type": "display_data"
    }
   ],
   "source": [
    "# Просмотрим данные в датафрейме events\n",
    "display(events)"
   ]
  },
  {
   "cell_type": "code",
   "execution_count": 25,
   "id": "09a72d8e",
   "metadata": {},
   "outputs": [
    {
     "data": {
      "text/plain": [
       "0"
      ]
     },
     "execution_count": 25,
     "metadata": {},
     "output_type": "execute_result"
    }
   ],
   "source": [
    "# Проверяем на дубликаты датафрейм participants\n",
    "participants.duplicated().sum()"
   ]
  },
  {
   "cell_type": "code",
   "execution_count": 26,
   "id": "010235fe",
   "metadata": {},
   "outputs": [
    {
     "data": {
      "text/plain": [
       "36318"
      ]
     },
     "execution_count": 26,
     "metadata": {},
     "output_type": "execute_result"
    }
   ],
   "source": [
    "# Проверяем на дубликаты датафрейм events\n",
    "events.duplicated().sum()"
   ]
  },
  {
   "cell_type": "code",
   "execution_count": 27,
   "id": "868b62eb",
   "metadata": {},
   "outputs": [
    {
     "data": {
      "text/plain": [
       "0"
      ]
     },
     "execution_count": 27,
     "metadata": {},
     "output_type": "execute_result"
    }
   ],
   "source": [
    "# Удалим дубликаты\n",
    "events = events.drop_duplicates().reset_index(drop=True)\n",
    "events.duplicated().sum()"
   ]
  },
  {
   "cell_type": "markdown",
   "id": "CnzA-efasUrk",
   "metadata": {
    "id": "CnzA-efasUrk"
   },
   "source": [
    "## 3. По таблице `ab_test_participants` оцените корректность проведения теста:\n",
    "\n",
    "   3\\.1 Выделите пользователей, участвующих в тесте, и проверьте:\n",
    "\n",
    "   - соответствие требованиям технического задания,\n",
    "\n",
    "   - равномерность распределения пользователей по группам теста,\n",
    "\n",
    "   - отсутствие пересечений с конкурирующим тестом (нет пользователей, участвующих одновременно в двух тестовых группах)."
   ]
  },
  {
   "cell_type": "code",
   "execution_count": 28,
   "id": "aNa3zHrKslEN",
   "metadata": {
    "id": "aNa3zHrKslEN"
   },
   "outputs": [
    {
     "data": {
      "text/plain": [
       "ab_test                  group\n",
       "interface_eu_test        A        5383\n",
       "                         B        5467\n",
       "recommender_system_test  A        2747\n",
       "                         B         928\n",
       "dtype: int64"
      ]
     },
     "metadata": {},
     "output_type": "display_data"
    },
    {
     "data": {
      "text/plain": [
       "Android    6484\n",
       "PC         3717\n",
       "iPhone     2858\n",
       "Mac        1466\n",
       "Name: device, dtype: int64"
      ]
     },
     "metadata": {},
     "output_type": "display_data"
    }
   ],
   "source": [
    "# Рассчитаем количество пользователей в каждой группе и тесте\n",
    "display(participants.groupby(['ab_test', 'group']).size())\n",
    "\n",
    "# Рассчитаем распределение по устройствам\n",
    "display(participants['device'].value_counts())"
   ]
  },
  {
   "cell_type": "code",
   "execution_count": 24,
   "id": "949fe4a5",
   "metadata": {},
   "outputs": [
    {
     "data": {
      "text/plain": [
       "(10850, 3675)"
      ]
     },
     "execution_count": 24,
     "metadata": {},
     "output_type": "execute_result"
    }
   ],
   "source": [
    "# Посчитаем количество уникальных пользователей\n",
    "\n",
    "participants[participants['ab_test'] == 'interface_eu_test']['user_id'].nunique(), participants[participants['ab_test'] == 'recommender_system_test']['user_id'].nunique()"
   ]
  },
  {
   "cell_type": "code",
   "execution_count": 25,
   "id": "b966edf7",
   "metadata": {},
   "outputs": [
    {
     "name": "stdout",
     "output_type": "stream",
     "text": [
      "['94464DF2E5398E26', '65F225074FEC2C03', 'C33D8C1C81C7AA23', '6610064A4B2303D1', '4CCE583A34A8362C', 'FBF31896CD930197', 'EB215155BA578253', '902F92052587344F', '59D9BD2A3172D3F4', '3A6D88AB973BD99D', '9E0A3633886C080E', '573EF5CB449265BE', 'F7BAFF2E0A04F11B', 'DA2880E43566AF12', '2AE10F8C21B66E8E', 'DA4D24731C8CCEB8', 'E68B2613255FA585', 'CCAF138D12385DF2', '6ED57949BDA6D94E', 'B7DBE079E5AB148E', 'EC998D82E096033B', 'AA5A1803D3FA76B4', '49C45D71BDCE2F69', 'EC9E9E250559033B', 'F1B93BAE75EE0FB2', '84C13EFBE76DF52F', '1E8855206E49EFF8', '65A30CEC01FAB999', 'E3481D64A20DA394', 'FE8F9858BBE502D9', '48BEDF1889241425', '38189578561F38CB', '9266418A9D2FA813', '3F52D53AB33C9FD6', 'E0EEE04D9FDB4931', 'D18A013DBEEB0951', 'C6C4C814B7B202E7', 'E7F87F9FBA3269B1', '75654D851F8C8F59', 'C5AD06762E628169', '23E633E92EDCD195', '2FCC63EB9CB798BF', '1073D7DFF1BBE8BB', 'C8BDDF5639850737', 'B150C94FFD64D8B0', 'C89E24F4C723CEF4', 'CD77B10F620BEABA', 'A3BEB02A027BA3C4', '4F37FAAD74FB679C', 'B60B4563ADC259E3', '894A2506B3A50D03', '29FB97985AB0E005', '4E43940B0CF8D947', 'FABB6D49B11E673F', 'CBDA858CF7EEE1E0', 'EE9E527A761299B2', '4DAD6F609E7D7328', 'EF2E4FAF26951358', '0EA9AB1C2A159C77', '4409E20FCD07CD14', 'F424816C207F768D', 'A847CBD3730F6D41', 'C1760622B65C9B84', '091AC977394578DA', '4D269D6E438C6D22', '7E4B0D11D179F4EC', '9868DEF9E0B7E2C4', 'A71444B5BEB5CCC4', 'AA0D36EF3DBFCC9F', '0BC7C730D40D19D3', 'B06B45B7C3E5E721', 'C74B6E95352ADE79', '0EF9EA17D205AB66', '65678C4C3E6AF563', '80055F949A01DDAD', '6E3E5F88B6A3B401', '98D45D3A9D7E3911', '3D264F3D953DBA67', 'C1E43A9B1D675927', 'CF849D6380A28CA9', 'EF6DBFA129654B41', 'FA86D8DFAD3ADADE', 'A5B5775B0C7D0309', 'E40FA02A8A53F693', 'E1EA339E17C0D568', '993BDE69A0DE0391', '24BE89E87E2368BF', 'B2716998187D5D74', 'E77F99BCF9D8AB96', '37F7B4F29C5F6396', '8C0E932FB144D00F', '19302754B5457163', 'EAD7AC780F0CB611', 'C7D588F1ABF3A91B', '729F6099B1B31935', '4122B8F30EB2271C', '75AC3DC6E14554D0', 'C72752E18AD12854', '4F26C1C82B9EA0B5', '8285135A01FF5488', '2F28A3B279E5494A', '4949578BF1954CF5', '303063C7A89A39CA', 'D9BAC4C97F9C107F', '14D84579BCBAD800', 'A791C2D62B213C96', 'EA8341F38EFFE04C', 'DF40EF85F55A958D', '7F2C298110AA73B4', '944C88D5DF108AED', '507ADD5337970C14', '0E6F91028486376D', '8611C1CA3986E553', 'E85E1F634E368569', '11C52432A6F7FA6B', '1D0FCBD767EE0874', '14AEC962812EB706', 'FAA7192A42F9F8DA', '2ED365A23D725DB0', '7CEFBD3C6ABEF91A', '803230F1D8216380', '147C62E5B82E2EA9', '8FFA1D6F89AAEA40', 'AA364AF6A253170F', '2170CB76798D36EE', '3AA908B2D4A96AC2', '16BE66466549CD42', '0980BF24051C806A', '6DFDC639B8B85EF7', 'F03F667009F16326', '27802765D2458B2B', 'D2A9C2B69B9F4574', '3D960D56A0E4E0C7', '963B1853B52C27E5', '8FF8F87305BB9A7D', '340D9C518D3CBB8D', 'A8294E42CCC07445', 'C2E79843ED511E13', 'DC4E5D8BD6ABF9BC', 'FF2174A1AA0EAD20', '7FF05ACE1602142C', 'F19288FFDF6014FE', '0CA93D3A4A1D8389', 'DF7F485FA44A60AF', '0FBF679EA1340786', '3FD750E6566CE5E3', '60A6101325BBA47E', '2CDFC246EAEEAB13', '748DD5E33B6F98C3', '0F13D8C2809AD613', '3FC3BE7BAA35F33F', 'BE0FDC8CC0D5455D', '74285DE881A72F4C', '3A5B11DD76C2CA65', '73CE2DE1253D58B4', 'D0562837FBB58AC5', 'A7957CDA89BDE94F', 'D8DA1D568FCF46ED', '9A8CD4B32D7511F1', '3B4FF434FA8193B6', '538F954F6B3AECE4', 'E6FE73B8B903B31B', 'F33A89BD00CFDDF3', 'F507CB8030C885FB', 'FEC0BCA6C323872F', '307C06C0E6F09B93', 'F69BC50D9CC2A47B', 'DD4731E5B4C9C4EB', 'C5AE17CBD0B33628', '0ACD764342811460', '4CCFDC7BE9B6FE73', '6B0B075EA63618BE', '71A21F6C17C665C6', 'FFF28D02B1EACBE1', 'E0272BC86CC88DC7', '44EB15AD423DC31C', '41FA2525E7869F35', 'B06BF284879EED23', '2A12B7DB3C6E84D6', 'A8C1429C2249A1C3', '4C3B9B6D59E98D59', '14E7C76B7AB8822A', '83E9CFC64D61108E', 'C3666DF0F2EE66A9', 'CDED0FACF20CA716', '5AD2A85FFA7D7EBE', '0DB417842D3B79A2', '7BC59B90C9447C42', '3BDE2B9FBC14F7A4', '891458DEF142C0A3', 'D1DFCE26FF3C713F', 'A383BFC91C909D0E', 'E253DCB9EC1C014E', 'B3AEC82CC231D137', 'CA9D3DEA00836355', '947658F983871E74', 'F97D8746923ABA37', '886E52074D084B18', '00EFA157F7B6E1C4', '0C2E77C6A381704A', '468A90E95D36CADB', 'F195464E8F2E0267', '020A95B66F363AFB', '2BDC4DBEBBA058B6', '7A4A6B4CC6FDB0FF', '505555B3CCA490C8', '7E26530508267F69', '557A3001E88A209B', 'F0A1C31A7211AC16', 'E68002AA33773AD5', 'ED7297A4D3BFA953', '16F2DB656CC2F952', '3279592816F7F6D2', '79656F14758D76BA', 'DAD6760631314417', 'D7A2C421522E93A4', '739656E0D7B50B30', 'CBDE46A45FD5E6A4', 'FB6F6BC119E1DBD5', '0B0D84A866817D84', '9C1EFF68BC2F16F3', 'BE3C02D74A664180', '5650B53B91DC98BB', '0C2FF828F063B7AD', '01B9975CAE144B78', '24553DD3FF973EE4', '4B45602B7DC37B62', '3F6CAEC76651E5AC', '12AD54E437AB3BF5', '24D3AAA91EFD597F', '25CE0629AC6B6971', '5B4EFE916AD19741', '055A4CD17A483B8E', '9FC882129DBDE625', 'FA8706D1E274805E', 'D17646F57096613B', 'DA7D4CF1CBBADE49', '102613D89170C020', '5392D9E8F58D9E5F', '2CA426D092054330', '3D1A366EDDC82832', 'EDDF1CA5A0EB8586', 'CC705D51C74418AD', 'F5BB0B36AA8DC1D4', '84DC74ED5E60BA6A', 'FB158B12F907E8FB', 'B42748BA986E4163', 'D0CD9015FE1504CB', '23F10CDFF7372B06', '2B06EB547B7AAD08', 'A731AAAEA9F5C533', 'ACDCFF5D6EEDBEAC', 'ED61DF6AA1B81F5B', 'EE8401B631ED63CE', '814DF3DA9DD71B8A', 'FCF70F6E1871BD78', '69B106F098CB640E', 'B0244412983000C5', 'C04E36E535A6F740', '5DECF6D0ECE58DF6', '06D9C758220CBB01', '8C69C35FB5E142F8', '64D39595B31D9ECE', 'C226A7A3002ED8BE', '001064FEAAB631A1', '686549722B54A3E1', 'A8C57C0D4118F4D7', 'B8AC521CB28510E7', '975744C6B0C12D72', 'D2D8E67B7D0DE2D2', '823BE193CDC32ADF', 'A8533224E9384B16', 'E0DF3060D454B5AF', '46999A8B46BC31A1', '71D1FF7218FB3F1E', '7C91912332353320', '207E61D6D4F44D97', '79DF9D6EDC7A58CE', 'BD23AF6242CA944B', 'B3059CB4FD2DE0FA', '4B49F8A4F8D891BE', 'C4D48357F1C18C76', '21C2D41E1FDF1E70', 'F38941283A36C34B', '115ABCFDBDDB5950', 'E14805CD622EA211', '6E8A538DFED17F64', '5B1F39B5D751B669', 'D1BB2F57BCD02BAE', '66821339106C8891', '84AAB026310D49C4', '19AC976D25997BE9', 'A7EE379599B38AE0', '08589AA89496453B', '96070D0B8FD4C5BF', 'B242B046BC32ADDA', '8FF91E21E27A330D', '85D9DB7B0BC24D2A', 'A2212CF79158D340', '98720595D29108E9', 'BBFD227B06D480C6', 'CD668979C54E22F7', '0FF10274AC68852A', '535DC74493925CF8', '2DC0C9E9D89D2352', 'A2DB18F90D9E3362', 'BF6D4EF4B54B3E94', 'D5DD44281759F7C8', '4FE90CB247C78EC5', '7060BB1CBE3BAACC', '02313B9E82255F47', 'B7229F43B32B5593', '9431D6C9475CFD3A', '8C711C385D747C84', '5438D422A6A53E0E', '0D6F5E157A56FB00', '544EE0E8D5E36FDA', 'C27F677720E68EA4', '4664BF4717549775', '788C61EDBDD38346', 'DE078758B0515023', '0D77D907C24CDAC1', 'A4312FFD172A4998', '64D18CAEAEE6150A', '701B5B6292603C20', 'F13CC3EF6739F4C0', 'AFFC4117AC279D49', 'E7CC63BF20618321', 'E3BEB139D0839F91', 'E1259EA0AC254490', '187343735EC71686', '2BEDCA2DF5D4679F', '68B3C70F0C0B4550', 'EF449601C94D2496', '52EC082510DA513B', '6C2C087CEF08A20E', '3BB8C637AE50D857', 'DF0A6D48CBB3969F', 'D737563A454A419E', '0F2729666CE8EF33', '7AFFAFC4121EB5B2', '91E39AA34D6D1173', '25826F4FE6832AF1', 'C670F0DE6C790F3C', '61D3434CE0D95AB7', 'E594B711ADD81DD8', 'A3EC85E750F2AFC6', '635CA54AA6058DAE', '133F64DC5E24F047', '5D5E6EE92AF6E9E0', 'CD650095FD201699', 'E32D4C0315D6BFBE', 'BC4A722DBC9D0784', '1190EEE1FA160468', '526BA4A669CC6CC2', '067D05BD30F04F2E', 'C21237DC47AE00C5', 'F34D48681A35BD3B', '36EDA624DB7B7F90', '9CBD8387C8A1DDDF', '21E6AD81A122B126', 'DF9C2411ADA62C66', '2828E6688DC580C4', '4A55475E078F40DC', '04C4D0F1A70300A5', 'A412E4B7C71C0D94', '8E52B17EF9DCA68B', '0EBE4BDE16D19DC0', '48CFE37563932DC2', 'EB87A4B3C0008AFB', '770B5C9E0E546E44', 'B997F98ED3AA6104', '61572514C5A56E3F', 'AAE1914BDB419328', '2EC08F2084FF3438', '502902B3C32C72FF', '41C7928F2ED27E66', '6DF6E1615D629BA8', '79913E8816E3DA5D', '412F5C9F04EE8F69', 'FE82D7FC50D4155B', 'ADFE9F163DEA2EAE', '4408C615880185FB', '8E2FDE8953DB6A48', '02894A55BC14A70E', 'BD5317D49443EA5E', 'C389958204955C98', '3B62EE83708770A5', 'E2E336528AB6202A', '107D9F8613EBF2AA', '1382E5D05428EBCD', '10C2A2FB00BD9AE2', '68373F4331DDD2E6', 'BA9906DF9975512E', 'D0ECAB9DA4FE2E00', 'D1D7C0CCE823D871', 'EFE533D29119526E', '9A5549A4A85FCF06', 'E8BBE017F65D7CEA', 'C7D1A5A6F6BAD476', 'B27B9689064C54C4', 'C8460FF8BEF553A4', 'AE49EDDFB9DABE03', 'D235BA1BB8DECBE9', '1353B1C2F6E6AA4E', '8F72F2114F2D5184', '0EE3092A08562765', '8F98834C531143DA', '3C46C1264F52F92C', 'EEFDF8577ED817C0', '23F551153080EBAB', '81AA83FBC31B6C0B', 'C41BBCA9DACE544D', 'EF058AAD0A56A298', '4566C623449592A7', 'DC24142B23D9FEDD', '5EF0009854428FB8', '1C7C7C34158EB086', '5D0240D20EA50D8C', '52667DF0F366C919', '21AEB217BA764EAB', 'DD4352CDCF8C3D57', '0D7E9E93CD497547', '037C3790C2C408BA', 'CE48F47093B03425', 'E3048C1D75193226', '1675B921AC721DBE', 'C615792E479BC0C8', '0082295A41A867B5', '00E68F103C66C1F7', '9D06341739D723D5', '262C647D99621FF5', '5813B74E3ED6094E', '802AE3764E188FC6', '75013CAAF42E90A9', 'A3D5BA3E276CD84C', 'AF987F436A7EBD21', 'B931BC5D6FE1416C', '96BDD55846D1F7F6', '10863662C3B5AB49', '20285349F62230E9', '4A61A28F35795FD1', '2CBFC548B33C0259', 'ABFF0B9BAD11BB5D', 'A4F18DF9C484EDC0', '06D2B163CB560FAC', '50CF32FEE0C61DA9', 'F85FD73AAF991283', 'B817F0C0928EDB27', '96749D41A2185B46', 'A1C3D3C6C3CADDC5', '7B5B4C6306A09430', '9270DB42112E3B14', '649CE5D5A38BFA8B', '8A2FACABB19EDC70', 'C765194AB5550498', '5BDF2A772826F42C', '4BDA6084191118DF', 'FC3F3E4DA7C85F88', '4D921165CD2825D1', '90AC003E691D70D4', 'B37F427F93BCA1E3', 'A1EE4FBD37EA95B8', 'B6E4E414699EFC1F', '18E7E50874577C8B', 'F9B39A46A299971D', 'AEE24B6142A3C431', '8D406B3B500671BD', '69E475C5708ABE56', 'A76F046D8D47589E', 'D266B29CC73DD0F9', '2A7E32FA8EF4DBA1', 'C9E2691EAD9EF4BB', '79B52A43517478A4', '8D46D7EB5112DC9D', 'E3FE22D7C70B05E6', '30DEB75B33B92DC8', '6A581C74EF4D5F44', '13B7E3DA955377BA', '9E68AB5C5C7FEFF4', 'E391353FC3A4056D', 'A980A65F42FB1BB4', '6445624A3AE163E6', 'BA98FD8F84C838C7', 'C45D1641140AB2BC', '6CAA4AF4C12A22B9', 'D7A8DFC1A19E65B5', 'EAFB9027A27D510C', 'C26D3BB63817A267', 'D0533ECF2A67B35C', '8F5D7DE5A7B06249', 'DABC14FDDFADD29E', '2D7AF97EEB0056A5', 'CB0B5021B1BE7403', 'DDCEDA0705FF68FB', '72742C5F312A1FEC', '783A96FF14C40478', 'BE52857ABCAD4C9B', 'EABF946459C4DA3A', 'AFF3D30CC385F0E9', '88EEB8C6C37A0521', '3340B98CBEAEE766', 'D82DD23742E57665', '4DBBBAA6705078D0', '3B6ABE8E7872977E', 'AA825CB62FB0EC0B', '6B72CFAE1935C789', '7C9CA3F88B8755F1', '8FC9D1BB3017BE66', 'A2614E5A9AC15FC8', 'F8564F547AFFC0B9', '95401934D6D6D4FC', '79BED20696125731', 'CF03E97B314C5632', 'A533C3D1BEAC8798', 'D5F578A546F3E804', '5A26996E38367C70', 'CFDED9167B27A57F', '1D831F7D0F539AFA', 'ACDFC703CACAC820', 'D9C92EC5F9478381', '18569C8DCB0771B6', '994D853A1F8D1771', 'ABB61823786179CC', 'BE600B10445D29C4', 'F098EC2120B5150C', '5D72D0AEF96C50FD', 'F9FE888A3A2222E9', '9E656B4D34C68949', '09D429B94AE0DEC5', '0BA00E790AA510C1', '6EFF2BB96F97768F', '46A7B6A9C1C4E46B', '3B3F68DC5779E517', '329E3207708990E1', 'C474F67E2204321C', '639050CCC2A6C4A1', '5B57E88DFE82FAD6', '2F52D15FF20EE730', '57E796E81DD60883', '220C8F0BE40515E5', '224F9E7FA339E6A9', '8C66932374EF8009', 'C7CE76E3DBDC7533', 'F0B92123E5142CBB', 'C9E32DE296F68008', '676A58D41A3E0A47', '53732758D90FB1E4', '5F89649C6337CE7D', '6655D192F953E7CE', '603C1A0FA47D1640', '00341D8401F0F665', 'A9E0A8057A5F07D1', '341E8DBCD6C8B223', '565EF59DDD36B95B', '82F72EC6CDC1BA8F', '24FB1A84E1C30291', '198FEF39910DCF76', 'B2BB6F16652B21BF', 'EEF5EFB2D5915CF1', '7CBA351852B6F25C', 'BCF4888C3F7DE189', 'A09DFE27D4CFF8E8', '04988C5DF189632E', '954C980B4A9559FF', '11970FE3A608F9EF', 'C77D7125A7F73F33', 'D9F243D9F177689B', 'A81BA2A7B5FD1862', '127DA1103176E88E', 'A4D5B31067614B05', '8A9B589AE60EA3C0', 'CBEFCA3BFDE4CC58', '8F1195B887A60121', '051D59BC38C3B3AA', '1A4A33FE1C0FDD90', '86B91078B1F0BA1A', '22092C653019E91C', '0363BAFB478AA9EF', 'BD31CABB6D5C6561', '0A5E3BE3C51CB47A', '64E7466FBB579E9E', '5AD6C5CA55F10640', 'A944D2BCDFD50619', 'C93F18A3865E93D6', 'A2CBF9847DA60249', '70CE04E185154AD7', '57442DD4178AFE27', 'B6DBDDB2BD00352E', 'C176364EF5C025EA', '43525009898D1143', '12A77BCF101643B5', '597F7FD5AA3524D3', 'ECC76B90EB71C492', 'DECA5C05A77980A1', '542FE442CF2BDA4B', 'DE20AA504779785D', '3DEA2F9B3EDA8B91', '3341349F0FD06C14', 'E18D25D68D9FCC60', 'CA331DA5AECB1774', '2B8243043C2CD72F', '6B1D0D8C4F8FBBEC', '41EDEEC440887B2C', 'A6E6ECF8E4924633', '8CE0BDF8F59A752E', 'FB9FFB4BA8695C78', '7875B71ED824F8F2', '5A7165E3831CBE75', '1381632DA8AD52C0', '0DD2E54D87CFD4A4', 'C286A270CFB9925D', '04F2CF340B4F3822', '2D6A6472D7F46812', 'C86F0150DA3B10F2', 'D1FA009C9B514DD7', '1C711C65356BCFBF', 'F10551276E3FDD53', '47ADBF580CF107E1', '9918D1C354A1383A', '630A7B72AE3824BF', 'A48676A84719B3A7', '6786C23A54D59DD4', '5EBCE7B573FA0578', '2EC26EB640A1756D', '6B1DE4B46F1267CB', '13AE4DFAC67ACEB3', 'CA6F4DAED160E5B1', '8B6B98D9A40E0A42', '9F15AB8A7F968248', '2F46396B6766CFDB', 'FC2DA0D7EF375B27', '2B8FD20CA8A2A616', 'BEF16764A13AEC34', '3D89F6FEA1926F70', '111E0B8A76E90532', 'BF1EB8E6FA3F19B8', '5B04574502DEFDB3', 'D6924B9AB9903228', '732A1335A53C14D5', '221AA0E38F37A7B7', '1E8329A6915FB27E', 'CE771EFC59ED44A5', '9657A8EEFB5E37E5', '27736FDA67EF07CB', '8C5E672BF19D5DEE', '54AAE35DB9DF5C19', 'B2795EB0A968DFB5', '3E286601D309601C', 'DD9FB2652AE4ACBA', '70BF82527E6ED9C3', 'C4F3A9D7BB596E6E', 'F4C8BB8D1622FE87', '9F3480BE97175137', '10779B9305942526', 'C0924D3FF1BEAA05', '4B058B8F19045AC9', '6D54D48C640D27D3', 'D649423E43336656', '9429C337BF221E89', 'C2025648F77BD80B', '28F165B39D160BC5', 'B043E52A918CDD6E', 'FF44696E39039D29', '87A8BCBB07EBDACA', '3242BDDFA690A22B', '83AB3C13B3972BAE', '495E506B3D29645B', '6A698019769B0F16', 'A800CDEA85871EEF', 'C0DDE3AA2A89024F', 'F4BEF7B9C8172E36', 'C573C24EF423143C', '74EEC94A70685C1E', '4CF756542084F860', '0A0141A363E2E051', '11A1350D1F8AD059', '9BFFAFDAB999DF19', '5EC32E17A02C2131', '06C6018D3CB3E903', 'B01BF1A169A42CE7', '88FB1EDF3E249223', '9F32866BD479E689', '6050D52AD58BC624', 'D7933558E33BF7D5', '56F9D84470F97FF0', '4B34A5BD1D1AEF0D', '123C3AC236BE84F0', '1E7B931452B2F965', '44F7F21118841F2D', '67AB39E76836E176', '7DF21AEB1AA231F9', 'F68F7886D0BCE784', '8C0361CB080810CA', 'F7E2CAFE32DB0B14', 'A0028F574B5E5DC6', '549A5092FD1BD5D9', '08D42E112D1F4407', '5461DD0AF191F581', '9F0571C70D4BD33B', 'AB88A0F609618A2A', '5E9E80BADEA372AB', '04BE4EFE4C457312', '430C998549E88DAE', '3656B8F3DEF02DA0', 'BBE0583F0240AABB', '54633A9BB233F1E6', '90192F1A66D5A0AE', 'C79239C16E4E6694', 'D45554BA350E10C4', 'E17D1ABC377C38CA', 'E7F4B5EBC0495D72', '2139548144435929', 'A0BAE4190D41A285', 'DABC08CC80316871', '97AD409895906A32', '84F840D269A65875', '17DD74F263374528', '609EBA439CB96E0D', '0EA6AE1AB7BB8ACA', '824E3C1D0F769FA3', 'A8738C98EA4BB1A7', 'BAAEE6D68FB90D22', '465CD5B78E1AA5B7', 'AC7F4C4BDAD56C17', '3AE5E3EE2C8A8727', 'CE27C7943C1BB6ED', '3FAA6AD64C3B47E8', '2DF9E85A613E0DD0', '5424E9D321EC3567', '46BDEF99D733A7B7', '3981FFA649C17699', 'A35BD08F60AC00B8', '4B5225B3DCB853CE', 'A12886FD7DA592AF', 'FE2AF0E94DBD470E', '03FBDF999D5B81B8', '2787953F22AA5648', '52828376E649CA27', 'DC16020AF1E1177B', 'DA8DABF19A0203FD', 'F4E16CAFB780CA34', '68E1CED07444D6EC', 'EE25BC8FA059151D', 'D40A89E14F1C10BD', 'B854154628803E46', 'F71DD44DAB783CEB', 'F6D9C08D0E97DE88', '1C5874DE0D952A0D', '8A26EBC1BA92524B', '37E78FED858E7061', '8BD80DB1522F7120', '8B83F28EB9DD639D', '32E13C1C0F6AC96E', '65A33D1E2F637CE6', 'DBF9BDC859BC4459', '6D3792154BB5A659', '2C662D285ED4136C', '5C7F53937B54D161', '3C37EE92E7960750', '983E7021DDC7E0FA', '1796009027406E06', 'EEA592D3C6F5E5A4', 'C1FFA9A2B049B203', '6A2064F288EF094F', '8FA915CDB5994BDC', '275A5125510426EB', '624B51C834246D6E', 'C57E6C4AFF4FF31A', 'FC37CBE8211E02A8', 'FEA0C585A53E7027', 'E02247CEF572ACCA', '34A2E022930DFCA3', 'B83CF8CFD3575F8B', '8683850A677DCC7A', '1B72B5CD89B93B68', 'F8151E51EA08F337', 'DF79393DADE71EF6', '3F775ABC71333988', 'C165E8C0C5DE19FF', 'A352755099619F01', '934134714E66295F', 'E3780F6861A69868', '967680A9D7C9AFD1', '13FBEB715F4AAE10', '86172D2A196D7D03', 'A8C25A605F613665', '4803D52DB8782CC2', 'C7750723906C925A', '7415696C510E38FB', '958426148AFA05C5', '1FA7A8399291885E', '9FB7D7666F50835C', 'AF72679D1CB8C3A5', 'DF72BA6A526F714F', '94BE60EF959D177D', '10F028FB8193F8C1', '8DE56E6BDA5F54AC', '48496344F079B793', 'C26CED3FB9AFF742', '1CC27A00D4907AAB', 'E123EF1A9A7332A4', '4764F95CF4989E46', 'FB1F9619F8C3CC75', 'B01CF7E5AC419DE0', 'F5B4B562971760C6', 'EA6EA431FF84563B', 'B582D211C1BE1FFD', 'B3A2485649E4A012', '51DA2C882D0D7508', 'C422FD79606A0B4C', '64CD9350DEEE01B6', '49D69A4901413D82', 'ED11170D5BB9D744', '5ECF8AD51FC8062E', '669F197DC7EB4FD9', 'AB94ADBD1345E896', '8EB3AE898305A358', '213C96A57E70B18F', '124B6B7F19141CCC', '928364C4C9F13FA8', '5A5D645876C5C692', '8FB9E95B030D25C5', '5A47441C0AC5FAEE', '8FBAEB717ABA3930', '8094961C0D414366', '29DF5A79ECFED897', 'E1489CCA162BC2E6', '604F9F5DB1EB8997', '1D9020D7979F924A', '9C99E4676D6A8B44', '33CEAE52626CA99E', 'BF3665AB1DF86357', 'BF2613BE28381E56', 'B05232A00CE7DA9B', 'E0CCA0E17AD074DA', '1AD9F88DA92AC4E5', 'DC41AFF8213BE01A', '59390C0379937AB0', '63F5FC15B31DB5A6', '8B2134D31A514E4E', 'F07BB43BAEF2AB42', '9A7D2A236FE09070', '6F70F06DD209676B', 'D3A4F3513CC0AA2F', '1B52830A832D33F5', '60E68A4F33951169', 'D857FFFE7A6AC9A4', '3382B624CF985A13', '37094134968B2013', '85521867220EB1E7', '9D1710D562537AA8', 'DFE341550729F28E', 'E65F1C4C712CDC41', 'CC9D23AA2AD67118', '0DABE6F3956778ED', 'CE264232AC9049B8', '1D6A02B0987CD71A', '0F1FF07B3788976D', 'CA6B3F85024FAF6B', '697F116B31D05FCF', '78745E80BA159887', 'DD9DDDB53DA30E40', '395461648C47B5E1', 'CBA33B9DE421A616', '40194A2E6C03B547', '13AA9B89A2885F8E', 'B19324D874BEE1A5', '7963560AC5D4166E', '74C5CCDA7DF761EE', 'D2F6FB926A64D196', '5207E56E697027E9', '1AE6FF352875CA8C', '0CC466ED84E0756D', 'CCE74CB0FBDD3533', 'EAF000D4CC7635B7', 'B9AF175E0AAECD8C', '0ADFFFE9C0D60092', '2A2A3F0E002F81B5', '9BD9E79856D54059', '7D8970118A695D48', '8D4D2425F80F6A74', '2F6674627B916D5C', 'AEB9B39AE54D3598', '743EFA16F928E18B', '60D456E636F6C031', 'D9128C07E09FF452']\n"
     ]
    }
   ],
   "source": [
    "# Проверим есть ли пользователи, которые попали в обе группы\n",
    "interface_eu_test = participants[participants['ab_test'] == 'interface_eu_test']['user_id']\n",
    "recommender_system_test = participants[participants['ab_test'] == 'recommender_system_test']['user_id']\n",
    "\n",
    "intersection = list(set(interface_eu_test) & set(recommender_system_test))\n",
    "print(intersection)"
   ]
  },
  {
   "cell_type": "code",
   "execution_count": 26,
   "id": "aea2660d",
   "metadata": {
    "scrolled": false
   },
   "outputs": [],
   "source": [
    "# Удалим этих пользователей\n",
    "participants = participants[~participants['user_id'].isin(intersection)]"
   ]
  },
  {
   "cell_type": "code",
   "execution_count": 27,
   "id": "97297e4c",
   "metadata": {},
   "outputs": [
    {
     "name": "stdout",
     "output_type": "stream",
     "text": [
      "[]\n"
     ]
    }
   ],
   "source": [
    "# Повторная проверка\n",
    "interface_eu_test = participants[participants['ab_test'] == 'interface_eu_test']['user_id']\n",
    "recommender_system_test = participants[participants['ab_test'] == 'recommender_system_test']['user_id']\n",
    "\n",
    "intersection = list(set(interface_eu_test) & set(recommender_system_test))\n",
    "print(intersection)"
   ]
  },
  {
   "cell_type": "markdown",
   "id": "f055e4a7",
   "metadata": {},
   "source": [
    "Видим, что пересечений больше нет"
   ]
  },
  {
   "cell_type": "code",
   "execution_count": 28,
   "id": "79f1daf7",
   "metadata": {},
   "outputs": [
    {
     "data": {
      "text/html": [
       "<div>\n",
       "<style scoped>\n",
       "    .dataframe tbody tr th:only-of-type {\n",
       "        vertical-align: middle;\n",
       "    }\n",
       "\n",
       "    .dataframe tbody tr th {\n",
       "        vertical-align: top;\n",
       "    }\n",
       "\n",
       "    .dataframe thead th {\n",
       "        text-align: right;\n",
       "    }\n",
       "</style>\n",
       "<table border=\"1\" class=\"dataframe\">\n",
       "  <thead>\n",
       "    <tr style=\"text-align: right;\">\n",
       "      <th></th>\n",
       "      <th>user_id</th>\n",
       "      <th>group</th>\n",
       "      <th>ab_test</th>\n",
       "      <th>device</th>\n",
       "    </tr>\n",
       "  </thead>\n",
       "  <tbody>\n",
       "    <tr>\n",
       "      <th>0</th>\n",
       "      <td>0002CE61FF2C4011</td>\n",
       "      <td>B</td>\n",
       "      <td>interface_eu_test</td>\n",
       "      <td>Mac</td>\n",
       "    </tr>\n",
       "    <tr>\n",
       "      <th>4</th>\n",
       "      <td>001E72F50D1C48FA</td>\n",
       "      <td>A</td>\n",
       "      <td>interface_eu_test</td>\n",
       "      <td>Mac</td>\n",
       "    </tr>\n",
       "    <tr>\n",
       "      <th>5</th>\n",
       "      <td>002412F1EB3F6E38</td>\n",
       "      <td>B</td>\n",
       "      <td>interface_eu_test</td>\n",
       "      <td>Mac</td>\n",
       "    </tr>\n",
       "    <tr>\n",
       "      <th>6</th>\n",
       "      <td>002540BE89C930FB</td>\n",
       "      <td>B</td>\n",
       "      <td>interface_eu_test</td>\n",
       "      <td>Android</td>\n",
       "    </tr>\n",
       "    <tr>\n",
       "      <th>7</th>\n",
       "      <td>0031F1B5E9FBF708</td>\n",
       "      <td>A</td>\n",
       "      <td>interface_eu_test</td>\n",
       "      <td>Android</td>\n",
       "    </tr>\n",
       "    <tr>\n",
       "      <th>...</th>\n",
       "      <td>...</td>\n",
       "      <td>...</td>\n",
       "      <td>...</td>\n",
       "      <td>...</td>\n",
       "    </tr>\n",
       "    <tr>\n",
       "      <th>14518</th>\n",
       "      <td>FFE5B14BD55C1C5C</td>\n",
       "      <td>A</td>\n",
       "      <td>interface_eu_test</td>\n",
       "      <td>PC</td>\n",
       "    </tr>\n",
       "    <tr>\n",
       "      <th>14519</th>\n",
       "      <td>FFE600EEC4BA7685</td>\n",
       "      <td>B</td>\n",
       "      <td>interface_eu_test</td>\n",
       "      <td>Android</td>\n",
       "    </tr>\n",
       "    <tr>\n",
       "      <th>14520</th>\n",
       "      <td>FFE7FC140521F5F6</td>\n",
       "      <td>A</td>\n",
       "      <td>interface_eu_test</td>\n",
       "      <td>PC</td>\n",
       "    </tr>\n",
       "    <tr>\n",
       "      <th>14521</th>\n",
       "      <td>FFEFC0E55C1CCD4F</td>\n",
       "      <td>A</td>\n",
       "      <td>interface_eu_test</td>\n",
       "      <td>PC</td>\n",
       "    </tr>\n",
       "    <tr>\n",
       "      <th>14524</th>\n",
       "      <td>FFF58BC33966EB51</td>\n",
       "      <td>A</td>\n",
       "      <td>interface_eu_test</td>\n",
       "      <td>Android</td>\n",
       "    </tr>\n",
       "  </tbody>\n",
       "</table>\n",
       "<p>9963 rows × 4 columns</p>\n",
       "</div>"
      ],
      "text/plain": [
       "                user_id group            ab_test   device\n",
       "0      0002CE61FF2C4011     B  interface_eu_test      Mac\n",
       "4      001E72F50D1C48FA     A  interface_eu_test      Mac\n",
       "5      002412F1EB3F6E38     B  interface_eu_test      Mac\n",
       "6      002540BE89C930FB     B  interface_eu_test  Android\n",
       "7      0031F1B5E9FBF708     A  interface_eu_test  Android\n",
       "...                 ...   ...                ...      ...\n",
       "14518  FFE5B14BD55C1C5C     A  interface_eu_test       PC\n",
       "14519  FFE600EEC4BA7685     B  interface_eu_test  Android\n",
       "14520  FFE7FC140521F5F6     A  interface_eu_test       PC\n",
       "14521  FFEFC0E55C1CCD4F     A  interface_eu_test       PC\n",
       "14524  FFF58BC33966EB51     A  interface_eu_test  Android\n",
       "\n",
       "[9963 rows x 4 columns]"
      ]
     },
     "execution_count": 28,
     "metadata": {},
     "output_type": "execute_result"
    }
   ],
   "source": [
    "# Создаём новый DataFrame, содержащий только строки с ab_test == 'interface_eu_test'\n",
    "interface_eu_test_df = participants[participants['ab_test'] == 'interface_eu_test']\n",
    "interface_eu_test_df"
   ]
  },
  {
   "cell_type": "code",
   "execution_count": 29,
   "id": "bd0f45b1",
   "metadata": {},
   "outputs": [
    {
     "data": {
      "text/plain": [
       "array(['0002CE61FF2C4011', '001E72F50D1C48FA', '002412F1EB3F6E38', ...,\n",
       "       'FFE7FC140521F5F6', 'FFEFC0E55C1CCD4F', 'FFF58BC33966EB51'],\n",
       "      dtype=object)"
      ]
     },
     "execution_count": 29,
     "metadata": {},
     "output_type": "execute_result"
    }
   ],
   "source": [
    "unique_users = interface_eu_test_df['user_id'].unique()\n",
    "unique_users"
   ]
  },
  {
   "cell_type": "code",
   "execution_count": 30,
   "id": "b3776e9d",
   "metadata": {},
   "outputs": [
    {
     "data": {
      "text/plain": [
       "9963"
      ]
     },
     "execution_count": 30,
     "metadata": {},
     "output_type": "execute_result"
    }
   ],
   "source": [
    "interface_eu_test_df[interface_eu_test_df['ab_test'] == 'interface_eu_test']['user_id'].nunique()"
   ]
  },
  {
   "cell_type": "markdown",
   "id": "GjulgSrlsqUU",
   "metadata": {
    "id": "GjulgSrlsqUU"
   },
   "source": [
    "3\\.2 Проанализируйте данные о пользовательской активности по таблице `ab_test_events`:\n",
    "\n",
    "- оставьте только события, связанные с участвующими в изучаемом тесте пользователями;"
   ]
  },
  {
   "cell_type": "code",
   "execution_count": 31,
   "id": "QMt0Ybo_swDK",
   "metadata": {
    "id": "QMt0Ybo_swDK"
   },
   "outputs": [
    {
     "data": {
      "text/html": [
       "<div>\n",
       "<style scoped>\n",
       "    .dataframe tbody tr th:only-of-type {\n",
       "        vertical-align: middle;\n",
       "    }\n",
       "\n",
       "    .dataframe tbody tr th {\n",
       "        vertical-align: top;\n",
       "    }\n",
       "\n",
       "    .dataframe thead th {\n",
       "        text-align: right;\n",
       "    }\n",
       "</style>\n",
       "<table border=\"1\" class=\"dataframe\">\n",
       "  <thead>\n",
       "    <tr style=\"text-align: right;\">\n",
       "      <th></th>\n",
       "      <th>user_id</th>\n",
       "      <th>group</th>\n",
       "      <th>ab_test</th>\n",
       "      <th>device</th>\n",
       "      <th>event_dt</th>\n",
       "      <th>event_name</th>\n",
       "      <th>details</th>\n",
       "    </tr>\n",
       "  </thead>\n",
       "  <tbody>\n",
       "    <tr>\n",
       "      <th>0</th>\n",
       "      <td>0002CE61FF2C4011</td>\n",
       "      <td>B</td>\n",
       "      <td>interface_eu_test</td>\n",
       "      <td>Mac</td>\n",
       "      <td>2020-12-07 04:37:31</td>\n",
       "      <td>registration</td>\n",
       "      <td>-2.38</td>\n",
       "    </tr>\n",
       "    <tr>\n",
       "      <th>1</th>\n",
       "      <td>0002CE61FF2C4011</td>\n",
       "      <td>B</td>\n",
       "      <td>interface_eu_test</td>\n",
       "      <td>Mac</td>\n",
       "      <td>2020-12-07 04:37:49</td>\n",
       "      <td>login</td>\n",
       "      <td>NaN</td>\n",
       "    </tr>\n",
       "    <tr>\n",
       "      <th>2</th>\n",
       "      <td>0002CE61FF2C4011</td>\n",
       "      <td>B</td>\n",
       "      <td>interface_eu_test</td>\n",
       "      <td>Mac</td>\n",
       "      <td>2020-12-07 04:37:57</td>\n",
       "      <td>login</td>\n",
       "      <td>NaN</td>\n",
       "    </tr>\n",
       "    <tr>\n",
       "      <th>3</th>\n",
       "      <td>0002CE61FF2C4011</td>\n",
       "      <td>B</td>\n",
       "      <td>interface_eu_test</td>\n",
       "      <td>Mac</td>\n",
       "      <td>2020-12-07 04:38:54</td>\n",
       "      <td>login</td>\n",
       "      <td>NaN</td>\n",
       "    </tr>\n",
       "    <tr>\n",
       "      <th>4</th>\n",
       "      <td>0002CE61FF2C4011</td>\n",
       "      <td>B</td>\n",
       "      <td>interface_eu_test</td>\n",
       "      <td>Mac</td>\n",
       "      <td>2020-12-08 22:15:35</td>\n",
       "      <td>login</td>\n",
       "      <td>NaN</td>\n",
       "    </tr>\n",
       "    <tr>\n",
       "      <th>...</th>\n",
       "      <td>...</td>\n",
       "      <td>...</td>\n",
       "      <td>...</td>\n",
       "      <td>...</td>\n",
       "      <td>...</td>\n",
       "      <td>...</td>\n",
       "      <td>...</td>\n",
       "    </tr>\n",
       "    <tr>\n",
       "      <th>68069</th>\n",
       "      <td>FFEFC0E55C1CCD4F</td>\n",
       "      <td>A</td>\n",
       "      <td>interface_eu_test</td>\n",
       "      <td>PC</td>\n",
       "      <td>2020-12-13 23:52:22</td>\n",
       "      <td>login</td>\n",
       "      <td>NaN</td>\n",
       "    </tr>\n",
       "    <tr>\n",
       "      <th>68070</th>\n",
       "      <td>FFEFC0E55C1CCD4F</td>\n",
       "      <td>A</td>\n",
       "      <td>interface_eu_test</td>\n",
       "      <td>PC</td>\n",
       "      <td>2020-12-28 00:29:10</td>\n",
       "      <td>login</td>\n",
       "      <td>NaN</td>\n",
       "    </tr>\n",
       "    <tr>\n",
       "      <th>68071</th>\n",
       "      <td>FFF58BC33966EB51</td>\n",
       "      <td>A</td>\n",
       "      <td>interface_eu_test</td>\n",
       "      <td>Android</td>\n",
       "      <td>2020-12-13 17:37:34</td>\n",
       "      <td>registration</td>\n",
       "      <td>-0.45</td>\n",
       "    </tr>\n",
       "    <tr>\n",
       "      <th>68072</th>\n",
       "      <td>FFF58BC33966EB51</td>\n",
       "      <td>A</td>\n",
       "      <td>interface_eu_test</td>\n",
       "      <td>Android</td>\n",
       "      <td>2020-12-13 17:56:02</td>\n",
       "      <td>login</td>\n",
       "      <td>NaN</td>\n",
       "    </tr>\n",
       "    <tr>\n",
       "      <th>68073</th>\n",
       "      <td>FFF58BC33966EB51</td>\n",
       "      <td>A</td>\n",
       "      <td>interface_eu_test</td>\n",
       "      <td>Android</td>\n",
       "      <td>2020-12-17 03:21:02</td>\n",
       "      <td>login</td>\n",
       "      <td>NaN</td>\n",
       "    </tr>\n",
       "  </tbody>\n",
       "</table>\n",
       "<p>68074 rows × 7 columns</p>\n",
       "</div>"
      ],
      "text/plain": [
       "                user_id group            ab_test   device            event_dt  \\\n",
       "0      0002CE61FF2C4011     B  interface_eu_test      Mac 2020-12-07 04:37:31   \n",
       "1      0002CE61FF2C4011     B  interface_eu_test      Mac 2020-12-07 04:37:49   \n",
       "2      0002CE61FF2C4011     B  interface_eu_test      Mac 2020-12-07 04:37:57   \n",
       "3      0002CE61FF2C4011     B  interface_eu_test      Mac 2020-12-07 04:38:54   \n",
       "4      0002CE61FF2C4011     B  interface_eu_test      Mac 2020-12-08 22:15:35   \n",
       "...                 ...   ...                ...      ...                 ...   \n",
       "68069  FFEFC0E55C1CCD4F     A  interface_eu_test       PC 2020-12-13 23:52:22   \n",
       "68070  FFEFC0E55C1CCD4F     A  interface_eu_test       PC 2020-12-28 00:29:10   \n",
       "68071  FFF58BC33966EB51     A  interface_eu_test  Android 2020-12-13 17:37:34   \n",
       "68072  FFF58BC33966EB51     A  interface_eu_test  Android 2020-12-13 17:56:02   \n",
       "68073  FFF58BC33966EB51     A  interface_eu_test  Android 2020-12-17 03:21:02   \n",
       "\n",
       "         event_name details  \n",
       "0      registration   -2.38  \n",
       "1             login     NaN  \n",
       "2             login     NaN  \n",
       "3             login     NaN  \n",
       "4             login     NaN  \n",
       "...             ...     ...  \n",
       "68069         login     NaN  \n",
       "68070         login     NaN  \n",
       "68071  registration   -0.45  \n",
       "68072         login     NaN  \n",
       "68073         login     NaN  \n",
       "\n",
       "[68074 rows x 7 columns]"
      ]
     },
     "execution_count": 31,
     "metadata": {},
     "output_type": "execute_result"
    }
   ],
   "source": [
    "test_df = pd.merge(interface_eu_test_df, events, on='user_id', how='inner')\n",
    "test_df"
   ]
  },
  {
   "cell_type": "code",
   "execution_count": 32,
   "id": "be014509",
   "metadata": {},
   "outputs": [
    {
     "data": {
      "text/plain": [
       "array(['registration', 'login', 'product_page', 'product_cart',\n",
       "       'purchase'], dtype=object)"
      ]
     },
     "execution_count": 32,
     "metadata": {},
     "output_type": "execute_result"
    }
   ],
   "source": [
    "# Это я для себя проверяю данные в столбце\n",
    "unique_event_name = test_df['event_name'].unique()\n",
    "unique_event_name"
   ]
  },
  {
   "cell_type": "markdown",
   "id": "fBZ4DC2xswZJ",
   "metadata": {
    "id": "fBZ4DC2xswZJ"
   },
   "source": [
    "- определите горизонт анализа: рассчитайте время (лайфтайм) совершения события пользователем после регистрации и оставьте только те события, которые были выполнены в течение первых семи дней с момента регистрации;"
   ]
  },
  {
   "cell_type": "code",
   "execution_count": 33,
   "id": "sES4-dKts0Yb",
   "metadata": {
    "id": "sES4-dKts0Yb"
   },
   "outputs": [
    {
     "data": {
      "text/html": [
       "<div>\n",
       "<style scoped>\n",
       "    .dataframe tbody tr th:only-of-type {\n",
       "        vertical-align: middle;\n",
       "    }\n",
       "\n",
       "    .dataframe tbody tr th {\n",
       "        vertical-align: top;\n",
       "    }\n",
       "\n",
       "    .dataframe thead th {\n",
       "        text-align: right;\n",
       "    }\n",
       "</style>\n",
       "<table border=\"1\" class=\"dataframe\">\n",
       "  <thead>\n",
       "    <tr style=\"text-align: right;\">\n",
       "      <th></th>\n",
       "      <th>user_id</th>\n",
       "      <th>group</th>\n",
       "      <th>ab_test</th>\n",
       "      <th>device</th>\n",
       "      <th>event_dt</th>\n",
       "      <th>event_name</th>\n",
       "      <th>details</th>\n",
       "    </tr>\n",
       "  </thead>\n",
       "  <tbody>\n",
       "    <tr>\n",
       "      <th>0</th>\n",
       "      <td>0002CE61FF2C4011</td>\n",
       "      <td>B</td>\n",
       "      <td>interface_eu_test</td>\n",
       "      <td>Mac</td>\n",
       "      <td>2020-12-07 04:37:31</td>\n",
       "      <td>registration</td>\n",
       "      <td>-2.38</td>\n",
       "    </tr>\n",
       "    <tr>\n",
       "      <th>11</th>\n",
       "      <td>001E72F50D1C48FA</td>\n",
       "      <td>A</td>\n",
       "      <td>interface_eu_test</td>\n",
       "      <td>Mac</td>\n",
       "      <td>2020-12-17 15:44:05</td>\n",
       "      <td>registration</td>\n",
       "      <td>-3.61</td>\n",
       "    </tr>\n",
       "    <tr>\n",
       "      <th>18</th>\n",
       "      <td>002412F1EB3F6E38</td>\n",
       "      <td>B</td>\n",
       "      <td>interface_eu_test</td>\n",
       "      <td>Mac</td>\n",
       "      <td>2020-12-09 09:36:50</td>\n",
       "      <td>registration</td>\n",
       "      <td>-0.48</td>\n",
       "    </tr>\n",
       "    <tr>\n",
       "      <th>24</th>\n",
       "      <td>002540BE89C930FB</td>\n",
       "      <td>B</td>\n",
       "      <td>interface_eu_test</td>\n",
       "      <td>Android</td>\n",
       "      <td>2020-12-08 18:06:07</td>\n",
       "      <td>registration</td>\n",
       "      <td>-2.38</td>\n",
       "    </tr>\n",
       "    <tr>\n",
       "      <th>31</th>\n",
       "      <td>0031F1B5E9FBF708</td>\n",
       "      <td>A</td>\n",
       "      <td>interface_eu_test</td>\n",
       "      <td>Android</td>\n",
       "      <td>2020-12-14 00:47:10</td>\n",
       "      <td>registration</td>\n",
       "      <td>-2.26</td>\n",
       "    </tr>\n",
       "    <tr>\n",
       "      <th>...</th>\n",
       "      <td>...</td>\n",
       "      <td>...</td>\n",
       "      <td>...</td>\n",
       "      <td>...</td>\n",
       "      <td>...</td>\n",
       "      <td>...</td>\n",
       "      <td>...</td>\n",
       "    </tr>\n",
       "    <tr>\n",
       "      <th>68056</th>\n",
       "      <td>FFE7FC140521F5F6</td>\n",
       "      <td>A</td>\n",
       "      <td>interface_eu_test</td>\n",
       "      <td>PC</td>\n",
       "      <td>2020-12-23 09:10:16</td>\n",
       "      <td>registration</td>\n",
       "      <td>-3.43</td>\n",
       "    </tr>\n",
       "    <tr>\n",
       "      <th>68063</th>\n",
       "      <td>FFE7FC140521F5F6</td>\n",
       "      <td>A</td>\n",
       "      <td>interface_eu_test</td>\n",
       "      <td>PC</td>\n",
       "      <td>2020-12-26 14:37:21</td>\n",
       "      <td>purchase</td>\n",
       "      <td>4.49</td>\n",
       "    </tr>\n",
       "    <tr>\n",
       "      <th>68065</th>\n",
       "      <td>FFE7FC140521F5F6</td>\n",
       "      <td>A</td>\n",
       "      <td>interface_eu_test</td>\n",
       "      <td>PC</td>\n",
       "      <td>2020-12-26 14:37:51</td>\n",
       "      <td>purchase</td>\n",
       "      <td>4.49</td>\n",
       "    </tr>\n",
       "    <tr>\n",
       "      <th>68068</th>\n",
       "      <td>FFEFC0E55C1CCD4F</td>\n",
       "      <td>A</td>\n",
       "      <td>interface_eu_test</td>\n",
       "      <td>PC</td>\n",
       "      <td>2020-12-13 23:52:15</td>\n",
       "      <td>registration</td>\n",
       "      <td>0.0</td>\n",
       "    </tr>\n",
       "    <tr>\n",
       "      <th>68071</th>\n",
       "      <td>FFF58BC33966EB51</td>\n",
       "      <td>A</td>\n",
       "      <td>interface_eu_test</td>\n",
       "      <td>Android</td>\n",
       "      <td>2020-12-13 17:37:34</td>\n",
       "      <td>registration</td>\n",
       "      <td>-0.45</td>\n",
       "    </tr>\n",
       "  </tbody>\n",
       "</table>\n",
       "<p>18864 rows × 7 columns</p>\n",
       "</div>"
      ],
      "text/plain": [
       "                user_id group            ab_test   device            event_dt  \\\n",
       "0      0002CE61FF2C4011     B  interface_eu_test      Mac 2020-12-07 04:37:31   \n",
       "11     001E72F50D1C48FA     A  interface_eu_test      Mac 2020-12-17 15:44:05   \n",
       "18     002412F1EB3F6E38     B  interface_eu_test      Mac 2020-12-09 09:36:50   \n",
       "24     002540BE89C930FB     B  interface_eu_test  Android 2020-12-08 18:06:07   \n",
       "31     0031F1B5E9FBF708     A  interface_eu_test  Android 2020-12-14 00:47:10   \n",
       "...                 ...   ...                ...      ...                 ...   \n",
       "68056  FFE7FC140521F5F6     A  interface_eu_test       PC 2020-12-23 09:10:16   \n",
       "68063  FFE7FC140521F5F6     A  interface_eu_test       PC 2020-12-26 14:37:21   \n",
       "68065  FFE7FC140521F5F6     A  interface_eu_test       PC 2020-12-26 14:37:51   \n",
       "68068  FFEFC0E55C1CCD4F     A  interface_eu_test       PC 2020-12-13 23:52:15   \n",
       "68071  FFF58BC33966EB51     A  interface_eu_test  Android 2020-12-13 17:37:34   \n",
       "\n",
       "         event_name details  \n",
       "0      registration   -2.38  \n",
       "11     registration   -3.61  \n",
       "18     registration   -0.48  \n",
       "24     registration   -2.38  \n",
       "31     registration   -2.26  \n",
       "...             ...     ...  \n",
       "68056  registration   -3.43  \n",
       "68063      purchase    4.49  \n",
       "68065      purchase    4.49  \n",
       "68068  registration     0.0  \n",
       "68071  registration   -0.45  \n",
       "\n",
       "[18864 rows x 7 columns]"
      ]
     },
     "execution_count": 33,
     "metadata": {},
     "output_type": "execute_result"
    }
   ],
   "source": [
    "# Отберём только тех пользователей, у которых есть покупка\n",
    "test_df = test_df[test_df['event_name'].isin(['registration', 'purchase'])]\n",
    "test_df"
   ]
  },
  {
   "cell_type": "code",
   "execution_count": 34,
   "id": "7392258b",
   "metadata": {},
   "outputs": [],
   "source": [
    "# Создадим отдельные датафреймы группы А и группы В\n",
    "test_df_a = test_df[test_df['group'] == 'A']\n",
    "test_df_b = test_df[test_df['group'] == 'B']"
   ]
  },
  {
   "cell_type": "code",
   "execution_count": 35,
   "id": "28371128",
   "metadata": {},
   "outputs": [
    {
     "data": {
      "text/plain": [
       "[]"
      ]
     },
     "metadata": {},
     "output_type": "display_data"
    }
   ],
   "source": [
    "# Проверим наличение пересечений между группами\n",
    "intersection = list(set(test_df_a['user_id']) & set(test_df_b['user_id']))\n",
    "\n",
    "display(intersection)"
   ]
  },
  {
   "cell_type": "markdown",
   "id": "21c9339d",
   "metadata": {},
   "source": [
    "Видим, что пересечений нет"
   ]
  },
  {
   "cell_type": "code",
   "execution_count": 36,
   "id": "8c67c8ff",
   "metadata": {},
   "outputs": [
    {
     "data": {
      "text/plain": [
       "8601"
      ]
     },
     "execution_count": 36,
     "metadata": {},
     "output_type": "execute_result"
    }
   ],
   "source": [
    "# Оценим размеры групп\n",
    "len(test_df_a)"
   ]
  },
  {
   "cell_type": "code",
   "execution_count": 37,
   "id": "e933a52d",
   "metadata": {},
   "outputs": [
    {
     "data": {
      "text/plain": [
       "10263"
      ]
     },
     "execution_count": 37,
     "metadata": {},
     "output_type": "execute_result"
    }
   ],
   "source": [
    "# Оценим размеры групп\n",
    "len(test_df_b)"
   ]
  },
  {
   "cell_type": "code",
   "execution_count": 43,
   "id": "524b600f",
   "metadata": {},
   "outputs": [
    {
     "name": "stdout",
     "output_type": "stream",
     "text": [
      "                user_id group            ab_test   device            event_dt  \\\n",
      "0      0002CE61FF2C4011     B  interface_eu_test      Mac 2020-12-07 04:37:31   \n",
      "1      001E72F50D1C48FA     A  interface_eu_test      Mac 2020-12-17 15:44:05   \n",
      "2      002412F1EB3F6E38     B  interface_eu_test      Mac 2020-12-09 09:36:50   \n",
      "3      002540BE89C930FB     B  interface_eu_test  Android 2020-12-08 18:06:07   \n",
      "4      0031F1B5E9FBF708     A  interface_eu_test  Android 2020-12-14 00:47:10   \n",
      "...                 ...   ...                ...      ...                 ...   \n",
      "18859  FFE7FC140521F5F6     A  interface_eu_test       PC 2020-12-23 09:10:16   \n",
      "18860  FFE7FC140521F5F6     A  interface_eu_test       PC 2020-12-26 14:37:21   \n",
      "18861  FFE7FC140521F5F6     A  interface_eu_test       PC 2020-12-26 14:37:51   \n",
      "18862  FFEFC0E55C1CCD4F     A  interface_eu_test       PC 2020-12-13 23:52:15   \n",
      "18863  FFF58BC33966EB51     A  interface_eu_test  Android 2020-12-13 17:37:34   \n",
      "\n",
      "         event_name details     registration_dt  \n",
      "0      registration   -2.38 2020-12-07 04:37:31  \n",
      "1      registration   -3.61 2020-12-17 15:44:05  \n",
      "2      registration   -0.48 2020-12-09 09:36:50  \n",
      "3      registration   -2.38 2020-12-08 18:06:07  \n",
      "4      registration   -2.26 2020-12-14 00:47:10  \n",
      "...             ...     ...                 ...  \n",
      "18859  registration   -3.43 2020-12-23 09:10:16  \n",
      "18860      purchase    4.49 2020-12-23 09:10:16  \n",
      "18861      purchase    4.49 2020-12-23 09:10:16  \n",
      "18862  registration     0.0 2020-12-13 23:52:15  \n",
      "18863  registration   -0.45 2020-12-13 17:37:34  \n",
      "\n",
      "[15800 rows x 8 columns]\n"
     ]
    }
   ],
   "source": [
    "# Столбец с датой регистрации\n",
    "reg_date = test_df.groupby('user_id')['event_dt'].min().reset_index()\n",
    "reg_date.columns = ['user_id', 'registration_dt']\n",
    "\n",
    "# Сличение данных с данными о регистрации\n",
    "test_df = test_df.merge(reg_date, on='user_id')\n",
    "\n",
    "# Фильтр семь дней\n",
    "test_df = test_df[(test_df['event_dt'] - test_df['registration_dt']) <= pd.Timedelta(days=7)]\n",
    "\n",
    "print(test_df)"
   ]
  },
  {
   "cell_type": "markdown",
   "id": "44e8b6dc",
   "metadata": {},
   "source": [
    "Различия есть, но это некритично"
   ]
  },
  {
   "cell_type": "markdown",
   "id": "7cf1df48",
   "metadata": {},
   "source": [
    "Оцените достаточность выборки для получения статистически значимых результатов A/B-теста. Заданные параметры:\n",
    "\n",
    "- базовый показатель конверсии — 30%,\n",
    "\n",
    "- мощность теста — 80%,\n",
    "\n",
    "- достоверность теста — 95%."
   ]
  },
  {
   "cell_type": "code",
   "execution_count": 30,
   "id": "8531538d",
   "metadata": {},
   "outputs": [
    {
     "name": "stdout",
     "output_type": "stream",
     "text": [
      "Необходимый размер выборки для каждой группы: 3761\n"
     ]
    }
   ],
   "source": [
    "from statsmodels.stats.power import NormalIndPower\n",
    "from statsmodels.stats.proportion import proportion_effectsize\n",
    "\n",
    "# Задаём параметры\n",
    "alpha = 0.05  # Уровень значимости\n",
    "beta = 0.2 # Ошибка второго рода, часто 1 - мощность\n",
    "power = 0.8  # Мощность теста\n",
    "p = 0.30 # Базовый уровень доли\n",
    "mde=0.03  # Минимальный детектируемый эффект\n",
    "effect_size = proportion_effectsize (p, p + mde)\n",
    "\n",
    "# Инициализируем класс NormalIndPower\n",
    "power_analysis = NormalIndPower()\n",
    "\n",
    "# Рассчитываем размер выборки\n",
    "sample_size = power_analysis.solve_power(\n",
    "    effect_size = effect_size,\n",
    "    power = power,\n",
    "    alpha = alpha,\n",
    "    ratio = 1 # Равномерное распределение выборок\n",
    ")\n",
    "\n",
    "print(f\"Необходимый размер выборки для каждой группы: {int(sample_size)}\")"
   ]
  },
  {
   "cell_type": "markdown",
   "id": "70a9d023",
   "metadata": {},
   "source": [
    "Для определения достаточного размера выборки нам необходимо 3761 пользователей для каждой из групп.\n",
    "\n",
    "Так как групп 2, всего потребуется 7522 пользователей (у нас это количество есть)"
   ]
  },
  {
   "cell_type": "markdown",
   "id": "SadyUDgZs0t3",
   "metadata": {
    "id": "SadyUDgZs0t3"
   },
   "source": [
    "- рассчитайте для каждой группы количество посетителей, сделавших покупку, и общее количество посетителей."
   ]
  },
  {
   "cell_type": "code",
   "execution_count": 44,
   "id": "7ph853Xks4sy",
   "metadata": {
    "id": "7ph853Xks4sy"
   },
   "outputs": [],
   "source": [
    "# группа A\n",
    "test_df_a = test_df[test_df['group'] =='A']"
   ]
  },
  {
   "cell_type": "code",
   "execution_count": 45,
   "id": "75bfcf18",
   "metadata": {},
   "outputs": [
    {
     "data": {
      "text/plain": [
       "4952"
      ]
     },
     "execution_count": 45,
     "metadata": {},
     "output_type": "execute_result"
    }
   ],
   "source": [
    "# количество уникальных пользователей в группе A\n",
    "a_uniq = test_df_a['user_id'].nunique()\n",
    "a_uniq"
   ]
  },
  {
   "cell_type": "code",
   "execution_count": 46,
   "id": "0de1d87c",
   "metadata": {},
   "outputs": [
    {
     "data": {
      "text/plain": [
       "1377"
      ]
     },
     "execution_count": 46,
     "metadata": {},
     "output_type": "execute_result"
    }
   ],
   "source": [
    "# количество уникальных пользователей в группе A,\n",
    "# совершивших покупку (в течение 7 дней после регистрации)\n",
    "a_purch = test_df_a[test_df_a['event_name']== 'purchase']['user_id'].nunique()\n",
    "a_purch"
   ]
  },
  {
   "cell_type": "code",
   "execution_count": 47,
   "id": "27a6543b",
   "metadata": {},
   "outputs": [
    {
     "data": {
      "text/plain": [
       "0.278"
      ]
     },
     "execution_count": 47,
     "metadata": {},
     "output_type": "execute_result"
    }
   ],
   "source": [
    "# Рассчитаем долю пользователей, совершивших покупку (конверсию) для группы A \n",
    "cr_a = round(a_purch/a_uniq ,3)\n",
    "cr_a"
   ]
  },
  {
   "cell_type": "code",
   "execution_count": 49,
   "id": "ed06e65f",
   "metadata": {},
   "outputs": [],
   "source": [
    "# группа B\n",
    "test_df_b = test_df[test_df['group'] =='B']"
   ]
  },
  {
   "cell_type": "code",
   "execution_count": 55,
   "id": "2d78c27f",
   "metadata": {},
   "outputs": [
    {
     "data": {
      "text/plain": [
       "5011"
      ]
     },
     "execution_count": 55,
     "metadata": {},
     "output_type": "execute_result"
    }
   ],
   "source": [
    "# количество уникальных пользователей в группе B\n",
    "b_uniq = test_df_b['user_id'].nunique()\n",
    "b_uniq"
   ]
  },
  {
   "cell_type": "code",
   "execution_count": 56,
   "id": "bc7fd24b",
   "metadata": {},
   "outputs": [
    {
     "data": {
      "text/plain": [
       "1480"
      ]
     },
     "execution_count": 56,
     "metadata": {},
     "output_type": "execute_result"
    }
   ],
   "source": [
    "# количество уникальных пользователей в группе B,\n",
    "# совершивших покупку (в течение 7 дней после регистрации)\n",
    "b_purch = test_df_b[test_df_b['event_name']== 'purchase']['user_id'].nunique()\n",
    "b_purch"
   ]
  },
  {
   "cell_type": "code",
   "execution_count": 59,
   "id": "42c0643b",
   "metadata": {},
   "outputs": [
    {
     "data": {
      "text/plain": [
       "0.295"
      ]
     },
     "execution_count": 59,
     "metadata": {},
     "output_type": "execute_result"
    }
   ],
   "source": [
    "# Рассчитаем долю пользователей, совершивших покупку (конверсию) для группы B \n",
    "cr_b = round(b_purch/b_uniq ,3)\n",
    "cr_b"
   ]
  },
  {
   "cell_type": "code",
   "execution_count": 60,
   "id": "85564c5e",
   "metadata": {},
   "outputs": [
    {
     "data": {
      "text/plain": [
       "1.7"
      ]
     },
     "execution_count": 60,
     "metadata": {},
     "output_type": "execute_result"
    }
   ],
   "source": [
    "# рассчитаем разницу конверсий между группами \n",
    "cr_diff = round(100 * (cr_b - cr_a),3 )\n",
    "cr_diff"
   ]
  },
  {
   "cell_type": "markdown",
   "id": "sh1JpGvAs5E3",
   "metadata": {
    "id": "sh1JpGvAs5E3"
   },
   "source": [
    "- сделайте предварительный общий вывод об изменении пользовательской активности в тестовой группе по сравнению с контрольной."
   ]
  },
  {
   "cell_type": "markdown",
   "id": "c25ab44b",
   "metadata": {
    "id": "hHTHPkJYs8mE"
   },
   "source": [
    "Как видим, конверсия в тестовой группе на 1.7% выше, чем в контрольной"
   ]
  },
  {
   "cell_type": "markdown",
   "id": "IKZ1Oo3Ws919",
   "metadata": {
    "id": "IKZ1Oo3Ws919"
   },
   "source": [
    "## 4. Проведите оценку результатов A/B-тестирования:"
   ]
  },
  {
   "cell_type": "markdown",
   "id": "dcUdBSmvtC-E",
   "metadata": {
    "id": "dcUdBSmvtC-E"
   },
   "source": [
    "- Проверьте изменение конверсии подходящим статистическим тестом, учитывая все этапы проверки гипотез."
   ]
  },
  {
   "cell_type": "markdown",
   "id": "57066fbf",
   "metadata": {
    "id": "l_KOziBQtL3t"
   },
   "source": [
    "Так как анализируем изменение в метрике доли (конверсию),потребуется использовать Z-тест пропорций"
   ]
  },
  {
   "cell_type": "markdown",
   "id": "28e352c2",
   "metadata": {},
   "source": [
    "H0: конверсия зарегистрированных пользователей в покупателей для двух групп не различается или различия не статистически значимы или равны\n",
    "\n",
    "сr_b = cr_a\n",
    "\n",
    "H1: конверсия зарегистрированных пользователей в покупателей для двух групп различается или различия статистически значимы или конверсия в тестовой группе не выше, чем в офрмальной\n",
    "\n",
    "сr_b > cr_a"
   ]
  },
  {
   "cell_type": "code",
   "execution_count": 62,
   "id": "96f2e5f5",
   "metadata": {},
   "outputs": [
    {
     "name": "stdout",
     "output_type": "stream",
     "text": [
      "pvalue=0.01133245942807192 < 0.05\n",
      "Альтернативная гипотеза находит подтверждение\n"
     ]
    }
   ],
   "source": [
    "# количество покупателей \n",
    "m_a = a_purch\n",
    "m_b = b_purch\n",
    "\n",
    "\n",
    "# размеры выборок \n",
    "n_a = a_uniq\n",
    "n_b = b_uniq\n",
    "\n",
    "# определим уровень значимости \n",
    "alpha = 0.05\n",
    "\n",
    "stat_ztest, p_value_ztest = proportions_ztest(\n",
    "    [m_a, m_b],\n",
    "    [n_a, n_b],\n",
    "    alternative = 'smaller'\n",
    ")\n",
    "\n",
    "\n",
    "if p_value_ztest > alpha:\n",
    "    print(f'pvalue={p_value_ztest} > {alpha}')\n",
    "    print('Нулевая гипотеза находит подтверждение')\n",
    "else:\n",
    "    print(f'pvalue={p_value_ztest} < {alpha}')\n",
    "    print('Альтернативная гипотеза находит подтверждение')"
   ]
  },
  {
   "cell_type": "markdown",
   "id": "9jkyKOjgtGoc",
   "metadata": {
    "id": "9jkyKOjgtGoc"
   },
   "source": [
    "- Опишите выводы по проведённой оценке результатов A/B-тестирования. Что можно сказать про результаты A/B-тестирования? Был ли достигнут ожидаемый эффект в изменении конверсии?"
   ]
  },
  {
   "cell_type": "markdown",
   "id": "64f60872",
   "metadata": {},
   "source": [
    "Как видим, рассчитанные p_value ниже уровня значимости, то есть есть основания для принятия альтернативной гипотезы.\n",
    "\n",
    "То есть, рост конверсии в тестовой группе на 1,7% может быть объяснен изменением дизайна сайта, но НЕ достигнут целевой показатель роста конверсии в 3%.\n",
    "\n",
    "Рекомендации:\n",
    "\n",
    "- Провести дополнительный анализ по сегментам — возможно, новый интерфейс работает лучше для отдельных групп (мобильные пользователи, новички и т.д.);\n",
    "- Запустить дополнительные A/B-тесты с другими UX-гипотезами: добавление подсказок, этапов онбординга, изменения CTA;\n",
    "- Изучить поведение пользователей воронки после регистрации — где именно теряется интерес;\n",
    "- Собрать качественную обратную связь от пользователей — чтобы понять, какие барьеры мешают сделать покупку;\n",
    "- Сфокусироваться на других точках роста, например, на продлении LTV, повышении Retention или улучшении маркетингового взаимодействия."
   ]
  }
 ],
 "metadata": {
  "ExecuteTimeLog": [
   {
    "duration": 52,
    "start_time": "2025-08-08T14:29:43.087Z"
   },
   {
    "duration": 440,
    "start_time": "2025-08-08T14:30:12.891Z"
   },
   {
    "duration": 110,
    "start_time": "2025-08-08T14:30:13.439Z"
   },
   {
    "duration": 7,
    "start_time": "2025-08-08T14:30:28.071Z"
   },
   {
    "duration": 37,
    "start_time": "2025-08-08T14:31:12.086Z"
   },
   {
    "duration": 39,
    "start_time": "2025-08-08T14:31:44.051Z"
   },
   {
    "duration": 30,
    "start_time": "2025-08-08T14:31:54.535Z"
   },
   {
    "duration": 12,
    "start_time": "2025-08-08T14:32:23.326Z"
   },
   {
    "duration": 465,
    "start_time": "2025-08-08T15:23:29.850Z"
   },
   {
    "duration": 1409,
    "start_time": "2025-08-08T15:25:19.314Z"
   },
   {
    "duration": 9,
    "start_time": "2025-08-08T15:25:33.352Z"
   },
   {
    "duration": 7,
    "start_time": "2025-08-08T15:26:17.888Z"
   },
   {
    "duration": 6,
    "start_time": "2025-08-08T15:26:35.005Z"
   },
   {
    "duration": 10,
    "start_time": "2025-08-08T15:35:36.679Z"
   },
   {
    "duration": 10,
    "start_time": "2025-08-08T15:36:20.284Z"
   },
   {
    "duration": 9,
    "start_time": "2025-08-08T15:36:26.042Z"
   },
   {
    "duration": 101,
    "start_time": "2025-08-08T15:36:48.596Z"
   },
   {
    "duration": 93,
    "start_time": "2025-08-08T15:36:57.744Z"
   },
   {
    "duration": 8,
    "start_time": "2025-08-08T15:44:54.263Z"
   },
   {
    "duration": 5,
    "start_time": "2025-08-08T15:44:59.514Z"
   },
   {
    "duration": 6,
    "start_time": "2025-08-08T15:45:05.760Z"
   },
   {
    "duration": 8,
    "start_time": "2025-08-08T15:46:49.228Z"
   },
   {
    "duration": 7,
    "start_time": "2025-08-08T15:47:03.342Z"
   },
   {
    "duration": 369,
    "start_time": "2025-08-09T07:19:11.904Z"
   },
   {
    "duration": 85,
    "start_time": "2025-08-09T07:19:12.430Z"
   },
   {
    "duration": 12,
    "start_time": "2025-08-09T07:19:13.513Z"
   },
   {
    "duration": 67,
    "start_time": "2025-08-09T07:19:16.614Z"
   },
   {
    "duration": 6,
    "start_time": "2025-08-09T07:19:32.167Z"
   },
   {
    "duration": 5,
    "start_time": "2025-08-09T07:19:53.888Z"
   },
   {
    "duration": 11,
    "start_time": "2025-08-09T07:20:04.544Z"
   },
   {
    "duration": 5,
    "start_time": "2025-08-09T07:20:10.487Z"
   },
   {
    "duration": 11,
    "start_time": "2025-08-09T07:20:11.618Z"
   },
   {
    "duration": 95,
    "start_time": "2025-08-09T07:20:17.742Z"
   },
   {
    "duration": 10,
    "start_time": "2025-08-09T07:20:32.250Z"
   },
   {
    "duration": 38,
    "start_time": "2025-08-09T07:20:48.366Z"
   },
   {
    "duration": 28,
    "start_time": "2025-08-09T07:20:53.110Z"
   },
   {
    "duration": 11,
    "start_time": "2025-08-09T07:20:59.796Z"
   },
   {
    "duration": 6,
    "start_time": "2025-08-09T07:21:04.925Z"
   },
   {
    "duration": 10,
    "start_time": "2025-08-09T07:21:19.701Z"
   },
   {
    "duration": 10,
    "start_time": "2025-08-09T07:21:58.306Z"
   },
   {
    "duration": 7,
    "start_time": "2025-08-09T07:23:29.489Z"
   },
   {
    "duration": 7,
    "start_time": "2025-08-09T07:24:08.097Z"
   },
   {
    "duration": 6,
    "start_time": "2025-08-09T07:25:26.995Z"
   },
   {
    "duration": 7,
    "start_time": "2025-08-09T07:31:09.217Z"
   },
   {
    "duration": 16,
    "start_time": "2025-08-09T07:31:20.956Z"
   },
   {
    "duration": 12,
    "start_time": "2025-08-09T07:31:40.262Z"
   },
   {
    "duration": 8,
    "start_time": "2025-08-09T07:31:47.267Z"
   },
   {
    "duration": 10,
    "start_time": "2025-08-09T07:32:02.160Z"
   },
   {
    "duration": 10,
    "start_time": "2025-08-09T07:32:06.707Z"
   },
   {
    "duration": 6,
    "start_time": "2025-08-09T07:32:16.767Z"
   },
   {
    "duration": 6,
    "start_time": "2025-08-09T07:38:41.786Z"
   },
   {
    "duration": 6,
    "start_time": "2025-08-09T07:39:54.676Z"
   },
   {
    "duration": 2,
    "start_time": "2025-08-09T07:40:02.528Z"
   },
   {
    "duration": 43,
    "start_time": "2025-08-09T07:40:03.136Z"
   },
   {
    "duration": 19,
    "start_time": "2025-08-09T07:40:04.245Z"
   },
   {
    "duration": 6,
    "start_time": "2025-08-09T07:40:05.905Z"
   },
   {
    "duration": 10,
    "start_time": "2025-08-09T07:40:07.328Z"
   },
   {
    "duration": 7,
    "start_time": "2025-08-09T07:40:08.197Z"
   },
   {
    "duration": 7,
    "start_time": "2025-08-09T07:40:08.824Z"
   },
   {
    "duration": 10,
    "start_time": "2025-08-09T07:40:11.346Z"
   },
   {
    "duration": 7,
    "start_time": "2025-08-09T07:42:23.638Z"
   },
   {
    "duration": 9,
    "start_time": "2025-08-09T07:43:56.379Z"
   },
   {
    "duration": 9,
    "start_time": "2025-08-09T07:44:45.861Z"
   },
   {
    "duration": 6,
    "start_time": "2025-08-09T07:44:50.093Z"
   },
   {
    "duration": 9,
    "start_time": "2025-08-09T07:44:52.886Z"
   },
   {
    "duration": 960,
    "start_time": "2025-08-09T07:45:21.039Z"
   },
   {
    "duration": 31,
    "start_time": "2025-08-09T07:45:22.002Z"
   },
   {
    "duration": 12,
    "start_time": "2025-08-09T07:45:22.321Z"
   },
   {
    "duration": 5,
    "start_time": "2025-08-09T07:45:23.541Z"
   },
   {
    "duration": 10,
    "start_time": "2025-08-09T07:45:24.580Z"
   },
   {
    "duration": 8,
    "start_time": "2025-08-09T07:45:25.171Z"
   },
   {
    "duration": 7,
    "start_time": "2025-08-09T07:45:25.675Z"
   },
   {
    "duration": 7,
    "start_time": "2025-08-09T07:45:27.421Z"
   },
   {
    "duration": 186,
    "start_time": "2025-08-09T07:45:28.620Z"
   },
   {
    "duration": 187,
    "start_time": "2025-08-09T07:50:07.702Z"
   },
   {
    "duration": 144,
    "start_time": "2025-08-09T07:50:35.622Z"
   },
   {
    "duration": 147,
    "start_time": "2025-08-09T07:50:49.251Z"
   },
   {
    "duration": 145,
    "start_time": "2025-08-09T07:57:43.369Z"
   },
   {
    "duration": 115,
    "start_time": "2025-08-09T07:57:57.205Z"
   },
   {
    "duration": 141,
    "start_time": "2025-08-09T07:58:23.651Z"
   },
   {
    "duration": 140,
    "start_time": "2025-08-09T08:06:58.517Z"
   },
   {
    "duration": 249,
    "start_time": "2025-08-09T08:07:06.386Z"
   },
   {
    "duration": 94,
    "start_time": "2025-08-09T08:07:55.874Z"
   },
   {
    "duration": 128,
    "start_time": "2025-08-09T08:10:42.754Z"
   },
   {
    "duration": 130,
    "start_time": "2025-08-09T08:11:00.837Z"
   },
   {
    "duration": 1366,
    "start_time": "2025-08-09T12:32:45.980Z"
   },
   {
    "duration": 156,
    "start_time": "2025-08-09T12:37:01.167Z"
   },
   {
    "duration": 172,
    "start_time": "2025-08-09T12:42:37.700Z"
   },
   {
    "duration": 20,
    "start_time": "2025-08-09T12:47:21.239Z"
   },
   {
    "duration": 11,
    "start_time": "2025-08-09T12:53:59.488Z"
   },
   {
    "duration": 11,
    "start_time": "2025-08-09T12:55:53.330Z"
   },
   {
    "duration": 11,
    "start_time": "2025-08-09T12:56:06.203Z"
   },
   {
    "duration": 13,
    "start_time": "2025-08-09T12:57:43.406Z"
   },
   {
    "duration": 17,
    "start_time": "2025-08-09T13:42:29.073Z"
   },
   {
    "duration": 1887,
    "start_time": "2025-08-09T13:43:22.550Z"
   },
   {
    "duration": 194,
    "start_time": "2025-08-09T13:44:33.028Z"
   },
   {
    "duration": 13,
    "start_time": "2025-08-09T13:44:44.088Z"
   },
   {
    "duration": 155,
    "start_time": "2025-08-09T13:44:49.338Z"
   },
   {
    "duration": 175,
    "start_time": "2025-08-09T13:45:31.630Z"
   },
   {
    "duration": 14,
    "start_time": "2025-08-09T16:39:24.967Z"
   },
   {
    "duration": 9,
    "start_time": "2025-08-09T16:39:50.333Z"
   },
   {
    "duration": 14,
    "start_time": "2025-08-09T16:46:52.405Z"
   },
   {
    "duration": 13,
    "start_time": "2025-08-09T16:47:20.487Z"
   },
   {
    "duration": 12,
    "start_time": "2025-08-09T16:48:46.323Z"
   },
   {
    "duration": 377,
    "start_time": "2025-08-09T16:49:17.129Z"
   },
   {
    "duration": 482,
    "start_time": "2025-08-09T16:51:14.590Z"
   },
   {
    "duration": 416,
    "start_time": "2025-08-09T16:51:54.196Z"
   },
   {
    "duration": 659,
    "start_time": "2025-08-09T16:54:07.839Z"
   },
   {
    "duration": 28,
    "start_time": "2025-08-09T17:16:12.979Z"
   },
   {
    "duration": 27,
    "start_time": "2025-08-09T17:19:50.082Z"
   },
   {
    "duration": 27,
    "start_time": "2025-08-09T17:20:07.551Z"
   },
   {
    "duration": 13,
    "start_time": "2025-08-09T18:35:51.164Z"
   },
   {
    "duration": 11,
    "start_time": "2025-08-09T18:36:27.770Z"
   },
   {
    "duration": 14,
    "start_time": "2025-08-09T18:37:39.557Z"
   },
   {
    "duration": 13,
    "start_time": "2025-08-09T18:42:47.417Z"
   },
   {
    "duration": 13,
    "start_time": "2025-08-09T18:43:16.282Z"
   },
   {
    "duration": 1526,
    "start_time": "2025-08-09T18:45:07.530Z"
   },
   {
    "duration": 1433,
    "start_time": "2025-08-09T18:45:57.487Z"
   },
   {
    "duration": 14,
    "start_time": "2025-08-09T18:46:01.680Z"
   },
   {
    "duration": 85,
    "start_time": "2025-08-09T18:49:42.272Z"
   },
   {
    "duration": 19,
    "start_time": "2025-08-09T18:49:52.949Z"
   },
   {
    "duration": 12,
    "start_time": "2025-08-09T18:51:56.663Z"
   },
   {
    "duration": 5,
    "start_time": "2025-08-09T18:53:25.785Z"
   },
   {
    "duration": 6,
    "start_time": "2025-08-09T18:54:35.417Z"
   },
   {
    "duration": 13,
    "start_time": "2025-08-09T18:55:09.286Z"
   },
   {
    "duration": 11,
    "start_time": "2025-08-09T18:55:42.131Z"
   },
   {
    "duration": 522,
    "start_time": "2025-08-09T18:59:50.558Z"
   },
   {
    "duration": 28,
    "start_time": "2025-08-09T19:01:47.258Z"
   },
   {
    "duration": 536,
    "start_time": "2025-08-09T19:02:06.714Z"
   },
   {
    "duration": 29,
    "start_time": "2025-08-09T19:06:38.074Z"
   },
   {
    "duration": 11,
    "start_time": "2025-08-09T19:06:57.483Z"
   },
   {
    "duration": 19,
    "start_time": "2025-08-09T19:07:03.824Z"
   },
   {
    "duration": 9,
    "start_time": "2025-08-09T19:15:02.814Z"
   },
   {
    "duration": 11,
    "start_time": "2025-08-09T19:15:08.904Z"
   },
   {
    "duration": 9,
    "start_time": "2025-08-09T19:15:11.345Z"
   },
   {
    "duration": 1592,
    "start_time": "2025-08-09T19:15:17.695Z"
   },
   {
    "duration": 12,
    "start_time": "2025-08-09T19:15:19.289Z"
   },
   {
    "duration": 113,
    "start_time": "2025-08-09T19:15:22.758Z"
   },
   {
    "duration": 9,
    "start_time": "2025-08-09T19:15:25.300Z"
   },
   {
    "duration": 9,
    "start_time": "2025-08-09T19:15:27.585Z"
   },
   {
    "duration": 11,
    "start_time": "2025-08-09T19:15:28.408Z"
   },
   {
    "duration": 272,
    "start_time": "2025-08-09T19:15:29.130Z"
   },
   {
    "duration": 593,
    "start_time": "2025-08-09T19:15:30.257Z"
   },
   {
    "duration": 10,
    "start_time": "2025-08-09T19:15:36.059Z"
   },
   {
    "duration": 9,
    "start_time": "2025-08-09T19:15:37.094Z"
   },
   {
    "duration": 19,
    "start_time": "2025-08-09T19:15:38.572Z"
   },
   {
    "duration": 18,
    "start_time": "2025-08-09T19:15:48.892Z"
   },
   {
    "duration": 1294,
    "start_time": "2025-08-09T19:17:11.010Z"
   },
   {
    "duration": 11,
    "start_time": "2025-08-09T19:18:26.066Z"
   },
   {
    "duration": 11,
    "start_time": "2025-08-09T19:18:48.725Z"
   },
   {
    "duration": 21,
    "start_time": "2025-08-09T19:22:18.511Z"
   },
   {
    "duration": 11,
    "start_time": "2025-08-09T19:25:04.958Z"
   },
   {
    "duration": 12,
    "start_time": "2025-08-09T19:26:07.831Z"
   },
   {
    "duration": 18,
    "start_time": "2025-08-09T21:31:57.526Z"
   },
   {
    "duration": 10,
    "start_time": "2025-08-09T21:33:46.275Z"
   },
   {
    "duration": 5,
    "start_time": "2025-08-09T21:34:47.554Z"
   },
   {
    "duration": 6,
    "start_time": "2025-08-09T21:34:50.986Z"
   },
   {
    "duration": 14,
    "start_time": "2025-08-09T21:35:26.501Z"
   },
   {
    "duration": 10,
    "start_time": "2025-08-09T21:38:10.939Z"
   },
   {
    "duration": 13,
    "start_time": "2025-08-09T21:38:21.459Z"
   },
   {
    "duration": 13,
    "start_time": "2025-08-09T21:39:13.005Z"
   },
   {
    "duration": 11,
    "start_time": "2025-08-09T21:39:34.084Z"
   },
   {
    "duration": 5,
    "start_time": "2025-08-09T21:53:31.217Z"
   },
   {
    "duration": 8,
    "start_time": "2025-08-09T21:53:45.319Z"
   },
   {
    "duration": 13,
    "start_time": "2025-08-09T21:54:01.764Z"
   },
   {
    "duration": 7,
    "start_time": "2025-08-09T21:54:37.433Z"
   },
   {
    "duration": 5,
    "start_time": "2025-08-09T22:12:53.451Z"
   },
   {
    "duration": 13,
    "start_time": "2025-08-09T22:13:10.961Z"
   },
   {
    "duration": 5,
    "start_time": "2025-08-09T22:22:34.573Z"
   },
   {
    "duration": 8,
    "start_time": "2025-08-09T22:24:26.357Z"
   },
   {
    "duration": 170,
    "start_time": "2025-08-09T22:41:32.937Z"
   },
   {
    "duration": 163,
    "start_time": "2025-08-09T22:42:17.509Z"
   },
   {
    "duration": 84,
    "start_time": "2025-08-09T22:44:09.497Z"
   },
   {
    "duration": 8,
    "start_time": "2025-08-09T22:45:24.343Z"
   },
   {
    "duration": 8,
    "start_time": "2025-08-09T22:46:19.688Z"
   },
   {
    "duration": 1385,
    "start_time": "2025-08-09T22:51:51.441Z"
   },
   {
    "duration": 1368,
    "start_time": "2025-08-09T22:52:10.751Z"
   },
   {
    "duration": 1390,
    "start_time": "2025-08-09T22:53:10.172Z"
   },
   {
    "duration": 1547,
    "start_time": "2025-08-09T22:53:29.400Z"
   },
   {
    "duration": 85,
    "start_time": "2025-08-09T22:54:41.992Z"
   },
   {
    "duration": 1507,
    "start_time": "2025-08-09T22:55:33.863Z"
   },
   {
    "duration": 101,
    "start_time": "2025-08-10T12:10:24.808Z"
   },
   {
    "duration": 98,
    "start_time": "2025-08-10T12:10:37.038Z"
   },
   {
    "duration": 85,
    "start_time": "2025-08-10T12:11:04.914Z"
   },
   {
    "duration": 27,
    "start_time": "2025-08-10T12:14:10.479Z"
   },
   {
    "duration": 20,
    "start_time": "2025-08-10T12:14:52.813Z"
   },
   {
    "duration": 8,
    "start_time": "2025-08-10T12:18:57.563Z"
   },
   {
    "duration": 10,
    "start_time": "2025-08-10T12:19:19.541Z"
   },
   {
    "duration": 9,
    "start_time": "2025-08-10T12:19:26.326Z"
   },
   {
    "duration": 7,
    "start_time": "2025-08-10T12:19:27.209Z"
   },
   {
    "duration": 48,
    "start_time": "2025-08-11T08:52:04.410Z"
   },
   {
    "duration": 1405,
    "start_time": "2025-08-11T08:52:12.587Z"
   },
   {
    "duration": 34,
    "start_time": "2025-08-11T08:52:13.994Z"
   },
   {
    "duration": 11,
    "start_time": "2025-08-11T08:52:15.296Z"
   },
   {
    "duration": 6,
    "start_time": "2025-08-11T08:52:17.764Z"
   },
   {
    "duration": 12,
    "start_time": "2025-08-11T08:52:21.557Z"
   },
   {
    "duration": 6,
    "start_time": "2025-08-11T08:52:22.320Z"
   },
   {
    "duration": 7,
    "start_time": "2025-08-11T08:52:22.997Z"
   },
   {
    "duration": 8,
    "start_time": "2025-08-11T08:52:25.190Z"
   },
   {
    "duration": 130,
    "start_time": "2025-08-11T08:52:25.986Z"
   },
   {
    "duration": 137,
    "start_time": "2025-08-11T08:52:27.572Z"
   },
   {
    "duration": 10,
    "start_time": "2025-08-11T08:52:30.325Z"
   },
   {
    "duration": 1723,
    "start_time": "2025-08-11T08:52:35.162Z"
   },
   {
    "duration": 13,
    "start_time": "2025-08-11T08:52:36.887Z"
   },
   {
    "duration": 218,
    "start_time": "2025-08-11T08:52:36.902Z"
   },
   {
    "duration": 8,
    "start_time": "2025-08-11T08:52:38.444Z"
   },
   {
    "duration": 11,
    "start_time": "2025-08-11T08:52:38.989Z"
   },
   {
    "duration": 9,
    "start_time": "2025-08-11T08:52:39.555Z"
   },
   {
    "duration": 16,
    "start_time": "2025-08-11T08:52:40.189Z"
   },
   {
    "duration": 14,
    "start_time": "2025-08-11T08:52:40.690Z"
   },
   {
    "duration": 350,
    "start_time": "2025-08-11T08:52:41.204Z"
   },
   {
    "duration": 732,
    "start_time": "2025-08-11T08:52:41.722Z"
   },
   {
    "duration": 11,
    "start_time": "2025-08-11T08:52:43.019Z"
   },
   {
    "duration": 13,
    "start_time": "2025-08-11T08:52:43.660Z"
   },
   {
    "duration": 11,
    "start_time": "2025-08-11T08:52:44.304Z"
   },
   {
    "duration": 5,
    "start_time": "2025-08-11T08:52:44.921Z"
   },
   {
    "duration": 13,
    "start_time": "2025-08-11T08:52:45.671Z"
   },
   {
    "duration": 12,
    "start_time": "2025-08-11T08:52:46.853Z"
   },
   {
    "duration": 6,
    "start_time": "2025-08-11T08:52:47.454Z"
   },
   {
    "duration": 10,
    "start_time": "2025-08-11T08:52:48.244Z"
   },
   {
    "duration": 240,
    "start_time": "2025-08-11T08:52:49.479Z"
   },
   {
    "duration": 8,
    "start_time": "2025-08-11T08:52:50.188Z"
   },
   {
    "duration": 29,
    "start_time": "2025-08-11T08:52:51.820Z"
   },
   {
    "duration": 11,
    "start_time": "2025-08-11T08:52:52.554Z"
   },
   {
    "duration": 11,
    "start_time": "2025-08-11T08:52:53.273Z"
   },
   {
    "duration": 5,
    "start_time": "2025-08-11T08:52:53.904Z"
   },
   {
    "duration": 4,
    "start_time": "2025-08-11T08:53:16.672Z"
   },
   {
    "duration": 95,
    "start_time": "2025-08-11T09:43:34.060Z"
   },
   {
    "duration": 5,
    "start_time": "2025-08-11T09:43:47.391Z"
   },
   {
    "duration": 4,
    "start_time": "2025-08-11T09:44:32.924Z"
   },
   {
    "duration": 114,
    "start_time": "2025-08-11T09:45:21.358Z"
   },
   {
    "duration": 4,
    "start_time": "2025-08-11T09:45:40.330Z"
   },
   {
    "duration": 34,
    "start_time": "2025-08-11T09:46:23.778Z"
   },
   {
    "duration": 5,
    "start_time": "2025-08-11T09:48:39.459Z"
   },
   {
    "duration": 7,
    "start_time": "2025-08-11T09:49:01.358Z"
   },
   {
    "duration": 7,
    "start_time": "2025-08-11T09:49:28.147Z"
   },
   {
    "duration": 4,
    "start_time": "2025-08-11T09:49:51.356Z"
   },
   {
    "duration": 5,
    "start_time": "2025-08-11T09:50:21.899Z"
   },
   {
    "duration": 6,
    "start_time": "2025-08-11T09:50:40.313Z"
   },
   {
    "duration": 8,
    "start_time": "2025-08-11T09:50:40.782Z"
   },
   {
    "duration": 7,
    "start_time": "2025-08-11T09:51:09.408Z"
   },
   {
    "duration": 4,
    "start_time": "2025-08-11T09:51:51.139Z"
   },
   {
    "duration": 6,
    "start_time": "2025-08-11T09:52:06.591Z"
   },
   {
    "duration": 69,
    "start_time": "2025-08-11T09:55:04.390Z"
   },
   {
    "duration": 7,
    "start_time": "2025-08-11T09:55:19.206Z"
   },
   {
    "duration": 7,
    "start_time": "2025-08-11T09:55:19.757Z"
   },
   {
    "duration": 4,
    "start_time": "2025-08-11T09:55:20.307Z"
   },
   {
    "duration": 5,
    "start_time": "2025-08-11T09:55:20.856Z"
   },
   {
    "duration": 6,
    "start_time": "2025-08-11T09:55:33.676Z"
   },
   {
    "duration": 4,
    "start_time": "2025-08-11T09:55:34.356Z"
   },
   {
    "duration": 10,
    "start_time": "2025-08-11T09:55:38.662Z"
   },
   {
    "duration": 12,
    "start_time": "2025-08-11T09:56:19.264Z"
   },
   {
    "duration": 1309,
    "start_time": "2025-08-11T15:41:12.744Z"
   },
   {
    "duration": 3,
    "start_time": "2025-08-11T15:42:30.452Z"
   },
   {
    "duration": 3,
    "start_time": "2025-08-11T15:49:37.440Z"
   },
   {
    "duration": 34,
    "start_time": "2025-08-11T15:49:38.434Z"
   },
   {
    "duration": 111,
    "start_time": "2025-08-11T15:49:39.806Z"
   },
   {
    "duration": 11,
    "start_time": "2025-08-11T15:49:41.812Z"
   },
   {
    "duration": 6,
    "start_time": "2025-08-11T15:49:52.599Z"
   },
   {
    "duration": 12,
    "start_time": "2025-08-11T15:50:15.949Z"
   },
   {
    "duration": 18,
    "start_time": "2025-08-11T15:50:17.775Z"
   },
   {
    "duration": 36,
    "start_time": "2025-08-11T15:50:25.475Z"
   },
   {
    "duration": 4,
    "start_time": "2025-08-11T15:50:26.778Z"
   },
   {
    "duration": 24,
    "start_time": "2025-08-11T15:50:29.066Z"
   },
   {
    "duration": 8,
    "start_time": "2025-08-11T15:50:33.881Z"
   },
   {
    "duration": 16,
    "start_time": "2025-08-11T15:50:35.092Z"
   },
   {
    "duration": 7,
    "start_time": "2025-08-11T15:50:38.245Z"
   },
   {
    "duration": 7,
    "start_time": "2025-08-11T15:50:38.765Z"
   },
   {
    "duration": 10,
    "start_time": "2025-08-11T16:02:58.650Z"
   },
   {
    "duration": 1664,
    "start_time": "2025-08-11T16:03:06.129Z"
   },
   {
    "duration": 14,
    "start_time": "2025-08-11T16:03:07.795Z"
   },
   {
    "duration": 131,
    "start_time": "2025-08-11T16:03:08.558Z"
   },
   {
    "duration": 10,
    "start_time": "2025-08-11T16:03:09.591Z"
   },
   {
    "duration": 11,
    "start_time": "2025-08-11T16:03:10.144Z"
   },
   {
    "duration": 10,
    "start_time": "2025-08-11T16:03:10.685Z"
   },
   {
    "duration": 13,
    "start_time": "2025-08-11T16:03:11.192Z"
   },
   {
    "duration": 12,
    "start_time": "2025-08-11T16:03:11.706Z"
   },
   {
    "duration": 409,
    "start_time": "2025-08-11T16:03:12.242Z"
   },
   {
    "duration": 807,
    "start_time": "2025-08-11T16:03:12.761Z"
   },
   {
    "duration": 13,
    "start_time": "2025-08-11T16:03:14.444Z"
   },
   {
    "duration": 15,
    "start_time": "2025-08-11T16:22:56.178Z"
   },
   {
    "duration": 15,
    "start_time": "2025-08-11T16:23:16.912Z"
   }
  ],
  "colab": {
   "provenance": [],
   "toc_visible": true
  },
  "kernelspec": {
   "display_name": "Python 3 (ipykernel)",
   "language": "python",
   "name": "python3"
  },
  "language_info": {
   "codemirror_mode": {
    "name": "ipython",
    "version": 3
   },
   "file_extension": ".py",
   "mimetype": "text/x-python",
   "name": "python",
   "nbconvert_exporter": "python",
   "pygments_lexer": "ipython3",
   "version": "3.9.5"
  },
  "toc": {
   "base_numbering": 1,
   "nav_menu": {},
   "number_sections": true,
   "sideBar": true,
   "skip_h1_title": true,
   "title_cell": "Table of Contents",
   "title_sidebar": "Contents",
   "toc_cell": false,
   "toc_position": {},
   "toc_section_display": true,
   "toc_window_display": false
  }
 },
 "nbformat": 4,
 "nbformat_minor": 5
}

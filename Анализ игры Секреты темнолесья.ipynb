{
 "cells": [
  {
   "cell_type": "markdown",
   "id": "e06910dd",
   "metadata": {
    "id": "e06910dd"
   },
   "source": [
    "## Секреты Темнолесья"
   ]
  },
  {
   "cell_type": "markdown",
   "id": "4149134c",
   "metadata": {
    "id": "4149134c"
   },
   "source": [
    "### Цели и задачи проекта\n",
    "\n",
    "<font color='#777778'>Основная цель проекта: привлечение новой аудитории с помощью исследования развития игровой индустрии с 2000 по 2013 годы\n",
    "Задачи:\n",
    "1. Обзор игровх платформ\n",
    "2. Изучение объёма продаж игр разных жанров\n",
    "3. Региональные предпочтения игроков\n",
    "4. Акцент на игры жанра RPG (компьютерные ролевые игры)</font>"
   ]
  },
  {
   "cell_type": "markdown",
   "id": "728986ea",
   "metadata": {
    "id": "728986ea"
   },
   "source": [
    "### Описание данных\n",
    "\n",
    "<font color='#777778'>В проекте будут использованы данные датасета `/datasets/new_games.csv` с таким описанием:\n",
    "\n",
    "- `Name` — название игры.\n",
    "- `Platform` — название платформы.\n",
    "- `Year of Release` — год выпуска игры.\n",
    "- `Genre` — жанр игры.\n",
    "- `NA sales` — продажи в Северной Америке (в миллионах проданных копий).\n",
    "- `EU sales` — продажи в Европе (в миллионах проданных копий).\n",
    "- `JP sales` — продажи в Японии (в миллионах проданных копий).\n",
    "- `Other sales` — продажи в других странах (в миллионах проданных копий).\n",
    "- `Critic Score` — оценка критиков (от 0 до 100).\n",
    "- `User Score` — оценка пользователей (от 0 до 10).\n",
    "- `Rating` — рейтинг организации ESRB (англ. Entertainment Software Rating Board). Эта ассоциация определяет рейтинг компьютерных игр и присваивает им подходящую возрастную категорию.\n",
    "</font>"
   ]
  },
  {
   "cell_type": "markdown",
   "id": "4fecaf95",
   "metadata": {
    "id": "4fecaf95"
   },
   "source": [
    "### Содержимое проекта\n",
    "---\n",
    "\n",
    "    \n",
    "[1. Загрузка данных и знакомство с ними](#1.-Загрузка-данных-и-знакомство-с-ними)\n",
    "    \n",
    "[2. Проверка ошибок в данных и их предобработка](#2.-Проверка-ошибок-в-данных-и-их-предобработка)\n",
    "\n",
    "[2.1. Названия или метки столбцов датафрейма](#2.1.-Названия-или-метки-столбцов-датафрейма)\n",
    "\n",
    "[2.2. Типы данных](#2.2.-Типы-данных)\n",
    "\n",
    "[2.3. Наличие пропусков в данных](#2.3.-Наличие-пропусков-в-данных)\n",
    "\n",
    "[2.4. Явные и неявные дубликаты в данных](#2.4.-Явные-и-неявные-дубликаты-в-данных)\n",
    "    \n",
    "[3. Фильтрация данных](#3.-Фильтрация-данных)\n",
    "    \n",
    "[4. Категоризация данных](#4.-Категоризация-данных)\n",
    "    \n",
    "[5. Итоговый вывод](#5.-Итоговый-вывод)"
   ]
  },
  {
   "cell_type": "markdown",
   "id": "6f7d21d6",
   "metadata": {
    "id": "6f7d21d6"
   },
   "source": [
    "## 1. Загрузка данных и знакомство с ними\n",
    "\n",
    "- Загрузите необходимые библиотеки Python и данные датасета `/datasets/new_games.csv`.\n"
   ]
  },
  {
   "cell_type": "code",
   "execution_count": 1,
   "id": "ebb66dc5",
   "metadata": {
    "id": "ebb66dc5"
   },
   "outputs": [],
   "source": [
    "#Импортируем библиотеку pandas\n",
    "import pandas as pd"
   ]
  },
  {
   "cell_type": "code",
   "execution_count": 2,
   "id": "ce87c1db",
   "metadata": {
    "id": "ce87c1db"
   },
   "outputs": [],
   "source": [
    "#Загружаем данные из датасета /datasets/new_games.csv в датафрейм games\n",
    "new_game = pd.read_csv('https://code.s3.yandex.net/datasets/new_games.csv')"
   ]
  },
  {
   "cell_type": "code",
   "execution_count": 3,
   "id": "90fee493",
   "metadata": {
    "id": "90fee493"
   },
   "outputs": [
    {
     "name": "stdout",
     "output_type": "stream",
     "text": [
      "<class 'pandas.core.frame.DataFrame'>\n",
      "RangeIndex: 16956 entries, 0 to 16955\n",
      "Data columns (total 11 columns):\n",
      " #   Column           Non-Null Count  Dtype  \n",
      "---  ------           --------------  -----  \n",
      " 0   Name             16954 non-null  object \n",
      " 1   Platform         16956 non-null  object \n",
      " 2   Year of Release  16681 non-null  float64\n",
      " 3   Genre            16954 non-null  object \n",
      " 4   NA sales         16956 non-null  float64\n",
      " 5   EU sales         16956 non-null  object \n",
      " 6   JP sales         16956 non-null  object \n",
      " 7   Other sales      16956 non-null  float64\n",
      " 8   Critic Score     8242 non-null   float64\n",
      " 9   User Score       10152 non-null  object \n",
      " 10  Rating           10085 non-null  object \n",
      "dtypes: float64(4), object(7)\n",
      "memory usage: 1.4+ MB\n"
     ]
    }
   ],
   "source": [
    "#Выводим информацию о датафрейме\n",
    "new_game.info()"
   ]
  },
  {
   "cell_type": "code",
   "execution_count": 4,
   "id": "3937acf7",
   "metadata": {
    "id": "3937acf7"
   },
   "outputs": [
    {
     "data": {
      "text/html": [
       "<div>\n",
       "<style scoped>\n",
       "    .dataframe tbody tr th:only-of-type {\n",
       "        vertical-align: middle;\n",
       "    }\n",
       "\n",
       "    .dataframe tbody tr th {\n",
       "        vertical-align: top;\n",
       "    }\n",
       "\n",
       "    .dataframe thead th {\n",
       "        text-align: right;\n",
       "    }\n",
       "</style>\n",
       "<table border=\"1\" class=\"dataframe\">\n",
       "  <thead>\n",
       "    <tr style=\"text-align: right;\">\n",
       "      <th></th>\n",
       "      <th>Name</th>\n",
       "      <th>Platform</th>\n",
       "      <th>Year of Release</th>\n",
       "      <th>Genre</th>\n",
       "      <th>NA sales</th>\n",
       "      <th>EU sales</th>\n",
       "      <th>JP sales</th>\n",
       "      <th>Other sales</th>\n",
       "      <th>Critic Score</th>\n",
       "      <th>User Score</th>\n",
       "      <th>Rating</th>\n",
       "    </tr>\n",
       "  </thead>\n",
       "  <tbody>\n",
       "    <tr>\n",
       "      <th>0</th>\n",
       "      <td>Wii Sports</td>\n",
       "      <td>Wii</td>\n",
       "      <td>2006.0</td>\n",
       "      <td>Sports</td>\n",
       "      <td>41.36</td>\n",
       "      <td>28.96</td>\n",
       "      <td>3.77</td>\n",
       "      <td>8.45</td>\n",
       "      <td>76.0</td>\n",
       "      <td>8</td>\n",
       "      <td>E</td>\n",
       "    </tr>\n",
       "    <tr>\n",
       "      <th>1</th>\n",
       "      <td>Super Mario Bros.</td>\n",
       "      <td>NES</td>\n",
       "      <td>1985.0</td>\n",
       "      <td>Platform</td>\n",
       "      <td>29.08</td>\n",
       "      <td>3.58</td>\n",
       "      <td>6.81</td>\n",
       "      <td>0.77</td>\n",
       "      <td>NaN</td>\n",
       "      <td>NaN</td>\n",
       "      <td>NaN</td>\n",
       "    </tr>\n",
       "    <tr>\n",
       "      <th>2</th>\n",
       "      <td>Mario Kart Wii</td>\n",
       "      <td>Wii</td>\n",
       "      <td>2008.0</td>\n",
       "      <td>Racing</td>\n",
       "      <td>15.68</td>\n",
       "      <td>12.76</td>\n",
       "      <td>3.79</td>\n",
       "      <td>3.29</td>\n",
       "      <td>82.0</td>\n",
       "      <td>8.3</td>\n",
       "      <td>E</td>\n",
       "    </tr>\n",
       "    <tr>\n",
       "      <th>3</th>\n",
       "      <td>Wii Sports Resort</td>\n",
       "      <td>Wii</td>\n",
       "      <td>2009.0</td>\n",
       "      <td>Sports</td>\n",
       "      <td>15.61</td>\n",
       "      <td>10.93</td>\n",
       "      <td>3.28</td>\n",
       "      <td>2.95</td>\n",
       "      <td>80.0</td>\n",
       "      <td>8</td>\n",
       "      <td>E</td>\n",
       "    </tr>\n",
       "    <tr>\n",
       "      <th>4</th>\n",
       "      <td>Pokemon Red/Pokemon Blue</td>\n",
       "      <td>GB</td>\n",
       "      <td>1996.0</td>\n",
       "      <td>Role-Playing</td>\n",
       "      <td>11.27</td>\n",
       "      <td>8.89</td>\n",
       "      <td>10.22</td>\n",
       "      <td>1.00</td>\n",
       "      <td>NaN</td>\n",
       "      <td>NaN</td>\n",
       "      <td>NaN</td>\n",
       "    </tr>\n",
       "  </tbody>\n",
       "</table>\n",
       "</div>"
      ],
      "text/plain": [
       "                       Name Platform  Year of Release         Genre  NA sales  \\\n",
       "0                Wii Sports      Wii           2006.0        Sports     41.36   \n",
       "1         Super Mario Bros.      NES           1985.0      Platform     29.08   \n",
       "2            Mario Kart Wii      Wii           2008.0        Racing     15.68   \n",
       "3         Wii Sports Resort      Wii           2009.0        Sports     15.61   \n",
       "4  Pokemon Red/Pokemon Blue       GB           1996.0  Role-Playing     11.27   \n",
       "\n",
       "  EU sales JP sales  Other sales  Critic Score User Score Rating  \n",
       "0    28.96     3.77         8.45          76.0          8      E  \n",
       "1     3.58     6.81         0.77           NaN        NaN    NaN  \n",
       "2    12.76     3.79         3.29          82.0        8.3      E  \n",
       "3    10.93     3.28         2.95          80.0          8      E  \n",
       "4     8.89    10.22         1.00           NaN        NaN    NaN  "
      ]
     },
     "execution_count": 4,
     "metadata": {},
     "output_type": "execute_result"
    }
   ],
   "source": [
    "# Выводим первые строки датафрейма на экран\n",
    "new_game.head()"
   ]
  },
  {
   "cell_type": "markdown",
   "id": "26267bc0",
   "metadata": {
    "id": "26267bc0"
   },
   "source": [
    "Датасет `datasets/new_games.csv` содержит 11 колонок и 16955 строк, в которых представлена информация об игровых платформах.\n",
    "\n",
    "Изучим типы данных и их корректность:\n",
    "- **Числовые значения с плавающей запятой (float64).** Четыре столбца: `Year of Release`, `NA sales`, `Other sales`, `Critic Score`, некорректный тип данных в столбце `Year of Release`, по продажам и оценке выводит данных в таком типе правильный и корректный.\n",
    "- **Строковые данные (object).** Семь столбцов имеют тип данных `object`:\n",
    "- `Name`, `Platform`, `Genre`, `Rating` содержат строковую информацию (название игры, платформу и жанр), что логично для текстовых данных.\n",
    "- `EU sales`, `JP sales` хранят информацию о продажах, что несовсем верно, такие формат данных лучше хранить как тип `float64`.\n",
    "- `User Score`, по моему мнению, должны быть также представлены в формате `float64`, так как хранят в себе информацию об оценке пользователя и рейтинг.\n",
    "\n",
    "После анализа типов данных видно, что почти половина столбцов некорректно представлена. Для оптимизации необходимо преобразовать все вышеперечисленные данные в соответствующий тип."
   ]
  },
  {
   "cell_type": "markdown",
   "id": "05f55eb6",
   "metadata": {
    "id": "05f55eb6"
   },
   "source": [
    "### Пропущенные значения:\n",
    "\n",
    "Исходя из информации о датасете, мы видим, что пропуски присутствуют в 6 столбцах, а именно: `Name`, `Year of Release`, `Genre`, `Critic Score`, `User Score`, `Rating`. Визуально видно, что самое большое количество пропущенных данных в столбце `Critic Score`"
   ]
  },
  {
   "cell_type": "markdown",
   "id": "774bf76e",
   "metadata": {
    "id": "774bf76e"
   },
   "source": [
    "---\n",
    "\n",
    "## 2.  Проверка ошибок в данных и их предобработка\n",
    "\n",
    "\n",
    "### 2.1. Названия, или метки, столбцов датафрейма\n",
    "\n",
    "- Выведите на экран названия всех столбцов датафрейма и проверьте их стиль написания.\n",
    "- Приведите все столбцы к стилю snake case. Названия должны быть в нижнем регистре, а вместо пробелов — подчёркивания."
   ]
  },
  {
   "cell_type": "code",
   "execution_count": 5,
   "id": "b9276a2b",
   "metadata": {
    "id": "b9276a2b"
   },
   "outputs": [
    {
     "data": {
      "text/plain": [
       "Index(['Name', 'Platform', 'Year of Release', 'Genre', 'NA sales', 'EU sales',\n",
       "       'JP sales', 'Other sales', 'Critic Score', 'User Score', 'Rating'],\n",
       "      dtype='object')"
      ]
     },
     "execution_count": 5,
     "metadata": {},
     "output_type": "execute_result"
    }
   ],
   "source": [
    "new_game.columns"
   ]
  },
  {
   "cell_type": "code",
   "execution_count": 6,
   "id": "d554563c",
   "metadata": {
    "id": "d554563c"
   },
   "outputs": [
    {
     "data": {
      "text/plain": [
       "Index(['name', 'platform', 'year_of_release', 'genre', 'na_sales', 'eu_sales',\n",
       "       'jp_sales', 'other_sales', 'critic_score', 'user_score', 'rating'],\n",
       "      dtype='object')"
      ]
     },
     "execution_count": 6,
     "metadata": {},
     "output_type": "execute_result"
    }
   ],
   "source": [
    "columns_snake_case = new_game.columns.str.lower().str.replace(' ','_')\n",
    "new_game.columns = columns_snake_case\n",
    "new_game.columns"
   ]
  },
  {
   "cell_type": "markdown",
   "id": "41bc6bf8",
   "metadata": {
    "id": "41bc6bf8"
   },
   "source": [
    "### 2.2. Типы данных\n",
    "\n",
    "- Если встречаются некорректные типы данных, предположите их причины.\n",
    "- При необходимости проведите преобразование типов данных. Помните, что столбцы с числовыми данными и пропусками нельзя преобразовать к типу `int64`. Сначала вам понадобится обработать пропуски, а затем преобразовать типы данных."
   ]
  },
  {
   "cell_type": "markdown",
   "id": "f83abeee",
   "metadata": {
    "id": "8adaac81"
   },
   "source": [
    "Как я указала выше, по моему мнению некорректные типы данных в столбцах: `'year_of_release'` - его необходимо заменить на тип int64; `'platform', 'genre', 'rating'` - category; `'jp_sales', 'eu_sales', 'user_score'` - в тип данных float64"
   ]
  },
  {
   "cell_type": "code",
   "execution_count": 7,
   "id": "e8412c01",
   "metadata": {
    "id": "e8412c01"
   },
   "outputs": [],
   "source": [
    "# Преобразовываем типы данных к типу float64\n",
    "new_game[['eu_sales', 'jp_sales','user_score']] = new_game[['eu_sales', 'jp_sales','user_score']].apply(pd.to_numeric, errors='coerce')"
   ]
  },
  {
   "cell_type": "code",
   "execution_count": 8,
   "id": "9e53cff4",
   "metadata": {
    "id": "9e53cff4"
   },
   "outputs": [],
   "source": [
    "# Преобразовываем типы данных к типу category\n",
    "new_game[['platform', 'genre', 'rating']] = new_game[['platform', 'genre', 'rating']].astype('category')"
   ]
  },
  {
   "cell_type": "code",
   "execution_count": 9,
   "id": "a9c491ea",
   "metadata": {},
   "outputs": [
    {
     "name": "stdout",
     "output_type": "stream",
     "text": [
      "<class 'pandas.core.frame.DataFrame'>\n",
      "RangeIndex: 16956 entries, 0 to 16955\n",
      "Data columns (total 11 columns):\n",
      " #   Column           Non-Null Count  Dtype   \n",
      "---  ------           --------------  -----   \n",
      " 0   name             16954 non-null  object  \n",
      " 1   platform         16956 non-null  category\n",
      " 2   year_of_release  16681 non-null  Int64   \n",
      " 3   genre            16954 non-null  category\n",
      " 4   na_sales         16956 non-null  float64 \n",
      " 5   eu_sales         16950 non-null  float64 \n",
      " 6   jp_sales         16952 non-null  float64 \n",
      " 7   other_sales      16956 non-null  float64 \n",
      " 8   critic_score     8242 non-null   float64 \n",
      " 9   user_score       7688 non-null   float64 \n",
      " 10  rating           10085 non-null  category\n",
      "dtypes: Int64(1), category(3), float64(6), object(1)\n",
      "memory usage: 1.1+ MB\n"
     ]
    }
   ],
   "source": [
    "# Преобразовываем типы данных к типу int64\n",
    "new_game['year_of_release'] = new_game['year_of_release'].astype('Int64')\n",
    "new_game.info()"
   ]
  },
  {
   "cell_type": "markdown",
   "id": "63378edf",
   "metadata": {
    "id": "63378edf"
   },
   "source": [
    "- В числовых столбцах могут встретиться строковые значения, например `unknown` или другие. Приводите такие столбцы к числовому типу данных, заменив строковые значения на пропуски."
   ]
  },
  {
   "cell_type": "markdown",
   "id": "b39893cb",
   "metadata": {
    "id": "b39893cb"
   },
   "source": [
    "### 2.3. Наличие пропусков в данных\n",
    "\n",
    "- Посчитайте количество пропусков в каждом столбце в абсолютных и относительных значениях.\n"
   ]
  },
  {
   "cell_type": "code",
   "execution_count": 10,
   "id": "0f1c91a8",
   "metadata": {
    "id": "0f1c91a8"
   },
   "outputs": [
    {
     "data": {
      "text/plain": [
       "name                  2\n",
       "platform              0\n",
       "year_of_release     275\n",
       "genre                 2\n",
       "na_sales              0\n",
       "eu_sales              6\n",
       "jp_sales              4\n",
       "other_sales           0\n",
       "critic_score       8714\n",
       "user_score         9268\n",
       "rating             6871\n",
       "dtype: int64"
      ]
     },
     "execution_count": 10,
     "metadata": {},
     "output_type": "execute_result"
    }
   ],
   "source": [
    "# Абсолютные значения\n",
    "new_game.isna().sum()"
   ]
  },
  {
   "cell_type": "code",
   "execution_count": 11,
   "id": "86cd1cc1",
   "metadata": {
    "id": "86cd1cc1"
   },
   "outputs": [
    {
     "data": {
      "text/plain": [
       "name                0.011795\n",
       "platform            0.000000\n",
       "year_of_release     1.621845\n",
       "genre               0.011795\n",
       "na_sales            0.000000\n",
       "eu_sales            0.035386\n",
       "jp_sales            0.023590\n",
       "other_sales         0.000000\n",
       "critic_score       51.391838\n",
       "user_score         54.659118\n",
       "rating             40.522529\n",
       "dtype: float64"
      ]
     },
     "execution_count": 11,
     "metadata": {},
     "output_type": "execute_result"
    }
   ],
   "source": [
    "# Относительные значения (в процентах)\n",
    "new_game.isna().mean() * 100"
   ]
  },
  {
   "cell_type": "markdown",
   "id": "cf796f51",
   "metadata": {
    "id": "cf796f51"
   },
   "source": [
    "Исходя из данных выше в столбцах `name`, `genre`, `eu_sales`, `jp_sales` содержат менее 10 пропусков, исходя из общего количества строк (16956), это составляет менее 0,06 процента, что говорит о том, эти пропуски можно оставить как есть или удалить\n",
    "\n",
    "В столбце `year_of_release` 275 пропусков, это составляет 1,6 % от общего количетсва данных, можно заполнить, но также можно оставить этот столбец без изменений\n",
    "\n",
    "В столбце `rating` 6871 пропущенных значений 40%, доля пропусков высокая, но я бы заполнила их значением, например -1\n",
    "\n",
    "В столбцах `user_score`, `critic_score` пропусков более 50%, то есть больше половины данных, я бы их попробовала заполнить медианным значением\n",
    "\n",
    "Ответ на вопрос, почему могли появиться пропуски, это могло произойти по причине руного ввода информации, либо при переносе данных возникла ошибка\n"
   ]
  },
  {
   "cell_type": "code",
   "execution_count": 12,
   "id": "ad4d8734",
   "metadata": {},
   "outputs": [
    {
     "data": {
      "text/html": [
       "<div>\n",
       "<style scoped>\n",
       "    .dataframe tbody tr th:only-of-type {\n",
       "        vertical-align: middle;\n",
       "    }\n",
       "\n",
       "    .dataframe tbody tr th {\n",
       "        vertical-align: top;\n",
       "    }\n",
       "\n",
       "    .dataframe thead th {\n",
       "        text-align: right;\n",
       "    }\n",
       "</style>\n",
       "<table border=\"1\" class=\"dataframe\">\n",
       "  <thead>\n",
       "    <tr style=\"text-align: right;\">\n",
       "      <th></th>\n",
       "      <th>name</th>\n",
       "      <th>platform</th>\n",
       "      <th>year_of_release</th>\n",
       "      <th>genre</th>\n",
       "      <th>na_sales</th>\n",
       "      <th>eu_sales</th>\n",
       "      <th>jp_sales</th>\n",
       "      <th>other_sales</th>\n",
       "      <th>critic_score</th>\n",
       "      <th>user_score</th>\n",
       "      <th>rating</th>\n",
       "    </tr>\n",
       "  </thead>\n",
       "  <tbody>\n",
       "    <tr>\n",
       "      <th>0</th>\n",
       "      <td>Wii Sports</td>\n",
       "      <td>Wii</td>\n",
       "      <td>2006</td>\n",
       "      <td>Sports</td>\n",
       "      <td>41.36</td>\n",
       "      <td>28.96</td>\n",
       "      <td>3.77</td>\n",
       "      <td>8.45</td>\n",
       "      <td>76.0</td>\n",
       "      <td>8.0</td>\n",
       "      <td>E</td>\n",
       "    </tr>\n",
       "    <tr>\n",
       "      <th>1</th>\n",
       "      <td>Super Mario Bros.</td>\n",
       "      <td>NES</td>\n",
       "      <td>1985</td>\n",
       "      <td>Platform</td>\n",
       "      <td>29.08</td>\n",
       "      <td>3.58</td>\n",
       "      <td>6.81</td>\n",
       "      <td>0.77</td>\n",
       "      <td>NaN</td>\n",
       "      <td>NaN</td>\n",
       "      <td>NaN</td>\n",
       "    </tr>\n",
       "    <tr>\n",
       "      <th>2</th>\n",
       "      <td>Mario Kart Wii</td>\n",
       "      <td>Wii</td>\n",
       "      <td>2008</td>\n",
       "      <td>Racing</td>\n",
       "      <td>15.68</td>\n",
       "      <td>12.76</td>\n",
       "      <td>3.79</td>\n",
       "      <td>3.29</td>\n",
       "      <td>82.0</td>\n",
       "      <td>8.3</td>\n",
       "      <td>E</td>\n",
       "    </tr>\n",
       "    <tr>\n",
       "      <th>3</th>\n",
       "      <td>Wii Sports Resort</td>\n",
       "      <td>Wii</td>\n",
       "      <td>2009</td>\n",
       "      <td>Sports</td>\n",
       "      <td>15.61</td>\n",
       "      <td>10.93</td>\n",
       "      <td>3.28</td>\n",
       "      <td>2.95</td>\n",
       "      <td>80.0</td>\n",
       "      <td>8.0</td>\n",
       "      <td>E</td>\n",
       "    </tr>\n",
       "    <tr>\n",
       "      <th>4</th>\n",
       "      <td>Pokemon Red/Pokemon Blue</td>\n",
       "      <td>GB</td>\n",
       "      <td>1996</td>\n",
       "      <td>Role-Playing</td>\n",
       "      <td>11.27</td>\n",
       "      <td>8.89</td>\n",
       "      <td>10.22</td>\n",
       "      <td>1.00</td>\n",
       "      <td>NaN</td>\n",
       "      <td>NaN</td>\n",
       "      <td>NaN</td>\n",
       "    </tr>\n",
       "    <tr>\n",
       "      <th>...</th>\n",
       "      <td>...</td>\n",
       "      <td>...</td>\n",
       "      <td>...</td>\n",
       "      <td>...</td>\n",
       "      <td>...</td>\n",
       "      <td>...</td>\n",
       "      <td>...</td>\n",
       "      <td>...</td>\n",
       "      <td>...</td>\n",
       "      <td>...</td>\n",
       "      <td>...</td>\n",
       "    </tr>\n",
       "    <tr>\n",
       "      <th>16951</th>\n",
       "      <td>Samurai Warriors: Sanada Maru</td>\n",
       "      <td>PS3</td>\n",
       "      <td>2016</td>\n",
       "      <td>Action</td>\n",
       "      <td>0.00</td>\n",
       "      <td>0.00</td>\n",
       "      <td>0.01</td>\n",
       "      <td>0.00</td>\n",
       "      <td>NaN</td>\n",
       "      <td>NaN</td>\n",
       "      <td>NaN</td>\n",
       "    </tr>\n",
       "    <tr>\n",
       "      <th>16952</th>\n",
       "      <td>LMA Manager 2007</td>\n",
       "      <td>X360</td>\n",
       "      <td>2006</td>\n",
       "      <td>Sports</td>\n",
       "      <td>0.00</td>\n",
       "      <td>0.01</td>\n",
       "      <td>0.00</td>\n",
       "      <td>0.00</td>\n",
       "      <td>NaN</td>\n",
       "      <td>NaN</td>\n",
       "      <td>NaN</td>\n",
       "    </tr>\n",
       "    <tr>\n",
       "      <th>16953</th>\n",
       "      <td>Haitaka no Psychedelica</td>\n",
       "      <td>PSV</td>\n",
       "      <td>2016</td>\n",
       "      <td>Adventure</td>\n",
       "      <td>0.00</td>\n",
       "      <td>0.00</td>\n",
       "      <td>0.01</td>\n",
       "      <td>0.00</td>\n",
       "      <td>NaN</td>\n",
       "      <td>NaN</td>\n",
       "      <td>NaN</td>\n",
       "    </tr>\n",
       "    <tr>\n",
       "      <th>16954</th>\n",
       "      <td>Spirits &amp; Spells</td>\n",
       "      <td>GBA</td>\n",
       "      <td>2003</td>\n",
       "      <td>Platform</td>\n",
       "      <td>0.01</td>\n",
       "      <td>0.00</td>\n",
       "      <td>0.00</td>\n",
       "      <td>0.00</td>\n",
       "      <td>NaN</td>\n",
       "      <td>NaN</td>\n",
       "      <td>NaN</td>\n",
       "    </tr>\n",
       "    <tr>\n",
       "      <th>16955</th>\n",
       "      <td>Winning Post 8 2016</td>\n",
       "      <td>PSV</td>\n",
       "      <td>2016</td>\n",
       "      <td>Simulation</td>\n",
       "      <td>0.00</td>\n",
       "      <td>0.00</td>\n",
       "      <td>0.01</td>\n",
       "      <td>0.00</td>\n",
       "      <td>NaN</td>\n",
       "      <td>NaN</td>\n",
       "      <td>NaN</td>\n",
       "    </tr>\n",
       "  </tbody>\n",
       "</table>\n",
       "<p>16956 rows × 11 columns</p>\n",
       "</div>"
      ],
      "text/plain": [
       "                                name platform  year_of_release         genre  \\\n",
       "0                         Wii Sports      Wii             2006        Sports   \n",
       "1                  Super Mario Bros.      NES             1985      Platform   \n",
       "2                     Mario Kart Wii      Wii             2008        Racing   \n",
       "3                  Wii Sports Resort      Wii             2009        Sports   \n",
       "4           Pokemon Red/Pokemon Blue       GB             1996  Role-Playing   \n",
       "...                              ...      ...              ...           ...   \n",
       "16951  Samurai Warriors: Sanada Maru      PS3             2016        Action   \n",
       "16952               LMA Manager 2007     X360             2006        Sports   \n",
       "16953        Haitaka no Psychedelica      PSV             2016     Adventure   \n",
       "16954               Spirits & Spells      GBA             2003      Platform   \n",
       "16955            Winning Post 8 2016      PSV             2016    Simulation   \n",
       "\n",
       "       na_sales  eu_sales  jp_sales  other_sales  critic_score  user_score  \\\n",
       "0         41.36     28.96      3.77         8.45          76.0         8.0   \n",
       "1         29.08      3.58      6.81         0.77           NaN         NaN   \n",
       "2         15.68     12.76      3.79         3.29          82.0         8.3   \n",
       "3         15.61     10.93      3.28         2.95          80.0         8.0   \n",
       "4         11.27      8.89     10.22         1.00           NaN         NaN   \n",
       "...         ...       ...       ...          ...           ...         ...   \n",
       "16951      0.00      0.00      0.01         0.00           NaN         NaN   \n",
       "16952      0.00      0.01      0.00         0.00           NaN         NaN   \n",
       "16953      0.00      0.00      0.01         0.00           NaN         NaN   \n",
       "16954      0.01      0.00      0.00         0.00           NaN         NaN   \n",
       "16955      0.00      0.00      0.01         0.00           NaN         NaN   \n",
       "\n",
       "      rating  \n",
       "0          E  \n",
       "1        NaN  \n",
       "2          E  \n",
       "3          E  \n",
       "4        NaN  \n",
       "...      ...  \n",
       "16951    NaN  \n",
       "16952    NaN  \n",
       "16953    NaN  \n",
       "16954    NaN  \n",
       "16955    NaN  \n",
       "\n",
       "[16956 rows x 11 columns]"
      ]
     },
     "execution_count": 12,
     "metadata": {},
     "output_type": "execute_result"
    }
   ],
   "source": [
    "# Добавляем новое значение в список категорий\n",
    "if -1 not in new_game['rating'].cat.categories:\n",
    "    new_game['rating'].cat.add_categories([-1], inplace=True)\n",
    "else:\n",
    "    # Выбираем другое значение, например, -999\n",
    "    new_game['rating'].cat.add_categories([-999], inplace=True)\n",
    "new_game"
   ]
  },
  {
   "cell_type": "code",
   "execution_count": 13,
   "id": "bd69e642",
   "metadata": {
    "id": "bd69e642"
   },
   "outputs": [
    {
     "data": {
      "text/html": [
       "<div>\n",
       "<style scoped>\n",
       "    .dataframe tbody tr th:only-of-type {\n",
       "        vertical-align: middle;\n",
       "    }\n",
       "\n",
       "    .dataframe tbody tr th {\n",
       "        vertical-align: top;\n",
       "    }\n",
       "\n",
       "    .dataframe thead th {\n",
       "        text-align: right;\n",
       "    }\n",
       "</style>\n",
       "<table border=\"1\" class=\"dataframe\">\n",
       "  <thead>\n",
       "    <tr style=\"text-align: right;\">\n",
       "      <th></th>\n",
       "      <th>name</th>\n",
       "      <th>platform</th>\n",
       "      <th>year_of_release</th>\n",
       "      <th>genre</th>\n",
       "      <th>na_sales</th>\n",
       "      <th>eu_sales</th>\n",
       "      <th>jp_sales</th>\n",
       "      <th>other_sales</th>\n",
       "      <th>critic_score</th>\n",
       "      <th>user_score</th>\n",
       "      <th>rating</th>\n",
       "    </tr>\n",
       "  </thead>\n",
       "  <tbody>\n",
       "    <tr>\n",
       "      <th>0</th>\n",
       "      <td>Wii Sports</td>\n",
       "      <td>Wii</td>\n",
       "      <td>2006</td>\n",
       "      <td>Sports</td>\n",
       "      <td>41.36</td>\n",
       "      <td>28.96</td>\n",
       "      <td>3.77</td>\n",
       "      <td>8.45</td>\n",
       "      <td>76.0</td>\n",
       "      <td>8.0</td>\n",
       "      <td>E</td>\n",
       "    </tr>\n",
       "    <tr>\n",
       "      <th>1</th>\n",
       "      <td>Super Mario Bros.</td>\n",
       "      <td>NES</td>\n",
       "      <td>1985</td>\n",
       "      <td>Platform</td>\n",
       "      <td>29.08</td>\n",
       "      <td>3.58</td>\n",
       "      <td>6.81</td>\n",
       "      <td>0.77</td>\n",
       "      <td>-1.0</td>\n",
       "      <td>-1.0</td>\n",
       "      <td>-1</td>\n",
       "    </tr>\n",
       "    <tr>\n",
       "      <th>2</th>\n",
       "      <td>Mario Kart Wii</td>\n",
       "      <td>Wii</td>\n",
       "      <td>2008</td>\n",
       "      <td>Racing</td>\n",
       "      <td>15.68</td>\n",
       "      <td>12.76</td>\n",
       "      <td>3.79</td>\n",
       "      <td>3.29</td>\n",
       "      <td>82.0</td>\n",
       "      <td>8.3</td>\n",
       "      <td>E</td>\n",
       "    </tr>\n",
       "    <tr>\n",
       "      <th>3</th>\n",
       "      <td>Wii Sports Resort</td>\n",
       "      <td>Wii</td>\n",
       "      <td>2009</td>\n",
       "      <td>Sports</td>\n",
       "      <td>15.61</td>\n",
       "      <td>10.93</td>\n",
       "      <td>3.28</td>\n",
       "      <td>2.95</td>\n",
       "      <td>80.0</td>\n",
       "      <td>8.0</td>\n",
       "      <td>E</td>\n",
       "    </tr>\n",
       "    <tr>\n",
       "      <th>4</th>\n",
       "      <td>Pokemon Red/Pokemon Blue</td>\n",
       "      <td>GB</td>\n",
       "      <td>1996</td>\n",
       "      <td>Role-Playing</td>\n",
       "      <td>11.27</td>\n",
       "      <td>8.89</td>\n",
       "      <td>10.22</td>\n",
       "      <td>1.00</td>\n",
       "      <td>-1.0</td>\n",
       "      <td>-1.0</td>\n",
       "      <td>-1</td>\n",
       "    </tr>\n",
       "    <tr>\n",
       "      <th>...</th>\n",
       "      <td>...</td>\n",
       "      <td>...</td>\n",
       "      <td>...</td>\n",
       "      <td>...</td>\n",
       "      <td>...</td>\n",
       "      <td>...</td>\n",
       "      <td>...</td>\n",
       "      <td>...</td>\n",
       "      <td>...</td>\n",
       "      <td>...</td>\n",
       "      <td>...</td>\n",
       "    </tr>\n",
       "    <tr>\n",
       "      <th>16951</th>\n",
       "      <td>Samurai Warriors: Sanada Maru</td>\n",
       "      <td>PS3</td>\n",
       "      <td>2016</td>\n",
       "      <td>Action</td>\n",
       "      <td>0.00</td>\n",
       "      <td>0.00</td>\n",
       "      <td>0.01</td>\n",
       "      <td>0.00</td>\n",
       "      <td>-1.0</td>\n",
       "      <td>-1.0</td>\n",
       "      <td>-1</td>\n",
       "    </tr>\n",
       "    <tr>\n",
       "      <th>16952</th>\n",
       "      <td>LMA Manager 2007</td>\n",
       "      <td>X360</td>\n",
       "      <td>2006</td>\n",
       "      <td>Sports</td>\n",
       "      <td>0.00</td>\n",
       "      <td>0.01</td>\n",
       "      <td>0.00</td>\n",
       "      <td>0.00</td>\n",
       "      <td>-1.0</td>\n",
       "      <td>-1.0</td>\n",
       "      <td>-1</td>\n",
       "    </tr>\n",
       "    <tr>\n",
       "      <th>16953</th>\n",
       "      <td>Haitaka no Psychedelica</td>\n",
       "      <td>PSV</td>\n",
       "      <td>2016</td>\n",
       "      <td>Adventure</td>\n",
       "      <td>0.00</td>\n",
       "      <td>0.00</td>\n",
       "      <td>0.01</td>\n",
       "      <td>0.00</td>\n",
       "      <td>-1.0</td>\n",
       "      <td>-1.0</td>\n",
       "      <td>-1</td>\n",
       "    </tr>\n",
       "    <tr>\n",
       "      <th>16954</th>\n",
       "      <td>Spirits &amp; Spells</td>\n",
       "      <td>GBA</td>\n",
       "      <td>2003</td>\n",
       "      <td>Platform</td>\n",
       "      <td>0.01</td>\n",
       "      <td>0.00</td>\n",
       "      <td>0.00</td>\n",
       "      <td>0.00</td>\n",
       "      <td>-1.0</td>\n",
       "      <td>-1.0</td>\n",
       "      <td>-1</td>\n",
       "    </tr>\n",
       "    <tr>\n",
       "      <th>16955</th>\n",
       "      <td>Winning Post 8 2016</td>\n",
       "      <td>PSV</td>\n",
       "      <td>2016</td>\n",
       "      <td>Simulation</td>\n",
       "      <td>0.00</td>\n",
       "      <td>0.00</td>\n",
       "      <td>0.01</td>\n",
       "      <td>0.00</td>\n",
       "      <td>-1.0</td>\n",
       "      <td>-1.0</td>\n",
       "      <td>-1</td>\n",
       "    </tr>\n",
       "  </tbody>\n",
       "</table>\n",
       "<p>16956 rows × 11 columns</p>\n",
       "</div>"
      ],
      "text/plain": [
       "                                name platform  year_of_release         genre  \\\n",
       "0                         Wii Sports      Wii             2006        Sports   \n",
       "1                  Super Mario Bros.      NES             1985      Platform   \n",
       "2                     Mario Kart Wii      Wii             2008        Racing   \n",
       "3                  Wii Sports Resort      Wii             2009        Sports   \n",
       "4           Pokemon Red/Pokemon Blue       GB             1996  Role-Playing   \n",
       "...                              ...      ...              ...           ...   \n",
       "16951  Samurai Warriors: Sanada Maru      PS3             2016        Action   \n",
       "16952               LMA Manager 2007     X360             2006        Sports   \n",
       "16953        Haitaka no Psychedelica      PSV             2016     Adventure   \n",
       "16954               Spirits & Spells      GBA             2003      Platform   \n",
       "16955            Winning Post 8 2016      PSV             2016    Simulation   \n",
       "\n",
       "       na_sales  eu_sales  jp_sales  other_sales  critic_score  user_score  \\\n",
       "0         41.36     28.96      3.77         8.45          76.0         8.0   \n",
       "1         29.08      3.58      6.81         0.77          -1.0        -1.0   \n",
       "2         15.68     12.76      3.79         3.29          82.0         8.3   \n",
       "3         15.61     10.93      3.28         2.95          80.0         8.0   \n",
       "4         11.27      8.89     10.22         1.00          -1.0        -1.0   \n",
       "...         ...       ...       ...          ...           ...         ...   \n",
       "16951      0.00      0.00      0.01         0.00          -1.0        -1.0   \n",
       "16952      0.00      0.01      0.00         0.00          -1.0        -1.0   \n",
       "16953      0.00      0.00      0.01         0.00          -1.0        -1.0   \n",
       "16954      0.01      0.00      0.00         0.00          -1.0        -1.0   \n",
       "16955      0.00      0.00      0.01         0.00          -1.0        -1.0   \n",
       "\n",
       "      rating  \n",
       "0          E  \n",
       "1         -1  \n",
       "2          E  \n",
       "3          E  \n",
       "4         -1  \n",
       "...      ...  \n",
       "16951     -1  \n",
       "16952     -1  \n",
       "16953     -1  \n",
       "16954     -1  \n",
       "16955     -1  \n",
       "\n",
       "[16956 rows x 11 columns]"
      ]
     },
     "execution_count": 13,
     "metadata": {},
     "output_type": "execute_result"
    }
   ],
   "source": [
    "#Заменяем заглушками в столбцах по году и оценкам на значение в пропусках\n",
    "new_game[['year_of_release', 'critic_score', 'user_score', 'rating']] = new_game[['year_of_release', 'critic_score', 'user_score', 'rating']].fillna(-1)\n",
    "new_game"
   ]
  },
  {
   "cell_type": "markdown",
   "id": "a63363fd",
   "metadata": {
    "id": "a63363fd"
   },
   "source": [
    "### 2.4. Явные и неявные дубликаты в данных\n",
    "\n",
    "- Изучите уникальные значения в категориальных данных, например с названиями жанра игры, платформы, рейтинга и года выпуска. Проверьте, встречаются ли среди данных неявные дубликаты, связанные с опечатками или разным способом написания.\n",
    "- При необходимости проведите нормализацию данных с текстовыми значениями. Названия или жанры игр можно привести к нижнему регистру, а названия рейтинга — к верхнему."
   ]
  },
  {
   "cell_type": "code",
   "execution_count": 14,
   "id": "491c9c39",
   "metadata": {
    "id": "491c9c39"
   },
   "outputs": [
    {
     "name": "stdout",
     "output_type": "stream",
     "text": [
      "Количество дублирующихся строк: 182\n"
     ]
    },
    {
     "data": {
      "text/plain": [
       "name               11559\n",
       "platform              31\n",
       "year_of_release       38\n",
       "genre                 24\n",
       "na_sales             402\n",
       "eu_sales             307\n",
       "jp_sales             244\n",
       "other_sales          155\n",
       "critic_score          83\n",
       "user_score            96\n",
       "rating                 9\n",
       "dtype: int64"
      ]
     },
     "execution_count": 14,
     "metadata": {},
     "output_type": "execute_result"
    }
   ],
   "source": [
    "print('Количество дублирующихся строк:', new_game.duplicated().sum())\n",
    "\n",
    "new_game.nunique()"
   ]
  },
  {
   "cell_type": "code",
   "execution_count": 15,
   "id": "d01ee1db",
   "metadata": {},
   "outputs": [
    {
     "name": "stdout",
     "output_type": "stream",
     "text": [
      "\n",
      "Уникальные значения в genre:\n",
      "['Sports', 'Platform', 'Racing', 'Role-Playing', 'Puzzle', ..., 'PLATFORM', 'ADVENTURE', 'SIMULATION', 'PUZZLE', 'STRATEGY']\n",
      "Length: 25\n",
      "Categories (24, object): ['Sports', 'Platform', 'Racing', 'Role-Playing', ..., 'ADVENTURE', 'SIMULATION', 'PUZZLE', 'STRATEGY']\n",
      "Количество уникальных значений: 24\n",
      "\n",
      "Уникальные значения в platform:\n",
      "['Wii', 'NES', 'GB', 'DS', 'X360', ..., 'NG', 'TG16', '3DO', 'GG', 'PCFX']\n",
      "Length: 31\n",
      "Categories (31, object): ['Wii', 'NES', 'GB', 'DS', ..., 'TG16', '3DO', 'GG', 'PCFX']\n",
      "Количество уникальных значений: 31\n",
      "\n",
      "Уникальные значения в rating:\n",
      "['E', -1, 'M', 'T', 'E10+', 'K-A', 'AO', 'EC', 'RP']\n",
      "Categories (9, object): ['E', -1, 'M', 'T', ..., 'K-A', 'AO', 'EC', 'RP']\n",
      "Количество уникальных значений: 9\n",
      "\n",
      "Уникальные значения в year_of_release:\n",
      "<IntegerArray>\n",
      "[2006, 1985, 2008, 2009, 1996, 1989, 1984, 2005, 1999, 2007, 2010, 2013, 2004,\n",
      " 1990, 1988, 2002, 2001, 2011, 1998, 2015, 2012, 2014, 1992, 1997, 1993, 1994,\n",
      " 1982, 2016, 2003, 1986, 2000,   -1, 1995, 1991, 1981, 1987, 1980, 1983]\n",
      "Length: 38, dtype: Int64\n",
      "Количество уникальных значений: 38\n"
     ]
    }
   ],
   "source": [
    "# Для каждого категориального столбца\n",
    "for column in ['genre', 'platform', 'rating', 'year_of_release']:\n",
    "    print(f\"\\nУникальные значения в {column}:\")\n",
    "    print(new_game[column].unique())\n",
    "    print(f\"Количество уникальных значений: {new_game[column].nunique()}\")"
   ]
  },
  {
   "cell_type": "code",
   "execution_count": 16,
   "id": "f1627198",
   "metadata": {
    "id": "f1627198"
   },
   "outputs": [
    {
     "name": "stdout",
     "output_type": "stream",
     "text": [
      "Возможные дубликаты в жанрах:\n",
      "ACTION            13\n",
      "ADVENTURE          4\n",
      "Action          3405\n",
      "Adventure       1319\n",
      "FIGHTING           6\n",
      "Fighting         856\n",
      "MISC               3\n",
      "Misc            1769\n",
      "PLATFORM           3\n",
      "PUZZLE             2\n",
      "Platform         901\n",
      "Puzzle           588\n",
      "RACING             6\n",
      "ROLE-PLAYING       6\n",
      "Racing          1267\n",
      "Role-Playing    1510\n",
      "SHOOTER            5\n",
      "SIMULATION         2\n",
      "SPORTS             8\n",
      "Shooter         1341\n",
      "Simulation       882\n",
      "Sports          2367\n",
      "Strategy         690\n",
      "Name: genre, dtype: int64\n"
     ]
    }
   ],
   "source": [
    "# Поиск дубликатов для жанра\n",
    "genre_counts = new_game['genre'].value_counts().sort_index()\n",
    "print(\"Возможные дубликаты в жанрах:\")\n",
    "print(genre_counts[genre_counts > 1])"
   ]
  },
  {
   "cell_type": "code",
   "execution_count": 17,
   "id": "a0cac80c",
   "metadata": {
    "id": "a0cac80c"
   },
   "outputs": [
    {
     "name": "stdout",
     "output_type": "stream",
     "text": [
      "Возможные дубликаты в платформе:\n",
      "2600     135\n",
      "3DO        3\n",
      "3DS      530\n",
      "DC        52\n",
      "DS      2177\n",
      "GB        98\n",
      "GBA      837\n",
      "GC       563\n",
      "GEN       29\n",
      "N64      323\n",
      "NES      100\n",
      "NG        12\n",
      "PC       990\n",
      "PS      1215\n",
      "PS2     2189\n",
      "PS3     1355\n",
      "PS4      395\n",
      "PSP     1229\n",
      "PSV      435\n",
      "SAT      174\n",
      "SCD        6\n",
      "SNES     241\n",
      "TG16       2\n",
      "WS         6\n",
      "Wii     1340\n",
      "WiiU     147\n",
      "X360    1281\n",
      "XB       839\n",
      "XOne     251\n",
      "Name: platform, dtype: int64\n"
     ]
    }
   ],
   "source": [
    "# Поиск дубликатов для платформы\n",
    "platform_counts = new_game['platform'].value_counts().sort_index()\n",
    "print(\"Возможные дубликаты в платформе:\")\n",
    "print(platform_counts[platform_counts > 1])"
   ]
  },
  {
   "cell_type": "code",
   "execution_count": 18,
   "id": "78e32436",
   "metadata": {},
   "outputs": [
    {
     "name": "stdout",
     "output_type": "stream",
     "text": [
      "Возможные дубликаты в рейтинге:\n",
      "E       4037\n",
      "E10+    1441\n",
      "EC         8\n",
      "K-A        3\n",
      "M       1587\n",
      "RP         3\n",
      "T       3005\n",
      "-1      6871\n",
      "Name: rating, dtype: int64\n"
     ]
    }
   ],
   "source": [
    "# Поиск дубликатов для рейтинга\n",
    "rating_counts = new_game['rating'].value_counts().sort_index()\n",
    "print(\"Возможные дубликаты в рейтинге:\")\n",
    "print(rating_counts[rating_counts > 1])"
   ]
  },
  {
   "cell_type": "markdown",
   "id": "d57ad22c",
   "metadata": {},
   "source": [
    "Нам необходимо в рейтинге заменить значения 'К-А' на 'Е', так как согласно официальному сайту в период 1994-1998 вместо 'Е' было 'К-А', поэтому нам также необходимо привести все данные к одному рейтингу"
   ]
  },
  {
   "cell_type": "code",
   "execution_count": 19,
   "id": "9d8d3481",
   "metadata": {},
   "outputs": [
    {
     "data": {
      "text/html": [
       "<div>\n",
       "<style scoped>\n",
       "    .dataframe tbody tr th:only-of-type {\n",
       "        vertical-align: middle;\n",
       "    }\n",
       "\n",
       "    .dataframe tbody tr th {\n",
       "        vertical-align: top;\n",
       "    }\n",
       "\n",
       "    .dataframe thead th {\n",
       "        text-align: right;\n",
       "    }\n",
       "</style>\n",
       "<table border=\"1\" class=\"dataframe\">\n",
       "  <thead>\n",
       "    <tr style=\"text-align: right;\">\n",
       "      <th></th>\n",
       "      <th>name</th>\n",
       "      <th>platform</th>\n",
       "      <th>year_of_release</th>\n",
       "      <th>genre</th>\n",
       "      <th>na_sales</th>\n",
       "      <th>eu_sales</th>\n",
       "      <th>jp_sales</th>\n",
       "      <th>other_sales</th>\n",
       "      <th>critic_score</th>\n",
       "      <th>user_score</th>\n",
       "      <th>rating</th>\n",
       "    </tr>\n",
       "  </thead>\n",
       "  <tbody>\n",
       "    <tr>\n",
       "      <th>0</th>\n",
       "      <td>Wii Sports</td>\n",
       "      <td>Wii</td>\n",
       "      <td>2006</td>\n",
       "      <td>Sports</td>\n",
       "      <td>41.36</td>\n",
       "      <td>28.96</td>\n",
       "      <td>3.77</td>\n",
       "      <td>8.45</td>\n",
       "      <td>76.0</td>\n",
       "      <td>8.0</td>\n",
       "      <td>E</td>\n",
       "    </tr>\n",
       "    <tr>\n",
       "      <th>1</th>\n",
       "      <td>Super Mario Bros.</td>\n",
       "      <td>NES</td>\n",
       "      <td>1985</td>\n",
       "      <td>Platform</td>\n",
       "      <td>29.08</td>\n",
       "      <td>3.58</td>\n",
       "      <td>6.81</td>\n",
       "      <td>0.77</td>\n",
       "      <td>-1.0</td>\n",
       "      <td>-1.0</td>\n",
       "      <td>NaN</td>\n",
       "    </tr>\n",
       "    <tr>\n",
       "      <th>2</th>\n",
       "      <td>Mario Kart Wii</td>\n",
       "      <td>Wii</td>\n",
       "      <td>2008</td>\n",
       "      <td>Racing</td>\n",
       "      <td>15.68</td>\n",
       "      <td>12.76</td>\n",
       "      <td>3.79</td>\n",
       "      <td>3.29</td>\n",
       "      <td>82.0</td>\n",
       "      <td>8.3</td>\n",
       "      <td>E</td>\n",
       "    </tr>\n",
       "    <tr>\n",
       "      <th>3</th>\n",
       "      <td>Wii Sports Resort</td>\n",
       "      <td>Wii</td>\n",
       "      <td>2009</td>\n",
       "      <td>Sports</td>\n",
       "      <td>15.61</td>\n",
       "      <td>10.93</td>\n",
       "      <td>3.28</td>\n",
       "      <td>2.95</td>\n",
       "      <td>80.0</td>\n",
       "      <td>8.0</td>\n",
       "      <td>E</td>\n",
       "    </tr>\n",
       "    <tr>\n",
       "      <th>4</th>\n",
       "      <td>Pokemon Red/Pokemon Blue</td>\n",
       "      <td>GB</td>\n",
       "      <td>1996</td>\n",
       "      <td>Role-Playing</td>\n",
       "      <td>11.27</td>\n",
       "      <td>8.89</td>\n",
       "      <td>10.22</td>\n",
       "      <td>1.00</td>\n",
       "      <td>-1.0</td>\n",
       "      <td>-1.0</td>\n",
       "      <td>NaN</td>\n",
       "    </tr>\n",
       "    <tr>\n",
       "      <th>...</th>\n",
       "      <td>...</td>\n",
       "      <td>...</td>\n",
       "      <td>...</td>\n",
       "      <td>...</td>\n",
       "      <td>...</td>\n",
       "      <td>...</td>\n",
       "      <td>...</td>\n",
       "      <td>...</td>\n",
       "      <td>...</td>\n",
       "      <td>...</td>\n",
       "      <td>...</td>\n",
       "    </tr>\n",
       "    <tr>\n",
       "      <th>16951</th>\n",
       "      <td>Samurai Warriors: Sanada Maru</td>\n",
       "      <td>PS3</td>\n",
       "      <td>2016</td>\n",
       "      <td>Action</td>\n",
       "      <td>0.00</td>\n",
       "      <td>0.00</td>\n",
       "      <td>0.01</td>\n",
       "      <td>0.00</td>\n",
       "      <td>-1.0</td>\n",
       "      <td>-1.0</td>\n",
       "      <td>NaN</td>\n",
       "    </tr>\n",
       "    <tr>\n",
       "      <th>16952</th>\n",
       "      <td>LMA Manager 2007</td>\n",
       "      <td>X360</td>\n",
       "      <td>2006</td>\n",
       "      <td>Sports</td>\n",
       "      <td>0.00</td>\n",
       "      <td>0.01</td>\n",
       "      <td>0.00</td>\n",
       "      <td>0.00</td>\n",
       "      <td>-1.0</td>\n",
       "      <td>-1.0</td>\n",
       "      <td>NaN</td>\n",
       "    </tr>\n",
       "    <tr>\n",
       "      <th>16953</th>\n",
       "      <td>Haitaka no Psychedelica</td>\n",
       "      <td>PSV</td>\n",
       "      <td>2016</td>\n",
       "      <td>Adventure</td>\n",
       "      <td>0.00</td>\n",
       "      <td>0.00</td>\n",
       "      <td>0.01</td>\n",
       "      <td>0.00</td>\n",
       "      <td>-1.0</td>\n",
       "      <td>-1.0</td>\n",
       "      <td>NaN</td>\n",
       "    </tr>\n",
       "    <tr>\n",
       "      <th>16954</th>\n",
       "      <td>Spirits &amp; Spells</td>\n",
       "      <td>GBA</td>\n",
       "      <td>2003</td>\n",
       "      <td>Platform</td>\n",
       "      <td>0.01</td>\n",
       "      <td>0.00</td>\n",
       "      <td>0.00</td>\n",
       "      <td>0.00</td>\n",
       "      <td>-1.0</td>\n",
       "      <td>-1.0</td>\n",
       "      <td>NaN</td>\n",
       "    </tr>\n",
       "    <tr>\n",
       "      <th>16955</th>\n",
       "      <td>Winning Post 8 2016</td>\n",
       "      <td>PSV</td>\n",
       "      <td>2016</td>\n",
       "      <td>Simulation</td>\n",
       "      <td>0.00</td>\n",
       "      <td>0.00</td>\n",
       "      <td>0.01</td>\n",
       "      <td>0.00</td>\n",
       "      <td>-1.0</td>\n",
       "      <td>-1.0</td>\n",
       "      <td>NaN</td>\n",
       "    </tr>\n",
       "  </tbody>\n",
       "</table>\n",
       "<p>16956 rows × 11 columns</p>\n",
       "</div>"
      ],
      "text/plain": [
       "                                name platform  year_of_release         genre  \\\n",
       "0                         Wii Sports      Wii             2006        Sports   \n",
       "1                  Super Mario Bros.      NES             1985      Platform   \n",
       "2                     Mario Kart Wii      Wii             2008        Racing   \n",
       "3                  Wii Sports Resort      Wii             2009        Sports   \n",
       "4           Pokemon Red/Pokemon Blue       GB             1996  Role-Playing   \n",
       "...                              ...      ...              ...           ...   \n",
       "16951  Samurai Warriors: Sanada Maru      PS3             2016        Action   \n",
       "16952               LMA Manager 2007     X360             2006        Sports   \n",
       "16953        Haitaka no Psychedelica      PSV             2016     Adventure   \n",
       "16954               Spirits & Spells      GBA             2003      Platform   \n",
       "16955            Winning Post 8 2016      PSV             2016    Simulation   \n",
       "\n",
       "       na_sales  eu_sales  jp_sales  other_sales  critic_score  user_score  \\\n",
       "0         41.36     28.96      3.77         8.45          76.0         8.0   \n",
       "1         29.08      3.58      6.81         0.77          -1.0        -1.0   \n",
       "2         15.68     12.76      3.79         3.29          82.0         8.3   \n",
       "3         15.61     10.93      3.28         2.95          80.0         8.0   \n",
       "4         11.27      8.89     10.22         1.00          -1.0        -1.0   \n",
       "...         ...       ...       ...          ...           ...         ...   \n",
       "16951      0.00      0.00      0.01         0.00          -1.0        -1.0   \n",
       "16952      0.00      0.01      0.00         0.00          -1.0        -1.0   \n",
       "16953      0.00      0.00      0.01         0.00          -1.0        -1.0   \n",
       "16954      0.01      0.00      0.00         0.00          -1.0        -1.0   \n",
       "16955      0.00      0.00      0.01         0.00          -1.0        -1.0   \n",
       "\n",
       "      rating  \n",
       "0          E  \n",
       "1        NaN  \n",
       "2          E  \n",
       "3          E  \n",
       "4        NaN  \n",
       "...      ...  \n",
       "16951    NaN  \n",
       "16952    NaN  \n",
       "16953    NaN  \n",
       "16954    NaN  \n",
       "16955    NaN  \n",
       "\n",
       "[16956 rows x 11 columns]"
      ]
     },
     "execution_count": 19,
     "metadata": {},
     "output_type": "execute_result"
    }
   ],
   "source": [
    "#Заменяем 'К-А' на 'Е'\n",
    "new_game['rating'] = new_game['rating'].str.replace('K-A', 'Е')\n",
    "new_game"
   ]
  },
  {
   "cell_type": "code",
   "execution_count": 20,
   "id": "1c2e5158",
   "metadata": {},
   "outputs": [
    {
     "name": "stdout",
     "output_type": "stream",
     "text": [
      "Возможные дубликаты в годах:\n",
      "-1        275\n",
      " 1980       9\n",
      " 1981      46\n",
      " 1982      37\n",
      " 1983      18\n",
      " 1984      14\n",
      " 1985      14\n",
      " 1986      22\n",
      " 1987      17\n",
      " 1988      15\n",
      " 1989      17\n",
      " 1990      16\n",
      " 1991      42\n",
      " 1992      43\n",
      " 1993      62\n",
      " 1994     121\n",
      " 1995     220\n",
      " 1996     267\n",
      " 1997     293\n",
      " 1998     384\n",
      " 1999     341\n",
      " 2000     357\n",
      " 2001     491\n",
      " 2002     839\n",
      " 2003     789\n",
      " 2004     771\n",
      " 2005     950\n",
      " 2006    1020\n",
      " 2007    1218\n",
      " 2008    1445\n",
      " 2009    1450\n",
      " 2010    1279\n",
      " 2011    1149\n",
      " 2012     670\n",
      " 2013     552\n",
      " 2014     584\n",
      " 2015     612\n",
      " 2016     507\n",
      "Name: year_of_release, dtype: Int64\n"
     ]
    }
   ],
   "source": [
    "# Поиск дубликатов для года\n",
    "year_of_release_counts = new_game['year_of_release'].value_counts().sort_index()\n",
    "print(\"Возможные дубликаты в годах:\")\n",
    "print(year_of_release_counts[year_of_release_counts > 1])"
   ]
  },
  {
   "cell_type": "code",
   "execution_count": 21,
   "id": "09b50948",
   "metadata": {},
   "outputs": [],
   "source": [
    "# Приведение к нижнему регистру\n",
    "new_game['genre'] = new_game['genre'].str.lower()\n",
    "new_game['genre'] = new_game['genre'].str.lower()\n",
    "new_game['platform'] = new_game['platform'].str.lower()\n",
    "\n",
    "# Приведение рейтинга к верхнему регистру\n",
    "new_game['rating'] = new_game['rating'].str.upper()"
   ]
  },
  {
   "cell_type": "code",
   "execution_count": 22,
   "id": "97a1967c",
   "metadata": {},
   "outputs": [
    {
     "name": "stdout",
     "output_type": "stream",
     "text": [
      "\n",
      "Уникальные значения в genre после очистки:\n",
      "['sports' 'platform' 'racing' 'role-playing' 'puzzle' 'misc' 'shooter'\n",
      " 'simulation' 'action' 'fighting' 'adventure' 'strategy' nan]\n",
      "Количество уникальных значений: 12\n",
      "\n",
      "Уникальные значения в platform после очистки:\n",
      "['wii' 'nes' 'gb' 'ds' 'x360' 'ps3' 'ps2' 'snes' 'gba' 'ps4' '3ds' 'n64'\n",
      " 'ps' 'xb' 'pc' '2600' 'psp' 'xone' 'wiiu' 'gc' 'gen' 'dc' 'psv' 'sat'\n",
      " 'scd' 'ws' 'ng' 'tg16' '3do' 'gg' 'pcfx']\n",
      "Количество уникальных значений: 31\n",
      "\n",
      "Уникальные значения в rating после очистки:\n",
      "['E' nan 'M' 'T' 'E10+' 'Е' 'AO' 'EC' 'RP']\n",
      "Количество уникальных значений: 8\n",
      "\n",
      "Уникальные значения в year_of_release после очистки:\n",
      "<IntegerArray>\n",
      "[2006, 1985, 2008, 2009, 1996, 1989, 1984, 2005, 1999, 2007, 2010, 2013, 2004,\n",
      " 1990, 1988, 2002, 2001, 2011, 1998, 2015, 2012, 2014, 1992, 1997, 1993, 1994,\n",
      " 1982, 2016, 2003, 1986, 2000,   -1, 1995, 1991, 1981, 1987, 1980, 1983]\n",
      "Length: 38, dtype: Int64\n",
      "Количество уникальных значений: 38\n"
     ]
    }
   ],
   "source": [
    "# После нормализации\n",
    "for column in ['genre', 'platform', 'rating', 'year_of_release']:\n",
    "    print(f\"\\nУникальные значения в {column} после очистки:\")\n",
    "    print(new_game[column].unique())\n",
    "    print(f\"Количество уникальных значений: {new_game[column].nunique()}\")"
   ]
  },
  {
   "cell_type": "code",
   "execution_count": 23,
   "id": "ee61e603",
   "metadata": {},
   "outputs": [
    {
     "name": "stdout",
     "output_type": "stream",
     "text": [
      "Количество строк до удаления дубликатов: 16956\n",
      "Количество строк после удаления дубликатов: 16715\n"
     ]
    }
   ],
   "source": [
    "# Проверка количества строк до и после\n",
    "print(\"Количество строк до удаления дубликатов:\", len(new_game))\n",
    "new_game_cleaned = new_game.drop_duplicates()\n",
    "print(\"Количество строк после удаления дубликатов:\", len(new_game_cleaned))"
   ]
  },
  {
   "cell_type": "markdown",
   "id": "fc3d3db4",
   "metadata": {
    "id": "fc3d3db4"
   },
   "source": [
    "- После того как нормализуете данные и устраните неявные дубликаты, проверьте наличие явных дубликатов в данных."
   ]
  },
  {
   "cell_type": "code",
   "execution_count": 24,
   "id": "fc5c91b5",
   "metadata": {
    "id": "fc5c91b5"
   },
   "outputs": [
    {
     "data": {
      "text/plain": [
       "0        False\n",
       "1        False\n",
       "2        False\n",
       "3        False\n",
       "4        False\n",
       "         ...  \n",
       "16951    False\n",
       "16952    False\n",
       "16953    False\n",
       "16954    False\n",
       "16955    False\n",
       "Length: 16956, dtype: bool"
      ]
     },
     "metadata": {},
     "output_type": "display_data"
    },
    {
     "data": {
      "text/plain": [
       "'Количество дубликатов: 241'"
      ]
     },
     "metadata": {},
     "output_type": "display_data"
    },
    {
     "data": {
      "text/html": [
       "<div>\n",
       "<style scoped>\n",
       "    .dataframe tbody tr th:only-of-type {\n",
       "        vertical-align: middle;\n",
       "    }\n",
       "\n",
       "    .dataframe tbody tr th {\n",
       "        vertical-align: top;\n",
       "    }\n",
       "\n",
       "    .dataframe thead th {\n",
       "        text-align: right;\n",
       "    }\n",
       "</style>\n",
       "<table border=\"1\" class=\"dataframe\">\n",
       "  <thead>\n",
       "    <tr style=\"text-align: right;\">\n",
       "      <th></th>\n",
       "      <th>name</th>\n",
       "      <th>platform</th>\n",
       "      <th>year_of_release</th>\n",
       "      <th>genre</th>\n",
       "      <th>na_sales</th>\n",
       "      <th>eu_sales</th>\n",
       "      <th>jp_sales</th>\n",
       "      <th>other_sales</th>\n",
       "      <th>critic_score</th>\n",
       "      <th>user_score</th>\n",
       "      <th>rating</th>\n",
       "    </tr>\n",
       "  </thead>\n",
       "  <tbody>\n",
       "    <tr>\n",
       "      <th>268</th>\n",
       "      <td>Batman: Arkham Asylum</td>\n",
       "      <td>ps3</td>\n",
       "      <td>2009</td>\n",
       "      <td>action</td>\n",
       "      <td>2.24</td>\n",
       "      <td>1.31</td>\n",
       "      <td>0.07</td>\n",
       "      <td>0.61</td>\n",
       "      <td>91.0</td>\n",
       "      <td>8.9</td>\n",
       "      <td>T</td>\n",
       "    </tr>\n",
       "    <tr>\n",
       "      <th>368</th>\n",
       "      <td>James Bond 007: Agent Under Fire</td>\n",
       "      <td>ps2</td>\n",
       "      <td>2001</td>\n",
       "      <td>shooter</td>\n",
       "      <td>1.90</td>\n",
       "      <td>1.13</td>\n",
       "      <td>0.10</td>\n",
       "      <td>0.41</td>\n",
       "      <td>72.0</td>\n",
       "      <td>7.9</td>\n",
       "      <td>T</td>\n",
       "    </tr>\n",
       "    <tr>\n",
       "      <th>717</th>\n",
       "      <td>God of War: Ascension</td>\n",
       "      <td>ps3</td>\n",
       "      <td>2013</td>\n",
       "      <td>action</td>\n",
       "      <td>1.23</td>\n",
       "      <td>0.63</td>\n",
       "      <td>0.04</td>\n",
       "      <td>0.35</td>\n",
       "      <td>80.0</td>\n",
       "      <td>7.5</td>\n",
       "      <td>M</td>\n",
       "    </tr>\n",
       "    <tr>\n",
       "      <th>823</th>\n",
       "      <td>Wipeout: The Game</td>\n",
       "      <td>wii</td>\n",
       "      <td>2009</td>\n",
       "      <td>misc</td>\n",
       "      <td>1.94</td>\n",
       "      <td>0.00</td>\n",
       "      <td>0.00</td>\n",
       "      <td>0.12</td>\n",
       "      <td>-1.0</td>\n",
       "      <td>-1.0</td>\n",
       "      <td>NaN</td>\n",
       "    </tr>\n",
       "    <tr>\n",
       "      <th>848</th>\n",
       "      <td>Rayman Raving Rabbids: TV Party</td>\n",
       "      <td>wii</td>\n",
       "      <td>2008</td>\n",
       "      <td>misc</td>\n",
       "      <td>0.72</td>\n",
       "      <td>1.08</td>\n",
       "      <td>0.00</td>\n",
       "      <td>0.23</td>\n",
       "      <td>73.0</td>\n",
       "      <td>7.7</td>\n",
       "      <td>E10+</td>\n",
       "    </tr>\n",
       "    <tr>\n",
       "      <th>...</th>\n",
       "      <td>...</td>\n",
       "      <td>...</td>\n",
       "      <td>...</td>\n",
       "      <td>...</td>\n",
       "      <td>...</td>\n",
       "      <td>...</td>\n",
       "      <td>...</td>\n",
       "      <td>...</td>\n",
       "      <td>...</td>\n",
       "      <td>...</td>\n",
       "      <td>...</td>\n",
       "    </tr>\n",
       "    <tr>\n",
       "      <th>16671</th>\n",
       "      <td>Fullmetal Alchemist: Prince of the Dawn</td>\n",
       "      <td>wii</td>\n",
       "      <td>2009</td>\n",
       "      <td>adventure</td>\n",
       "      <td>0.00</td>\n",
       "      <td>0.00</td>\n",
       "      <td>0.01</td>\n",
       "      <td>0.00</td>\n",
       "      <td>-1.0</td>\n",
       "      <td>-1.0</td>\n",
       "      <td>NaN</td>\n",
       "    </tr>\n",
       "    <tr>\n",
       "      <th>16753</th>\n",
       "      <td>Routes PE</td>\n",
       "      <td>ps2</td>\n",
       "      <td>2007</td>\n",
       "      <td>adventure</td>\n",
       "      <td>0.00</td>\n",
       "      <td>0.00</td>\n",
       "      <td>0.01</td>\n",
       "      <td>0.00</td>\n",
       "      <td>-1.0</td>\n",
       "      <td>-1.0</td>\n",
       "      <td>NaN</td>\n",
       "    </tr>\n",
       "    <tr>\n",
       "      <th>16799</th>\n",
       "      <td>Transformers: Prime</td>\n",
       "      <td>wii</td>\n",
       "      <td>2012</td>\n",
       "      <td>action</td>\n",
       "      <td>0.00</td>\n",
       "      <td>0.01</td>\n",
       "      <td>0.00</td>\n",
       "      <td>0.00</td>\n",
       "      <td>-1.0</td>\n",
       "      <td>-1.0</td>\n",
       "      <td>NaN</td>\n",
       "    </tr>\n",
       "    <tr>\n",
       "      <th>16912</th>\n",
       "      <td>Metal Gear Solid V: The Definitive Experience</td>\n",
       "      <td>xone</td>\n",
       "      <td>2016</td>\n",
       "      <td>action</td>\n",
       "      <td>0.01</td>\n",
       "      <td>0.00</td>\n",
       "      <td>0.00</td>\n",
       "      <td>0.00</td>\n",
       "      <td>-1.0</td>\n",
       "      <td>-1.0</td>\n",
       "      <td>M</td>\n",
       "    </tr>\n",
       "    <tr>\n",
       "      <th>16940</th>\n",
       "      <td>The Longest 5 Minutes</td>\n",
       "      <td>psv</td>\n",
       "      <td>2016</td>\n",
       "      <td>action</td>\n",
       "      <td>0.00</td>\n",
       "      <td>0.00</td>\n",
       "      <td>0.01</td>\n",
       "      <td>0.00</td>\n",
       "      <td>-1.0</td>\n",
       "      <td>-1.0</td>\n",
       "      <td>NaN</td>\n",
       "    </tr>\n",
       "  </tbody>\n",
       "</table>\n",
       "<p>241 rows × 11 columns</p>\n",
       "</div>"
      ],
      "text/plain": [
       "                                                name platform  \\\n",
       "268                            Batman: Arkham Asylum      ps3   \n",
       "368                 James Bond 007: Agent Under Fire      ps2   \n",
       "717                            God of War: Ascension      ps3   \n",
       "823                                Wipeout: The Game      wii   \n",
       "848                  Rayman Raving Rabbids: TV Party      wii   \n",
       "...                                              ...      ...   \n",
       "16671        Fullmetal Alchemist: Prince of the Dawn      wii   \n",
       "16753                                      Routes PE      ps2   \n",
       "16799                            Transformers: Prime      wii   \n",
       "16912  Metal Gear Solid V: The Definitive Experience     xone   \n",
       "16940                          The Longest 5 Minutes      psv   \n",
       "\n",
       "       year_of_release      genre  na_sales  eu_sales  jp_sales  other_sales  \\\n",
       "268               2009     action      2.24      1.31      0.07         0.61   \n",
       "368               2001    shooter      1.90      1.13      0.10         0.41   \n",
       "717               2013     action      1.23      0.63      0.04         0.35   \n",
       "823               2009       misc      1.94      0.00      0.00         0.12   \n",
       "848               2008       misc      0.72      1.08      0.00         0.23   \n",
       "...                ...        ...       ...       ...       ...          ...   \n",
       "16671             2009  adventure      0.00      0.00      0.01         0.00   \n",
       "16753             2007  adventure      0.00      0.00      0.01         0.00   \n",
       "16799             2012     action      0.00      0.01      0.00         0.00   \n",
       "16912             2016     action      0.01      0.00      0.00         0.00   \n",
       "16940             2016     action      0.00      0.00      0.01         0.00   \n",
       "\n",
       "       critic_score  user_score rating  \n",
       "268            91.0         8.9      T  \n",
       "368            72.0         7.9      T  \n",
       "717            80.0         7.5      M  \n",
       "823            -1.0        -1.0    NaN  \n",
       "848            73.0         7.7   E10+  \n",
       "...             ...         ...    ...  \n",
       "16671          -1.0        -1.0    NaN  \n",
       "16753          -1.0        -1.0    NaN  \n",
       "16799          -1.0        -1.0    NaN  \n",
       "16912          -1.0        -1.0      M  \n",
       "16940          -1.0        -1.0    NaN  \n",
       "\n",
       "[241 rows x 11 columns]"
      ]
     },
     "metadata": {},
     "output_type": "display_data"
    }
   ],
   "source": [
    "#Подсчёт количества дубликатов\n",
    "duplicates = new_game.duplicated()\n",
    "display(duplicates)\n",
    "num_duplicates = duplicates.sum()\n",
    "display(f\"Количество дубликатов: {num_duplicates}\")\n",
    "duplicate_rows = new_game[duplicates]\n",
    "display(duplicate_rows)"
   ]
  },
  {
   "cell_type": "markdown",
   "id": "54616bae",
   "metadata": {
    "id": "54616bae"
   },
   "source": [
    "Исходя из данных, явных дубликатов в данных нет"
   ]
  },
  {
   "cell_type": "markdown",
   "id": "72645ae9",
   "metadata": {
    "id": "72645ae9"
   },
   "source": [
    "- В процессе подготовки данных вы могли что-либо удалять, например строки с пропусками или ошибками, дубликаты и прочее. В этом случае посчитайте количество удалённых строк в абсолютном и относительном значениях."
   ]
  },
  {
   "cell_type": "code",
   "execution_count": 25,
   "id": "f9d8ee19",
   "metadata": {
    "id": "f9d8ee19"
   },
   "outputs": [
    {
     "name": "stdout",
     "output_type": "stream",
     "text": [
      "Исходное количество строк: 16956\n",
      "Количество строк после очистки: 16715\n",
      "Абсолютное количество удалённых строк: 241\n",
      "Относительное количество удалённых строк: 1.42%\n"
     ]
    }
   ],
   "source": [
    "initial_rows = len(new_game)\n",
    "print(f\"Исходное количество строк: {initial_rows}\")\n",
    "#Удаление строк (например, строк с пропусками или дубликатов):\n",
    "new_game_cleaned = new_game.dropna()\n",
    "new_game_cleaned = new_game.drop_duplicates()\n",
    "#Подсчёт количества строк после удаления:\n",
    "cleaned_rows = len(new_game_cleaned)\n",
    "print(f\"Количество строк после очистки: {cleaned_rows}\")\n",
    "#Подсчёт абсолютного количества удалённых строк:\n",
    "deleted_rows = initial_rows - cleaned_rows\n",
    "print(f\"Абсолютное количество удалённых строк: {deleted_rows}\")\n",
    "#Подсчёт относительного количества удалённых строк:\n",
    "relative_deleted_rows = deleted_rows / initial_rows\n",
    "print(f\"Относительное количество удалённых строк: {relative_deleted_rows:.2%}\")"
   ]
  },
  {
   "cell_type": "markdown",
   "id": "47613d75",
   "metadata": {
    "id": "47613d75"
   },
   "source": [
    "В результате предобработки данных, были заменены типы данных в столбцах для более корректной работы и дальнейшего ознакомления с датасетом\n",
    "\n",
    "Было удалено **241** строк, что составляет **1,42%** от исходного объёма данных. Это свидетельствует о том, что большая часть данных была сохранена, и потери информации минимальны.\n",
    "\n",
    "Данные стали более чистыми и структурированными, что улучшит точность и надёжность последующих аналитических выводов."
   ]
  },
  {
   "cell_type": "markdown",
   "id": "613f0eb0",
   "metadata": {
    "id": "613f0eb0"
   },
   "source": [
    "---\n",
    "\n",
    "## 3. Фильтрация данных\n",
    "\n",
    "Коллеги хотят изучить историю продаж игр в начале XXI века, и их интересует период с 2000 по 2013 год включительно. Отберите данные по этому показателю. Сохраните новый срез данных в отдельном датафрейме, например `df_actual`."
   ]
  },
  {
   "cell_type": "code",
   "execution_count": 26,
   "id": "2344916d",
   "metadata": {
    "id": "2344916d"
   },
   "outputs": [
    {
     "data": {
      "text/html": [
       "<div>\n",
       "<style scoped>\n",
       "    .dataframe tbody tr th:only-of-type {\n",
       "        vertical-align: middle;\n",
       "    }\n",
       "\n",
       "    .dataframe tbody tr th {\n",
       "        vertical-align: top;\n",
       "    }\n",
       "\n",
       "    .dataframe thead th {\n",
       "        text-align: right;\n",
       "    }\n",
       "</style>\n",
       "<table border=\"1\" class=\"dataframe\">\n",
       "  <thead>\n",
       "    <tr style=\"text-align: right;\">\n",
       "      <th></th>\n",
       "      <th>name</th>\n",
       "      <th>platform</th>\n",
       "      <th>year_of_release</th>\n",
       "      <th>genre</th>\n",
       "      <th>na_sales</th>\n",
       "      <th>eu_sales</th>\n",
       "      <th>jp_sales</th>\n",
       "      <th>other_sales</th>\n",
       "      <th>critic_score</th>\n",
       "      <th>user_score</th>\n",
       "      <th>rating</th>\n",
       "    </tr>\n",
       "  </thead>\n",
       "  <tbody>\n",
       "    <tr>\n",
       "      <th>0</th>\n",
       "      <td>Wii Sports</td>\n",
       "      <td>wii</td>\n",
       "      <td>2006</td>\n",
       "      <td>sports</td>\n",
       "      <td>41.36</td>\n",
       "      <td>28.96</td>\n",
       "      <td>3.77</td>\n",
       "      <td>8.45</td>\n",
       "      <td>76.0</td>\n",
       "      <td>8.0</td>\n",
       "      <td>E</td>\n",
       "    </tr>\n",
       "    <tr>\n",
       "      <th>2</th>\n",
       "      <td>Mario Kart Wii</td>\n",
       "      <td>wii</td>\n",
       "      <td>2008</td>\n",
       "      <td>racing</td>\n",
       "      <td>15.68</td>\n",
       "      <td>12.76</td>\n",
       "      <td>3.79</td>\n",
       "      <td>3.29</td>\n",
       "      <td>82.0</td>\n",
       "      <td>8.3</td>\n",
       "      <td>E</td>\n",
       "    </tr>\n",
       "    <tr>\n",
       "      <th>3</th>\n",
       "      <td>Wii Sports Resort</td>\n",
       "      <td>wii</td>\n",
       "      <td>2009</td>\n",
       "      <td>sports</td>\n",
       "      <td>15.61</td>\n",
       "      <td>10.93</td>\n",
       "      <td>3.28</td>\n",
       "      <td>2.95</td>\n",
       "      <td>80.0</td>\n",
       "      <td>8.0</td>\n",
       "      <td>E</td>\n",
       "    </tr>\n",
       "    <tr>\n",
       "      <th>6</th>\n",
       "      <td>New Super Mario Bros.</td>\n",
       "      <td>ds</td>\n",
       "      <td>2006</td>\n",
       "      <td>platform</td>\n",
       "      <td>11.28</td>\n",
       "      <td>9.14</td>\n",
       "      <td>6.50</td>\n",
       "      <td>2.88</td>\n",
       "      <td>89.0</td>\n",
       "      <td>8.5</td>\n",
       "      <td>E</td>\n",
       "    </tr>\n",
       "    <tr>\n",
       "      <th>7</th>\n",
       "      <td>Wii Play</td>\n",
       "      <td>wii</td>\n",
       "      <td>2006</td>\n",
       "      <td>misc</td>\n",
       "      <td>13.96</td>\n",
       "      <td>9.18</td>\n",
       "      <td>2.93</td>\n",
       "      <td>2.84</td>\n",
       "      <td>58.0</td>\n",
       "      <td>6.6</td>\n",
       "      <td>E</td>\n",
       "    </tr>\n",
       "    <tr>\n",
       "      <th>...</th>\n",
       "      <td>...</td>\n",
       "      <td>...</td>\n",
       "      <td>...</td>\n",
       "      <td>...</td>\n",
       "      <td>...</td>\n",
       "      <td>...</td>\n",
       "      <td>...</td>\n",
       "      <td>...</td>\n",
       "      <td>...</td>\n",
       "      <td>...</td>\n",
       "      <td>...</td>\n",
       "    </tr>\n",
       "    <tr>\n",
       "      <th>16947</th>\n",
       "      <td>Men in Black II: Alien Escape</td>\n",
       "      <td>gc</td>\n",
       "      <td>2003</td>\n",
       "      <td>shooter</td>\n",
       "      <td>0.01</td>\n",
       "      <td>0.00</td>\n",
       "      <td>0.00</td>\n",
       "      <td>0.00</td>\n",
       "      <td>-1.0</td>\n",
       "      <td>-1.0</td>\n",
       "      <td>T</td>\n",
       "    </tr>\n",
       "    <tr>\n",
       "      <th>16949</th>\n",
       "      <td>Woody Woodpecker in Crazy Castle 5</td>\n",
       "      <td>gba</td>\n",
       "      <td>2002</td>\n",
       "      <td>platform</td>\n",
       "      <td>0.01</td>\n",
       "      <td>0.00</td>\n",
       "      <td>0.00</td>\n",
       "      <td>0.00</td>\n",
       "      <td>-1.0</td>\n",
       "      <td>-1.0</td>\n",
       "      <td>NaN</td>\n",
       "    </tr>\n",
       "    <tr>\n",
       "      <th>16950</th>\n",
       "      <td>SCORE International Baja 1000: The Official Game</td>\n",
       "      <td>ps2</td>\n",
       "      <td>2008</td>\n",
       "      <td>racing</td>\n",
       "      <td>0.00</td>\n",
       "      <td>0.00</td>\n",
       "      <td>0.00</td>\n",
       "      <td>0.00</td>\n",
       "      <td>-1.0</td>\n",
       "      <td>-1.0</td>\n",
       "      <td>NaN</td>\n",
       "    </tr>\n",
       "    <tr>\n",
       "      <th>16952</th>\n",
       "      <td>LMA Manager 2007</td>\n",
       "      <td>x360</td>\n",
       "      <td>2006</td>\n",
       "      <td>sports</td>\n",
       "      <td>0.00</td>\n",
       "      <td>0.01</td>\n",
       "      <td>0.00</td>\n",
       "      <td>0.00</td>\n",
       "      <td>-1.0</td>\n",
       "      <td>-1.0</td>\n",
       "      <td>NaN</td>\n",
       "    </tr>\n",
       "    <tr>\n",
       "      <th>16954</th>\n",
       "      <td>Spirits &amp; Spells</td>\n",
       "      <td>gba</td>\n",
       "      <td>2003</td>\n",
       "      <td>platform</td>\n",
       "      <td>0.01</td>\n",
       "      <td>0.00</td>\n",
       "      <td>0.00</td>\n",
       "      <td>0.00</td>\n",
       "      <td>-1.0</td>\n",
       "      <td>-1.0</td>\n",
       "      <td>NaN</td>\n",
       "    </tr>\n",
       "  </tbody>\n",
       "</table>\n",
       "<p>12980 rows × 11 columns</p>\n",
       "</div>"
      ],
      "text/plain": [
       "                                                   name platform  \\\n",
       "0                                            Wii Sports      wii   \n",
       "2                                        Mario Kart Wii      wii   \n",
       "3                                     Wii Sports Resort      wii   \n",
       "6                                 New Super Mario Bros.       ds   \n",
       "7                                              Wii Play      wii   \n",
       "...                                                 ...      ...   \n",
       "16947                     Men in Black II: Alien Escape       gc   \n",
       "16949                Woody Woodpecker in Crazy Castle 5      gba   \n",
       "16950  SCORE International Baja 1000: The Official Game      ps2   \n",
       "16952                                  LMA Manager 2007     x360   \n",
       "16954                                  Spirits & Spells      gba   \n",
       "\n",
       "       year_of_release     genre  na_sales  eu_sales  jp_sales  other_sales  \\\n",
       "0                 2006    sports     41.36     28.96      3.77         8.45   \n",
       "2                 2008    racing     15.68     12.76      3.79         3.29   \n",
       "3                 2009    sports     15.61     10.93      3.28         2.95   \n",
       "6                 2006  platform     11.28      9.14      6.50         2.88   \n",
       "7                 2006      misc     13.96      9.18      2.93         2.84   \n",
       "...                ...       ...       ...       ...       ...          ...   \n",
       "16947             2003   shooter      0.01      0.00      0.00         0.00   \n",
       "16949             2002  platform      0.01      0.00      0.00         0.00   \n",
       "16950             2008    racing      0.00      0.00      0.00         0.00   \n",
       "16952             2006    sports      0.00      0.01      0.00         0.00   \n",
       "16954             2003  platform      0.01      0.00      0.00         0.00   \n",
       "\n",
       "       critic_score  user_score rating  \n",
       "0              76.0         8.0      E  \n",
       "2              82.0         8.3      E  \n",
       "3              80.0         8.0      E  \n",
       "6              89.0         8.5      E  \n",
       "7              58.0         6.6      E  \n",
       "...             ...         ...    ...  \n",
       "16947          -1.0        -1.0      T  \n",
       "16949          -1.0        -1.0    NaN  \n",
       "16950          -1.0        -1.0    NaN  \n",
       "16952          -1.0        -1.0    NaN  \n",
       "16954          -1.0        -1.0    NaN  \n",
       "\n",
       "[12980 rows x 11 columns]"
      ]
     },
     "execution_count": 26,
     "metadata": {},
     "output_type": "execute_result"
    }
   ],
   "source": [
    "#Отбор данных за период 2000-2013\n",
    "df_actual = new_game.loc[new_game['year_of_release'].between(2000, 2013)].copy()\n",
    "df_actual"
   ]
  },
  {
   "cell_type": "markdown",
   "id": "aab426ec",
   "metadata": {
    "id": "44d7529f"
   },
   "source": [
    "Мы видим, этому периоду соответствуют 12980 строк, с этим датафреймом мы и будем дальше работать"
   ]
  },
  {
   "cell_type": "markdown",
   "id": "a6f10b01",
   "metadata": {
    "id": "a6f10b01"
   },
   "source": [
    "---\n",
    "\n",
    "## 4. Категоризация данных\n",
    "    \n",
    "Проведите категоризацию данных:\n",
    "- Разделите все игры по оценкам пользователей и выделите такие категории: высокая оценка (от 8 до 10 включительно), средняя оценка (от 3 до 8, не включая правую границу интервала) и низкая оценка (от 0 до 3, не включая правую границу интервала)."
   ]
  },
  {
   "cell_type": "code",
   "execution_count": 27,
   "id": "3db87229",
   "metadata": {
    "id": "3db87229"
   },
   "outputs": [
    {
     "data": {
      "text/html": [
       "<div>\n",
       "<style scoped>\n",
       "    .dataframe tbody tr th:only-of-type {\n",
       "        vertical-align: middle;\n",
       "    }\n",
       "\n",
       "    .dataframe tbody tr th {\n",
       "        vertical-align: top;\n",
       "    }\n",
       "\n",
       "    .dataframe thead th {\n",
       "        text-align: right;\n",
       "    }\n",
       "</style>\n",
       "<table border=\"1\" class=\"dataframe\">\n",
       "  <thead>\n",
       "    <tr style=\"text-align: right;\">\n",
       "      <th></th>\n",
       "      <th>name</th>\n",
       "      <th>user_score</th>\n",
       "      <th>категория_оценки</th>\n",
       "    </tr>\n",
       "  </thead>\n",
       "  <tbody>\n",
       "    <tr>\n",
       "      <th>0</th>\n",
       "      <td>Wii Sports</td>\n",
       "      <td>8.0</td>\n",
       "      <td>высокая</td>\n",
       "    </tr>\n",
       "    <tr>\n",
       "      <th>2</th>\n",
       "      <td>Mario Kart Wii</td>\n",
       "      <td>8.3</td>\n",
       "      <td>высокая</td>\n",
       "    </tr>\n",
       "    <tr>\n",
       "      <th>3</th>\n",
       "      <td>Wii Sports Resort</td>\n",
       "      <td>8.0</td>\n",
       "      <td>высокая</td>\n",
       "    </tr>\n",
       "    <tr>\n",
       "      <th>6</th>\n",
       "      <td>New Super Mario Bros.</td>\n",
       "      <td>8.5</td>\n",
       "      <td>высокая</td>\n",
       "    </tr>\n",
       "    <tr>\n",
       "      <th>7</th>\n",
       "      <td>Wii Play</td>\n",
       "      <td>6.6</td>\n",
       "      <td>средняя</td>\n",
       "    </tr>\n",
       "  </tbody>\n",
       "</table>\n",
       "</div>"
      ],
      "text/plain": [
       "                    name  user_score категория_оценки\n",
       "0             Wii Sports         8.0          высокая\n",
       "2         Mario Kart Wii         8.3          высокая\n",
       "3      Wii Sports Resort         8.0          высокая\n",
       "6  New Super Mario Bros.         8.5          высокая\n",
       "7               Wii Play         6.6          средняя"
      ]
     },
     "execution_count": 27,
     "metadata": {},
     "output_type": "execute_result"
    }
   ],
   "source": [
    "#Выделяем категории согласно оценок пользователей\n",
    "def categorize_user_score(score):\n",
    "    if 8 <= score <= 10:\n",
    "        return 'высокая'\n",
    "    elif 3 <= score < 8:\n",
    "        return 'средняя'\n",
    "    elif 0 <= score < 3:\n",
    "        return 'низкая'\n",
    "    else:\n",
    "        'нет категории'\n",
    "#Применим категорию к столбцу user_score и создадим новый столбец 'категория_оценки'\n",
    "df_actual.loc[:, 'категория_оценки'] = df_actual['user_score'].apply(categorize_user_score)\n",
    "\n",
    "#Выводим первые пять строк для проверки\n",
    "df_actual[['name', 'user_score', 'категория_оценки']].head()"
   ]
  },
  {
   "cell_type": "markdown",
   "id": "f8f34b40",
   "metadata": {
    "id": "f8f34b40"
   },
   "source": [
    "- Разделите все игры по оценкам критиков и выделите такие категории: высокая оценка (от 80 до 100 включительно), средняя оценка (от 30 до 80, не включая правую границу интервала) и низкая оценка (от 0 до 30, не включая правую границу интервала)."
   ]
  },
  {
   "cell_type": "code",
   "execution_count": 28,
   "id": "e3f7acb0",
   "metadata": {
    "id": "e3f7acb0"
   },
   "outputs": [
    {
     "data": {
      "text/html": [
       "<div>\n",
       "<style scoped>\n",
       "    .dataframe tbody tr th:only-of-type {\n",
       "        vertical-align: middle;\n",
       "    }\n",
       "\n",
       "    .dataframe tbody tr th {\n",
       "        vertical-align: top;\n",
       "    }\n",
       "\n",
       "    .dataframe thead th {\n",
       "        text-align: right;\n",
       "    }\n",
       "</style>\n",
       "<table border=\"1\" class=\"dataframe\">\n",
       "  <thead>\n",
       "    <tr style=\"text-align: right;\">\n",
       "      <th></th>\n",
       "      <th>name</th>\n",
       "      <th>critic_score</th>\n",
       "      <th>категория_оценки_критиков</th>\n",
       "    </tr>\n",
       "  </thead>\n",
       "  <tbody>\n",
       "    <tr>\n",
       "      <th>0</th>\n",
       "      <td>Wii Sports</td>\n",
       "      <td>76.0</td>\n",
       "      <td>средняя оценка</td>\n",
       "    </tr>\n",
       "    <tr>\n",
       "      <th>2</th>\n",
       "      <td>Mario Kart Wii</td>\n",
       "      <td>82.0</td>\n",
       "      <td>высокая оценка</td>\n",
       "    </tr>\n",
       "    <tr>\n",
       "      <th>3</th>\n",
       "      <td>Wii Sports Resort</td>\n",
       "      <td>80.0</td>\n",
       "      <td>высокая оценка</td>\n",
       "    </tr>\n",
       "    <tr>\n",
       "      <th>6</th>\n",
       "      <td>New Super Mario Bros.</td>\n",
       "      <td>89.0</td>\n",
       "      <td>высокая оценка</td>\n",
       "    </tr>\n",
       "    <tr>\n",
       "      <th>7</th>\n",
       "      <td>Wii Play</td>\n",
       "      <td>58.0</td>\n",
       "      <td>средняя оценка</td>\n",
       "    </tr>\n",
       "  </tbody>\n",
       "</table>\n",
       "</div>"
      ],
      "text/plain": [
       "                    name  critic_score категория_оценки_критиков\n",
       "0             Wii Sports          76.0            средняя оценка\n",
       "2         Mario Kart Wii          82.0            высокая оценка\n",
       "3      Wii Sports Resort          80.0            высокая оценка\n",
       "6  New Super Mario Bros.          89.0            высокая оценка\n",
       "7               Wii Play          58.0            средняя оценка"
      ]
     },
     "execution_count": 28,
     "metadata": {},
     "output_type": "execute_result"
    }
   ],
   "source": [
    "#Выделяем категории согласно оценок критиков\n",
    "def categorize_critic_score(c_score):\n",
    "    if 80 <= c_score <= 100:\n",
    "        return 'высокая оценка'\n",
    "    elif 30 < c_score < 80:\n",
    "        return 'средняя оценка'\n",
    "    elif 0 <= c_score <= 30:\n",
    "        return 'низкая оценка'\n",
    "#Применим категорию к столбцу critic_score и создадим новый столбец 'категория_оценки_критиков'\n",
    "df_actual.loc[:,'категория_оценки_критиков'] = df_actual['critic_score'].apply(categorize_critic_score)\n",
    "\n",
    "#Выводим первые пять строк для проверки\n",
    "df_actual[['name', 'critic_score', 'категория_оценки_критиков']].head()"
   ]
  },
  {
   "cell_type": "markdown",
   "id": "olkTlTlAUDR9",
   "metadata": {
    "id": "olkTlTlAUDR9"
   },
   "source": [
    "- После категоризации данных проверьте результат: сгруппируйте данные по выделенным категориям и посчитайте количество игр в каждой категории."
   ]
  },
  {
   "cell_type": "code",
   "execution_count": 29,
   "id": "HW0Nsp-4UMSL",
   "metadata": {
    "id": "HW0Nsp-4UMSL"
   },
   "outputs": [
    {
     "data": {
      "text/html": [
       "<div>\n",
       "<style scoped>\n",
       "    .dataframe tbody tr th:only-of-type {\n",
       "        vertical-align: middle;\n",
       "    }\n",
       "\n",
       "    .dataframe tbody tr th {\n",
       "        vertical-align: top;\n",
       "    }\n",
       "\n",
       "    .dataframe thead th {\n",
       "        text-align: right;\n",
       "    }\n",
       "</style>\n",
       "<table border=\"1\" class=\"dataframe\">\n",
       "  <thead>\n",
       "    <tr style=\"text-align: right;\">\n",
       "      <th></th>\n",
       "      <th>категория_оценки</th>\n",
       "      <th>количество_игр</th>\n",
       "    </tr>\n",
       "  </thead>\n",
       "  <tbody>\n",
       "    <tr>\n",
       "      <th>0</th>\n",
       "      <td>высокая</td>\n",
       "      <td>2307</td>\n",
       "    </tr>\n",
       "    <tr>\n",
       "      <th>1</th>\n",
       "      <td>низкая</td>\n",
       "      <td>117</td>\n",
       "    </tr>\n",
       "    <tr>\n",
       "      <th>2</th>\n",
       "      <td>средняя</td>\n",
       "      <td>4148</td>\n",
       "    </tr>\n",
       "  </tbody>\n",
       "</table>\n",
       "</div>"
      ],
      "text/plain": [
       "  категория_оценки  количество_игр\n",
       "0          высокая            2307\n",
       "1           низкая             117\n",
       "2          средняя            4148"
      ]
     },
     "execution_count": 29,
     "metadata": {},
     "output_type": "execute_result"
    }
   ],
   "source": [
    "# Группируем данные по категории оценок пользователей и считаем количество игр в каждой категории\n",
    "user_score_categories = df_actual.groupby('категория_оценки').size().reset_index(name='количество_игр')\n",
    "user_score_categories"
   ]
  },
  {
   "cell_type": "code",
   "execution_count": 30,
   "id": "x2ne0HIpUMMD",
   "metadata": {
    "id": "x2ne0HIpUMMD"
   },
   "outputs": [
    {
     "data": {
      "text/html": [
       "<div>\n",
       "<style scoped>\n",
       "    .dataframe tbody tr th:only-of-type {\n",
       "        vertical-align: middle;\n",
       "    }\n",
       "\n",
       "    .dataframe tbody tr th {\n",
       "        vertical-align: top;\n",
       "    }\n",
       "\n",
       "    .dataframe thead th {\n",
       "        text-align: right;\n",
       "    }\n",
       "</style>\n",
       "<table border=\"1\" class=\"dataframe\">\n",
       "  <thead>\n",
       "    <tr style=\"text-align: right;\">\n",
       "      <th></th>\n",
       "      <th>категория_оценки_критиков</th>\n",
       "      <th>количество_игр</th>\n",
       "    </tr>\n",
       "  </thead>\n",
       "  <tbody>\n",
       "    <tr>\n",
       "      <th>0</th>\n",
       "      <td>высокая оценка</td>\n",
       "      <td>1712</td>\n",
       "    </tr>\n",
       "    <tr>\n",
       "      <th>1</th>\n",
       "      <td>низкая оценка</td>\n",
       "      <td>67</td>\n",
       "    </tr>\n",
       "    <tr>\n",
       "      <th>2</th>\n",
       "      <td>средняя оценка</td>\n",
       "      <td>5488</td>\n",
       "    </tr>\n",
       "  </tbody>\n",
       "</table>\n",
       "</div>"
      ],
      "text/plain": [
       "  категория_оценки_критиков  количество_игр\n",
       "0            высокая оценка            1712\n",
       "1             низкая оценка              67\n",
       "2            средняя оценка            5488"
      ]
     },
     "execution_count": 30,
     "metadata": {},
     "output_type": "execute_result"
    }
   ],
   "source": [
    "# Группируем данные по категории оценок критиков и считаем количество игр в каждой категории\n",
    "critic_score_categories = df_actual.groupby('категория_оценки_критиков').size().reset_index(name='количество_игр')\n",
    "critic_score_categories"
   ]
  },
  {
   "cell_type": "markdown",
   "id": "6a98444c",
   "metadata": {
    "id": "6a98444c"
   },
   "source": [
    "- Выделите топ-7 платформ по количеству игр, выпущенных за весь актуальный период."
   ]
  },
  {
   "cell_type": "code",
   "execution_count": 31,
   "id": "003caa2c",
   "metadata": {
    "id": "003caa2c"
   },
   "outputs": [
    {
     "data": {
      "text/html": [
       "<div>\n",
       "<style scoped>\n",
       "    .dataframe tbody tr th:only-of-type {\n",
       "        vertical-align: middle;\n",
       "    }\n",
       "\n",
       "    .dataframe tbody tr th {\n",
       "        vertical-align: top;\n",
       "    }\n",
       "\n",
       "    .dataframe thead th {\n",
       "        text-align: right;\n",
       "    }\n",
       "</style>\n",
       "<table border=\"1\" class=\"dataframe\">\n",
       "  <thead>\n",
       "    <tr style=\"text-align: right;\">\n",
       "      <th></th>\n",
       "      <th>platform</th>\n",
       "      <th>количество_игр</th>\n",
       "    </tr>\n",
       "  </thead>\n",
       "  <tbody>\n",
       "    <tr>\n",
       "      <th>9</th>\n",
       "      <td>ps2</td>\n",
       "      <td>2154</td>\n",
       "    </tr>\n",
       "    <tr>\n",
       "      <th>2</th>\n",
       "      <td>ds</td>\n",
       "      <td>2146</td>\n",
       "    </tr>\n",
       "    <tr>\n",
       "      <th>14</th>\n",
       "      <td>wii</td>\n",
       "      <td>1294</td>\n",
       "    </tr>\n",
       "    <tr>\n",
       "      <th>12</th>\n",
       "      <td>psp</td>\n",
       "      <td>1199</td>\n",
       "    </tr>\n",
       "    <tr>\n",
       "      <th>17</th>\n",
       "      <td>x360</td>\n",
       "      <td>1138</td>\n",
       "    </tr>\n",
       "    <tr>\n",
       "      <th>10</th>\n",
       "      <td>ps3</td>\n",
       "      <td>1107</td>\n",
       "    </tr>\n",
       "    <tr>\n",
       "      <th>4</th>\n",
       "      <td>gba</td>\n",
       "      <td>826</td>\n",
       "    </tr>\n",
       "  </tbody>\n",
       "</table>\n",
       "</div>"
      ],
      "text/plain": [
       "   platform  количество_игр\n",
       "9       ps2            2154\n",
       "2        ds            2146\n",
       "14      wii            1294\n",
       "12      psp            1199\n",
       "17     x360            1138\n",
       "10      ps3            1107\n",
       "4       gba             826"
      ]
     },
     "execution_count": 31,
     "metadata": {},
     "output_type": "execute_result"
    }
   ],
   "source": [
    "# Группируем данные по платформе и считаем количество игр для каждой платформы\n",
    "platform_counts = df_actual.groupby('platform').size().reset_index(name='количество_игр')\n",
    "# Сортируем платформы по количеству игр в порядке убывания\n",
    "platform_counts_sorted = platform_counts.sort_values(by='количество_игр', ascending=False)\n",
    "# Выбираем топ-7 платформ\n",
    "top_7_platforms = platform_counts_sorted.head(7)\n",
    "top_7_platforms"
   ]
  },
  {
   "cell_type": "markdown",
   "id": "c0158881",
   "metadata": {
    "id": "c0158881"
   },
   "source": [
    "---\n",
    "\n",
    "## 5. Итоговый вывод\n",
    "\n",
    "В процессе анализа данных о продажах игр был проведён ряд операций по предобработке и категоризации данных. Удалены строки с пропусками, дубликатами или некорректными значениями, что улучшило качество данных. Были добавлены новые поля для категоризации оценок пользователей и критиков, что позволило сгруппировать игры по уровню оценок. Также был выполнен срез данных для анализа игр, выпущенных в период с 2000 по 2013 год, и определены топ-7 платформ по количеству выпущенных игр.\n",
    "\n",
    "Проделанная работа:\n",
    "\n",
    "1. Предобработка данных: удаление строк с пропусками и дубликатами, что обеспечило чистоту и структурированность данных.\n",
    "2. Категоризация оценок: создание новых полей категория_оценки и категория_оценки_критиков для группировки игр по уровню оценок пользователей и критиков соответственно.\n",
    "3. Срез данных: отбор данных о играх, выпущенных в период с 2000 по 2013 год, для более детального анализа.\n",
    "4. Анализ платформ: определение топ-7 платформ по количеству выпущенных игр за указанный период.\n",
    "\n",
    "Описание среза данных:\n",
    "\n",
    "Срез данных включает информацию о играх, выпущенных в период с 2000 по 2013 год. Это позволяет сосредоточиться на анализе рынка видеоигр в начале XXI века и выявить тенденции и особенности этого периода.\n",
    "\n",
    "Новые поля, добавленные в исходный датасет:\n",
    "\n",
    "- категория_оценки: категоризация оценок пользователей по уровням «высокая», «средняя», «низкая».\n",
    "- категория_оценки_критиков: категоризация оценок критиков по уровням «высокая оценка», «средняя оценка», «низкая оценка»."
   ]
  }
 ],
 "metadata": {
  "ExecuteTimeLog": [
   {
    "duration": 3,
    "start_time": "2025-05-10T16:09:27.345Z"
   },
   {
    "duration": 416,
    "start_time": "2025-05-10T16:09:45.372Z"
   },
   {
    "duration": 59,
    "start_time": "2025-05-10T16:11:29.371Z"
   },
   {
    "duration": 6,
    "start_time": "2025-05-10T16:13:04.557Z"
   },
   {
    "duration": 2,
    "start_time": "2025-05-10T16:13:39.918Z"
   },
   {
    "duration": 6,
    "start_time": "2025-05-10T16:13:43.349Z"
   },
   {
    "duration": 6,
    "start_time": "2025-05-10T16:13:48.451Z"
   },
   {
    "duration": 7,
    "start_time": "2025-05-10T16:14:53.951Z"
   },
   {
    "duration": 7,
    "start_time": "2025-05-10T16:14:57.018Z"
   },
   {
    "duration": 7,
    "start_time": "2025-05-10T16:14:59.602Z"
   },
   {
    "duration": 7,
    "start_time": "2025-05-10T16:15:26.941Z"
   },
   {
    "duration": 9,
    "start_time": "2025-05-10T16:15:29.975Z"
   },
   {
    "duration": 7,
    "start_time": "2025-05-10T16:16:13.523Z"
   },
   {
    "duration": 6,
    "start_time": "2025-05-10T16:16:16.396Z"
   },
   {
    "duration": 7,
    "start_time": "2025-05-10T16:16:39.903Z"
   },
   {
    "duration": 6,
    "start_time": "2025-05-10T16:16:42.949Z"
   },
   {
    "duration": 9,
    "start_time": "2025-05-10T16:23:38.500Z"
   },
   {
    "duration": 6,
    "start_time": "2025-05-10T16:23:41.213Z"
   },
   {
    "duration": 2,
    "start_time": "2025-05-10T16:23:56.683Z"
   },
   {
    "duration": 7,
    "start_time": "2025-05-10T16:23:58.866Z"
   },
   {
    "duration": 7,
    "start_time": "2025-05-10T16:24:01.797Z"
   },
   {
    "duration": 3,
    "start_time": "2025-05-10T16:24:52.141Z"
   },
   {
    "duration": 7,
    "start_time": "2025-05-10T16:24:53.625Z"
   },
   {
    "duration": 6,
    "start_time": "2025-05-10T16:24:56.102Z"
   },
   {
    "duration": 2,
    "start_time": "2025-05-10T16:25:53.173Z"
   },
   {
    "duration": 7,
    "start_time": "2025-05-10T16:25:54.158Z"
   },
   {
    "duration": 6,
    "start_time": "2025-05-10T16:25:56.574Z"
   },
   {
    "duration": 2,
    "start_time": "2025-05-10T16:26:27.820Z"
   },
   {
    "duration": 7,
    "start_time": "2025-05-10T16:26:28.596Z"
   },
   {
    "duration": 8,
    "start_time": "2025-05-10T16:26:48.007Z"
   },
   {
    "duration": 7,
    "start_time": "2025-05-10T16:26:49.257Z"
   },
   {
    "duration": 3,
    "start_time": "2025-05-10T16:28:39.747Z"
   },
   {
    "duration": 82,
    "start_time": "2025-05-10T16:28:40.435Z"
   },
   {
    "duration": 16,
    "start_time": "2025-05-10T16:28:42.526Z"
   },
   {
    "duration": 20,
    "start_time": "2025-05-10T16:30:35.366Z"
   },
   {
    "duration": 4,
    "start_time": "2025-05-10T17:12:40.594Z"
   },
   {
    "duration": 8,
    "start_time": "2025-05-10T17:15:09.522Z"
   },
   {
    "duration": 7,
    "start_time": "2025-05-10T17:16:43.295Z"
   },
   {
    "duration": 4,
    "start_time": "2025-05-10T17:16:59.281Z"
   },
   {
    "duration": 4,
    "start_time": "2025-05-10T17:17:01.427Z"
   },
   {
    "duration": 5,
    "start_time": "2025-05-10T17:17:35.230Z"
   },
   {
    "duration": 5,
    "start_time": "2025-05-10T17:19:25.916Z"
   },
   {
    "duration": 5,
    "start_time": "2025-05-10T20:11:18.782Z"
   },
   {
    "duration": 5,
    "start_time": "2025-05-10T20:11:38.795Z"
   },
   {
    "duration": 5,
    "start_time": "2025-05-10T20:11:42.461Z"
   },
   {
    "duration": 6,
    "start_time": "2025-05-10T22:03:41.315Z"
   },
   {
    "duration": 5,
    "start_time": "2025-05-10T22:03:48.339Z"
   },
   {
    "duration": 12,
    "start_time": "2025-05-10T22:50:45.800Z"
   },
   {
    "duration": 576,
    "start_time": "2025-05-10T22:53:05.830Z"
   },
   {
    "duration": 573,
    "start_time": "2025-05-10T22:59:05.998Z"
   },
   {
    "duration": 551,
    "start_time": "2025-05-10T23:07:57.294Z"
   },
   {
    "duration": 7,
    "start_time": "2025-05-10T23:09:18.760Z"
   },
   {
    "duration": 6,
    "start_time": "2025-05-10T23:09:29.693Z"
   },
   {
    "duration": 23,
    "start_time": "2025-05-10T23:10:04.826Z"
   },
   {
    "duration": 26,
    "start_time": "2025-05-10T23:10:27.179Z"
   },
   {
    "duration": 20,
    "start_time": "2025-05-10T23:10:38.044Z"
   },
   {
    "duration": 27,
    "start_time": "2025-05-10T23:11:24.661Z"
   },
   {
    "duration": 8,
    "start_time": "2025-05-10T23:13:05.758Z"
   },
   {
    "duration": 8,
    "start_time": "2025-05-10T23:13:16.690Z"
   },
   {
    "duration": 4,
    "start_time": "2025-05-10T23:13:53.660Z"
   },
   {
    "duration": 8,
    "start_time": "2025-05-10T23:14:41.752Z"
   },
   {
    "duration": 7,
    "start_time": "2025-05-10T23:16:47.202Z"
   },
   {
    "duration": 21,
    "start_time": "2025-05-10T23:17:01.208Z"
   },
   {
    "duration": 4,
    "start_time": "2025-05-10T23:17:10.106Z"
   },
   {
    "duration": 15,
    "start_time": "2025-05-10T23:26:41.857Z"
   },
   {
    "duration": 9,
    "start_time": "2025-05-10T23:30:00.541Z"
   },
   {
    "duration": 8,
    "start_time": "2025-05-10T23:30:09.089Z"
   },
   {
    "duration": 14,
    "start_time": "2025-05-10T23:30:14.489Z"
   },
   {
    "duration": 15,
    "start_time": "2025-05-10T23:30:36.130Z"
   },
   {
    "duration": 7,
    "start_time": "2025-05-10T23:30:47.232Z"
   },
   {
    "duration": 19,
    "start_time": "2025-05-10T23:31:18.521Z"
   },
   {
    "duration": 16,
    "start_time": "2025-05-10T23:34:08.728Z"
   },
   {
    "duration": 82,
    "start_time": "2025-05-10T23:34:25.159Z"
   },
   {
    "duration": 19,
    "start_time": "2025-05-10T23:34:31.680Z"
   },
   {
    "duration": 8,
    "start_time": "2025-05-10T23:34:39.919Z"
   },
   {
    "duration": 15,
    "start_time": "2025-05-10T23:34:43.798Z"
   },
   {
    "duration": 12,
    "start_time": "2025-05-10T23:38:01.269Z"
   },
   {
    "duration": 78,
    "start_time": "2025-05-10T23:38:47.836Z"
   },
   {
    "duration": 127,
    "start_time": "2025-05-10T23:39:07.301Z"
   },
   {
    "duration": 95,
    "start_time": "2025-05-10T23:42:43.245Z"
   },
   {
    "duration": 78,
    "start_time": "2025-05-10T23:43:22.780Z"
   },
   {
    "duration": 11,
    "start_time": "2025-05-10T23:43:44.254Z"
   },
   {
    "duration": 10,
    "start_time": "2025-05-10T23:45:04.143Z"
   },
   {
    "duration": 10,
    "start_time": "2025-05-10T23:46:51.809Z"
   },
   {
    "duration": 16,
    "start_time": "2025-05-10T23:47:24.144Z"
   },
   {
    "duration": 47,
    "start_time": "2025-05-11T12:17:56.305Z"
   },
   {
    "duration": 6,
    "start_time": "2025-05-11T12:18:07.102Z"
   },
   {
    "duration": 5,
    "start_time": "2025-05-11T12:18:09.547Z"
   },
   {
    "duration": 6,
    "start_time": "2025-05-11T12:18:36.367Z"
   },
   {
    "duration": 6,
    "start_time": "2025-05-11T12:18:53.503Z"
   },
   {
    "duration": 6,
    "start_time": "2025-05-11T12:18:59.055Z"
   },
   {
    "duration": 420,
    "start_time": "2025-05-11T12:19:10.266Z"
   },
   {
    "duration": 74,
    "start_time": "2025-05-11T12:19:11.200Z"
   },
   {
    "duration": 26,
    "start_time": "2025-05-11T12:19:15.760Z"
   },
   {
    "duration": 19,
    "start_time": "2025-05-11T12:19:18.882Z"
   },
   {
    "duration": 4,
    "start_time": "2025-05-11T12:19:23.593Z"
   },
   {
    "duration": 5,
    "start_time": "2025-05-11T12:19:24.443Z"
   },
   {
    "duration": 18,
    "start_time": "2025-05-11T12:19:28.641Z"
   },
   {
    "duration": 11,
    "start_time": "2025-05-11T12:19:29.688Z"
   },
   {
    "duration": 21,
    "start_time": "2025-05-11T12:19:30.477Z"
   },
   {
    "duration": 8,
    "start_time": "2025-05-11T12:19:35.770Z"
   },
   {
    "duration": 9,
    "start_time": "2025-05-11T12:20:14.683Z"
   },
   {
    "duration": 387,
    "start_time": "2025-05-11T15:45:59.329Z"
   },
   {
    "duration": 101,
    "start_time": "2025-05-11T15:45:59.977Z"
   },
   {
    "duration": 16,
    "start_time": "2025-05-11T15:46:00.916Z"
   },
   {
    "duration": 21,
    "start_time": "2025-05-11T15:46:05.936Z"
   },
   {
    "duration": 6,
    "start_time": "2025-05-11T15:46:10.950Z"
   },
   {
    "duration": 5,
    "start_time": "2025-05-11T15:46:11.728Z"
   },
   {
    "duration": 18,
    "start_time": "2025-05-11T15:46:15.005Z"
   },
   {
    "duration": 10,
    "start_time": "2025-05-11T15:46:15.871Z"
   },
   {
    "duration": 25,
    "start_time": "2025-05-11T15:46:18.529Z"
   },
   {
    "duration": 12,
    "start_time": "2025-05-11T15:46:22.302Z"
   },
   {
    "duration": 15,
    "start_time": "2025-05-11T15:46:23.232Z"
   },
   {
    "duration": 36,
    "start_time": "2025-05-11T15:46:25.117Z"
   },
   {
    "duration": 25,
    "start_time": "2025-05-11T15:46:26.558Z"
   },
   {
    "duration": 28,
    "start_time": "2025-05-11T15:46:29.158Z"
   },
   {
    "duration": 8,
    "start_time": "2025-05-11T15:50:52.423Z"
   },
   {
    "duration": 15,
    "start_time": "2025-05-11T15:53:08.648Z"
   },
   {
    "duration": 7,
    "start_time": "2025-05-11T15:56:00.566Z"
   },
   {
    "duration": 7,
    "start_time": "2025-05-11T15:57:37.414Z"
   },
   {
    "duration": 7,
    "start_time": "2025-05-11T15:59:25.673Z"
   },
   {
    "duration": 8,
    "start_time": "2025-05-11T15:59:43.789Z"
   },
   {
    "duration": 7,
    "start_time": "2025-05-11T16:00:47.461Z"
   },
   {
    "duration": 6,
    "start_time": "2025-05-11T16:00:50.461Z"
   },
   {
    "duration": 30,
    "start_time": "2025-05-11T16:01:36.917Z"
   },
   {
    "duration": 18,
    "start_time": "2025-05-11T16:03:37.668Z"
   },
   {
    "duration": 1141,
    "start_time": "2025-05-11T16:07:36.008Z"
   },
   {
    "duration": 35,
    "start_time": "2025-05-11T16:07:57.214Z"
   },
   {
    "duration": 25,
    "start_time": "2025-05-11T16:08:27.882Z"
   },
   {
    "duration": 25,
    "start_time": "2025-05-11T16:08:32.555Z"
   },
   {
    "duration": 26,
    "start_time": "2025-05-11T16:08:40.387Z"
   },
   {
    "duration": 19,
    "start_time": "2025-05-11T16:08:41.145Z"
   },
   {
    "duration": 23,
    "start_time": "2025-05-11T16:09:40.660Z"
   },
   {
    "duration": 18,
    "start_time": "2025-05-11T16:09:41.945Z"
   },
   {
    "duration": 34,
    "start_time": "2025-05-11T16:13:08.229Z"
   },
   {
    "duration": 205,
    "start_time": "2025-05-11T20:20:13.917Z"
   },
   {
    "duration": 20,
    "start_time": "2025-05-11T20:20:20.732Z"
   },
   {
    "duration": 25,
    "start_time": "2025-05-11T20:21:22.010Z"
   },
   {
    "duration": 21,
    "start_time": "2025-05-11T20:22:05.798Z"
   },
   {
    "duration": 9,
    "start_time": "2025-05-11T20:25:32.194Z"
   },
   {
    "duration": 30,
    "start_time": "2025-05-11T20:26:00.057Z"
   },
   {
    "duration": 19,
    "start_time": "2025-05-11T20:26:57.592Z"
   },
   {
    "duration": 22,
    "start_time": "2025-05-11T20:32:13.498Z"
   },
   {
    "duration": 18,
    "start_time": "2025-05-11T20:32:21.131Z"
   },
   {
    "duration": 17,
    "start_time": "2025-05-11T20:32:40.033Z"
   },
   {
    "duration": 19,
    "start_time": "2025-05-11T20:32:55.926Z"
   },
   {
    "duration": 20,
    "start_time": "2025-05-11T20:33:04.484Z"
   },
   {
    "duration": 18,
    "start_time": "2025-05-11T20:33:08.504Z"
   },
   {
    "duration": 3,
    "start_time": "2025-05-11T20:33:23.191Z"
   },
   {
    "duration": 88,
    "start_time": "2025-05-11T20:33:23.918Z"
   },
   {
    "duration": 21,
    "start_time": "2025-05-11T20:33:24.769Z"
   },
   {
    "duration": 13,
    "start_time": "2025-05-11T20:33:25.941Z"
   },
   {
    "duration": 4,
    "start_time": "2025-05-11T20:33:28.640Z"
   },
   {
    "duration": 5,
    "start_time": "2025-05-11T20:33:29.365Z"
   },
   {
    "duration": 27,
    "start_time": "2025-05-11T20:33:31.481Z"
   },
   {
    "duration": 9,
    "start_time": "2025-05-11T20:33:32.103Z"
   },
   {
    "duration": 15,
    "start_time": "2025-05-11T20:33:32.823Z"
   },
   {
    "duration": 7,
    "start_time": "2025-05-11T20:33:35.403Z"
   },
   {
    "duration": 13,
    "start_time": "2025-05-11T20:33:36.166Z"
   },
   {
    "duration": 34,
    "start_time": "2025-05-11T20:33:37.555Z"
   },
   {
    "duration": 25,
    "start_time": "2025-05-11T20:33:38.186Z"
   },
   {
    "duration": 27,
    "start_time": "2025-05-11T20:33:39.734Z"
   },
   {
    "duration": 16,
    "start_time": "2025-05-11T20:33:40.555Z"
   },
   {
    "duration": 7,
    "start_time": "2025-05-11T20:33:41.368Z"
   },
   {
    "duration": 7,
    "start_time": "2025-05-11T20:33:42.144Z"
   },
   {
    "duration": 7,
    "start_time": "2025-05-11T20:33:42.924Z"
   },
   {
    "duration": 8,
    "start_time": "2025-05-11T20:33:43.707Z"
   },
   {
    "duration": 13,
    "start_time": "2025-05-11T20:33:44.448Z"
   },
   {
    "duration": 19,
    "start_time": "2025-05-11T20:33:45.291Z"
   },
   {
    "duration": 23,
    "start_time": "2025-05-11T20:33:46.076Z"
   },
   {
    "duration": 21,
    "start_time": "2025-05-11T20:34:15.891Z"
   },
   {
    "duration": 3,
    "start_time": "2025-05-11T20:35:12.219Z"
   },
   {
    "duration": 31,
    "start_time": "2025-05-11T20:36:56.072Z"
   },
   {
    "duration": 15,
    "start_time": "2025-05-11T20:40:14.450Z"
   },
   {
    "duration": 5,
    "start_time": "2025-05-11T20:40:21.989Z"
   },
   {
    "duration": 77,
    "start_time": "2025-05-11T20:40:22.632Z"
   },
   {
    "duration": 15,
    "start_time": "2025-05-11T20:40:23.134Z"
   },
   {
    "duration": 19,
    "start_time": "2025-05-11T20:40:23.975Z"
   },
   {
    "duration": 4,
    "start_time": "2025-05-11T20:40:26.616Z"
   },
   {
    "duration": 4,
    "start_time": "2025-05-11T20:40:27.189Z"
   },
   {
    "duration": 18,
    "start_time": "2025-05-11T20:40:29.196Z"
   },
   {
    "duration": 9,
    "start_time": "2025-05-11T20:40:29.800Z"
   },
   {
    "duration": 16,
    "start_time": "2025-05-11T20:40:30.442Z"
   },
   {
    "duration": 14,
    "start_time": "2025-05-11T20:40:32.475Z"
   },
   {
    "duration": 9,
    "start_time": "2025-05-11T20:40:33.152Z"
   },
   {
    "duration": 21,
    "start_time": "2025-05-11T20:40:34.534Z"
   },
   {
    "duration": 31,
    "start_time": "2025-05-11T20:40:35.177Z"
   },
   {
    "duration": 30,
    "start_time": "2025-05-11T20:40:36.866Z"
   },
   {
    "duration": 20,
    "start_time": "2025-05-11T20:40:37.569Z"
   },
   {
    "duration": 7,
    "start_time": "2025-05-11T20:40:38.346Z"
   },
   {
    "duration": 6,
    "start_time": "2025-05-11T20:40:39.252Z"
   },
   {
    "duration": 6,
    "start_time": "2025-05-11T20:40:39.901Z"
   },
   {
    "duration": 7,
    "start_time": "2025-05-11T20:40:40.615Z"
   },
   {
    "duration": 13,
    "start_time": "2025-05-11T20:40:41.841Z"
   },
   {
    "duration": 18,
    "start_time": "2025-05-11T20:40:57.038Z"
   },
   {
    "duration": 19,
    "start_time": "2025-05-11T20:40:58.597Z"
   },
   {
    "duration": 23,
    "start_time": "2025-05-11T20:41:07.446Z"
   },
   {
    "duration": 21,
    "start_time": "2025-05-11T20:41:16.097Z"
   },
   {
    "duration": 21,
    "start_time": "2025-05-11T20:41:59.439Z"
   },
   {
    "duration": 21,
    "start_time": "2025-05-11T20:52:24.185Z"
   },
   {
    "duration": 9,
    "start_time": "2025-05-11T21:06:53.745Z"
   },
   {
    "duration": 13,
    "start_time": "2025-05-11T21:07:51.418Z"
   },
   {
    "duration": 17,
    "start_time": "2025-05-11T21:08:04.191Z"
   },
   {
    "duration": 18,
    "start_time": "2025-05-11T21:09:14.279Z"
   },
   {
    "duration": 20,
    "start_time": "2025-05-11T21:16:05.643Z"
   },
   {
    "duration": 13,
    "start_time": "2025-05-11T21:18:04.157Z"
   },
   {
    "duration": 10,
    "start_time": "2025-05-11T21:18:24.121Z"
   },
   {
    "duration": 10,
    "start_time": "2025-05-11T21:18:29.152Z"
   },
   {
    "duration": 11,
    "start_time": "2025-05-11T21:19:37.240Z"
   },
   {
    "duration": 15,
    "start_time": "2025-05-11T21:20:24.269Z"
   },
   {
    "duration": 66,
    "start_time": "2025-05-12T09:15:04.499Z"
   },
   {
    "duration": 470,
    "start_time": "2025-05-12T09:15:13.769Z"
   },
   {
    "duration": 83,
    "start_time": "2025-05-12T09:15:14.353Z"
   },
   {
    "duration": 17,
    "start_time": "2025-05-12T09:15:14.914Z"
   },
   {
    "duration": 23,
    "start_time": "2025-05-12T09:15:16.991Z"
   },
   {
    "duration": 5,
    "start_time": "2025-05-12T09:15:22.798Z"
   },
   {
    "duration": 5,
    "start_time": "2025-05-12T09:15:23.407Z"
   },
   {
    "duration": 29,
    "start_time": "2025-05-12T09:15:25.879Z"
   },
   {
    "duration": 9,
    "start_time": "2025-05-12T09:15:27.065Z"
   },
   {
    "duration": 17,
    "start_time": "2025-05-12T09:15:27.758Z"
   },
   {
    "duration": 9,
    "start_time": "2025-05-12T09:15:30.319Z"
   },
   {
    "duration": 11,
    "start_time": "2025-05-12T09:15:30.911Z"
   },
   {
    "duration": 28,
    "start_time": "2025-05-12T09:15:33.699Z"
   },
   {
    "duration": 27,
    "start_time": "2025-05-12T09:15:34.520Z"
   },
   {
    "duration": 32,
    "start_time": "2025-05-12T09:15:39.962Z"
   },
   {
    "duration": 18,
    "start_time": "2025-05-12T09:15:40.522Z"
   },
   {
    "duration": 7,
    "start_time": "2025-05-12T09:15:41.155Z"
   },
   {
    "duration": 7,
    "start_time": "2025-05-12T09:15:41.794Z"
   },
   {
    "duration": 9,
    "start_time": "2025-05-12T09:15:42.533Z"
   },
   {
    "duration": 10,
    "start_time": "2025-05-12T09:15:44.128Z"
   },
   {
    "duration": 24,
    "start_time": "2025-05-12T09:15:44.803Z"
   },
   {
    "duration": 34,
    "start_time": "2025-05-12T09:15:46.181Z"
   },
   {
    "duration": 32,
    "start_time": "2025-05-12T09:15:46.935Z"
   },
   {
    "duration": 41,
    "start_time": "2025-05-12T09:15:49.294Z"
   },
   {
    "duration": 453,
    "start_time": "2025-05-13T08:52:49.065Z"
   },
   {
    "duration": 137,
    "start_time": "2025-05-13T08:52:49.726Z"
   },
   {
    "duration": 18,
    "start_time": "2025-05-13T08:52:50.408Z"
   },
   {
    "duration": 26,
    "start_time": "2025-05-13T08:52:51.081Z"
   },
   {
    "duration": 4,
    "start_time": "2025-05-13T08:52:59.402Z"
   },
   {
    "duration": 8,
    "start_time": "2025-05-13T08:53:00.188Z"
   },
   {
    "duration": 21,
    "start_time": "2025-05-13T08:54:32.832Z"
   },
   {
    "duration": 16,
    "start_time": "2025-05-13T08:55:49.141Z"
   },
   {
    "duration": 19,
    "start_time": "2025-05-13T08:56:02.299Z"
   },
   {
    "duration": 11,
    "start_time": "2025-05-13T09:06:47.540Z"
   },
   {
    "duration": 31,
    "start_time": "2025-05-13T09:06:48.312Z"
   },
   {
    "duration": 8,
    "start_time": "2025-05-13T10:14:28.991Z"
   },
   {
    "duration": 26,
    "start_time": "2025-05-13T10:14:32.935Z"
   },
   {
    "duration": 25,
    "start_time": "2025-05-13T12:16:18.652Z"
   },
   {
    "duration": 25,
    "start_time": "2025-05-13T12:16:22.141Z"
   },
   {
    "duration": 102,
    "start_time": "2025-05-13T13:55:32.365Z"
   },
   {
    "duration": 26,
    "start_time": "2025-05-13T13:55:33.569Z"
   },
   {
    "duration": 25,
    "start_time": "2025-05-13T13:56:10.091Z"
   },
   {
    "duration": 37,
    "start_time": "2025-05-13T14:00:42.895Z"
   },
   {
    "duration": 26,
    "start_time": "2025-05-13T14:01:03.094Z"
   },
   {
    "duration": 30,
    "start_time": "2025-05-13T14:01:08.392Z"
   },
   {
    "duration": 17,
    "start_time": "2025-05-13T14:01:09.489Z"
   },
   {
    "duration": 8,
    "start_time": "2025-05-13T14:01:12.566Z"
   },
   {
    "duration": 8,
    "start_time": "2025-05-13T14:01:13.652Z"
   },
   {
    "duration": 8,
    "start_time": "2025-05-13T14:01:14.583Z"
   },
   {
    "duration": 3,
    "start_time": "2025-05-13T16:32:03.972Z"
   },
   {
    "duration": 5,
    "start_time": "2025-05-13T16:37:55.063Z"
   },
   {
    "duration": 31,
    "start_time": "2025-05-13T16:38:03.917Z"
   },
   {
    "duration": 7,
    "start_time": "2025-05-13T16:38:09.339Z"
   },
   {
    "duration": 6,
    "start_time": "2025-05-13T16:38:42.061Z"
   },
   {
    "duration": 8,
    "start_time": "2025-05-13T16:38:43.046Z"
   },
   {
    "duration": 19,
    "start_time": "2025-05-13T16:38:43.516Z"
   },
   {
    "duration": 11,
    "start_time": "2025-05-13T16:38:45.873Z"
   },
   {
    "duration": 13,
    "start_time": "2025-05-13T16:38:46.393Z"
   },
   {
    "duration": 31,
    "start_time": "2025-05-13T16:38:48.760Z"
   },
   {
    "duration": 9,
    "start_time": "2025-05-13T16:39:27.035Z"
   },
   {
    "duration": 8,
    "start_time": "2025-05-13T16:42:10.316Z"
   },
   {
    "duration": 17,
    "start_time": "2025-05-13T16:42:11.172Z"
   },
   {
    "duration": 8,
    "start_time": "2025-05-13T16:42:13.839Z"
   },
   {
    "duration": 10,
    "start_time": "2025-05-13T16:42:14.508Z"
   },
   {
    "duration": 17,
    "start_time": "2025-05-13T16:42:20.490Z"
   },
   {
    "duration": 4,
    "start_time": "2025-05-13T16:43:03.708Z"
   },
   {
    "duration": 26,
    "start_time": "2025-05-13T16:43:06.913Z"
   },
   {
    "duration": 6,
    "start_time": "2025-05-13T17:02:42.806Z"
   },
   {
    "duration": 6,
    "start_time": "2025-05-13T17:02:43.878Z"
   },
   {
    "duration": 16,
    "start_time": "2025-05-13T17:02:44.455Z"
   },
   {
    "duration": 9,
    "start_time": "2025-05-13T17:02:46.876Z"
   },
   {
    "duration": 11,
    "start_time": "2025-05-13T17:02:47.470Z"
   },
   {
    "duration": 10,
    "start_time": "2025-05-13T17:02:51.742Z"
   },
   {
    "duration": 26,
    "start_time": "2025-05-13T17:02:53.408Z"
   },
   {
    "duration": 3,
    "start_time": "2025-05-13T17:03:05.316Z"
   },
   {
    "duration": 25,
    "start_time": "2025-05-13T17:03:07.202Z"
   },
   {
    "duration": 27,
    "start_time": "2025-05-13T17:03:26.288Z"
   },
   {
    "duration": 18,
    "start_time": "2025-05-13T17:03:26.828Z"
   },
   {
    "duration": 6,
    "start_time": "2025-05-13T17:03:29.220Z"
   },
   {
    "duration": 7,
    "start_time": "2025-05-13T17:03:31.876Z"
   },
   {
    "duration": 7,
    "start_time": "2025-05-13T17:03:46.569Z"
   },
   {
    "duration": 26,
    "start_time": "2025-05-13T17:03:50.347Z"
   },
   {
    "duration": 7,
    "start_time": "2025-05-13T17:04:06.905Z"
   },
   {
    "duration": 19,
    "start_time": "2025-05-13T17:04:07.934Z"
   },
   {
    "duration": 21,
    "start_time": "2025-05-13T17:04:08.715Z"
   },
   {
    "duration": 20,
    "start_time": "2025-05-13T17:04:22.313Z"
   },
   {
    "duration": 23,
    "start_time": "2025-05-13T17:04:23.926Z"
   },
   {
    "duration": 41,
    "start_time": "2025-05-13T17:04:34.145Z"
   },
   {
    "duration": 32,
    "start_time": "2025-05-13T17:04:47.742Z"
   },
   {
    "duration": 30,
    "start_time": "2025-05-13T17:04:50.946Z"
   },
   {
    "duration": 28,
    "start_time": "2025-05-13T17:05:19.742Z"
   },
   {
    "duration": 8,
    "start_time": "2025-05-13T17:05:25.647Z"
   },
   {
    "duration": 29,
    "start_time": "2025-05-13T17:05:26.926Z"
   },
   {
    "duration": 21,
    "start_time": "2025-05-13T17:05:27.900Z"
   },
   {
    "duration": 20,
    "start_time": "2025-05-13T17:05:30.349Z"
   },
   {
    "duration": 38,
    "start_time": "2025-05-13T17:05:33.345Z"
   },
   {
    "duration": 27,
    "start_time": "2025-05-13T17:05:37.120Z"
   },
   {
    "duration": 32,
    "start_time": "2025-05-13T17:05:55.988Z"
   },
   {
    "duration": 20,
    "start_time": "2025-05-13T17:06:45.558Z"
   },
   {
    "duration": 16,
    "start_time": "2025-05-13T17:09:41.452Z"
   },
   {
    "duration": 18,
    "start_time": "2025-05-13T17:09:43.929Z"
   },
   {
    "duration": 437,
    "start_time": "2025-05-13T17:10:48.259Z"
   },
   {
    "duration": 100,
    "start_time": "2025-05-13T17:10:48.971Z"
   },
   {
    "duration": 19,
    "start_time": "2025-05-13T17:10:49.465Z"
   },
   {
    "duration": 21,
    "start_time": "2025-05-13T17:10:50.042Z"
   },
   {
    "duration": 4,
    "start_time": "2025-05-13T17:10:53.687Z"
   },
   {
    "duration": 5,
    "start_time": "2025-05-13T17:10:54.246Z"
   },
   {
    "duration": 27,
    "start_time": "2025-05-13T17:10:57.260Z"
   },
   {
    "duration": 13,
    "start_time": "2025-05-13T17:10:59.285Z"
   },
   {
    "duration": 19,
    "start_time": "2025-05-13T17:11:00.168Z"
   },
   {
    "duration": 8,
    "start_time": "2025-05-13T17:11:17.617Z"
   },
   {
    "duration": 21,
    "start_time": "2025-05-13T17:11:18.237Z"
   },
   {
    "duration": 3,
    "start_time": "2025-05-13T17:11:22.034Z"
   },
   {
    "duration": 80,
    "start_time": "2025-05-13T17:11:23.181Z"
   },
   {
    "duration": 10,
    "start_time": "2025-05-13T17:11:35.033Z"
   },
   {
    "duration": 17,
    "start_time": "2025-05-13T17:11:35.721Z"
   },
   {
    "duration": 12,
    "start_time": "2025-05-13T17:11:51.970Z"
   },
   {
    "duration": 24,
    "start_time": "2025-05-13T17:11:54.935Z"
   },
   {
    "duration": 13,
    "start_time": "2025-05-13T17:12:08.824Z"
   },
   {
    "duration": 14,
    "start_time": "2025-05-13T17:12:13.667Z"
   },
   {
    "duration": 19,
    "start_time": "2025-05-13T17:12:15.398Z"
   },
   {
    "duration": 4,
    "start_time": "2025-05-13T17:12:23.670Z"
   },
   {
    "duration": 15,
    "start_time": "2025-05-13T17:12:30.820Z"
   },
   {
    "duration": 30,
    "start_time": "2025-05-13T17:12:31.405Z"
   },
   {
    "duration": 9,
    "start_time": "2025-05-13T17:12:40.704Z"
   },
   {
    "duration": 10,
    "start_time": "2025-05-13T17:12:45.097Z"
   },
   {
    "duration": 12,
    "start_time": "2025-05-13T17:13:22.862Z"
   },
   {
    "duration": 10,
    "start_time": "2025-05-13T17:14:18.341Z"
   },
   {
    "duration": 11,
    "start_time": "2025-05-13T17:14:23.359Z"
   },
   {
    "duration": 26,
    "start_time": "2025-05-13T17:14:30.113Z"
   },
   {
    "duration": 6,
    "start_time": "2025-05-13T17:15:18.962Z"
   },
   {
    "duration": 16,
    "start_time": "2025-05-13T17:15:20.285Z"
   },
   {
    "duration": 10,
    "start_time": "2025-05-13T17:15:22.735Z"
   },
   {
    "duration": 10,
    "start_time": "2025-05-13T17:15:23.265Z"
   },
   {
    "duration": 11,
    "start_time": "2025-05-13T17:15:25.493Z"
   },
   {
    "duration": 25,
    "start_time": "2025-05-13T17:15:26.429Z"
   },
   {
    "duration": 12,
    "start_time": "2025-05-13T17:15:34.231Z"
   },
   {
    "duration": 128,
    "start_time": "2025-05-13T17:18:29.852Z"
   },
   {
    "duration": 24,
    "start_time": "2025-05-13T17:18:39.788Z"
   },
   {
    "duration": 25,
    "start_time": "2025-05-13T17:18:45.151Z"
   },
   {
    "duration": 29,
    "start_time": "2025-05-13T17:18:51.892Z"
   },
   {
    "duration": 25,
    "start_time": "2025-05-13T17:18:53.515Z"
   },
   {
    "duration": 6,
    "start_time": "2025-05-13T17:18:58.056Z"
   },
   {
    "duration": 7,
    "start_time": "2025-05-13T17:18:59.353Z"
   },
   {
    "duration": 8,
    "start_time": "2025-05-13T17:18:59.993Z"
   },
   {
    "duration": 27,
    "start_time": "2025-05-13T17:19:01.922Z"
   },
   {
    "duration": 7,
    "start_time": "2025-05-13T17:19:05.084Z"
   },
   {
    "duration": 18,
    "start_time": "2025-05-13T17:19:05.708Z"
   },
   {
    "duration": 22,
    "start_time": "2025-05-13T17:19:06.860Z"
   },
   {
    "duration": 31,
    "start_time": "2025-05-13T17:19:08.332Z"
   },
   {
    "duration": 51,
    "start_time": "2025-05-13T17:19:09.825Z"
   },
   {
    "duration": 28,
    "start_time": "2025-05-13T17:19:13.222Z"
   },
   {
    "duration": 24,
    "start_time": "2025-05-13T17:19:19.393Z"
   },
   {
    "duration": 22,
    "start_time": "2025-05-13T17:19:23.218Z"
   },
   {
    "duration": 16,
    "start_time": "2025-05-13T17:19:41.739Z"
   },
   {
    "duration": 25,
    "start_time": "2025-05-13T17:34:40.297Z"
   },
   {
    "duration": 18,
    "start_time": "2025-05-13T17:34:46.454Z"
   },
   {
    "duration": 19,
    "start_time": "2025-05-13T17:35:43.554Z"
   },
   {
    "duration": 11,
    "start_time": "2025-05-13T17:36:00.969Z"
   },
   {
    "duration": 10,
    "start_time": "2025-05-13T17:36:09.440Z"
   },
   {
    "duration": 11,
    "start_time": "2025-05-13T17:36:24.394Z"
   },
   {
    "duration": 439,
    "start_time": "2025-05-14T09:58:02.920Z"
   },
   {
    "duration": 86,
    "start_time": "2025-05-14T09:58:03.452Z"
   },
   {
    "duration": 19,
    "start_time": "2025-05-14T09:58:03.988Z"
   },
   {
    "duration": 21,
    "start_time": "2025-05-14T09:58:04.585Z"
   },
   {
    "duration": 5,
    "start_time": "2025-05-14T09:58:07.536Z"
   },
   {
    "duration": 6,
    "start_time": "2025-05-14T09:58:08.141Z"
   },
   {
    "duration": 23,
    "start_time": "2025-05-14T09:58:11.729Z"
   },
   {
    "duration": 13,
    "start_time": "2025-05-14T09:58:12.850Z"
   },
   {
    "duration": 20,
    "start_time": "2025-05-14T09:58:13.358Z"
   },
   {
    "duration": 10,
    "start_time": "2025-05-14T09:58:15.476Z"
   },
   {
    "duration": 9,
    "start_time": "2025-05-14T09:58:16.037Z"
   },
   {
    "duration": 26,
    "start_time": "2025-05-14T09:58:18.207Z"
   },
   {
    "duration": 25,
    "start_time": "2025-05-14T09:58:18.783Z"
   },
   {
    "duration": 39,
    "start_time": "2025-05-14T09:58:21.579Z"
   },
   {
    "duration": 17,
    "start_time": "2025-05-14T09:58:22.025Z"
   },
   {
    "duration": 6,
    "start_time": "2025-05-14T09:58:22.671Z"
   },
   {
    "duration": 8,
    "start_time": "2025-05-14T09:58:23.234Z"
   },
   {
    "duration": 6,
    "start_time": "2025-05-14T09:58:23.785Z"
   },
   {
    "duration": 27,
    "start_time": "2025-05-14T09:58:25.007Z"
   },
   {
    "duration": 7,
    "start_time": "2025-05-14T09:58:26.987Z"
   },
   {
    "duration": 19,
    "start_time": "2025-05-14T09:58:27.517Z"
   },
   {
    "duration": 20,
    "start_time": "2025-05-14T09:58:28.101Z"
   },
   {
    "duration": 21,
    "start_time": "2025-05-14T09:58:28.701Z"
   },
   {
    "duration": 36,
    "start_time": "2025-05-14T09:58:30.030Z"
   },
   {
    "duration": 26,
    "start_time": "2025-05-14T09:58:34.288Z"
   },
   {
    "duration": 25,
    "start_time": "2025-05-14T09:58:36.916Z"
   },
   {
    "duration": 19,
    "start_time": "2025-05-14T09:58:47.262Z"
   },
   {
    "duration": 19,
    "start_time": "2025-05-14T09:58:49.822Z"
   },
   {
    "duration": 11,
    "start_time": "2025-05-14T09:58:53.776Z"
   },
   {
    "duration": 10,
    "start_time": "2025-05-14T09:58:54.361Z"
   },
   {
    "duration": 12,
    "start_time": "2025-05-14T09:59:03.294Z"
   }
  ],
  "colab": {
   "provenance": []
  },
  "kernelspec": {
   "display_name": "Python 3 (ipykernel)",
   "language": "python",
   "name": "python3"
  },
  "language_info": {
   "codemirror_mode": {
    "name": "ipython",
    "version": 3
   },
   "file_extension": ".py",
   "mimetype": "text/x-python",
   "name": "python",
   "nbconvert_exporter": "python",
   "pygments_lexer": "ipython3",
   "version": "3.9.5"
  },
  "toc": {
   "base_numbering": 1,
   "nav_menu": {},
   "number_sections": false,
   "sideBar": true,
   "skip_h1_title": true,
   "title_cell": "Table of Contents",
   "title_sidebar": "Contents",
   "toc_cell": false,
   "toc_position": {},
   "toc_section_display": true,
   "toc_window_display": false
  }
 },
 "nbformat": 4,
 "nbformat_minor": 5
}

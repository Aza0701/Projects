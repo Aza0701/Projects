{
 "cells": [
  {
   "cell_type": "markdown",
   "id": "e06910dd",
   "metadata": {
    "id": "e06910dd"
   },
   "source": [
    "# Изучение рынка заведений общественного питания Москвы"
   ]
  },
  {
   "cell_type": "markdown",
   "id": "4149134c",
   "metadata": {
    "id": "4149134c"
   },
   "source": [
    "### Цели и задачи проекта\n",
    "\n",
    "**Цель:** Изучить рынки заведений общественного питания Москвы с целью проведения исследовательского анализа\n",
    "\n",
    "**Задачи:**\n",
    "1. Загрузить данные и познакомиться с их содержимым.\n",
    "2. Провести предобработку данных.\n",
    "3. Провести исследовательский анализ данных:\n",
    "    - изучить данные более детально;\n",
    "4. Сформулировать выводы по проведённому анализу."
   ]
  },
  {
   "cell_type": "markdown",
   "id": "728986ea",
   "metadata": {
    "id": "728986ea"
   },
   "source": [
    "### Описание данных\n",
    "\n",
    "Файл **`/datasets/rest_info.csv`** содержит информацию о заведениях общественного питания:\n",
    "\n",
    "- `name` — название заведения;\n",
    "- `address` — адрес заведения;\n",
    "- `district` — административный район, в котором находится заведение, например Центральный административный округ;\n",
    "- `category` — категория заведения, например «кафе», «пиццерия» или «кофейня»;\n",
    "- `hours` — информация о днях и часах работы;\n",
    "- `rating` — рейтинг заведения по оценкам пользователей в Яндекс Картах (высшая оценка — 5.0);\n",
    "- `chain` — число, выраженное 0 или 1, которое показывает, является ли заведение сетевым (для маленьких сетей могут встречаться ошибки):\n",
    "\n",
    "`0` — заведение не является сетевым;\n",
    "\n",
    "`1` — заведение является сетевым.\n",
    "- `seats` — количество посадочных мест.\n",
    "\n",
    "Файл **`/datasets/rest_price.csv`** содержит информацию о среднем чеке в заведениях общественного питания:\n",
    "\n",
    "- `price` — категория цен в заведении, например «средние», «ниже среднего», «выше среднего» и так далее;\n",
    "- `avg_bill` — строка, которая хранит среднюю стоимость заказа в виде диапазона, например:\n",
    "\n",
    "«Средний счёт: 1000–1500 ₽»;\n",
    "\n",
    "«Цена чашки капучино: 130–220 ₽»;\n",
    "\n",
    "«Цена бокала пива: 400–600 ₽».\n",
    "и так далее;\n",
    "- `middle_avg_bill` — число с оценкой среднего чека, которое указано только для значений из столбца `avg_bill`, начинающихся с подстроки «Средний счёт»:\n",
    "Если в строке указан ценовой диапазон из двух значений, в столбец войдёт медиана этих двух значений.\n",
    "Если в строке указано одно число — цена без диапазона, то в столбец войдёт это число.\n",
    "Если значения нет или оно не начинается с подстроки «Средний счёт», то в столбец ничего не войдёт.\n",
    "- `middle_coffee_cup` — число с оценкой одной чашки капучино, которое указано только для значений из столбца\n",
    "- `avg_bill`, начинающихся с подстроки «Цена одной чашки капучино»:\n",
    "Если в строке указан ценовой диапазон из двух значений, в столбец войдёт медиана этих двух значений.\n",
    "Если в строке указано одно число — цена без диапазона, то в столбец войдёт это число.\n",
    "Если значения нет или оно не начинается с подстроки «Цена одной чашки капучино», то в столбец ничего не войдёт.\n"
   ]
  },
  {
   "cell_type": "markdown",
   "id": "4fecaf95",
   "metadata": {
    "id": "4fecaf95"
   },
   "source": [
    "### Содержимое проекта\n",
    "\n",
    "1. Загрузка данных и знакомство с ними.\n",
    "2. Предобработка данных.\n",
    "3. Исследовательский анализ данных.\n",
    "4. Итоговые выводы."
   ]
  },
  {
   "cell_type": "markdown",
   "id": "6f7d21d6",
   "metadata": {
    "id": "6f7d21d6"
   },
   "source": [
    "## 1. Загрузка данных и знакомство с ними\n",
    "\n",
    "- Загрузите данные о заведениях общественного питания Москвы. Путь к файлам: `/datasets/rest_info.csv` и `/datasets/rest_price.csv`."
   ]
  },
  {
   "cell_type": "code",
   "execution_count": 127,
   "id": "219d7bdc",
   "metadata": {},
   "outputs": [
    {
     "name": "stdout",
     "output_type": "stream",
     "text": [
      "Requirement already satisfied: phik in /opt/conda/lib/python3.9/site-packages (0.12.4)\r\n",
      "Requirement already satisfied: matplotlib>=2.2.3 in /opt/conda/lib/python3.9/site-packages (from phik) (3.3.4)\r\n",
      "Requirement already satisfied: joblib>=0.14.1 in /opt/conda/lib/python3.9/site-packages (from phik) (1.1.0)\r\n",
      "Requirement already satisfied: scipy>=1.5.2 in /opt/conda/lib/python3.9/site-packages (from phik) (1.9.1)\r\n",
      "Requirement already satisfied: numpy>=1.18.0 in /opt/conda/lib/python3.9/site-packages (from phik) (1.21.1)\r\n",
      "Requirement already satisfied: pandas>=0.25.1 in /opt/conda/lib/python3.9/site-packages (from phik) (1.2.4)\r\n",
      "Requirement already satisfied: kiwisolver>=1.0.1 in /opt/conda/lib/python3.9/site-packages (from matplotlib>=2.2.3->phik) (1.4.4)\r\n",
      "Requirement already satisfied: pillow>=6.2.0 in /opt/conda/lib/python3.9/site-packages (from matplotlib>=2.2.3->phik) (8.4.0)\r\n",
      "Requirement already satisfied: python-dateutil>=2.1 in /opt/conda/lib/python3.9/site-packages (from matplotlib>=2.2.3->phik) (2.8.1)\r\n",
      "Requirement already satisfied: pyparsing!=2.0.4,!=2.1.2,!=2.1.6,>=2.0.3 in /opt/conda/lib/python3.9/site-packages (from matplotlib>=2.2.3->phik) (2.4.7)\r\n",
      "Requirement already satisfied: cycler>=0.10 in /opt/conda/lib/python3.9/site-packages (from matplotlib>=2.2.3->phik) (0.11.0)\r\n",
      "Requirement already satisfied: pytz>=2017.3 in /opt/conda/lib/python3.9/site-packages (from pandas>=0.25.1->phik) (2021.1)\r\n",
      "Requirement already satisfied: six>=1.5 in /opt/conda/lib/python3.9/site-packages (from python-dateutil>=2.1->matplotlib>=2.2.3->phik) (1.16.0)\r\n"
     ]
    }
   ],
   "source": [
    "!pip install phik"
   ]
  },
  {
   "cell_type": "code",
   "execution_count": 128,
   "id": "05faf34b",
   "metadata": {
    "id": "05faf34b"
   },
   "outputs": [],
   "source": [
    "# Импортируем библиотеки\n",
    "import pandas as pd\n",
    "\n",
    "# Загружаем библиотеки для визуализации данных\n",
    "import matplotlib.pyplot as plt\n",
    "import seaborn as sns\n",
    "\n",
    "# Загружаем библиотеку для расчёта коэффициента корреляции phi_k\n",
    "from phik import phik_matrix"
   ]
  },
  {
   "cell_type": "code",
   "execution_count": 129,
   "id": "ce87c1db",
   "metadata": {
    "id": "ce87c1db"
   },
   "outputs": [],
   "source": [
    "# Выгружаем данные в переменные rest_info и rest_price\n",
    "rest_info = pd.read_csv('https://code.s3.yandex.net/datasets/rest_info.csv')\n",
    "rest_price = pd.read_csv('https://code.s3.yandex.net/datasets/rest_price.csv')"
   ]
  },
  {
   "cell_type": "markdown",
   "id": "18b5dfff",
   "metadata": {
    "id": "18b5dfff"
   },
   "source": [
    "- Познакомьтесь с данными и изучите общую информацию о них."
   ]
  },
  {
   "cell_type": "code",
   "execution_count": 130,
   "id": "f68a7419",
   "metadata": {
    "id": "f68a7419"
   },
   "outputs": [
    {
     "data": {
      "text/html": [
       "<div>\n",
       "<style scoped>\n",
       "    .dataframe tbody tr th:only-of-type {\n",
       "        vertical-align: middle;\n",
       "    }\n",
       "\n",
       "    .dataframe tbody tr th {\n",
       "        vertical-align: top;\n",
       "    }\n",
       "\n",
       "    .dataframe thead th {\n",
       "        text-align: right;\n",
       "    }\n",
       "</style>\n",
       "<table border=\"1\" class=\"dataframe\">\n",
       "  <thead>\n",
       "    <tr style=\"text-align: right;\">\n",
       "      <th></th>\n",
       "      <th>id</th>\n",
       "      <th>name</th>\n",
       "      <th>category</th>\n",
       "      <th>address</th>\n",
       "      <th>district</th>\n",
       "      <th>hours</th>\n",
       "      <th>rating</th>\n",
       "      <th>chain</th>\n",
       "      <th>seats</th>\n",
       "    </tr>\n",
       "  </thead>\n",
       "  <tbody>\n",
       "    <tr>\n",
       "      <th>0</th>\n",
       "      <td>0c3e3439a8c64ea5bf6ecd6ca6ae19f0</td>\n",
       "      <td>WoWфли</td>\n",
       "      <td>кафе</td>\n",
       "      <td>Москва, улица Дыбенко, 7/1</td>\n",
       "      <td>Северный административный округ</td>\n",
       "      <td>ежедневно, 10:00–22:00</td>\n",
       "      <td>5.0</td>\n",
       "      <td>0</td>\n",
       "      <td>NaN</td>\n",
       "    </tr>\n",
       "    <tr>\n",
       "      <th>1</th>\n",
       "      <td>045780ada3474c57a2112e505d74b633</td>\n",
       "      <td>Четыре комнаты</td>\n",
       "      <td>ресторан</td>\n",
       "      <td>Москва, улица Дыбенко, 36, корп. 1</td>\n",
       "      <td>Северный административный округ</td>\n",
       "      <td>ежедневно, 10:00–22:00</td>\n",
       "      <td>4.5</td>\n",
       "      <td>0</td>\n",
       "      <td>4.0</td>\n",
       "    </tr>\n",
       "    <tr>\n",
       "      <th>2</th>\n",
       "      <td>1070b6b59144425896c65889347fcff6</td>\n",
       "      <td>Хазри</td>\n",
       "      <td>кафе</td>\n",
       "      <td>Москва, Клязьминская улица, 15</td>\n",
       "      <td>Северный административный округ</td>\n",
       "      <td>пн-чт 11:00–02:00; пт,сб 11:00–05:00; вс 11:00...</td>\n",
       "      <td>4.6</td>\n",
       "      <td>0</td>\n",
       "      <td>45.0</td>\n",
       "    </tr>\n",
       "    <tr>\n",
       "      <th>3</th>\n",
       "      <td>03ac7cd772104f65b58b349dc59f03ee</td>\n",
       "      <td>Dormouse Coffee Shop</td>\n",
       "      <td>кофейня</td>\n",
       "      <td>Москва, улица Маршала Федоренко, 12</td>\n",
       "      <td>Северный административный округ</td>\n",
       "      <td>ежедневно, 09:00–22:00</td>\n",
       "      <td>5.0</td>\n",
       "      <td>0</td>\n",
       "      <td>NaN</td>\n",
       "    </tr>\n",
       "    <tr>\n",
       "      <th>4</th>\n",
       "      <td>a163aada139c4c7f87b0b1c0b466a50f</td>\n",
       "      <td>Иль Марко</td>\n",
       "      <td>пиццерия</td>\n",
       "      <td>Москва, Правобережная улица, 1Б</td>\n",
       "      <td>Северный административный округ</td>\n",
       "      <td>ежедневно, 10:00–22:00</td>\n",
       "      <td>5.0</td>\n",
       "      <td>1</td>\n",
       "      <td>148.0</td>\n",
       "    </tr>\n",
       "  </tbody>\n",
       "</table>\n",
       "</div>"
      ],
      "text/plain": [
       "                                 id                  name  category  \\\n",
       "0  0c3e3439a8c64ea5bf6ecd6ca6ae19f0                WoWфли      кафе   \n",
       "1  045780ada3474c57a2112e505d74b633        Четыре комнаты  ресторан   \n",
       "2  1070b6b59144425896c65889347fcff6                 Хазри      кафе   \n",
       "3  03ac7cd772104f65b58b349dc59f03ee  Dormouse Coffee Shop   кофейня   \n",
       "4  a163aada139c4c7f87b0b1c0b466a50f             Иль Марко  пиццерия   \n",
       "\n",
       "                               address                         district  \\\n",
       "0           Москва, улица Дыбенко, 7/1  Северный административный округ   \n",
       "1   Москва, улица Дыбенко, 36, корп. 1  Северный административный округ   \n",
       "2       Москва, Клязьминская улица, 15  Северный административный округ   \n",
       "3  Москва, улица Маршала Федоренко, 12  Северный административный округ   \n",
       "4      Москва, Правобережная улица, 1Б  Северный административный округ   \n",
       "\n",
       "                                               hours  rating  chain  seats  \n",
       "0                             ежедневно, 10:00–22:00     5.0      0    NaN  \n",
       "1                             ежедневно, 10:00–22:00     4.5      0    4.0  \n",
       "2  пн-чт 11:00–02:00; пт,сб 11:00–05:00; вс 11:00...     4.6      0   45.0  \n",
       "3                             ежедневно, 09:00–22:00     5.0      0    NaN  \n",
       "4                             ежедневно, 10:00–22:00     5.0      1  148.0  "
      ]
     },
     "execution_count": 130,
     "metadata": {},
     "output_type": "execute_result"
    }
   ],
   "source": [
    "# Выводим первые строки датафрейма на экран\n",
    "rest_info.head()"
   ]
  },
  {
   "cell_type": "code",
   "execution_count": 131,
   "id": "dd415c80",
   "metadata": {
    "id": "dd415c80"
   },
   "outputs": [
    {
     "name": "stdout",
     "output_type": "stream",
     "text": [
      "<class 'pandas.core.frame.DataFrame'>\n",
      "RangeIndex: 8406 entries, 0 to 8405\n",
      "Data columns (total 9 columns):\n",
      " #   Column    Non-Null Count  Dtype  \n",
      "---  ------    --------------  -----  \n",
      " 0   id        8406 non-null   object \n",
      " 1   name      8406 non-null   object \n",
      " 2   category  8406 non-null   object \n",
      " 3   address   8406 non-null   object \n",
      " 4   district  8406 non-null   object \n",
      " 5   hours     7870 non-null   object \n",
      " 6   rating    8406 non-null   float64\n",
      " 7   chain     8406 non-null   int64  \n",
      " 8   seats     4795 non-null   float64\n",
      "dtypes: float64(2), int64(1), object(6)\n",
      "memory usage: 591.2+ KB\n"
     ]
    }
   ],
   "source": [
    "# Выводим информацию о датафрейме\n",
    "rest_info.info()"
   ]
  },
  {
   "cell_type": "markdown",
   "id": "c3e7e520",
   "metadata": {
    "id": "3158ad37"
   },
   "source": [
    "Датасет `rest_info.csv` содержит 8 столбцов и 8406 строк, в которых представлена информация о заведениях общественного питания Москвы\n",
    "\n",
    "После первичного анализа данных можно сделать следующие выводы:\n",
    "\n",
    "Названия столбцов овормлены в определённом виде, что говорит о том, что с ними нет необходимости работать и изменять каким-либо образом.\n",
    "6 столбцов представлены типом данных object, 1 столбец в виде int64 и 2 столбца - float64. Значения в столбце `chain` представлены целыми числами, что показывает является ли заведение сетевым или нет, и содержит значения 1 или 0.\n",
    "Пропуски содержатся только в столбцах `hours`, `seats`. \n",
    "Судя по первому знакомству с данными, значения в столбцах соответствуют своему описанию.\n",
    "Теперь познакомимся с данными датасета `rest_price.csv`."
   ]
  },
  {
   "cell_type": "code",
   "execution_count": 132,
   "id": "c59e751b",
   "metadata": {},
   "outputs": [
    {
     "data": {
      "text/html": [
       "<div>\n",
       "<style scoped>\n",
       "    .dataframe tbody tr th:only-of-type {\n",
       "        vertical-align: middle;\n",
       "    }\n",
       "\n",
       "    .dataframe tbody tr th {\n",
       "        vertical-align: top;\n",
       "    }\n",
       "\n",
       "    .dataframe thead th {\n",
       "        text-align: right;\n",
       "    }\n",
       "</style>\n",
       "<table border=\"1\" class=\"dataframe\">\n",
       "  <thead>\n",
       "    <tr style=\"text-align: right;\">\n",
       "      <th></th>\n",
       "      <th>id</th>\n",
       "      <th>price</th>\n",
       "      <th>avg_bill</th>\n",
       "      <th>middle_avg_bill</th>\n",
       "      <th>middle_coffee_cup</th>\n",
       "    </tr>\n",
       "  </thead>\n",
       "  <tbody>\n",
       "    <tr>\n",
       "      <th>0</th>\n",
       "      <td>045780ada3474c57a2112e505d74b633</td>\n",
       "      <td>выше среднего</td>\n",
       "      <td>Средний счёт:1500–1600 ₽</td>\n",
       "      <td>1550.0</td>\n",
       "      <td>NaN</td>\n",
       "    </tr>\n",
       "    <tr>\n",
       "      <th>1</th>\n",
       "      <td>1070b6b59144425896c65889347fcff6</td>\n",
       "      <td>средние</td>\n",
       "      <td>Средний счёт:от 1000 ₽</td>\n",
       "      <td>1000.0</td>\n",
       "      <td>NaN</td>\n",
       "    </tr>\n",
       "    <tr>\n",
       "      <th>2</th>\n",
       "      <td>03ac7cd772104f65b58b349dc59f03ee</td>\n",
       "      <td>NaN</td>\n",
       "      <td>Цена чашки капучино:155–185 ₽</td>\n",
       "      <td>NaN</td>\n",
       "      <td>170.0</td>\n",
       "    </tr>\n",
       "    <tr>\n",
       "      <th>3</th>\n",
       "      <td>a163aada139c4c7f87b0b1c0b466a50f</td>\n",
       "      <td>средние</td>\n",
       "      <td>Средний счёт:400–600 ₽</td>\n",
       "      <td>500.0</td>\n",
       "      <td>NaN</td>\n",
       "    </tr>\n",
       "    <tr>\n",
       "      <th>4</th>\n",
       "      <td>8a343546b24e4a499ad96eb7d0797a8a</td>\n",
       "      <td>средние</td>\n",
       "      <td>NaN</td>\n",
       "      <td>NaN</td>\n",
       "      <td>NaN</td>\n",
       "    </tr>\n",
       "  </tbody>\n",
       "</table>\n",
       "</div>"
      ],
      "text/plain": [
       "                                 id          price  \\\n",
       "0  045780ada3474c57a2112e505d74b633  выше среднего   \n",
       "1  1070b6b59144425896c65889347fcff6        средние   \n",
       "2  03ac7cd772104f65b58b349dc59f03ee            NaN   \n",
       "3  a163aada139c4c7f87b0b1c0b466a50f        средние   \n",
       "4  8a343546b24e4a499ad96eb7d0797a8a        средние   \n",
       "\n",
       "                        avg_bill  middle_avg_bill  middle_coffee_cup  \n",
       "0       Средний счёт:1500–1600 ₽           1550.0                NaN  \n",
       "1         Средний счёт:от 1000 ₽           1000.0                NaN  \n",
       "2  Цена чашки капучино:155–185 ₽              NaN              170.0  \n",
       "3         Средний счёт:400–600 ₽            500.0                NaN  \n",
       "4                            NaN              NaN                NaN  "
      ]
     },
     "execution_count": 132,
     "metadata": {},
     "output_type": "execute_result"
    }
   ],
   "source": [
    "# Выводим первые строки датафрейма на экран\n",
    "rest_price.head()"
   ]
  },
  {
   "cell_type": "code",
   "execution_count": 133,
   "id": "d53ebb3e",
   "metadata": {},
   "outputs": [
    {
     "name": "stdout",
     "output_type": "stream",
     "text": [
      "<class 'pandas.core.frame.DataFrame'>\n",
      "RangeIndex: 4058 entries, 0 to 4057\n",
      "Data columns (total 5 columns):\n",
      " #   Column             Non-Null Count  Dtype  \n",
      "---  ------             --------------  -----  \n",
      " 0   id                 4058 non-null   object \n",
      " 1   price              3315 non-null   object \n",
      " 2   avg_bill           3816 non-null   object \n",
      " 3   middle_avg_bill    3149 non-null   float64\n",
      " 4   middle_coffee_cup  535 non-null    float64\n",
      "dtypes: float64(2), object(3)\n",
      "memory usage: 158.6+ KB\n"
     ]
    }
   ],
   "source": [
    "# Выводим информацию о датафрейме\n",
    "rest_price.info()"
   ]
  },
  {
   "cell_type": "markdown",
   "id": "60566504",
   "metadata": {},
   "source": [
    "Датасет `rest_price.csv` содержит 5 столбцов и 4058 строк, в которых представлена информация о ценах в заведениях общественного питания Москвы\n",
    "\n",
    "После первичного анализа данных можно сделать следующие выводы:\n",
    "\n",
    "Названия столбцов оформлены в удобном нам формате, что говорит о том, что с ними нет необходимости работать и изменять каким-либо образом.\n",
    "- 3 столбца представлены типом данных object и 2 столбца - float64.\n",
    "- Пропуски содержатся только в столбцах `price`, `avg_bill`, `middle_avg_bill`, `middle_avg_bill`. Больше всего пропусков в столбце `middle_avg_bill`.\n",
    "- Судя по первому знакомству с данными, значения в столбцах соответствуют своему описанию."
   ]
  },
  {
   "cell_type": "markdown",
   "id": "8a8d1491",
   "metadata": {
    "id": "8a8d1491"
   },
   "source": [
    "### Подготовка единого датафрейма\n",
    "\n",
    "- Объедините данные двух датасетов в один, с которым вы и продолжите работу."
   ]
  },
  {
   "cell_type": "code",
   "execution_count": 174,
   "id": "3408e303",
   "metadata": {
    "id": "3408e303"
   },
   "outputs": [],
   "source": [
    "# Соединяем данные в единый датафрейм df\n",
    "df = rest_info.merge(rest_price, on='id', how='left')"
   ]
  },
  {
   "cell_type": "code",
   "execution_count": 175,
   "id": "5695950b",
   "metadata": {
    "id": "5695950b"
   },
   "outputs": [
    {
     "name": "stdout",
     "output_type": "stream",
     "text": [
      "<class 'pandas.core.frame.DataFrame'>\n",
      "Int64Index: 8406 entries, 0 to 8405\n",
      "Data columns (total 13 columns):\n",
      " #   Column             Non-Null Count  Dtype  \n",
      "---  ------             --------------  -----  \n",
      " 0   id                 8406 non-null   object \n",
      " 1   name               8406 non-null   object \n",
      " 2   category           8406 non-null   object \n",
      " 3   address            8406 non-null   object \n",
      " 4   district           8406 non-null   object \n",
      " 5   hours              7870 non-null   object \n",
      " 6   rating             8406 non-null   float64\n",
      " 7   chain              8406 non-null   int64  \n",
      " 8   seats              4795 non-null   float64\n",
      " 9   price              3315 non-null   object \n",
      " 10  avg_bill           3816 non-null   object \n",
      " 11  middle_avg_bill    3149 non-null   float64\n",
      " 12  middle_coffee_cup  535 non-null    float64\n",
      "dtypes: float64(4), int64(1), object(8)\n",
      "memory usage: 919.4+ KB\n"
     ]
    }
   ],
   "source": [
    "# Выводим информацию о датафрейме\n",
    "df.info()"
   ]
  },
  {
   "cell_type": "code",
   "execution_count": 176,
   "id": "d395ca36",
   "metadata": {},
   "outputs": [
    {
     "data": {
      "text/html": [
       "<div>\n",
       "<style scoped>\n",
       "    .dataframe tbody tr th:only-of-type {\n",
       "        vertical-align: middle;\n",
       "    }\n",
       "\n",
       "    .dataframe tbody tr th {\n",
       "        vertical-align: top;\n",
       "    }\n",
       "\n",
       "    .dataframe thead th {\n",
       "        text-align: right;\n",
       "    }\n",
       "</style>\n",
       "<table border=\"1\" class=\"dataframe\">\n",
       "  <thead>\n",
       "    <tr style=\"text-align: right;\">\n",
       "      <th></th>\n",
       "      <th>id</th>\n",
       "      <th>name</th>\n",
       "      <th>category</th>\n",
       "      <th>address</th>\n",
       "      <th>district</th>\n",
       "      <th>hours</th>\n",
       "      <th>rating</th>\n",
       "      <th>chain</th>\n",
       "      <th>seats</th>\n",
       "      <th>price</th>\n",
       "      <th>avg_bill</th>\n",
       "      <th>middle_avg_bill</th>\n",
       "      <th>middle_coffee_cup</th>\n",
       "    </tr>\n",
       "  </thead>\n",
       "  <tbody>\n",
       "    <tr>\n",
       "      <th>0</th>\n",
       "      <td>0c3e3439a8c64ea5bf6ecd6ca6ae19f0</td>\n",
       "      <td>WoWфли</td>\n",
       "      <td>кафе</td>\n",
       "      <td>Москва, улица Дыбенко, 7/1</td>\n",
       "      <td>Северный административный округ</td>\n",
       "      <td>ежедневно, 10:00–22:00</td>\n",
       "      <td>5.0</td>\n",
       "      <td>0</td>\n",
       "      <td>NaN</td>\n",
       "      <td>NaN</td>\n",
       "      <td>NaN</td>\n",
       "      <td>NaN</td>\n",
       "      <td>NaN</td>\n",
       "    </tr>\n",
       "    <tr>\n",
       "      <th>1</th>\n",
       "      <td>045780ada3474c57a2112e505d74b633</td>\n",
       "      <td>Четыре комнаты</td>\n",
       "      <td>ресторан</td>\n",
       "      <td>Москва, улица Дыбенко, 36, корп. 1</td>\n",
       "      <td>Северный административный округ</td>\n",
       "      <td>ежедневно, 10:00–22:00</td>\n",
       "      <td>4.5</td>\n",
       "      <td>0</td>\n",
       "      <td>4.0</td>\n",
       "      <td>выше среднего</td>\n",
       "      <td>Средний счёт:1500–1600 ₽</td>\n",
       "      <td>1550.0</td>\n",
       "      <td>NaN</td>\n",
       "    </tr>\n",
       "    <tr>\n",
       "      <th>2</th>\n",
       "      <td>1070b6b59144425896c65889347fcff6</td>\n",
       "      <td>Хазри</td>\n",
       "      <td>кафе</td>\n",
       "      <td>Москва, Клязьминская улица, 15</td>\n",
       "      <td>Северный административный округ</td>\n",
       "      <td>пн-чт 11:00–02:00; пт,сб 11:00–05:00; вс 11:00...</td>\n",
       "      <td>4.6</td>\n",
       "      <td>0</td>\n",
       "      <td>45.0</td>\n",
       "      <td>средние</td>\n",
       "      <td>Средний счёт:от 1000 ₽</td>\n",
       "      <td>1000.0</td>\n",
       "      <td>NaN</td>\n",
       "    </tr>\n",
       "    <tr>\n",
       "      <th>3</th>\n",
       "      <td>03ac7cd772104f65b58b349dc59f03ee</td>\n",
       "      <td>Dormouse Coffee Shop</td>\n",
       "      <td>кофейня</td>\n",
       "      <td>Москва, улица Маршала Федоренко, 12</td>\n",
       "      <td>Северный административный округ</td>\n",
       "      <td>ежедневно, 09:00–22:00</td>\n",
       "      <td>5.0</td>\n",
       "      <td>0</td>\n",
       "      <td>NaN</td>\n",
       "      <td>NaN</td>\n",
       "      <td>Цена чашки капучино:155–185 ₽</td>\n",
       "      <td>NaN</td>\n",
       "      <td>170.0</td>\n",
       "    </tr>\n",
       "    <tr>\n",
       "      <th>4</th>\n",
       "      <td>a163aada139c4c7f87b0b1c0b466a50f</td>\n",
       "      <td>Иль Марко</td>\n",
       "      <td>пиццерия</td>\n",
       "      <td>Москва, Правобережная улица, 1Б</td>\n",
       "      <td>Северный административный округ</td>\n",
       "      <td>ежедневно, 10:00–22:00</td>\n",
       "      <td>5.0</td>\n",
       "      <td>1</td>\n",
       "      <td>148.0</td>\n",
       "      <td>средние</td>\n",
       "      <td>Средний счёт:400–600 ₽</td>\n",
       "      <td>500.0</td>\n",
       "      <td>NaN</td>\n",
       "    </tr>\n",
       "  </tbody>\n",
       "</table>\n",
       "</div>"
      ],
      "text/plain": [
       "                                 id                  name  category  \\\n",
       "0  0c3e3439a8c64ea5bf6ecd6ca6ae19f0                WoWфли      кафе   \n",
       "1  045780ada3474c57a2112e505d74b633        Четыре комнаты  ресторан   \n",
       "2  1070b6b59144425896c65889347fcff6                 Хазри      кафе   \n",
       "3  03ac7cd772104f65b58b349dc59f03ee  Dormouse Coffee Shop   кофейня   \n",
       "4  a163aada139c4c7f87b0b1c0b466a50f             Иль Марко  пиццерия   \n",
       "\n",
       "                               address                         district  \\\n",
       "0           Москва, улица Дыбенко, 7/1  Северный административный округ   \n",
       "1   Москва, улица Дыбенко, 36, корп. 1  Северный административный округ   \n",
       "2       Москва, Клязьминская улица, 15  Северный административный округ   \n",
       "3  Москва, улица Маршала Федоренко, 12  Северный административный округ   \n",
       "4      Москва, Правобережная улица, 1Б  Северный административный округ   \n",
       "\n",
       "                                               hours  rating  chain  seats  \\\n",
       "0                             ежедневно, 10:00–22:00     5.0      0    NaN   \n",
       "1                             ежедневно, 10:00–22:00     4.5      0    4.0   \n",
       "2  пн-чт 11:00–02:00; пт,сб 11:00–05:00; вс 11:00...     4.6      0   45.0   \n",
       "3                             ежедневно, 09:00–22:00     5.0      0    NaN   \n",
       "4                             ежедневно, 10:00–22:00     5.0      1  148.0   \n",
       "\n",
       "           price                       avg_bill  middle_avg_bill  \\\n",
       "0            NaN                            NaN              NaN   \n",
       "1  выше среднего       Средний счёт:1500–1600 ₽           1550.0   \n",
       "2        средние         Средний счёт:от 1000 ₽           1000.0   \n",
       "3            NaN  Цена чашки капучино:155–185 ₽              NaN   \n",
       "4        средние         Средний счёт:400–600 ₽            500.0   \n",
       "\n",
       "   middle_coffee_cup  \n",
       "0                NaN  \n",
       "1                NaN  \n",
       "2                NaN  \n",
       "3              170.0  \n",
       "4                NaN  "
      ]
     },
     "execution_count": 176,
     "metadata": {},
     "output_type": "execute_result"
    }
   ],
   "source": [
    "df.head()"
   ]
  },
  {
   "cell_type": "markdown",
   "id": "cb97c820",
   "metadata": {
    "id": "6577c71c"
   },
   "source": [
    "Данные соединены, и информация обо всех заведениях сохранилась."
   ]
  },
  {
   "cell_type": "markdown",
   "id": "956e82e2",
   "metadata": {
    "id": "956e82e2"
   },
   "source": [
    "## 2. Предобработка данных\n",
    "\n",
    "Подготовьте данные к исследовательскому анализу:\n",
    "\n",
    "- Изучите корректность типов данных и при необходимости проведите их преобразование."
   ]
  },
  {
   "cell_type": "markdown",
   "id": "b93672cd",
   "metadata": {
    "id": "67956690"
   },
   "source": [
    "По моему мнению типы данных представлены корректны и нет необходимости их корректировать"
   ]
  },
  {
   "cell_type": "markdown",
   "id": "4b7ee469",
   "metadata": {
    "id": "4b7ee469"
   },
   "source": [
    "- Изучите пропущенные значения в данных: посчитайте их количество в каждом столбце датафрейме, изучите данные с пропущенными значениями и предположите гипотезы их появления. Проведите обработку пропущенных значений: вы можете заменить пропуски на определённое значение, удалить строки с пропусками или оставить их как есть."
   ]
  },
  {
   "cell_type": "code",
   "execution_count": 177,
   "id": "3d8840ca",
   "metadata": {
    "id": "3d8840ca"
   },
   "outputs": [
    {
     "data": {
      "text/plain": [
       "id                      0\n",
       "name                    0\n",
       "category                0\n",
       "address                 0\n",
       "district                0\n",
       "hours                 536\n",
       "rating                  0\n",
       "chain                   0\n",
       "seats                3611\n",
       "price                5091\n",
       "avg_bill             4590\n",
       "middle_avg_bill      5257\n",
       "middle_coffee_cup    7871\n",
       "dtype: int64"
      ]
     },
     "execution_count": 177,
     "metadata": {},
     "output_type": "execute_result"
    }
   ],
   "source": [
    "# Применяем метод isna() к датафрейму df\n",
    "df.isna().sum()"
   ]
  },
  {
   "cell_type": "code",
   "execution_count": 216,
   "id": "639d9f3e",
   "metadata": {},
   "outputs": [
    {
     "data": {
      "text/plain": [
       "middle_coffee_cup    7871\n",
       "middle_avg_bill      5257\n",
       "price                5091\n",
       "avg_bill             4590\n",
       "seats                3611\n",
       "hours                 536\n",
       "id                      0\n",
       "name                    0\n",
       "category                0\n",
       "address                 0\n",
       "district                0\n",
       "rating                  0\n",
       "chain                   0\n",
       "is_24_7                 0\n",
       "dtype: int64"
      ]
     },
     "execution_count": 216,
     "metadata": {},
     "output_type": "execute_result"
    }
   ],
   "source": [
    "#Данные отсортированы\n",
    "df.isna().sum().sort_values(ascending=False)"
   ]
  },
  {
   "cell_type": "code",
   "execution_count": 178,
   "id": "2ea145ca",
   "metadata": {
    "id": "2ea145ca"
   },
   "outputs": [
    {
     "data": {
      "text/plain": [
       "id                   0.000000\n",
       "name                 0.000000\n",
       "category             0.000000\n",
       "address              0.000000\n",
       "district             0.000000\n",
       "hours                0.063764\n",
       "rating               0.000000\n",
       "chain                0.000000\n",
       "seats                0.429574\n",
       "price                0.605639\n",
       "avg_bill             0.546039\n",
       "middle_avg_bill      0.625387\n",
       "middle_coffee_cup    0.936355\n",
       "dtype: float64"
      ]
     },
     "execution_count": 178,
     "metadata": {},
     "output_type": "execute_result"
    }
   ],
   "source": [
    "# Подсчитываем долю строк с пропусками\n",
    "df.isna().sum() / df.shape[0]"
   ]
  },
  {
   "cell_type": "markdown",
   "id": "e85bcf5e",
   "metadata": {
    "id": "d9e7c358"
   },
   "source": [
    "В датафрейме в 6 столбцах встречаются пропуски, моё решение не заполнять и не менять эти данные никакими вводынми, чтобы не искажать общую картину и не повлиять на точность статистических анализов"
   ]
  },
  {
   "cell_type": "markdown",
   "id": "c4d5f04d",
   "metadata": {
    "id": "c4d5f04d"
   },
   "source": [
    "- Проверьте данные на явные и неявные дубликаты, например поля с названием и адресом заведения. Для оптимизации проверки нормализуйте данные в текстовых столбцах, например с названием заведения."
   ]
  },
  {
   "cell_type": "code",
   "execution_count": 179,
   "id": "0769b681",
   "metadata": {
    "id": "0769b681"
   },
   "outputs": [
    {
     "data": {
      "text/plain": [
       "0"
      ]
     },
     "execution_count": 179,
     "metadata": {},
     "output_type": "execute_result"
    }
   ],
   "source": [
    "# Проверяем полные дубликаты в датафрейме bank_df\n",
    "df.duplicated().sum()"
   ]
  },
  {
   "cell_type": "markdown",
   "id": "3bff5312",
   "metadata": {
    "id": "95b15cd0"
   },
   "source": [
    "В датафрейме нет полных дубликатов строк. Проверим неявные дубликаты — значения по id заведений должны быть уникальными, то есть каждая строка в данных — уникальное заведение:"
   ]
  },
  {
   "cell_type": "code",
   "execution_count": 180,
   "id": "b52bae9a",
   "metadata": {
    "id": "b52bae9a"
   },
   "outputs": [
    {
     "data": {
      "text/plain": [
       "0"
      ]
     },
     "execution_count": 180,
     "metadata": {},
     "output_type": "execute_result"
    }
   ],
   "source": [
    "# Проверяем неявные дубликаты в датафрейме bank_df\n",
    "df.duplicated(subset='id').sum()"
   ]
  },
  {
   "cell_type": "code",
   "execution_count": 221,
   "id": "f6d5cacf",
   "metadata": {},
   "outputs": [
    {
     "data": {
      "text/plain": [
       "2792"
      ]
     },
     "execution_count": 221,
     "metadata": {},
     "output_type": "execute_result"
    }
   ],
   "source": [
    "# Проверяем неявные дубликаты в датафрейме bank_df\n",
    "df.duplicated(subset='name').sum()"
   ]
  },
  {
   "cell_type": "code",
   "execution_count": 228,
   "id": "08fd4cac",
   "metadata": {},
   "outputs": [
    {
     "data": {
      "text/plain": [
       "2653"
      ]
     },
     "execution_count": 228,
     "metadata": {},
     "output_type": "execute_result"
    }
   ],
   "source": [
    "# Проверяем неявные дубликаты в датафрейме bank_df\n",
    "df.duplicated(subset='address').sum()"
   ]
  },
  {
   "cell_type": "code",
   "execution_count": 230,
   "id": "cd808b54",
   "metadata": {},
   "outputs": [
    {
     "data": {
      "text/plain": [
       "0"
      ]
     },
     "execution_count": 230,
     "metadata": {},
     "output_type": "execute_result"
    }
   ],
   "source": [
    "#Проверяем дубли в связке name и address\n",
    "duplicates_count = df.duplicated(subset=['name', 'address'], keep=False).sum()\n",
    "duplicates_count"
   ]
  },
  {
   "cell_type": "markdown",
   "id": "c5494057",
   "metadata": {},
   "source": [
    "Здесь тоже всё хорошо полных дубликатов нет, неявные оставим как есть, так как нет возможности понять, насколько они действительно неверные"
   ]
  },
  {
   "cell_type": "markdown",
   "id": "4c0563f2",
   "metadata": {
    "id": "4c0563f2"
   },
   "source": [
    "- Для дальнейшей работы создайте столбец `is_24_7` с обозначением того, что заведение работает ежедневно и круглосуточно, то есть 24/7:\n",
    "  - логическое значение `True` — если заведение работает ежедневно и круглосуточно;\n",
    "  - логическое значение `False` — в противоположном случае."
   ]
  },
  {
   "cell_type": "code",
   "execution_count": 181,
   "id": "d8a8a963",
   "metadata": {
    "id": "d8a8a963"
   },
   "outputs": [],
   "source": [
    "def open_hours(x):\n",
    "    if isinstance(x, str) and ('ежедневно' in x or 'круглосуточно' in x):\n",
    "        return True\n",
    "    return False\n",
    "\n",
    "df['is_24_7'] = df['hours'].apply(open_hours)"
   ]
  },
  {
   "cell_type": "code",
   "execution_count": 182,
   "id": "42d1e685",
   "metadata": {
    "id": "42d1e685",
    "scrolled": true
   },
   "outputs": [
    {
     "data": {
      "text/html": [
       "<div>\n",
       "<style scoped>\n",
       "    .dataframe tbody tr th:only-of-type {\n",
       "        vertical-align: middle;\n",
       "    }\n",
       "\n",
       "    .dataframe tbody tr th {\n",
       "        vertical-align: top;\n",
       "    }\n",
       "\n",
       "    .dataframe thead th {\n",
       "        text-align: right;\n",
       "    }\n",
       "</style>\n",
       "<table border=\"1\" class=\"dataframe\">\n",
       "  <thead>\n",
       "    <tr style=\"text-align: right;\">\n",
       "      <th></th>\n",
       "      <th>id</th>\n",
       "      <th>name</th>\n",
       "      <th>category</th>\n",
       "      <th>address</th>\n",
       "      <th>district</th>\n",
       "      <th>hours</th>\n",
       "      <th>rating</th>\n",
       "      <th>chain</th>\n",
       "      <th>seats</th>\n",
       "      <th>price</th>\n",
       "      <th>avg_bill</th>\n",
       "      <th>middle_avg_bill</th>\n",
       "      <th>middle_coffee_cup</th>\n",
       "      <th>is_24_7</th>\n",
       "    </tr>\n",
       "  </thead>\n",
       "  <tbody>\n",
       "    <tr>\n",
       "      <th>0</th>\n",
       "      <td>0c3e3439a8c64ea5bf6ecd6ca6ae19f0</td>\n",
       "      <td>WoWфли</td>\n",
       "      <td>кафе</td>\n",
       "      <td>Москва, улица Дыбенко, 7/1</td>\n",
       "      <td>Северный административный округ</td>\n",
       "      <td>ежедневно, 10:00–22:00</td>\n",
       "      <td>5.0</td>\n",
       "      <td>0</td>\n",
       "      <td>NaN</td>\n",
       "      <td>NaN</td>\n",
       "      <td>NaN</td>\n",
       "      <td>NaN</td>\n",
       "      <td>NaN</td>\n",
       "      <td>True</td>\n",
       "    </tr>\n",
       "    <tr>\n",
       "      <th>1</th>\n",
       "      <td>045780ada3474c57a2112e505d74b633</td>\n",
       "      <td>Четыре комнаты</td>\n",
       "      <td>ресторан</td>\n",
       "      <td>Москва, улица Дыбенко, 36, корп. 1</td>\n",
       "      <td>Северный административный округ</td>\n",
       "      <td>ежедневно, 10:00–22:00</td>\n",
       "      <td>4.5</td>\n",
       "      <td>0</td>\n",
       "      <td>4.0</td>\n",
       "      <td>выше среднего</td>\n",
       "      <td>Средний счёт:1500–1600 ₽</td>\n",
       "      <td>1550.0</td>\n",
       "      <td>NaN</td>\n",
       "      <td>True</td>\n",
       "    </tr>\n",
       "    <tr>\n",
       "      <th>2</th>\n",
       "      <td>1070b6b59144425896c65889347fcff6</td>\n",
       "      <td>Хазри</td>\n",
       "      <td>кафе</td>\n",
       "      <td>Москва, Клязьминская улица, 15</td>\n",
       "      <td>Северный административный округ</td>\n",
       "      <td>пн-чт 11:00–02:00; пт,сб 11:00–05:00; вс 11:00...</td>\n",
       "      <td>4.6</td>\n",
       "      <td>0</td>\n",
       "      <td>45.0</td>\n",
       "      <td>средние</td>\n",
       "      <td>Средний счёт:от 1000 ₽</td>\n",
       "      <td>1000.0</td>\n",
       "      <td>NaN</td>\n",
       "      <td>False</td>\n",
       "    </tr>\n",
       "    <tr>\n",
       "      <th>3</th>\n",
       "      <td>03ac7cd772104f65b58b349dc59f03ee</td>\n",
       "      <td>Dormouse Coffee Shop</td>\n",
       "      <td>кофейня</td>\n",
       "      <td>Москва, улица Маршала Федоренко, 12</td>\n",
       "      <td>Северный административный округ</td>\n",
       "      <td>ежедневно, 09:00–22:00</td>\n",
       "      <td>5.0</td>\n",
       "      <td>0</td>\n",
       "      <td>NaN</td>\n",
       "      <td>NaN</td>\n",
       "      <td>Цена чашки капучино:155–185 ₽</td>\n",
       "      <td>NaN</td>\n",
       "      <td>170.0</td>\n",
       "      <td>True</td>\n",
       "    </tr>\n",
       "    <tr>\n",
       "      <th>4</th>\n",
       "      <td>a163aada139c4c7f87b0b1c0b466a50f</td>\n",
       "      <td>Иль Марко</td>\n",
       "      <td>пиццерия</td>\n",
       "      <td>Москва, Правобережная улица, 1Б</td>\n",
       "      <td>Северный административный округ</td>\n",
       "      <td>ежедневно, 10:00–22:00</td>\n",
       "      <td>5.0</td>\n",
       "      <td>1</td>\n",
       "      <td>148.0</td>\n",
       "      <td>средние</td>\n",
       "      <td>Средний счёт:400–600 ₽</td>\n",
       "      <td>500.0</td>\n",
       "      <td>NaN</td>\n",
       "      <td>True</td>\n",
       "    </tr>\n",
       "  </tbody>\n",
       "</table>\n",
       "</div>"
      ],
      "text/plain": [
       "                                 id                  name  category  \\\n",
       "0  0c3e3439a8c64ea5bf6ecd6ca6ae19f0                WoWфли      кафе   \n",
       "1  045780ada3474c57a2112e505d74b633        Четыре комнаты  ресторан   \n",
       "2  1070b6b59144425896c65889347fcff6                 Хазри      кафе   \n",
       "3  03ac7cd772104f65b58b349dc59f03ee  Dormouse Coffee Shop   кофейня   \n",
       "4  a163aada139c4c7f87b0b1c0b466a50f             Иль Марко  пиццерия   \n",
       "\n",
       "                               address                         district  \\\n",
       "0           Москва, улица Дыбенко, 7/1  Северный административный округ   \n",
       "1   Москва, улица Дыбенко, 36, корп. 1  Северный административный округ   \n",
       "2       Москва, Клязьминская улица, 15  Северный административный округ   \n",
       "3  Москва, улица Маршала Федоренко, 12  Северный административный округ   \n",
       "4      Москва, Правобережная улица, 1Б  Северный административный округ   \n",
       "\n",
       "                                               hours  rating  chain  seats  \\\n",
       "0                             ежедневно, 10:00–22:00     5.0      0    NaN   \n",
       "1                             ежедневно, 10:00–22:00     4.5      0    4.0   \n",
       "2  пн-чт 11:00–02:00; пт,сб 11:00–05:00; вс 11:00...     4.6      0   45.0   \n",
       "3                             ежедневно, 09:00–22:00     5.0      0    NaN   \n",
       "4                             ежедневно, 10:00–22:00     5.0      1  148.0   \n",
       "\n",
       "           price                       avg_bill  middle_avg_bill  \\\n",
       "0            NaN                            NaN              NaN   \n",
       "1  выше среднего       Средний счёт:1500–1600 ₽           1550.0   \n",
       "2        средние         Средний счёт:от 1000 ₽           1000.0   \n",
       "3            NaN  Цена чашки капучино:155–185 ₽              NaN   \n",
       "4        средние         Средний счёт:400–600 ₽            500.0   \n",
       "\n",
       "   middle_coffee_cup  is_24_7  \n",
       "0                NaN     True  \n",
       "1                NaN     True  \n",
       "2                NaN    False  \n",
       "3              170.0     True  \n",
       "4                NaN     True  "
      ]
     },
     "execution_count": 182,
     "metadata": {},
     "output_type": "execute_result"
    }
   ],
   "source": [
    "# Проверяем, верно ли отображаются данные в новом столбце с помощью вывода первых строк датафрейма на экран\n",
    "df.head()"
   ]
  },
  {
   "cell_type": "markdown",
   "id": "562f30ab",
   "metadata": {
    "id": "562f30ab"
   },
   "source": [
    "---\n",
    "\n",
    "### Промежуточный вывод\n",
    "\n",
    "После предобработки данных напишите промежуточный вывод о проведённой работе. Отразите количество или долю отфильтрованных данных, если вы что-то удаляли."
   ]
  },
  {
   "cell_type": "markdown",
   "id": "9330dd4e",
   "metadata": {
    "id": "4e587ce1"
   },
   "source": [
    "В результате предобработки данных были выполнены следующие действия:\n",
    "\n",
    "- Изучены пропуски в данных. Пропуски обнаружились в столбцах `price`, `avg_bill`, `middle_avg_bill`.\n",
    "- Данные проверили на явные и неявные дубликаты — в данных их нет."
   ]
  },
  {
   "cell_type": "markdown",
   "id": "6953e84c",
   "metadata": {
    "id": "6953e84c"
   },
   "source": [
    "## 3. Исследовательский анализ данных\n",
    "Проведите исследовательский анализ исходных данных.\n",
    "\n",
    "При исследовании данных используйте визуализации. Проверьте, что для каждого случая подобран оптимальный тип визуализации с корректным оформлением. У графика должен быть заголовок, понятные подписи по осям, при необходимости легенда, а его размер является оптимальным для изучения.\n",
    "\n",
    "После исследования каждого пункта оставляйте небольшой комментарий с выводом или обсуждением результата. В конце шага обобщите результаты, выделив, по вашему мнению, самые важные."
   ]
  },
  {
   "cell_type": "markdown",
   "id": "8555d840",
   "metadata": {
    "id": "8555d840"
   },
   "source": [
    "---\n",
    "\n",
    "### Задача 1\n",
    "\n",
    "Какие категории заведений представлены в данных? Исследуйте количество объектов общественного питания по каждой категории. Результат сопроводите подходящей визуализацией."
   ]
  },
  {
   "cell_type": "code",
   "execution_count": 183,
   "id": "ef2bffe9",
   "metadata": {
    "id": "ef2bffe9"
   },
   "outputs": [
    {
     "name": "stdout",
     "output_type": "stream",
     "text": [
      "Распределение данных по значениям столбца category:\n"
     ]
    },
    {
     "data": {
      "text/plain": [
       "кафе               2378\n",
       "ресторан           2043\n",
       "кофейня            1413\n",
       "бар,паб             765\n",
       "пиццерия            633\n",
       "быстрое питание     603\n",
       "столовая            315\n",
       "булочная            256\n",
       "Name: category, dtype: int64"
      ]
     },
     "execution_count": 183,
     "metadata": {},
     "output_type": "execute_result"
    }
   ],
   "source": [
    "# Проверяем распределение данных по значениям столбца category\n",
    "print('Распределение данных по значениям столбца category:')\n",
    "df['category'].value_counts()"
   ]
  },
  {
   "cell_type": "code",
   "execution_count": 231,
   "id": "69af5d89",
   "metadata": {},
   "outputs": [
    {
     "name": "stdout",
     "output_type": "stream",
     "text": [
      "Распределение данных по значениям столбца category:\n"
     ]
    },
    {
     "data": {
      "text/plain": [
       "кафе               0.282893\n",
       "ресторан           0.243041\n",
       "кофейня            0.168094\n",
       "бар,паб            0.091006\n",
       "пиццерия           0.075303\n",
       "быстрое питание    0.071734\n",
       "столовая           0.037473\n",
       "булочная           0.030454\n",
       "Name: category, dtype: float64"
      ]
     },
     "execution_count": 231,
     "metadata": {},
     "output_type": "execute_result"
    }
   ],
   "source": [
    "# Проверяем долевое распределение данных по значениям столбца category\n",
    "print('Распределение данных по значениям столбца category:')\n",
    "df['category'].value_counts(normalize=True)"
   ]
  },
  {
   "cell_type": "markdown",
   "id": "c7a895b3",
   "metadata": {
    "id": "71ab5e91"
   },
   "source": [
    "Результаты показывают, что всего в этом столбце 8 уникальных значений, ресторан - это самая популярная категория, булочная - с минимальным количеством заведений"
   ]
  },
  {
   "cell_type": "code",
   "execution_count": 184,
   "id": "63360b97",
   "metadata": {
    "id": "63360b97"
   },
   "outputs": [
    {
     "data": {
      "image/png": "[encoded data removed]",
      "text/plain": [
       "<Figure size 1152x720 with 1 Axes>"
      ]
     },
     "metadata": {
      "needs_background": "light"
     },
     "output_type": "display_data"
    }
   ],
   "source": [
    "# Создаём контейнер графика matplotlib и задаём его размер\n",
    "plt.figure(figsize=(16, 10))\n",
    "\n",
    "# Строим столбчатую диаграмму с помощью pandas через plot(kind='bar')\n",
    "df['category'].value_counts().plot(\n",
    "               kind='bar', # Тип графика - столбчатая диаграмма\n",
    "               rot=0, # Градус вращения подписи по оси Х\n",
    "               legend=False, # Выключаем легенду\n",
    "               title=f'Распределение заведений в зависимости от категории'\n",
    ")\n",
    "\n",
    "# Настраиваем оформление графика\n",
    "plt.xlabel('Количество категорий')\n",
    "plt.ylabel('Количество заведений')\n",
    "# Добавляем сетку графика\n",
    "plt.grid()\n",
    "\n",
    "# Выводим график\n",
    "plt.show()"
   ]
  },
  {
   "cell_type": "markdown",
   "id": "96da9945",
   "metadata": {},
   "source": [
    "Теперь мы визуально представили распределение заведений по категориям и это хорошо видно на графике"
   ]
  },
  {
   "cell_type": "markdown",
   "id": "6821e1d0",
   "metadata": {
    "id": "6821e1d0"
   },
   "source": [
    "---\n",
    "\n",
    "### Задача 2\n",
    "\n",
    "Какие административные районы Москвы присутствуют в данных? Исследуйте распределение количества заведений по административным районам Москвы, а также отдельно распределение заведений каждой категории в Центральном административном округе Москвы. Результат сопроводите подходящими визуализациями."
   ]
  },
  {
   "cell_type": "code",
   "execution_count": 185,
   "id": "0a290cd1",
   "metadata": {
    "id": "0a290cd1"
   },
   "outputs": [
    {
     "name": "stdout",
     "output_type": "stream",
     "text": [
      "Распределение данных по значениям столбца district:\n"
     ]
    },
    {
     "data": {
      "text/plain": [
       "Центральный административный округ         2242\n",
       "Северный административный округ             900\n",
       "Южный административный округ                892\n",
       "Северо-Восточный административный округ     891\n",
       "Западный административный округ             851\n",
       "Восточный административный округ            798\n",
       "Юго-Восточный административный округ        714\n",
       "Юго-Западный административный округ         709\n",
       "Северо-Западный административный округ      409\n",
       "Name: district, dtype: int64"
      ]
     },
     "execution_count": 185,
     "metadata": {},
     "output_type": "execute_result"
    }
   ],
   "source": [
    "# Проверяем распределение данных по значениям столбца district\n",
    "print('Распределение данных по значениям столбца district:')\n",
    "df['district'].value_counts()"
   ]
  },
  {
   "cell_type": "code",
   "execution_count": 232,
   "id": "41f1654a",
   "metadata": {
    "id": "41f1654a"
   },
   "outputs": [
    {
     "data": {
      "image/png": "[encoded data removed]",
      "text/plain": [
       "<Figure size 1152x720 with 1 Axes>"
      ]
     },
     "metadata": {
      "needs_background": "light"
     },
     "output_type": "display_data"
    }
   ],
   "source": [
    "# Создаём контейнер графика matplotlib и задаём его размер\n",
    "plt.figure(figsize=(16, 10))\n",
    "\n",
    "# Строим столбчатую диаграмму с помощью pandas через plot(kind='bar')\n",
    "df['district'].value_counts().plot(\n",
    "               kind='bar', # Тип графика - столбчатая диаграмма\n",
    "               rot=90, # Градус вращения подписи по оси Х\n",
    "               legend=False, # Выключаем легенду\n",
    "               title=f'Распределение заведений в зависимости от административного района'\n",
    ")\n",
    "\n",
    "# Настраиваем оформление графика\n",
    "plt.xlabel('Количество административных районов')\n",
    "plt.ylabel('Количество заведений')\n",
    "# Добавляем сетку графика\n",
    "plt.grid()\n",
    "\n",
    "# Выводим график\n",
    "plt.show()"
   ]
  },
  {
   "cell_type": "markdown",
   "id": "c354e630",
   "metadata": {},
   "source": [
    "Сейчас нам наглядно представлена информация о том, что в Центральном административном округе больше всего заведений, а именно их более, чем в 3 раз больше, чем во всех остальных районах."
   ]
  },
  {
   "cell_type": "code",
   "execution_count": 187,
   "id": "fb5f6675",
   "metadata": {},
   "outputs": [
    {
     "name": "stdout",
     "output_type": "stream",
     "text": [
      "Распределение заведений по категориям в Центральном административном округе:\n"
     ]
    },
    {
     "data": {
      "text/plain": [
       "ресторан           670\n",
       "кафе               464\n",
       "кофейня            428\n",
       "бар,паб            364\n",
       "пиццерия           113\n",
       "быстрое питание     87\n",
       "столовая            66\n",
       "булочная            50\n",
       "Name: category, dtype: int64"
      ]
     },
     "execution_count": 187,
     "metadata": {},
     "output_type": "execute_result"
    }
   ],
   "source": [
    "# Фильтруем данные для Центрального административного округа\n",
    "central_df = df[df['district'] == 'Центральный административный округ']\n",
    "\n",
    "# Проверяем распределение заведений по категориям в Центральном округе\n",
    "print('Распределение заведений по категориям в Центральном административном округе:')\n",
    "central_df['category'].value_counts()"
   ]
  },
  {
   "cell_type": "code",
   "execution_count": 188,
   "id": "9e0e04fe",
   "metadata": {},
   "outputs": [
    {
     "data": {
      "image/png": "[encoded data removed]",
      "text/plain": [
       "<Figure size 1152x720 with 1 Axes>"
      ]
     },
     "metadata": {
      "needs_background": "light"
     },
     "output_type": "display_data"
    }
   ],
   "source": [
    "# Создаём контейнер графика matplotlib и задаём его размер\n",
    "plt.figure(figsize=(16, 10))\n",
    "\n",
    "# Строим столбчатую диаграмму с помощью pandas через plot(kind='bar')\n",
    "central_df['category'].value_counts().plot(\n",
    "               kind='bar', # Тип графика - столбчатая диаграмма\n",
    "               rot=0, # Градус вращения подписи по оси Х\n",
    "               legend=False, # Выключаем легенду\n",
    "               title=f'Распределение заведений в зависимости от административного района'\n",
    ")\n",
    "\n",
    "# Настраиваем оформление графика\n",
    "plt.xlabel('Заведения по категориям в Центральном административном округе')\n",
    "plt.ylabel('Количество')\n",
    "\n",
    "# Добавляем сетку графика\n",
    "plt.grid()\n",
    "\n",
    "# Выводим график\n",
    "plt.show()"
   ]
  },
  {
   "cell_type": "markdown",
   "id": "83cacd25",
   "metadata": {},
   "source": [
    "Исходя из графика выше, можно сделать вывод, что ресторанов в ЦАО в 2 раза больше, чем баров, кофеен и кафе"
   ]
  },
  {
   "cell_type": "markdown",
   "id": "7c824f58",
   "metadata": {
    "id": "7c824f58"
   },
   "source": [
    "---\n",
    "\n",
    "### Задача 3\n",
    "\n",
    "Изучите соотношение сетевых и несетевых заведений в целом по всем данным и в разрезе категорий заведения. Каких заведений больше — сетевых или несетевых? Какие категории заведений чаще являются сетевыми? Исследуйте данные, ответьте на вопросы и постройте необходимые визуализации."
   ]
  },
  {
   "cell_type": "markdown",
   "id": "0893cff4",
   "metadata": {},
   "source": [
    "Анализ общего соотношения сетевых и несетевых заведений:"
   ]
  },
  {
   "cell_type": "code",
   "execution_count": 189,
   "id": "ef442d1a",
   "metadata": {
    "id": "ef442d1a"
   },
   "outputs": [
    {
     "name": "stdout",
     "output_type": "stream",
     "text": [
      "Общее соотношение сетевых и несетевых заведений:\n"
     ]
    },
    {
     "data": {
      "text/plain": [
       "0    5201\n",
       "1    3205\n",
       "Name: chain, dtype: int64"
      ]
     },
     "execution_count": 189,
     "metadata": {},
     "output_type": "execute_result"
    }
   ],
   "source": [
    "print('Общее соотношение сетевых и несетевых заведений:')\n",
    "df['chain'].value_counts()"
   ]
  },
  {
   "cell_type": "code",
   "execution_count": 190,
   "id": "284699fb",
   "metadata": {},
   "outputs": [
    {
     "name": "stdout",
     "output_type": "stream",
     "text": [
      "Распределение данных по значениям столбца chain:\n",
      "0    0.618725\n",
      "1    0.381275\n",
      "Name: chain, dtype: float64\n",
      "\n"
     ]
    }
   ],
   "source": [
    "# Проверяем распределение данных по значениям в столбце chain\n",
    "for column in ['chain']:\n",
    "    print(f'Распределение данных по значениям столбца chain:')\n",
    "    print(df[column].value_counts(normalize=True))\n",
    "    print()"
   ]
  },
  {
   "cell_type": "code",
   "execution_count": 235,
   "id": "55fe5ab5",
   "metadata": {},
   "outputs": [
    {
     "data": {
      "image/png": "[encoded data removed]",
      "text/plain": [
       "<Figure size 1152x720 with 1 Axes>"
      ]
     },
     "metadata": {},
     "output_type": "display_data"
    }
   ],
   "source": [
    "plt.figure(figsize=(16, 10))\n",
    "\n",
    "df['chain'].value_counts(normalize=True).plot(\n",
    "    kind='pie',\n",
    "    legend=False,\n",
    "    title='Соотношение сетевых и несетевых заведений'\n",
    ")\n",
    "\n",
    "plt.xlabel('Тип заведения (0 - Несетевое, 1 - Сетевое)')  # Убираем метку по оси X, так как для круговой диаграммы она не нужна\n",
    "plt.ylabel('')  # Убираем метку по оси Y\n",
    "\n",
    "# Выводим график\n",
    "plt.show()"
   ]
  },
  {
   "cell_type": "markdown",
   "id": "332c57a4",
   "metadata": {},
   "source": [
    "Из полученных данных видно, что несетевых заведений (5201) больше, чем сетевых (3205). Это означает, что большинство заведений в рассматриваемой выборке являются несетевыми"
   ]
  },
  {
   "cell_type": "code",
   "execution_count": 192,
   "id": "a139bd72",
   "metadata": {
    "id": "a139bd72"
   },
   "outputs": [
    {
     "name": "stdout",
     "output_type": "stream",
     "text": [
      "Соотношение сетевых и несетевых заведений по категориям:\n"
     ]
    },
    {
     "data": {
      "text/plain": [
       "category         chain\n",
       "бар,паб          0         596\n",
       "                 1         169\n",
       "булочная         1         157\n",
       "                 0          99\n",
       "быстрое питание  0         371\n",
       "                 1         232\n",
       "кафе             0        1599\n",
       "                 1         779\n",
       "кофейня          1         720\n",
       "                 0         693\n",
       "пиццерия         1         330\n",
       "                 0         303\n",
       "ресторан         0        1313\n",
       "                 1         730\n",
       "столовая         0         227\n",
       "                 1          88\n",
       "Name: chain, dtype: int64"
      ]
     },
     "execution_count": 192,
     "metadata": {},
     "output_type": "execute_result"
    }
   ],
   "source": [
    "print('Соотношение сетевых и несетевых заведений по категориям:')\n",
    "df.groupby('category')['chain'].value_counts()"
   ]
  },
  {
   "cell_type": "code",
   "execution_count": 193,
   "id": "f15f1501",
   "metadata": {},
   "outputs": [
    {
     "name": "stdout",
     "output_type": "stream",
     "text": [
      "распределение доли сетевых и несетевых заведений по категориям:\n"
     ]
    },
    {
     "data": {
      "text/html": [
       "<div>\n",
       "<style scoped>\n",
       "    .dataframe tbody tr th:only-of-type {\n",
       "        vertical-align: middle;\n",
       "    }\n",
       "\n",
       "    .dataframe tbody tr th {\n",
       "        vertical-align: top;\n",
       "    }\n",
       "\n",
       "    .dataframe thead th {\n",
       "        text-align: right;\n",
       "    }\n",
       "</style>\n",
       "<table border=\"1\" class=\"dataframe\">\n",
       "  <thead>\n",
       "    <tr style=\"text-align: right;\">\n",
       "      <th>chain</th>\n",
       "      <th>0</th>\n",
       "      <th>1</th>\n",
       "    </tr>\n",
       "    <tr>\n",
       "      <th>category</th>\n",
       "      <th></th>\n",
       "      <th></th>\n",
       "    </tr>\n",
       "  </thead>\n",
       "  <tbody>\n",
       "    <tr>\n",
       "      <th>бар,паб</th>\n",
       "      <td>0.779085</td>\n",
       "      <td>0.220915</td>\n",
       "    </tr>\n",
       "    <tr>\n",
       "      <th>булочная</th>\n",
       "      <td>0.386719</td>\n",
       "      <td>0.613281</td>\n",
       "    </tr>\n",
       "    <tr>\n",
       "      <th>быстрое питание</th>\n",
       "      <td>0.615257</td>\n",
       "      <td>0.384743</td>\n",
       "    </tr>\n",
       "    <tr>\n",
       "      <th>кафе</th>\n",
       "      <td>0.672414</td>\n",
       "      <td>0.327586</td>\n",
       "    </tr>\n",
       "    <tr>\n",
       "      <th>кофейня</th>\n",
       "      <td>0.490446</td>\n",
       "      <td>0.509554</td>\n",
       "    </tr>\n",
       "    <tr>\n",
       "      <th>пиццерия</th>\n",
       "      <td>0.478673</td>\n",
       "      <td>0.521327</td>\n",
       "    </tr>\n",
       "    <tr>\n",
       "      <th>ресторан</th>\n",
       "      <td>0.642682</td>\n",
       "      <td>0.357318</td>\n",
       "    </tr>\n",
       "    <tr>\n",
       "      <th>столовая</th>\n",
       "      <td>0.720635</td>\n",
       "      <td>0.279365</td>\n",
       "    </tr>\n",
       "  </tbody>\n",
       "</table>\n",
       "</div>"
      ],
      "text/plain": [
       "chain                   0         1\n",
       "category                           \n",
       "бар,паб          0.779085  0.220915\n",
       "булочная         0.386719  0.613281\n",
       "быстрое питание  0.615257  0.384743\n",
       "кафе             0.672414  0.327586\n",
       "кофейня          0.490446  0.509554\n",
       "пиццерия         0.478673  0.521327\n",
       "ресторан         0.642682  0.357318\n",
       "столовая         0.720635  0.279365"
      ]
     },
     "execution_count": 193,
     "metadata": {},
     "output_type": "execute_result"
    }
   ],
   "source": [
    "#Сводная таблица: значения сетевых и несетевых заведений по категориям\n",
    "pivot_chain_category = df.pivot_table(values='id', index='category', columns='chain', aggfunc='count')\n",
    "#Переведём в доли\n",
    "pivot_chain_category_proportions = pivot_chain_category.div(pivot_chain_category.sum(axis=1), axis=0)\n",
    "print('распределение доли сетевых и несетевых заведений по категориям:')\n",
    "pivot_chain_category_proportions"
   ]
  },
  {
   "cell_type": "code",
   "execution_count": 243,
   "id": "284cc67e",
   "metadata": {},
   "outputs": [
    {
     "data": {
      "text/plain": [
       "<Figure size 1152x720 with 0 Axes>"
      ]
     },
     "metadata": {},
     "output_type": "display_data"
    },
    {
     "data": {
      "image/png": "[encoded data removed]",
      "text/plain": [
       "<Figure size 432x288 with 1 Axes>"
      ]
     },
     "metadata": {
      "needs_background": "light"
     },
     "output_type": "display_data"
    }
   ],
   "source": [
    "# Создаём контейнер графика matplotlib и задаём его размер\n",
    "plt.figure(figsize=(16, 10))\n",
    "\n",
    "# Сортируем значения по убыванию перед построением графика\n",
    "sorted_pivot = pivot_chain_category_proportions.sort_values(by=[0,1], ascending=False)\n",
    "\n",
    "# Строим столбчатую диаграмму с помощью pandas через plot(kind='bar')\n",
    "sorted_pivot.plot(\n",
    "    kind='bar',  # Тип графика — столбчатая диаграмма\n",
    "    rot=90,      # Градус вращения подписи по оси Х\n",
    "    legend=False,  # Выключаем легенду\n",
    "    title=f'Соотношение сетевых и несетевых заведений по категориям'\n",
    ")\n",
    "\n",
    "# Настраиваем оформление графика\n",
    "plt.xlabel('Тип заведения по категориям (0 - Несетевое, 1 - Сетевое)')\n",
    "plt.ylabel('Количество')\n",
    "# Добавляем сетку графика\n",
    "plt.grid()\n",
    "\n",
    "# Выводим график\n",
    "plt.show()"
   ]
  },
  {
   "cell_type": "markdown",
   "id": "ca6f2101",
   "metadata": {},
   "source": [
    "Также выведем категорий заведений, которые являются сетевыми"
   ]
  },
  {
   "cell_type": "code",
   "execution_count": 195,
   "id": "3c0a4e70",
   "metadata": {},
   "outputs": [
    {
     "name": "stdout",
     "output_type": "stream",
     "text": [
      "Категории с наибольшим соотношением сетевых заведений:\n",
      "category\n",
      "булочная           0.613281\n",
      "пиццерия           0.521327\n",
      "кофейня            0.509554\n",
      "быстрое питание    0.384743\n",
      "ресторан           0.357318\n",
      "кафе               0.327586\n",
      "столовая           0.279365\n",
      "бар,паб            0.220915\n",
      "Name: chain, dtype: float64\n"
     ]
    }
   ],
   "source": [
    "chain_ratio = df.groupby('category')['chain'].mean()\n",
    "print('Категории с наибольшим соотношением сетевых заведений:')\n",
    "print(chain_ratio.sort_values(ascending=False))"
   ]
  },
  {
   "cell_type": "code",
   "execution_count": 156,
   "id": "83c40c48",
   "metadata": {},
   "outputs": [
    {
     "data": {
      "image/png": "[encoded data removed]",
      "text/plain": [
       "<Figure size 720x432 with 1 Axes>"
      ]
     },
     "metadata": {
      "needs_background": "light"
     },
     "output_type": "display_data"
    }
   ],
   "source": [
    "chain_ratio.sort_values(ascending=False).plot(kind='bar', figsize=(10, 6), rot=30)\n",
    "# Настраиваем оформление графика\n",
    "plt.xlabel('Категория заведения')\n",
    "plt.ylabel('Доля сетевых заведений')\n",
    "plt.title('Доля сетевых заведений по категориям')\n",
    "\n",
    "# Добавляем сетку графика\n",
    "plt.grid()\n",
    "\n",
    "# Выводим график\n",
    "plt.show()"
   ]
  },
  {
   "cell_type": "markdown",
   "id": "649bab81",
   "metadata": {},
   "source": [
    "Можно сделать следующие выводы:\n",
    "\n",
    "- Наибольшая доля сетевых заведений приходится на **пиццерии** (около 0,6), что указывает на высокую популярность этой категории среди сетевых предприятий.\n",
    "- **Кофейни и заведения быстрого питания** также имеют значительную долю (около 0,5 и 0,45 соответственно), что говорит о востребованности этих форматов.\n",
    "- **Булочные, кафе и рестораны** занимают промежуточное положение с долей около 0,35–0,4, что свидетельствует о стабильном, но менее массовом присутствии сетевых заведений в этих категориях.\n",
    "- **Бары/пабы** имеют наименьшую долю сетевых заведений (около 0,25 и 0,15 соответственно), что может быть связано с их спецификой и меньшей привлекательностью для сетевых форматов.\n",
    "\n",
    "Таким образом, сетевые заведения наиболее распространены в категориях, связанных с быстрым и удобным обслуживанием, таких как пиццерии, кофейни и быстрое питание."
   ]
  },
  {
   "cell_type": "markdown",
   "id": "5913c3e3",
   "metadata": {
    "id": "5913c3e3"
   },
   "source": [
    "---\n",
    "\n",
    "### Задача 4\n",
    "\n",
    "Исследуйте количество посадочных мест в заведениях. Встречаются ли в данных аномальные значения или выбросы? Если да, то с чем они могут быть связаны? Приведите для каждой категории заведений наиболее типичное для него количество посадочных мест. Результат сопроводите подходящими визуализациями.\n"
   ]
  },
  {
   "cell_type": "code",
   "execution_count": 196,
   "id": "6cb238d2",
   "metadata": {
    "id": "6cb238d2"
   },
   "outputs": [
    {
     "name": "stdout",
     "output_type": "stream",
     "text": [
      "count    4795.000000\n",
      "mean      108.421689\n",
      "std       122.833396\n",
      "min         0.000000\n",
      "25%        40.000000\n",
      "50%        75.000000\n",
      "75%       140.000000\n",
      "max      1288.000000\n",
      "Name: seats, dtype: float64\n"
     ]
    }
   ],
   "source": [
    "# Описательная статистика\n",
    "print(df['seats'].describe())"
   ]
  },
  {
   "cell_type": "code",
   "execution_count": 197,
   "id": "062b55d8",
   "metadata": {
    "id": "062b55d8"
   },
   "outputs": [
    {
     "data": {
      "image/png": "[encoded data removed]",
      "text/plain": [
       "<Figure size 720x432 with 1 Axes>"
      ]
     },
     "metadata": {
      "needs_background": "light"
     },
     "output_type": "display_data"
    }
   ],
   "source": [
    "# Создаём контейнер графика matplotlib и задаём его размер\n",
    "plt.figure(figsize=(10, 6))\n",
    "\n",
    "# Строим гистограмму с помощью pandas через plot(kind='hist')\n",
    "df['seats'].plot(\n",
    "                kind='hist', # Тип графика - гистограмма\n",
    "                bins=50, # Устанавливаем количество корзин\n",
    "                alpha=0.75,\n",
    "                edgecolor='black',\n",
    "                rot=0, # Градус вращения подписи по оси Х\n",
    ")\n",
    "\n",
    "# Настраиваем оформление графика\n",
    "plt.title('Распределение количества посадочных мест')\n",
    "plt.xlabel('Количество посадочных мест')\n",
    "plt.ylabel('Частота')\n",
    "\n",
    "# Добавляем сетку графика\n",
    "plt.grid()\n",
    "\n",
    "# Выводим график\n",
    "plt.show()"
   ]
  },
  {
   "cell_type": "code",
   "execution_count": 198,
   "id": "ceadf25b",
   "metadata": {
    "id": "ceadf25b"
   },
   "outputs": [
    {
     "data": {
      "image/png": "[encoded data removed]",
      "text/plain": [
       "<Figure size 720x432 with 1 Axes>"
      ]
     },
     "metadata": {
      "needs_background": "light"
     },
     "output_type": "display_data"
    }
   ],
   "source": [
    "# Создаём контейнер графика matplotlib и задаём его размер\n",
    "plt.figure(figsize=(10, 6))\n",
    "\n",
    "# Строим диаграмму размаха значений в столбце score\n",
    "df.boxplot(column='seats', vert=False)\n",
    "\n",
    "# Добавляем заголовок и метки оси\n",
    "plt.title('Распределение количества посадочных мест')\n",
    "plt.xlabel('Количество посадочных мест')\n",
    "\n",
    "# Выводим график\n",
    "plt.show()"
   ]
  },
  {
   "cell_type": "code",
   "execution_count": 199,
   "id": "8e970a00",
   "metadata": {},
   "outputs": [
    {
     "name": "stdout",
     "output_type": "stream",
     "text": [
      "Статистические показатели по категориям:\n",
      "                 count        mean         std  min    25%   50%    75%  \\\n",
      "category                                                                  \n",
      "бар,паб          334.0  119.371257  131.736017  0.0  48.00  85.0  142.5   \n",
      "булочная          34.0  106.882353  107.329220  0.0  36.50  89.0  150.0   \n",
      "быстрое питание  157.0  105.611465   93.371237  0.0  40.00  75.0  155.0   \n",
      "кафе             412.0   91.361650   97.825595  0.0  37.50  60.0  100.0   \n",
      "кофейня          427.0  107.740047  113.569426  0.0  40.00  80.0  140.0   \n",
      "пиццерия         321.0   96.190031  103.199101  0.0  30.00  55.0  120.0   \n",
      "ресторан         744.0  123.112903  120.213855  0.0  50.00  90.0  150.0   \n",
      "столовая          90.0  104.733333  136.906825  0.0  40.25  80.0  120.0   \n",
      "\n",
      "                    max  \n",
      "category                 \n",
      "бар,паб          1288.0  \n",
      "булочная          478.0  \n",
      "быстрое питание   450.0  \n",
      "кафе              625.0  \n",
      "кофейня           650.0  \n",
      "пиццерия          625.0  \n",
      "ресторан         1288.0  \n",
      "столовая         1200.0  \n"
     ]
    }
   ],
   "source": [
    "# Выводим статистические показатели\n",
    "print(\"Статистические показатели по категориям:\")\n",
    "print(category_seats.describe())"
   ]
  },
  {
   "cell_type": "code",
   "execution_count": 200,
   "id": "5310ddcf",
   "metadata": {},
   "outputs": [
    {
     "data": {
      "image/png": "[encoded data removed]",
      "text/plain": [
       "<Figure size 864x576 with 1 Axes>"
      ]
     },
     "metadata": {
      "needs_background": "light"
     },
     "output_type": "display_data"
    }
   ],
   "source": [
    "# Группируем данные по категориям\n",
    "category_seats = df.groupby('category')['seats']\n",
    "\n",
    "# Ящик с усами по категориям\n",
    "plt.figure(figsize=(12, 8))\n",
    "sns.boxplot(x='category', y='seats', data=df)\n",
    "plt.title('Распределение количества посадочных мест по категориям')\n",
    "plt.xlabel('Категория заведения')\n",
    "plt.ylabel('Количество посадочных мест')\n",
    "plt.xticks(rotation=45)\n",
    "\n",
    "# Добавляем сетку графика\n",
    "plt.grid()\n",
    "\n",
    "# Выводим график\n",
    "plt.show()"
   ]
  },
  {
   "cell_type": "code",
   "execution_count": 201,
   "id": "f693996b",
   "metadata": {},
   "outputs": [
    {
     "data": {
      "text/plain": [
       "<Figure size 1008x720 with 0 Axes>"
      ]
     },
     "metadata": {},
     "output_type": "display_data"
    },
    {
     "data": {
      "image/png": "[encoded data removed]",
      "text/plain": [
       "<Figure size 864x864 with 8 Axes>"
      ]
     },
     "metadata": {
      "needs_background": "light"
     },
     "output_type": "display_data"
    }
   ],
   "source": [
    "# Гистограмма по категориям\n",
    "plt.figure(figsize=(14, 10))\n",
    "g = sns.FacetGrid(df, col='category', col_wrap=3, height=4)\n",
    "g.map(sns.histplot, 'seats', bins=20)\n",
    "g.set_axis_labels('Количество посадочных мест', 'Частота')\n",
    "g.fig.suptitle('Распределение количества посадочных мест по категориям', fontsize=16)\n",
    "plt.tight_layout()\n",
    "\n",
    "# Выводим график\n",
    "plt.show()"
   ]
  },
  {
   "cell_type": "markdown",
   "id": "b2581020",
   "metadata": {},
   "source": [
    "Могу отметить, что аномальные выбросы встречаются, это может быть связано с ошибкой ввода или некорректным считыванием данных из внешних источников, также можно допустить тот факт, если брать категорию рестораны, что такое количество посадочных мест возможно"
   ]
  },
  {
   "cell_type": "markdown",
   "id": "8ed065ea",
   "metadata": {
    "id": "8ed065ea"
   },
   "source": [
    "---\n",
    "\n",
    "### Задача 5\n",
    "\n",
    "Исследуйте рейтинг заведений. Визуализируйте распределение средних рейтингов по категориям заведений. Сильно ли различаются усреднённые рейтинги для разных типов общепита?"
   ]
  },
  {
   "cell_type": "code",
   "execution_count": 202,
   "id": "cc5206f8",
   "metadata": {
    "id": "cc5206f8"
   },
   "outputs": [
    {
     "name": "stdout",
     "output_type": "stream",
     "text": [
      "Статистические показатели столбца rating:\n"
     ]
    },
    {
     "data": {
      "text/plain": [
       "count    8406.000000\n",
       "mean        4.229895\n",
       "std         0.470348\n",
       "min         1.000000\n",
       "25%         4.100000\n",
       "50%         4.300000\n",
       "75%         4.400000\n",
       "max         5.000000\n",
       "Name: rating, dtype: float64"
      ]
     },
     "execution_count": 202,
     "metadata": {},
     "output_type": "execute_result"
    }
   ],
   "source": [
    "# Изучаем статистические показатели столбца rating\n",
    "print('Статистические показатели столбца rating:')\n",
    "df['rating'].describe()"
   ]
  },
  {
   "cell_type": "code",
   "execution_count": 203,
   "id": "3e0ec5d7",
   "metadata": {
    "id": "3e0ec5d7"
   },
   "outputs": [
    {
     "data": {
      "text/plain": [
       "category\n",
       "бар,паб            4.387712\n",
       "булочная           4.268359\n",
       "быстрое питание    4.050249\n",
       "кафе               4.123886\n",
       "кофейня            4.277282\n",
       "пиццерия           4.301264\n",
       "ресторан           4.290357\n",
       "столовая           4.211429\n",
       "Name: rating, dtype: float64"
      ]
     },
     "execution_count": 203,
     "metadata": {},
     "output_type": "execute_result"
    }
   ],
   "source": [
    "# Группируем данные по категориям и вычисляем средний рейтинг\n",
    "average_ratings = df.groupby('category')['rating'].mean()\n",
    "average_ratings"
   ]
  },
  {
   "cell_type": "code",
   "execution_count": 204,
   "id": "766c86cb",
   "metadata": {
    "id": "766c86cb"
   },
   "outputs": [
    {
     "data": {
      "image/png": "[encoded data removed]",
      "text/plain": [
       "<Figure size 720x432 with 1 Axes>"
      ]
     },
     "metadata": {
      "needs_background": "light"
     },
     "output_type": "display_data"
    }
   ],
   "source": [
    "# Группируем данные по категориям и вычисляем средний рейтинг\n",
    "average_ratings = df.groupby('category')['rating'].mean().sort_values(ascending=False)\n",
    "\n",
    "# Визуализация средних рейтингов\n",
    "plt.figure(figsize=(10, 6))\n",
    "average_ratings.plot(kind='bar')\n",
    "plt.title('Средние рейтинги заведений по категориям')\n",
    "plt.xlabel('Категория заведения')\n",
    "plt.ylabel('Средний рейтинг')\n",
    "plt.grid(axis='y', alpha=0.5)\n",
    "plt.xticks(rotation=45)  # Поворот меток категорий для лучшего отображения\n",
    "plt.show()"
   ]
  },
  {
   "cell_type": "markdown",
   "id": "26c07c0e",
   "metadata": {},
   "source": [
    "Из представленных данных видно, что усреднённые рейтинги для разных типов заведений общепита варьируются, но разница между ними не очень велика.\n",
    "\n",
    "Рейтинг **пабов/баров** является самым высоким, за ним следуют **пиццерии** и **рестораны** (4.293421). Самые низкие средние рейтинги у **заведений быстрого питания**.\n",
    "\n",
    "Таким образом, можно сделать вывод, что различия в рейтингах есть, но они не являются существенными и колеблются в пределах небольшого диапазона."
   ]
  },
  {
   "cell_type": "markdown",
   "id": "dd9702d9",
   "metadata": {
    "id": "dd9702d9"
   },
   "source": [
    "---\n",
    "\n",
    "### Задача 6\n",
    "\n",
    "Изучите, с какими данными показывают самую сильную корреляцию рейтинги заведений? Постройте и визуализируйте матрицу корреляции рейтинга заведения с разными данными: его категория, положение (административный район Москвы), статус сетевого заведения, количество мест, ценовая категория и признак, является ли заведения круглосуточным. Выберите самую сильную связь и проверьте её."
   ]
  },
  {
   "cell_type": "code",
   "execution_count": 205,
   "id": "15400eb9",
   "metadata": {
    "id": "15400eb9"
   },
   "outputs": [
    {
     "name": "stdout",
     "output_type": "stream",
     "text": [
      "interval columns not set, guessing: ['rating', 'chain', 'seats']\n",
      "Корреляционная матрица с коэффициентом phi_k для переменной rating\n"
     ]
    },
    {
     "data": {
      "text/html": [
       "<div>\n",
       "<style scoped>\n",
       "    .dataframe tbody tr th:only-of-type {\n",
       "        vertical-align: middle;\n",
       "    }\n",
       "\n",
       "    .dataframe tbody tr th {\n",
       "        vertical-align: top;\n",
       "    }\n",
       "\n",
       "    .dataframe thead th {\n",
       "        text-align: right;\n",
       "    }\n",
       "</style>\n",
       "<table border=\"1\" class=\"dataframe\">\n",
       "  <thead>\n",
       "    <tr style=\"text-align: right;\">\n",
       "      <th></th>\n",
       "      <th>rating</th>\n",
       "    </tr>\n",
       "  </thead>\n",
       "  <tbody>\n",
       "    <tr>\n",
       "      <th>price</th>\n",
       "      <td>0.220295</td>\n",
       "    </tr>\n",
       "    <tr>\n",
       "      <th>district</th>\n",
       "      <td>0.200691</td>\n",
       "    </tr>\n",
       "    <tr>\n",
       "      <th>category</th>\n",
       "      <td>0.190003</td>\n",
       "    </tr>\n",
       "    <tr>\n",
       "      <th>chain</th>\n",
       "      <td>0.108092</td>\n",
       "    </tr>\n",
       "    <tr>\n",
       "      <th>is_24_7</th>\n",
       "      <td>0.029290</td>\n",
       "    </tr>\n",
       "    <tr>\n",
       "      <th>seats</th>\n",
       "      <td>0.000000</td>\n",
       "    </tr>\n",
       "  </tbody>\n",
       "</table>\n",
       "</div>"
      ],
      "text/plain": [
       "            rating\n",
       "price     0.220295\n",
       "district  0.200691\n",
       "category  0.190003\n",
       "chain     0.108092\n",
       "is_24_7   0.029290\n",
       "seats     0.000000"
      ]
     },
     "execution_count": 205,
     "metadata": {},
     "output_type": "execute_result"
    }
   ],
   "source": [
    "# Вычисляем корреляционную матрицу с использованием phi_k\n",
    "correlation_matrix = df[['district', 'category', 'rating', 'chain', 'seats', 'price', 'is_24_7']].phik_matrix()\n",
    "\n",
    "# Выводим результат\n",
    "print('Корреляционная матрица с коэффициентом phi_k для переменной rating')\n",
    "correlation_matrix.loc[correlation_matrix.index != 'rating'][['rating']].sort_values(by='rating', ascending=False) "
   ]
  },
  {
   "cell_type": "markdown",
   "id": "36e5c391",
   "metadata": {},
   "source": [
    "Обобщим, что показывают результаты: наибольшая корреляция рейтинга клиентов наблюдается с ценой (0.22), категорией (0.21), расположением в административном районе (0.19), является ли заведение сетевым (0.15) и в меньшей степени от часов работы (0.09). Для количества посадочных мест коэффициент корреляции 0."
   ]
  },
  {
   "cell_type": "code",
   "execution_count": 206,
   "id": "8f0379af",
   "metadata": {
    "id": "8f0379af"
   },
   "outputs": [
    {
     "data": {
      "image/png": "[encoded data removed]",
      "text/plain": [
       "<Figure size 144x432 with 1 Axes>"
      ]
     },
     "metadata": {
      "needs_background": "light"
     },
     "output_type": "display_data"
    }
   ],
   "source": [
    "# Строим тепловую карту\n",
    "plt.figure(figsize=(2, 6))\n",
    "\n",
    "# Сохраняем матрицу корреляции признака churn с другими признаками клиента\n",
    "data_heatmap = correlation_matrix.loc[correlation_matrix.index != 'rating'][['rating']].sort_values(by='rating', ascending=False)\n",
    "sns.heatmap(data_heatmap,\n",
    "            annot=True, # Отображаем численные значения в ячейках карты\n",
    "            fmt='.2f', # Форматируем значения корреляции: два знака после точки\n",
    "            cmap='coolwarm', # Устанавливаем цветовую гамму от красного (макс. значение) к синему\n",
    "            linewidths=0.5, # Форматируем линию между ячейками карты\n",
    "            cbar=False # Отключаем цветовую шкалу\n",
    "           )\n",
    "\n",
    "# Добавляем заголовок и подпись по оси Х\n",
    "plt.title('Тепловая карта коэффициента phi_k \\n для данных rating')\n",
    "plt.xlabel('Рейтинг заведения')\n",
    "\n",
    "# Выводим график\n",
    "plt.show()"
   ]
  },
  {
   "cell_type": "markdown",
   "id": "d81a9c40",
   "metadata": {
    "id": "1a65a84d"
   },
   "source": [
    "Теперь корреляция между рейтингом заведения и другими признаками наглядно отображена"
   ]
  },
  {
   "cell_type": "code",
   "execution_count": 207,
   "id": "78ceaa29",
   "metadata": {},
   "outputs": [
    {
     "data": {
      "image/png": "[encoded data removed]",
      "text/plain": [
       "<Figure size 504x216 with 1 Axes>"
      ]
     },
     "metadata": {
      "needs_background": "light"
     },
     "output_type": "display_data"
    }
   ],
   "source": [
    "# Построим график столбчатой диаграммы\n",
    "grouped = df.groupby('price')['rating'].mean()\n",
    "grouped.plot(kind='bar',\n",
    "               title=f'Средние рейтинги заведений по ценовой категории',\n",
    "               legend=True,\n",
    "               ylabel='Средний рейтинг',\n",
    "               xlabel='Ценовая категория',\n",
    "               rot=0,\n",
    "               figsize=(7, 3))\n",
    "\n",
    "# Рассчитываем среднее значение по доле рейтинга\n",
    "mean_rating_share = df['rating'].mean()\n",
    "\n",
    "# Наносим на график линию с средним значением доли рейтинга\n",
    "plt.axhline(mean_rating_share, # Данные, по которым строится линия\n",
    "            color='red', # Цвет линии\n",
    "            linestyle='--', # Стиль линии\n",
    "            linewidth=1, # Ширина линии\n",
    "            label=f'Доля зависимости рейтинга от цены {round(mean_rating_share,4)}')\n",
    "\n",
    "plt.grid()\n",
    "plt.legend()\n",
    "\n",
    "# Выводим график\n",
    "plt.show()"
   ]
  },
  {
   "cell_type": "code",
   "execution_count": 208,
   "id": "b8647acb",
   "metadata": {},
   "outputs": [
    {
     "data": {
      "image/png": "[encoded data removed]",
      "text/plain": [
       "<Figure size 504x216 with 1 Axes>"
      ]
     },
     "metadata": {
      "needs_background": "light"
     },
     "output_type": "display_data"
    }
   ],
   "source": [
    "# Построим график столбчатой диаграммы\n",
    "grouped = df.groupby('category')['rating'].mean()\n",
    "grouped.plot(kind='bar',\n",
    "               title=f'Средние рейтинги заведений по категории заведения',\n",
    "               legend=True,\n",
    "               ylabel='Средний рейтинг',\n",
    "               xlabel='Категория заведения',\n",
    "               rot=30,\n",
    "               figsize=(7, 3))\n",
    "\n",
    "# Рассчитываем среднее значение по доле нелояльных клиентов\n",
    "mean_rating_share = df['rating'].mean()\n",
    "\n",
    "# Наносим на график линию с средним значением доли нелояльных клиентов\n",
    "plt.axhline(mean_rating_share, # Данные, по которым строится линия\n",
    "            color='red', # Цвет линии\n",
    "            linestyle='--', # Стиль линии\n",
    "            linewidth=1, # Ширина линии\n",
    "            label=f'Доля зависимости рейтинга от категории заведения {round(mean_rating_share,4)}')\n",
    "\n",
    "plt.grid()\n",
    "plt.legend()\n",
    "\n",
    "# Выводим график\n",
    "plt.show()"
   ]
  },
  {
   "cell_type": "markdown",
   "id": "b58adc74",
   "metadata": {},
   "source": [
    "Видно, что нет чёткой зависимости между рейтингом и ценами, также как рейтингом и категорией заведения"
   ]
  },
  {
   "cell_type": "markdown",
   "id": "370de703",
   "metadata": {
    "id": "370de703"
   },
   "source": [
    "---\n",
    "\n",
    "### Задача 7\n",
    "\n",
    "Сгруппируйте данные по названиям заведений и найдите топ-15 популярных сетей в Москве. Для них посчитайте значения среднего рейтинга. Под популярностью понимается количество заведений этой сети в регионе. К какой категории заведений они относятся? Результат сопроводите подходящими визуализациями."
   ]
  },
  {
   "cell_type": "code",
   "execution_count": 244,
   "id": "5d828a9a",
   "metadata": {
    "id": "5d828a9a"
   },
   "outputs": [
    {
     "name": "stdout",
     "output_type": "stream",
     "text": [
      "                                   name  count  average_rating\n",
      "0                           Шоколадница    120        4.177500\n",
      "1                        Домино'с Пицца     76        4.169737\n",
      "2                            Додо Пицца     74        4.286486\n",
      "3                      One Price Coffee     71        4.064789\n",
      "4                          Яндекс Лавка     69        3.872464\n",
      "5                                 Cofix     65        4.075385\n",
      "6                                 Prime     50        4.116000\n",
      "7                            Хинкальная     44        4.322727\n",
      "8                              КОФЕПОРТ     42        4.147619\n",
      "9   Кулинарная лавка братьев Караваевых     39        4.394872\n",
      "10                              Теремок     38        4.123684\n",
      "11                              Чайхана     37        3.924324\n",
      "12                             CofeFest     32        3.984375\n",
      "13                              Буханка     32        4.396875\n",
      "14                                Му-Му     27        4.229630\n"
     ]
    }
   ],
   "source": [
    "# Фильтрация данных только для сетевых заведений\n",
    "filtered_df = df[df['chain'] == 1]\n",
    "\n",
    "# Группировка данных по названию заведения и подсчёт количества упоминаний каждого заведения\n",
    "grouped_df = filtered_df.groupby('name').size().reset_index(name='count')\n",
    "\n",
    "# Сортировка по количеству упоминаний в порядке убывания и выбор топ-15 заведений\n",
    "top_15_chains = grouped_df.sort_values(by='count', ascending=False).head(15)\n",
    "\n",
    "# Сгруппировка данных по названию заведения и расчёт среднего рейтинга\n",
    "average_ratings = filtered_df.groupby('name')['rating'].mean().reset_index(name='average_rating')\n",
    "\n",
    "# Объединение данных о количестве упоминаний и среднем рейтинге для топ-15 заведений\n",
    "top_15_with_ratings = pd.merge(top_15_chains, average_ratings, on='name')\n",
    "\n",
    "print(top_15_with_ratings)"
   ]
  },
  {
   "cell_type": "code",
   "execution_count": 245,
   "id": "d013c598",
   "metadata": {
    "id": "d013c598"
   },
   "outputs": [
    {
     "data": {
      "image/png": "[encoded data removed]",
      "text/plain": [
       "<Figure size 720x432 with 1 Axes>"
      ]
     },
     "metadata": {
      "needs_background": "light"
     },
     "output_type": "display_data"
    },
    {
     "data": {
      "image/png": "[encoded data removed]",
      "text/plain": [
       "<Figure size 720x432 with 1 Axes>"
      ]
     },
     "metadata": {
      "needs_background": "light"
     },
     "output_type": "display_data"
    }
   ],
   "source": [
    "# Визуализация\n",
    "plt.figure(figsize=(10, 6))\n",
    "plt.bar(top_15_with_ratings['name'], top_15_with_ratings['count'], color='skyblue')\n",
    "plt.xticks(rotation=90)\n",
    "plt.title('Топ-15 популярных сетей заведений в Москве')\n",
    "plt.xlabel('Название сети')\n",
    "plt.ylabel('Количество заведений')\n",
    "plt.grid(axis='y', alpha=0.5)\n",
    "plt.show()\n",
    "\n",
    "plt.figure(figsize=(10, 6))\n",
    "plt.bar(top_15_with_ratings['name'], top_15_with_ratings['average_rating'], color='orange')\n",
    "plt.xticks(rotation=90)\n",
    "plt.title('Средний рейтинг топ-15 популярных сетей заведений')\n",
    "plt.xlabel('Название сети')\n",
    "plt.ylabel('Средний рейтинг')\n",
    "plt.grid(axis='y', alpha=0.5)\n",
    "plt.show()"
   ]
  },
  {
   "cell_type": "markdown",
   "id": "157c4918",
   "metadata": {
    "id": "774348d5"
   },
   "source": [
    "Исходя из данных выше, можно сделать вывод о том, что в топ-15 входят сетевые заведения, связи между количеством сетевых заведений и рейтингом нет, поэтому можно судить о том, что количесвто никак не влияет на рейтинг заведения.\n",
    "\n",
    "Большинство сетей имеют схожие показатели, что указывает на высокую конкуренцию в этой сфере."
   ]
  },
  {
   "cell_type": "markdown",
   "id": "85a90a94",
   "metadata": {
    "id": "85a90a94"
   },
   "source": [
    "---\n",
    "\n",
    "### Задача 8\n",
    "\n",
    "Изучите вариацию среднего чека заведения (столбец `middle_avg_bill`) в зависимости от района Москвы. Проанализируйте цены в Центральном административном округе и других. Как удалённость от центра влияет на цены в заведениях? Результат сопроводите подходящими визуализациями.\n"
   ]
  },
  {
   "cell_type": "code",
   "execution_count": 211,
   "id": "5fb4ffc6",
   "metadata": {
    "id": "5fb4ffc6"
   },
   "outputs": [
    {
     "name": "stdout",
     "output_type": "stream",
     "text": [
      "Средний чек в Центральный административный округ: 1191.0575471698114\n",
      "Средний чек в других районах: 839.8228817616084\n"
     ]
    }
   ],
   "source": [
    "# Разделение данных на две группы: Центральный административный округ и другие районы\n",
    "cao_df = df[df['district'] == 'Центральный административный округ']\n",
    "other_df = df[df['district'] != 'Центральный административный округ']\n",
    "\n",
    "# Расчёт среднего значения среднего чека для каждой группы\n",
    "avg_cao = cao_df['middle_avg_bill'].mean()\n",
    "avg_other = other_df['middle_avg_bill'].mean()\n",
    "\n",
    "print(f\"Средний чек в Центральный административный округ: {avg_cao}\")\n",
    "print(f\"Средний чек в других районах: {avg_other}\")"
   ]
  },
  {
   "cell_type": "code",
   "execution_count": 212,
   "id": "b98066c1",
   "metadata": {
    "id": "b98066c1"
   },
   "outputs": [
    {
     "data": {
      "image/png": "[encoded data removed]",
      "text/plain": [
       "<Figure size 720x360 with 1 Axes>"
      ]
     },
     "metadata": {
      "needs_background": "light"
     },
     "output_type": "display_data"
    }
   ],
   "source": [
    "# Построение графика зависимости среднего чека от района\n",
    "plt.figure(figsize=(10, 5))\n",
    "plt.bar(['ЦАО', 'Другие районы'], [avg_cao, avg_other], color=['blue', 'green'])\n",
    "plt.title('Сравнение среднего чека в ЦАО и других районах')\n",
    "plt.xlabel('Район')\n",
    "plt.ylabel('Средний чек')\n",
    "plt.grid()\n",
    "plt.show()"
   ]
  },
  {
   "cell_type": "markdown",
   "id": "cdfcd92c",
   "metadata": {
    "id": "9b5e00a5"
   },
   "source": [
    "На основании диаграммы можно сделать вывод, что средний чек в ЦАО значительно выше, чем в других районах. В ЦАО он составляет около 1200, тогда как в других районах — примерно 800. Это может быть связано с более высокой стоимостью товаров или услуг в центральной части города, а также с более высоким уровнем доходов населения в этом районе."
   ]
  },
  {
   "cell_type": "markdown",
   "id": "f2c54e9a",
   "metadata": {
    "id": "f2c54e9a"
   },
   "source": [
    "---\n",
    "\n",
    "### Промежуточный вывод\n",
    "\n",
    "Обобщите полученные результаты, выделив, по вашему мнению, самые важные."
   ]
  },
  {
   "cell_type": "markdown",
   "id": "2a806d3c",
   "metadata": {
    "id": "c8869609"
   },
   "source": [
    "Анализ взаимосвязи данных показал:\n",
    "- Большинство заведений в городе Москвы являются несетевыми (62%), сетвых заведений - 38% соответственно\n",
    "- Рестораны (более 1000), кофейни и кафе (около 700) составляют большую часть заведений общественного питания в Москве\n",
    "- В ценовом диапазоне есть зависимость от того, в каком административном округе находится данное заевдение, например в Центральном административном округе цена значительно выше, чем в других регионах."
   ]
  },
  {
   "cell_type": "markdown",
   "id": "480f3422",
   "metadata": {
    "id": "480f3422"
   },
   "source": [
    "## 4. Итоговый вывод и рекомендации\n",
    "\n",
    "По результатам проведённого исследовательского анализа данных сформулируйте итоговый вывод и рекомендации для заказчика. Старайтесь акцентировать внимание на ключевых моментах исследования.\n",
    "\n",
    "При составлении вывода придерживайтесь такой структуры:\n",
    "\n",
    "**1. Общий обзор проделанной работы.**\n",
    "\n",
    "В ходе исследования проанализировали 8406 заведений обещственного питания в Москве, такие как Шоколадница, Додо Пицца, Доминос Пицца, Кулинарная лавка братьев Караваевых, Теремок\n",
    "\n",
    "62% - это несетвые заведения, 38% - сетевые.\n",
    "\n",
    "**2. Ответы на исследовательские вопросы, или главные выводы.**\n",
    "\n",
    "Мы исследовали рейтинг, цены заведений, их расположение и мы можем сделать вывод, что в зависимости от места нахождения, цены варьируются и они увеличены в Центральном административном районе.\n",
    "\n",
    "Также мы выявиди, что самые популярные сети заведений - это Кафе, Шоколадница и Доминос Пицца\n",
    "\n",
    "**3. Рекомендации на основе анализа данных.**\n",
    "\n",
    "В качестве рекомендации стоит обратить внимание на местонахождение заведения, его ценовой диапазон и меню."
   ]
  }
 ],
 "metadata": {
  "ExecuteTimeLog": [
   {
    "duration": 1470,
    "start_time": "2025-05-28T09:48:27.594Z"
   },
   {
    "duration": 0,
    "start_time": "2025-05-28T09:48:29.066Z"
   },
   {
    "duration": 0,
    "start_time": "2025-05-28T09:48:29.067Z"
   },
   {
    "duration": 3498,
    "start_time": "2025-05-28T09:58:17.427Z"
   },
   {
    "duration": 94,
    "start_time": "2025-05-28T09:58:20.927Z"
   },
   {
    "duration": 199,
    "start_time": "2025-05-28T09:58:21.023Z"
   },
   {
    "duration": 4,
    "start_time": "2025-05-28T09:58:24.337Z"
   },
   {
    "duration": 18,
    "start_time": "2025-05-28T09:58:25.559Z"
   },
   {
    "duration": 728,
    "start_time": "2025-05-28T09:58:59.185Z"
   },
   {
    "duration": 3,
    "start_time": "2025-05-28T09:58:59.915Z"
   },
   {
    "duration": 18,
    "start_time": "2025-05-28T09:59:00.857Z"
   },
   {
    "duration": 15,
    "start_time": "2025-05-28T10:17:20.668Z"
   },
   {
    "duration": 10,
    "start_time": "2025-05-28T15:48:44.815Z"
   },
   {
    "duration": 12,
    "start_time": "2025-05-28T15:52:36.221Z"
   },
   {
    "duration": 55,
    "start_time": "2025-05-29T10:15:49.913Z"
   },
   {
    "duration": 3581,
    "start_time": "2025-05-29T10:15:56.890Z"
   },
   {
    "duration": 1514,
    "start_time": "2025-05-29T10:16:00.474Z"
   },
   {
    "duration": 228,
    "start_time": "2025-05-29T10:16:01.990Z"
   },
   {
    "duration": 2,
    "start_time": "2025-05-29T10:16:02.220Z"
   },
   {
    "duration": 18,
    "start_time": "2025-05-29T10:16:02.917Z"
   },
   {
    "duration": 21,
    "start_time": "2025-05-29T10:16:03.662Z"
   },
   {
    "duration": 11,
    "start_time": "2025-05-29T10:16:08.277Z"
   },
   {
    "duration": 12,
    "start_time": "2025-05-29T10:16:09.124Z"
   },
   {
    "duration": 12,
    "start_time": "2025-05-29T10:16:13.598Z"
   },
   {
    "duration": 15,
    "start_time": "2025-05-29T10:16:26.313Z"
   },
   {
    "duration": 10,
    "start_time": "2025-05-29T11:54:38.923Z"
   },
   {
    "duration": 12,
    "start_time": "2025-05-29T11:59:54.273Z"
   },
   {
    "duration": 13,
    "start_time": "2025-05-29T12:22:40.167Z"
   },
   {
    "duration": 6,
    "start_time": "2025-05-29T12:23:33.098Z"
   },
   {
    "duration": 336,
    "start_time": "2025-05-29T14:44:05.344Z"
   },
   {
    "duration": 6,
    "start_time": "2025-05-29T14:45:37.465Z"
   },
   {
    "duration": 5,
    "start_time": "2025-05-29T14:46:32.667Z"
   },
   {
    "duration": 19,
    "start_time": "2025-05-29T14:47:16.406Z"
   },
   {
    "duration": 6,
    "start_time": "2025-05-29T14:47:44.441Z"
   },
   {
    "duration": 17,
    "start_time": "2025-05-29T14:47:45.171Z"
   },
   {
    "duration": 17,
    "start_time": "2025-05-29T14:48:51.954Z"
   },
   {
    "duration": 955,
    "start_time": "2025-05-29T15:20:13.277Z"
   },
   {
    "duration": 11,
    "start_time": "2025-05-29T15:21:07.819Z"
   },
   {
    "duration": 7,
    "start_time": "2025-05-29T15:27:48.036Z"
   },
   {
    "duration": 10,
    "start_time": "2025-05-29T15:31:19.353Z"
   },
   {
    "duration": 184,
    "start_time": "2025-05-29T15:34:44.574Z"
   },
   {
    "duration": 79,
    "start_time": "2025-05-29T15:35:04.346Z"
   },
   {
    "duration": 215,
    "start_time": "2025-05-29T15:35:10.810Z"
   },
   {
    "duration": 16,
    "start_time": "2025-05-29T15:37:22.271Z"
   },
   {
    "duration": 8,
    "start_time": "2025-05-29T15:37:29.235Z"
   },
   {
    "duration": 7,
    "start_time": "2025-05-29T15:38:31.135Z"
   },
   {
    "duration": 271,
    "start_time": "2025-05-29T15:48:19.579Z"
   },
   {
    "duration": 286,
    "start_time": "2025-05-29T15:48:55.014Z"
   },
   {
    "duration": 48,
    "start_time": "2025-05-29T19:36:50.479Z"
   },
   {
    "duration": 3562,
    "start_time": "2025-05-29T19:37:02.980Z"
   },
   {
    "duration": 1425,
    "start_time": "2025-05-29T19:37:06.544Z"
   },
   {
    "duration": 296,
    "start_time": "2025-05-29T19:37:07.970Z"
   },
   {
    "duration": 156,
    "start_time": "2025-05-29T19:37:17.202Z"
   },
   {
    "duration": 14,
    "start_time": "2025-05-29T19:37:18.229Z"
   },
   {
    "duration": 13,
    "start_time": "2025-05-29T19:37:20.530Z"
   },
   {
    "duration": 9,
    "start_time": "2025-05-29T19:37:22.300Z"
   },
   {
    "duration": 11,
    "start_time": "2025-05-29T19:37:22.789Z"
   },
   {
    "duration": 10,
    "start_time": "2025-05-29T19:37:24.379Z"
   },
   {
    "duration": 14,
    "start_time": "2025-05-29T19:37:24.895Z"
   },
   {
    "duration": 8,
    "start_time": "2025-05-29T19:37:27.653Z"
   },
   {
    "duration": 10,
    "start_time": "2025-05-29T19:37:28.267Z"
   },
   {
    "duration": 12,
    "start_time": "2025-05-29T19:37:30.029Z"
   },
   {
    "duration": 5,
    "start_time": "2025-05-29T19:37:31.230Z"
   },
   {
    "duration": 6,
    "start_time": "2025-05-29T19:37:32.946Z"
   },
   {
    "duration": 16,
    "start_time": "2025-05-29T19:37:33.465Z"
   },
   {
    "duration": 6,
    "start_time": "2025-05-29T19:37:36.379Z"
   },
   {
    "duration": 204,
    "start_time": "2025-05-29T19:37:37.537Z"
   },
   {
    "duration": 6,
    "start_time": "2025-05-29T19:37:39.770Z"
   },
   {
    "duration": 261,
    "start_time": "2025-05-29T19:37:40.440Z"
   },
   {
    "duration": 7,
    "start_time": "2025-05-29T19:37:41.685Z"
   },
   {
    "duration": 8,
    "start_time": "2025-05-29T19:38:24.547Z"
   },
   {
    "duration": 9,
    "start_time": "2025-05-29T19:45:37.143Z"
   },
   {
    "duration": 185,
    "start_time": "2025-05-29T19:46:10.047Z"
   },
   {
    "duration": 211,
    "start_time": "2025-05-29T19:46:28.013Z"
   },
   {
    "duration": 230,
    "start_time": "2025-05-29T19:47:20.939Z"
   },
   {
    "duration": 254,
    "start_time": "2025-05-29T19:47:45.154Z"
   },
   {
    "duration": 90,
    "start_time": "2025-05-29T19:48:22.546Z"
   },
   {
    "duration": 283,
    "start_time": "2025-05-29T19:48:37.390Z"
   },
   {
    "duration": 204,
    "start_time": "2025-05-29T19:49:15.391Z"
   },
   {
    "duration": 95,
    "start_time": "2025-05-29T19:50:43.430Z"
   },
   {
    "duration": 6,
    "start_time": "2025-05-30T08:08:27.042Z"
   },
   {
    "duration": 7,
    "start_time": "2025-05-30T08:09:19.573Z"
   },
   {
    "duration": 128,
    "start_time": "2025-05-30T08:10:12.008Z"
   },
   {
    "duration": 131,
    "start_time": "2025-05-30T08:10:31.380Z"
   },
   {
    "duration": 125,
    "start_time": "2025-05-30T08:11:03.858Z"
   },
   {
    "duration": 6,
    "start_time": "2025-05-30T08:12:21.127Z"
   },
   {
    "duration": 129,
    "start_time": "2025-05-30T08:12:36.822Z"
   },
   {
    "duration": 130,
    "start_time": "2025-05-30T08:13:37.919Z"
   },
   {
    "duration": 119,
    "start_time": "2025-05-30T08:15:18.947Z"
   },
   {
    "duration": 116,
    "start_time": "2025-05-30T08:15:40.694Z"
   },
   {
    "duration": 8,
    "start_time": "2025-05-30T08:16:24.584Z"
   },
   {
    "duration": 9,
    "start_time": "2025-05-30T08:16:38.830Z"
   },
   {
    "duration": 6,
    "start_time": "2025-05-30T09:16:14.249Z"
   },
   {
    "duration": 6,
    "start_time": "2025-05-30T09:55:14.231Z"
   },
   {
    "duration": 90,
    "start_time": "2025-05-30T09:56:06.787Z"
   },
   {
    "duration": 206,
    "start_time": "2025-05-30T09:56:15.260Z"
   },
   {
    "duration": 203,
    "start_time": "2025-05-30T09:56:25.246Z"
   },
   {
    "duration": 239,
    "start_time": "2025-05-30T09:56:51.614Z"
   },
   {
    "duration": 129,
    "start_time": "2025-05-30T09:57:01.677Z"
   },
   {
    "duration": 225,
    "start_time": "2025-05-30T09:57:09.082Z"
   },
   {
    "duration": 172,
    "start_time": "2025-05-30T09:57:51.085Z"
   },
   {
    "duration": 260,
    "start_time": "2025-05-30T09:57:59.259Z"
   },
   {
    "duration": 263,
    "start_time": "2025-05-30T09:58:05.917Z"
   },
   {
    "duration": 9,
    "start_time": "2025-05-30T09:58:45.013Z"
   },
   {
    "duration": 156,
    "start_time": "2025-05-30T10:01:50.585Z"
   },
   {
    "duration": 8,
    "start_time": "2025-05-30T10:01:56.442Z"
   },
   {
    "duration": 9,
    "start_time": "2025-05-30T10:02:00.698Z"
   },
   {
    "duration": 277,
    "start_time": "2025-05-30T10:02:09.200Z"
   },
   {
    "duration": 20,
    "start_time": "2025-05-30T11:28:51.039Z"
   },
   {
    "duration": 177,
    "start_time": "2025-05-30T11:29:20.267Z"
   },
   {
    "duration": 187,
    "start_time": "2025-05-30T11:29:37.430Z"
   },
   {
    "duration": 194,
    "start_time": "2025-05-30T11:29:47.032Z"
   },
   {
    "duration": 277,
    "start_time": "2025-05-30T11:31:43.180Z"
   },
   {
    "duration": 181,
    "start_time": "2025-05-30T11:31:58.895Z"
   },
   {
    "duration": 7,
    "start_time": "2025-05-30T11:40:04.097Z"
   },
   {
    "duration": 166,
    "start_time": "2025-05-30T11:40:31.480Z"
   },
   {
    "duration": 169,
    "start_time": "2025-05-30T11:46:42.656Z"
   },
   {
    "duration": 161,
    "start_time": "2025-05-30T11:47:13.903Z"
   },
   {
    "duration": 140,
    "start_time": "2025-05-30T11:47:35.299Z"
   },
   {
    "duration": 163,
    "start_time": "2025-05-30T11:47:40.820Z"
   },
   {
    "duration": 207,
    "start_time": "2025-05-30T11:48:24.644Z"
   },
   {
    "duration": 8,
    "start_time": "2025-05-30T11:52:36.537Z"
   },
   {
    "duration": 192,
    "start_time": "2025-05-30T11:52:59.984Z"
   },
   {
    "duration": 138,
    "start_time": "2025-05-30T11:53:24.976Z"
   },
   {
    "duration": 36,
    "start_time": "2025-05-30T11:55:07.382Z"
   },
   {
    "duration": 113,
    "start_time": "2025-05-30T11:55:42.270Z"
   },
   {
    "duration": 193,
    "start_time": "2025-05-30T11:56:29.439Z"
   },
   {
    "duration": 178,
    "start_time": "2025-05-30T11:57:38.706Z"
   },
   {
    "duration": 172,
    "start_time": "2025-05-30T12:01:03.029Z"
   },
   {
    "duration": 182,
    "start_time": "2025-05-30T12:01:48.769Z"
   },
   {
    "duration": 919,
    "start_time": "2025-05-30T12:02:58.251Z"
   },
   {
    "duration": 226,
    "start_time": "2025-05-30T12:03:14.471Z"
   },
   {
    "duration": 120,
    "start_time": "2025-05-30T12:04:23.938Z"
   },
   {
    "duration": 124,
    "start_time": "2025-05-30T12:04:39.035Z"
   },
   {
    "duration": 141,
    "start_time": "2025-05-30T12:06:07.342Z"
   },
   {
    "duration": 124,
    "start_time": "2025-05-30T12:06:22.215Z"
   },
   {
    "duration": 122,
    "start_time": "2025-05-30T12:20:37.899Z"
   },
   {
    "duration": 73,
    "start_time": "2025-05-30T12:21:11.423Z"
   },
   {
    "duration": 249,
    "start_time": "2025-05-30T12:22:06.680Z"
   },
   {
    "duration": 236,
    "start_time": "2025-05-30T12:22:47.762Z"
   },
   {
    "duration": 243,
    "start_time": "2025-05-30T12:22:56.685Z"
   },
   {
    "duration": 1487,
    "start_time": "2025-05-30T12:23:37.681Z"
   },
   {
    "duration": 259,
    "start_time": "2025-05-30T12:24:17.181Z"
   },
   {
    "duration": 1555,
    "start_time": "2025-05-30T12:24:45.262Z"
   },
   {
    "duration": 1530,
    "start_time": "2025-05-30T12:25:29.181Z"
   },
   {
    "duration": 42,
    "start_time": "2025-05-30T12:27:00.141Z"
   },
   {
    "duration": 25,
    "start_time": "2025-05-30T12:28:02.879Z"
   },
   {
    "duration": 1643,
    "start_time": "2025-05-30T12:28:32.308Z"
   },
   {
    "duration": 82,
    "start_time": "2025-05-30T12:33:09.280Z"
   },
   {
    "duration": 232,
    "start_time": "2025-05-30T12:33:31.287Z"
   },
   {
    "duration": 239,
    "start_time": "2025-05-30T12:34:28.981Z"
   },
   {
    "duration": 246,
    "start_time": "2025-05-30T12:35:35.658Z"
   },
   {
    "duration": 238,
    "start_time": "2025-05-30T12:35:42.336Z"
   },
   {
    "duration": 375,
    "start_time": "2025-05-30T12:36:42.597Z"
   },
   {
    "duration": 189,
    "start_time": "2025-05-30T12:41:37.816Z"
   },
   {
    "duration": 10,
    "start_time": "2025-05-30T13:14:01.812Z"
   },
   {
    "duration": 5,
    "start_time": "2025-05-30T13:15:36.130Z"
   },
   {
    "duration": 5,
    "start_time": "2025-05-30T13:15:38.832Z"
   },
   {
    "duration": 7,
    "start_time": "2025-05-30T13:15:50.129Z"
   },
   {
    "duration": 159,
    "start_time": "2025-05-30T13:16:02.689Z"
   },
   {
    "duration": 161,
    "start_time": "2025-05-30T13:16:22.037Z"
   },
   {
    "duration": 13,
    "start_time": "2025-05-30T13:17:39.955Z"
   },
   {
    "duration": 180,
    "start_time": "2025-05-30T13:18:05.663Z"
   },
   {
    "duration": 160,
    "start_time": "2025-05-30T13:18:18.882Z"
   },
   {
    "duration": 152,
    "start_time": "2025-05-30T13:19:11.687Z"
   },
   {
    "duration": 3540,
    "start_time": "2025-05-30T14:02:45.038Z"
   },
   {
    "duration": 3475,
    "start_time": "2025-05-30T14:15:16.645Z"
   },
   {
    "duration": 4,
    "start_time": "2025-05-30T15:12:26.558Z"
   },
   {
    "duration": 1223,
    "start_time": "2025-05-30T15:12:26.563Z"
   },
   {
    "duration": 172,
    "start_time": "2025-05-30T15:12:27.788Z"
   },
   {
    "duration": 15,
    "start_time": "2025-05-30T15:12:27.962Z"
   },
   {
    "duration": 14,
    "start_time": "2025-05-30T15:12:27.981Z"
   },
   {
    "duration": 11,
    "start_time": "2025-05-30T15:12:27.996Z"
   },
   {
    "duration": 12,
    "start_time": "2025-05-30T15:12:28.008Z"
   },
   {
    "duration": 9,
    "start_time": "2025-05-30T15:12:28.038Z"
   },
   {
    "duration": 13,
    "start_time": "2025-05-30T15:12:28.050Z"
   },
   {
    "duration": 8,
    "start_time": "2025-05-30T15:12:28.064Z"
   },
   {
    "duration": 9,
    "start_time": "2025-05-30T15:12:28.074Z"
   },
   {
    "duration": 11,
    "start_time": "2025-05-30T15:12:28.085Z"
   },
   {
    "duration": 41,
    "start_time": "2025-05-30T15:12:28.098Z"
   },
   {
    "duration": 5,
    "start_time": "2025-05-30T15:12:28.141Z"
   },
   {
    "duration": 16,
    "start_time": "2025-05-30T15:12:28.148Z"
   },
   {
    "duration": 7,
    "start_time": "2025-05-30T15:12:28.165Z"
   },
   {
    "duration": 229,
    "start_time": "2025-05-30T15:12:28.173Z"
   },
   {
    "duration": 7,
    "start_time": "2025-05-30T15:12:28.403Z"
   },
   {
    "duration": 268,
    "start_time": "2025-05-30T15:12:28.411Z"
   },
   {
    "duration": 9,
    "start_time": "2025-05-30T15:12:28.681Z"
   },
   {
    "duration": 222,
    "start_time": "2025-05-30T15:12:28.692Z"
   },
   {
    "duration": 5,
    "start_time": "2025-05-30T15:12:28.916Z"
   },
   {
    "duration": 36,
    "start_time": "2025-05-30T15:12:28.938Z"
   },
   {
    "duration": 167,
    "start_time": "2025-05-30T15:12:28.975Z"
   },
   {
    "duration": 8,
    "start_time": "2025-05-30T15:12:29.144Z"
   },
   {
    "duration": 18,
    "start_time": "2025-05-30T15:12:29.153Z"
   },
   {
    "duration": 210,
    "start_time": "2025-05-30T15:12:29.174Z"
   },
   {
    "duration": 7,
    "start_time": "2025-05-30T15:12:29.385Z"
   },
   {
    "duration": 178,
    "start_time": "2025-05-30T15:12:29.393Z"
   },
   {
    "duration": 7,
    "start_time": "2025-05-30T15:12:29.572Z"
   },
   {
    "duration": 218,
    "start_time": "2025-05-30T15:12:29.581Z"
   },
   {
    "duration": 219,
    "start_time": "2025-05-30T15:12:29.800Z"
   },
   {
    "duration": 107,
    "start_time": "2025-05-30T15:12:30.020Z"
   },
   {
    "duration": 0,
    "start_time": "2025-05-30T15:12:30.128Z"
   },
   {
    "duration": 0,
    "start_time": "2025-05-30T15:12:30.129Z"
   },
   {
    "duration": 0,
    "start_time": "2025-05-30T15:12:30.130Z"
   },
   {
    "duration": 0,
    "start_time": "2025-05-30T15:12:30.130Z"
   },
   {
    "duration": 0,
    "start_time": "2025-05-30T15:12:30.130Z"
   },
   {
    "duration": 0,
    "start_time": "2025-05-30T15:12:30.131Z"
   },
   {
    "duration": 2354,
    "start_time": "2025-05-30T15:12:38.190Z"
   },
   {
    "duration": 4,
    "start_time": "2025-05-30T15:12:40.546Z"
   },
   {
    "duration": 221,
    "start_time": "2025-05-30T15:12:40.551Z"
   },
   {
    "duration": 14,
    "start_time": "2025-05-30T15:12:45.128Z"
   },
   {
    "duration": 17,
    "start_time": "2025-05-30T15:12:46.354Z"
   },
   {
    "duration": 10,
    "start_time": "2025-05-30T15:12:47.988Z"
   },
   {
    "duration": 11,
    "start_time": "2025-05-30T15:12:48.494Z"
   },
   {
    "duration": 12,
    "start_time": "2025-05-30T15:12:50.205Z"
   },
   {
    "duration": 14,
    "start_time": "2025-05-30T15:12:50.695Z"
   },
   {
    "duration": 9,
    "start_time": "2025-05-30T15:12:53.234Z"
   },
   {
    "duration": 10,
    "start_time": "2025-05-30T15:12:53.714Z"
   },
   {
    "duration": 12,
    "start_time": "2025-05-30T15:12:55.193Z"
   },
   {
    "duration": 5,
    "start_time": "2025-05-30T15:12:56.223Z"
   },
   {
    "duration": 5,
    "start_time": "2025-05-30T15:12:57.794Z"
   },
   {
    "duration": 16,
    "start_time": "2025-05-30T15:12:58.336Z"
   },
   {
    "duration": 7,
    "start_time": "2025-05-30T15:13:00.979Z"
   },
   {
    "duration": 192,
    "start_time": "2025-05-30T15:13:02.005Z"
   },
   {
    "duration": 7,
    "start_time": "2025-05-30T15:13:03.788Z"
   },
   {
    "duration": 247,
    "start_time": "2025-05-30T15:13:04.288Z"
   },
   {
    "duration": 9,
    "start_time": "2025-05-30T15:13:05.423Z"
   },
   {
    "duration": 203,
    "start_time": "2025-05-30T15:13:06.028Z"
   },
   {
    "duration": 6,
    "start_time": "2025-05-30T15:13:08.494Z"
   },
   {
    "duration": 6,
    "start_time": "2025-05-30T15:13:09.130Z"
   },
   {
    "duration": 154,
    "start_time": "2025-05-30T15:13:09.835Z"
   },
   {
    "duration": 8,
    "start_time": "2025-05-30T15:13:11.270Z"
   },
   {
    "duration": 25,
    "start_time": "2025-05-30T15:13:14.149Z"
   },
   {
    "duration": 186,
    "start_time": "2025-05-30T15:13:16.600Z"
   },
   {
    "duration": 7,
    "start_time": "2025-05-30T15:13:19.181Z"
   },
   {
    "duration": 169,
    "start_time": "2025-05-30T15:13:20.054Z"
   },
   {
    "duration": 8,
    "start_time": "2025-05-30T15:13:22.390Z"
   },
   {
    "duration": 232,
    "start_time": "2025-05-30T15:13:24.588Z"
   },
   {
    "duration": 119,
    "start_time": "2025-05-30T15:13:26.822Z"
   },
   {
    "duration": 14,
    "start_time": "2025-05-30T15:13:27.915Z"
   },
   {
    "duration": 243,
    "start_time": "2025-05-30T15:13:53.478Z"
   },
   {
    "duration": 377,
    "start_time": "2025-05-30T15:14:32.263Z"
   },
   {
    "duration": 1462,
    "start_time": "2025-05-30T15:14:35.031Z"
   },
   {
    "duration": 10,
    "start_time": "2025-05-30T15:14:39.928Z"
   },
   {
    "duration": 7,
    "start_time": "2025-05-30T15:14:40.618Z"
   },
   {
    "duration": 188,
    "start_time": "2025-05-30T15:14:42.613Z"
   },
   {
    "duration": 2371,
    "start_time": "2025-05-30T15:23:29.404Z"
   },
   {
    "duration": 1223,
    "start_time": "2025-05-30T15:23:31.777Z"
   },
   {
    "duration": 150,
    "start_time": "2025-05-30T15:23:33.002Z"
   },
   {
    "duration": 15,
    "start_time": "2025-05-30T15:23:33.154Z"
   },
   {
    "duration": 15,
    "start_time": "2025-05-30T15:23:33.172Z"
   },
   {
    "duration": 9,
    "start_time": "2025-05-30T15:23:33.189Z"
   },
   {
    "duration": 91,
    "start_time": "2025-05-30T15:23:33.200Z"
   },
   {
    "duration": 36,
    "start_time": "2025-05-30T15:23:33.293Z"
   },
   {
    "duration": 21,
    "start_time": "2025-05-30T15:23:33.331Z"
   },
   {
    "duration": 14,
    "start_time": "2025-05-30T15:23:33.354Z"
   },
   {
    "duration": 10,
    "start_time": "2025-05-30T15:23:33.370Z"
   },
   {
    "duration": 11,
    "start_time": "2025-05-30T15:23:33.382Z"
   },
   {
    "duration": 22,
    "start_time": "2025-05-30T15:23:33.394Z"
   },
   {
    "duration": 26,
    "start_time": "2025-05-30T15:23:33.419Z"
   },
   {
    "duration": 23,
    "start_time": "2025-05-30T15:23:33.446Z"
   },
   {
    "duration": 11,
    "start_time": "2025-05-30T15:23:33.471Z"
   },
   {
    "duration": 232,
    "start_time": "2025-05-30T15:23:33.484Z"
   },
   {
    "duration": 8,
    "start_time": "2025-05-30T15:23:33.717Z"
   },
   {
    "duration": 273,
    "start_time": "2025-05-30T15:23:33.738Z"
   },
   {
    "duration": 8,
    "start_time": "2025-05-30T15:23:34.013Z"
   },
   {
    "duration": 244,
    "start_time": "2025-05-30T15:23:34.022Z"
   },
   {
    "duration": 6,
    "start_time": "2025-05-30T15:23:34.267Z"
   },
   {
    "duration": 6,
    "start_time": "2025-05-30T15:23:34.275Z"
   },
   {
    "duration": 176,
    "start_time": "2025-05-30T15:23:34.282Z"
   },
   {
    "duration": 8,
    "start_time": "2025-05-30T15:23:34.459Z"
   },
   {
    "duration": 18,
    "start_time": "2025-05-30T15:23:34.469Z"
   },
   {
    "duration": 221,
    "start_time": "2025-05-30T15:23:34.489Z"
   },
   {
    "duration": 10,
    "start_time": "2025-05-30T15:23:34.712Z"
   },
   {
    "duration": 184,
    "start_time": "2025-05-30T15:23:34.724Z"
   },
   {
    "duration": 7,
    "start_time": "2025-05-30T15:23:34.910Z"
   },
   {
    "duration": 279,
    "start_time": "2025-05-30T15:23:34.919Z"
   },
   {
    "duration": 216,
    "start_time": "2025-05-30T15:23:35.199Z"
   },
   {
    "duration": 107,
    "start_time": "2025-05-30T15:23:35.417Z"
   },
   {
    "duration": 0,
    "start_time": "2025-05-30T15:23:35.525Z"
   },
   {
    "duration": 0,
    "start_time": "2025-05-30T15:23:35.526Z"
   },
   {
    "duration": 0,
    "start_time": "2025-05-30T15:23:35.528Z"
   },
   {
    "duration": 0,
    "start_time": "2025-05-30T15:23:35.529Z"
   },
   {
    "duration": 0,
    "start_time": "2025-05-30T15:23:35.537Z"
   },
   {
    "duration": 0,
    "start_time": "2025-05-30T15:23:35.539Z"
   },
   {
    "duration": 2424,
    "start_time": "2025-05-30T15:50:30.741Z"
   },
   {
    "duration": 1250,
    "start_time": "2025-05-30T15:50:33.167Z"
   },
   {
    "duration": 175,
    "start_time": "2025-05-30T15:50:34.421Z"
   },
   {
    "duration": 15,
    "start_time": "2025-05-30T15:50:34.598Z"
   },
   {
    "duration": 18,
    "start_time": "2025-05-30T15:50:34.615Z"
   },
   {
    "duration": 21,
    "start_time": "2025-05-30T15:50:34.635Z"
   },
   {
    "duration": 35,
    "start_time": "2025-05-30T15:50:34.658Z"
   },
   {
    "duration": 21,
    "start_time": "2025-05-30T15:50:34.696Z"
   },
   {
    "duration": 20,
    "start_time": "2025-05-30T15:50:34.722Z"
   },
   {
    "duration": 19,
    "start_time": "2025-05-30T15:50:34.744Z"
   },
   {
    "duration": 22,
    "start_time": "2025-05-30T15:50:34.765Z"
   },
   {
    "duration": 13,
    "start_time": "2025-05-30T15:50:34.789Z"
   },
   {
    "duration": 7,
    "start_time": "2025-05-30T15:50:34.804Z"
   },
   {
    "duration": 5,
    "start_time": "2025-05-30T15:50:34.813Z"
   },
   {
    "duration": 28,
    "start_time": "2025-05-30T15:50:34.820Z"
   },
   {
    "duration": 7,
    "start_time": "2025-05-30T15:50:34.850Z"
   },
   {
    "duration": 230,
    "start_time": "2025-05-30T15:50:34.859Z"
   },
   {
    "duration": 7,
    "start_time": "2025-05-30T15:50:35.090Z"
   },
   {
    "duration": 330,
    "start_time": "2025-05-30T15:50:35.099Z"
   },
   {
    "duration": 14,
    "start_time": "2025-05-30T15:50:35.430Z"
   },
   {
    "duration": 223,
    "start_time": "2025-05-30T15:50:35.445Z"
   },
   {
    "duration": 6,
    "start_time": "2025-05-30T15:50:35.669Z"
   },
   {
    "duration": 8,
    "start_time": "2025-05-30T15:50:35.676Z"
   },
   {
    "duration": 180,
    "start_time": "2025-05-30T15:50:35.686Z"
   },
   {
    "duration": 8,
    "start_time": "2025-05-30T15:50:35.868Z"
   },
   {
    "duration": 23,
    "start_time": "2025-05-30T15:50:35.877Z"
   },
   {
    "duration": 200,
    "start_time": "2025-05-30T15:50:35.903Z"
   },
   {
    "duration": 6,
    "start_time": "2025-05-30T15:50:36.104Z"
   },
   {
    "duration": 215,
    "start_time": "2025-05-30T15:50:36.112Z"
   },
   {
    "duration": 11,
    "start_time": "2025-05-30T15:50:36.329Z"
   },
   {
    "duration": 210,
    "start_time": "2025-05-30T15:50:36.341Z"
   },
   {
    "duration": 208,
    "start_time": "2025-05-30T15:50:36.553Z"
   },
   {
    "duration": 108,
    "start_time": "2025-05-30T15:50:36.762Z"
   },
   {
    "duration": 0,
    "start_time": "2025-05-30T15:50:36.871Z"
   },
   {
    "duration": 0,
    "start_time": "2025-05-30T15:50:36.872Z"
   },
   {
    "duration": 0,
    "start_time": "2025-05-30T15:50:36.874Z"
   },
   {
    "duration": 0,
    "start_time": "2025-05-30T15:50:36.875Z"
   },
   {
    "duration": 0,
    "start_time": "2025-05-30T15:50:36.876Z"
   },
   {
    "duration": 0,
    "start_time": "2025-05-30T15:50:36.876Z"
   },
   {
    "duration": 3017,
    "start_time": "2025-05-30T15:50:40.206Z"
   },
   {
    "duration": 4,
    "start_time": "2025-05-30T15:50:43.226Z"
   },
   {
    "duration": 165,
    "start_time": "2025-05-30T15:50:43.231Z"
   },
   {
    "duration": 12,
    "start_time": "2025-05-30T15:50:48.418Z"
   },
   {
    "duration": 14,
    "start_time": "2025-05-30T15:50:57.882Z"
   },
   {
    "duration": 9,
    "start_time": "2025-05-30T15:51:03.843Z"
   },
   {
    "duration": 11,
    "start_time": "2025-05-30T15:51:04.380Z"
   },
   {
    "duration": 12,
    "start_time": "2025-05-30T15:51:06.209Z"
   },
   {
    "duration": 14,
    "start_time": "2025-05-30T15:51:06.826Z"
   },
   {
    "duration": 9,
    "start_time": "2025-05-30T15:51:09.773Z"
   },
   {
    "duration": 10,
    "start_time": "2025-05-30T15:51:10.478Z"
   },
   {
    "duration": 11,
    "start_time": "2025-05-30T15:51:12.096Z"
   },
   {
    "duration": 7,
    "start_time": "2025-05-30T15:51:13.594Z"
   },
   {
    "duration": 5,
    "start_time": "2025-05-30T15:51:15.385Z"
   },
   {
    "duration": 15,
    "start_time": "2025-05-30T15:51:15.841Z"
   },
   {
    "duration": 6,
    "start_time": "2025-05-30T15:52:17.671Z"
   },
   {
    "duration": 196,
    "start_time": "2025-05-30T15:52:18.690Z"
   },
   {
    "duration": 6,
    "start_time": "2025-05-30T15:52:20.035Z"
   },
   {
    "duration": 253,
    "start_time": "2025-05-30T15:52:20.470Z"
   },
   {
    "duration": 11,
    "start_time": "2025-05-30T15:52:21.414Z"
   },
   {
    "duration": 207,
    "start_time": "2025-05-30T15:52:21.913Z"
   },
   {
    "duration": 7,
    "start_time": "2025-05-30T15:52:23.860Z"
   },
   {
    "duration": 7,
    "start_time": "2025-05-30T15:52:24.299Z"
   },
   {
    "duration": 159,
    "start_time": "2025-05-30T15:52:24.779Z"
   },
   {
    "duration": 9,
    "start_time": "2025-05-30T15:52:25.778Z"
   },
   {
    "duration": 20,
    "start_time": "2025-05-30T15:52:26.255Z"
   },
   {
    "duration": 179,
    "start_time": "2025-05-30T15:52:26.766Z"
   },
   {
    "duration": 7,
    "start_time": "2025-05-30T15:52:27.793Z"
   },
   {
    "duration": 166,
    "start_time": "2025-05-30T15:52:28.282Z"
   },
   {
    "duration": 9,
    "start_time": "2025-05-30T15:52:29.847Z"
   },
   {
    "duration": 207,
    "start_time": "2025-05-30T15:52:30.393Z"
   },
   {
    "duration": 121,
    "start_time": "2025-05-30T15:52:30.958Z"
   },
   {
    "duration": 13,
    "start_time": "2025-05-30T15:52:31.532Z"
   },
   {
    "duration": 245,
    "start_time": "2025-05-30T15:52:32.100Z"
   },
   {
    "duration": 347,
    "start_time": "2025-05-30T15:53:45.877Z"
   },
   {
    "duration": 1441,
    "start_time": "2025-05-30T15:53:46.525Z"
   },
   {
    "duration": 8,
    "start_time": "2025-05-30T15:53:49.225Z"
   },
   {
    "duration": 7,
    "start_time": "2025-05-30T15:53:49.797Z"
   },
   {
    "duration": 154,
    "start_time": "2025-05-30T15:53:50.424Z"
   },
   {
    "duration": 2342,
    "start_time": "2025-05-30T15:55:38.465Z"
   },
   {
    "duration": 1222,
    "start_time": "2025-05-30T15:55:40.809Z"
   },
   {
    "duration": 169,
    "start_time": "2025-05-30T15:55:42.033Z"
   },
   {
    "duration": 15,
    "start_time": "2025-05-30T15:55:42.203Z"
   },
   {
    "duration": 15,
    "start_time": "2025-05-30T15:55:42.220Z"
   },
   {
    "duration": 9,
    "start_time": "2025-05-30T15:55:42.237Z"
   },
   {
    "duration": 14,
    "start_time": "2025-05-30T15:55:42.248Z"
   },
   {
    "duration": 12,
    "start_time": "2025-05-30T15:55:42.264Z"
   },
   {
    "duration": 26,
    "start_time": "2025-05-30T15:55:42.277Z"
   },
   {
    "duration": 8,
    "start_time": "2025-05-30T15:55:42.304Z"
   },
   {
    "duration": 10,
    "start_time": "2025-05-30T15:55:42.314Z"
   },
   {
    "duration": 12,
    "start_time": "2025-05-30T15:55:42.337Z"
   },
   {
    "duration": 7,
    "start_time": "2025-05-30T15:55:42.350Z"
   },
   {
    "duration": 5,
    "start_time": "2025-05-30T15:55:42.360Z"
   },
   {
    "duration": 16,
    "start_time": "2025-05-30T15:55:42.366Z"
   },
   {
    "duration": 9,
    "start_time": "2025-05-30T15:55:42.383Z"
   },
   {
    "duration": 246,
    "start_time": "2025-05-30T15:55:42.393Z"
   },
   {
    "duration": 6,
    "start_time": "2025-05-30T15:55:42.641Z"
   },
   {
    "duration": 269,
    "start_time": "2025-05-30T15:55:42.649Z"
   },
   {
    "duration": 21,
    "start_time": "2025-05-30T15:55:42.920Z"
   },
   {
    "duration": 217,
    "start_time": "2025-05-30T15:55:42.943Z"
   },
   {
    "duration": 6,
    "start_time": "2025-05-30T15:55:43.161Z"
   },
   {
    "duration": 19,
    "start_time": "2025-05-30T15:55:43.169Z"
   },
   {
    "duration": 168,
    "start_time": "2025-05-30T15:55:43.190Z"
   },
   {
    "duration": 8,
    "start_time": "2025-05-30T15:55:43.360Z"
   },
   {
    "duration": 20,
    "start_time": "2025-05-30T15:55:43.369Z"
   },
   {
    "duration": 215,
    "start_time": "2025-05-30T15:55:43.390Z"
   },
   {
    "duration": 8,
    "start_time": "2025-05-30T15:55:43.606Z"
   },
   {
    "duration": 181,
    "start_time": "2025-05-30T15:55:43.615Z"
   },
   {
    "duration": 8,
    "start_time": "2025-05-30T15:55:43.798Z"
   },
   {
    "duration": 232,
    "start_time": "2025-05-30T15:55:43.807Z"
   },
   {
    "duration": 229,
    "start_time": "2025-05-30T15:55:44.041Z"
   },
   {
    "duration": 110,
    "start_time": "2025-05-30T15:55:44.271Z"
   },
   {
    "duration": 0,
    "start_time": "2025-05-30T15:55:44.383Z"
   },
   {
    "duration": 0,
    "start_time": "2025-05-30T15:55:44.384Z"
   },
   {
    "duration": 0,
    "start_time": "2025-05-30T15:55:44.385Z"
   },
   {
    "duration": 0,
    "start_time": "2025-05-30T15:55:44.386Z"
   },
   {
    "duration": 0,
    "start_time": "2025-05-30T15:55:44.387Z"
   },
   {
    "duration": 0,
    "start_time": "2025-05-30T15:55:44.388Z"
   },
   {
    "duration": 2481,
    "start_time": "2025-05-30T15:57:51.673Z"
   },
   {
    "duration": 4,
    "start_time": "2025-05-30T15:57:54.161Z"
   },
   {
    "duration": 161,
    "start_time": "2025-05-30T15:57:54.168Z"
   },
   {
    "duration": 13,
    "start_time": "2025-05-30T15:57:56.040Z"
   },
   {
    "duration": 13,
    "start_time": "2025-05-30T15:57:57.362Z"
   },
   {
    "duration": 10,
    "start_time": "2025-05-30T15:57:58.439Z"
   },
   {
    "duration": 11,
    "start_time": "2025-05-30T15:57:58.928Z"
   },
   {
    "duration": 12,
    "start_time": "2025-05-30T15:58:00.477Z"
   },
   {
    "duration": 14,
    "start_time": "2025-05-30T15:58:00.960Z"
   },
   {
    "duration": 9,
    "start_time": "2025-05-30T15:58:03.480Z"
   },
   {
    "duration": 10,
    "start_time": "2025-05-30T15:58:03.999Z"
   },
   {
    "duration": 13,
    "start_time": "2025-05-30T15:58:05.469Z"
   },
   {
    "duration": 6,
    "start_time": "2025-05-30T15:58:06.439Z"
   },
   {
    "duration": 6,
    "start_time": "2025-05-30T15:58:07.968Z"
   },
   {
    "duration": 15,
    "start_time": "2025-05-30T15:58:08.462Z"
   },
   {
    "duration": 6,
    "start_time": "2025-05-30T15:58:11.005Z"
   },
   {
    "duration": 196,
    "start_time": "2025-05-30T15:58:12.046Z"
   },
   {
    "duration": 6,
    "start_time": "2025-05-30T15:58:13.716Z"
   },
   {
    "duration": 251,
    "start_time": "2025-05-30T15:58:14.221Z"
   },
   {
    "duration": 9,
    "start_time": "2025-05-30T15:58:15.399Z"
   },
   {
    "duration": 220,
    "start_time": "2025-05-30T15:58:15.969Z"
   },
   {
    "duration": 6,
    "start_time": "2025-05-30T15:58:18.228Z"
   },
   {
    "duration": 6,
    "start_time": "2025-05-30T15:58:19.995Z"
   },
   {
    "duration": 157,
    "start_time": "2025-05-30T15:58:20.499Z"
   },
   {
    "duration": 8,
    "start_time": "2025-05-30T15:58:22.651Z"
   },
   {
    "duration": 21,
    "start_time": "2025-05-30T15:58:23.922Z"
   },
   {
    "duration": 193,
    "start_time": "2025-05-30T15:58:24.501Z"
   },
   {
    "duration": 8,
    "start_time": "2025-05-30T15:58:25.618Z"
   },
   {
    "duration": 174,
    "start_time": "2025-05-30T15:58:26.135Z"
   },
   {
    "duration": 8,
    "start_time": "2025-05-30T15:58:27.759Z"
   },
   {
    "duration": 206,
    "start_time": "2025-05-30T15:58:28.255Z"
   },
   {
    "duration": 120,
    "start_time": "2025-05-30T15:58:28.780Z"
   },
   {
    "duration": 14,
    "start_time": "2025-05-30T15:58:29.347Z"
   },
   {
    "duration": 257,
    "start_time": "2025-05-30T15:58:29.941Z"
   },
   {
    "duration": 1519,
    "start_time": "2025-05-30T15:58:30.458Z"
   },
   {
    "duration": 9,
    "start_time": "2025-05-30T15:58:32.317Z"
   },
   {
    "duration": 7,
    "start_time": "2025-05-30T15:58:32.926Z"
   },
   {
    "duration": 160,
    "start_time": "2025-05-30T15:58:33.511Z"
   },
   {
    "duration": 167,
    "start_time": "2025-05-30T15:58:35.255Z"
   },
   {
    "duration": 3218,
    "start_time": "2025-05-30T17:51:00.317Z"
   },
   {
    "duration": 1353,
    "start_time": "2025-05-30T17:51:03.537Z"
   },
   {
    "duration": 239,
    "start_time": "2025-05-30T17:51:04.892Z"
   },
   {
    "duration": 20,
    "start_time": "2025-05-30T17:51:06.722Z"
   },
   {
    "duration": 12,
    "start_time": "2025-05-30T17:51:07.287Z"
   },
   {
    "duration": 10,
    "start_time": "2025-05-30T17:51:08.369Z"
   },
   {
    "duration": 10,
    "start_time": "2025-05-30T17:51:08.869Z"
   },
   {
    "duration": 10,
    "start_time": "2025-05-30T17:51:10.269Z"
   },
   {
    "duration": 12,
    "start_time": "2025-05-30T17:51:10.805Z"
   },
   {
    "duration": 8,
    "start_time": "2025-05-30T17:51:13.351Z"
   },
   {
    "duration": 10,
    "start_time": "2025-05-30T17:51:13.831Z"
   },
   {
    "duration": 12,
    "start_time": "2025-05-30T17:51:15.468Z"
   },
   {
    "duration": 5,
    "start_time": "2025-05-30T17:51:16.615Z"
   },
   {
    "duration": 6,
    "start_time": "2025-05-30T17:51:18.260Z"
   },
   {
    "duration": 15,
    "start_time": "2025-05-30T17:51:18.795Z"
   },
   {
    "duration": 6,
    "start_time": "2025-05-30T17:51:21.639Z"
   },
   {
    "duration": 194,
    "start_time": "2025-05-30T17:51:22.763Z"
   },
   {
    "duration": 6,
    "start_time": "2025-05-30T17:51:24.492Z"
   },
   {
    "duration": 233,
    "start_time": "2025-05-30T17:51:25.006Z"
   },
   {
    "duration": 8,
    "start_time": "2025-05-30T17:51:26.219Z"
   },
   {
    "duration": 184,
    "start_time": "2025-05-30T17:51:26.723Z"
   },
   {
    "duration": 6,
    "start_time": "2025-05-30T17:51:29.044Z"
   },
   {
    "duration": 5,
    "start_time": "2025-05-30T17:51:29.587Z"
   },
   {
    "duration": 151,
    "start_time": "2025-05-30T17:51:30.196Z"
   },
   {
    "duration": 8,
    "start_time": "2025-05-30T17:51:31.493Z"
   },
   {
    "duration": 18,
    "start_time": "2025-05-30T17:51:32.031Z"
   },
   {
    "duration": 162,
    "start_time": "2025-05-30T17:51:32.708Z"
   },
   {
    "duration": 7,
    "start_time": "2025-05-30T17:51:33.923Z"
   },
   {
    "duration": 153,
    "start_time": "2025-05-30T17:51:34.652Z"
   },
   {
    "duration": 7,
    "start_time": "2025-05-30T17:51:36.588Z"
   },
   {
    "duration": 182,
    "start_time": "2025-05-30T17:51:37.184Z"
   },
   {
    "duration": 185,
    "start_time": "2025-05-30T17:51:37.836Z"
   },
   {
    "duration": 93,
    "start_time": "2025-05-30T17:51:38.416Z"
   },
   {
    "duration": 220,
    "start_time": "2025-05-30T17:51:39.093Z"
   },
   {
    "duration": 1369,
    "start_time": "2025-05-30T17:51:39.697Z"
   },
   {
    "duration": 11,
    "start_time": "2025-05-30T17:51:41.608Z"
   },
   {
    "duration": 6,
    "start_time": "2025-05-30T17:51:42.245Z"
   },
   {
    "duration": 141,
    "start_time": "2025-05-30T17:51:42.829Z"
   },
   {
    "duration": 144,
    "start_time": "2025-05-30T17:51:44.710Z"
   },
   {
    "duration": 182,
    "start_time": "2025-05-30T17:51:51.983Z"
   },
   {
    "duration": 207,
    "start_time": "2025-05-30T19:25:45.869Z"
   },
   {
    "duration": 8,
    "start_time": "2025-05-30T19:29:32.586Z"
   },
   {
    "duration": 204,
    "start_time": "2025-05-30T19:41:51.964Z"
   },
   {
    "duration": 122,
    "start_time": "2025-05-30T19:42:38.834Z"
   },
   {
    "duration": 117,
    "start_time": "2025-05-30T19:45:44.072Z"
   },
   {
    "duration": 125,
    "start_time": "2025-05-30T19:48:55.781Z"
   },
   {
    "duration": 120,
    "start_time": "2025-05-30T19:49:14.702Z"
   },
   {
    "duration": 120,
    "start_time": "2025-05-30T19:50:28.479Z"
   },
   {
    "duration": 114,
    "start_time": "2025-05-30T19:52:17.268Z"
   },
   {
    "duration": 133,
    "start_time": "2025-05-30T19:52:38.450Z"
   },
   {
    "duration": 126,
    "start_time": "2025-05-30T19:53:45.401Z"
   },
   {
    "duration": 15,
    "start_time": "2025-05-30T19:56:35.648Z"
   },
   {
    "duration": 111,
    "start_time": "2025-05-30T19:56:55.603Z"
   },
   {
    "duration": 112,
    "start_time": "2025-05-30T19:57:12.594Z"
   },
   {
    "duration": 14,
    "start_time": "2025-05-30T19:57:52.079Z"
   },
   {
    "duration": 15,
    "start_time": "2025-05-30T19:58:05.640Z"
   },
   {
    "duration": 111,
    "start_time": "2025-05-30T19:58:23.974Z"
   },
   {
    "duration": 14,
    "start_time": "2025-05-30T20:02:54.299Z"
   },
   {
    "duration": 129,
    "start_time": "2025-05-30T20:03:04.616Z"
   },
   {
    "duration": 8,
    "start_time": "2025-05-30T20:06:36.247Z"
   },
   {
    "duration": 8,
    "start_time": "2025-05-30T20:06:57.181Z"
   },
   {
    "duration": 8,
    "start_time": "2025-05-30T20:07:03.222Z"
   },
   {
    "duration": 7,
    "start_time": "2025-05-30T20:07:58.006Z"
   },
   {
    "duration": 7,
    "start_time": "2025-05-30T20:09:14.439Z"
   },
   {
    "duration": 2176,
    "start_time": "2025-05-30T20:09:28.025Z"
   },
   {
    "duration": 4,
    "start_time": "2025-05-30T20:09:30.204Z"
   },
   {
    "duration": 2424,
    "start_time": "2025-05-30T20:09:30.209Z"
   },
   {
    "duration": 11,
    "start_time": "2025-05-30T20:09:32.635Z"
   },
   {
    "duration": 10,
    "start_time": "2025-05-30T20:09:36.590Z"
   },
   {
    "duration": 13,
    "start_time": "2025-05-30T20:09:37.162Z"
   },
   {
    "duration": 9,
    "start_time": "2025-05-30T20:09:38.375Z"
   },
   {
    "duration": 11,
    "start_time": "2025-05-30T20:09:39.062Z"
   },
   {
    "duration": 10,
    "start_time": "2025-05-30T20:09:41.526Z"
   },
   {
    "duration": 14,
    "start_time": "2025-05-30T20:09:42.234Z"
   },
   {
    "duration": 9,
    "start_time": "2025-05-30T20:09:45.505Z"
   },
   {
    "duration": 9,
    "start_time": "2025-05-30T20:09:46.169Z"
   },
   {
    "duration": 11,
    "start_time": "2025-05-30T20:09:48.139Z"
   },
   {
    "duration": 6,
    "start_time": "2025-05-30T20:09:49.394Z"
   },
   {
    "duration": 6,
    "start_time": "2025-05-30T20:09:51.428Z"
   },
   {
    "duration": 14,
    "start_time": "2025-05-30T20:09:52.064Z"
   },
   {
    "duration": 6,
    "start_time": "2025-05-30T20:10:24.683Z"
   },
   {
    "duration": 183,
    "start_time": "2025-05-30T20:10:26.091Z"
   },
   {
    "duration": 6,
    "start_time": "2025-05-30T20:10:28.366Z"
   },
   {
    "duration": 231,
    "start_time": "2025-05-30T20:10:28.954Z"
   },
   {
    "duration": 10,
    "start_time": "2025-05-30T20:10:30.401Z"
   },
   {
    "duration": 299,
    "start_time": "2025-05-30T20:10:31.157Z"
   },
   {
    "duration": 6,
    "start_time": "2025-05-30T20:10:33.761Z"
   },
   {
    "duration": 6,
    "start_time": "2025-05-30T20:10:34.331Z"
   },
   {
    "duration": 143,
    "start_time": "2025-05-30T20:10:34.994Z"
   },
   {
    "duration": 9,
    "start_time": "2025-05-30T20:10:36.330Z"
   },
   {
    "duration": 17,
    "start_time": "2025-05-30T20:10:37.015Z"
   },
   {
    "duration": 167,
    "start_time": "2025-05-30T20:10:37.726Z"
   },
   {
    "duration": 7,
    "start_time": "2025-05-30T20:10:39.153Z"
   },
   {
    "duration": 157,
    "start_time": "2025-05-30T20:10:39.860Z"
   },
   {
    "duration": 8,
    "start_time": "2025-05-30T20:10:42.120Z"
   },
   {
    "duration": 185,
    "start_time": "2025-05-30T20:10:42.903Z"
   },
   {
    "duration": 111,
    "start_time": "2025-05-30T20:10:43.635Z"
   },
   {
    "duration": 23,
    "start_time": "2025-05-30T20:10:44.330Z"
   },
   {
    "duration": 224,
    "start_time": "2025-05-30T20:10:45.123Z"
   },
   {
    "duration": 1412,
    "start_time": "2025-05-30T20:10:45.857Z"
   },
   {
    "duration": 8,
    "start_time": "2025-05-30T20:10:48.894Z"
   },
   {
    "duration": 6,
    "start_time": "2025-05-30T20:10:49.811Z"
   },
   {
    "duration": 142,
    "start_time": "2025-05-30T20:10:50.565Z"
   },
   {
    "duration": 145,
    "start_time": "2025-05-30T20:10:52.609Z"
   },
   {
    "duration": 228,
    "start_time": "2025-05-30T20:10:54.018Z"
   },
   {
    "duration": 126,
    "start_time": "2025-05-30T20:10:56.073Z"
   },
   {
    "duration": 123,
    "start_time": "2025-05-30T20:14:02.525Z"
   },
   {
    "duration": 224,
    "start_time": "2025-05-30T20:14:20.262Z"
   },
   {
    "duration": 249,
    "start_time": "2025-05-30T20:19:48.634Z"
   },
   {
    "duration": 263,
    "start_time": "2025-05-30T20:20:06.797Z"
   },
   {
    "duration": 240,
    "start_time": "2025-05-30T20:20:13.874Z"
   },
   {
    "duration": 11,
    "start_time": "2025-05-30T21:41:32.177Z"
   },
   {
    "duration": 17,
    "start_time": "2025-05-30T21:42:22.030Z"
   },
   {
    "duration": 476,
    "start_time": "2025-05-30T22:02:51.943Z"
   },
   {
    "duration": 368,
    "start_time": "2025-05-30T22:03:11.443Z"
   },
   {
    "duration": 379,
    "start_time": "2025-05-30T22:03:30.906Z"
   },
   {
    "duration": 374,
    "start_time": "2025-05-30T22:03:45.919Z"
   },
   {
    "duration": 375,
    "start_time": "2025-05-30T22:03:56.291Z"
   },
   {
    "duration": 400,
    "start_time": "2025-05-30T22:05:36.657Z"
   },
   {
    "duration": 495,
    "start_time": "2025-05-30T22:06:05.621Z"
   },
   {
    "duration": 380,
    "start_time": "2025-05-30T22:06:23.790Z"
   },
   {
    "duration": 10,
    "start_time": "2025-05-30T22:12:56.563Z"
   },
   {
    "duration": 11,
    "start_time": "2025-05-30T22:15:02.734Z"
   },
   {
    "duration": 8,
    "start_time": "2025-05-30T22:15:36.506Z"
   },
   {
    "duration": 9,
    "start_time": "2025-05-30T22:16:23.910Z"
   },
   {
    "duration": 99,
    "start_time": "2025-05-30T22:16:46.425Z"
   },
   {
    "duration": 2164,
    "start_time": "2025-05-30T22:42:43.814Z"
   },
   {
    "duration": 3,
    "start_time": "2025-05-30T22:42:45.980Z"
   },
   {
    "duration": 249,
    "start_time": "2025-05-30T22:42:45.985Z"
   },
   {
    "duration": 12,
    "start_time": "2025-05-30T22:42:46.724Z"
   },
   {
    "duration": 13,
    "start_time": "2025-05-30T22:42:47.371Z"
   },
   {
    "duration": 10,
    "start_time": "2025-05-30T22:42:48.522Z"
   },
   {
    "duration": 12,
    "start_time": "2025-05-30T22:42:49.014Z"
   },
   {
    "duration": 10,
    "start_time": "2025-05-30T22:42:50.739Z"
   },
   {
    "duration": 12,
    "start_time": "2025-05-30T22:42:51.281Z"
   },
   {
    "duration": 14,
    "start_time": "2025-05-30T22:42:51.854Z"
   },
   {
    "duration": 8,
    "start_time": "2025-05-30T22:42:54.954Z"
   },
   {
    "duration": 9,
    "start_time": "2025-05-30T22:42:55.499Z"
   },
   {
    "duration": 11,
    "start_time": "2025-05-30T22:42:57.206Z"
   },
   {
    "duration": 6,
    "start_time": "2025-05-30T22:42:58.250Z"
   },
   {
    "duration": 6,
    "start_time": "2025-05-30T22:42:59.921Z"
   },
   {
    "duration": 14,
    "start_time": "2025-05-30T22:43:00.446Z"
   },
   {
    "duration": 7,
    "start_time": "2025-05-30T22:43:03.880Z"
   },
   {
    "duration": 182,
    "start_time": "2025-05-30T22:43:05.009Z"
   },
   {
    "duration": 6,
    "start_time": "2025-05-30T22:43:06.689Z"
   },
   {
    "duration": 233,
    "start_time": "2025-05-30T22:43:07.226Z"
   },
   {
    "duration": 10,
    "start_time": "2025-05-30T22:43:08.359Z"
   },
   {
    "duration": 188,
    "start_time": "2025-05-30T22:43:08.890Z"
   },
   {
    "duration": 7,
    "start_time": "2025-05-30T22:43:11.072Z"
   },
   {
    "duration": 6,
    "start_time": "2025-05-30T22:43:11.586Z"
   },
   {
    "duration": 148,
    "start_time": "2025-05-30T22:43:12.221Z"
   },
   {
    "duration": 8,
    "start_time": "2025-05-30T22:43:13.370Z"
   },
   {
    "duration": 18,
    "start_time": "2025-05-30T22:43:13.939Z"
   },
   {
    "duration": 165,
    "start_time": "2025-05-30T22:43:14.536Z"
   },
   {
    "duration": 7,
    "start_time": "2025-05-30T22:43:15.731Z"
   },
   {
    "duration": 150,
    "start_time": "2025-05-30T22:43:16.264Z"
   },
   {
    "duration": 7,
    "start_time": "2025-05-30T22:43:17.967Z"
   },
   {
    "duration": 321,
    "start_time": "2025-05-30T22:43:18.512Z"
   },
   {
    "duration": 110,
    "start_time": "2025-05-30T22:43:19.064Z"
   },
   {
    "duration": 30,
    "start_time": "2025-05-30T22:43:19.601Z"
   },
   {
    "duration": 222,
    "start_time": "2025-05-30T22:43:20.275Z"
   },
   {
    "duration": 1314,
    "start_time": "2025-05-30T22:43:20.738Z"
   },
   {
    "duration": 8,
    "start_time": "2025-05-30T22:43:22.567Z"
   },
   {
    "duration": 7,
    "start_time": "2025-05-30T22:43:23.138Z"
   },
   {
    "duration": 148,
    "start_time": "2025-05-30T22:43:23.732Z"
   },
   {
    "duration": 143,
    "start_time": "2025-05-30T22:43:25.475Z"
   },
   {
    "duration": 236,
    "start_time": "2025-05-30T22:43:26.641Z"
   },
   {
    "duration": 391,
    "start_time": "2025-05-30T22:43:27.916Z"
   },
   {
    "duration": 298,
    "start_time": "2025-05-30T22:43:28.535Z"
   },
   {
    "duration": 17,
    "start_time": "2025-05-30T22:43:30.352Z"
   },
   {
    "duration": 388,
    "start_time": "2025-05-30T22:43:31.053Z"
   },
   {
    "duration": 9,
    "start_time": "2025-05-30T22:43:32.814Z"
   },
   {
    "duration": 116,
    "start_time": "2025-05-30T22:43:33.410Z"
   },
   {
    "duration": 12,
    "start_time": "2025-05-31T07:56:44.144Z"
   },
   {
    "duration": 16,
    "start_time": "2025-05-31T07:56:45.102Z"
   },
   {
    "duration": 17,
    "start_time": "2025-05-31T07:56:51.770Z"
   },
   {
    "duration": 10,
    "start_time": "2025-05-31T07:57:01.303Z"
   },
   {
    "duration": 12,
    "start_time": "2025-05-31T07:57:08.236Z"
   },
   {
    "duration": 16,
    "start_time": "2025-05-31T07:57:14.147Z"
   },
   {
    "duration": 7,
    "start_time": "2025-05-31T07:57:15.466Z"
   },
   {
    "duration": 7,
    "start_time": "2025-05-31T07:57:18.824Z"
   },
   {
    "duration": 17,
    "start_time": "2025-05-31T07:57:20.039Z"
   },
   {
    "duration": 7,
    "start_time": "2025-05-31T07:57:24.862Z"
   },
   {
    "duration": 204,
    "start_time": "2025-05-31T07:57:30.330Z"
   },
   {
    "duration": 8,
    "start_time": "2025-05-31T07:57:36.293Z"
   },
   {
    "duration": 247,
    "start_time": "2025-05-31T07:57:39.003Z"
   },
   {
    "duration": 11,
    "start_time": "2025-05-31T07:57:43.114Z"
   },
   {
    "duration": 199,
    "start_time": "2025-05-31T07:57:44.186Z"
   },
   {
    "duration": 6,
    "start_time": "2025-05-31T07:57:55.781Z"
   },
   {
    "duration": 6,
    "start_time": "2025-05-31T07:57:56.684Z"
   },
   {
    "duration": 158,
    "start_time": "2025-05-31T07:58:02.283Z"
   },
   {
    "duration": 9,
    "start_time": "2025-05-31T07:58:29.860Z"
   },
   {
    "duration": 21,
    "start_time": "2025-05-31T07:58:31.353Z"
   },
   {
    "duration": 192,
    "start_time": "2025-05-31T07:58:32.801Z"
   },
   {
    "duration": 8,
    "start_time": "2025-05-31T07:58:36.988Z"
   },
   {
    "duration": 9,
    "start_time": "2025-05-31T07:59:06.090Z"
   },
   {
    "duration": 221,
    "start_time": "2025-05-31T07:59:09.595Z"
   },
   {
    "duration": 258,
    "start_time": "2025-05-31T07:59:11.633Z"
   },
   {
    "duration": 28,
    "start_time": "2025-05-31T07:59:14.179Z"
   },
   {
    "duration": 250,
    "start_time": "2025-05-31T07:59:16.469Z"
   },
   {
    "duration": 1450,
    "start_time": "2025-05-31T07:59:20.041Z"
   },
   {
    "duration": 10,
    "start_time": "2025-05-31T07:59:29.525Z"
   },
   {
    "duration": 8,
    "start_time": "2025-05-31T07:59:32.276Z"
   },
   {
    "duration": 159,
    "start_time": "2025-05-31T07:59:34.995Z"
   },
   {
    "duration": 200,
    "start_time": "2025-05-31T08:02:16.340Z"
   },
   {
    "duration": 233,
    "start_time": "2025-05-31T08:02:24.015Z"
   },
   {
    "duration": 275,
    "start_time": "2025-05-31T08:02:27.343Z"
   },
   {
    "duration": 433,
    "start_time": "2025-05-31T08:02:29.796Z"
   },
   {
    "duration": 26,
    "start_time": "2025-05-31T08:02:33.688Z"
   },
   {
    "duration": 428,
    "start_time": "2025-05-31T08:02:41.452Z"
   },
   {
    "duration": 11,
    "start_time": "2025-05-31T08:02:57.027Z"
   },
   {
    "duration": 118,
    "start_time": "2025-05-31T08:03:02.146Z"
   },
   {
    "duration": 12,
    "start_time": "2025-05-31T19:50:36.031Z"
   },
   {
    "duration": 3,
    "start_time": "2025-05-31T19:50:49.422Z"
   },
   {
    "duration": 11,
    "start_time": "2025-05-31T19:50:55.979Z"
   },
   {
    "duration": 11,
    "start_time": "2025-05-31T19:51:01.479Z"
   },
   {
    "duration": 8,
    "start_time": "2025-05-31T19:53:03.771Z"
   },
   {
    "duration": 8,
    "start_time": "2025-05-31T19:53:09.107Z"
   },
   {
    "duration": 15,
    "start_time": "2025-05-31T19:53:20.208Z"
   },
   {
    "duration": 10,
    "start_time": "2025-05-31T19:53:46.104Z"
   },
   {
    "duration": 8,
    "start_time": "2025-05-31T19:55:43.438Z"
   },
   {
    "duration": 7,
    "start_time": "2025-05-31T19:55:58.245Z"
   },
   {
    "duration": 78,
    "start_time": "2025-05-31T19:57:58.578Z"
   },
   {
    "duration": 12,
    "start_time": "2025-05-31T19:58:33.487Z"
   },
   {
    "duration": 7,
    "start_time": "2025-05-31T19:58:40.184Z"
   },
   {
    "duration": 8,
    "start_time": "2025-05-31T19:58:54.497Z"
   },
   {
    "duration": 12,
    "start_time": "2025-05-31T19:59:16.733Z"
   },
   {
    "duration": 7,
    "start_time": "2025-05-31T19:59:22.804Z"
   },
   {
    "duration": 8,
    "start_time": "2025-05-31T19:59:23.477Z"
   },
   {
    "duration": 9,
    "start_time": "2025-05-31T20:00:34.016Z"
   },
   {
    "duration": 9,
    "start_time": "2025-05-31T20:04:13.506Z"
   },
   {
    "duration": 248,
    "start_time": "2025-05-31T20:04:50.628Z"
   },
   {
    "duration": 101,
    "start_time": "2025-05-31T20:13:45.873Z"
   },
   {
    "duration": 97,
    "start_time": "2025-05-31T20:14:02.450Z"
   },
   {
    "duration": 105,
    "start_time": "2025-05-31T20:14:58.984Z"
   },
   {
    "duration": 13,
    "start_time": "2025-05-31T20:20:10.112Z"
   },
   {
    "duration": 195,
    "start_time": "2025-05-31T20:20:50.195Z"
   },
   {
    "duration": 16,
    "start_time": "2025-05-31T20:21:46.754Z"
   },
   {
    "duration": 192,
    "start_time": "2025-05-31T20:22:03.730Z"
   },
   {
    "duration": 179,
    "start_time": "2025-05-31T20:22:51.975Z"
   },
   {
    "duration": 177,
    "start_time": "2025-05-31T20:23:15.420Z"
   },
   {
    "duration": 325,
    "start_time": "2025-05-31T20:24:15.515Z"
   },
   {
    "duration": 176,
    "start_time": "2025-05-31T20:24:36.781Z"
   },
   {
    "duration": 18,
    "start_time": "2025-05-31T20:28:59.100Z"
   },
   {
    "duration": 433,
    "start_time": "2025-05-31T20:29:10.091Z"
   }
  ],
  "colab": {
   "provenance": []
  },
  "kernelspec": {
   "display_name": "Python 3 (ipykernel)",
   "language": "python",
   "name": "python3"
  },
  "language_info": {
   "codemirror_mode": {
    "name": "ipython",
    "version": 3
   },
   "file_extension": ".py",
   "mimetype": "text/x-python",
   "name": "python",
   "nbconvert_exporter": "python",
   "pygments_lexer": "ipython3",
   "version": "3.9.5"
  },
  "toc": {
   "base_numbering": 1,
   "nav_menu": {},
   "number_sections": true,
   "sideBar": true,
   "skip_h1_title": true,
   "title_cell": "Table of Contents",
   "title_sidebar": "Contents",
   "toc_cell": false,
   "toc_position": {},
   "toc_section_display": true,
   "toc_window_display": false
  }
 },
 "nbformat": 4,
 "nbformat_minor": 5
}

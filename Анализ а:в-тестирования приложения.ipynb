{
 "cells": [
  {
   "cell_type": "markdown",
   "metadata": {
    "id": "u98L9TgH0eMk"
   },
   "source": [
    "# Разработка A/B-тестирования и анализ результатов\n",
    "\n",
    "Вы работаете продуктовым аналитиком в компании, которая разрабатывает развлекательное приложение с функцией «бесконечной» ленты, как, например, в приложениях с короткими видео. В вашем приложении существует две модели монетизации: первая — ежемесячная платная подписка, которая позволяет пользователям смотреть ленту без рекламы, вторая — демонстрация рекламы для пользователей, которые ещё не оформили подписку.\n",
    "\n",
    "Команда разработчиков рекомендательных систем создала новый алгоритм рекомендаций, который, по их мнению, будет показывать более интересный контент для каждого пользователя. Вас, как аналитика, просят помочь рассчитать параметры A/B-теста, который позволит проверить эту гипотезу, и проанализировать его результаты."
   ]
  },
  {
   "cell_type": "markdown",
   "metadata": {
    "id": "LJBRALHs0eMf"
   },
   "source": [
    "## Описание данных\n",
    "\n",
    "Вы будете работать с тремя таблицами:\n",
    "\n",
    "- `sessions_project_history.csv` — таблица с историческими данными по сессиям пользователей на период с 2025-08-11 по 2025-09-23. Путь к файлу: `/datasets/sessions_project_history.csv`.\n",
    "\n",
    "- `sessions_project_test_part.csv` — таблица с данными за первый день проведения A/B-теста, то есть за 2025-10-14. Путь к файлу: `/datasets/sessions_project_test_part.csv`.\n",
    "\n",
    "- `sessions_project_test.csv` — таблица с данными за весь период проведения A/B-теста, то есть с 2025-10-14 по 2025-11-02. Путь к файлу: `/datasets/sessions_project_test.csv`.\n",
    "\n",
    "У этих таблиц почти совпадает структура и содержание колонок, различаются лишь периоды наблюдения.\n",
    "\n",
    "Поля таблиц `sessions_project_history.csv`, `sessions_project_test.csv`, `sessions_project_test_part.csv`:\n",
    "\n",
    "- `user_id` — идентификатор пользователя;\n",
    "\n",
    "- `session_id` — идентификатор сессии в приложении;\n",
    "\n",
    "- `session_date` — дата сессии;\n",
    "\n",
    "- `session_start_ts` — дата и время начала сессии;\n",
    "\n",
    "- `install_date` — дата установки приложения;\n",
    "\n",
    "- `session_number` — порядковый номер сессии для конкретного пользователя;\n",
    "\n",
    "- `registration_flag` — является ли пользователь зарегистрированным;\n",
    "\n",
    "- `page_counter` — количество просмотренных страниц во время сессии;\n",
    "\n",
    "- `region` — регион пользователя;\n",
    "\n",
    "- `device` — тип устройства пользователя;\n",
    "\n",
    "- `test_group` — тестовая группа (в таблице с историческими данными этого столбца нет).\n",
    "\n",
    "\n",
    "## Что нужно сделать\n",
    "Ваши задачи: рассчитать параметры теста, оценить корректность его проведения и проанализировать результаты эксперимента."
   ]
  },
  {
   "cell_type": "markdown",
   "metadata": {
    "id": "UpOucjID0eMl"
   },
   "source": [
    "### 1. Работа с историческими данными (EDA)"
   ]
  },
  {
   "cell_type": "markdown",
   "metadata": {
    "id": "8iJMtL-30eMl"
   },
   "source": [
    "#### 1.1. Загрузка исторических данных\n",
    "На первом этапе поработайте с историческими данными приложения:\n",
    "\n",
    "- Импортируйте библиотеку pandas.\n",
    "\n",
    "- Считайте и сохраните в датафрейм `sessions_history` CSV-файл с историческими данными о сессиях пользователей `sessions_project_history.csv`.\n",
    "\n",
    "Выведите на экран первые пять строк полученного датафрейма."
   ]
  },
  {
   "cell_type": "code",
   "execution_count": 1,
   "metadata": {
    "id": "6TPR2-1RPboT"
   },
   "outputs": [
    {
     "data": {
      "text/html": [
       "<div>\n",
       "<style scoped>\n",
       "    .dataframe tbody tr th:only-of-type {\n",
       "        vertical-align: middle;\n",
       "    }\n",
       "\n",
       "    .dataframe tbody tr th {\n",
       "        vertical-align: top;\n",
       "    }\n",
       "\n",
       "    .dataframe thead th {\n",
       "        text-align: right;\n",
       "    }\n",
       "</style>\n",
       "<table border=\"1\" class=\"dataframe\">\n",
       "  <thead>\n",
       "    <tr style=\"text-align: right;\">\n",
       "      <th></th>\n",
       "      <th>user_id</th>\n",
       "      <th>session_id</th>\n",
       "      <th>session_date</th>\n",
       "      <th>session_start_ts</th>\n",
       "      <th>install_date</th>\n",
       "      <th>session_number</th>\n",
       "      <th>registration_flag</th>\n",
       "      <th>page_counter</th>\n",
       "      <th>region</th>\n",
       "      <th>device</th>\n",
       "    </tr>\n",
       "  </thead>\n",
       "  <tbody>\n",
       "    <tr>\n",
       "      <th>0</th>\n",
       "      <td>E302123B7000BFE4</td>\n",
       "      <td>F9AF61A0C2023832</td>\n",
       "      <td>2025-08-15</td>\n",
       "      <td>2025-08-15 17:47:35</td>\n",
       "      <td>2025-08-15</td>\n",
       "      <td>1</td>\n",
       "      <td>0</td>\n",
       "      <td>3</td>\n",
       "      <td>CIS</td>\n",
       "      <td>iPhone</td>\n",
       "    </tr>\n",
       "    <tr>\n",
       "      <th>1</th>\n",
       "      <td>2530F72E221829FB</td>\n",
       "      <td>85003A206CBDAC6F</td>\n",
       "      <td>2025-08-15</td>\n",
       "      <td>2025-08-15 16:42:14</td>\n",
       "      <td>2025-08-15</td>\n",
       "      <td>1</td>\n",
       "      <td>0</td>\n",
       "      <td>4</td>\n",
       "      <td>MENA</td>\n",
       "      <td>Android</td>\n",
       "    </tr>\n",
       "    <tr>\n",
       "      <th>2</th>\n",
       "      <td>876E020A4FC512F5</td>\n",
       "      <td>3677423E49D72DEE</td>\n",
       "      <td>2025-08-15</td>\n",
       "      <td>2025-08-15 12:30:00</td>\n",
       "      <td>2025-08-15</td>\n",
       "      <td>1</td>\n",
       "      <td>0</td>\n",
       "      <td>4</td>\n",
       "      <td>EU</td>\n",
       "      <td>PC</td>\n",
       "    </tr>\n",
       "    <tr>\n",
       "      <th>3</th>\n",
       "      <td>2640B349E1D81584</td>\n",
       "      <td>956B45F5915CA225</td>\n",
       "      <td>2025-08-15</td>\n",
       "      <td>2025-08-15 15:31:31</td>\n",
       "      <td>2025-08-15</td>\n",
       "      <td>1</td>\n",
       "      <td>0</td>\n",
       "      <td>4</td>\n",
       "      <td>CIS</td>\n",
       "      <td>Android</td>\n",
       "    </tr>\n",
       "    <tr>\n",
       "      <th>4</th>\n",
       "      <td>94E1CBFAEF1F5EE9</td>\n",
       "      <td>83BF0DA35F9F1F40</td>\n",
       "      <td>2025-08-15</td>\n",
       "      <td>2025-08-15 21:33:53</td>\n",
       "      <td>2025-08-15</td>\n",
       "      <td>1</td>\n",
       "      <td>0</td>\n",
       "      <td>3</td>\n",
       "      <td>CIS</td>\n",
       "      <td>Android</td>\n",
       "    </tr>\n",
       "  </tbody>\n",
       "</table>\n",
       "</div>"
      ],
      "text/plain": [
       "            user_id        session_id session_date     session_start_ts  \\\n",
       "0  E302123B7000BFE4  F9AF61A0C2023832   2025-08-15  2025-08-15 17:47:35   \n",
       "1  2530F72E221829FB  85003A206CBDAC6F   2025-08-15  2025-08-15 16:42:14   \n",
       "2  876E020A4FC512F5  3677423E49D72DEE   2025-08-15  2025-08-15 12:30:00   \n",
       "3  2640B349E1D81584  956B45F5915CA225   2025-08-15  2025-08-15 15:31:31   \n",
       "4  94E1CBFAEF1F5EE9  83BF0DA35F9F1F40   2025-08-15  2025-08-15 21:33:53   \n",
       "\n",
       "  install_date  session_number  registration_flag  page_counter region  \\\n",
       "0   2025-08-15               1                  0             3    CIS   \n",
       "1   2025-08-15               1                  0             4   MENA   \n",
       "2   2025-08-15               1                  0             4     EU   \n",
       "3   2025-08-15               1                  0             4    CIS   \n",
       "4   2025-08-15               1                  0             3    CIS   \n",
       "\n",
       "    device  \n",
       "0   iPhone  \n",
       "1  Android  \n",
       "2       PC  \n",
       "3  Android  \n",
       "4  Android  "
      ]
     },
     "execution_count": 1,
     "metadata": {},
     "output_type": "execute_result"
    }
   ],
   "source": [
    "# Импортируем библиотеки\n",
    "import pandas as pd\n",
    "import matplotlib.pyplot as plt\n",
    "from scipy.stats import ttest_ind\n",
    "from statsmodels.stats.proportion import proportions_ztest\n",
    "\n",
    "# Выгружаем данные в переменную df\n",
    "sessions_history = pd.read_csv('/datasets/sessions_project_history.csv')\n",
    "\n",
    "# Выводим первые строки датафрейма на экран\n",
    "sessions_history.head()"
   ]
  },
  {
   "cell_type": "code",
   "execution_count": 2,
   "metadata": {},
   "outputs": [
    {
     "name": "stdout",
     "output_type": "stream",
     "text": [
      "<class 'pandas.core.frame.DataFrame'>\n",
      "RangeIndex: 435924 entries, 0 to 435923\n",
      "Data columns (total 10 columns):\n",
      " #   Column             Non-Null Count   Dtype \n",
      "---  ------             --------------   ----- \n",
      " 0   user_id            435924 non-null  object\n",
      " 1   session_id         435924 non-null  object\n",
      " 2   session_date       435924 non-null  object\n",
      " 3   session_start_ts   435924 non-null  object\n",
      " 4   install_date       435924 non-null  object\n",
      " 5   session_number     435924 non-null  int64 \n",
      " 6   registration_flag  435924 non-null  int64 \n",
      " 7   page_counter       435924 non-null  int64 \n",
      " 8   region             435924 non-null  object\n",
      " 9   device             435924 non-null  object\n",
      "dtypes: int64(3), object(7)\n",
      "memory usage: 33.3+ MB\n"
     ]
    }
   ],
   "source": [
    "# Выводим информацию о датафрейме\n",
    "sessions_history.info()"
   ]
  },
  {
   "cell_type": "markdown",
   "metadata": {},
   "source": [
    "Видим, что пропусков в датафрейме нет"
   ]
  },
  {
   "cell_type": "markdown",
   "metadata": {
    "id": "qTDoiODz0eMo"
   },
   "source": [
    "#### 1.2. Знакомство с данными\n",
    "- Для каждого уникального пользователя `user_id` рассчитайте количество уникальных сессий `session_id`.\n",
    "\n",
    "- Выведите на экран все данные из таблицы `sessions_history` для одного пользователя с наибольшим количеством сессий. Если таких пользователей несколько, выберите любого из них.\n",
    "\n",
    "- Изучите таблицу для одного пользователя, чтобы лучше понять логику формирования каждого столбца данных.\n",
    "\n"
   ]
  },
  {
   "cell_type": "code",
   "execution_count": 3,
   "metadata": {},
   "outputs": [
    {
     "data": {
      "text/plain": [
       "user_id\n",
       "00005FB6A13A6FBE    2\n",
       "0000B15A18D77ED9    3\n",
       "0000C4E3A4A571A9    2\n",
       "000293FAF9E67A81    4\n",
       "00029C5AE889A6C3    2\n",
       "                   ..\n",
       "FFFCDE7746148710    4\n",
       "FFFDD413285E753F    3\n",
       "FFFECBA0F2578AB0    2\n",
       "FFFEDB68228B5F21    5\n",
       "FFFF4228DF580C3B    3\n",
       "Name: session_id, Length: 134039, dtype: int64"
      ]
     },
     "execution_count": 3,
     "metadata": {},
     "output_type": "execute_result"
    }
   ],
   "source": [
    "unique_sessions_count = sessions_history.groupby('user_id')['session_id'].nunique()\n",
    "unique_sessions_count"
   ]
  },
  {
   "cell_type": "code",
   "execution_count": 4,
   "metadata": {},
   "outputs": [
    {
     "data": {
      "text/html": [
       "<div>\n",
       "<style scoped>\n",
       "    .dataframe tbody tr th:only-of-type {\n",
       "        vertical-align: middle;\n",
       "    }\n",
       "\n",
       "    .dataframe tbody tr th {\n",
       "        vertical-align: top;\n",
       "    }\n",
       "\n",
       "    .dataframe thead th {\n",
       "        text-align: right;\n",
       "    }\n",
       "</style>\n",
       "<table border=\"1\" class=\"dataframe\">\n",
       "  <thead>\n",
       "    <tr style=\"text-align: right;\">\n",
       "      <th></th>\n",
       "      <th>user_id</th>\n",
       "      <th>session_id</th>\n",
       "      <th>session_date</th>\n",
       "      <th>session_start_ts</th>\n",
       "      <th>install_date</th>\n",
       "      <th>session_number</th>\n",
       "      <th>registration_flag</th>\n",
       "      <th>page_counter</th>\n",
       "      <th>region</th>\n",
       "      <th>device</th>\n",
       "    </tr>\n",
       "  </thead>\n",
       "  <tbody>\n",
       "    <tr>\n",
       "      <th>115558</th>\n",
       "      <td>10E0DEFC1ABDBBE0</td>\n",
       "      <td>B8F0423BBFFCF5DC</td>\n",
       "      <td>2025-08-14</td>\n",
       "      <td>2025-08-14 13:57:39</td>\n",
       "      <td>2025-08-14</td>\n",
       "      <td>1</td>\n",
       "      <td>0</td>\n",
       "      <td>4</td>\n",
       "      <td>CIS</td>\n",
       "      <td>Android</td>\n",
       "    </tr>\n",
       "    <tr>\n",
       "      <th>191751</th>\n",
       "      <td>10E0DEFC1ABDBBE0</td>\n",
       "      <td>87CA2FA549473837</td>\n",
       "      <td>2025-08-15</td>\n",
       "      <td>2025-08-15 16:42:10</td>\n",
       "      <td>2025-08-14</td>\n",
       "      <td>2</td>\n",
       "      <td>0</td>\n",
       "      <td>3</td>\n",
       "      <td>CIS</td>\n",
       "      <td>Android</td>\n",
       "    </tr>\n",
       "    <tr>\n",
       "      <th>239370</th>\n",
       "      <td>10E0DEFC1ABDBBE0</td>\n",
       "      <td>4ADD8011DCDCE318</td>\n",
       "      <td>2025-08-16</td>\n",
       "      <td>2025-08-16 19:53:21</td>\n",
       "      <td>2025-08-14</td>\n",
       "      <td>3</td>\n",
       "      <td>0</td>\n",
       "      <td>3</td>\n",
       "      <td>CIS</td>\n",
       "      <td>Android</td>\n",
       "    </tr>\n",
       "    <tr>\n",
       "      <th>274629</th>\n",
       "      <td>10E0DEFC1ABDBBE0</td>\n",
       "      <td>DF0FD0E09BF1F3D7</td>\n",
       "      <td>2025-08-17</td>\n",
       "      <td>2025-08-17 15:03:43</td>\n",
       "      <td>2025-08-14</td>\n",
       "      <td>4</td>\n",
       "      <td>0</td>\n",
       "      <td>1</td>\n",
       "      <td>CIS</td>\n",
       "      <td>Android</td>\n",
       "    </tr>\n",
       "    <tr>\n",
       "      <th>302501</th>\n",
       "      <td>10E0DEFC1ABDBBE0</td>\n",
       "      <td>3C221774B4DE6885</td>\n",
       "      <td>2025-08-18</td>\n",
       "      <td>2025-08-18 17:29:14</td>\n",
       "      <td>2025-08-14</td>\n",
       "      <td>5</td>\n",
       "      <td>0</td>\n",
       "      <td>4</td>\n",
       "      <td>CIS</td>\n",
       "      <td>Android</td>\n",
       "    </tr>\n",
       "    <tr>\n",
       "      <th>325557</th>\n",
       "      <td>10E0DEFC1ABDBBE0</td>\n",
       "      <td>031BD7A67048105B</td>\n",
       "      <td>2025-08-19</td>\n",
       "      <td>2025-08-19 13:23:55</td>\n",
       "      <td>2025-08-14</td>\n",
       "      <td>6</td>\n",
       "      <td>0</td>\n",
       "      <td>2</td>\n",
       "      <td>CIS</td>\n",
       "      <td>Android</td>\n",
       "    </tr>\n",
       "    <tr>\n",
       "      <th>345336</th>\n",
       "      <td>10E0DEFC1ABDBBE0</td>\n",
       "      <td>FF4315CF4AD4B100</td>\n",
       "      <td>2025-08-20</td>\n",
       "      <td>2025-08-20 19:31:54</td>\n",
       "      <td>2025-08-14</td>\n",
       "      <td>7</td>\n",
       "      <td>0</td>\n",
       "      <td>2</td>\n",
       "      <td>CIS</td>\n",
       "      <td>Android</td>\n",
       "    </tr>\n",
       "    <tr>\n",
       "      <th>377532</th>\n",
       "      <td>10E0DEFC1ABDBBE0</td>\n",
       "      <td>4045FEA0747203B4</td>\n",
       "      <td>2025-08-22</td>\n",
       "      <td>2025-08-22 17:54:13</td>\n",
       "      <td>2025-08-14</td>\n",
       "      <td>8</td>\n",
       "      <td>0</td>\n",
       "      <td>2</td>\n",
       "      <td>CIS</td>\n",
       "      <td>Android</td>\n",
       "    </tr>\n",
       "    <tr>\n",
       "      <th>403538</th>\n",
       "      <td>10E0DEFC1ABDBBE0</td>\n",
       "      <td>344B086C421C7F37</td>\n",
       "      <td>2025-08-24</td>\n",
       "      <td>2025-08-24 14:46:13</td>\n",
       "      <td>2025-08-14</td>\n",
       "      <td>9</td>\n",
       "      <td>0</td>\n",
       "      <td>2</td>\n",
       "      <td>CIS</td>\n",
       "      <td>Android</td>\n",
       "    </tr>\n",
       "    <tr>\n",
       "      <th>414743</th>\n",
       "      <td>10E0DEFC1ABDBBE0</td>\n",
       "      <td>054F20BA371E4C9D</td>\n",
       "      <td>2025-08-25</td>\n",
       "      <td>2025-08-25 18:36:41</td>\n",
       "      <td>2025-08-14</td>\n",
       "      <td>10</td>\n",
       "      <td>0</td>\n",
       "      <td>3</td>\n",
       "      <td>CIS</td>\n",
       "      <td>Android</td>\n",
       "    </tr>\n",
       "  </tbody>\n",
       "</table>\n",
       "</div>"
      ],
      "text/plain": [
       "                 user_id        session_id session_date     session_start_ts  \\\n",
       "115558  10E0DEFC1ABDBBE0  B8F0423BBFFCF5DC   2025-08-14  2025-08-14 13:57:39   \n",
       "191751  10E0DEFC1ABDBBE0  87CA2FA549473837   2025-08-15  2025-08-15 16:42:10   \n",
       "239370  10E0DEFC1ABDBBE0  4ADD8011DCDCE318   2025-08-16  2025-08-16 19:53:21   \n",
       "274629  10E0DEFC1ABDBBE0  DF0FD0E09BF1F3D7   2025-08-17  2025-08-17 15:03:43   \n",
       "302501  10E0DEFC1ABDBBE0  3C221774B4DE6885   2025-08-18  2025-08-18 17:29:14   \n",
       "325557  10E0DEFC1ABDBBE0  031BD7A67048105B   2025-08-19  2025-08-19 13:23:55   \n",
       "345336  10E0DEFC1ABDBBE0  FF4315CF4AD4B100   2025-08-20  2025-08-20 19:31:54   \n",
       "377532  10E0DEFC1ABDBBE0  4045FEA0747203B4   2025-08-22  2025-08-22 17:54:13   \n",
       "403538  10E0DEFC1ABDBBE0  344B086C421C7F37   2025-08-24  2025-08-24 14:46:13   \n",
       "414743  10E0DEFC1ABDBBE0  054F20BA371E4C9D   2025-08-25  2025-08-25 18:36:41   \n",
       "\n",
       "       install_date  session_number  registration_flag  page_counter region  \\\n",
       "115558   2025-08-14               1                  0             4    CIS   \n",
       "191751   2025-08-14               2                  0             3    CIS   \n",
       "239370   2025-08-14               3                  0             3    CIS   \n",
       "274629   2025-08-14               4                  0             1    CIS   \n",
       "302501   2025-08-14               5                  0             4    CIS   \n",
       "325557   2025-08-14               6                  0             2    CIS   \n",
       "345336   2025-08-14               7                  0             2    CIS   \n",
       "377532   2025-08-14               8                  0             2    CIS   \n",
       "403538   2025-08-14               9                  0             2    CIS   \n",
       "414743   2025-08-14              10                  0             3    CIS   \n",
       "\n",
       "         device  \n",
       "115558  Android  \n",
       "191751  Android  \n",
       "239370  Android  \n",
       "274629  Android  \n",
       "302501  Android  \n",
       "325557  Android  \n",
       "345336  Android  \n",
       "377532  Android  \n",
       "403538  Android  \n",
       "414743  Android  "
      ]
     },
     "execution_count": 4,
     "metadata": {},
     "output_type": "execute_result"
    }
   ],
   "source": [
    "# Нахождение пользователя с максимальным количеством сессий\n",
    "user_with_max_sessions = unique_sessions_count.idxmax()\n",
    "\n",
    "# Выборка всех данных для этого пользователя\n",
    "user_data = sessions_history[sessions_history['user_id'] == user_with_max_sessions]\n",
    "\n",
    "# Вывод данных на экран\n",
    "user_data"
   ]
  },
  {
   "cell_type": "markdown",
   "metadata": {
    "id": "CmcGpJTP0eMq"
   },
   "source": [
    "#### 1.3. Анализ числа регистраций\n",
    "Одна из важнейших метрик продукта — число зарегистрированных пользователей. Используя исторические данные, визуализируйте, как менялось число регистраций в приложении за время его существования.\n",
    "\n",
    "- Агрегируйте исторические данные и рассчитайте число уникальных пользователей и число зарегистрированных пользователей для каждого дня наблюдения. Для простоты считайте, что у пользователя в течение дня бывает одна сессия максимум и статус регистрации в течение одного дня не может измениться.\n",
    "\n",
    "- Постройте линейные графики общего числа пользователей и общего числа зарегистрированных пользователей по дням. Отобразите их на одном графике.\n",
    "\n",
    "- Постройте отдельный линейный график доли зарегистрированных пользователей от всех пользователей по дням.\n",
    "\n",
    "- На обоих графиках должны быть заголовок, подписанные оси X и Y, сетка и легенда."
   ]
  },
  {
   "cell_type": "code",
   "execution_count": 5,
   "metadata": {
    "id": "tN_6Ml3EPatS"
   },
   "outputs": [
    {
     "data": {
      "text/html": [
       "<div>\n",
       "<style scoped>\n",
       "    .dataframe tbody tr th:only-of-type {\n",
       "        vertical-align: middle;\n",
       "    }\n",
       "\n",
       "    .dataframe tbody tr th {\n",
       "        vertical-align: top;\n",
       "    }\n",
       "\n",
       "    .dataframe thead th {\n",
       "        text-align: right;\n",
       "    }\n",
       "</style>\n",
       "<table border=\"1\" class=\"dataframe\">\n",
       "  <thead>\n",
       "    <tr style=\"text-align: right;\">\n",
       "      <th></th>\n",
       "      <th>user_id</th>\n",
       "      <th>registration_flag</th>\n",
       "    </tr>\n",
       "    <tr>\n",
       "      <th>session_date</th>\n",
       "      <th></th>\n",
       "      <th></th>\n",
       "    </tr>\n",
       "  </thead>\n",
       "  <tbody>\n",
       "    <tr>\n",
       "      <th>2025-08-11</th>\n",
       "      <td>3919</td>\n",
       "      <td>169</td>\n",
       "    </tr>\n",
       "    <tr>\n",
       "      <th>2025-08-12</th>\n",
       "      <td>6056</td>\n",
       "      <td>336</td>\n",
       "    </tr>\n",
       "    <tr>\n",
       "      <th>2025-08-13</th>\n",
       "      <td>8489</td>\n",
       "      <td>464</td>\n",
       "    </tr>\n",
       "    <tr>\n",
       "      <th>2025-08-14</th>\n",
       "      <td>10321</td>\n",
       "      <td>625</td>\n",
       "    </tr>\n",
       "    <tr>\n",
       "      <th>2025-08-15</th>\n",
       "      <td>14065</td>\n",
       "      <td>840</td>\n",
       "    </tr>\n",
       "  </tbody>\n",
       "</table>\n",
       "</div>"
      ],
      "text/plain": [
       "              user_id  registration_flag\n",
       "session_date                            \n",
       "2025-08-11       3919                169\n",
       "2025-08-12       6056                336\n",
       "2025-08-13       8489                464\n",
       "2025-08-14      10321                625\n",
       "2025-08-15      14065                840"
      ]
     },
     "metadata": {},
     "output_type": "display_data"
    }
   ],
   "source": [
    "aggregation = sessions_history.groupby('session_date').agg({'user_id' : 'count','registration_flag' : 'sum'})\n",
    "display(aggregation.head(5))"
   ]
  },
  {
   "cell_type": "code",
   "execution_count": 6,
   "metadata": {},
   "outputs": [
    {
     "data": {
      "image/png": "[encoded data removed]",
      "text/plain": [
       "<Figure size 864x576 with 1 Axes>"
      ]
     },
     "metadata": {
      "needs_background": "light"
     },
     "output_type": "display_data"
    }
   ],
   "source": [
    "# Строим линейный график\n",
    "aggregation.plot(\n",
    "    kind= 'line',\n",
    "    marker = 'o',\n",
    "    figsize=(12,8)\n",
    ")\n",
    "\n",
    "plt.title('Общее количество пользователей и количество зарегистированных пользователей')\n",
    "plt.ylabel('Количество пользователей')\n",
    "plt.xlabel('Дата сессии')\n",
    "plt.grid()\n",
    "\n",
    "\n",
    "plt.show()"
   ]
  },
  {
   "cell_type": "code",
   "execution_count": 7,
   "metadata": {},
   "outputs": [
    {
     "data": {
      "text/plain": [
       "session_date\n",
       "2025-08-11    0.043\n",
       "2025-08-12    0.055\n",
       "2025-08-13    0.055\n",
       "2025-08-14    0.061\n",
       "2025-08-15    0.060\n",
       "dtype: float64"
      ]
     },
     "metadata": {},
     "output_type": "display_data"
    }
   ],
   "source": [
    "# Рассчитаем долю зарегистрированных пользователей от всех пользователей\n",
    "reg_share =round(aggregation['registration_flag']/aggregation['user_id'] , 3) \n",
    "display(reg_share.head(5))"
   ]
  },
  {
   "cell_type": "code",
   "execution_count": 8,
   "metadata": {},
   "outputs": [
    {
     "data": {
      "image/png": "[encoded data removed]",
      "text/plain": [
       "<Figure size 864x576 with 1 Axes>"
      ]
     },
     "metadata": {
      "needs_background": "light"
     },
     "output_type": "display_data"
    }
   ],
   "source": [
    "# Строим линейный график доли зарегистрированных пользователей от всех пользователей\n",
    "diag_reg_users = reg_share.plot(\n",
    "    kind = 'line',\n",
    "    x = 'reg_share',\n",
    "    marker = 'o',\n",
    "    figsize=(12,8),\n",
    "    color = 'red'\n",
    "    \n",
    ")\n",
    "diag_reg_users.legend(['Доля зарегистрированных пользователей'])\n",
    "plt.title('Доля зарегистрированных пользователей от всех пользователей по дням')\n",
    "plt.ylabel('Доля пользователей')\n",
    "plt.xlabel('Дата')\n",
    "plt.grid()\n",
    "plt.show()"
   ]
  },
  {
   "cell_type": "markdown",
   "metadata": {},
   "source": [
    "Видим, что доля зарегистрированных пользовтелей по отношению к общему числу пользователей не первышает 12.5%"
   ]
  },
  {
   "cell_type": "markdown",
   "metadata": {
    "id": "UR7D7RhF0eMr"
   },
   "source": [
    "#### 1.4. Анализ числа просмотренных страниц\n",
    "Другая важная метрика продукта — число просмотренных страниц в приложении. Чем больше страниц просмотрено, тем сильнее пользователь увлечён контентом, а значит, выше шансы, что он зарегистрируется и оплатит подписку.\n",
    "\n",
    "- Найдите количество сессий для каждого значения количества просмотренных страниц. Например: одну страницу просмотрели в 29 160 сессиях, две страницы — в 105 536 сессиях и так далее.\n",
    "\n",
    "- Постройте столбчатую диаграмму, где по оси X будет число просмотренных страниц, по оси Y — количество сессий.\n",
    "\n",
    "- На диаграмме должны быть заголовок, подписанные оси X и Y."
   ]
  },
  {
   "cell_type": "code",
   "execution_count": 9,
   "metadata": {
    "id": "cb6hPlVzPaSf"
   },
   "outputs": [
    {
     "data": {
      "text/html": [
       "<div>\n",
       "<style scoped>\n",
       "    .dataframe tbody tr th:only-of-type {\n",
       "        vertical-align: middle;\n",
       "    }\n",
       "\n",
       "    .dataframe tbody tr th {\n",
       "        vertical-align: top;\n",
       "    }\n",
       "\n",
       "    .dataframe thead th {\n",
       "        text-align: right;\n",
       "    }\n",
       "</style>\n",
       "<table border=\"1\" class=\"dataframe\">\n",
       "  <thead>\n",
       "    <tr style=\"text-align: right;\">\n",
       "      <th></th>\n",
       "      <th>user_id</th>\n",
       "      <th>session_id</th>\n",
       "      <th>session_date</th>\n",
       "      <th>session_start_ts</th>\n",
       "      <th>install_date</th>\n",
       "      <th>session_number</th>\n",
       "      <th>registration_flag</th>\n",
       "      <th>page_counter</th>\n",
       "      <th>region</th>\n",
       "      <th>device</th>\n",
       "    </tr>\n",
       "  </thead>\n",
       "  <tbody>\n",
       "    <tr>\n",
       "      <th>0</th>\n",
       "      <td>E302123B7000BFE4</td>\n",
       "      <td>F9AF61A0C2023832</td>\n",
       "      <td>2025-08-15</td>\n",
       "      <td>2025-08-15 17:47:35</td>\n",
       "      <td>2025-08-15</td>\n",
       "      <td>1</td>\n",
       "      <td>0</td>\n",
       "      <td>3</td>\n",
       "      <td>CIS</td>\n",
       "      <td>iPhone</td>\n",
       "    </tr>\n",
       "    <tr>\n",
       "      <th>1</th>\n",
       "      <td>2530F72E221829FB</td>\n",
       "      <td>85003A206CBDAC6F</td>\n",
       "      <td>2025-08-15</td>\n",
       "      <td>2025-08-15 16:42:14</td>\n",
       "      <td>2025-08-15</td>\n",
       "      <td>1</td>\n",
       "      <td>0</td>\n",
       "      <td>4</td>\n",
       "      <td>MENA</td>\n",
       "      <td>Android</td>\n",
       "    </tr>\n",
       "    <tr>\n",
       "      <th>2</th>\n",
       "      <td>876E020A4FC512F5</td>\n",
       "      <td>3677423E49D72DEE</td>\n",
       "      <td>2025-08-15</td>\n",
       "      <td>2025-08-15 12:30:00</td>\n",
       "      <td>2025-08-15</td>\n",
       "      <td>1</td>\n",
       "      <td>0</td>\n",
       "      <td>4</td>\n",
       "      <td>EU</td>\n",
       "      <td>PC</td>\n",
       "    </tr>\n",
       "    <tr>\n",
       "      <th>3</th>\n",
       "      <td>2640B349E1D81584</td>\n",
       "      <td>956B45F5915CA225</td>\n",
       "      <td>2025-08-15</td>\n",
       "      <td>2025-08-15 15:31:31</td>\n",
       "      <td>2025-08-15</td>\n",
       "      <td>1</td>\n",
       "      <td>0</td>\n",
       "      <td>4</td>\n",
       "      <td>CIS</td>\n",
       "      <td>Android</td>\n",
       "    </tr>\n",
       "    <tr>\n",
       "      <th>4</th>\n",
       "      <td>94E1CBFAEF1F5EE9</td>\n",
       "      <td>83BF0DA35F9F1F40</td>\n",
       "      <td>2025-08-15</td>\n",
       "      <td>2025-08-15 21:33:53</td>\n",
       "      <td>2025-08-15</td>\n",
       "      <td>1</td>\n",
       "      <td>0</td>\n",
       "      <td>3</td>\n",
       "      <td>CIS</td>\n",
       "      <td>Android</td>\n",
       "    </tr>\n",
       "  </tbody>\n",
       "</table>\n",
       "</div>"
      ],
      "text/plain": [
       "            user_id        session_id session_date     session_start_ts  \\\n",
       "0  E302123B7000BFE4  F9AF61A0C2023832   2025-08-15  2025-08-15 17:47:35   \n",
       "1  2530F72E221829FB  85003A206CBDAC6F   2025-08-15  2025-08-15 16:42:14   \n",
       "2  876E020A4FC512F5  3677423E49D72DEE   2025-08-15  2025-08-15 12:30:00   \n",
       "3  2640B349E1D81584  956B45F5915CA225   2025-08-15  2025-08-15 15:31:31   \n",
       "4  94E1CBFAEF1F5EE9  83BF0DA35F9F1F40   2025-08-15  2025-08-15 21:33:53   \n",
       "\n",
       "  install_date  session_number  registration_flag  page_counter region  \\\n",
       "0   2025-08-15               1                  0             3    CIS   \n",
       "1   2025-08-15               1                  0             4   MENA   \n",
       "2   2025-08-15               1                  0             4     EU   \n",
       "3   2025-08-15               1                  0             4    CIS   \n",
       "4   2025-08-15               1                  0             3    CIS   \n",
       "\n",
       "    device  \n",
       "0   iPhone  \n",
       "1  Android  \n",
       "2       PC  \n",
       "3  Android  \n",
       "4  Android  "
      ]
     },
     "execution_count": 9,
     "metadata": {},
     "output_type": "execute_result"
    }
   ],
   "source": [
    "# Выводим первые 5 строк датафрейма\n",
    "sessions_history.head(5)"
   ]
  },
  {
   "cell_type": "code",
   "execution_count": 10,
   "metadata": {},
   "outputs": [
    {
     "data": {
      "text/plain": [
       "page_counter\n",
       "1     29160\n",
       "2    105536\n",
       "3    166690\n",
       "4    105569\n",
       "5     26288\n",
       "6      2589\n",
       "7        92\n",
       "Name: session_id, dtype: int64"
      ]
     },
     "metadata": {},
     "output_type": "display_data"
    }
   ],
   "source": [
    "# Найдем количество сессий по количеству просмотренных страниц\n",
    "pages_in_sessions = sessions_history.groupby('page_counter')['session_id'].count()\n",
    "display(pages_in_sessions)"
   ]
  },
  {
   "cell_type": "code",
   "execution_count": 11,
   "metadata": {
    "scrolled": false
   },
   "outputs": [
    {
     "data": {
      "image/png": "[encoded data removed]",
      "text/plain": [
       "<Figure size 864x576 with 1 Axes>"
      ]
     },
     "metadata": {
      "needs_background": "light"
     },
     "output_type": "display_data"
    }
   ],
   "source": [
    "# Построим столбчатую диаграмму количества сессий для просмотренных страниц\n",
    "diag_count_pages = pages_in_sessions.plot(kind = 'bar',\n",
    "                      x = 'page_counter',\n",
    "                      figsize = (12,8),\n",
    "                      rot = 0,\n",
    "                      color = 'blue'\n",
    "                      )\n",
    "plt.xlabel('Количество страниц в сессии')\n",
    "plt.ylabel('Количество сессий')\n",
    "diag_count_pages.legend(['Количество сессий'])\n",
    "plt.grid()\n",
    "plt.title('Число просмотренных страниц в рамках одной сессии')\n",
    "plt.show()"
   ]
  },
  {
   "cell_type": "markdown",
   "metadata": {},
   "source": [
    "Можем сделать вывод, что распределение нормальное"
   ]
  },
  {
   "cell_type": "markdown",
   "metadata": {
    "id": "xDltSpVP0eMr"
   },
   "source": [
    "#### 1.5. Доля пользователей, просмотревших более четырёх страниц\n",
    "Продуктовая команда продукта считает, что сессии, в рамках которых пользователь просмотрел 4 и более страниц, говорят об удовлетворённости контентом и алгоритмами рекомендаций. Этот показатель является важной прокси-метрикой для продукта.\n",
    "\n",
    "- В датафрейме `sessions_history` создайте дополнительный столбец `good_session`. В него войдёт значение `1`, если за одну сессию было просмотрено 4 и более страниц, и значение `0`, если было просмотрено меньше.\n",
    "\n",
    "- Постройте график со средним значением доли успешных сессий от всех сессий по дням за весь период наблюдения."
   ]
  },
  {
   "cell_type": "code",
   "execution_count": 12,
   "metadata": {
    "id": "iygaPfixPYMW"
   },
   "outputs": [
    {
     "data": {
      "text/html": [
       "<div>\n",
       "<style scoped>\n",
       "    .dataframe tbody tr th:only-of-type {\n",
       "        vertical-align: middle;\n",
       "    }\n",
       "\n",
       "    .dataframe tbody tr th {\n",
       "        vertical-align: top;\n",
       "    }\n",
       "\n",
       "    .dataframe thead th {\n",
       "        text-align: right;\n",
       "    }\n",
       "</style>\n",
       "<table border=\"1\" class=\"dataframe\">\n",
       "  <thead>\n",
       "    <tr style=\"text-align: right;\">\n",
       "      <th></th>\n",
       "      <th>user_id</th>\n",
       "      <th>session_id</th>\n",
       "      <th>session_date</th>\n",
       "      <th>session_start_ts</th>\n",
       "      <th>install_date</th>\n",
       "      <th>session_number</th>\n",
       "      <th>registration_flag</th>\n",
       "      <th>page_counter</th>\n",
       "      <th>region</th>\n",
       "      <th>device</th>\n",
       "      <th>good_session</th>\n",
       "    </tr>\n",
       "  </thead>\n",
       "  <tbody>\n",
       "    <tr>\n",
       "      <th>0</th>\n",
       "      <td>E302123B7000BFE4</td>\n",
       "      <td>F9AF61A0C2023832</td>\n",
       "      <td>2025-08-15</td>\n",
       "      <td>2025-08-15 17:47:35</td>\n",
       "      <td>2025-08-15</td>\n",
       "      <td>1</td>\n",
       "      <td>0</td>\n",
       "      <td>3</td>\n",
       "      <td>CIS</td>\n",
       "      <td>iPhone</td>\n",
       "      <td>0</td>\n",
       "    </tr>\n",
       "    <tr>\n",
       "      <th>1</th>\n",
       "      <td>2530F72E221829FB</td>\n",
       "      <td>85003A206CBDAC6F</td>\n",
       "      <td>2025-08-15</td>\n",
       "      <td>2025-08-15 16:42:14</td>\n",
       "      <td>2025-08-15</td>\n",
       "      <td>1</td>\n",
       "      <td>0</td>\n",
       "      <td>4</td>\n",
       "      <td>MENA</td>\n",
       "      <td>Android</td>\n",
       "      <td>1</td>\n",
       "    </tr>\n",
       "    <tr>\n",
       "      <th>2</th>\n",
       "      <td>876E020A4FC512F5</td>\n",
       "      <td>3677423E49D72DEE</td>\n",
       "      <td>2025-08-15</td>\n",
       "      <td>2025-08-15 12:30:00</td>\n",
       "      <td>2025-08-15</td>\n",
       "      <td>1</td>\n",
       "      <td>0</td>\n",
       "      <td>4</td>\n",
       "      <td>EU</td>\n",
       "      <td>PC</td>\n",
       "      <td>1</td>\n",
       "    </tr>\n",
       "    <tr>\n",
       "      <th>3</th>\n",
       "      <td>2640B349E1D81584</td>\n",
       "      <td>956B45F5915CA225</td>\n",
       "      <td>2025-08-15</td>\n",
       "      <td>2025-08-15 15:31:31</td>\n",
       "      <td>2025-08-15</td>\n",
       "      <td>1</td>\n",
       "      <td>0</td>\n",
       "      <td>4</td>\n",
       "      <td>CIS</td>\n",
       "      <td>Android</td>\n",
       "      <td>1</td>\n",
       "    </tr>\n",
       "    <tr>\n",
       "      <th>4</th>\n",
       "      <td>94E1CBFAEF1F5EE9</td>\n",
       "      <td>83BF0DA35F9F1F40</td>\n",
       "      <td>2025-08-15</td>\n",
       "      <td>2025-08-15 21:33:53</td>\n",
       "      <td>2025-08-15</td>\n",
       "      <td>1</td>\n",
       "      <td>0</td>\n",
       "      <td>3</td>\n",
       "      <td>CIS</td>\n",
       "      <td>Android</td>\n",
       "      <td>0</td>\n",
       "    </tr>\n",
       "  </tbody>\n",
       "</table>\n",
       "</div>"
      ],
      "text/plain": [
       "            user_id        session_id session_date     session_start_ts  \\\n",
       "0  E302123B7000BFE4  F9AF61A0C2023832   2025-08-15  2025-08-15 17:47:35   \n",
       "1  2530F72E221829FB  85003A206CBDAC6F   2025-08-15  2025-08-15 16:42:14   \n",
       "2  876E020A4FC512F5  3677423E49D72DEE   2025-08-15  2025-08-15 12:30:00   \n",
       "3  2640B349E1D81584  956B45F5915CA225   2025-08-15  2025-08-15 15:31:31   \n",
       "4  94E1CBFAEF1F5EE9  83BF0DA35F9F1F40   2025-08-15  2025-08-15 21:33:53   \n",
       "\n",
       "  install_date  session_number  registration_flag  page_counter region  \\\n",
       "0   2025-08-15               1                  0             3    CIS   \n",
       "1   2025-08-15               1                  0             4   MENA   \n",
       "2   2025-08-15               1                  0             4     EU   \n",
       "3   2025-08-15               1                  0             4    CIS   \n",
       "4   2025-08-15               1                  0             3    CIS   \n",
       "\n",
       "    device  good_session  \n",
       "0   iPhone             0  \n",
       "1  Android             1  \n",
       "2       PC             1  \n",
       "3  Android             1  \n",
       "4  Android             0  "
      ]
     },
     "metadata": {},
     "output_type": "display_data"
    }
   ],
   "source": [
    "# Добавим столбец good_session\n",
    "sessions_history['good_session'] = sessions_history.apply(lambda row: 1 if row['page_counter'] >= 4 else 0, axis=1)\n",
    "display(sessions_history.head(5))"
   ]
  },
  {
   "cell_type": "code",
   "execution_count": 13,
   "metadata": {},
   "outputs": [
    {
     "data": {
      "text/html": [
       "<div>\n",
       "<style scoped>\n",
       "    .dataframe tbody tr th:only-of-type {\n",
       "        vertical-align: middle;\n",
       "    }\n",
       "\n",
       "    .dataframe tbody tr th {\n",
       "        vertical-align: top;\n",
       "    }\n",
       "\n",
       "    .dataframe thead th {\n",
       "        text-align: right;\n",
       "    }\n",
       "</style>\n",
       "<table border=\"1\" class=\"dataframe\">\n",
       "  <thead>\n",
       "    <tr style=\"text-align: right;\">\n",
       "      <th></th>\n",
       "      <th>session_id</th>\n",
       "      <th>good_session</th>\n",
       "    </tr>\n",
       "    <tr>\n",
       "      <th>session_date</th>\n",
       "      <th></th>\n",
       "      <th></th>\n",
       "    </tr>\n",
       "  </thead>\n",
       "  <tbody>\n",
       "    <tr>\n",
       "      <th>2025-08-11</th>\n",
       "      <td>3919</td>\n",
       "      <td>1226</td>\n",
       "    </tr>\n",
       "    <tr>\n",
       "      <th>2025-08-12</th>\n",
       "      <td>6056</td>\n",
       "      <td>1829</td>\n",
       "    </tr>\n",
       "    <tr>\n",
       "      <th>2025-08-13</th>\n",
       "      <td>8489</td>\n",
       "      <td>2604</td>\n",
       "    </tr>\n",
       "    <tr>\n",
       "      <th>2025-08-14</th>\n",
       "      <td>10321</td>\n",
       "      <td>3262</td>\n",
       "    </tr>\n",
       "    <tr>\n",
       "      <th>2025-08-15</th>\n",
       "      <td>14065</td>\n",
       "      <td>4289</td>\n",
       "    </tr>\n",
       "  </tbody>\n",
       "</table>\n",
       "</div>"
      ],
      "text/plain": [
       "              session_id  good_session\n",
       "session_date                          \n",
       "2025-08-11          3919          1226\n",
       "2025-08-12          6056          1829\n",
       "2025-08-13          8489          2604\n",
       "2025-08-14         10321          3262\n",
       "2025-08-15         14065          4289"
      ]
     },
     "metadata": {},
     "output_type": "display_data"
    }
   ],
   "source": [
    "# Сравним количество успешных сессий по отношению к общему количеству\n",
    "comparison = sessions_history.groupby('session_date').agg({'session_id' : 'count','good_session' : 'sum'})\n",
    "display(comparison.head(5))"
   ]
  },
  {
   "cell_type": "code",
   "execution_count": 14,
   "metadata": {},
   "outputs": [
    {
     "data": {
      "text/plain": [
       "session_date\n",
       "2025-08-11    0.313\n",
       "2025-08-12    0.302\n",
       "2025-08-13    0.307\n",
       "2025-08-14    0.316\n",
       "2025-08-15    0.305\n",
       "dtype: float64"
      ]
     },
     "metadata": {},
     "output_type": "display_data"
    }
   ],
   "source": [
    "# Посчитаем долю хороших функций для каждого дня\n",
    "good_to_all = round(comparison['good_session']/comparison['session_id'] ,3) \n",
    "display(good_to_all.head(5))"
   ]
  },
  {
   "cell_type": "code",
   "execution_count": 15,
   "metadata": {},
   "outputs": [
    {
     "data": {
      "image/png": "[encoded data removed]",
      "text/plain": [
       "<Figure size 864x576 with 1 Axes>"
      ]
     },
     "metadata": {
      "needs_background": "light"
     },
     "output_type": "display_data"
    }
   ],
   "source": [
    "# Построим график с долей успешных сессий для каждого дня\n",
    "diag_good_sessions = good_to_all.plot(kind = 'line',\n",
    "                    x = 'session_date',\n",
    "                    figsize = (12,8),\n",
    "                    marker = 'o',\n",
    "                    rot = 0,\n",
    "                    color = 'blue'\n",
    "                    )\n",
    "plt.xlabel('Дата')\n",
    "plt.ylabel('Доля \"хороших\" сессий')\n",
    "diag_good_sessions.legend(['Доля \"хороших\" сессий'])\n",
    "plt.grid()\n",
    "plt.title('Число просмотренных страниц в рамках одной сессии')\n",
    "plt.show()"
   ]
  },
  {
   "cell_type": "markdown",
   "metadata": {},
   "source": [
    "По графику мы наблюдаем спад в конце периода"
   ]
  },
  {
   "cell_type": "markdown",
   "metadata": {
    "id": "21JcG77Y0eMt"
   },
   "source": [
    "### 2. Подготовка к тесту\n",
    "При планировании теста необходимо проделать несколько важных шагов:\n",
    "\n",
    "- Сформулировать нулевую и альтернативную гипотезы\n",
    "\n",
    "- Определиться с целевой метрикой.\n",
    "\n",
    "- Рассчитать необходимый размер выборки.\n",
    "\n",
    "- Исходя из текущих значений трафика рассчитать необходимую длительность проведения теста."
   ]
  },
  {
   "cell_type": "markdown",
   "metadata": {
    "id": "kXdcwkjf859k"
   },
   "source": [
    "#### 2.1 Формулировка нулевой и альтернативной гипотез\n",
    "\n",
    "Перед тем как проводить А/B-тест, необходимо сформулировать нулевую и альтернативную гипотезы. Напомним изначальное условие: команда разработчиков рекомендательных систем создала новый алгоритм, который, по их мнению, будет показывать более интересный контент для каждого пользователя.\n",
    "\n",
    "О какой метрике идёт речь? Как она будет учтена в формулировке гипотез?"
   ]
  },
  {
   "cell_type": "markdown",
   "metadata": {
    "id": "RiKI8eT49h3F"
   },
   "source": [
    "Сформулируйте нулевую и альтернативную гипотезы:\n",
    "\n",
    "\n",
    "\n",
    "\n"
   ]
  },
  {
   "cell_type": "markdown",
   "metadata": {},
   "source": [
    "Чтобы оценить вовлеченность, возьмем за целевую метрику **долю хороших сессий**\n",
    "\n",
    "Сформируем 2 гипотезы:\n",
    "\n",
    "**H0**: доля успешных сессий в двух выборках не различается или различия не статистически значимы\n",
    "\n",
    "**H1**: доля успешных сессий в двух выборках различается или различия статистически значимы"
   ]
  },
  {
   "cell_type": "markdown",
   "metadata": {
    "id": "uzaeln270eMt"
   },
   "source": [
    "#### 2.2. Расчёт размера выборки\n",
    "В рамках курса вы уже рассчитывали размеры выборки и  использовали для этого онлайн-калькулятор. В этом задании предлагаем воспользоваться готовым кодом и рассчитать необходимое для вашего эксперимента количество пользователей.\n",
    "\n",
    "Для этого установите в коде ниже следующие параметры:\n",
    "\n",
    "- Уровень значимости — 0.05.\n",
    "\n",
    "- Вероятность ошибки второго рода — 0.2.\n",
    "\n",
    "- Мощность теста.\n",
    "\n",
    "- Минимальный детектируемый эффект, или MDE, — 3%. Обратите внимание, что здесь нужно указать десятичную дробь, а не процент.\n",
    "\n",
    "При расчёте размера выборки используйте метод `solve_power()` из класса `power.NormalIndPower` модуля `statsmodels.stats`.\n",
    "\n",
    "Запустите ячейку и изучите полученное значение."
   ]
  },
  {
   "cell_type": "code",
   "execution_count": 16,
   "metadata": {
    "id": "zSxJyPGPNdaI"
   },
   "outputs": [
    {
     "name": "stdout",
     "output_type": "stream",
     "text": [
      "Необходимый размер выборки для каждой группы: 41040\n"
     ]
    }
   ],
   "source": [
    "from statsmodels.stats.power import NormalIndPower\n",
    "from statsmodels.stats.proportion import proportion_effectsize\n",
    "\n",
    "# Задаём параметры\n",
    "alpha = 0.05  # Уровень значимости\n",
    "beta = 0.2  # Ошибка второго рода, часто 1 - мощность\n",
    "power = 0.8  # Мощность теста\n",
    "p = 0.3 # Базовый уровень доли\n",
    "mde = 0.03 * p  # Минимальный детектируемый эффект\n",
    "effect_size = proportion_effectsize(p, p + mde)\n",
    "\n",
    "# Инициализируем класс NormalIndPower\n",
    "power_analysis = NormalIndPower()\n",
    "\n",
    "# Рассчитываем размер выборки\n",
    "sample_size = power_analysis.solve_power(\n",
    "    effect_size = effect_size,\n",
    "    power = power,\n",
    "    alpha = alpha,\n",
    "    ratio = 1 # Равномерное распределение выборок\n",
    ")\n",
    "\n",
    "print(f\"Необходимый размер выборки для каждой группы: {int(sample_size)}\")"
   ]
  },
  {
   "cell_type": "markdown",
   "metadata": {
    "id": "qLEv4RoV0eMu"
   },
   "source": [
    "#### 2.3. Расчёт длительности A/B-теста\n",
    "\n",
    "Используйте данные о количестве пользователей в каждой выборке и среднем количестве пользователей приложения. Рассчитайте длительность теста, разделив одно на другое.\n",
    "\n",
    "- Рассчитайте среднее количество уникальных пользователей приложения в день.\n",
    "\n",
    "- Определите длительность теста исходя из рассчитанного значения размера выборок и среднего дневного трафика приложения. Количество дней округлите в большую сторону."
   ]
  },
  {
   "cell_type": "code",
   "execution_count": 17,
   "metadata": {
    "id": "KZDRbryDOGHa"
   },
   "outputs": [
    {
     "data": {
      "text/plain": [
       "9907"
      ]
     },
     "metadata": {},
     "output_type": "display_data"
    },
    {
     "name": "stdout",
     "output_type": "stream",
     "text": [
      "Рассчитанная длительность A/B-теста при текущем уровне трафика в 9907 пользователей в день составит 9.0 дней\n"
     ]
    }
   ],
   "source": [
    "from math import sqrt\n",
    "import numpy as np\n",
    "\n",
    "# Среднее количество пользователей приложения в день по историческим данным\n",
    "avg_daily_users = round(sessions_history.groupby(by='session_date')['user_id'].nunique().mean())\n",
    "display(avg_daily_users)\n",
    "\n",
    "# Рассчитываем длительность теста в днях как отношение размера выборки к среднему числу пользователей\n",
    "test_duration = np.ceil(sample_size*2/avg_daily_users)\n",
    "\n",
    "print(f\"Рассчитанная длительность A/B-теста при текущем уровне трафика в {avg_daily_users} пользователей в день составит {test_duration} дней\")"
   ]
  },
  {
   "cell_type": "markdown",
   "metadata": {
    "id": "ZuvtAdha0eMv"
   },
   "source": [
    "### 3. Мониторинг А/В-теста"
   ]
  },
  {
   "cell_type": "markdown",
   "metadata": {
    "id": "jq5sE3Ya0eMv"
   },
   "source": [
    "#### 3.1. Проверка распределения пользователей\n",
    "\n",
    "A/B-тест успешно запущен, и уже доступны данные за первые три дня. На этом этапе нужно убедиться, что всё идёт хорошо: пользователи разделены правильным образом, а интересующие вас метрики корректно считаются.\n",
    "\n",
    "- Считайте и сохраните в датафрейм `sessions_test_part` CSV-файл с историческими данными о сессиях пользователей `sessions_project_test_part.csv`.\n",
    "\n",
    "- Рассчитайте количество уникальных пользователей в каждой из экспериментальных групп для одного дня наблюдения.\n",
    "\n",
    "- Рассчитайте и выведите на экран процентную разницу в количестве пользователей в группах A и B. Постройте любую удобную визуализацию, на которой будет видно возможное различие двух групп.\n",
    "\n",
    "Для расчёта процентной разницы воспользуйтесь формулой:\n",
    "$$P = 100 \\cdot  \\frac{|A − B|}{A}$$"
   ]
  },
  {
   "cell_type": "code",
   "execution_count": 18,
   "metadata": {
    "id": "G1bqIzDJOUiz"
   },
   "outputs": [],
   "source": [
    "# Создадим  датафрейм sessions_test_part\n",
    "sessions_test_part = pd.read_csv('/datasets/sessions_project_test_part.csv')"
   ]
  },
  {
   "cell_type": "code",
   "execution_count": 19,
   "metadata": {},
   "outputs": [
    {
     "name": "stdout",
     "output_type": "stream",
     "text": [
      "<class 'pandas.core.frame.DataFrame'>\n",
      "RangeIndex: 3130 entries, 0 to 3129\n",
      "Data columns (total 11 columns):\n",
      " #   Column             Non-Null Count  Dtype \n",
      "---  ------             --------------  ----- \n",
      " 0   user_id            3130 non-null   object\n",
      " 1   session_id         3130 non-null   object\n",
      " 2   session_date       3130 non-null   object\n",
      " 3   session_start_ts   3130 non-null   object\n",
      " 4   install_date       3130 non-null   object\n",
      " 5   session_number     3130 non-null   int64 \n",
      " 6   registration_flag  3130 non-null   int64 \n",
      " 7   page_counter       3130 non-null   int64 \n",
      " 8   region             3130 non-null   object\n",
      " 9   device             3130 non-null   object\n",
      " 10  test_group         3130 non-null   object\n",
      "dtypes: int64(3), object(8)\n",
      "memory usage: 269.1+ KB\n"
     ]
    },
    {
     "data": {
      "text/plain": [
       "None"
      ]
     },
     "metadata": {},
     "output_type": "display_data"
    }
   ],
   "source": [
    "# Выведем информацию о датафреме sessions_test_part\n",
    "display(sessions_test_part.info())"
   ]
  },
  {
   "cell_type": "code",
   "execution_count": 20,
   "metadata": {
    "scrolled": false
   },
   "outputs": [
    {
     "data": {
      "text/html": [
       "<div>\n",
       "<style scoped>\n",
       "    .dataframe tbody tr th:only-of-type {\n",
       "        vertical-align: middle;\n",
       "    }\n",
       "\n",
       "    .dataframe tbody tr th {\n",
       "        vertical-align: top;\n",
       "    }\n",
       "\n",
       "    .dataframe thead th {\n",
       "        text-align: right;\n",
       "    }\n",
       "</style>\n",
       "<table border=\"1\" class=\"dataframe\">\n",
       "  <thead>\n",
       "    <tr style=\"text-align: right;\">\n",
       "      <th></th>\n",
       "      <th>user_id</th>\n",
       "      <th>session_id</th>\n",
       "      <th>session_date</th>\n",
       "      <th>session_start_ts</th>\n",
       "      <th>install_date</th>\n",
       "      <th>session_number</th>\n",
       "      <th>registration_flag</th>\n",
       "      <th>page_counter</th>\n",
       "      <th>region</th>\n",
       "      <th>device</th>\n",
       "      <th>test_group</th>\n",
       "    </tr>\n",
       "  </thead>\n",
       "  <tbody>\n",
       "    <tr>\n",
       "      <th>0</th>\n",
       "      <td>3404844B53442747</td>\n",
       "      <td>B4901323BD537E45</td>\n",
       "      <td>2025-10-14</td>\n",
       "      <td>2025-10-14 19:28:49</td>\n",
       "      <td>2025-10-14</td>\n",
       "      <td>1</td>\n",
       "      <td>0</td>\n",
       "      <td>3</td>\n",
       "      <td>CIS</td>\n",
       "      <td>Android</td>\n",
       "      <td>B</td>\n",
       "    </tr>\n",
       "    <tr>\n",
       "      <th>1</th>\n",
       "      <td>3A2BF4D364E62D89</td>\n",
       "      <td>216FC619308F8788</td>\n",
       "      <td>2025-10-14</td>\n",
       "      <td>2025-10-14 21:11:04</td>\n",
       "      <td>2025-10-14</td>\n",
       "      <td>1</td>\n",
       "      <td>0</td>\n",
       "      <td>3</td>\n",
       "      <td>MENA</td>\n",
       "      <td>iPhone</td>\n",
       "      <td>A</td>\n",
       "    </tr>\n",
       "    <tr>\n",
       "      <th>2</th>\n",
       "      <td>79CDAE11E32B1597</td>\n",
       "      <td>EDFCE4AC1A504074</td>\n",
       "      <td>2025-10-14</td>\n",
       "      <td>2025-10-14 21:44:03</td>\n",
       "      <td>2025-10-14</td>\n",
       "      <td>1</td>\n",
       "      <td>0</td>\n",
       "      <td>3</td>\n",
       "      <td>CIS</td>\n",
       "      <td>iPhone</td>\n",
       "      <td>A</td>\n",
       "    </tr>\n",
       "    <tr>\n",
       "      <th>3</th>\n",
       "      <td>D6AF8D78297A931F</td>\n",
       "      <td>CF0AC0EEDE92C690</td>\n",
       "      <td>2025-10-14</td>\n",
       "      <td>2025-10-14 19:07:55</td>\n",
       "      <td>2025-10-14</td>\n",
       "      <td>1</td>\n",
       "      <td>0</td>\n",
       "      <td>4</td>\n",
       "      <td>CIS</td>\n",
       "      <td>PC</td>\n",
       "      <td>A</td>\n",
       "    </tr>\n",
       "    <tr>\n",
       "      <th>4</th>\n",
       "      <td>37E0CE723AE568E0</td>\n",
       "      <td>2E6ED45E8C86C4E9</td>\n",
       "      <td>2025-10-14</td>\n",
       "      <td>2025-10-14 15:39:44</td>\n",
       "      <td>2025-10-14</td>\n",
       "      <td>1</td>\n",
       "      <td>0</td>\n",
       "      <td>3</td>\n",
       "      <td>CIS</td>\n",
       "      <td>Mac</td>\n",
       "      <td>B</td>\n",
       "    </tr>\n",
       "  </tbody>\n",
       "</table>\n",
       "</div>"
      ],
      "text/plain": [
       "            user_id        session_id session_date     session_start_ts  \\\n",
       "0  3404844B53442747  B4901323BD537E45   2025-10-14  2025-10-14 19:28:49   \n",
       "1  3A2BF4D364E62D89  216FC619308F8788   2025-10-14  2025-10-14 21:11:04   \n",
       "2  79CDAE11E32B1597  EDFCE4AC1A504074   2025-10-14  2025-10-14 21:44:03   \n",
       "3  D6AF8D78297A931F  CF0AC0EEDE92C690   2025-10-14  2025-10-14 19:07:55   \n",
       "4  37E0CE723AE568E0  2E6ED45E8C86C4E9   2025-10-14  2025-10-14 15:39:44   \n",
       "\n",
       "  install_date  session_number  registration_flag  page_counter region  \\\n",
       "0   2025-10-14               1                  0             3    CIS   \n",
       "1   2025-10-14               1                  0             3   MENA   \n",
       "2   2025-10-14               1                  0             3    CIS   \n",
       "3   2025-10-14               1                  0             4    CIS   \n",
       "4   2025-10-14               1                  0             3    CIS   \n",
       "\n",
       "    device test_group  \n",
       "0  Android          B  \n",
       "1   iPhone          A  \n",
       "2   iPhone          A  \n",
       "3       PC          A  \n",
       "4      Mac          B  "
      ]
     },
     "execution_count": 20,
     "metadata": {},
     "output_type": "execute_result"
    }
   ],
   "source": [
    "# Выведем первые 5 строк датафрейма\n",
    "sessions_test_part.head(5)"
   ]
  },
  {
   "cell_type": "code",
   "execution_count": 21,
   "metadata": {},
   "outputs": [
    {
     "data": {
      "text/plain": [
       "1477"
      ]
     },
     "metadata": {},
     "output_type": "display_data"
    },
    {
     "data": {
      "text/plain": [
       "1466"
      ]
     },
     "metadata": {},
     "output_type": "display_data"
    }
   ],
   "source": [
    "# рассчитаем количество уникальных пользователей в группе A\n",
    "len_a = (sessions_test_part[sessions_test_part['test_group'] == 'A']['user_id']).nunique()\n",
    "display(len_a)\n",
    "\n",
    "# рассчитаем количество уникальных пользователей в группе B\n",
    "len_b = (sessions_test_part[sessions_test_part['test_group'] == 'B']['user_id']).nunique()\n",
    "display(len_b)"
   ]
  },
  {
   "cell_type": "code",
   "execution_count": 22,
   "metadata": {},
   "outputs": [
    {
     "data": {
      "text/plain": [
       "0.74"
      ]
     },
     "metadata": {},
     "output_type": "display_data"
    }
   ],
   "source": [
    "# Рассчитаем процентную разницу размеров групп\n",
    "perc_diff = round(100 * (len_a-len_b)/len_a ,2)\n",
    "display(perc_diff)"
   ]
  },
  {
   "cell_type": "markdown",
   "metadata": {},
   "source": [
    "Разница размеров групп 0.74% - незначительное различие"
   ]
  },
  {
   "cell_type": "code",
   "execution_count": 23,
   "metadata": {},
   "outputs": [
    {
     "data": {
      "image/png": "[encoded data removed]",
      "text/plain": [
       "<Figure size 576x432 with 1 Axes>"
      ]
     },
     "metadata": {},
     "output_type": "display_data"
    }
   ],
   "source": [
    "# Отобразим соотношение размеров групп на круговой диаграмме\n",
    "diag_perc_diff = sessions_test_part['test_group'].value_counts().plot(kind = 'pie',\n",
    "                                                    figsize = (8,6),\n",
    ")\n",
    "plt.legend()\n",
    "plt.title('Соотношение размеров групп')\n",
    "plt.show()"
   ]
  },
  {
   "cell_type": "markdown",
   "metadata": {
    "id": "sgpNY5bv0eM0"
   },
   "source": [
    "#### 3.2. Проверка пересечений пользователей\n",
    "Помимо проверки равенства количества пользователей в группах, полезно убедиться в том, что группы независимы. Для этого нужно убедиться, что никто из пользователей случайно не попал в обе группы одновременно.\n",
    "\n",
    "- Рассчитайте количество пользователей, которые встречаются одновременно в группах A и B, или убедитесь, что таких нет."
   ]
  },
  {
   "cell_type": "code",
   "execution_count": 24,
   "metadata": {
    "id": "E72ozN9FOX1u"
   },
   "outputs": [
    {
     "data": {
      "text/plain": [
       "[]"
      ]
     },
     "metadata": {},
     "output_type": "display_data"
    }
   ],
   "source": [
    "# Найдем пересечения списков user_id из разных групп \n",
    "gr_a = sessions_test_part[sessions_test_part['test_group'] == 'A'] # группа A\n",
    "gr_b = sessions_test_part[sessions_test_part['test_group'] == 'B'] # группа B\n",
    "\n",
    "intersection = list(set(gr_a['user_id']) & set(gr_b['user_id']))\n",
    "display(intersection)"
   ]
  },
  {
   "cell_type": "markdown",
   "metadata": {},
   "source": [
    "Пересечений не обнаружено, нет пользователей, попавших в обе группы"
   ]
  },
  {
   "cell_type": "markdown",
   "metadata": {
    "id": "6RvkNLrg0eM1"
   },
   "source": [
    "#### 3.3. Равномерность разделения пользователей по устройствам\n",
    "Полезно также убедиться в том, что пользователи равномерно распределены по всем доступным категориальным переменным — типам устройств и регионам.\n",
    "\n",
    "Постройте две диаграммы:\n",
    "\n",
    "- доля каждого типа устройства для пользователей из группы A,\n",
    "\n",
    "- доля каждого типа устройства для пользователей из группы B.\n",
    "\n",
    "Постарайтесь добавить на диаграммы все необходимые подписи, пояснения и заголовки, которые позволят сделать вывод о том, совпадает ли распределение устройств в группах A и B.\n"
   ]
  },
  {
   "cell_type": "code",
   "execution_count": 25,
   "metadata": {
    "id": "x_IP6PUNPWHC"
   },
   "outputs": [
    {
     "data": {
      "image/png": "[encoded data removed]",
      "text/plain": [
       "<Figure size 864x576 with 2 Axes>"
      ]
     },
     "metadata": {},
     "output_type": "display_data"
    }
   ],
   "source": [
    "# Отобразим доли устройств в каждой группе тестирования\n",
    "fig, axes = plt.subplots(1,2, figsize=(12, 8))\n",
    "\n",
    "diag_device_type = gr_a.groupby('device')['user_id'].nunique().plot(kind = 'pie',\n",
    "                                          legend = True,\n",
    "                                          autopct='%1.1f%%',\n",
    "                                          ax=axes[0]\n",
    "                                                    )\n",
    "axes[0].set_title('Соотношение долей типов устройств в группе A')\n",
    "\n",
    "\n",
    "diag_device_type = gr_b.groupby('device')['user_id'].nunique().plot(kind = 'pie',\n",
    "                                          legend = True,\n",
    "                                          autopct='%1.1f%%',\n",
    "                                          ax=axes[1]\n",
    "                                          )\n",
    "axes[1].set_title('Соотношение долей типов устройств в группе B')\n",
    "\n",
    "plt.show()"
   ]
  },
  {
   "cell_type": "code",
   "execution_count": 26,
   "metadata": {},
   "outputs": [
    {
     "data": {
      "text/plain": [
       "device\n",
       "Android    2.64\n",
       "Mac        1.30\n",
       "PC         1.16\n",
       "iPhone     3.18\n",
       "Name: user_id, dtype: float64"
      ]
     },
     "execution_count": 26,
     "metadata": {},
     "output_type": "execute_result"
    }
   ],
   "source": [
    "# рассчитаем разницу между долями разных устройств для групп A и B (ниже результат в процентах)\n",
    "round (100 * (gr_a.groupby('device')['user_id'].nunique()/len(gr_a) - gr_b.groupby('device')['user_id'].nunique()/len(gr_b)) , 2)"
   ]
  },
  {
   "cell_type": "markdown",
   "metadata": {},
   "source": [
    "Видим незначительные различия между долями устройств в группах тестирования.\n",
    "\n",
    "Самое значительная разница в доле Iphone:\n",
    "- В группе A доля Iphone от всех устройств на 1.7% больше, чем в группе B\n",
    "\n",
    "Далее разница в доле Android:\n",
    "- В группе A доля Android от всех устройств на 1.2% больше, чем в группе B"
   ]
  },
  {
   "cell_type": "markdown",
   "metadata": {
    "id": "gAgmP6vo0eM1"
   },
   "source": [
    "#### 3.4. Равномерность распределения пользователей по регионам\n",
    "Теперь убедитесь, что пользователи равномерно распределены по регионам.\n",
    "\n",
    "Постройте две диаграммы:\n",
    "\n",
    "- доля каждого региона для пользователей из группы A,\n",
    "\n",
    "- доля каждого региона для пользователей из группы B.\n",
    "\n",
    "Постарайтесь добавить на диаграммы все необходимые подписи, пояснения и заголовки, которые позволят сделать вывод о том, совпадает ли распределение регионов в группах A и B. Постарайтесь использовать другой тип диаграммы, не тот, что в прошлом задании.\n"
   ]
  },
  {
   "cell_type": "code",
   "execution_count": 27,
   "metadata": {
    "id": "3hAq-FG4OdYM"
   },
   "outputs": [
    {
     "data": {
      "text/plain": [
       "test_group  region\n",
       "A           CIS       644\n",
       "            EU        224\n",
       "            MENA      609\n",
       "B           CIS       645\n",
       "            EU        217\n",
       "            MENA      604\n",
       "Name: user_id, dtype: int64"
      ]
     },
     "execution_count": 27,
     "metadata": {},
     "output_type": "execute_result"
    }
   ],
   "source": [
    "sessions_test_part.groupby(['test_group','region'])['user_id'].nunique()"
   ]
  },
  {
   "cell_type": "code",
   "execution_count": 28,
   "metadata": {},
   "outputs": [
    {
     "data": {
      "image/png": "[encoded data removed]",
      "text/plain": [
       "<Figure size 864x576 with 2 Axes>"
      ]
     },
     "metadata": {},
     "output_type": "display_data"
    }
   ],
   "source": [
    "# Отобразим доли пользователей по регионам в каждой группе тестирования\n",
    "\n",
    "fig, axes = plt.subplots(1,2, figsize=(12, 8))\n",
    "\n",
    "diag_region_a = gr_a.groupby('region')['user_id'].nunique().plot(kind = 'pie',\n",
    "                                          legend = True,\n",
    "                                          autopct='%1.1f%%',\n",
    "                                          ax=axes[0])\n",
    "axes[0].set_title('Соотношение долей типов устройств в группе A')\n",
    "\n",
    "\n",
    "diag_region_b = gr_b.groupby('region')['user_id'].nunique().plot(kind = 'pie',\n",
    "                                          legend = True,\n",
    "                                          autopct='%1.1f%%',\n",
    "                                          ax=axes[1]\n",
    "                                          )\n",
    "\n",
    "axes[1].set_title('Соотношение долей типов устройств в группе B')\n",
    "\n",
    "plt.show()"
   ]
  },
  {
   "cell_type": "markdown",
   "metadata": {},
   "source": [
    "Видим, что во всех регионах значения в группах А и группах практически одинаковые, различия незначительны, они около 0.4%"
   ]
  },
  {
   "cell_type": "markdown",
   "metadata": {
    "id": "X2WSZ-sDrSUi"
   },
   "source": [
    "#### 3.5. Вывод после проверки A/B-теста\n",
    "\n",
    "На основе проведённого анализа A/B-теста сформулируйте и запишите свои выводы. В выводе обязательно укажите:\n",
    "\n",
    "- Было ли обнаружено различие в количестве пользователей в двух группах.\n",
    "\n",
    "- Являются ли выборки независимыми. Было ли обнаружено пересечение пользователей из тестовой и контрольной групп.\n",
    "\n",
    "- Сохраняется ли равномерное распределение пользователей тестовой и контрольной групп по категориальным переменным: устройствам и регионам.\n",
    "\n",
    "Сделайте заключение: корректно ли проходит A/B-тест, или наблюдаются какие-либо нарушения."
   ]
  },
  {
   "cell_type": "markdown",
   "metadata": {},
   "source": [
    "**Вывод после проверки**\n",
    "\n",
    "Пользователи были разделены на 2 группы:\n",
    "1477 и 1466 человек - сопоставимые размеры; группа A на 0.74% меньше группы B, такую разницу считаем незначительной.\n",
    "Проверили пересечение групп - пересечений нет, каждый пользователь попал только в 1 группу.\n",
    "\n",
    "Распределение пользователей разных групп по устройствам и регионам равномерно. Различия по категориям устройств в пределах 1.7%, по регионам - не более 0.4%.\n",
    "\n",
    "Таким образом, на данный момент A/B-тест проходит корректно, нарушения не выявлены."
   ]
  },
  {
   "cell_type": "markdown",
   "metadata": {
    "id": "nudRr_BQ0eM2"
   },
   "source": [
    "### 4. Проверка результатов A/B-теста\n",
    "\n",
    "A/B-тест завершён, и у вас есть результаты за все дни проведения эксперимента. Необходимо убедиться в корректности теста и верно интерпретировать результаты."
   ]
  },
  {
   "cell_type": "markdown",
   "metadata": {
    "id": "JVve-YBB0eM2"
   },
   "source": [
    "#### 4.1. Получение результатов теста и подсчёт основной метрики\n",
    "\n",
    "- Считайте и сохраните в датафрейм `sessions_test` CSV-файл с историческими данными о сессиях пользователей `sessions_project_test.csv`.\n",
    "\n",
    "- В датафрейме `sessions_test` создайте дополнительный столбец `good_session`. В него войдёт значение `1`, если за одну сессию было просмотрено 4 и более страниц, и значение `0`, если просмотрено меньше."
   ]
  },
  {
   "cell_type": "code",
   "execution_count": 29,
   "metadata": {
    "id": "EqRlwMtKPTir"
   },
   "outputs": [
    {
     "data": {
      "text/html": [
       "<div>\n",
       "<style scoped>\n",
       "    .dataframe tbody tr th:only-of-type {\n",
       "        vertical-align: middle;\n",
       "    }\n",
       "\n",
       "    .dataframe tbody tr th {\n",
       "        vertical-align: top;\n",
       "    }\n",
       "\n",
       "    .dataframe thead th {\n",
       "        text-align: right;\n",
       "    }\n",
       "</style>\n",
       "<table border=\"1\" class=\"dataframe\">\n",
       "  <thead>\n",
       "    <tr style=\"text-align: right;\">\n",
       "      <th></th>\n",
       "      <th>user_id</th>\n",
       "      <th>session_id</th>\n",
       "      <th>session_date</th>\n",
       "      <th>session_start_ts</th>\n",
       "      <th>install_date</th>\n",
       "      <th>session_number</th>\n",
       "      <th>registration_flag</th>\n",
       "      <th>page_counter</th>\n",
       "      <th>region</th>\n",
       "      <th>device</th>\n",
       "      <th>test_group</th>\n",
       "      <th>good_session</th>\n",
       "    </tr>\n",
       "  </thead>\n",
       "  <tbody>\n",
       "    <tr>\n",
       "      <th>0</th>\n",
       "      <td>6DAE3B3654DA738E</td>\n",
       "      <td>C69249E26E58F6E2</td>\n",
       "      <td>2025-10-26</td>\n",
       "      <td>2025-10-26 18:15:05</td>\n",
       "      <td>2025-10-16</td>\n",
       "      <td>3</td>\n",
       "      <td>0</td>\n",
       "      <td>3</td>\n",
       "      <td>MENA</td>\n",
       "      <td>Android</td>\n",
       "      <td>A</td>\n",
       "      <td>0</td>\n",
       "    </tr>\n",
       "    <tr>\n",
       "      <th>1</th>\n",
       "      <td>0A3FE5D1DD59110A</td>\n",
       "      <td>66D66D7C9F5181B7</td>\n",
       "      <td>2025-10-21</td>\n",
       "      <td>2025-10-21 17:04:53</td>\n",
       "      <td>2025-10-15</td>\n",
       "      <td>2</td>\n",
       "      <td>1</td>\n",
       "      <td>2</td>\n",
       "      <td>CIS</td>\n",
       "      <td>Android</td>\n",
       "      <td>B</td>\n",
       "      <td>0</td>\n",
       "    </tr>\n",
       "    <tr>\n",
       "      <th>2</th>\n",
       "      <td>2041F1D7AA740B88</td>\n",
       "      <td>50DE51D42215E74C</td>\n",
       "      <td>2025-10-23</td>\n",
       "      <td>2025-10-23 17:39:29</td>\n",
       "      <td>2025-10-19</td>\n",
       "      <td>3</td>\n",
       "      <td>0</td>\n",
       "      <td>2</td>\n",
       "      <td>MENA</td>\n",
       "      <td>Android</td>\n",
       "      <td>A</td>\n",
       "      <td>0</td>\n",
       "    </tr>\n",
       "    <tr>\n",
       "      <th>3</th>\n",
       "      <td>43D7585009168086</td>\n",
       "      <td>5763C0C353C22263</td>\n",
       "      <td>2025-10-24</td>\n",
       "      <td>2025-10-24 15:01:57</td>\n",
       "      <td>2025-10-18</td>\n",
       "      <td>4</td>\n",
       "      <td>0</td>\n",
       "      <td>1</td>\n",
       "      <td>CIS</td>\n",
       "      <td>iPhone</td>\n",
       "      <td>B</td>\n",
       "      <td>0</td>\n",
       "    </tr>\n",
       "    <tr>\n",
       "      <th>4</th>\n",
       "      <td>15AD68B14D62D88C</td>\n",
       "      <td>B1AD09F93C1053BC</td>\n",
       "      <td>2025-10-17</td>\n",
       "      <td>2025-10-17 17:34:39</td>\n",
       "      <td>2025-10-17</td>\n",
       "      <td>1</td>\n",
       "      <td>0</td>\n",
       "      <td>2</td>\n",
       "      <td>MENA</td>\n",
       "      <td>Android</td>\n",
       "      <td>B</td>\n",
       "      <td>0</td>\n",
       "    </tr>\n",
       "  </tbody>\n",
       "</table>\n",
       "</div>"
      ],
      "text/plain": [
       "            user_id        session_id session_date     session_start_ts  \\\n",
       "0  6DAE3B3654DA738E  C69249E26E58F6E2   2025-10-26  2025-10-26 18:15:05   \n",
       "1  0A3FE5D1DD59110A  66D66D7C9F5181B7   2025-10-21  2025-10-21 17:04:53   \n",
       "2  2041F1D7AA740B88  50DE51D42215E74C   2025-10-23  2025-10-23 17:39:29   \n",
       "3  43D7585009168086  5763C0C353C22263   2025-10-24  2025-10-24 15:01:57   \n",
       "4  15AD68B14D62D88C  B1AD09F93C1053BC   2025-10-17  2025-10-17 17:34:39   \n",
       "\n",
       "  install_date  session_number  registration_flag  page_counter region  \\\n",
       "0   2025-10-16               3                  0             3   MENA   \n",
       "1   2025-10-15               2                  1             2    CIS   \n",
       "2   2025-10-19               3                  0             2   MENA   \n",
       "3   2025-10-18               4                  0             1    CIS   \n",
       "4   2025-10-17               1                  0             2   MENA   \n",
       "\n",
       "    device test_group  good_session  \n",
       "0  Android          A             0  \n",
       "1  Android          B             0  \n",
       "2  Android          A             0  \n",
       "3   iPhone          B             0  \n",
       "4  Android          B             0  "
      ]
     },
     "metadata": {},
     "output_type": "display_data"
    }
   ],
   "source": [
    "# Создадим датафрейм sessions_test \n",
    "sessions_test = pd.read_csv('/datasets/sessions_project_test.csv')\n",
    "\n",
    "# Добавим столбец good_session и выведем первые строки датафрейма\n",
    "sessions_test['good_session'] = sessions_test.apply(lambda row: 1 if row['page_counter'] >= 4 else 0, axis=1)\n",
    "display(sessions_test.head())"
   ]
  },
  {
   "cell_type": "markdown",
   "metadata": {
    "id": "aeYhrMYy0eM2"
   },
   "source": [
    "#### 4.2. Проверка корректности результатов теста\n",
    "\n",
    "Прежде чем приступать к анализу ключевых продуктовых метрик, необходимо убедиться, что тест проведён корректно и вы будете сравнивать две сопоставимые группы.\n",
    "\n",
    "- Рассчитайте количество уникальных сессий для каждого дня и обеих тестовых групп, используя группировку.\n",
    "\n",
    "- Проверьте, что количество уникальных дневных сессий в двух выборках не различается или различия не статистически значимыми. Используйте статистический тест, который позволит сделать вывод о равенстве средних двух выборок.\n",
    "\n",
    "- В качестве ответа выведите на экран полученное значение p-value и интерпретируйте его."
   ]
  },
  {
   "cell_type": "code",
   "execution_count": 30,
   "metadata": {
    "id": "5NUlcltkTTSU"
   },
   "outputs": [
    {
     "data": {
      "text/plain": [
       "test_group  session_date\n",
       "A           2025-10-14      1502\n",
       "            2025-10-15      2235\n",
       "            2025-10-16      3280\n",
       "            2025-10-17      4089\n",
       "            2025-10-18      5013\n",
       "            2025-10-19      6535\n",
       "            2025-10-20      5837\n",
       "            2025-10-21      3927\n",
       "            2025-10-22      3083\n",
       "            2025-10-23      2470\n",
       "            2025-10-24      2090\n",
       "            2025-10-25      1897\n",
       "            2025-10-26      1669\n",
       "            2025-10-27      1454\n",
       "            2025-10-28      1279\n",
       "            2025-10-29      1068\n",
       "            2025-10-30       887\n",
       "            2025-10-31       644\n",
       "            2025-11-01       434\n",
       "            2025-11-02       158\n",
       "B           2025-10-14      1628\n",
       "            2025-10-15      2283\n",
       "            2025-10-16      3241\n",
       "            2025-10-17      4054\n",
       "            2025-10-18      5059\n",
       "            2025-10-19      6779\n",
       "            2025-10-20      6089\n",
       "            2025-10-21      3981\n",
       "            2025-10-22      3111\n",
       "            2025-10-23      2548\n",
       "            2025-10-24      2068\n",
       "            2025-10-25      1814\n",
       "            2025-10-26      1692\n",
       "            2025-10-27      1517\n",
       "            2025-10-28      1289\n",
       "            2025-10-29      1131\n",
       "            2025-10-30       876\n",
       "            2025-10-31       669\n",
       "            2025-11-01       465\n",
       "            2025-11-02       160\n",
       "Name: session_id, dtype: int64"
      ]
     },
     "metadata": {},
     "output_type": "display_data"
    }
   ],
   "source": [
    "# рассчитаем количество уникальных сессий для каждой группы, для каждого дня\n",
    "unique_sessions = sessions_test.groupby(['test_group','session_date'])['session_id'].nunique()\n",
    "\n",
    "display(unique_sessions)"
   ]
  },
  {
   "cell_type": "code",
   "execution_count": 31,
   "metadata": {},
   "outputs": [
    {
     "name": "stdout",
     "output_type": "stream",
     "text": [
      "p-value теста Стьюдента =0.94\n",
      "Нулевая гипотеза находит подтверждение! Выборочные средние в группах A и B равны\n",
      "Количество уникальных дневных сессий в двух выборках не различается или различия не статистически значимы\n"
     ]
    }
   ],
   "source": [
    "# Зададим уровень значимости\n",
    "alpha = 0.05\n",
    "\n",
    "unique_sessions_1 = unique_sessions.loc['A']\n",
    "unique_sessions_2 = unique_sessions.loc['B']\n",
    "\n",
    "\n",
    "stat_ttest, p_value_ttest = ttest_ind(\n",
    "    unique_sessions_1, \n",
    "    unique_sessions_2, \n",
    "    alternative='two-sided' ## поскольку альтернативная гипотеза о том, что выборочное среднее первой выборки(metric_a) меньше второй выборки\n",
    ")\n",
    "\n",
    "if p_value_ttest>alpha:\n",
    "    print(f'p-value теста Стьюдента ={round(p_value_ttest, 2)}')\n",
    "    print('Нулевая гипотеза находит подтверждение! Выборочные средние в группах A и B равны')\n",
    "    print('Количество уникальных дневных сессий в двух выборках не различается или различия не статистически значимы')\n",
    "else:\n",
    "    print(f'p-value теста Стьюдента ={round(p_value_ttest, 2)}')\n",
    "    print('Нулевая гипотеза не находит подтверждения! Выборочные средние в группах A и B не равны, и в группе B больше')\n",
    "    print('Количество уникальных дневных сессий в двух выборках  различается или различия статистически значимы')\n"
   ]
  },
  {
   "cell_type": "markdown",
   "metadata": {
    "id": "7kwRxzg70eM3"
   },
   "source": [
    "#### 4.3. Сравнение доли успешных сессий\n",
    "\n",
    "Когда вы убедились, что количество сессий в обеих выборках не различалось, можно переходить к анализу ключевой метрики — доли успешных сессий.\n",
    "\n",
    "Используйте созданный на первом шаге задания столбец `good_session` и рассчитайте долю успешных сессий для выборок A и B, а также разницу в этом показателе. Полученный вывод отобразите на экране."
   ]
  },
  {
   "cell_type": "code",
   "execution_count": 32,
   "metadata": {
    "id": "Uku-V1CpPRCz"
   },
   "outputs": [
    {
     "data": {
      "text/html": [
       "<div>\n",
       "<style scoped>\n",
       "    .dataframe tbody tr th:only-of-type {\n",
       "        vertical-align: middle;\n",
       "    }\n",
       "\n",
       "    .dataframe tbody tr th {\n",
       "        vertical-align: top;\n",
       "    }\n",
       "\n",
       "    .dataframe thead th {\n",
       "        text-align: right;\n",
       "    }\n",
       "</style>\n",
       "<table border=\"1\" class=\"dataframe\">\n",
       "  <thead>\n",
       "    <tr style=\"text-align: right;\">\n",
       "      <th></th>\n",
       "      <th>user_id</th>\n",
       "      <th>session_id</th>\n",
       "      <th>session_date</th>\n",
       "      <th>session_start_ts</th>\n",
       "      <th>install_date</th>\n",
       "      <th>session_number</th>\n",
       "      <th>registration_flag</th>\n",
       "      <th>page_counter</th>\n",
       "      <th>region</th>\n",
       "      <th>device</th>\n",
       "      <th>test_group</th>\n",
       "      <th>good_session</th>\n",
       "    </tr>\n",
       "  </thead>\n",
       "  <tbody>\n",
       "    <tr>\n",
       "      <th>0</th>\n",
       "      <td>6DAE3B3654DA738E</td>\n",
       "      <td>C69249E26E58F6E2</td>\n",
       "      <td>2025-10-26</td>\n",
       "      <td>2025-10-26 18:15:05</td>\n",
       "      <td>2025-10-16</td>\n",
       "      <td>3</td>\n",
       "      <td>0</td>\n",
       "      <td>3</td>\n",
       "      <td>MENA</td>\n",
       "      <td>Android</td>\n",
       "      <td>A</td>\n",
       "      <td>0</td>\n",
       "    </tr>\n",
       "    <tr>\n",
       "      <th>1</th>\n",
       "      <td>0A3FE5D1DD59110A</td>\n",
       "      <td>66D66D7C9F5181B7</td>\n",
       "      <td>2025-10-21</td>\n",
       "      <td>2025-10-21 17:04:53</td>\n",
       "      <td>2025-10-15</td>\n",
       "      <td>2</td>\n",
       "      <td>1</td>\n",
       "      <td>2</td>\n",
       "      <td>CIS</td>\n",
       "      <td>Android</td>\n",
       "      <td>B</td>\n",
       "      <td>0</td>\n",
       "    </tr>\n",
       "    <tr>\n",
       "      <th>2</th>\n",
       "      <td>2041F1D7AA740B88</td>\n",
       "      <td>50DE51D42215E74C</td>\n",
       "      <td>2025-10-23</td>\n",
       "      <td>2025-10-23 17:39:29</td>\n",
       "      <td>2025-10-19</td>\n",
       "      <td>3</td>\n",
       "      <td>0</td>\n",
       "      <td>2</td>\n",
       "      <td>MENA</td>\n",
       "      <td>Android</td>\n",
       "      <td>A</td>\n",
       "      <td>0</td>\n",
       "    </tr>\n",
       "  </tbody>\n",
       "</table>\n",
       "</div>"
      ],
      "text/plain": [
       "            user_id        session_id session_date     session_start_ts  \\\n",
       "0  6DAE3B3654DA738E  C69249E26E58F6E2   2025-10-26  2025-10-26 18:15:05   \n",
       "1  0A3FE5D1DD59110A  66D66D7C9F5181B7   2025-10-21  2025-10-21 17:04:53   \n",
       "2  2041F1D7AA740B88  50DE51D42215E74C   2025-10-23  2025-10-23 17:39:29   \n",
       "\n",
       "  install_date  session_number  registration_flag  page_counter region  \\\n",
       "0   2025-10-16               3                  0             3   MENA   \n",
       "1   2025-10-15               2                  1             2    CIS   \n",
       "2   2025-10-19               3                  0             2   MENA   \n",
       "\n",
       "    device test_group  good_session  \n",
       "0  Android          A             0  \n",
       "1  Android          B             0  \n",
       "2  Android          A             0  "
      ]
     },
     "execution_count": 32,
     "metadata": {},
     "output_type": "execute_result"
    }
   ],
   "source": [
    "sessions_test.head(3)"
   ]
  },
  {
   "cell_type": "code",
   "execution_count": 33,
   "metadata": {},
   "outputs": [
    {
     "name": "stdout",
     "output_type": "stream",
     "text": [
      "Доля успешных сессий в группе A: 0.3077233557344958\n",
      "Доля \"хороших\" сессий в группе B: 0.31828992745867524\n",
      "Разница долей успешных сессий: -1.1%\n"
     ]
    }
   ],
   "source": [
    "group_a = sessions_test[sessions_test['test_group'] == 'A'] # группа A\n",
    "group_b = sessions_test[sessions_test['test_group'] == 'B'] # группа B\n",
    "\n",
    "# рассчитаем доли успешных сессий в каждой группе\n",
    "good_share_a = group_a['good_session'].sum()/group_a['session_id'].nunique()\n",
    "good_share_b = group_b['good_session'].sum()/group_b['session_id'].nunique()\n",
    "diff = round((100 *( good_share_a - good_share_b )),1 )\n",
    "print(f'''Доля успешных сессий в группе A: {good_share_a}\n",
    "Доля \"хороших\" сессий в группе B: {good_share_b}\n",
    "Разница долей успешных сессий: {diff}%''')"
   ]
  },
  {
   "cell_type": "markdown",
   "metadata": {
    "id": "9fMFuja10eM4"
   },
   "source": [
    "#### 4.4. Насколько статистически значимо изменение ключевой метрики\n",
    "\n",
    "На предыдущем шаге вы убедились, что количество успешных сессий в тестовой выборке примерно на 1.1% выше, чем в контрольной, но делать выводы только на основе этого значения будет некорректно. Для принятия решения всегда необходимо отвечать на вопрос: является ли это изменение статистически значимым.\n",
    "\n",
    "- Используя статистический тест, рассчитайте, является ли изменение в метрике доли успешных сессий статистически значимым.\n",
    "\n",
    "- Выведите на экран полученное значение p-value и свои выводы о статистической значимости. Напомним, что уровень значимости в эксперименте был выбран на уровне 0.05."
   ]
  },
  {
   "cell_type": "code",
   "execution_count": 34,
   "metadata": {
    "id": "gFvhRGwlPLS0"
   },
   "outputs": [
    {
     "data": {
      "text/plain": [
       "0.0003149479976072246"
      ]
     },
     "metadata": {},
     "output_type": "display_data"
    },
    {
     "name": "stdout",
     "output_type": "stream",
     "text": [
      "Нулевая гипотеза не находит подтверждения!\n"
     ]
    }
   ],
   "source": [
    "# Количество \"успехов\" \n",
    "m_a = group_a['good_session'].sum()\n",
    "m_b = group_b['good_session'].sum()\n",
    "\n",
    "# Размеры выборок\n",
    "n_a = group_a['session_id'].nunique()\n",
    "n_b = group_b['session_id'].nunique()\n",
    "\n",
    "# определим уровень значимости\n",
    "alpha = 0.05\n",
    "\n",
    "\n",
    "stat_ztest, p_value_ztest = proportions_ztest(\n",
    "    [m_a, m_b],\n",
    "    [n_a, n_b],\n",
    "    alternative='smaller' # так как H_1: p_a < p_b\n",
    ")\n",
    "\n",
    "stat_ztest, p_value_ztest = proportions_ztest(\n",
    "    [m_a, m_b],\n",
    "    [n_a, n_b],\n",
    "    alternative = 'two-sided')\n",
    "\n",
    "display(p_value_ztest)\n",
    "\n",
    "if p_value_ztest > alpha:\n",
    "    print('Нулевая гипотеза находит подтверждение!')\n",
    "else:\n",
    "    print('Нулевая гипотеза не находит подтверждения!')"
   ]
  },
  {
   "cell_type": "markdown",
   "metadata": {},
   "source": [
    "Так как p_value z-теста меньше alpha, альтернативная гипотеза находит подтверждение.\n",
    "\n",
    "То есть изменение количества успешных сессий в тестовой группе является статитически значимым."
   ]
  },
  {
   "cell_type": "markdown",
   "metadata": {
    "id": "GnJrkY9Q63zS"
   },
   "source": [
    "#### 4.5. Вывод по результатам A/B-эксперимента\n",
    "\n",
    "На основе проведённого анализа результатов теста сформулируйте и запишите свои выводы для команды разработки приложения. В выводе обязательно укажите:\n",
    "\n",
    "- Характеристики проведённого эксперимента, количество задействованных пользователей и длительность эксперимента.\n",
    "\n",
    "- Повлияло ли внедрение нового алгоритма рекомендаций на рост ключевой метрики и как.\n",
    "\n",
    "- Каким получилось значение p-value для оценки статистической значимости выявленного эффекта.\n",
    "\n",
    "- Стоит ли внедрять нововведение в приложение."
   ]
  },
  {
   "cell_type": "markdown",
   "metadata": {},
   "source": [
    "При проведении A/B тестирования были использованы данные 41040 уникальных пользователей, использовавших приложение в течение 9 дней.\n",
    "\n",
    "Внедрение нового алгоритма увеличило количество успешных сессий на 1.1%.\n",
    "\n",
    "Выяснили также, что p_value z-теста меньше уровня значимости, то есть увелиечение количества успешных сессий можно считать статистически значимым.\n",
    "\n",
    "Таким образом, стоит внедрить новоовведение в приложение."
   ]
  }
 ],
 "metadata": {
  "ExecuteTimeLog": [
   {
    "duration": 51,
    "start_time": "2025-08-02T22:18:03.801Z"
   },
   {
    "duration": 502,
    "start_time": "2025-08-02T22:18:22.472Z"
   },
   {
    "duration": 1063,
    "start_time": "2025-08-02T22:18:58.141Z"
   },
   {
    "duration": 53,
    "start_time": "2025-08-02T22:20:07.048Z"
   },
   {
    "duration": 1215,
    "start_time": "2025-08-02T22:22:20.838Z"
   },
   {
    "duration": 1150,
    "start_time": "2025-08-02T22:22:47.744Z"
   },
   {
    "duration": 141,
    "start_time": "2025-08-02T22:28:11.111Z"
   },
   {
    "duration": 91,
    "start_time": "2025-08-02T22:28:21.040Z"
   },
   {
    "duration": 83,
    "start_time": "2025-08-02T22:28:43.185Z"
   },
   {
    "duration": 99,
    "start_time": "2025-08-02T22:28:59.591Z"
   },
   {
    "duration": 89,
    "start_time": "2025-08-02T22:29:09.704Z"
   },
   {
    "duration": 91,
    "start_time": "2025-08-02T22:29:22.285Z"
   },
   {
    "duration": 119,
    "start_time": "2025-08-02T22:29:35.197Z"
   },
   {
    "duration": 102,
    "start_time": "2025-08-02T22:29:49.799Z"
   },
   {
    "duration": 104,
    "start_time": "2025-08-02T22:30:44.544Z"
   },
   {
    "duration": 87,
    "start_time": "2025-08-02T22:31:10.636Z"
   },
   {
    "duration": 39,
    "start_time": "2025-08-02T22:35:35.157Z"
   },
   {
    "duration": 31,
    "start_time": "2025-08-02T22:36:33.688Z"
   },
   {
    "duration": 574,
    "start_time": "2025-08-02T22:37:51.455Z"
   },
   {
    "duration": 42,
    "start_time": "2025-08-02T22:40:45.709Z"
   },
   {
    "duration": 147,
    "start_time": "2025-08-02T22:43:53.347Z"
   },
   {
    "duration": 106,
    "start_time": "2025-08-02T22:56:25.983Z"
   },
   {
    "duration": 87,
    "start_time": "2025-08-02T22:57:14.030Z"
   },
   {
    "duration": 101,
    "start_time": "2025-08-02T22:57:31.361Z"
   },
   {
    "duration": 92,
    "start_time": "2025-08-02T22:58:13.197Z"
   },
   {
    "duration": 126,
    "start_time": "2025-08-02T22:59:10.137Z"
   },
   {
    "duration": 88,
    "start_time": "2025-08-02T22:59:20.981Z"
   },
   {
    "duration": 106,
    "start_time": "2025-08-02T22:59:30.467Z"
   },
   {
    "duration": 121,
    "start_time": "2025-08-02T22:59:42.540Z"
   },
   {
    "duration": 143,
    "start_time": "2025-08-02T23:01:06.976Z"
   },
   {
    "duration": 95,
    "start_time": "2025-08-02T23:05:47.036Z"
   },
   {
    "duration": 1060,
    "start_time": "2025-08-03T15:35:05.198Z"
   },
   {
    "duration": 148,
    "start_time": "2025-08-03T15:35:06.260Z"
   },
   {
    "duration": 597,
    "start_time": "2025-08-03T15:35:07.934Z"
   },
   {
    "duration": 42,
    "start_time": "2025-08-03T15:35:09.326Z"
   },
   {
    "duration": 177,
    "start_time": "2025-08-03T15:38:50.483Z"
   },
   {
    "duration": 183,
    "start_time": "2025-08-03T15:39:05.685Z"
   },
   {
    "duration": 176,
    "start_time": "2025-08-03T15:42:16.810Z"
   },
   {
    "duration": 178,
    "start_time": "2025-08-03T15:42:25.042Z"
   },
   {
    "duration": 179,
    "start_time": "2025-08-03T15:46:16.165Z"
   },
   {
    "duration": 14,
    "start_time": "2025-08-03T15:53:54.830Z"
   },
   {
    "duration": 16,
    "start_time": "2025-08-03T15:54:03.812Z"
   },
   {
    "duration": 1356,
    "start_time": "2025-08-03T15:54:17.134Z"
   },
   {
    "duration": 190,
    "start_time": "2025-08-03T15:54:43.573Z"
   },
   {
    "duration": 338,
    "start_time": "2025-08-03T15:55:21.514Z"
   },
   {
    "duration": 76,
    "start_time": "2025-08-03T15:56:29.935Z"
   },
   {
    "duration": 85,
    "start_time": "2025-08-03T15:57:24.077Z"
   },
   {
    "duration": 85,
    "start_time": "2025-08-03T15:57:41.039Z"
   },
   {
    "duration": 1435,
    "start_time": "2025-08-03T15:58:55.186Z"
   },
   {
    "duration": 1379,
    "start_time": "2025-08-03T16:01:24.967Z"
   },
   {
    "duration": 210,
    "start_time": "2025-08-03T16:01:31.541Z"
   },
   {
    "duration": 577,
    "start_time": "2025-08-03T16:02:48.027Z"
   },
   {
    "duration": 511,
    "start_time": "2025-08-03T16:03:02.988Z"
   },
   {
    "duration": 512,
    "start_time": "2025-08-03T16:03:08.340Z"
   },
   {
    "duration": 2507,
    "start_time": "2025-08-05T08:37:39.994Z"
   },
   {
    "duration": 70,
    "start_time": "2025-08-05T08:40:31.738Z"
   },
   {
    "duration": 211,
    "start_time": "2025-08-05T08:41:05.171Z"
   },
   {
    "duration": 9,
    "start_time": "2025-08-05T08:42:05.023Z"
   },
   {
    "duration": 171,
    "start_time": "2025-08-05T08:42:33.168Z"
   },
   {
    "duration": 171,
    "start_time": "2025-08-05T08:42:44.386Z"
   },
   {
    "duration": 11,
    "start_time": "2025-08-05T08:45:36.543Z"
   },
   {
    "duration": 35,
    "start_time": "2025-08-05T08:49:46.192Z"
   },
   {
    "duration": 159,
    "start_time": "2025-08-05T08:51:22.874Z"
   },
   {
    "duration": 262,
    "start_time": "2025-08-05T08:51:41.080Z"
   },
   {
    "duration": 209,
    "start_time": "2025-08-05T08:52:01.872Z"
   },
   {
    "duration": 223,
    "start_time": "2025-08-05T08:57:47.846Z"
   },
   {
    "duration": 2766,
    "start_time": "2025-08-05T08:59:13.176Z"
   },
   {
    "duration": 70,
    "start_time": "2025-08-05T09:03:02.649Z"
   },
   {
    "duration": 54,
    "start_time": "2025-08-05T09:03:15.238Z"
   },
   {
    "duration": 56,
    "start_time": "2025-08-05T09:03:29.594Z"
   },
   {
    "duration": 55,
    "start_time": "2025-08-05T09:03:37.030Z"
   },
   {
    "duration": 6,
    "start_time": "2025-08-05T09:03:43.276Z"
   },
   {
    "duration": 206,
    "start_time": "2025-08-05T09:04:38.149Z"
   },
   {
    "duration": 12,
    "start_time": "2025-08-05T09:06:31.954Z"
   },
   {
    "duration": 10,
    "start_time": "2025-08-05T09:06:59.940Z"
   },
   {
    "duration": 11,
    "start_time": "2025-08-05T09:07:55.595Z"
   },
   {
    "duration": 12,
    "start_time": "2025-08-05T09:08:10.127Z"
   },
   {
    "duration": 16,
    "start_time": "2025-08-05T09:10:29.346Z"
   },
   {
    "duration": 57,
    "start_time": "2025-08-05T09:16:56.967Z"
   },
   {
    "duration": 48,
    "start_time": "2025-08-05T09:17:32.600Z"
   },
   {
    "duration": 175,
    "start_time": "2025-08-05T09:20:11.246Z"
   },
   {
    "duration": 14,
    "start_time": "2025-08-05T09:22:02.635Z"
   },
   {
    "duration": 170,
    "start_time": "2025-08-05T09:22:04.368Z"
   },
   {
    "duration": 167,
    "start_time": "2025-08-05T09:22:12.502Z"
   },
   {
    "duration": 156,
    "start_time": "2025-08-05T09:22:44.575Z"
   },
   {
    "duration": 21,
    "start_time": "2025-08-05T09:24:10.835Z"
   },
   {
    "duration": 13,
    "start_time": "2025-08-05T09:24:30.717Z"
   },
   {
    "duration": 11,
    "start_time": "2025-08-05T09:25:51.424Z"
   },
   {
    "duration": 7,
    "start_time": "2025-08-05T09:26:07.683Z"
   },
   {
    "duration": 9,
    "start_time": "2025-08-05T09:26:34.974Z"
   },
   {
    "duration": 5,
    "start_time": "2025-08-05T09:27:11.255Z"
   },
   {
    "duration": 123,
    "start_time": "2025-08-05T09:27:54.384Z"
   },
   {
    "duration": 9,
    "start_time": "2025-08-05T09:29:04.088Z"
   },
   {
    "duration": 5,
    "start_time": "2025-08-05T09:29:06.221Z"
   },
   {
    "duration": 203,
    "start_time": "2025-08-05T09:32:53.190Z"
   },
   {
    "duration": 8,
    "start_time": "2025-08-05T09:33:35.343Z"
   },
   {
    "duration": 299,
    "start_time": "2025-08-05T09:34:43.511Z"
   },
   {
    "duration": 8,
    "start_time": "2025-08-05T09:35:14.077Z"
   },
   {
    "duration": 8,
    "start_time": "2025-08-05T09:37:14.297Z"
   },
   {
    "duration": 3,
    "start_time": "2025-08-05T09:37:58.236Z"
   },
   {
    "duration": 159,
    "start_time": "2025-08-05T09:38:17.413Z"
   },
   {
    "duration": 226,
    "start_time": "2025-08-05T10:46:37.587Z"
   },
   {
    "duration": 816,
    "start_time": "2025-08-05T10:48:15.389Z"
   },
   {
    "duration": 42,
    "start_time": "2025-08-05T10:49:46.487Z"
   },
   {
    "duration": 7,
    "start_time": "2025-08-05T10:51:26.572Z"
   },
   {
    "duration": 56,
    "start_time": "2025-08-05T10:53:16.677Z"
   },
   {
    "duration": 34,
    "start_time": "2025-08-05T10:54:34.981Z"
   },
   {
    "duration": 2243,
    "start_time": "2025-08-05T13:26:23.936Z"
   },
   {
    "duration": 149,
    "start_time": "2025-08-05T13:26:26.181Z"
   },
   {
    "duration": 632,
    "start_time": "2025-08-05T13:26:26.331Z"
   },
   {
    "duration": 41,
    "start_time": "2025-08-05T13:26:26.965Z"
   },
   {
    "duration": 92,
    "start_time": "2025-08-05T13:26:27.008Z"
   },
   {
    "duration": 217,
    "start_time": "2025-08-05T13:26:27.102Z"
   },
   {
    "duration": 7,
    "start_time": "2025-08-05T13:26:27.321Z"
   },
   {
    "duration": 247,
    "start_time": "2025-08-05T13:26:27.330Z"
   },
   {
    "duration": 0,
    "start_time": "2025-08-05T13:26:27.580Z"
   },
   {
    "duration": 0,
    "start_time": "2025-08-05T13:26:27.581Z"
   },
   {
    "duration": 0,
    "start_time": "2025-08-05T13:26:27.582Z"
   },
   {
    "duration": 0,
    "start_time": "2025-08-05T13:26:27.583Z"
   },
   {
    "duration": 0,
    "start_time": "2025-08-05T13:26:27.584Z"
   },
   {
    "duration": 0,
    "start_time": "2025-08-05T13:26:27.585Z"
   },
   {
    "duration": 0,
    "start_time": "2025-08-05T13:26:27.586Z"
   },
   {
    "duration": 0,
    "start_time": "2025-08-05T13:26:27.587Z"
   },
   {
    "duration": 0,
    "start_time": "2025-08-05T13:26:27.588Z"
   },
   {
    "duration": 0,
    "start_time": "2025-08-05T13:26:27.589Z"
   },
   {
    "duration": 0,
    "start_time": "2025-08-05T13:26:27.590Z"
   },
   {
    "duration": 0,
    "start_time": "2025-08-05T13:26:27.590Z"
   },
   {
    "duration": 0,
    "start_time": "2025-08-05T13:26:27.591Z"
   },
   {
    "duration": 0,
    "start_time": "2025-08-05T13:26:27.593Z"
   },
   {
    "duration": 0,
    "start_time": "2025-08-05T13:26:27.594Z"
   },
   {
    "duration": 0,
    "start_time": "2025-08-05T13:26:27.595Z"
   },
   {
    "duration": 0,
    "start_time": "2025-08-05T13:26:27.595Z"
   },
   {
    "duration": 0,
    "start_time": "2025-08-05T13:26:27.596Z"
   },
   {
    "duration": 0,
    "start_time": "2025-08-05T13:26:27.598Z"
   },
   {
    "duration": 0,
    "start_time": "2025-08-05T13:26:27.599Z"
   },
   {
    "duration": 0,
    "start_time": "2025-08-05T13:26:27.599Z"
   },
   {
    "duration": 0,
    "start_time": "2025-08-05T13:26:27.600Z"
   },
   {
    "duration": 0,
    "start_time": "2025-08-05T13:26:27.602Z"
   },
   {
    "duration": 0,
    "start_time": "2025-08-05T13:26:27.603Z"
   },
   {
    "duration": 2255,
    "start_time": "2025-08-05T13:31:49.168Z"
   },
   {
    "duration": 168,
    "start_time": "2025-08-05T13:31:51.425Z"
   },
   {
    "duration": 616,
    "start_time": "2025-08-05T13:31:51.595Z"
   },
   {
    "duration": 63,
    "start_time": "2025-08-05T13:31:52.213Z"
   },
   {
    "duration": 88,
    "start_time": "2025-08-05T13:31:52.278Z"
   },
   {
    "duration": 225,
    "start_time": "2025-08-05T13:31:52.369Z"
   },
   {
    "duration": 8,
    "start_time": "2025-08-05T13:31:52.596Z"
   },
   {
    "duration": 270,
    "start_time": "2025-08-05T13:31:52.606Z"
   },
   {
    "duration": 0,
    "start_time": "2025-08-05T13:31:52.879Z"
   },
   {
    "duration": 0,
    "start_time": "2025-08-05T13:31:52.880Z"
   },
   {
    "duration": 0,
    "start_time": "2025-08-05T13:31:52.882Z"
   },
   {
    "duration": 0,
    "start_time": "2025-08-05T13:31:52.883Z"
   },
   {
    "duration": 0,
    "start_time": "2025-08-05T13:31:52.884Z"
   },
   {
    "duration": 0,
    "start_time": "2025-08-05T13:31:52.885Z"
   },
   {
    "duration": 0,
    "start_time": "2025-08-05T13:31:52.886Z"
   },
   {
    "duration": 0,
    "start_time": "2025-08-05T13:31:52.887Z"
   },
   {
    "duration": 0,
    "start_time": "2025-08-05T13:31:52.889Z"
   },
   {
    "duration": 0,
    "start_time": "2025-08-05T13:31:52.890Z"
   },
   {
    "duration": 0,
    "start_time": "2025-08-05T13:31:52.891Z"
   },
   {
    "duration": 1,
    "start_time": "2025-08-05T13:31:52.892Z"
   },
   {
    "duration": 0,
    "start_time": "2025-08-05T13:31:52.894Z"
   },
   {
    "duration": 0,
    "start_time": "2025-08-05T13:31:52.895Z"
   },
   {
    "duration": 0,
    "start_time": "2025-08-05T13:31:52.896Z"
   },
   {
    "duration": 0,
    "start_time": "2025-08-05T13:31:52.897Z"
   },
   {
    "duration": 0,
    "start_time": "2025-08-05T13:31:52.898Z"
   },
   {
    "duration": 0,
    "start_time": "2025-08-05T13:31:52.899Z"
   },
   {
    "duration": 0,
    "start_time": "2025-08-05T13:31:52.900Z"
   },
   {
    "duration": 0,
    "start_time": "2025-08-05T13:31:52.901Z"
   },
   {
    "duration": 0,
    "start_time": "2025-08-05T13:31:52.902Z"
   },
   {
    "duration": 0,
    "start_time": "2025-08-05T13:31:52.904Z"
   },
   {
    "duration": 0,
    "start_time": "2025-08-05T13:31:52.905Z"
   },
   {
    "duration": 0,
    "start_time": "2025-08-05T13:31:52.906Z"
   },
   {
    "duration": 2459,
    "start_time": "2025-08-05T15:30:17.495Z"
   },
   {
    "duration": 171,
    "start_time": "2025-08-05T15:30:22.371Z"
   },
   {
    "duration": 603,
    "start_time": "2025-08-05T15:30:24.412Z"
   },
   {
    "duration": 51,
    "start_time": "2025-08-05T15:30:25.302Z"
   },
   {
    "duration": 71,
    "start_time": "2025-08-05T15:30:27.933Z"
   },
   {
    "duration": 211,
    "start_time": "2025-08-05T15:30:28.951Z"
   },
   {
    "duration": 9,
    "start_time": "2025-08-05T15:30:29.985Z"
   },
   {
    "duration": 183,
    "start_time": "2025-08-05T15:30:38.348Z"
   },
   {
    "duration": 11,
    "start_time": "2025-08-05T15:31:37.231Z"
   },
   {
    "duration": 31,
    "start_time": "2025-08-05T15:31:38.017Z"
   },
   {
    "duration": 201,
    "start_time": "2025-08-05T15:31:38.723Z"
   },
   {
    "duration": 2954,
    "start_time": "2025-08-05T15:31:40.581Z"
   },
   {
    "duration": 87,
    "start_time": "2025-08-05T15:31:43.537Z"
   },
   {
    "duration": 5,
    "start_time": "2025-08-05T15:31:43.626Z"
   },
   {
    "duration": 185,
    "start_time": "2025-08-05T15:31:46.741Z"
   },
   {
    "duration": 13,
    "start_time": "2025-08-05T15:31:53.360Z"
   },
   {
    "duration": 170,
    "start_time": "2025-08-05T15:31:55.271Z"
   },
   {
    "duration": 145,
    "start_time": "2025-08-05T15:32:13.820Z"
   },
   {
    "duration": 31,
    "start_time": "2025-08-05T15:32:27.147Z"
   },
   {
    "duration": 12,
    "start_time": "2025-08-05T15:32:27.762Z"
   },
   {
    "duration": 11,
    "start_time": "2025-08-05T15:32:28.539Z"
   },
   {
    "duration": 9,
    "start_time": "2025-08-05T15:32:30.460Z"
   },
   {
    "duration": 5,
    "start_time": "2025-08-05T15:32:31.372Z"
   },
   {
    "duration": 137,
    "start_time": "2025-08-05T15:32:33.483Z"
   },
   {
    "duration": 12,
    "start_time": "2025-08-05T15:32:35.189Z"
   },
   {
    "duration": 370,
    "start_time": "2025-08-05T15:32:37.555Z"
   },
   {
    "duration": 10,
    "start_time": "2025-08-05T15:32:38.805Z"
   },
   {
    "duration": 9,
    "start_time": "2025-08-05T15:32:40.747Z"
   },
   {
    "duration": 198,
    "start_time": "2025-08-05T15:32:42.912Z"
   },
   {
    "duration": 917,
    "start_time": "2025-08-05T15:32:47.047Z"
   },
   {
    "duration": 42,
    "start_time": "2025-08-05T15:32:48.412Z"
   },
   {
    "duration": 8,
    "start_time": "2025-08-05T15:32:51.102Z"
   },
   {
    "duration": 108,
    "start_time": "2025-08-05T15:32:53.021Z"
   },
   {
    "duration": 1300,
    "start_time": "2025-08-05T15:34:04.142Z"
   },
   {
    "duration": 1332,
    "start_time": "2025-08-05T15:34:36.023Z"
   },
   {
    "duration": 10,
    "start_time": "2025-08-05T15:36:01.677Z"
   },
   {
    "duration": 32,
    "start_time": "2025-08-05T15:36:55.641Z"
   },
   {
    "duration": 52,
    "start_time": "2025-08-05T15:37:04.102Z"
   },
   {
    "duration": 62,
    "start_time": "2025-08-05T15:37:29.262Z"
   },
   {
    "duration": 27,
    "start_time": "2025-08-05T15:38:09.603Z"
   },
   {
    "duration": 2418,
    "start_time": "2025-08-05T16:57:45.215Z"
   },
   {
    "duration": 158,
    "start_time": "2025-08-05T16:57:47.635Z"
   },
   {
    "duration": 676,
    "start_time": "2025-08-05T16:57:47.795Z"
   },
   {
    "duration": 43,
    "start_time": "2025-08-05T16:57:48.472Z"
   },
   {
    "duration": 89,
    "start_time": "2025-08-05T16:57:48.518Z"
   },
   {
    "duration": 247,
    "start_time": "2025-08-05T16:57:48.608Z"
   },
   {
    "duration": 7,
    "start_time": "2025-08-05T16:57:48.860Z"
   },
   {
    "duration": 225,
    "start_time": "2025-08-05T16:57:48.869Z"
   },
   {
    "duration": 12,
    "start_time": "2025-08-05T16:57:49.096Z"
   },
   {
    "duration": 57,
    "start_time": "2025-08-05T16:57:49.111Z"
   },
   {
    "duration": 223,
    "start_time": "2025-08-05T16:57:49.170Z"
   },
   {
    "duration": 2846,
    "start_time": "2025-08-05T16:57:49.396Z"
   },
   {
    "duration": 81,
    "start_time": "2025-08-05T16:57:52.244Z"
   },
   {
    "duration": 6,
    "start_time": "2025-08-05T16:57:52.330Z"
   },
   {
    "duration": 217,
    "start_time": "2025-08-05T16:57:52.338Z"
   },
   {
    "duration": 16,
    "start_time": "2025-08-05T16:57:52.559Z"
   },
   {
    "duration": 193,
    "start_time": "2025-08-05T16:57:52.576Z"
   },
   {
    "duration": 23,
    "start_time": "2025-08-05T16:57:52.771Z"
   },
   {
    "duration": 28,
    "start_time": "2025-08-05T16:57:52.795Z"
   },
   {
    "duration": 22,
    "start_time": "2025-08-05T16:57:52.825Z"
   },
   {
    "duration": 12,
    "start_time": "2025-08-05T16:57:52.849Z"
   },
   {
    "duration": 4,
    "start_time": "2025-08-05T16:57:52.862Z"
   },
   {
    "duration": 151,
    "start_time": "2025-08-05T16:57:52.868Z"
   },
   {
    "duration": 8,
    "start_time": "2025-08-05T16:57:53.020Z"
   },
   {
    "duration": 387,
    "start_time": "2025-08-05T16:57:53.030Z"
   },
   {
    "duration": 9,
    "start_time": "2025-08-05T16:57:53.418Z"
   },
   {
    "duration": 25,
    "start_time": "2025-08-05T16:57:53.428Z"
   },
   {
    "duration": 194,
    "start_time": "2025-08-05T16:57:53.455Z"
   },
   {
    "duration": 996,
    "start_time": "2025-08-05T16:57:53.651Z"
   },
   {
    "duration": 55,
    "start_time": "2025-08-05T16:57:54.649Z"
   },
   {
    "duration": 79,
    "start_time": "2025-08-05T16:57:54.705Z"
   },
   {
    "duration": 67,
    "start_time": "2025-08-05T16:57:54.786Z"
   },
   {
    "duration": 32,
    "start_time": "2025-08-05T16:57:54.855Z"
   },
   {
    "duration": 2489,
    "start_time": "2025-08-05T17:06:01.970Z"
   },
   {
    "duration": 160,
    "start_time": "2025-08-05T17:06:04.461Z"
   },
   {
    "duration": 669,
    "start_time": "2025-08-05T17:06:04.623Z"
   },
   {
    "duration": 45,
    "start_time": "2025-08-05T17:06:05.295Z"
   },
   {
    "duration": 95,
    "start_time": "2025-08-05T17:06:05.342Z"
   },
   {
    "duration": 261,
    "start_time": "2025-08-05T17:06:05.438Z"
   },
   {
    "duration": 9,
    "start_time": "2025-08-05T17:06:05.701Z"
   },
   {
    "duration": 253,
    "start_time": "2025-08-05T17:06:05.712Z"
   },
   {
    "duration": 14,
    "start_time": "2025-08-05T17:06:05.967Z"
   },
   {
    "duration": 40,
    "start_time": "2025-08-05T17:06:05.984Z"
   },
   {
    "duration": 253,
    "start_time": "2025-08-05T17:06:06.026Z"
   },
   {
    "duration": 2991,
    "start_time": "2025-08-05T17:06:06.281Z"
   },
   {
    "duration": 87,
    "start_time": "2025-08-05T17:06:09.274Z"
   },
   {
    "duration": 7,
    "start_time": "2025-08-05T17:06:09.365Z"
   },
   {
    "duration": 219,
    "start_time": "2025-08-05T17:06:09.374Z"
   },
   {
    "duration": 16,
    "start_time": "2025-08-05T17:06:09.595Z"
   },
   {
    "duration": 199,
    "start_time": "2025-08-05T17:06:09.613Z"
   },
   {
    "duration": 22,
    "start_time": "2025-08-05T17:06:09.814Z"
   },
   {
    "duration": 23,
    "start_time": "2025-08-05T17:06:09.838Z"
   },
   {
    "duration": 12,
    "start_time": "2025-08-05T17:06:09.862Z"
   },
   {
    "duration": 29,
    "start_time": "2025-08-05T17:06:09.876Z"
   },
   {
    "duration": 4,
    "start_time": "2025-08-05T17:06:09.907Z"
   },
   {
    "duration": 172,
    "start_time": "2025-08-05T17:06:09.912Z"
   },
   {
    "duration": 8,
    "start_time": "2025-08-05T17:06:10.086Z"
   },
   {
    "duration": 371,
    "start_time": "2025-08-05T17:06:10.096Z"
   },
   {
    "duration": 9,
    "start_time": "2025-08-05T17:06:10.469Z"
   },
   {
    "duration": 70,
    "start_time": "2025-08-05T17:06:10.479Z"
   },
   {
    "duration": 192,
    "start_time": "2025-08-05T17:06:10.551Z"
   },
   {
    "duration": 927,
    "start_time": "2025-08-05T17:06:10.744Z"
   },
   {
    "duration": 48,
    "start_time": "2025-08-05T17:06:11.673Z"
   },
   {
    "duration": 12,
    "start_time": "2025-08-05T17:06:11.722Z"
   },
   {
    "duration": 84,
    "start_time": "2025-08-05T17:06:11.735Z"
   },
   {
    "duration": 59,
    "start_time": "2025-08-05T17:06:11.821Z"
   },
   {
    "duration": 54,
    "start_time": "2025-08-05T21:40:09.665Z"
   },
   {
    "duration": 2519,
    "start_time": "2025-08-05T21:40:35.524Z"
   },
   {
    "duration": 147,
    "start_time": "2025-08-05T21:40:40.119Z"
   },
   {
    "duration": 617,
    "start_time": "2025-08-05T21:40:42.860Z"
   },
   {
    "duration": 41,
    "start_time": "2025-08-05T21:40:44.569Z"
   },
   {
    "duration": 71,
    "start_time": "2025-08-05T21:40:49.899Z"
   },
   {
    "duration": 214,
    "start_time": "2025-08-05T21:40:53.028Z"
   },
   {
    "duration": 8,
    "start_time": "2025-08-05T21:40:54.982Z"
   },
   {
    "duration": 179,
    "start_time": "2025-08-05T21:40:56.683Z"
   },
   {
    "duration": 11,
    "start_time": "2025-08-05T21:41:01.523Z"
   },
   {
    "duration": 35,
    "start_time": "2025-08-05T21:41:02.496Z"
   },
   {
    "duration": 198,
    "start_time": "2025-08-05T21:41:03.019Z"
   },
   {
    "duration": 2754,
    "start_time": "2025-08-05T21:41:05.053Z"
   },
   {
    "duration": 77,
    "start_time": "2025-08-05T21:41:07.809Z"
   },
   {
    "duration": 6,
    "start_time": "2025-08-05T21:41:07.887Z"
   },
   {
    "duration": 216,
    "start_time": "2025-08-05T21:41:07.895Z"
   },
   {
    "duration": 17,
    "start_time": "2025-08-05T21:41:14.035Z"
   },
   {
    "duration": 198,
    "start_time": "2025-08-05T21:41:16.484Z"
   },
   {
    "duration": 22,
    "start_time": "2025-08-05T21:41:22.997Z"
   },
   {
    "duration": 14,
    "start_time": "2025-08-05T21:41:23.540Z"
   },
   {
    "duration": 11,
    "start_time": "2025-08-05T21:41:24.306Z"
   },
   {
    "duration": 11,
    "start_time": "2025-08-05T21:41:24.876Z"
   },
   {
    "duration": 4,
    "start_time": "2025-08-05T21:41:25.466Z"
   },
   {
    "duration": 132,
    "start_time": "2025-08-05T21:41:26.702Z"
   },
   {
    "duration": 8,
    "start_time": "2025-08-05T21:41:28.654Z"
   },
   {
    "duration": 323,
    "start_time": "2025-08-05T21:41:31.763Z"
   },
   {
    "duration": 327,
    "start_time": "2025-08-05T21:41:57.522Z"
   },
   {
    "duration": 578,
    "start_time": "2025-08-05T21:43:50.851Z"
   },
   {
    "duration": 319,
    "start_time": "2025-08-05T21:47:18.195Z"
   },
   {
    "duration": 281,
    "start_time": "2025-08-05T21:51:05.715Z"
   },
   {
    "duration": 315,
    "start_time": "2025-08-05T21:52:48.389Z"
   },
   {
    "duration": 8,
    "start_time": "2025-08-05T21:58:02.625Z"
   },
   {
    "duration": 6,
    "start_time": "2025-08-05T21:58:31.922Z"
   },
   {
    "duration": 10,
    "start_time": "2025-08-05T21:59:26.956Z"
   },
   {
    "duration": 279,
    "start_time": "2025-08-05T22:04:28.670Z"
   },
   {
    "duration": 11,
    "start_time": "2025-08-05T22:10:44.494Z"
   },
   {
    "duration": 12,
    "start_time": "2025-08-05T22:11:01.597Z"
   },
   {
    "duration": 9,
    "start_time": "2025-08-05T22:11:08.338Z"
   },
   {
    "duration": 859,
    "start_time": "2025-08-05T22:11:16.905Z"
   },
   {
    "duration": 45,
    "start_time": "2025-08-05T22:11:20.704Z"
   },
   {
    "duration": 11,
    "start_time": "2025-08-05T22:11:23.039Z"
   },
   {
    "duration": 7,
    "start_time": "2025-08-05T22:11:30.711Z"
   },
   {
    "duration": 2165,
    "start_time": "2025-08-06T09:29:18.507Z"
   },
   {
    "duration": 149,
    "start_time": "2025-08-06T09:29:20.675Z"
   },
   {
    "duration": 558,
    "start_time": "2025-08-06T09:29:20.825Z"
   },
   {
    "duration": 42,
    "start_time": "2025-08-06T09:29:21.384Z"
   },
   {
    "duration": 89,
    "start_time": "2025-08-06T09:29:21.428Z"
   },
   {
    "duration": 219,
    "start_time": "2025-08-06T09:29:21.518Z"
   },
   {
    "duration": 8,
    "start_time": "2025-08-06T09:29:21.738Z"
   },
   {
    "duration": 182,
    "start_time": "2025-08-06T09:29:21.760Z"
   },
   {
    "duration": 18,
    "start_time": "2025-08-06T09:29:21.943Z"
   },
   {
    "duration": 99,
    "start_time": "2025-08-06T09:29:21.963Z"
   },
   {
    "duration": 234,
    "start_time": "2025-08-06T09:29:22.063Z"
   },
   {
    "duration": 2724,
    "start_time": "2025-08-06T09:29:22.299Z"
   },
   {
    "duration": 71,
    "start_time": "2025-08-06T09:29:25.025Z"
   },
   {
    "duration": 81,
    "start_time": "2025-08-06T09:29:25.099Z"
   },
   {
    "duration": 188,
    "start_time": "2025-08-06T09:29:25.182Z"
   },
   {
    "duration": 15,
    "start_time": "2025-08-06T09:29:25.372Z"
   },
   {
    "duration": 174,
    "start_time": "2025-08-06T09:29:25.388Z"
   },
   {
    "duration": 22,
    "start_time": "2025-08-06T09:29:25.563Z"
   },
   {
    "duration": 14,
    "start_time": "2025-08-06T09:29:25.587Z"
   },
   {
    "duration": 11,
    "start_time": "2025-08-06T09:29:25.603Z"
   },
   {
    "duration": 9,
    "start_time": "2025-08-06T09:29:25.615Z"
   },
   {
    "duration": 4,
    "start_time": "2025-08-06T09:29:25.625Z"
   },
   {
    "duration": 186,
    "start_time": "2025-08-06T09:29:25.630Z"
   },
   {
    "duration": 8,
    "start_time": "2025-08-06T09:29:25.818Z"
   },
   {
    "duration": 404,
    "start_time": "2025-08-06T09:29:25.827Z"
   },
   {
    "duration": 8,
    "start_time": "2025-08-06T09:29:26.233Z"
   },
   {
    "duration": 78,
    "start_time": "2025-08-06T09:29:26.243Z"
   },
   {
    "duration": 270,
    "start_time": "2025-08-06T09:29:26.323Z"
   },
   {
    "duration": 856,
    "start_time": "2025-08-06T09:29:26.595Z"
   },
   {
    "duration": 45,
    "start_time": "2025-08-06T09:29:27.453Z"
   },
   {
    "duration": 6,
    "start_time": "2025-08-06T09:29:27.499Z"
   },
   {
    "duration": 12,
    "start_time": "2025-08-06T09:29:27.507Z"
   },
   {
    "duration": 75,
    "start_time": "2025-08-06T09:29:27.521Z"
   },
   {
    "duration": 29,
    "start_time": "2025-08-06T09:29:27.598Z"
   },
   {
    "duration": 2197,
    "start_time": "2025-08-06T09:35:39.664Z"
   },
   {
    "duration": 148,
    "start_time": "2025-08-06T09:35:41.864Z"
   },
   {
    "duration": 555,
    "start_time": "2025-08-06T09:35:42.014Z"
   },
   {
    "duration": 40,
    "start_time": "2025-08-06T09:35:42.570Z"
   },
   {
    "duration": 84,
    "start_time": "2025-08-06T09:35:42.613Z"
   },
   {
    "duration": 219,
    "start_time": "2025-08-06T09:35:42.699Z"
   },
   {
    "duration": 8,
    "start_time": "2025-08-06T09:35:42.920Z"
   },
   {
    "duration": 192,
    "start_time": "2025-08-06T09:35:42.930Z"
   },
   {
    "duration": 12,
    "start_time": "2025-08-06T09:35:43.124Z"
   },
   {
    "duration": 96,
    "start_time": "2025-08-06T09:35:43.138Z"
   },
   {
    "duration": 191,
    "start_time": "2025-08-06T09:35:43.236Z"
   },
   {
    "duration": 2684,
    "start_time": "2025-08-06T09:35:43.428Z"
   },
   {
    "duration": 82,
    "start_time": "2025-08-06T09:35:46.114Z"
   },
   {
    "duration": 6,
    "start_time": "2025-08-06T09:35:46.200Z"
   },
   {
    "duration": 200,
    "start_time": "2025-08-06T09:35:46.208Z"
   },
   {
    "duration": 14,
    "start_time": "2025-08-06T09:35:46.409Z"
   },
   {
    "duration": 241,
    "start_time": "2025-08-06T09:35:46.424Z"
   },
   {
    "duration": 22,
    "start_time": "2025-08-06T09:35:46.666Z"
   },
   {
    "duration": 14,
    "start_time": "2025-08-06T09:35:46.690Z"
   },
   {
    "duration": 16,
    "start_time": "2025-08-06T09:35:46.706Z"
   },
   {
    "duration": 111,
    "start_time": "2025-08-06T09:35:46.723Z"
   },
   {
    "duration": 23,
    "start_time": "2025-08-06T09:35:46.836Z"
   },
   {
    "duration": 137,
    "start_time": "2025-08-06T09:35:46.860Z"
   },
   {
    "duration": 7,
    "start_time": "2025-08-06T09:35:46.999Z"
   },
   {
    "duration": 326,
    "start_time": "2025-08-06T09:35:47.007Z"
   },
   {
    "duration": 9,
    "start_time": "2025-08-06T09:35:47.334Z"
   },
   {
    "duration": 16,
    "start_time": "2025-08-06T09:35:47.345Z"
   },
   {
    "duration": 288,
    "start_time": "2025-08-06T09:35:47.363Z"
   },
   {
    "duration": 845,
    "start_time": "2025-08-06T09:35:47.660Z"
   },
   {
    "duration": 40,
    "start_time": "2025-08-06T09:35:48.506Z"
   },
   {
    "duration": 35,
    "start_time": "2025-08-06T09:35:48.548Z"
   },
   {
    "duration": 16,
    "start_time": "2025-08-06T09:35:48.585Z"
   },
   {
    "duration": 61,
    "start_time": "2025-08-06T09:35:48.603Z"
   },
   {
    "duration": 31,
    "start_time": "2025-08-06T09:35:48.666Z"
   }
  ],
  "colab": {
   "provenance": []
  },
  "kernelspec": {
   "display_name": "Python 3 (ipykernel)",
   "language": "python",
   "name": "python3"
  },
  "language_info": {
   "codemirror_mode": {
    "name": "ipython",
    "version": 3
   },
   "file_extension": ".py",
   "mimetype": "text/x-python",
   "name": "python",
   "nbconvert_exporter": "python",
   "pygments_lexer": "ipython3",
   "version": "3.9.5"
  },
  "toc": {
   "base_numbering": 1,
   "nav_menu": {},
   "number_sections": true,
   "sideBar": true,
   "skip_h1_title": true,
   "title_cell": "Table of Contents",
   "title_sidebar": "Contents",
   "toc_cell": false,
   "toc_position": {},
   "toc_section_display": true,
   "toc_window_display": false
  }
 },
 "nbformat": 4,
 "nbformat_minor": 1
}

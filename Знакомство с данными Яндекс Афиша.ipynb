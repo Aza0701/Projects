{
 "cells": [
  {
   "cell_type": "markdown",
   "id": "fbebcb2f",
   "metadata": {},
   "source": [
    "# Исследовательский анализ данных в Python и проверка гипотез. Знакомство с данными Яндекс Афиша"
   ]
  },
  {
   "cell_type": "markdown",
   "id": "51b82771",
   "metadata": {},
   "source": [
    "- Автор: Бесаева Аза\n",
    "- Дата: 21.08.2025"
   ]
  },
  {
   "cell_type": "markdown",
   "id": "0428554d",
   "metadata": {},
   "source": [
    "### Цели и задачи проекта"
   ]
  },
  {
   "cell_type": "markdown",
   "id": "9607131c",
   "metadata": {},
   "source": [
    "Цель проекта проанализировать данные сервиса Яндекс Афиша за период с 1 июня по 31 октября 2024 года и проверить изменения пользовательских предпочтений и популярности событий осенью 2024 года, а также проверить гипотезу о разнице в поведении пользователей с мобильных и стационарных устройств"
   ]
  },
  {
   "cell_type": "markdown",
   "id": "4d36d865",
   "metadata": {},
   "source": [
    "### Описание данных"
   ]
  },
  {
   "cell_type": "markdown",
   "id": "8b771bea",
   "metadata": {},
   "source": [
    "Первый датасет **final_tickets_orders_df.csv** включает информацию обо всех заказах билетов, совершённых с двух типов устройств — мобильных и стационарных.\n",
    "\n",
    "Поля датасета соответствуют таблице `purchases`:\n",
    "\n",
    "`order_id` — уникальный идентификатор заказа.\n",
    "\n",
    "`user_id` — уникальный идентификатор пользователя.\n",
    "\n",
    "`created_dt_msk` — дата создания заказа (московское время).\n",
    "\n",
    "`created_ts_msk` — дата и время создания заказа (московское время).\n",
    "\n",
    "`event_id` — идентификатор мероприятия из таблицы events.\n",
    "\n",
    "`cinema_circuit` — сеть кинотеатров. Если не применимо, то здесь будет значение 'нет'.\n",
    "\n",
    "`age_limit` — возрастное ограничение мероприятия.\n",
    "\n",
    "`currency_code` — валюта оплаты, например rub для российских рублей.\n",
    "\n",
    "`device_type_canonical` — тип устройства, с которого был оформлен заказ, например `mobile` для мобильных устройств, \n",
    "\n",
    "`desktop` для стационарных;\n",
    "\n",
    "`revenue` — выручка от заказа.\n",
    "\n",
    "`service_name` — название билетного оператора.\n",
    "\n",
    "`tickets_count` — количество купленных билетов.\n",
    "\n",
    "`total` — общая сумма заказа.\n",
    "\n",
    "В данные также был добавлен столбец `days_since_prev` с количеством дней с предыдущей покупки для каждого пользователя. Если покупки не было, то данные содержат пропуск.\n",
    "\n",
    "Второй датасет **final_tickets_events_df.csv** содержит информацию о событиях, включая город и регион события, а также информацию о площадке проведения мероприятия.\n",
    "\n",
    "Датасет содержит такие поля:\n",
    "\n",
    "`event_id` — уникальный идентификатор мероприятия.\n",
    "\n",
    "`event_name` — название мероприятия. Аналог поля event_name_code из исходной базы данных.\n",
    "\n",
    "`event_type_description` — описание типа мероприятия.\n",
    "\n",
    "`event_type_main` — основной тип мероприятия: театральная постановка, концерт и так далее.\n",
    "\n",
    "`organizers` — организаторы мероприятия.\n",
    "\n",
    "`region_name` — название региона.\n",
    "\n",
    "`city_name` — название города.\n",
    "\n",
    "`venue_id` — уникальный идентификатор площадки.\n",
    "\n",
    "`venue_name` — название площадки.\n",
    "\n",
    "`venue_address` — адрес площадки.\n",
    "\n",
    "Датасет **final_tickets_tenge_df.csv** с информацией о курсе тенге к российскому рублю за 2024 год. Значения в рублях представлено для 100 тенге.\n",
    "\n",
    "Датасет содержит такие поля:\n",
    "\n",
    "`nominal` — номинал (100 тенге);\n",
    "\n",
    "`data` — дата;\n",
    "\n",
    "`curs` — курс тенге к рублю;\n",
    "\n",
    "`cdx` — обозначение валюты (kzt)."
   ]
  },
  {
   "cell_type": "markdown",
   "id": "a2af9f36",
   "metadata": {},
   "source": [
    "## Загрузка данных и знакомство с ними"
   ]
  },
  {
   "cell_type": "code",
   "execution_count": 2,
   "id": "ef42f964",
   "metadata": {},
   "outputs": [],
   "source": [
    "# Импортируем библиотеки\n",
    "import pandas as pd\n",
    "\n",
    "# Загружаем библиотеки для визуализации данных\n",
    "import matplotlib.pyplot as plt\n",
    "import seaborn as sns\n",
    "\n",
    "from scipy.stats import ttest_ind, mannwhitneyu\n",
    "from statsmodels.stats.proportion import proportions_ztest"
   ]
  },
  {
   "cell_type": "code",
   "execution_count": 3,
   "id": "a67c0584",
   "metadata": {},
   "outputs": [],
   "source": [
    "# Выгружаем данные датафреймов\n",
    "orders_df = pd.read_csv('https://code.s3.yandex.net/datasets/final_tickets_orders_df.csv')\n",
    "tickets_df = pd.read_csv('https://code.s3.yandex.net/datasets/final_tickets_events_df.csv')\n",
    "tenge_df = pd.read_csv('https://code.s3.yandex.net/datasets/final_tickets_tenge_df.csv')"
   ]
  },
  {
   "cell_type": "code",
   "execution_count": 4,
   "id": "09bfe92e",
   "metadata": {},
   "outputs": [
    {
     "name": "stdout",
     "output_type": "stream",
     "text": [
      "<class 'pandas.core.frame.DataFrame'>\n",
      "RangeIndex: 290849 entries, 0 to 290848\n",
      "Data columns (total 14 columns):\n",
      " #   Column                 Non-Null Count   Dtype  \n",
      "---  ------                 --------------   -----  \n",
      " 0   order_id               290849 non-null  int64  \n",
      " 1   user_id                290849 non-null  object \n",
      " 2   created_dt_msk         290849 non-null  object \n",
      " 3   created_ts_msk         290849 non-null  object \n",
      " 4   event_id               290849 non-null  int64  \n",
      " 5   cinema_circuit         290849 non-null  object \n",
      " 6   age_limit              290849 non-null  int64  \n",
      " 7   currency_code          290849 non-null  object \n",
      " 8   device_type_canonical  290849 non-null  object \n",
      " 9   revenue                290849 non-null  float64\n",
      " 10  service_name           290849 non-null  object \n",
      " 11  tickets_count          290849 non-null  int64  \n",
      " 12  total                  290849 non-null  float64\n",
      " 13  days_since_prev        268909 non-null  float64\n",
      "dtypes: float64(3), int64(4), object(7)\n",
      "memory usage: 31.1+ MB\n"
     ]
    }
   ],
   "source": [
    "# Выводим информацию о датафреймах\n",
    "orders_df.info()"
   ]
  },
  {
   "cell_type": "markdown",
   "id": "98c8a9b2",
   "metadata": {},
   "source": [
    "По данным видим, что столбцы содержат 290849 строк, 14 столбцов, в столбце `days_since_prev` есть пропуски: их 21940 штук (по условию задания они есть)\n",
    "\n",
    "Но в столбцах `created_dt_msk`, `created_ts_msk` мы видим даты, а тип данных object, поэтому переведём данные в этих столбцах в datetime64"
   ]
  },
  {
   "cell_type": "code",
   "execution_count": 5,
   "id": "8e9d0a6f",
   "metadata": {},
   "outputs": [
    {
     "name": "stdout",
     "output_type": "stream",
     "text": [
      "<class 'pandas.core.frame.DataFrame'>\n",
      "RangeIndex: 290849 entries, 0 to 290848\n",
      "Data columns (total 14 columns):\n",
      " #   Column                 Non-Null Count   Dtype         \n",
      "---  ------                 --------------   -----         \n",
      " 0   order_id               290849 non-null  int64         \n",
      " 1   user_id                290849 non-null  object        \n",
      " 2   created_dt_msk         290849 non-null  datetime64[ns]\n",
      " 3   created_ts_msk         290849 non-null  datetime64[ns]\n",
      " 4   event_id               290849 non-null  int64         \n",
      " 5   cinema_circuit         290849 non-null  object        \n",
      " 6   age_limit              290849 non-null  int64         \n",
      " 7   currency_code          290849 non-null  object        \n",
      " 8   device_type_canonical  290849 non-null  object        \n",
      " 9   revenue                290849 non-null  float64       \n",
      " 10  service_name           290849 non-null  object        \n",
      " 11  tickets_count          290849 non-null  int64         \n",
      " 12  total                  290849 non-null  float64       \n",
      " 13  days_since_prev        268909 non-null  float64       \n",
      "dtypes: datetime64[ns](2), float64(3), int64(4), object(5)\n",
      "memory usage: 31.1+ MB\n"
     ]
    }
   ],
   "source": [
    "# Преобразуем данные даты из object в datetime64\n",
    "orders_df['created_dt_msk'] = orders_df['created_dt_msk'].astype('datetime64[ns]')\n",
    "orders_df['created_ts_msk'] = orders_df['created_ts_msk'].astype('datetime64[ns]')\n",
    "orders_df.info() # проверим, всё ли верно"
   ]
  },
  {
   "cell_type": "code",
   "execution_count": 6,
   "id": "c817d89f",
   "metadata": {},
   "outputs": [
    {
     "data": {
      "text/plain": [
       "order_id                     0\n",
       "user_id                      0\n",
       "created_dt_msk               0\n",
       "created_ts_msk               0\n",
       "event_id                     0\n",
       "cinema_circuit               0\n",
       "age_limit                    0\n",
       "currency_code                0\n",
       "device_type_canonical        0\n",
       "revenue                      0\n",
       "service_name                 0\n",
       "tickets_count                0\n",
       "total                        0\n",
       "days_since_prev          21940\n",
       "dtype: int64"
      ]
     },
     "execution_count": 6,
     "metadata": {},
     "output_type": "execute_result"
    }
   ],
   "source": [
    "# Применяем метод isna() к датафрейму bank_df\n",
    "orders_df.isna().sum()"
   ]
  },
  {
   "cell_type": "code",
   "execution_count": 7,
   "id": "07d77728",
   "metadata": {},
   "outputs": [
    {
     "data": {
      "text/plain": [
       "order_id                 0.000000\n",
       "user_id                  0.000000\n",
       "created_dt_msk           0.000000\n",
       "created_ts_msk           0.000000\n",
       "event_id                 0.000000\n",
       "cinema_circuit           0.000000\n",
       "age_limit                0.000000\n",
       "currency_code            0.000000\n",
       "device_type_canonical    0.000000\n",
       "revenue                  0.000000\n",
       "service_name             0.000000\n",
       "tickets_count            0.000000\n",
       "total                    0.000000\n",
       "days_since_prev          0.075434\n",
       "dtype: float64"
      ]
     },
     "execution_count": 7,
     "metadata": {},
     "output_type": "execute_result"
    }
   ],
   "source": [
    "# Подсчитываем долю строк с пропусками\n",
    "orders_df.isna().sum() / orders_df.shape[0]"
   ]
  },
  {
   "cell_type": "code",
   "execution_count": 8,
   "id": "03922f2d",
   "metadata": {},
   "outputs": [
    {
     "data": {
      "text/html": [
       "<div>\n",
       "<style scoped>\n",
       "    .dataframe tbody tr th:only-of-type {\n",
       "        vertical-align: middle;\n",
       "    }\n",
       "\n",
       "    .dataframe tbody tr th {\n",
       "        vertical-align: top;\n",
       "    }\n",
       "\n",
       "    .dataframe thead th {\n",
       "        text-align: right;\n",
       "    }\n",
       "</style>\n",
       "<table border=\"1\" class=\"dataframe\">\n",
       "  <thead>\n",
       "    <tr style=\"text-align: right;\">\n",
       "      <th></th>\n",
       "      <th>order_id</th>\n",
       "      <th>user_id</th>\n",
       "      <th>created_dt_msk</th>\n",
       "      <th>created_ts_msk</th>\n",
       "      <th>event_id</th>\n",
       "      <th>cinema_circuit</th>\n",
       "      <th>age_limit</th>\n",
       "      <th>currency_code</th>\n",
       "      <th>device_type_canonical</th>\n",
       "      <th>revenue</th>\n",
       "      <th>service_name</th>\n",
       "      <th>tickets_count</th>\n",
       "      <th>total</th>\n",
       "      <th>days_since_prev</th>\n",
       "    </tr>\n",
       "  </thead>\n",
       "  <tbody>\n",
       "    <tr>\n",
       "      <th>0</th>\n",
       "      <td>4359165</td>\n",
       "      <td>0002849b70a3ce2</td>\n",
       "      <td>2024-08-20</td>\n",
       "      <td>2024-08-20 16:08:03</td>\n",
       "      <td>169230</td>\n",
       "      <td>нет</td>\n",
       "      <td>16</td>\n",
       "      <td>rub</td>\n",
       "      <td>mobile</td>\n",
       "      <td>1521.94</td>\n",
       "      <td>Край билетов</td>\n",
       "      <td>4</td>\n",
       "      <td>10870.99</td>\n",
       "      <td>NaN</td>\n",
       "    </tr>\n",
       "    <tr>\n",
       "      <th>1</th>\n",
       "      <td>7965605</td>\n",
       "      <td>0005ca5e93f2cf4</td>\n",
       "      <td>2024-07-23</td>\n",
       "      <td>2024-07-23 18:36:24</td>\n",
       "      <td>237325</td>\n",
       "      <td>нет</td>\n",
       "      <td>0</td>\n",
       "      <td>rub</td>\n",
       "      <td>mobile</td>\n",
       "      <td>289.45</td>\n",
       "      <td>Мой билет</td>\n",
       "      <td>2</td>\n",
       "      <td>2067.51</td>\n",
       "      <td>NaN</td>\n",
       "    </tr>\n",
       "    <tr>\n",
       "      <th>2</th>\n",
       "      <td>7292370</td>\n",
       "      <td>0005ca5e93f2cf4</td>\n",
       "      <td>2024-10-06</td>\n",
       "      <td>2024-10-06 13:56:02</td>\n",
       "      <td>578454</td>\n",
       "      <td>нет</td>\n",
       "      <td>0</td>\n",
       "      <td>rub</td>\n",
       "      <td>mobile</td>\n",
       "      <td>1258.57</td>\n",
       "      <td>За билетом!</td>\n",
       "      <td>4</td>\n",
       "      <td>13984.16</td>\n",
       "      <td>75.0</td>\n",
       "    </tr>\n",
       "    <tr>\n",
       "      <th>3</th>\n",
       "      <td>1139875</td>\n",
       "      <td>000898990054619</td>\n",
       "      <td>2024-07-13</td>\n",
       "      <td>2024-07-13 19:40:48</td>\n",
       "      <td>387271</td>\n",
       "      <td>нет</td>\n",
       "      <td>0</td>\n",
       "      <td>rub</td>\n",
       "      <td>mobile</td>\n",
       "      <td>8.49</td>\n",
       "      <td>Лови билет!</td>\n",
       "      <td>2</td>\n",
       "      <td>212.28</td>\n",
       "      <td>NaN</td>\n",
       "    </tr>\n",
       "    <tr>\n",
       "      <th>4</th>\n",
       "      <td>972400</td>\n",
       "      <td>000898990054619</td>\n",
       "      <td>2024-10-04</td>\n",
       "      <td>2024-10-04 22:33:15</td>\n",
       "      <td>509453</td>\n",
       "      <td>нет</td>\n",
       "      <td>18</td>\n",
       "      <td>rub</td>\n",
       "      <td>mobile</td>\n",
       "      <td>1390.41</td>\n",
       "      <td>Билеты без проблем</td>\n",
       "      <td>3</td>\n",
       "      <td>10695.43</td>\n",
       "      <td>83.0</td>\n",
       "    </tr>\n",
       "    <tr>\n",
       "      <th>...</th>\n",
       "      <td>...</td>\n",
       "      <td>...</td>\n",
       "      <td>...</td>\n",
       "      <td>...</td>\n",
       "      <td>...</td>\n",
       "      <td>...</td>\n",
       "      <td>...</td>\n",
       "      <td>...</td>\n",
       "      <td>...</td>\n",
       "      <td>...</td>\n",
       "      <td>...</td>\n",
       "      <td>...</td>\n",
       "      <td>...</td>\n",
       "      <td>...</td>\n",
       "    </tr>\n",
       "    <tr>\n",
       "      <th>290844</th>\n",
       "      <td>368620</td>\n",
       "      <td>fffcd3dde79eb2c</td>\n",
       "      <td>2024-10-27</td>\n",
       "      <td>2024-10-27 18:00:57</td>\n",
       "      <td>33189</td>\n",
       "      <td>нет</td>\n",
       "      <td>6</td>\n",
       "      <td>rub</td>\n",
       "      <td>mobile</td>\n",
       "      <td>965.57</td>\n",
       "      <td>Весь в билетах</td>\n",
       "      <td>4</td>\n",
       "      <td>9655.73</td>\n",
       "      <td>0.0</td>\n",
       "    </tr>\n",
       "    <tr>\n",
       "      <th>290845</th>\n",
       "      <td>368562</td>\n",
       "      <td>fffcd3dde79eb2c</td>\n",
       "      <td>2024-10-27</td>\n",
       "      <td>2024-10-27 17:53:53</td>\n",
       "      <td>33189</td>\n",
       "      <td>нет</td>\n",
       "      <td>6</td>\n",
       "      <td>rub</td>\n",
       "      <td>mobile</td>\n",
       "      <td>1448.36</td>\n",
       "      <td>Весь в билетах</td>\n",
       "      <td>6</td>\n",
       "      <td>14483.60</td>\n",
       "      <td>0.0</td>\n",
       "    </tr>\n",
       "    <tr>\n",
       "      <th>290846</th>\n",
       "      <td>8473772</td>\n",
       "      <td>fffcd3dde79eb2c</td>\n",
       "      <td>2024-10-30</td>\n",
       "      <td>2024-10-30 13:37:43</td>\n",
       "      <td>205231</td>\n",
       "      <td>нет</td>\n",
       "      <td>16</td>\n",
       "      <td>rub</td>\n",
       "      <td>desktop</td>\n",
       "      <td>178.95</td>\n",
       "      <td>Прачечная</td>\n",
       "      <td>2</td>\n",
       "      <td>4473.74</td>\n",
       "      <td>3.0</td>\n",
       "    </tr>\n",
       "    <tr>\n",
       "      <th>290847</th>\n",
       "      <td>5526067</td>\n",
       "      <td>fffeeb3c120cf0b</td>\n",
       "      <td>2024-09-24</td>\n",
       "      <td>2024-09-24 10:07:42</td>\n",
       "      <td>454526</td>\n",
       "      <td>нет</td>\n",
       "      <td>18</td>\n",
       "      <td>rub</td>\n",
       "      <td>desktop</td>\n",
       "      <td>661.53</td>\n",
       "      <td>Билеты без проблем</td>\n",
       "      <td>2</td>\n",
       "      <td>6615.34</td>\n",
       "      <td>NaN</td>\n",
       "    </tr>\n",
       "    <tr>\n",
       "      <th>290848</th>\n",
       "      <td>813654</td>\n",
       "      <td>ffff00725179321</td>\n",
       "      <td>2024-09-25</td>\n",
       "      <td>2024-09-25 15:12:40</td>\n",
       "      <td>284965</td>\n",
       "      <td>нет</td>\n",
       "      <td>16</td>\n",
       "      <td>rub</td>\n",
       "      <td>mobile</td>\n",
       "      <td>802.25</td>\n",
       "      <td>Мой билет</td>\n",
       "      <td>2</td>\n",
       "      <td>8913.92</td>\n",
       "      <td>NaN</td>\n",
       "    </tr>\n",
       "  </tbody>\n",
       "</table>\n",
       "<p>290849 rows × 14 columns</p>\n",
       "</div>"
      ],
      "text/plain": [
       "        order_id          user_id created_dt_msk      created_ts_msk  \\\n",
       "0        4359165  0002849b70a3ce2     2024-08-20 2024-08-20 16:08:03   \n",
       "1        7965605  0005ca5e93f2cf4     2024-07-23 2024-07-23 18:36:24   \n",
       "2        7292370  0005ca5e93f2cf4     2024-10-06 2024-10-06 13:56:02   \n",
       "3        1139875  000898990054619     2024-07-13 2024-07-13 19:40:48   \n",
       "4         972400  000898990054619     2024-10-04 2024-10-04 22:33:15   \n",
       "...          ...              ...            ...                 ...   \n",
       "290844    368620  fffcd3dde79eb2c     2024-10-27 2024-10-27 18:00:57   \n",
       "290845    368562  fffcd3dde79eb2c     2024-10-27 2024-10-27 17:53:53   \n",
       "290846   8473772  fffcd3dde79eb2c     2024-10-30 2024-10-30 13:37:43   \n",
       "290847   5526067  fffeeb3c120cf0b     2024-09-24 2024-09-24 10:07:42   \n",
       "290848    813654  ffff00725179321     2024-09-25 2024-09-25 15:12:40   \n",
       "\n",
       "        event_id cinema_circuit  age_limit currency_code  \\\n",
       "0         169230            нет         16           rub   \n",
       "1         237325            нет          0           rub   \n",
       "2         578454            нет          0           rub   \n",
       "3         387271            нет          0           rub   \n",
       "4         509453            нет         18           rub   \n",
       "...          ...            ...        ...           ...   \n",
       "290844     33189            нет          6           rub   \n",
       "290845     33189            нет          6           rub   \n",
       "290846    205231            нет         16           rub   \n",
       "290847    454526            нет         18           rub   \n",
       "290848    284965            нет         16           rub   \n",
       "\n",
       "       device_type_canonical  revenue        service_name  tickets_count  \\\n",
       "0                     mobile  1521.94        Край билетов              4   \n",
       "1                     mobile   289.45           Мой билет              2   \n",
       "2                     mobile  1258.57         За билетом!              4   \n",
       "3                     mobile     8.49         Лови билет!              2   \n",
       "4                     mobile  1390.41  Билеты без проблем              3   \n",
       "...                      ...      ...                 ...            ...   \n",
       "290844                mobile   965.57      Весь в билетах              4   \n",
       "290845                mobile  1448.36      Весь в билетах              6   \n",
       "290846               desktop   178.95           Прачечная              2   \n",
       "290847               desktop   661.53  Билеты без проблем              2   \n",
       "290848                mobile   802.25           Мой билет              2   \n",
       "\n",
       "           total  days_since_prev  \n",
       "0       10870.99              NaN  \n",
       "1        2067.51              NaN  \n",
       "2       13984.16             75.0  \n",
       "3         212.28              NaN  \n",
       "4       10695.43             83.0  \n",
       "...          ...              ...  \n",
       "290844   9655.73              0.0  \n",
       "290845  14483.60              0.0  \n",
       "290846   4473.74              3.0  \n",
       "290847   6615.34              NaN  \n",
       "290848   8913.92              NaN  \n",
       "\n",
       "[290849 rows x 14 columns]"
      ]
     },
     "execution_count": 8,
     "metadata": {},
     "output_type": "execute_result"
    }
   ],
   "source": [
    "# Просмотрим данные в датафрейме orders_df\n",
    "orders_df"
   ]
  },
  {
   "cell_type": "code",
   "execution_count": 9,
   "id": "41d55765",
   "metadata": {},
   "outputs": [
    {
     "name": "stdout",
     "output_type": "stream",
     "text": [
      "<class 'pandas.core.frame.DataFrame'>\n",
      "RangeIndex: 22427 entries, 0 to 22426\n",
      "Data columns (total 11 columns):\n",
      " #   Column                  Non-Null Count  Dtype \n",
      "---  ------                  --------------  ----- \n",
      " 0   event_id                22427 non-null  int64 \n",
      " 1   event_name              22427 non-null  object\n",
      " 2   event_type_description  22427 non-null  object\n",
      " 3   event_type_main         22427 non-null  object\n",
      " 4   organizers              22427 non-null  object\n",
      " 5   region_name             22427 non-null  object\n",
      " 6   city_name               22427 non-null  object\n",
      " 7   city_id                 22427 non-null  int64 \n",
      " 8   venue_id                22427 non-null  int64 \n",
      " 9   venue_name              22427 non-null  object\n",
      " 10  venue_address           22427 non-null  object\n",
      "dtypes: int64(3), object(8)\n",
      "memory usage: 1.9+ MB\n"
     ]
    }
   ],
   "source": [
    "# Выводим информацию о датафреймах\n",
    "tickets_df.info()"
   ]
  },
  {
   "cell_type": "code",
   "execution_count": 10,
   "id": "f0861113",
   "metadata": {},
   "outputs": [
    {
     "data": {
      "text/html": [
       "<div>\n",
       "<style scoped>\n",
       "    .dataframe tbody tr th:only-of-type {\n",
       "        vertical-align: middle;\n",
       "    }\n",
       "\n",
       "    .dataframe tbody tr th {\n",
       "        vertical-align: top;\n",
       "    }\n",
       "\n",
       "    .dataframe thead th {\n",
       "        text-align: right;\n",
       "    }\n",
       "</style>\n",
       "<table border=\"1\" class=\"dataframe\">\n",
       "  <thead>\n",
       "    <tr style=\"text-align: right;\">\n",
       "      <th></th>\n",
       "      <th>event_id</th>\n",
       "      <th>event_name</th>\n",
       "      <th>event_type_description</th>\n",
       "      <th>event_type_main</th>\n",
       "      <th>organizers</th>\n",
       "      <th>region_name</th>\n",
       "      <th>city_name</th>\n",
       "      <th>city_id</th>\n",
       "      <th>venue_id</th>\n",
       "      <th>venue_name</th>\n",
       "      <th>venue_address</th>\n",
       "    </tr>\n",
       "  </thead>\n",
       "  <tbody>\n",
       "    <tr>\n",
       "      <th>0</th>\n",
       "      <td>4436</td>\n",
       "      <td>e4f26fba-da77-4c61-928a-6c3e434d793f</td>\n",
       "      <td>спектакль</td>\n",
       "      <td>театр</td>\n",
       "      <td>№4893</td>\n",
       "      <td>Североярская область</td>\n",
       "      <td>Озёрск</td>\n",
       "      <td>2</td>\n",
       "      <td>1600</td>\n",
       "      <td>Кладбище искусств \"Проблема\" и партнеры</td>\n",
       "      <td>наб. Загородная, д. 785</td>\n",
       "    </tr>\n",
       "    <tr>\n",
       "      <th>1</th>\n",
       "      <td>5785</td>\n",
       "      <td>5cc08a60-fdea-4186-9bb2-bffc3603fb77</td>\n",
       "      <td>спектакль</td>\n",
       "      <td>театр</td>\n",
       "      <td>№1931</td>\n",
       "      <td>Светополянский округ</td>\n",
       "      <td>Глиноград</td>\n",
       "      <td>54</td>\n",
       "      <td>2196</td>\n",
       "      <td>Лекции по искусству \"Свет\" Групп</td>\n",
       "      <td>ул. Ягодная, д. 942</td>\n",
       "    </tr>\n",
       "    <tr>\n",
       "      <th>2</th>\n",
       "      <td>8817</td>\n",
       "      <td>8e379a89-3a10-4811-ba06-ec22ebebe989</td>\n",
       "      <td>спектакль</td>\n",
       "      <td>театр</td>\n",
       "      <td>№4896</td>\n",
       "      <td>Североярская область</td>\n",
       "      <td>Озёрск</td>\n",
       "      <td>2</td>\n",
       "      <td>4043</td>\n",
       "      <td>Кинокомитет \"Золотая\" Инк</td>\n",
       "      <td>ш. Коммуны, д. 92 стр. 6</td>\n",
       "    </tr>\n",
       "    <tr>\n",
       "      <th>3</th>\n",
       "      <td>8849</td>\n",
       "      <td>682e3129-6a32-4952-9d8a-ef7f60d4c247</td>\n",
       "      <td>спектакль</td>\n",
       "      <td>театр</td>\n",
       "      <td>№4960</td>\n",
       "      <td>Каменевский регион</td>\n",
       "      <td>Глиногорск</td>\n",
       "      <td>213</td>\n",
       "      <td>1987</td>\n",
       "      <td>Выставка ремесел \"Свет\" Лтд</td>\n",
       "      <td>пер. Набережный, д. 35</td>\n",
       "    </tr>\n",
       "    <tr>\n",
       "      <th>4</th>\n",
       "      <td>8850</td>\n",
       "      <td>d6e99176-c77f-4af0-9222-07c571f6c624</td>\n",
       "      <td>спектакль</td>\n",
       "      <td>театр</td>\n",
       "      <td>№4770</td>\n",
       "      <td>Лесодальний край</td>\n",
       "      <td>Родниковец</td>\n",
       "      <td>55</td>\n",
       "      <td>4230</td>\n",
       "      <td>Фестивальный проект \"Листья\" Групп</td>\n",
       "      <td>пер. Проезжий, д. 9</td>\n",
       "    </tr>\n",
       "    <tr>\n",
       "      <th>...</th>\n",
       "      <td>...</td>\n",
       "      <td>...</td>\n",
       "      <td>...</td>\n",
       "      <td>...</td>\n",
       "      <td>...</td>\n",
       "      <td>...</td>\n",
       "      <td>...</td>\n",
       "      <td>...</td>\n",
       "      <td>...</td>\n",
       "      <td>...</td>\n",
       "      <td>...</td>\n",
       "    </tr>\n",
       "    <tr>\n",
       "      <th>22422</th>\n",
       "      <td>591313</td>\n",
       "      <td>196f51a8-344a-462a-b806-a8467fd0e5fa</td>\n",
       "      <td>спортивное мероприятие</td>\n",
       "      <td>спорт</td>\n",
       "      <td>№1623</td>\n",
       "      <td>Речиновская область</td>\n",
       "      <td>Дальнесветск</td>\n",
       "      <td>65</td>\n",
       "      <td>3721</td>\n",
       "      <td>Студия графики \"Оттенок\" Инк</td>\n",
       "      <td>ул. Чапаева, д. 8 стр. 1/3</td>\n",
       "    </tr>\n",
       "    <tr>\n",
       "      <th>22423</th>\n",
       "      <td>591859</td>\n",
       "      <td>b2b83233-f861-496c-b6fb-a4fef347deb1</td>\n",
       "      <td>ёлка</td>\n",
       "      <td>ёлки</td>\n",
       "      <td>№1992</td>\n",
       "      <td>Солнечноземская область</td>\n",
       "      <td>Глинополье</td>\n",
       "      <td>56</td>\n",
       "      <td>3005</td>\n",
       "      <td>Арт-кафе \"Аксессуар\" Лимитед</td>\n",
       "      <td>бул. Логовой, д. 94 к. 1/5</td>\n",
       "    </tr>\n",
       "    <tr>\n",
       "      <th>22424</th>\n",
       "      <td>591877</td>\n",
       "      <td>6bffa2da-51d1-4cfe-accb-a02e617a8180</td>\n",
       "      <td>событие</td>\n",
       "      <td>другое</td>\n",
       "      <td>№1767</td>\n",
       "      <td>Североключевской округ</td>\n",
       "      <td>Ягодинска</td>\n",
       "      <td>21702</td>\n",
       "      <td>3506</td>\n",
       "      <td>Клуб современных танцев \"Кофе\" Групп</td>\n",
       "      <td>ш. Тупиковое, д. 49 стр. 73</td>\n",
       "    </tr>\n",
       "    <tr>\n",
       "      <th>22425</th>\n",
       "      <td>592322</td>\n",
       "      <td>9283cb32-2750-43cd-b57e-dde9ccd5552e</td>\n",
       "      <td>событие</td>\n",
       "      <td>другое</td>\n",
       "      <td>№3884</td>\n",
       "      <td>Яблоневская область</td>\n",
       "      <td>Светополье</td>\n",
       "      <td>39</td>\n",
       "      <td>1081</td>\n",
       "      <td>Искусственная сцена \"Краски\" и партнеры</td>\n",
       "      <td>пер. Р.Люксембург, д. 499 к. 997</td>\n",
       "    </tr>\n",
       "    <tr>\n",
       "      <th>22426</th>\n",
       "      <td>592325</td>\n",
       "      <td>f4952452-27ff-4d03-9adb-f7836430f83b</td>\n",
       "      <td>событие</td>\n",
       "      <td>другое</td>\n",
       "      <td>№3884</td>\n",
       "      <td>Яблоневская область</td>\n",
       "      <td>Светополье</td>\n",
       "      <td>39</td>\n",
       "      <td>1081</td>\n",
       "      <td>Искусственная сцена \"Краски\" и партнеры</td>\n",
       "      <td>пер. Р.Люксембург, д. 499 к. 997</td>\n",
       "    </tr>\n",
       "  </tbody>\n",
       "</table>\n",
       "<p>22427 rows × 11 columns</p>\n",
       "</div>"
      ],
      "text/plain": [
       "       event_id                            event_name  event_type_description  \\\n",
       "0          4436  e4f26fba-da77-4c61-928a-6c3e434d793f               спектакль   \n",
       "1          5785  5cc08a60-fdea-4186-9bb2-bffc3603fb77               спектакль   \n",
       "2          8817  8e379a89-3a10-4811-ba06-ec22ebebe989               спектакль   \n",
       "3          8849  682e3129-6a32-4952-9d8a-ef7f60d4c247               спектакль   \n",
       "4          8850  d6e99176-c77f-4af0-9222-07c571f6c624               спектакль   \n",
       "...         ...                                   ...                     ...   \n",
       "22422    591313  196f51a8-344a-462a-b806-a8467fd0e5fa  спортивное мероприятие   \n",
       "22423    591859  b2b83233-f861-496c-b6fb-a4fef347deb1                    ёлка   \n",
       "22424    591877  6bffa2da-51d1-4cfe-accb-a02e617a8180                 событие   \n",
       "22425    592322  9283cb32-2750-43cd-b57e-dde9ccd5552e                 событие   \n",
       "22426    592325  f4952452-27ff-4d03-9adb-f7836430f83b                 событие   \n",
       "\n",
       "      event_type_main organizers              region_name     city_name  \\\n",
       "0               театр      №4893     Североярская область        Озёрск   \n",
       "1               театр      №1931     Светополянский округ     Глиноград   \n",
       "2               театр      №4896     Североярская область        Озёрск   \n",
       "3               театр      №4960       Каменевский регион    Глиногорск   \n",
       "4               театр      №4770         Лесодальний край    Родниковец   \n",
       "...               ...        ...                      ...           ...   \n",
       "22422           спорт      №1623      Речиновская область  Дальнесветск   \n",
       "22423            ёлки      №1992  Солнечноземская область    Глинополье   \n",
       "22424          другое      №1767   Североключевской округ     Ягодинска   \n",
       "22425          другое      №3884      Яблоневская область    Светополье   \n",
       "22426          другое      №3884      Яблоневская область    Светополье   \n",
       "\n",
       "       city_id  venue_id                               venue_name  \\\n",
       "0            2      1600  Кладбище искусств \"Проблема\" и партнеры   \n",
       "1           54      2196         Лекции по искусству \"Свет\" Групп   \n",
       "2            2      4043                Кинокомитет \"Золотая\" Инк   \n",
       "3          213      1987              Выставка ремесел \"Свет\" Лтд   \n",
       "4           55      4230       Фестивальный проект \"Листья\" Групп   \n",
       "...        ...       ...                                      ...   \n",
       "22422       65      3721             Студия графики \"Оттенок\" Инк   \n",
       "22423       56      3005             Арт-кафе \"Аксессуар\" Лимитед   \n",
       "22424    21702      3506     Клуб современных танцев \"Кофе\" Групп   \n",
       "22425       39      1081  Искусственная сцена \"Краски\" и партнеры   \n",
       "22426       39      1081  Искусственная сцена \"Краски\" и партнеры   \n",
       "\n",
       "                          venue_address  \n",
       "0               наб. Загородная, д. 785  \n",
       "1                   ул. Ягодная, д. 942  \n",
       "2              ш. Коммуны, д. 92 стр. 6  \n",
       "3                пер. Набережный, д. 35  \n",
       "4                   пер. Проезжий, д. 9  \n",
       "...                                 ...  \n",
       "22422        ул. Чапаева, д. 8 стр. 1/3  \n",
       "22423        бул. Логовой, д. 94 к. 1/5  \n",
       "22424       ш. Тупиковое, д. 49 стр. 73  \n",
       "22425  пер. Р.Люксембург, д. 499 к. 997  \n",
       "22426  пер. Р.Люксембург, д. 499 к. 997  \n",
       "\n",
       "[22427 rows x 11 columns]"
      ]
     },
     "execution_count": 10,
     "metadata": {},
     "output_type": "execute_result"
    }
   ],
   "source": [
    "# Просмотрим данные в датафрейме tickets_df\n",
    "tickets_df"
   ]
  },
  {
   "cell_type": "markdown",
   "id": "c3803c9a",
   "metadata": {},
   "source": [
    "В датафрейме 11 столбцов, 22427 строк, пропусков нет"
   ]
  },
  {
   "cell_type": "code",
   "execution_count": 11,
   "id": "4ea608d8",
   "metadata": {},
   "outputs": [
    {
     "name": "stdout",
     "output_type": "stream",
     "text": [
      "<class 'pandas.core.frame.DataFrame'>\n",
      "RangeIndex: 357 entries, 0 to 356\n",
      "Data columns (total 4 columns):\n",
      " #   Column   Non-Null Count  Dtype  \n",
      "---  ------   --------------  -----  \n",
      " 0   data     357 non-null    object \n",
      " 1   nominal  357 non-null    int64  \n",
      " 2   curs     357 non-null    float64\n",
      " 3   cdx      357 non-null    object \n",
      "dtypes: float64(1), int64(1), object(2)\n",
      "memory usage: 11.3+ KB\n"
     ]
    }
   ],
   "source": [
    "# Выводим информацию о датафреймах\n",
    "tenge_df.info()"
   ]
  },
  {
   "cell_type": "markdown",
   "id": "73be00c7",
   "metadata": {},
   "source": [
    "В датафрейме 4 столбца, 357 строк, пропусков нет"
   ]
  },
  {
   "cell_type": "code",
   "execution_count": 12,
   "id": "53949397",
   "metadata": {},
   "outputs": [
    {
     "data": {
      "text/html": [
       "<div>\n",
       "<style scoped>\n",
       "    .dataframe tbody tr th:only-of-type {\n",
       "        vertical-align: middle;\n",
       "    }\n",
       "\n",
       "    .dataframe tbody tr th {\n",
       "        vertical-align: top;\n",
       "    }\n",
       "\n",
       "    .dataframe thead th {\n",
       "        text-align: right;\n",
       "    }\n",
       "</style>\n",
       "<table border=\"1\" class=\"dataframe\">\n",
       "  <thead>\n",
       "    <tr style=\"text-align: right;\">\n",
       "      <th></th>\n",
       "      <th>data</th>\n",
       "      <th>nominal</th>\n",
       "      <th>curs</th>\n",
       "      <th>cdx</th>\n",
       "    </tr>\n",
       "  </thead>\n",
       "  <tbody>\n",
       "    <tr>\n",
       "      <th>0</th>\n",
       "      <td>2024-01-10</td>\n",
       "      <td>100</td>\n",
       "      <td>19.9391</td>\n",
       "      <td>kzt</td>\n",
       "    </tr>\n",
       "    <tr>\n",
       "      <th>1</th>\n",
       "      <td>2024-01-11</td>\n",
       "      <td>100</td>\n",
       "      <td>19.7255</td>\n",
       "      <td>kzt</td>\n",
       "    </tr>\n",
       "    <tr>\n",
       "      <th>2</th>\n",
       "      <td>2024-01-12</td>\n",
       "      <td>100</td>\n",
       "      <td>19.5839</td>\n",
       "      <td>kzt</td>\n",
       "    </tr>\n",
       "    <tr>\n",
       "      <th>3</th>\n",
       "      <td>2024-01-13</td>\n",
       "      <td>100</td>\n",
       "      <td>19.4501</td>\n",
       "      <td>kzt</td>\n",
       "    </tr>\n",
       "    <tr>\n",
       "      <th>4</th>\n",
       "      <td>2024-01-14</td>\n",
       "      <td>100</td>\n",
       "      <td>19.4501</td>\n",
       "      <td>kzt</td>\n",
       "    </tr>\n",
       "    <tr>\n",
       "      <th>...</th>\n",
       "      <td>...</td>\n",
       "      <td>...</td>\n",
       "      <td>...</td>\n",
       "      <td>...</td>\n",
       "    </tr>\n",
       "    <tr>\n",
       "      <th>352</th>\n",
       "      <td>2024-12-27</td>\n",
       "      <td>100</td>\n",
       "      <td>19.2705</td>\n",
       "      <td>kzt</td>\n",
       "    </tr>\n",
       "    <tr>\n",
       "      <th>353</th>\n",
       "      <td>2024-12-28</td>\n",
       "      <td>100</td>\n",
       "      <td>19.5105</td>\n",
       "      <td>kzt</td>\n",
       "    </tr>\n",
       "    <tr>\n",
       "      <th>354</th>\n",
       "      <td>2024-12-29</td>\n",
       "      <td>100</td>\n",
       "      <td>19.4860</td>\n",
       "      <td>kzt</td>\n",
       "    </tr>\n",
       "    <tr>\n",
       "      <th>355</th>\n",
       "      <td>2024-12-30</td>\n",
       "      <td>100</td>\n",
       "      <td>19.4860</td>\n",
       "      <td>kzt</td>\n",
       "    </tr>\n",
       "    <tr>\n",
       "      <th>356</th>\n",
       "      <td>2024-12-31</td>\n",
       "      <td>100</td>\n",
       "      <td>19.4860</td>\n",
       "      <td>kzt</td>\n",
       "    </tr>\n",
       "  </tbody>\n",
       "</table>\n",
       "<p>357 rows × 4 columns</p>\n",
       "</div>"
      ],
      "text/plain": [
       "           data  nominal     curs  cdx\n",
       "0    2024-01-10      100  19.9391  kzt\n",
       "1    2024-01-11      100  19.7255  kzt\n",
       "2    2024-01-12      100  19.5839  kzt\n",
       "3    2024-01-13      100  19.4501  kzt\n",
       "4    2024-01-14      100  19.4501  kzt\n",
       "..          ...      ...      ...  ...\n",
       "352  2024-12-27      100  19.2705  kzt\n",
       "353  2024-12-28      100  19.5105  kzt\n",
       "354  2024-12-29      100  19.4860  kzt\n",
       "355  2024-12-30      100  19.4860  kzt\n",
       "356  2024-12-31      100  19.4860  kzt\n",
       "\n",
       "[357 rows x 4 columns]"
      ]
     },
     "execution_count": 12,
     "metadata": {},
     "output_type": "execute_result"
    }
   ],
   "source": [
    "# Просмотрим данные в датафрейме tenge_df\n",
    "tenge_df"
   ]
  },
  {
   "cell_type": "markdown",
   "id": "9e1a35b7",
   "metadata": {},
   "source": [
    "## Предобработка данных и подготовка их к исследованию"
   ]
  },
  {
   "cell_type": "code",
   "execution_count": 13,
   "id": "b00d95c5",
   "metadata": {},
   "outputs": [
    {
     "name": "stdout",
     "output_type": "stream",
     "text": [
      "Распределение категориальных значений по значениям столбца cinema_circuit:\n",
      "count     290849\n",
      "unique         6\n",
      "top          нет\n",
      "freq      289451\n",
      "Name: cinema_circuit, dtype: object\n",
      "\n",
      "Распределение категориальных значений по значениям столбца currency_code:\n",
      "count     290849\n",
      "unique         2\n",
      "top          rub\n",
      "freq      285780\n",
      "Name: currency_code, dtype: object\n",
      "\n",
      "Распределение категориальных значений по значениям столбца device_type_canonical:\n",
      "count     290849\n",
      "unique         2\n",
      "top       mobile\n",
      "freq      232679\n",
      "Name: device_type_canonical, dtype: object\n",
      "\n",
      "Распределение категориальных значений по значениям столбца service_name:\n",
      "count                 290849\n",
      "unique                    36\n",
      "top       Билеты без проблем\n",
      "freq                   63709\n",
      "Name: service_name, dtype: object\n",
      "\n"
     ]
    }
   ],
   "source": [
    "# Проверим категориальные значения в столбцах\n",
    "for column in ['cinema_circuit','currency_code', 'device_type_canonical', 'service_name']:\n",
    "    print(f'Распределение категориальных значений по значениям столбца {column}:')\n",
    "    print(orders_df[column].describe())\n",
    "    print()"
   ]
  },
  {
   "cell_type": "code",
   "execution_count": 14,
   "id": "19ba6d98",
   "metadata": {},
   "outputs": [
    {
     "data": {
      "text/plain": [
       "'Уникальные значения в столбце cinema_circuit:'"
      ]
     },
     "metadata": {},
     "output_type": "display_data"
    },
    {
     "data": {
      "text/plain": [
       "array(['Другое', 'КиноСити', 'Киномакс', 'Москино', 'ЦентрФильм', 'нет'],\n",
       "      dtype=object)"
      ]
     },
     "metadata": {},
     "output_type": "display_data"
    },
    {
     "data": {
      "text/plain": [
       "'Уникальные значения в столбце currency_code:'"
      ]
     },
     "metadata": {},
     "output_type": "display_data"
    },
    {
     "data": {
      "text/plain": [
       "array(['kzt', 'rub'], dtype=object)"
      ]
     },
     "metadata": {},
     "output_type": "display_data"
    },
    {
     "data": {
      "text/plain": [
       "'Уникальные значения в столбце device_type_canonical:'"
      ]
     },
     "metadata": {},
     "output_type": "display_data"
    },
    {
     "data": {
      "text/plain": [
       "array(['desktop', 'mobile'], dtype=object)"
      ]
     },
     "metadata": {},
     "output_type": "display_data"
    },
    {
     "data": {
      "text/plain": [
       "'Уникальные значения в столбце service_name:'"
      ]
     },
     "metadata": {},
     "output_type": "display_data"
    },
    {
     "data": {
      "text/plain": [
       "array(['Crazy ticket!', 'Show_ticket', 'Билет по телефону',\n",
       "       'Билеты без проблем', 'Билеты в интернете', 'Билеты в руки',\n",
       "       'Быстробилет', 'Быстрый кассир', 'Весь в билетах', 'Восьмёрка',\n",
       "       'Вперёд!', 'Выступления.ру', 'Городской дом культуры',\n",
       "       'Дом культуры', 'Дырокол', 'За билетом!', 'Зе Бест!', 'КарандашРУ',\n",
       "       'Кино билет', 'Край билетов', 'Лимоны', 'Лови билет!',\n",
       "       'Лучшие билеты', 'Мир касс', 'Мой билет', 'Облачко', 'Прачечная',\n",
       "       'Радио ticket', 'Реестр', 'Росбилет', 'Тебе билет!', 'Телебилет',\n",
       "       'Тех билет', 'Цвет и билет', 'Шоу начинается!', 'Яблоко'],\n",
       "      dtype=object)"
      ]
     },
     "metadata": {},
     "output_type": "display_data"
    }
   ],
   "source": [
    "# Проверяем уникальные значения в столбцах\n",
    "for column in ['cinema_circuit', 'currency_code', 'device_type_canonical', 'service_name']:\n",
    "    display(f'Уникальные значения в столбце {column}:')\n",
    "    display(orders_df[column].sort_values().unique())\n",
    "    display()"
   ]
  },
  {
   "cell_type": "markdown",
   "id": "abca3496",
   "metadata": {},
   "source": [
    "Видим, что данные соответствуют описанию"
   ]
  },
  {
   "cell_type": "code",
   "execution_count": 15,
   "id": "4772f324",
   "metadata": {},
   "outputs": [
    {
     "name": "stdout",
     "output_type": "stream",
     "text": [
      "Распределение категориальных значений по значениям столбца event_name:\n",
      "count                                    22427\n",
      "unique                                   15248\n",
      "top       77c5dd26-1557-4102-b863-e19755153da0\n",
      "freq                                        66\n",
      "Name: event_name, dtype: object\n",
      "\n",
      "Распределение категориальных значений по значениям столбца event_type_description:\n",
      "count       22427\n",
      "unique         20\n",
      "top       концерт\n",
      "freq         8485\n",
      "Name: event_type_description, dtype: object\n",
      "\n",
      "Распределение категориальных значений по значениям столбца event_type_main:\n",
      "count        22427\n",
      "unique           7\n",
      "top       концерты\n",
      "freq          8680\n",
      "Name: event_type_main, dtype: object\n",
      "\n",
      "Распределение категориальных значений по значениям столбца organizers:\n",
      "count     22427\n",
      "unique     4293\n",
      "top       №1874\n",
      "freq        121\n",
      "Name: organizers, dtype: object\n",
      "\n",
      "Распределение категориальных значений по значениям столбца region_name:\n",
      "count                  22427\n",
      "unique                    81\n",
      "top       Каменевский регион\n",
      "freq                    5983\n",
      "Name: region_name, dtype: object\n",
      "\n",
      "Распределение категориальных значений по значениям столбца city_name:\n",
      "count          22427\n",
      "unique           352\n",
      "top       Глиногорск\n",
      "freq            5778\n",
      "Name: city_name, dtype: object\n",
      "\n",
      "Распределение категориальных значений по значениям столбца venue_name:\n",
      "count                                22427\n",
      "unique                                3217\n",
      "top       Дворец культуры \"Скворечник\" Инк\n",
      "freq                                   313\n",
      "Name: venue_name, dtype: object\n",
      "\n",
      "Распределение категориальных значений по значениям столбца venue_address:\n",
      "count                          22427\n",
      "unique                          3225\n",
      "top       пер. Кочубея, д. 7/7 к. 50\n",
      "freq                             313\n",
      "Name: venue_address, dtype: object\n",
      "\n"
     ]
    }
   ],
   "source": [
    "# Проверим категориальные значения в столбцах\n",
    "for column in ['event_name', 'event_type_description', 'event_type_main', 'organizers', 'region_name', 'city_name', 'venue_name', 'venue_address']:\n",
    "    print(f'Распределение категориальных значений по значениям столбца {column}:')\n",
    "    print(tickets_df[column].describe())\n",
    "    print()"
   ]
  },
  {
   "cell_type": "code",
   "execution_count": 16,
   "id": "db0adaef",
   "metadata": {},
   "outputs": [
    {
     "data": {
      "text/plain": [
       "'Уникальные значения в столбце event_name:'"
      ]
     },
     "metadata": {},
     "output_type": "display_data"
    },
    {
     "data": {
      "text/plain": [
       "array(['000a9c8d-65bb-4178-a5a8-9ddc1f3bf71e',\n",
       "       '0015b11d-a3e0-4656-887a-383450a9b313',\n",
       "       '00298e1a-ae90-482b-819d-ba88ceff59b0', ...,\n",
       "       'fff20f2b-de72-451a-8168-b765352e502c',\n",
       "       'fff68929-41eb-4dd7-90bf-76d3ae8b652f',\n",
       "       'fffd87ef-5469-4684-af21-4f9b86a13189'], dtype=object)"
      ]
     },
     "metadata": {},
     "output_type": "display_data"
    },
    {
     "data": {
      "text/plain": [
       "'Уникальные значения в столбце event_type_description:'"
      ]
     },
     "metadata": {},
     "output_type": "display_data"
    },
    {
     "data": {
      "text/plain": [
       "array(['балет', 'выставка', 'концерт', 'кукольный спектакль',\n",
       "       'музыкальный спектакль', 'мюзикл', 'опера', 'оперетта', 'подарок',\n",
       "       'рок-мюзикл', 'снегурочка', 'событие', 'спектакль', 'спорт',\n",
       "       'спортивное мероприятие', 'фестиваль', 'цирковое шоу', 'шоу',\n",
       "       'экскурсия', 'ёлка'], dtype=object)"
      ]
     },
     "metadata": {},
     "output_type": "display_data"
    },
    {
     "data": {
      "text/plain": [
       "'Уникальные значения в столбце event_type_main:'"
      ]
     },
     "metadata": {},
     "output_type": "display_data"
    },
    {
     "data": {
      "text/plain": [
       "array(['выставки', 'другое', 'концерты', 'спорт', 'стендап', 'театр',\n",
       "       'ёлки'], dtype=object)"
      ]
     },
     "metadata": {},
     "output_type": "display_data"
    },
    {
     "data": {
      "text/plain": [
       "'Уникальные значения в столбце organizers:'"
      ]
     },
     "metadata": {},
     "output_type": "display_data"
    },
    {
     "data": {
      "text/plain": [
       "array(['№1000', '№1001', '№1002', ..., '№997', '№998', '№999'],\n",
       "      dtype=object)"
      ]
     },
     "metadata": {},
     "output_type": "display_data"
    },
    {
     "data": {
      "text/plain": [
       "'Уникальные значения в столбце region_name:'"
      ]
     },
     "metadata": {},
     "output_type": "display_data"
    },
    {
     "data": {
      "text/plain": [
       "array(['Белоярская область', 'Берестовский округ', 'Берёзовская область',\n",
       "       'Боровлянский край', 'Верховинская область', 'Верхозёрский край',\n",
       "       'Верхоречная область', 'Ветренский регион', 'Вишнёвский край',\n",
       "       'Глиногорская область', 'Голубевский округ',\n",
       "       'Горицветская область', 'Горноземский регион',\n",
       "       'Горностепной регион', 'Дальнеземская область',\n",
       "       'Дальнезорский край', 'Дубравная область', 'Залесский край',\n",
       "       'Заречная область', 'Зеленоградский округ', 'Златопольский округ',\n",
       "       'Золотоключевской край', 'Зоринский регион', 'Каменевский регион',\n",
       "       'Каменичская область', 'Каменноозёрный край', 'Каменноярский край',\n",
       "       'Каменополянский округ', 'Ключеводский округ',\n",
       "       'Кристаловская область', 'Кристальная область',\n",
       "       'Крутоводская область', 'Крутоводский регион', 'Лесноярский край',\n",
       "       'Лесодальний край', 'Лесополянская область', 'Лесостепной край',\n",
       "       'Лесоярская область', 'Луговая область', 'Лугоградская область',\n",
       "       'Малиновая область', 'Малиновоярский округ', 'Медовская область',\n",
       "       'Миропольская область', 'Нежинская область', 'Озернинский край',\n",
       "       'Озернопольская область', 'Островная область',\n",
       "       'Островогорский округ', 'Поленовский край',\n",
       "       'Радужногорская область', 'Радужнопольский край',\n",
       "       'Речиновская область', 'Речицкая область', 'Речицкий регион',\n",
       "       'Ручейковский край', 'Светолесский край', 'Светополянский округ',\n",
       "       'Североключевской округ', 'Североозёрский округ',\n",
       "       'Североярская область', 'Серебринская область',\n",
       "       'Серебряноярский округ', 'Синегорский регион',\n",
       "       'Солнечноземская область', 'Солнечнореченская область',\n",
       "       'Сосноводолинская область', 'Сосновская область',\n",
       "       'Теплоозёрский округ', 'Тепляковская область',\n",
       "       'Тихогорская область', 'Тихолесский край', 'Тихореченская область',\n",
       "       'Травиницкий округ', 'Травяная область', 'Чистогорская область',\n",
       "       'Шанырский регион', 'Широковская область', 'Яблоневская область',\n",
       "       'Ягодиновская область', 'Яснопольский округ'], dtype=object)"
      ]
     },
     "metadata": {},
     "output_type": "display_data"
    },
    {
     "data": {
      "text/plain": [
       "'Уникальные значения в столбце city_name:'"
      ]
     },
     "metadata": {},
     "output_type": "display_data"
    },
    {
     "data": {
      "text/plain": [
       "array(['Айкольск', 'Айсуак', 'Акбастау', 'Акбасты', 'Акжолтау',\n",
       "       'Алтынкала', 'Алтынсай', 'Байкуль', 'Байсары', 'Байтерековск',\n",
       "       'Беловодск', 'Белоярск', 'Бережанка', 'Бережанск', 'Березиногорск',\n",
       "       'Березиноск', 'Березовцево', 'Берестовец', 'Берестяград',\n",
       "       'Берёзиново', 'Берёзовка', 'Берёзогорск', 'Берёзодальн',\n",
       "       'Берёзополье', 'Берёзореч', 'Берёзоречье', 'Бозарык', 'Боровлянск',\n",
       "       'Буркиттау', 'Бурьяново', 'Верховино', 'Верховка', 'Верхозолотск',\n",
       "       'Верхозорье', 'Верхоозёров', 'Ветеринск', 'Вишнёво',\n",
       "       'Вишнёвогорск', 'Вишнёводск', 'Водниково', 'Глиногорск',\n",
       "       'Глиногорь', 'Глиноград', 'Глинозолото', 'Глинозорь', 'Глинолес',\n",
       "       'Глинополин', 'Глинополье', 'Глинополянск', 'Глинореч', 'Глинянск',\n",
       "       'Голубевск', 'Голубино', 'Гореловск', 'Горицветск', 'Горноград',\n",
       "       'Горнодолинск', 'Горнолесье', 'Горнолуг', 'Горнополец',\n",
       "       'Горнополье', 'Горнополянск', 'Горнополяровск', 'Горнополёк',\n",
       "       'Горноставинск', 'Горяново', 'Дальнеград', 'Дальнесветин',\n",
       "       'Дальнесветск', 'Дальнесоснов', 'Дальнозелен', 'Дальнозерск',\n",
       "       'Дальнозолотск', 'Дальнолесье', 'Дальнополин', 'Долиновка',\n",
       "       'Долиновск', 'Жаркентай', 'Желкаин', 'Желтау', 'Желтоксан',\n",
       "       'Жетисайск', 'Зареченец', 'Заречийск', 'Заречиновка', 'Заречинск',\n",
       "       'Заречка', 'Заречнаярово', 'Заречник', 'Заречнинск', 'Зеленогорье',\n",
       "       'Зеленоградовск', 'Зеленолесье', 'Зеленополец', 'Зеленополин',\n",
       "       'Зеленополье', 'Зелёнаярово', 'Зелёново', 'Зелёнояр',\n",
       "       'Златоозёрово', 'Златополье', 'Златопольск', 'Златоречинск',\n",
       "       'Златоречье', 'Зоревец', 'Зоревичск', 'Зореполин', 'Зоречанск',\n",
       "       'Зориново', 'Каменевовск', 'Каменевск', 'Каменевский', 'Каменичи',\n",
       "       'Каменогорский', 'Каменогорье', 'Каменодолин', 'Каменозолото',\n",
       "       'Каменосветск', 'Каменояр', 'Каменский', 'Каменёвка', 'Каражар',\n",
       "       'Каражол', 'Карасуй', 'Карасуйск', 'Кенесар', 'Ключевинск',\n",
       "       'Ключевогорск', 'Ключеводск', 'Ключевополье', 'Ключеград',\n",
       "       'Ключезолотск', 'Кокжар', 'Коксуйск', 'Кристалевск', 'Кристалин',\n",
       "       'Кристалинск', 'Кристаловец', 'Кристаловка', 'Кристальевка',\n",
       "       'Кристолесье', 'Крутовинск', 'Крутовичи', 'Крутово',\n",
       "       'Крутоводинск', 'Крутоводск', 'Кумсай', 'Кумсары', 'Кызылжол',\n",
       "       'Лесиново', 'Лесинск', 'Леснойск', 'Лесоводск', 'Лесогорич',\n",
       "       'Лесогорск', 'Лесогорский', 'Лесодолинск', 'Лесозерск',\n",
       "       'Лесозолотск', 'Лесополин', 'Лесореченск', 'Лесочистка',\n",
       "       'Лесоярич', 'Лесоярка', 'Лесоярово', 'Лугиново', 'Луговаярово',\n",
       "       'Луговинец', 'Луговинск', 'Луговское', 'Лугоград', 'Луновка',\n",
       "       'Малиновец', 'Малиновецк', 'Малиновинск', 'Малиноворск',\n",
       "       'Малиновочист', 'Медвежанск', 'Медвежиновск', 'Медвежник',\n",
       "       'Медовецк', 'Медовино', 'Мироград', 'Миролесье', 'Мирополь',\n",
       "       'Миросветск', 'Мироярово', 'Нежинск', 'Нивинск', 'Никольянов',\n",
       "       'Нуртас', 'Озёречин', 'Озёриново', 'Озёрово', 'Озёроград',\n",
       "       'Озёроярск', 'Озёрск', 'Озёрчане', 'Озёряновск', 'Ордакент',\n",
       "       'Ордасай', 'Островенск', 'Островецк', 'Острововск', 'Островозёров',\n",
       "       'Островополь', 'Островсков', 'Островской', 'Островярово',\n",
       "       'Песковино', 'Песчанец', 'Песчанская', 'Поленовец', 'Поленовино',\n",
       "       'Поленовичи', 'Поленоград', 'Поленолесье', 'Поленоозёрово',\n",
       "       'Поленосвет', 'Поленосветск', 'Поленояр', 'Поляновск',\n",
       "       'Поляногорье', 'Поляноречинск', 'Полянск', 'Радугорь', 'Радужанов',\n",
       "       'Радужинск', 'Радужнаярова', 'Радужновка', 'Радужнополье',\n",
       "       'Радужнояр', 'Радужовинск', 'Радужсвет', 'Речевинец', 'Реченогор',\n",
       "       'Реченск', 'Речепольск', 'Речиноград', 'Речинск', 'Речинцево',\n",
       "       'Речичанск', 'Речное', 'Родинсветск', 'Родниковец', 'Родниковецк',\n",
       "       'Родниковск', 'Родничанск', 'Рощино', 'Ручейковск', 'Ручейник',\n",
       "       'Ручейницк', 'Ручейновинск', 'Ручейный', 'Ручьевино', 'Сарыбулак',\n",
       "       'Сарыжар', 'Сарытау', 'Светлоярск', 'Светогория', 'Светозолотск',\n",
       "       'Светозорск', 'Светозёринск', 'Светополь', 'Светополье',\n",
       "       'Светоречин', 'Светочистенск', 'Светочистка', 'Светоярич',\n",
       "       'Светоярово', 'Светоярчик', 'Северобережье', 'Северогорск',\n",
       "       'Североград', 'Северополье', 'Серебринск', 'Серебровино',\n",
       "       'Серебровка', 'Сереброяр', 'Серебрянка', 'Синеводов', 'Синеводск',\n",
       "       'Синегориново', 'Синегорск', 'Синеполинск', 'Солнечеводск',\n",
       "       'Солнечегорск', 'Солнечеград', 'Солнечейск', 'Солнечелесье',\n",
       "       'Солнечеполье', 'Солнечнёвка', 'Солнечёвино', 'Соловьёвка',\n",
       "       'Солчелуг', 'Сосновецк', 'Сосновечин', 'Сосновинск',\n",
       "       'Сосновогорец', 'Сосновогорск', 'Сосноград', 'Талдысай', 'Тастай',\n",
       "       'Ташбулак', 'Теплоград', 'Теплоозеро', 'Теплоозёрск', 'Тепляковск',\n",
       "       'Тепляровск', 'Тихогорово', 'Тиходеревск', 'Тихозорин',\n",
       "       'Тихолесье', 'Тихолесьевск', 'Тихоозёрск', 'Тихоречка',\n",
       "       'Тихосветск', 'Тихоярск', 'Тогусжол', 'Травино', 'Травогород',\n",
       "       'Травогорск', 'Травяниково', 'Травяниново', 'Травяночистск',\n",
       "       'Травянский', 'Тулебайск', 'Чистогорье', 'Чистояр', 'Шалкартау',\n",
       "       'Шаныртау', 'Широковка', 'Шынартас', 'Шынгысай', 'Яблоневое',\n",
       "       'Яблоневск', 'Яблонецк', 'Яблоновец', 'Ягодинец', 'Ягодино',\n",
       "       'Ягодиновка', 'Ягодиноград', 'Ягодиноск', 'Ягодинск', 'Ягодинска',\n",
       "       'Ясновский', 'Ясногорец', 'Ясногородин', 'Ясноград', 'Яснолесье',\n",
       "       'Яснополянск', 'Ясносветск'], dtype=object)"
      ]
     },
     "metadata": {},
     "output_type": "display_data"
    },
    {
     "data": {
      "text/plain": [
       "'Уникальные значения в столбце venue_name:'"
      ]
     },
     "metadata": {},
     "output_type": "display_data"
    },
    {
     "data": {
      "text/plain": [
       "array(['Академический ансамбль \"Mirage\" Лтд',\n",
       "       'Академический ансамбль \"Гардероб\" Групп',\n",
       "       'Академический ансамбль \"Горизонт\" и партнеры', ...,\n",
       "       'Этнографический музей \"Сердце\" Лтд',\n",
       "       'Этнографический музей \"Синие\" и партнеры',\n",
       "       'Этнографический музей \"Сказка\" Лимитед'], dtype=object)"
      ]
     },
     "metadata": {},
     "output_type": "display_data"
    },
    {
     "data": {
      "text/plain": [
       "'Уникальные значения в столбце venue_address:'"
      ]
     },
     "metadata": {},
     "output_type": "display_data"
    },
    {
     "data": {
      "text/plain": [
       "array(['алл. 1 Мая, д. 3/4 стр. 4/5', 'алл. 1 Мая, д. 32 стр. 46',\n",
       "       'алл. 40 лет Октября, д. 1', ..., 'ш. Южное, д. 807',\n",
       "       'ш. Ярославское, д. 1 к. 8/9', 'ш. Ярославское, д. 6/8'],\n",
       "      dtype=object)"
      ]
     },
     "metadata": {},
     "output_type": "display_data"
    }
   ],
   "source": [
    "# Проверяем уникальные значения в столбцах\n",
    "for column in ['event_name', 'event_type_description','event_type_main',  'organizers', 'region_name', 'city_name', 'venue_name', 'venue_address']:\n",
    "    display(f'Уникальные значения в столбце {column}:')\n",
    "    display(tickets_df[column].sort_values().unique())\n",
    "    display()"
   ]
  },
  {
   "cell_type": "markdown",
   "id": "5157e01a",
   "metadata": {},
   "source": [
    "Видим, что данные соответствуют описанию"
   ]
  },
  {
   "cell_type": "markdown",
   "id": "cfb57bfe",
   "metadata": {},
   "source": [
    "В обоих датафреймах не содержатся повторяющиеся значения или значения, которые могут быть восприняты как дубликаты"
   ]
  },
  {
   "cell_type": "code",
   "execution_count": 17,
   "id": "c6c2339d",
   "metadata": {},
   "outputs": [
    {
     "name": "stdout",
     "output_type": "stream",
     "text": [
      "<class 'pandas.core.frame.DataFrame'>\n",
      "RangeIndex: 357 entries, 0 to 356\n",
      "Data columns (total 4 columns):\n",
      " #   Column   Non-Null Count  Dtype         \n",
      "---  ------   --------------  -----         \n",
      " 0   data     357 non-null    datetime64[ns]\n",
      " 1   nominal  357 non-null    int64         \n",
      " 2   curs     357 non-null    float64       \n",
      " 3   cdx      357 non-null    object        \n",
      "dtypes: datetime64[ns](1), float64(1), int64(1), object(1)\n",
      "memory usage: 11.3+ KB\n"
     ]
    }
   ],
   "source": [
    "# Преобразуем данные даты из object в datetime64\n",
    "tenge_df['data'] = tenge_df['data'].astype('datetime64[ns]')\n",
    "tenge_df.info() # проверим, всё ли верно"
   ]
  },
  {
   "cell_type": "code",
   "execution_count": 18,
   "id": "f35b2365",
   "metadata": {},
   "outputs": [
    {
     "data": {
      "text/plain": [
       "0"
      ]
     },
     "execution_count": 18,
     "metadata": {},
     "output_type": "execute_result"
    }
   ],
   "source": [
    "# Проверяем на дубликаты датафрейм orders_df\n",
    "orders_df.duplicated().sum()"
   ]
  },
  {
   "cell_type": "code",
   "execution_count": 19,
   "id": "07f2436f",
   "metadata": {},
   "outputs": [
    {
     "data": {
      "text/plain": [
       "0"
      ]
     },
     "execution_count": 19,
     "metadata": {},
     "output_type": "execute_result"
    }
   ],
   "source": [
    "# Проверяем на дубликаты датафрейм tickets_df\n",
    "tickets_df.duplicated().sum()"
   ]
  },
  {
   "cell_type": "code",
   "execution_count": 20,
   "id": "64ee553f",
   "metadata": {},
   "outputs": [
    {
     "data": {
      "text/plain": [
       "0"
      ]
     },
     "execution_count": 20,
     "metadata": {},
     "output_type": "execute_result"
    }
   ],
   "source": [
    "# Проверяем на дубликаты датафрейм tenge_df\n",
    "tenge_df.duplicated().sum()"
   ]
  },
  {
   "cell_type": "markdown",
   "id": "59e1b38d",
   "metadata": {},
   "source": [
    "Видим, что явных дубликатов нет"
   ]
  },
  {
   "cell_type": "code",
   "execution_count": 21,
   "id": "08ec2f80",
   "metadata": {},
   "outputs": [
    {
     "data": {
      "text/plain": [
       "user_id            21940\n",
       "created_dt_msk       153\n",
       "created_ts_msk    280986\n",
       "dtype: int64"
      ]
     },
     "execution_count": 21,
     "metadata": {},
     "output_type": "execute_result"
    }
   ],
   "source": [
    "# Посчитаем количество уникальных значений в столбцах\n",
    "unique_combinations_count = orders_df[['user_id', 'created_dt_msk', 'created_ts_msk']].nunique()\n",
    "unique_combinations_count"
   ]
  },
  {
   "cell_type": "markdown",
   "id": "68cb10cf",
   "metadata": {},
   "source": [
    "Для того, чтобы проверить столбцы на выбросы, необходимо разделить датафреймы по валютам и создать два датафрейма"
   ]
  },
  {
   "cell_type": "code",
   "execution_count": 22,
   "id": "058367d4",
   "metadata": {},
   "outputs": [],
   "source": [
    "# Объединим дашборды orders и events\n",
    "\n",
    "orders_events_df = orders_df.merge(tickets_df, on='event_id',how ='inner')"
   ]
  },
  {
   "cell_type": "code",
   "execution_count": 23,
   "id": "1ebc7d86",
   "metadata": {},
   "outputs": [
    {
     "name": "stdout",
     "output_type": "stream",
     "text": [
      "<class 'pandas.core.frame.DataFrame'>\n",
      "Int64Index: 290611 entries, 0 to 290610\n",
      "Data columns (total 24 columns):\n",
      " #   Column                  Non-Null Count   Dtype         \n",
      "---  ------                  --------------   -----         \n",
      " 0   order_id                290611 non-null  int64         \n",
      " 1   user_id                 290611 non-null  object        \n",
      " 2   created_dt_msk          290611 non-null  datetime64[ns]\n",
      " 3   created_ts_msk          290611 non-null  datetime64[ns]\n",
      " 4   event_id                290611 non-null  int64         \n",
      " 5   cinema_circuit          290611 non-null  object        \n",
      " 6   age_limit               290611 non-null  int64         \n",
      " 7   currency_code           290611 non-null  object        \n",
      " 8   device_type_canonical   290611 non-null  object        \n",
      " 9   revenue                 290611 non-null  float64       \n",
      " 10  service_name            290611 non-null  object        \n",
      " 11  tickets_count           290611 non-null  int64         \n",
      " 12  total                   290611 non-null  float64       \n",
      " 13  days_since_prev         268698 non-null  float64       \n",
      " 14  event_name              290611 non-null  object        \n",
      " 15  event_type_description  290611 non-null  object        \n",
      " 16  event_type_main         290611 non-null  object        \n",
      " 17  organizers              290611 non-null  object        \n",
      " 18  region_name             290611 non-null  object        \n",
      " 19  city_name               290611 non-null  object        \n",
      " 20  city_id                 290611 non-null  int64         \n",
      " 21  venue_id                290611 non-null  int64         \n",
      " 22  venue_name              290611 non-null  object        \n",
      " 23  venue_address           290611 non-null  object        \n",
      "dtypes: datetime64[ns](2), float64(3), int64(6), object(13)\n",
      "memory usage: 55.4+ MB\n"
     ]
    }
   ],
   "source": [
    "# Выведем информация о датафрейме\n",
    "orders_events_df.info()"
   ]
  },
  {
   "cell_type": "code",
   "execution_count": 24,
   "id": "967c8fe5",
   "metadata": {},
   "outputs": [
    {
     "data": {
      "text/html": [
       "<div>\n",
       "<style scoped>\n",
       "    .dataframe tbody tr th:only-of-type {\n",
       "        vertical-align: middle;\n",
       "    }\n",
       "\n",
       "    .dataframe tbody tr th {\n",
       "        vertical-align: top;\n",
       "    }\n",
       "\n",
       "    .dataframe thead th {\n",
       "        text-align: right;\n",
       "    }\n",
       "</style>\n",
       "<table border=\"1\" class=\"dataframe\">\n",
       "  <thead>\n",
       "    <tr style=\"text-align: right;\">\n",
       "      <th></th>\n",
       "      <th>order_id</th>\n",
       "      <th>user_id</th>\n",
       "      <th>created_dt_msk</th>\n",
       "      <th>created_ts_msk</th>\n",
       "      <th>event_id</th>\n",
       "      <th>cinema_circuit</th>\n",
       "      <th>age_limit</th>\n",
       "      <th>currency_code</th>\n",
       "      <th>device_type_canonical</th>\n",
       "      <th>revenue</th>\n",
       "      <th>...</th>\n",
       "      <th>event_name</th>\n",
       "      <th>event_type_description</th>\n",
       "      <th>event_type_main</th>\n",
       "      <th>organizers</th>\n",
       "      <th>region_name</th>\n",
       "      <th>city_name</th>\n",
       "      <th>city_id</th>\n",
       "      <th>venue_id</th>\n",
       "      <th>venue_name</th>\n",
       "      <th>venue_address</th>\n",
       "    </tr>\n",
       "  </thead>\n",
       "  <tbody>\n",
       "    <tr>\n",
       "      <th>0</th>\n",
       "      <td>4359165</td>\n",
       "      <td>0002849b70a3ce2</td>\n",
       "      <td>2024-08-20</td>\n",
       "      <td>2024-08-20 16:08:03</td>\n",
       "      <td>169230</td>\n",
       "      <td>нет</td>\n",
       "      <td>16</td>\n",
       "      <td>rub</td>\n",
       "      <td>mobile</td>\n",
       "      <td>1521.94</td>\n",
       "      <td>...</td>\n",
       "      <td>f0f7b271-04eb-4af6-bcb8-8f05cf46d6ad</td>\n",
       "      <td>спектакль</td>\n",
       "      <td>театр</td>\n",
       "      <td>№3322</td>\n",
       "      <td>Каменевский регион</td>\n",
       "      <td>Глиногорск</td>\n",
       "      <td>213</td>\n",
       "      <td>3972</td>\n",
       "      <td>Сценический центр \"Деталь\" Групп</td>\n",
       "      <td>алл. Машиностроителей, д. 19 стр. 6</td>\n",
       "    </tr>\n",
       "    <tr>\n",
       "      <th>1</th>\n",
       "      <td>7431164</td>\n",
       "      <td>024dc5236465850</td>\n",
       "      <td>2024-07-23</td>\n",
       "      <td>2024-07-23 20:52:02</td>\n",
       "      <td>169230</td>\n",
       "      <td>нет</td>\n",
       "      <td>16</td>\n",
       "      <td>rub</td>\n",
       "      <td>mobile</td>\n",
       "      <td>1902.42</td>\n",
       "      <td>...</td>\n",
       "      <td>f0f7b271-04eb-4af6-bcb8-8f05cf46d6ad</td>\n",
       "      <td>спектакль</td>\n",
       "      <td>театр</td>\n",
       "      <td>№3322</td>\n",
       "      <td>Каменевский регион</td>\n",
       "      <td>Глиногорск</td>\n",
       "      <td>213</td>\n",
       "      <td>3972</td>\n",
       "      <td>Сценический центр \"Деталь\" Групп</td>\n",
       "      <td>алл. Машиностроителей, д. 19 стр. 6</td>\n",
       "    </tr>\n",
       "    <tr>\n",
       "      <th>2</th>\n",
       "      <td>7431106</td>\n",
       "      <td>024dc5236465850</td>\n",
       "      <td>2024-07-23</td>\n",
       "      <td>2024-07-23 20:54:19</td>\n",
       "      <td>169230</td>\n",
       "      <td>нет</td>\n",
       "      <td>16</td>\n",
       "      <td>rub</td>\n",
       "      <td>mobile</td>\n",
       "      <td>1141.45</td>\n",
       "      <td>...</td>\n",
       "      <td>f0f7b271-04eb-4af6-bcb8-8f05cf46d6ad</td>\n",
       "      <td>спектакль</td>\n",
       "      <td>театр</td>\n",
       "      <td>№3322</td>\n",
       "      <td>Каменевский регион</td>\n",
       "      <td>Глиногорск</td>\n",
       "      <td>213</td>\n",
       "      <td>3972</td>\n",
       "      <td>Сценический центр \"Деталь\" Групп</td>\n",
       "      <td>алл. Машиностроителей, д. 19 стр. 6</td>\n",
       "    </tr>\n",
       "    <tr>\n",
       "      <th>3</th>\n",
       "      <td>7431135</td>\n",
       "      <td>024dc5236465850</td>\n",
       "      <td>2024-07-23</td>\n",
       "      <td>2024-07-23 20:59:44</td>\n",
       "      <td>169230</td>\n",
       "      <td>нет</td>\n",
       "      <td>16</td>\n",
       "      <td>rub</td>\n",
       "      <td>mobile</td>\n",
       "      <td>1902.42</td>\n",
       "      <td>...</td>\n",
       "      <td>f0f7b271-04eb-4af6-bcb8-8f05cf46d6ad</td>\n",
       "      <td>спектакль</td>\n",
       "      <td>театр</td>\n",
       "      <td>№3322</td>\n",
       "      <td>Каменевский регион</td>\n",
       "      <td>Глиногорск</td>\n",
       "      <td>213</td>\n",
       "      <td>3972</td>\n",
       "      <td>Сценический центр \"Деталь\" Групп</td>\n",
       "      <td>алл. Машиностроителей, д. 19 стр. 6</td>\n",
       "    </tr>\n",
       "    <tr>\n",
       "      <th>4</th>\n",
       "      <td>7431048</td>\n",
       "      <td>024dc5236465850</td>\n",
       "      <td>2024-07-23</td>\n",
       "      <td>2024-07-23 21:02:08</td>\n",
       "      <td>169230</td>\n",
       "      <td>нет</td>\n",
       "      <td>16</td>\n",
       "      <td>rub</td>\n",
       "      <td>mobile</td>\n",
       "      <td>1521.94</td>\n",
       "      <td>...</td>\n",
       "      <td>f0f7b271-04eb-4af6-bcb8-8f05cf46d6ad</td>\n",
       "      <td>спектакль</td>\n",
       "      <td>театр</td>\n",
       "      <td>№3322</td>\n",
       "      <td>Каменевский регион</td>\n",
       "      <td>Глиногорск</td>\n",
       "      <td>213</td>\n",
       "      <td>3972</td>\n",
       "      <td>Сценический центр \"Деталь\" Групп</td>\n",
       "      <td>алл. Машиностроителей, д. 19 стр. 6</td>\n",
       "    </tr>\n",
       "  </tbody>\n",
       "</table>\n",
       "<p>5 rows × 24 columns</p>\n",
       "</div>"
      ],
      "text/plain": [
       "   order_id          user_id created_dt_msk      created_ts_msk  event_id  \\\n",
       "0   4359165  0002849b70a3ce2     2024-08-20 2024-08-20 16:08:03    169230   \n",
       "1   7431164  024dc5236465850     2024-07-23 2024-07-23 20:52:02    169230   \n",
       "2   7431106  024dc5236465850     2024-07-23 2024-07-23 20:54:19    169230   \n",
       "3   7431135  024dc5236465850     2024-07-23 2024-07-23 20:59:44    169230   \n",
       "4   7431048  024dc5236465850     2024-07-23 2024-07-23 21:02:08    169230   \n",
       "\n",
       "  cinema_circuit  age_limit currency_code device_type_canonical  revenue  ...  \\\n",
       "0            нет         16           rub                mobile  1521.94  ...   \n",
       "1            нет         16           rub                mobile  1902.42  ...   \n",
       "2            нет         16           rub                mobile  1141.45  ...   \n",
       "3            нет         16           rub                mobile  1902.42  ...   \n",
       "4            нет         16           rub                mobile  1521.94  ...   \n",
       "\n",
       "                             event_name  event_type_description  \\\n",
       "0  f0f7b271-04eb-4af6-bcb8-8f05cf46d6ad               спектакль   \n",
       "1  f0f7b271-04eb-4af6-bcb8-8f05cf46d6ad               спектакль   \n",
       "2  f0f7b271-04eb-4af6-bcb8-8f05cf46d6ad               спектакль   \n",
       "3  f0f7b271-04eb-4af6-bcb8-8f05cf46d6ad               спектакль   \n",
       "4  f0f7b271-04eb-4af6-bcb8-8f05cf46d6ad               спектакль   \n",
       "\n",
       "   event_type_main  organizers         region_name   city_name city_id  \\\n",
       "0            театр       №3322  Каменевский регион  Глиногорск     213   \n",
       "1            театр       №3322  Каменевский регион  Глиногорск     213   \n",
       "2            театр       №3322  Каменевский регион  Глиногорск     213   \n",
       "3            театр       №3322  Каменевский регион  Глиногорск     213   \n",
       "4            театр       №3322  Каменевский регион  Глиногорск     213   \n",
       "\n",
       "  venue_id                        venue_name  \\\n",
       "0     3972  Сценический центр \"Деталь\" Групп   \n",
       "1     3972  Сценический центр \"Деталь\" Групп   \n",
       "2     3972  Сценический центр \"Деталь\" Групп   \n",
       "3     3972  Сценический центр \"Деталь\" Групп   \n",
       "4     3972  Сценический центр \"Деталь\" Групп   \n",
       "\n",
       "                         venue_address  \n",
       "0  алл. Машиностроителей, д. 19 стр. 6  \n",
       "1  алл. Машиностроителей, д. 19 стр. 6  \n",
       "2  алл. Машиностроителей, д. 19 стр. 6  \n",
       "3  алл. Машиностроителей, д. 19 стр. 6  \n",
       "4  алл. Машиностроителей, д. 19 стр. 6  \n",
       "\n",
       "[5 rows x 24 columns]"
      ]
     },
     "execution_count": 24,
     "metadata": {},
     "output_type": "execute_result"
    }
   ],
   "source": [
    "# Выведем первые строки датафрейма\n",
    "orders_events_df.head()"
   ]
  },
  {
   "cell_type": "code",
   "execution_count": 25,
   "id": "0bfecd31",
   "metadata": {},
   "outputs": [],
   "source": [
    "# Добавим данные о курсе тенге, присоединим датафрейм\n",
    "orders_events_tenge_df =  orders_events_df.merge(tenge_df, left_on = 'created_dt_msk', right_on = 'data', how = 'inner')"
   ]
  },
  {
   "cell_type": "code",
   "execution_count": 26,
   "id": "e9e11112",
   "metadata": {},
   "outputs": [
    {
     "name": "stdout",
     "output_type": "stream",
     "text": [
      "<class 'pandas.core.frame.DataFrame'>\n",
      "Int64Index: 290611 entries, 0 to 290610\n",
      "Data columns (total 28 columns):\n",
      " #   Column                  Non-Null Count   Dtype         \n",
      "---  ------                  --------------   -----         \n",
      " 0   order_id                290611 non-null  int64         \n",
      " 1   user_id                 290611 non-null  object        \n",
      " 2   created_dt_msk          290611 non-null  datetime64[ns]\n",
      " 3   created_ts_msk          290611 non-null  datetime64[ns]\n",
      " 4   event_id                290611 non-null  int64         \n",
      " 5   cinema_circuit          290611 non-null  object        \n",
      " 6   age_limit               290611 non-null  int64         \n",
      " 7   currency_code           290611 non-null  object        \n",
      " 8   device_type_canonical   290611 non-null  object        \n",
      " 9   revenue                 290611 non-null  float64       \n",
      " 10  service_name            290611 non-null  object        \n",
      " 11  tickets_count           290611 non-null  int64         \n",
      " 12  total                   290611 non-null  float64       \n",
      " 13  days_since_prev         268698 non-null  float64       \n",
      " 14  event_name              290611 non-null  object        \n",
      " 15  event_type_description  290611 non-null  object        \n",
      " 16  event_type_main         290611 non-null  object        \n",
      " 17  organizers              290611 non-null  object        \n",
      " 18  region_name             290611 non-null  object        \n",
      " 19  city_name               290611 non-null  object        \n",
      " 20  city_id                 290611 non-null  int64         \n",
      " 21  venue_id                290611 non-null  int64         \n",
      " 22  venue_name              290611 non-null  object        \n",
      " 23  venue_address           290611 non-null  object        \n",
      " 24  data                    290611 non-null  datetime64[ns]\n",
      " 25  nominal                 290611 non-null  int64         \n",
      " 26  curs                    290611 non-null  float64       \n",
      " 27  cdx                     290611 non-null  object        \n",
      "dtypes: datetime64[ns](3), float64(4), int64(7), object(14)\n",
      "memory usage: 64.3+ MB\n"
     ]
    }
   ],
   "source": [
    "# Выведем информация о датафрейме\n",
    "orders_events_tenge_df.info()"
   ]
  },
  {
   "cell_type": "code",
   "execution_count": 27,
   "id": "598c4642",
   "metadata": {},
   "outputs": [
    {
     "data": {
      "text/html": [
       "<div>\n",
       "<style scoped>\n",
       "    .dataframe tbody tr th:only-of-type {\n",
       "        vertical-align: middle;\n",
       "    }\n",
       "\n",
       "    .dataframe tbody tr th {\n",
       "        vertical-align: top;\n",
       "    }\n",
       "\n",
       "    .dataframe thead th {\n",
       "        text-align: right;\n",
       "    }\n",
       "</style>\n",
       "<table border=\"1\" class=\"dataframe\">\n",
       "  <thead>\n",
       "    <tr style=\"text-align: right;\">\n",
       "      <th></th>\n",
       "      <th>order_id</th>\n",
       "      <th>user_id</th>\n",
       "      <th>created_dt_msk</th>\n",
       "      <th>created_ts_msk</th>\n",
       "      <th>event_id</th>\n",
       "      <th>cinema_circuit</th>\n",
       "      <th>age_limit</th>\n",
       "      <th>currency_code</th>\n",
       "      <th>device_type_canonical</th>\n",
       "      <th>revenue</th>\n",
       "      <th>...</th>\n",
       "      <th>region_name</th>\n",
       "      <th>city_name</th>\n",
       "      <th>city_id</th>\n",
       "      <th>venue_id</th>\n",
       "      <th>venue_name</th>\n",
       "      <th>venue_address</th>\n",
       "      <th>data</th>\n",
       "      <th>nominal</th>\n",
       "      <th>curs</th>\n",
       "      <th>cdx</th>\n",
       "    </tr>\n",
       "  </thead>\n",
       "  <tbody>\n",
       "    <tr>\n",
       "      <th>0</th>\n",
       "      <td>4359165</td>\n",
       "      <td>0002849b70a3ce2</td>\n",
       "      <td>2024-08-20</td>\n",
       "      <td>2024-08-20 16:08:03</td>\n",
       "      <td>169230</td>\n",
       "      <td>нет</td>\n",
       "      <td>16</td>\n",
       "      <td>rub</td>\n",
       "      <td>mobile</td>\n",
       "      <td>1521.94</td>\n",
       "      <td>...</td>\n",
       "      <td>Каменевский регион</td>\n",
       "      <td>Глиногорск</td>\n",
       "      <td>213</td>\n",
       "      <td>3972</td>\n",
       "      <td>Сценический центр \"Деталь\" Групп</td>\n",
       "      <td>алл. Машиностроителей, д. 19 стр. 6</td>\n",
       "      <td>2024-08-20</td>\n",
       "      <td>100</td>\n",
       "      <td>18.6972</td>\n",
       "      <td>kzt</td>\n",
       "    </tr>\n",
       "    <tr>\n",
       "      <th>1</th>\n",
       "      <td>6274963</td>\n",
       "      <td>44c1c640a242aea</td>\n",
       "      <td>2024-08-20</td>\n",
       "      <td>2024-08-20 22:12:04</td>\n",
       "      <td>237325</td>\n",
       "      <td>нет</td>\n",
       "      <td>0</td>\n",
       "      <td>rub</td>\n",
       "      <td>mobile</td>\n",
       "      <td>144.73</td>\n",
       "      <td>...</td>\n",
       "      <td>Каменевский регион</td>\n",
       "      <td>Глиногорск</td>\n",
       "      <td>213</td>\n",
       "      <td>2941</td>\n",
       "      <td>Музыкальная школа для детей \"Аккаунт\" Лтд</td>\n",
       "      <td>алл. Шмидта, д. 9 стр. 4</td>\n",
       "      <td>2024-08-20</td>\n",
       "      <td>100</td>\n",
       "      <td>18.6972</td>\n",
       "      <td>kzt</td>\n",
       "    </tr>\n",
       "    <tr>\n",
       "      <th>2</th>\n",
       "      <td>474528</td>\n",
       "      <td>2b1f730d7024681</td>\n",
       "      <td>2024-08-20</td>\n",
       "      <td>2024-08-20 15:29:56</td>\n",
       "      <td>373657</td>\n",
       "      <td>нет</td>\n",
       "      <td>18</td>\n",
       "      <td>rub</td>\n",
       "      <td>mobile</td>\n",
       "      <td>318.27</td>\n",
       "      <td>...</td>\n",
       "      <td>Североярская область</td>\n",
       "      <td>Озёрск</td>\n",
       "      <td>2</td>\n",
       "      <td>1631</td>\n",
       "      <td>Музей истории \"Воспоминание\" Групп</td>\n",
       "      <td>наб. Тамбовская, д. 1/4 к. 577</td>\n",
       "      <td>2024-08-20</td>\n",
       "      <td>100</td>\n",
       "      <td>18.6972</td>\n",
       "      <td>kzt</td>\n",
       "    </tr>\n",
       "    <tr>\n",
       "      <th>3</th>\n",
       "      <td>7477361</td>\n",
       "      <td>05ba93f1b1e1fdd</td>\n",
       "      <td>2024-08-20</td>\n",
       "      <td>2024-08-20 17:06:44</td>\n",
       "      <td>534657</td>\n",
       "      <td>нет</td>\n",
       "      <td>16</td>\n",
       "      <td>rub</td>\n",
       "      <td>mobile</td>\n",
       "      <td>339.61</td>\n",
       "      <td>...</td>\n",
       "      <td>Ветренский регион</td>\n",
       "      <td>Кокжар</td>\n",
       "      <td>20</td>\n",
       "      <td>2866</td>\n",
       "      <td>Школа фотографии \"Золотое\" Инк</td>\n",
       "      <td>ш. Микрорайон, д. 79 стр. 50</td>\n",
       "      <td>2024-08-20</td>\n",
       "      <td>100</td>\n",
       "      <td>18.6972</td>\n",
       "      <td>kzt</td>\n",
       "    </tr>\n",
       "    <tr>\n",
       "      <th>4</th>\n",
       "      <td>472150</td>\n",
       "      <td>3ee7dc2e115847f</td>\n",
       "      <td>2024-08-20</td>\n",
       "      <td>2024-08-20 02:57:22</td>\n",
       "      <td>534657</td>\n",
       "      <td>нет</td>\n",
       "      <td>16</td>\n",
       "      <td>rub</td>\n",
       "      <td>mobile</td>\n",
       "      <td>339.61</td>\n",
       "      <td>...</td>\n",
       "      <td>Ветренский регион</td>\n",
       "      <td>Кокжар</td>\n",
       "      <td>20</td>\n",
       "      <td>2866</td>\n",
       "      <td>Школа фотографии \"Золотое\" Инк</td>\n",
       "      <td>ш. Микрорайон, д. 79 стр. 50</td>\n",
       "      <td>2024-08-20</td>\n",
       "      <td>100</td>\n",
       "      <td>18.6972</td>\n",
       "      <td>kzt</td>\n",
       "    </tr>\n",
       "  </tbody>\n",
       "</table>\n",
       "<p>5 rows × 28 columns</p>\n",
       "</div>"
      ],
      "text/plain": [
       "   order_id          user_id created_dt_msk      created_ts_msk  event_id  \\\n",
       "0   4359165  0002849b70a3ce2     2024-08-20 2024-08-20 16:08:03    169230   \n",
       "1   6274963  44c1c640a242aea     2024-08-20 2024-08-20 22:12:04    237325   \n",
       "2    474528  2b1f730d7024681     2024-08-20 2024-08-20 15:29:56    373657   \n",
       "3   7477361  05ba93f1b1e1fdd     2024-08-20 2024-08-20 17:06:44    534657   \n",
       "4    472150  3ee7dc2e115847f     2024-08-20 2024-08-20 02:57:22    534657   \n",
       "\n",
       "  cinema_circuit  age_limit currency_code device_type_canonical  revenue  ...  \\\n",
       "0            нет         16           rub                mobile  1521.94  ...   \n",
       "1            нет          0           rub                mobile   144.73  ...   \n",
       "2            нет         18           rub                mobile   318.27  ...   \n",
       "3            нет         16           rub                mobile   339.61  ...   \n",
       "4            нет         16           rub                mobile   339.61  ...   \n",
       "\n",
       "            region_name   city_name  city_id  venue_id  \\\n",
       "0    Каменевский регион  Глиногорск      213      3972   \n",
       "1    Каменевский регион  Глиногорск      213      2941   \n",
       "2  Североярская область      Озёрск        2      1631   \n",
       "3     Ветренский регион      Кокжар       20      2866   \n",
       "4     Ветренский регион      Кокжар       20      2866   \n",
       "\n",
       "                                  venue_name  \\\n",
       "0           Сценический центр \"Деталь\" Групп   \n",
       "1  Музыкальная школа для детей \"Аккаунт\" Лтд   \n",
       "2         Музей истории \"Воспоминание\" Групп   \n",
       "3             Школа фотографии \"Золотое\" Инк   \n",
       "4             Школа фотографии \"Золотое\" Инк   \n",
       "\n",
       "                         venue_address       data nominal     curs  cdx  \n",
       "0  алл. Машиностроителей, д. 19 стр. 6 2024-08-20     100  18.6972  kzt  \n",
       "1             алл. Шмидта, д. 9 стр. 4 2024-08-20     100  18.6972  kzt  \n",
       "2       наб. Тамбовская, д. 1/4 к. 577 2024-08-20     100  18.6972  kzt  \n",
       "3         ш. Микрорайон, д. 79 стр. 50 2024-08-20     100  18.6972  kzt  \n",
       "4         ш. Микрорайон, д. 79 стр. 50 2024-08-20     100  18.6972  kzt  \n",
       "\n",
       "[5 rows x 28 columns]"
      ]
     },
     "execution_count": 27,
     "metadata": {},
     "output_type": "execute_result"
    }
   ],
   "source": [
    "# Выведем первые строки датафрейма\n",
    "orders_events_tenge_df.head()"
   ]
  },
  {
   "cell_type": "code",
   "execution_count": 28,
   "id": "cf12e818",
   "metadata": {},
   "outputs": [],
   "source": [
    "# Для удобсвтва дальнейшего анализа,выкучку нужно привести к 1 валюте, рублям. \n",
    "# Создадим функцию для этого.\n",
    "\n",
    "def to_rubles(row):\n",
    "    if row['currency_code'] == 'kzt':\n",
    "        return row['revenue']*(row['curs']/row['nominal'])\n",
    "    else:\n",
    "        return row['revenue']\n",
    "\n",
    "# применим данную функцию к датафрейму \n",
    "orders_events_tenge_df['revenue_rub'] = orders_events_tenge_df.apply(to_rubles, axis=1 )"
   ]
  },
  {
   "cell_type": "code",
   "execution_count": 29,
   "id": "a6c3d01a",
   "metadata": {},
   "outputs": [
    {
     "data": {
      "text/html": [
       "<div>\n",
       "<style scoped>\n",
       "    .dataframe tbody tr th:only-of-type {\n",
       "        vertical-align: middle;\n",
       "    }\n",
       "\n",
       "    .dataframe tbody tr th {\n",
       "        vertical-align: top;\n",
       "    }\n",
       "\n",
       "    .dataframe thead th {\n",
       "        text-align: right;\n",
       "    }\n",
       "</style>\n",
       "<table border=\"1\" class=\"dataframe\">\n",
       "  <thead>\n",
       "    <tr style=\"text-align: right;\">\n",
       "      <th></th>\n",
       "      <th>order_id</th>\n",
       "      <th>user_id</th>\n",
       "      <th>created_dt_msk</th>\n",
       "      <th>created_ts_msk</th>\n",
       "      <th>event_id</th>\n",
       "      <th>cinema_circuit</th>\n",
       "      <th>age_limit</th>\n",
       "      <th>currency_code</th>\n",
       "      <th>device_type_canonical</th>\n",
       "      <th>revenue</th>\n",
       "      <th>...</th>\n",
       "      <th>city_name</th>\n",
       "      <th>city_id</th>\n",
       "      <th>venue_id</th>\n",
       "      <th>venue_name</th>\n",
       "      <th>venue_address</th>\n",
       "      <th>data</th>\n",
       "      <th>nominal</th>\n",
       "      <th>curs</th>\n",
       "      <th>cdx</th>\n",
       "      <th>revenue_rub</th>\n",
       "    </tr>\n",
       "  </thead>\n",
       "  <tbody>\n",
       "    <tr>\n",
       "      <th>188786</th>\n",
       "      <td>6621600</td>\n",
       "      <td>1e3795ecb8bb655</td>\n",
       "      <td>2024-09-03</td>\n",
       "      <td>2024-09-03 11:10:51</td>\n",
       "      <td>564990</td>\n",
       "      <td>нет</td>\n",
       "      <td>0</td>\n",
       "      <td>rub</td>\n",
       "      <td>mobile</td>\n",
       "      <td>116.79</td>\n",
       "      <td>...</td>\n",
       "      <td>Радужсвет</td>\n",
       "      <td>47</td>\n",
       "      <td>2157</td>\n",
       "      <td>Студия дизайна \"Платформа\" Инкорпорэйтед</td>\n",
       "      <td>наб. Магистральная, д. 5</td>\n",
       "      <td>2024-09-03</td>\n",
       "      <td>100</td>\n",
       "      <td>18.6868</td>\n",
       "      <td>kzt</td>\n",
       "      <td>116.79</td>\n",
       "    </tr>\n",
       "    <tr>\n",
       "      <th>279745</th>\n",
       "      <td>6533556</td>\n",
       "      <td>0631f61aafb9cfa</td>\n",
       "      <td>2024-06-23</td>\n",
       "      <td>2024-06-23 15:57:51</td>\n",
       "      <td>389424</td>\n",
       "      <td>нет</td>\n",
       "      <td>0</td>\n",
       "      <td>rub</td>\n",
       "      <td>mobile</td>\n",
       "      <td>143.78</td>\n",
       "      <td>...</td>\n",
       "      <td>Луговаярово</td>\n",
       "      <td>970</td>\n",
       "      <td>3389</td>\n",
       "      <td>Школа музыкального театра \"Эксплорер\" Инкорпор...</td>\n",
       "      <td>наб. Буденного, д. 971</td>\n",
       "      <td>2024-06-23</td>\n",
       "      <td>100</td>\n",
       "      <td>19.1383</td>\n",
       "      <td>kzt</td>\n",
       "      <td>143.78</td>\n",
       "    </tr>\n",
       "    <tr>\n",
       "      <th>265625</th>\n",
       "      <td>1222090</td>\n",
       "      <td>d7daedda97f4143</td>\n",
       "      <td>2024-06-12</td>\n",
       "      <td>2024-06-12 09:42:04</td>\n",
       "      <td>515021</td>\n",
       "      <td>нет</td>\n",
       "      <td>6</td>\n",
       "      <td>rub</td>\n",
       "      <td>mobile</td>\n",
       "      <td>142.63</td>\n",
       "      <td>...</td>\n",
       "      <td>Ягодиновка</td>\n",
       "      <td>239</td>\n",
       "      <td>4225</td>\n",
       "      <td>Кинокомпания \"Динамика\" Лтд</td>\n",
       "      <td>наб. Суворова, д. 8/5 стр. 8</td>\n",
       "      <td>2024-06-12</td>\n",
       "      <td>100</td>\n",
       "      <td>19.8655</td>\n",
       "      <td>kzt</td>\n",
       "      <td>142.63</td>\n",
       "    </tr>\n",
       "    <tr>\n",
       "      <th>15917</th>\n",
       "      <td>1886277</td>\n",
       "      <td>043f669c9f734b1</td>\n",
       "      <td>2024-10-11</td>\n",
       "      <td>2024-10-11 15:04:23</td>\n",
       "      <td>388674</td>\n",
       "      <td>нет</td>\n",
       "      <td>12</td>\n",
       "      <td>rub</td>\n",
       "      <td>desktop</td>\n",
       "      <td>499.48</td>\n",
       "      <td>...</td>\n",
       "      <td>Озёрск</td>\n",
       "      <td>2</td>\n",
       "      <td>1442</td>\n",
       "      <td>Детский дом культуры \"Солнечный\" Лимитед</td>\n",
       "      <td>ш. Светлое, д. 4 стр. 76</td>\n",
       "      <td>2024-10-11</td>\n",
       "      <td>100</td>\n",
       "      <td>19.8829</td>\n",
       "      <td>kzt</td>\n",
       "      <td>499.48</td>\n",
       "    </tr>\n",
       "    <tr>\n",
       "      <th>255402</th>\n",
       "      <td>4056202</td>\n",
       "      <td>c7d4d0d8a2f0135</td>\n",
       "      <td>2024-09-01</td>\n",
       "      <td>2024-09-01 17:14:06</td>\n",
       "      <td>195275</td>\n",
       "      <td>нет</td>\n",
       "      <td>0</td>\n",
       "      <td>rub</td>\n",
       "      <td>mobile</td>\n",
       "      <td>88.99</td>\n",
       "      <td>...</td>\n",
       "      <td>Глиногорск</td>\n",
       "      <td>213</td>\n",
       "      <td>1614</td>\n",
       "      <td>Культурный центр \"Общие\" Групп</td>\n",
       "      <td>ул. Владимирская, д. 87 стр. 4</td>\n",
       "      <td>2024-09-01</td>\n",
       "      <td>100</td>\n",
       "      <td>18.9330</td>\n",
       "      <td>kzt</td>\n",
       "      <td>88.99</td>\n",
       "    </tr>\n",
       "    <tr>\n",
       "      <th>144789</th>\n",
       "      <td>183803</td>\n",
       "      <td>7d22e22c99ec66e</td>\n",
       "      <td>2024-10-02</td>\n",
       "      <td>2024-10-02 23:43:41</td>\n",
       "      <td>66551</td>\n",
       "      <td>нет</td>\n",
       "      <td>12</td>\n",
       "      <td>rub</td>\n",
       "      <td>mobile</td>\n",
       "      <td>644.01</td>\n",
       "      <td>...</td>\n",
       "      <td>Озёрск</td>\n",
       "      <td>2</td>\n",
       "      <td>4043</td>\n",
       "      <td>Кинокомитет \"Золотая\" Инк</td>\n",
       "      <td>ш. Коммуны, д. 92 стр. 6</td>\n",
       "      <td>2024-10-02</td>\n",
       "      <td>100</td>\n",
       "      <td>19.4015</td>\n",
       "      <td>kzt</td>\n",
       "      <td>644.01</td>\n",
       "    </tr>\n",
       "    <tr>\n",
       "      <th>136985</th>\n",
       "      <td>7307624</td>\n",
       "      <td>3d77fb58bde13d0</td>\n",
       "      <td>2024-10-25</td>\n",
       "      <td>2024-10-25 19:10:04</td>\n",
       "      <td>579559</td>\n",
       "      <td>нет</td>\n",
       "      <td>16</td>\n",
       "      <td>rub</td>\n",
       "      <td>desktop</td>\n",
       "      <td>407.71</td>\n",
       "      <td>...</td>\n",
       "      <td>Глиногорск</td>\n",
       "      <td>213</td>\n",
       "      <td>3957</td>\n",
       "      <td>Клуб истории искусств \"Арабеска\" Инкорпорэйтед</td>\n",
       "      <td>пер. Проезжий, д. 479 к. 6/4</td>\n",
       "      <td>2024-10-25</td>\n",
       "      <td>100</td>\n",
       "      <td>19.8788</td>\n",
       "      <td>kzt</td>\n",
       "      <td>407.71</td>\n",
       "    </tr>\n",
       "    <tr>\n",
       "      <th>16439</th>\n",
       "      <td>2343172</td>\n",
       "      <td>28989aeaf95f326</td>\n",
       "      <td>2024-10-11</td>\n",
       "      <td>2024-10-11 17:01:37</td>\n",
       "      <td>254173</td>\n",
       "      <td>нет</td>\n",
       "      <td>0</td>\n",
       "      <td>rub</td>\n",
       "      <td>mobile</td>\n",
       "      <td>416.38</td>\n",
       "      <td>...</td>\n",
       "      <td>Озёрск</td>\n",
       "      <td>2</td>\n",
       "      <td>2805</td>\n",
       "      <td>Центр культурного наследия \"Заряд\" и партнеры</td>\n",
       "      <td>ш. Пугачева, д. 9/7 к. 39</td>\n",
       "      <td>2024-10-11</td>\n",
       "      <td>100</td>\n",
       "      <td>19.8829</td>\n",
       "      <td>kzt</td>\n",
       "      <td>416.38</td>\n",
       "    </tr>\n",
       "    <tr>\n",
       "      <th>85882</th>\n",
       "      <td>5208517</td>\n",
       "      <td>9168336f5602661</td>\n",
       "      <td>2024-10-18</td>\n",
       "      <td>2024-10-18 13:58:13</td>\n",
       "      <td>551321</td>\n",
       "      <td>нет</td>\n",
       "      <td>6</td>\n",
       "      <td>rub</td>\n",
       "      <td>mobile</td>\n",
       "      <td>1355.17</td>\n",
       "      <td>...</td>\n",
       "      <td>Глиногорск</td>\n",
       "      <td>213</td>\n",
       "      <td>1137</td>\n",
       "      <td>Проект по интеграции искусства \"Обилие\" Инкорп...</td>\n",
       "      <td>пер. Громова, д. 18</td>\n",
       "      <td>2024-10-18</td>\n",
       "      <td>100</td>\n",
       "      <td>19.8697</td>\n",
       "      <td>kzt</td>\n",
       "      <td>1355.17</td>\n",
       "    </tr>\n",
       "    <tr>\n",
       "      <th>101292</th>\n",
       "      <td>4276312</td>\n",
       "      <td>9f0cddaba3378c8</td>\n",
       "      <td>2024-07-30</td>\n",
       "      <td>2024-07-30 13:56:14</td>\n",
       "      <td>537732</td>\n",
       "      <td>нет</td>\n",
       "      <td>12</td>\n",
       "      <td>rub</td>\n",
       "      <td>mobile</td>\n",
       "      <td>608.13</td>\n",
       "      <td>...</td>\n",
       "      <td>Островополь</td>\n",
       "      <td>11067</td>\n",
       "      <td>1691</td>\n",
       "      <td>Училище искусств \"Pulse\" Лтд</td>\n",
       "      <td>пр. Нефтяников, д. 1/7 к. 1/6</td>\n",
       "      <td>2024-07-30</td>\n",
       "      <td>100</td>\n",
       "      <td>18.2287</td>\n",
       "      <td>kzt</td>\n",
       "      <td>608.13</td>\n",
       "    </tr>\n",
       "  </tbody>\n",
       "</table>\n",
       "<p>10 rows × 29 columns</p>\n",
       "</div>"
      ],
      "text/plain": [
       "        order_id          user_id created_dt_msk      created_ts_msk  \\\n",
       "188786   6621600  1e3795ecb8bb655     2024-09-03 2024-09-03 11:10:51   \n",
       "279745   6533556  0631f61aafb9cfa     2024-06-23 2024-06-23 15:57:51   \n",
       "265625   1222090  d7daedda97f4143     2024-06-12 2024-06-12 09:42:04   \n",
       "15917    1886277  043f669c9f734b1     2024-10-11 2024-10-11 15:04:23   \n",
       "255402   4056202  c7d4d0d8a2f0135     2024-09-01 2024-09-01 17:14:06   \n",
       "144789    183803  7d22e22c99ec66e     2024-10-02 2024-10-02 23:43:41   \n",
       "136985   7307624  3d77fb58bde13d0     2024-10-25 2024-10-25 19:10:04   \n",
       "16439    2343172  28989aeaf95f326     2024-10-11 2024-10-11 17:01:37   \n",
       "85882    5208517  9168336f5602661     2024-10-18 2024-10-18 13:58:13   \n",
       "101292   4276312  9f0cddaba3378c8     2024-07-30 2024-07-30 13:56:14   \n",
       "\n",
       "        event_id cinema_circuit  age_limit currency_code  \\\n",
       "188786    564990            нет          0           rub   \n",
       "279745    389424            нет          0           rub   \n",
       "265625    515021            нет          6           rub   \n",
       "15917     388674            нет         12           rub   \n",
       "255402    195275            нет          0           rub   \n",
       "144789     66551            нет         12           rub   \n",
       "136985    579559            нет         16           rub   \n",
       "16439     254173            нет          0           rub   \n",
       "85882     551321            нет          6           rub   \n",
       "101292    537732            нет         12           rub   \n",
       "\n",
       "       device_type_canonical  revenue  ...    city_name  city_id  venue_id  \\\n",
       "188786                mobile   116.79  ...    Радужсвет       47      2157   \n",
       "279745                mobile   143.78  ...  Луговаярово      970      3389   \n",
       "265625                mobile   142.63  ...   Ягодиновка      239      4225   \n",
       "15917                desktop   499.48  ...       Озёрск        2      1442   \n",
       "255402                mobile    88.99  ...   Глиногорск      213      1614   \n",
       "144789                mobile   644.01  ...       Озёрск        2      4043   \n",
       "136985               desktop   407.71  ...   Глиногорск      213      3957   \n",
       "16439                 mobile   416.38  ...       Озёрск        2      2805   \n",
       "85882                 mobile  1355.17  ...   Глиногорск      213      1137   \n",
       "101292                mobile   608.13  ...  Островополь    11067      1691   \n",
       "\n",
       "                                               venue_name  \\\n",
       "188786           Студия дизайна \"Платформа\" Инкорпорэйтед   \n",
       "279745  Школа музыкального театра \"Эксплорер\" Инкорпор...   \n",
       "265625                        Кинокомпания \"Динамика\" Лтд   \n",
       "15917            Детский дом культуры \"Солнечный\" Лимитед   \n",
       "255402                     Культурный центр \"Общие\" Групп   \n",
       "144789                          Кинокомитет \"Золотая\" Инк   \n",
       "136985     Клуб истории искусств \"Арабеска\" Инкорпорэйтед   \n",
       "16439       Центр культурного наследия \"Заряд\" и партнеры   \n",
       "85882   Проект по интеграции искусства \"Обилие\" Инкорп...   \n",
       "101292                       Училище искусств \"Pulse\" Лтд   \n",
       "\n",
       "                         venue_address       data nominal     curs  cdx  \\\n",
       "188786        наб. Магистральная, д. 5 2024-09-03     100  18.6868  kzt   \n",
       "279745          наб. Буденного, д. 971 2024-06-23     100  19.1383  kzt   \n",
       "265625    наб. Суворова, д. 8/5 стр. 8 2024-06-12     100  19.8655  kzt   \n",
       "15917         ш. Светлое, д. 4 стр. 76 2024-10-11     100  19.8829  kzt   \n",
       "255402  ул. Владимирская, д. 87 стр. 4 2024-09-01     100  18.9330  kzt   \n",
       "144789        ш. Коммуны, д. 92 стр. 6 2024-10-02     100  19.4015  kzt   \n",
       "136985    пер. Проезжий, д. 479 к. 6/4 2024-10-25     100  19.8788  kzt   \n",
       "16439        ш. Пугачева, д. 9/7 к. 39 2024-10-11     100  19.8829  kzt   \n",
       "85882              пер. Громова, д. 18 2024-10-18     100  19.8697  kzt   \n",
       "101292   пр. Нефтяников, д. 1/7 к. 1/6 2024-07-30     100  18.2287  kzt   \n",
       "\n",
       "       revenue_rub  \n",
       "188786      116.79  \n",
       "279745      143.78  \n",
       "265625      142.63  \n",
       "15917       499.48  \n",
       "255402       88.99  \n",
       "144789      644.01  \n",
       "136985      407.71  \n",
       "16439       416.38  \n",
       "85882      1355.17  \n",
       "101292      608.13  \n",
       "\n",
       "[10 rows x 29 columns]"
      ]
     },
     "execution_count": 29,
     "metadata": {},
     "output_type": "execute_result"
    }
   ],
   "source": [
    "# Выведем строки для проверки\n",
    "orders_events_tenge_df.sample(10)"
   ]
  },
  {
   "cell_type": "markdown",
   "id": "56f30a67",
   "metadata": {},
   "source": [
    "По моему мнению всё корректно"
   ]
  },
  {
   "cell_type": "code",
   "execution_count": 30,
   "id": "7c0ab695",
   "metadata": {},
   "outputs": [
    {
     "data": {
      "image/png": "[encoded data removed]",
      "text/plain": [
       "<Figure size 864x576 with 1 Axes>"
      ]
     },
     "metadata": {
      "needs_background": "light"
     },
     "output_type": "display_data"
    }
   ],
   "source": [
    "# Построим гистограмму распределения значений revenue_rub\n",
    "plt.figure(figsize = [12,8])\n",
    "plt.hist(orders_events_tenge_df['revenue_rub'],\n",
    "         bins = 40,\n",
    "         color = 'blue',\n",
    "         edgecolor = 'black'         \n",
    "         )\n",
    "plt.grid(axis= 'y')\n",
    "plt.title('Распределение значений revenue_rub')\n",
    "plt.xlabel('revenue_rub')\n",
    "plt.ylabel('Количество значений')\n",
    "plt.show()"
   ]
  },
  {
   "cell_type": "code",
   "execution_count": 31,
   "id": "ebea1ad5",
   "metadata": {},
   "outputs": [
    {
     "data": {
      "text/plain": [
       "count    290611.000000\n",
       "mean        555.571987\n",
       "std         875.498172\n",
       "min         -90.760000\n",
       "25%         113.970000\n",
       "50%         351.140000\n",
       "75%         802.050000\n",
       "max       81174.540000\n",
       "Name: revenue_rub, dtype: float64"
      ]
     },
     "execution_count": 31,
     "metadata": {},
     "output_type": "execute_result"
    }
   ],
   "source": [
    "# Првоерим показатели датафрейма\n",
    "orders_events_tenge_df['revenue_rub'].describe()"
   ]
  },
  {
   "cell_type": "code",
   "execution_count": 32,
   "id": "164133ca",
   "metadata": {},
   "outputs": [
    {
     "data": {
      "image/png": "[encoded data removed]",
      "text/plain": [
       "<Figure size 864x576 with 1 Axes>"
      ]
     },
     "metadata": {
      "needs_background": "light"
     },
     "output_type": "display_data"
    }
   ],
   "source": [
    "# Построим диаграмму размаха для revenue_rub\n",
    "plt.figure(figsize = [12,8])\n",
    "box = orders_events_tenge_df.boxplot(column = 'revenue_rub',\n",
    "                  vert = False,\n",
    "                      )\n",
    "plt.title('Распределение значений revenue_rub с выбросами')\n",
    "\n",
    "plt.show()"
   ]
  },
  {
   "cell_type": "code",
   "execution_count": 33,
   "id": "307fcf4a",
   "metadata": {},
   "outputs": [
    {
     "data": {
      "image/png": "[encoded data removed]",
      "text/plain": [
       "<Figure size 864x576 with 1 Axes>"
      ]
     },
     "metadata": {
      "needs_background": "light"
     },
     "output_type": "display_data"
    }
   ],
   "source": [
    "plt.figure(figsize = [12,8])\n",
    "box = orders_events_tenge_df.boxplot(column = 'tickets_count',\n",
    "                  vert = False,\n",
    "                     showfliers = False )\n",
    "plt.title('Распределение количества билетов без выбросов')\n",
    "\n",
    "plt.show()"
   ]
  },
  {
   "cell_type": "markdown",
   "id": "5f738bc6",
   "metadata": {},
   "source": [
    "Количестов билетов в заказе варьируется от 1 до 7 штук с медианой 3"
   ]
  },
  {
   "cell_type": "code",
   "execution_count": 34,
   "id": "50a0c8ed",
   "metadata": {},
   "outputs": [
    {
     "data": {
      "text/plain": [
       "count    290611.000000\n",
       "mean        555.571987\n",
       "std         875.498172\n",
       "min         -90.760000\n",
       "25%         113.970000\n",
       "50%         351.140000\n",
       "75%         802.050000\n",
       "max       81174.540000\n",
       "Name: revenue_rub, dtype: float64"
      ]
     },
     "execution_count": 34,
     "metadata": {},
     "output_type": "execute_result"
    }
   ],
   "source": [
    "# Проверим описание данных\n",
    "orders_events_tenge_df['revenue_rub'].describe()"
   ]
  },
  {
   "cell_type": "code",
   "execution_count": 35,
   "id": "fec89a54",
   "metadata": {},
   "outputs": [
    {
     "data": {
      "text/plain": [
       "4003.13"
      ]
     },
     "metadata": {},
     "output_type": "display_data"
    }
   ],
   "source": [
    "# Найдем значение 99 процентиля\n",
    "quantile_99 = round(orders_events_tenge_df['revenue'].quantile(q = 0.99) ,2)\n",
    "display(quantile_99)"
   ]
  },
  {
   "cell_type": "code",
   "execution_count": 36,
   "id": "1c4cdea8",
   "metadata": {},
   "outputs": [
    {
     "name": "stdout",
     "output_type": "stream",
     "text": [
      "<class 'pandas.core.frame.DataFrame'>\n",
      "Int64Index: 290012 entries, 0 to 290610\n",
      "Data columns (total 29 columns):\n",
      " #   Column                  Non-Null Count   Dtype         \n",
      "---  ------                  --------------   -----         \n",
      " 0   order_id                290012 non-null  int64         \n",
      " 1   user_id                 290012 non-null  object        \n",
      " 2   created_dt_msk          290012 non-null  datetime64[ns]\n",
      " 3   created_ts_msk          290012 non-null  datetime64[ns]\n",
      " 4   event_id                290012 non-null  int64         \n",
      " 5   cinema_circuit          290012 non-null  object        \n",
      " 6   age_limit               290012 non-null  int64         \n",
      " 7   currency_code           290012 non-null  object        \n",
      " 8   device_type_canonical   290012 non-null  object        \n",
      " 9   revenue                 290012 non-null  float64       \n",
      " 10  service_name            290012 non-null  object        \n",
      " 11  tickets_count           290012 non-null  int64         \n",
      " 12  total                   290012 non-null  float64       \n",
      " 13  days_since_prev         268134 non-null  float64       \n",
      " 14  event_name              290012 non-null  object        \n",
      " 15  event_type_description  290012 non-null  object        \n",
      " 16  event_type_main         290012 non-null  object        \n",
      " 17  organizers              290012 non-null  object        \n",
      " 18  region_name             290012 non-null  object        \n",
      " 19  city_name               290012 non-null  object        \n",
      " 20  city_id                 290012 non-null  int64         \n",
      " 21  venue_id                290012 non-null  int64         \n",
      " 22  venue_name              290012 non-null  object        \n",
      " 23  venue_address           290012 non-null  object        \n",
      " 24  data                    290012 non-null  datetime64[ns]\n",
      " 25  nominal                 290012 non-null  int64         \n",
      " 26  curs                    290012 non-null  float64       \n",
      " 27  cdx                     290012 non-null  object        \n",
      " 28  revenue_rub             290012 non-null  float64       \n",
      "dtypes: datetime64[ns](3), float64(5), int64(7), object(14)\n",
      "memory usage: 66.4+ MB\n"
     ]
    }
   ],
   "source": [
    "# так как в значениях revenue_rub есть выбросы, то оставим только значения <= 99 процентиля \n",
    "orders_events_tenge_df = orders_events_tenge_df[orders_events_tenge_df['revenue_rub'] <= quantile_99]\n",
    "orders_events_tenge_df.info()"
   ]
  },
  {
   "cell_type": "code",
   "execution_count": 37,
   "id": "25b856f6",
   "metadata": {},
   "outputs": [
    {
     "data": {
      "text/plain": [
       "4000.19"
      ]
     },
     "execution_count": 37,
     "metadata": {},
     "output_type": "execute_result"
    }
   ],
   "source": [
    "# Проверим максимальное значение в выручке\n",
    "orders_events_tenge_df['revenue_rub'].max()"
   ]
  },
  {
   "cell_type": "code",
   "execution_count": 38,
   "id": "a8255a7a",
   "metadata": {},
   "outputs": [
    {
     "data": {
      "image/png": "[encoded data removed]",
      "text/plain": [
       "<Figure size 864x576 with 1 Axes>"
      ]
     },
     "metadata": {
      "needs_background": "light"
     },
     "output_type": "display_data"
    }
   ],
   "source": [
    "# Построим диаграмму размаха для revenue_rub без выбросов\n",
    "\n",
    "plt.figure(figsize = [12,8])\n",
    "box = orders_events_tenge_df.boxplot(column = 'revenue_rub',\n",
    "                  vert = False,\n",
    "                      showfliers = False)\n",
    "plt.title('Распределение значений revenue_rub без выбросов')\n",
    "\n",
    "plt.show()"
   ]
  },
  {
   "cell_type": "code",
   "execution_count": 39,
   "id": "fa181c5a",
   "metadata": {},
   "outputs": [
    {
     "data": {
      "image/png": "[encoded data removed]",
      "text/plain": [
       "<Figure size 864x576 with 1 Axes>"
      ]
     },
     "metadata": {
      "needs_background": "light"
     },
     "output_type": "display_data"
    }
   ],
   "source": [
    "# Построим гистограмму распределения количества билетов\n",
    "plt.figure(figsize = [12,8])\n",
    "plt.hist(orders_events_tenge_df['tickets_count'],\n",
    "         bins = 40,\n",
    "         color = 'blue',\n",
    "         edgecolor = 'black'         \n",
    "         )\n",
    "plt.grid(axis = 'y')\n",
    "plt.title('Распределение значений количества билетов')\n",
    "plt.xlabel('Количество билетов')\n",
    "plt.ylabel('Количество значений')\n",
    "plt.show()"
   ]
  },
  {
   "cell_type": "markdown",
   "id": "7c867a2f",
   "metadata": {},
   "source": [
    "В большинстве заказов количество билетов не превышает 10 тысяч"
   ]
  },
  {
   "cell_type": "code",
   "execution_count": 40,
   "id": "f1e7e223",
   "metadata": {},
   "outputs": [
    {
     "data": {
      "image/png": "[encoded data removed]",
      "text/plain": [
       "<Figure size 864x576 with 1 Axes>"
      ]
     },
     "metadata": {
      "needs_background": "light"
     },
     "output_type": "display_data"
    }
   ],
   "source": [
    "# Построим диаграмму размаха для количества билетов с выбросами\n",
    "\n",
    "plt.figure(figsize = [12,8])\n",
    "box = orders_events_tenge_df.boxplot(column = 'tickets_count',\n",
    "                  vert = False,\n",
    "                      )\n",
    "plt.title('Распределение количества билетов с выбросами')\n",
    "\n",
    "plt.show()"
   ]
  },
  {
   "cell_type": "markdown",
   "id": "cea2d53c",
   "metadata": {},
   "source": [
    "Количество билетов в заказе составляет от 1 до 4 штук"
   ]
  },
  {
   "cell_type": "code",
   "execution_count": 41,
   "id": "d8565b38",
   "metadata": {},
   "outputs": [
    {
     "data": {
      "image/png": "[encoded data removed]",
      "text/plain": [
       "<Figure size 864x576 with 1 Axes>"
      ]
     },
     "metadata": {
      "needs_background": "light"
     },
     "output_type": "display_data"
    }
   ],
   "source": [
    "# Посмотрим на распределение количества билетов, после отсечения выбросов revenue_rub\n",
    "plt.figure(figsize = [12,8])\n",
    "box = orders_events_tenge_df.boxplot(column = 'tickets_count',\n",
    "                  vert = False,\n",
    "                     showfliers = False )\n",
    "plt.title('Распределение количества билетов без выбросов')\n",
    "\n",
    "plt.show()"
   ]
  },
  {
   "cell_type": "markdown",
   "id": "ddc21a20",
   "metadata": {},
   "source": [
    "Теперь количество билетов изменилось от 1 до 4, с медианой в 3 штуки"
   ]
  },
  {
   "cell_type": "code",
   "execution_count": 42,
   "id": "c12b1f7c",
   "metadata": {},
   "outputs": [
    {
     "data": {
      "text/plain": [
       "0"
      ]
     },
     "execution_count": 42,
     "metadata": {},
     "output_type": "execute_result"
    }
   ],
   "source": [
    "# Проверим наличие явных дубликатов в датафрейме\n",
    "orders_events_tenge_df.duplicated(subset=None,).sum() "
   ]
  },
  {
   "cell_type": "markdown",
   "id": "6aa5643c",
   "metadata": {},
   "source": [
    "Видим, что явных дубликатов нет"
   ]
  },
  {
   "cell_type": "code",
   "execution_count": 43,
   "id": "ecbd2a2f",
   "metadata": {},
   "outputs": [
    {
     "data": {
      "text/plain": [
       "Index(['order_id', 'user_id', 'created_dt_msk', 'created_ts_msk', 'event_id',\n",
       "       'cinema_circuit', 'age_limit', 'currency_code', 'device_type_canonical',\n",
       "       'revenue', 'service_name', 'tickets_count', 'total', 'days_since_prev',\n",
       "       'event_name', 'event_type_description', 'event_type_main', 'organizers',\n",
       "       'region_name', 'city_name', 'city_id', 'venue_id', 'venue_name',\n",
       "       'venue_address', 'data', 'nominal', 'curs', 'cdx', 'revenue_rub'],\n",
       "      dtype='object')"
      ]
     },
     "execution_count": 43,
     "metadata": {},
     "output_type": "execute_result"
    }
   ],
   "source": [
    "# Получим список столбцов датафрема\n",
    "orders_events_tenge_df.columns"
   ]
  },
  {
   "cell_type": "code",
   "execution_count": 44,
   "id": "67abb14f",
   "metadata": {},
   "outputs": [
    {
     "data": {
      "text/plain": [
       "30"
      ]
     },
     "execution_count": 44,
     "metadata": {},
     "output_type": "execute_result"
    }
   ],
   "source": [
    "# Проверим на неявные дубликаты по столбцам\n",
    "orders_events_tenge_df.duplicated(subset=['user_id', 'created_dt_msk', 'created_ts_msk', 'event_id',\n",
    "       'cinema_circuit', 'age_limit', 'currency_code', 'device_type_canonical',\n",
    "       'revenue', 'service_name', 'tickets_count', 'total', 'days_since_prev',\n",
    "       'event_name', 'event_type_description', 'event_type_main', 'organizers',\n",
    "       'region_name', 'city_name', 'city_id', 'venue_id', 'venue_name',\n",
    "       'venue_address', 'data', 'nominal', 'curs', 'cdx', 'revenue_rub'], keep = 'first').sum() "
   ]
  },
  {
   "cell_type": "code",
   "execution_count": 45,
   "id": "f9eff4f8",
   "metadata": {},
   "outputs": [],
   "source": [
    "# Удаляем дубликаты\n",
    "orders_events_tenge_df.drop_duplicates(subset=['user_id', 'created_dt_msk', 'created_ts_msk', 'event_id',\n",
    "       'cinema_circuit', 'age_limit', 'currency_code', 'device_type_canonical',\n",
    "       'revenue', 'service_name', 'tickets_count', 'total', 'days_since_prev',\n",
    "       'event_name', 'event_type_description', 'event_type_main', 'organizers',\n",
    "       'region_name', 'city_name', 'city_id', 'venue_id', 'venue_name',\n",
    "       'venue_address', 'data', 'nominal', 'curs', 'cdx', 'revenue_rub'], keep='first', inplace=True)"
   ]
  },
  {
   "cell_type": "code",
   "execution_count": 46,
   "id": "9b029f7e",
   "metadata": {},
   "outputs": [
    {
     "data": {
      "text/html": [
       "<div>\n",
       "<style scoped>\n",
       "    .dataframe tbody tr th:only-of-type {\n",
       "        vertical-align: middle;\n",
       "    }\n",
       "\n",
       "    .dataframe tbody tr th {\n",
       "        vertical-align: top;\n",
       "    }\n",
       "\n",
       "    .dataframe thead th {\n",
       "        text-align: right;\n",
       "    }\n",
       "</style>\n",
       "<table border=\"1\" class=\"dataframe\">\n",
       "  <thead>\n",
       "    <tr style=\"text-align: right;\">\n",
       "      <th></th>\n",
       "      <th>order_id</th>\n",
       "      <th>user_id</th>\n",
       "      <th>created_dt_msk</th>\n",
       "      <th>created_ts_msk</th>\n",
       "      <th>event_id</th>\n",
       "      <th>cinema_circuit</th>\n",
       "      <th>age_limit</th>\n",
       "      <th>currency_code</th>\n",
       "      <th>device_type_canonical</th>\n",
       "      <th>revenue</th>\n",
       "      <th>...</th>\n",
       "      <th>city_id</th>\n",
       "      <th>venue_id</th>\n",
       "      <th>venue_name</th>\n",
       "      <th>venue_address</th>\n",
       "      <th>data</th>\n",
       "      <th>nominal</th>\n",
       "      <th>curs</th>\n",
       "      <th>cdx</th>\n",
       "      <th>revenue_rub</th>\n",
       "      <th>one_ticket_revenue_rub</th>\n",
       "    </tr>\n",
       "  </thead>\n",
       "  <tbody>\n",
       "    <tr>\n",
       "      <th>0</th>\n",
       "      <td>4359165</td>\n",
       "      <td>0002849b70a3ce2</td>\n",
       "      <td>2024-08-20</td>\n",
       "      <td>2024-08-20 16:08:03</td>\n",
       "      <td>169230</td>\n",
       "      <td>нет</td>\n",
       "      <td>16</td>\n",
       "      <td>rub</td>\n",
       "      <td>mobile</td>\n",
       "      <td>1521.94</td>\n",
       "      <td>...</td>\n",
       "      <td>213</td>\n",
       "      <td>3972</td>\n",
       "      <td>Сценический центр \"Деталь\" Групп</td>\n",
       "      <td>алл. Машиностроителей, д. 19 стр. 6</td>\n",
       "      <td>2024-08-20</td>\n",
       "      <td>100</td>\n",
       "      <td>18.6972</td>\n",
       "      <td>kzt</td>\n",
       "      <td>1521.94</td>\n",
       "      <td>380.48</td>\n",
       "    </tr>\n",
       "    <tr>\n",
       "      <th>1</th>\n",
       "      <td>6274963</td>\n",
       "      <td>44c1c640a242aea</td>\n",
       "      <td>2024-08-20</td>\n",
       "      <td>2024-08-20 22:12:04</td>\n",
       "      <td>237325</td>\n",
       "      <td>нет</td>\n",
       "      <td>0</td>\n",
       "      <td>rub</td>\n",
       "      <td>mobile</td>\n",
       "      <td>144.73</td>\n",
       "      <td>...</td>\n",
       "      <td>213</td>\n",
       "      <td>2941</td>\n",
       "      <td>Музыкальная школа для детей \"Аккаунт\" Лтд</td>\n",
       "      <td>алл. Шмидта, д. 9 стр. 4</td>\n",
       "      <td>2024-08-20</td>\n",
       "      <td>100</td>\n",
       "      <td>18.6972</td>\n",
       "      <td>kzt</td>\n",
       "      <td>144.73</td>\n",
       "      <td>144.73</td>\n",
       "    </tr>\n",
       "    <tr>\n",
       "      <th>2</th>\n",
       "      <td>474528</td>\n",
       "      <td>2b1f730d7024681</td>\n",
       "      <td>2024-08-20</td>\n",
       "      <td>2024-08-20 15:29:56</td>\n",
       "      <td>373657</td>\n",
       "      <td>нет</td>\n",
       "      <td>18</td>\n",
       "      <td>rub</td>\n",
       "      <td>mobile</td>\n",
       "      <td>318.27</td>\n",
       "      <td>...</td>\n",
       "      <td>2</td>\n",
       "      <td>1631</td>\n",
       "      <td>Музей истории \"Воспоминание\" Групп</td>\n",
       "      <td>наб. Тамбовская, д. 1/4 к. 577</td>\n",
       "      <td>2024-08-20</td>\n",
       "      <td>100</td>\n",
       "      <td>18.6972</td>\n",
       "      <td>kzt</td>\n",
       "      <td>318.27</td>\n",
       "      <td>106.09</td>\n",
       "    </tr>\n",
       "    <tr>\n",
       "      <th>3</th>\n",
       "      <td>7477361</td>\n",
       "      <td>05ba93f1b1e1fdd</td>\n",
       "      <td>2024-08-20</td>\n",
       "      <td>2024-08-20 17:06:44</td>\n",
       "      <td>534657</td>\n",
       "      <td>нет</td>\n",
       "      <td>16</td>\n",
       "      <td>rub</td>\n",
       "      <td>mobile</td>\n",
       "      <td>339.61</td>\n",
       "      <td>...</td>\n",
       "      <td>20</td>\n",
       "      <td>2866</td>\n",
       "      <td>Школа фотографии \"Золотое\" Инк</td>\n",
       "      <td>ш. Микрорайон, д. 79 стр. 50</td>\n",
       "      <td>2024-08-20</td>\n",
       "      <td>100</td>\n",
       "      <td>18.6972</td>\n",
       "      <td>kzt</td>\n",
       "      <td>339.61</td>\n",
       "      <td>339.61</td>\n",
       "    </tr>\n",
       "    <tr>\n",
       "      <th>4</th>\n",
       "      <td>472150</td>\n",
       "      <td>3ee7dc2e115847f</td>\n",
       "      <td>2024-08-20</td>\n",
       "      <td>2024-08-20 02:57:22</td>\n",
       "      <td>534657</td>\n",
       "      <td>нет</td>\n",
       "      <td>16</td>\n",
       "      <td>rub</td>\n",
       "      <td>mobile</td>\n",
       "      <td>339.61</td>\n",
       "      <td>...</td>\n",
       "      <td>20</td>\n",
       "      <td>2866</td>\n",
       "      <td>Школа фотографии \"Золотое\" Инк</td>\n",
       "      <td>ш. Микрорайон, д. 79 стр. 50</td>\n",
       "      <td>2024-08-20</td>\n",
       "      <td>100</td>\n",
       "      <td>18.6972</td>\n",
       "      <td>kzt</td>\n",
       "      <td>339.61</td>\n",
       "      <td>339.61</td>\n",
       "    </tr>\n",
       "  </tbody>\n",
       "</table>\n",
       "<p>5 rows × 30 columns</p>\n",
       "</div>"
      ],
      "text/plain": [
       "   order_id          user_id created_dt_msk      created_ts_msk  event_id  \\\n",
       "0   4359165  0002849b70a3ce2     2024-08-20 2024-08-20 16:08:03    169230   \n",
       "1   6274963  44c1c640a242aea     2024-08-20 2024-08-20 22:12:04    237325   \n",
       "2    474528  2b1f730d7024681     2024-08-20 2024-08-20 15:29:56    373657   \n",
       "3   7477361  05ba93f1b1e1fdd     2024-08-20 2024-08-20 17:06:44    534657   \n",
       "4    472150  3ee7dc2e115847f     2024-08-20 2024-08-20 02:57:22    534657   \n",
       "\n",
       "  cinema_circuit  age_limit currency_code device_type_canonical  revenue  ...  \\\n",
       "0            нет         16           rub                mobile  1521.94  ...   \n",
       "1            нет          0           rub                mobile   144.73  ...   \n",
       "2            нет         18           rub                mobile   318.27  ...   \n",
       "3            нет         16           rub                mobile   339.61  ...   \n",
       "4            нет         16           rub                mobile   339.61  ...   \n",
       "\n",
       "  city_id  venue_id                                 venue_name  \\\n",
       "0     213      3972           Сценический центр \"Деталь\" Групп   \n",
       "1     213      2941  Музыкальная школа для детей \"Аккаунт\" Лтд   \n",
       "2       2      1631         Музей истории \"Воспоминание\" Групп   \n",
       "3      20      2866             Школа фотографии \"Золотое\" Инк   \n",
       "4      20      2866             Школа фотографии \"Золотое\" Инк   \n",
       "\n",
       "                         venue_address       data nominal     curs  cdx  \\\n",
       "0  алл. Машиностроителей, д. 19 стр. 6 2024-08-20     100  18.6972  kzt   \n",
       "1             алл. Шмидта, д. 9 стр. 4 2024-08-20     100  18.6972  kzt   \n",
       "2       наб. Тамбовская, д. 1/4 к. 577 2024-08-20     100  18.6972  kzt   \n",
       "3         ш. Микрорайон, д. 79 стр. 50 2024-08-20     100  18.6972  kzt   \n",
       "4         ш. Микрорайон, д. 79 стр. 50 2024-08-20     100  18.6972  kzt   \n",
       "\n",
       "  revenue_rub one_ticket_revenue_rub  \n",
       "0     1521.94                 380.48  \n",
       "1      144.73                 144.73  \n",
       "2      318.27                 106.09  \n",
       "3      339.61                 339.61  \n",
       "4      339.61                 339.61  \n",
       "\n",
       "[5 rows x 30 columns]"
      ]
     },
     "execution_count": 46,
     "metadata": {},
     "output_type": "execute_result"
    }
   ],
   "source": [
    "# Добавим столбец с выручкой, полученной с 1 билета\n",
    "orders_events_tenge_df['one_ticket_revenue_rub'] = round(orders_events_tenge_df['revenue_rub']/orders_events_tenge_df['tickets_count'] ,2)\n",
    "orders_events_tenge_df.head()"
   ]
  },
  {
   "cell_type": "code",
   "execution_count": 47,
   "id": "b2bd0db9",
   "metadata": {},
   "outputs": [],
   "source": [
    "# Добавим столбец с месяцем, в которым был сделан заказ \n",
    "orders_events_tenge_df['month'] = orders_events_tenge_df['created_dt_msk'].dt.month"
   ]
  },
  {
   "cell_type": "code",
   "execution_count": 48,
   "id": "771b9597",
   "metadata": {},
   "outputs": [],
   "source": [
    "orders_events_tenge_df['monthname'] = orders_events_tenge_df['created_dt_msk'].dt.month_name()"
   ]
  },
  {
   "cell_type": "code",
   "execution_count": 49,
   "id": "9d6f2df7",
   "metadata": {},
   "outputs": [
    {
     "data": {
      "text/html": [
       "<div>\n",
       "<style scoped>\n",
       "    .dataframe tbody tr th:only-of-type {\n",
       "        vertical-align: middle;\n",
       "    }\n",
       "\n",
       "    .dataframe tbody tr th {\n",
       "        vertical-align: top;\n",
       "    }\n",
       "\n",
       "    .dataframe thead th {\n",
       "        text-align: right;\n",
       "    }\n",
       "</style>\n",
       "<table border=\"1\" class=\"dataframe\">\n",
       "  <thead>\n",
       "    <tr style=\"text-align: right;\">\n",
       "      <th></th>\n",
       "      <th>order_id</th>\n",
       "      <th>user_id</th>\n",
       "      <th>created_dt_msk</th>\n",
       "      <th>created_ts_msk</th>\n",
       "      <th>event_id</th>\n",
       "      <th>cinema_circuit</th>\n",
       "      <th>age_limit</th>\n",
       "      <th>currency_code</th>\n",
       "      <th>device_type_canonical</th>\n",
       "      <th>revenue</th>\n",
       "      <th>...</th>\n",
       "      <th>venue_name</th>\n",
       "      <th>venue_address</th>\n",
       "      <th>data</th>\n",
       "      <th>nominal</th>\n",
       "      <th>curs</th>\n",
       "      <th>cdx</th>\n",
       "      <th>revenue_rub</th>\n",
       "      <th>one_ticket_revenue_rub</th>\n",
       "      <th>month</th>\n",
       "      <th>monthname</th>\n",
       "    </tr>\n",
       "  </thead>\n",
       "  <tbody>\n",
       "    <tr>\n",
       "      <th>0</th>\n",
       "      <td>4359165</td>\n",
       "      <td>0002849b70a3ce2</td>\n",
       "      <td>2024-08-20</td>\n",
       "      <td>2024-08-20 16:08:03</td>\n",
       "      <td>169230</td>\n",
       "      <td>нет</td>\n",
       "      <td>16</td>\n",
       "      <td>rub</td>\n",
       "      <td>mobile</td>\n",
       "      <td>1521.94</td>\n",
       "      <td>...</td>\n",
       "      <td>Сценический центр \"Деталь\" Групп</td>\n",
       "      <td>алл. Машиностроителей, д. 19 стр. 6</td>\n",
       "      <td>2024-08-20</td>\n",
       "      <td>100</td>\n",
       "      <td>18.6972</td>\n",
       "      <td>kzt</td>\n",
       "      <td>1521.94</td>\n",
       "      <td>380.48</td>\n",
       "      <td>8</td>\n",
       "      <td>August</td>\n",
       "    </tr>\n",
       "    <tr>\n",
       "      <th>1</th>\n",
       "      <td>6274963</td>\n",
       "      <td>44c1c640a242aea</td>\n",
       "      <td>2024-08-20</td>\n",
       "      <td>2024-08-20 22:12:04</td>\n",
       "      <td>237325</td>\n",
       "      <td>нет</td>\n",
       "      <td>0</td>\n",
       "      <td>rub</td>\n",
       "      <td>mobile</td>\n",
       "      <td>144.73</td>\n",
       "      <td>...</td>\n",
       "      <td>Музыкальная школа для детей \"Аккаунт\" Лтд</td>\n",
       "      <td>алл. Шмидта, д. 9 стр. 4</td>\n",
       "      <td>2024-08-20</td>\n",
       "      <td>100</td>\n",
       "      <td>18.6972</td>\n",
       "      <td>kzt</td>\n",
       "      <td>144.73</td>\n",
       "      <td>144.73</td>\n",
       "      <td>8</td>\n",
       "      <td>August</td>\n",
       "    </tr>\n",
       "    <tr>\n",
       "      <th>2</th>\n",
       "      <td>474528</td>\n",
       "      <td>2b1f730d7024681</td>\n",
       "      <td>2024-08-20</td>\n",
       "      <td>2024-08-20 15:29:56</td>\n",
       "      <td>373657</td>\n",
       "      <td>нет</td>\n",
       "      <td>18</td>\n",
       "      <td>rub</td>\n",
       "      <td>mobile</td>\n",
       "      <td>318.27</td>\n",
       "      <td>...</td>\n",
       "      <td>Музей истории \"Воспоминание\" Групп</td>\n",
       "      <td>наб. Тамбовская, д. 1/4 к. 577</td>\n",
       "      <td>2024-08-20</td>\n",
       "      <td>100</td>\n",
       "      <td>18.6972</td>\n",
       "      <td>kzt</td>\n",
       "      <td>318.27</td>\n",
       "      <td>106.09</td>\n",
       "      <td>8</td>\n",
       "      <td>August</td>\n",
       "    </tr>\n",
       "    <tr>\n",
       "      <th>3</th>\n",
       "      <td>7477361</td>\n",
       "      <td>05ba93f1b1e1fdd</td>\n",
       "      <td>2024-08-20</td>\n",
       "      <td>2024-08-20 17:06:44</td>\n",
       "      <td>534657</td>\n",
       "      <td>нет</td>\n",
       "      <td>16</td>\n",
       "      <td>rub</td>\n",
       "      <td>mobile</td>\n",
       "      <td>339.61</td>\n",
       "      <td>...</td>\n",
       "      <td>Школа фотографии \"Золотое\" Инк</td>\n",
       "      <td>ш. Микрорайон, д. 79 стр. 50</td>\n",
       "      <td>2024-08-20</td>\n",
       "      <td>100</td>\n",
       "      <td>18.6972</td>\n",
       "      <td>kzt</td>\n",
       "      <td>339.61</td>\n",
       "      <td>339.61</td>\n",
       "      <td>8</td>\n",
       "      <td>August</td>\n",
       "    </tr>\n",
       "    <tr>\n",
       "      <th>4</th>\n",
       "      <td>472150</td>\n",
       "      <td>3ee7dc2e115847f</td>\n",
       "      <td>2024-08-20</td>\n",
       "      <td>2024-08-20 02:57:22</td>\n",
       "      <td>534657</td>\n",
       "      <td>нет</td>\n",
       "      <td>16</td>\n",
       "      <td>rub</td>\n",
       "      <td>mobile</td>\n",
       "      <td>339.61</td>\n",
       "      <td>...</td>\n",
       "      <td>Школа фотографии \"Золотое\" Инк</td>\n",
       "      <td>ш. Микрорайон, д. 79 стр. 50</td>\n",
       "      <td>2024-08-20</td>\n",
       "      <td>100</td>\n",
       "      <td>18.6972</td>\n",
       "      <td>kzt</td>\n",
       "      <td>339.61</td>\n",
       "      <td>339.61</td>\n",
       "      <td>8</td>\n",
       "      <td>August</td>\n",
       "    </tr>\n",
       "  </tbody>\n",
       "</table>\n",
       "<p>5 rows × 32 columns</p>\n",
       "</div>"
      ],
      "text/plain": [
       "   order_id          user_id created_dt_msk      created_ts_msk  event_id  \\\n",
       "0   4359165  0002849b70a3ce2     2024-08-20 2024-08-20 16:08:03    169230   \n",
       "1   6274963  44c1c640a242aea     2024-08-20 2024-08-20 22:12:04    237325   \n",
       "2    474528  2b1f730d7024681     2024-08-20 2024-08-20 15:29:56    373657   \n",
       "3   7477361  05ba93f1b1e1fdd     2024-08-20 2024-08-20 17:06:44    534657   \n",
       "4    472150  3ee7dc2e115847f     2024-08-20 2024-08-20 02:57:22    534657   \n",
       "\n",
       "  cinema_circuit  age_limit currency_code device_type_canonical  revenue  ...  \\\n",
       "0            нет         16           rub                mobile  1521.94  ...   \n",
       "1            нет          0           rub                mobile   144.73  ...   \n",
       "2            нет         18           rub                mobile   318.27  ...   \n",
       "3            нет         16           rub                mobile   339.61  ...   \n",
       "4            нет         16           rub                mobile   339.61  ...   \n",
       "\n",
       "                                  venue_name  \\\n",
       "0           Сценический центр \"Деталь\" Групп   \n",
       "1  Музыкальная школа для детей \"Аккаунт\" Лтд   \n",
       "2         Музей истории \"Воспоминание\" Групп   \n",
       "3             Школа фотографии \"Золотое\" Инк   \n",
       "4             Школа фотографии \"Золотое\" Инк   \n",
       "\n",
       "                         venue_address       data  nominal     curs  cdx  \\\n",
       "0  алл. Машиностроителей, д. 19 стр. 6 2024-08-20      100  18.6972  kzt   \n",
       "1             алл. Шмидта, д. 9 стр. 4 2024-08-20      100  18.6972  kzt   \n",
       "2       наб. Тамбовская, д. 1/4 к. 577 2024-08-20      100  18.6972  kzt   \n",
       "3         ш. Микрорайон, д. 79 стр. 50 2024-08-20      100  18.6972  kzt   \n",
       "4         ш. Микрорайон, д. 79 стр. 50 2024-08-20      100  18.6972  kzt   \n",
       "\n",
       "  revenue_rub one_ticket_revenue_rub month monthname  \n",
       "0     1521.94                 380.48     8    August  \n",
       "1      144.73                 144.73     8    August  \n",
       "2      318.27                 106.09     8    August  \n",
       "3      339.61                 339.61     8    August  \n",
       "4      339.61                 339.61     8    August  \n",
       "\n",
       "[5 rows x 32 columns]"
      ]
     },
     "execution_count": 49,
     "metadata": {},
     "output_type": "execute_result"
    }
   ],
   "source": [
    "# Выводим первые стороки для проверки нового столбца\n",
    "\n",
    "orders_events_tenge_df.head()"
   ]
  },
  {
   "cell_type": "code",
   "execution_count": 50,
   "id": "21a445b2",
   "metadata": {},
   "outputs": [],
   "source": [
    "# Cоздадим функцию, которая определит сезон в зависимости от месяца\n",
    "def get_season(month):\n",
    "    if month in [12, 1, 2]:\n",
    "        return 'зима'\n",
    "    elif month in [3, 4, 5]:\n",
    "        return 'весна'\n",
    "    elif month in [6, 7, 8]:\n",
    "        return 'лето'\n",
    "    else:\n",
    "        return 'осень'"
   ]
  },
  {
   "cell_type": "code",
   "execution_count": 51,
   "id": "1e09335f",
   "metadata": {},
   "outputs": [],
   "source": [
    "# Применим созданную ранее функцию и добавим столбец season\n",
    "orders_events_tenge_df['season'] = orders_events_tenge_df['month'].apply(get_season)"
   ]
  },
  {
   "cell_type": "code",
   "execution_count": 52,
   "id": "888a0829",
   "metadata": {},
   "outputs": [
    {
     "data": {
      "text/html": [
       "<div>\n",
       "<style scoped>\n",
       "    .dataframe tbody tr th:only-of-type {\n",
       "        vertical-align: middle;\n",
       "    }\n",
       "\n",
       "    .dataframe tbody tr th {\n",
       "        vertical-align: top;\n",
       "    }\n",
       "\n",
       "    .dataframe thead th {\n",
       "        text-align: right;\n",
       "    }\n",
       "</style>\n",
       "<table border=\"1\" class=\"dataframe\">\n",
       "  <thead>\n",
       "    <tr style=\"text-align: right;\">\n",
       "      <th></th>\n",
       "      <th>order_id</th>\n",
       "      <th>user_id</th>\n",
       "      <th>created_dt_msk</th>\n",
       "      <th>created_ts_msk</th>\n",
       "      <th>event_id</th>\n",
       "      <th>cinema_circuit</th>\n",
       "      <th>age_limit</th>\n",
       "      <th>currency_code</th>\n",
       "      <th>device_type_canonical</th>\n",
       "      <th>revenue</th>\n",
       "      <th>...</th>\n",
       "      <th>venue_address</th>\n",
       "      <th>data</th>\n",
       "      <th>nominal</th>\n",
       "      <th>curs</th>\n",
       "      <th>cdx</th>\n",
       "      <th>revenue_rub</th>\n",
       "      <th>one_ticket_revenue_rub</th>\n",
       "      <th>month</th>\n",
       "      <th>monthname</th>\n",
       "      <th>season</th>\n",
       "    </tr>\n",
       "  </thead>\n",
       "  <tbody>\n",
       "    <tr>\n",
       "      <th>0</th>\n",
       "      <td>4359165</td>\n",
       "      <td>0002849b70a3ce2</td>\n",
       "      <td>2024-08-20</td>\n",
       "      <td>2024-08-20 16:08:03</td>\n",
       "      <td>169230</td>\n",
       "      <td>нет</td>\n",
       "      <td>16</td>\n",
       "      <td>rub</td>\n",
       "      <td>mobile</td>\n",
       "      <td>1521.94</td>\n",
       "      <td>...</td>\n",
       "      <td>алл. Машиностроителей, д. 19 стр. 6</td>\n",
       "      <td>2024-08-20</td>\n",
       "      <td>100</td>\n",
       "      <td>18.6972</td>\n",
       "      <td>kzt</td>\n",
       "      <td>1521.94</td>\n",
       "      <td>380.48</td>\n",
       "      <td>8</td>\n",
       "      <td>August</td>\n",
       "      <td>лето</td>\n",
       "    </tr>\n",
       "    <tr>\n",
       "      <th>1</th>\n",
       "      <td>6274963</td>\n",
       "      <td>44c1c640a242aea</td>\n",
       "      <td>2024-08-20</td>\n",
       "      <td>2024-08-20 22:12:04</td>\n",
       "      <td>237325</td>\n",
       "      <td>нет</td>\n",
       "      <td>0</td>\n",
       "      <td>rub</td>\n",
       "      <td>mobile</td>\n",
       "      <td>144.73</td>\n",
       "      <td>...</td>\n",
       "      <td>алл. Шмидта, д. 9 стр. 4</td>\n",
       "      <td>2024-08-20</td>\n",
       "      <td>100</td>\n",
       "      <td>18.6972</td>\n",
       "      <td>kzt</td>\n",
       "      <td>144.73</td>\n",
       "      <td>144.73</td>\n",
       "      <td>8</td>\n",
       "      <td>August</td>\n",
       "      <td>лето</td>\n",
       "    </tr>\n",
       "    <tr>\n",
       "      <th>2</th>\n",
       "      <td>474528</td>\n",
       "      <td>2b1f730d7024681</td>\n",
       "      <td>2024-08-20</td>\n",
       "      <td>2024-08-20 15:29:56</td>\n",
       "      <td>373657</td>\n",
       "      <td>нет</td>\n",
       "      <td>18</td>\n",
       "      <td>rub</td>\n",
       "      <td>mobile</td>\n",
       "      <td>318.27</td>\n",
       "      <td>...</td>\n",
       "      <td>наб. Тамбовская, д. 1/4 к. 577</td>\n",
       "      <td>2024-08-20</td>\n",
       "      <td>100</td>\n",
       "      <td>18.6972</td>\n",
       "      <td>kzt</td>\n",
       "      <td>318.27</td>\n",
       "      <td>106.09</td>\n",
       "      <td>8</td>\n",
       "      <td>August</td>\n",
       "      <td>лето</td>\n",
       "    </tr>\n",
       "    <tr>\n",
       "      <th>3</th>\n",
       "      <td>7477361</td>\n",
       "      <td>05ba93f1b1e1fdd</td>\n",
       "      <td>2024-08-20</td>\n",
       "      <td>2024-08-20 17:06:44</td>\n",
       "      <td>534657</td>\n",
       "      <td>нет</td>\n",
       "      <td>16</td>\n",
       "      <td>rub</td>\n",
       "      <td>mobile</td>\n",
       "      <td>339.61</td>\n",
       "      <td>...</td>\n",
       "      <td>ш. Микрорайон, д. 79 стр. 50</td>\n",
       "      <td>2024-08-20</td>\n",
       "      <td>100</td>\n",
       "      <td>18.6972</td>\n",
       "      <td>kzt</td>\n",
       "      <td>339.61</td>\n",
       "      <td>339.61</td>\n",
       "      <td>8</td>\n",
       "      <td>August</td>\n",
       "      <td>лето</td>\n",
       "    </tr>\n",
       "    <tr>\n",
       "      <th>4</th>\n",
       "      <td>472150</td>\n",
       "      <td>3ee7dc2e115847f</td>\n",
       "      <td>2024-08-20</td>\n",
       "      <td>2024-08-20 02:57:22</td>\n",
       "      <td>534657</td>\n",
       "      <td>нет</td>\n",
       "      <td>16</td>\n",
       "      <td>rub</td>\n",
       "      <td>mobile</td>\n",
       "      <td>339.61</td>\n",
       "      <td>...</td>\n",
       "      <td>ш. Микрорайон, д. 79 стр. 50</td>\n",
       "      <td>2024-08-20</td>\n",
       "      <td>100</td>\n",
       "      <td>18.6972</td>\n",
       "      <td>kzt</td>\n",
       "      <td>339.61</td>\n",
       "      <td>339.61</td>\n",
       "      <td>8</td>\n",
       "      <td>August</td>\n",
       "      <td>лето</td>\n",
       "    </tr>\n",
       "  </tbody>\n",
       "</table>\n",
       "<p>5 rows × 33 columns</p>\n",
       "</div>"
      ],
      "text/plain": [
       "   order_id          user_id created_dt_msk      created_ts_msk  event_id  \\\n",
       "0   4359165  0002849b70a3ce2     2024-08-20 2024-08-20 16:08:03    169230   \n",
       "1   6274963  44c1c640a242aea     2024-08-20 2024-08-20 22:12:04    237325   \n",
       "2    474528  2b1f730d7024681     2024-08-20 2024-08-20 15:29:56    373657   \n",
       "3   7477361  05ba93f1b1e1fdd     2024-08-20 2024-08-20 17:06:44    534657   \n",
       "4    472150  3ee7dc2e115847f     2024-08-20 2024-08-20 02:57:22    534657   \n",
       "\n",
       "  cinema_circuit  age_limit currency_code device_type_canonical  revenue  ...  \\\n",
       "0            нет         16           rub                mobile  1521.94  ...   \n",
       "1            нет          0           rub                mobile   144.73  ...   \n",
       "2            нет         18           rub                mobile   318.27  ...   \n",
       "3            нет         16           rub                mobile   339.61  ...   \n",
       "4            нет         16           rub                mobile   339.61  ...   \n",
       "\n",
       "                         venue_address       data  nominal     curs  cdx  \\\n",
       "0  алл. Машиностроителей, д. 19 стр. 6 2024-08-20      100  18.6972  kzt   \n",
       "1             алл. Шмидта, д. 9 стр. 4 2024-08-20      100  18.6972  kzt   \n",
       "2       наб. Тамбовская, д. 1/4 к. 577 2024-08-20      100  18.6972  kzt   \n",
       "3         ш. Микрорайон, д. 79 стр. 50 2024-08-20      100  18.6972  kzt   \n",
       "4         ш. Микрорайон, д. 79 стр. 50 2024-08-20      100  18.6972  kzt   \n",
       "\n",
       "  revenue_rub one_ticket_revenue_rub month monthname season  \n",
       "0     1521.94                 380.48     8    August   лето  \n",
       "1      144.73                 144.73     8    August   лето  \n",
       "2      318.27                 106.09     8    August   лето  \n",
       "3      339.61                 339.61     8    August   лето  \n",
       "4      339.61                 339.61     8    August   лето  \n",
       "\n",
       "[5 rows x 33 columns]"
      ]
     },
     "execution_count": 52,
     "metadata": {},
     "output_type": "execute_result"
    }
   ],
   "source": [
    "# Выводим первые стороки для проверки\n",
    "\n",
    "orders_events_tenge_df.head()"
   ]
  },
  {
   "cell_type": "code",
   "execution_count": 53,
   "id": "36b645f4",
   "metadata": {},
   "outputs": [
    {
     "name": "stdout",
     "output_type": "stream",
     "text": [
      "<class 'pandas.core.frame.DataFrame'>\n",
      "Int64Index: 289982 entries, 0 to 290610\n",
      "Data columns (total 33 columns):\n",
      " #   Column                  Non-Null Count   Dtype         \n",
      "---  ------                  --------------   -----         \n",
      " 0   order_id                289982 non-null  int64         \n",
      " 1   user_id                 289982 non-null  object        \n",
      " 2   created_dt_msk          289982 non-null  datetime64[ns]\n",
      " 3   created_ts_msk          289982 non-null  datetime64[ns]\n",
      " 4   event_id                289982 non-null  int64         \n",
      " 5   cinema_circuit          289982 non-null  object        \n",
      " 6   age_limit               289982 non-null  int64         \n",
      " 7   currency_code           289982 non-null  object        \n",
      " 8   device_type_canonical   289982 non-null  object        \n",
      " 9   revenue                 289982 non-null  float64       \n",
      " 10  service_name            289982 non-null  object        \n",
      " 11  tickets_count           289982 non-null  int64         \n",
      " 12  total                   289982 non-null  float64       \n",
      " 13  days_since_prev         268104 non-null  float64       \n",
      " 14  event_name              289982 non-null  object        \n",
      " 15  event_type_description  289982 non-null  object        \n",
      " 16  event_type_main         289982 non-null  object        \n",
      " 17  organizers              289982 non-null  object        \n",
      " 18  region_name             289982 non-null  object        \n",
      " 19  city_name               289982 non-null  object        \n",
      " 20  city_id                 289982 non-null  int64         \n",
      " 21  venue_id                289982 non-null  int64         \n",
      " 22  venue_name              289982 non-null  object        \n",
      " 23  venue_address           289982 non-null  object        \n",
      " 24  data                    289982 non-null  datetime64[ns]\n",
      " 25  nominal                 289982 non-null  int64         \n",
      " 26  curs                    289982 non-null  float64       \n",
      " 27  cdx                     289982 non-null  object        \n",
      " 28  revenue_rub             289982 non-null  float64       \n",
      " 29  one_ticket_revenue_rub  289982 non-null  float64       \n",
      " 30  month                   289982 non-null  int64         \n",
      " 31  monthname               289982 non-null  object        \n",
      " 32  season                  289982 non-null  object        \n",
      "dtypes: datetime64[ns](3), float64(6), int64(8), object(16)\n",
      "memory usage: 75.2+ MB\n"
     ]
    }
   ],
   "source": [
    "# Проверим данные датафрейма\n",
    "orders_events_tenge_df.info()"
   ]
  },
  {
   "cell_type": "markdown",
   "id": "f7725970",
   "metadata": {},
   "source": [
    "Были объединены 3 датасета, после фильтрации и обработки данныз мы получили 289982 строк, пропусков нет (кроме одного столбца `days_since_prev`, указанного в задании)\n",
    "\n",
    "Была проведена работа по конвертации выручки в рубли, так как в датасетах выручка была представлена в двух валютах\n",
    "\n",
    "Был проверены ключевые показатели на выбросы, также эти выбросы были отфильтрованы с помощью 99-процентиля\n",
    "\n",
    "Датафреым были проверны на явные и неявные дубликаты. Явных дубликатов обнаружено не было, неявных было 30 штук, они были удалены\n",
    "\n",
    "Также в объединённый датафрейм были добавлены такие столбцы, как выручка в единой валюте - `revenue_rub`, выручка с продажи одного билета на мероприятие - `one_ticket_revenue_rub`, месяц оформления заказа -  `month` и столбец сезонности - `season`."
   ]
  },
  {
   "cell_type": "markdown",
   "id": "c4ec6e95",
   "metadata": {},
   "source": [
    "## Исследовательский анализ данных"
   ]
  },
  {
   "cell_type": "markdown",
   "id": "e99786ff",
   "metadata": {},
   "source": [
    "### Анализ распределения заказов по сегментам и их сезонные изменения"
   ]
  },
  {
   "cell_type": "markdown",
   "id": "d9641f74",
   "metadata": {},
   "source": [
    "#### Количество заказов для каждого месяца"
   ]
  },
  {
   "cell_type": "code",
   "execution_count": 54,
   "id": "69fa10e9",
   "metadata": {},
   "outputs": [
    {
     "data": {
      "text/plain": [
       "monthname\n",
       "June          34434\n",
       "July          40848\n",
       "August        44880\n",
       "September     69795\n",
       "October      100025\n",
       "Name: order_id, dtype: int64"
      ]
     },
     "execution_count": 54,
     "metadata": {},
     "output_type": "execute_result"
    }
   ],
   "source": [
    "# Рассчитаем количество заказов за каждый месяц\n",
    "month_orders = orders_events_tenge_df.groupby('monthname')['order_id'].count().sort_values()\n",
    "month_orders"
   ]
  },
  {
   "cell_type": "code",
   "execution_count": 55,
   "id": "50199875",
   "metadata": {},
   "outputs": [
    {
     "data": {
      "image/png": "[encoded data removed]",
      "text/plain": [
       "<Figure size 864x576 with 1 Axes>"
      ]
     },
     "metadata": {
      "needs_background": "light"
     },
     "output_type": "display_data"
    }
   ],
   "source": [
    "# Визуализируем количество заказов в каждом месяце \n",
    "month_orders.plot(kind =  'bar',\n",
    "              x = 'monthname',\n",
    "              y = 'count',\n",
    "             rot = 0,\n",
    "             figsize = (12,8),\n",
    "             color = 'blue',\n",
    "             edgecolor = 'black')\n",
    "plt.grid(axis = 'y')\n",
    "plt.xlabel('')\n",
    "plt.ylabel('Количестово заказов')\n",
    "plt.title('Количество заказов по месяцам')\n",
    "plt.show()"
   ]
  },
  {
   "cell_type": "markdown",
   "id": "fefa7313",
   "metadata": {},
   "source": [
    "По графику видим, что количество заказов растёт от июня к ноябрю 2024 года"
   ]
  },
  {
   "cell_type": "markdown",
   "id": "5f97ed04",
   "metadata": {},
   "source": [
    "#### Распределение заказов билетов для осеннего и летнего периодов по типу мероприятия"
   ]
  },
  {
   "cell_type": "code",
   "execution_count": 56,
   "id": "824b93ae",
   "metadata": {},
   "outputs": [
    {
     "data": {
      "text/html": [
       "<div>\n",
       "<style scoped>\n",
       "    .dataframe tbody tr th:only-of-type {\n",
       "        vertical-align: middle;\n",
       "    }\n",
       "\n",
       "    .dataframe tbody tr th {\n",
       "        vertical-align: top;\n",
       "    }\n",
       "\n",
       "    .dataframe thead th {\n",
       "        text-align: right;\n",
       "    }\n",
       "</style>\n",
       "<table border=\"1\" class=\"dataframe\">\n",
       "  <thead>\n",
       "    <tr style=\"text-align: right;\">\n",
       "      <th></th>\n",
       "      <th>season</th>\n",
       "      <th>event_type_main</th>\n",
       "      <th>order_id</th>\n",
       "    </tr>\n",
       "  </thead>\n",
       "  <tbody>\n",
       "    <tr>\n",
       "      <th>0</th>\n",
       "      <td>лето</td>\n",
       "      <td>выставки</td>\n",
       "      <td>2416</td>\n",
       "    </tr>\n",
       "    <tr>\n",
       "      <th>1</th>\n",
       "      <td>лето</td>\n",
       "      <td>другое</td>\n",
       "      <td>32567</td>\n",
       "    </tr>\n",
       "    <tr>\n",
       "      <th>2</th>\n",
       "      <td>лето</td>\n",
       "      <td>концерты</td>\n",
       "      <td>51388</td>\n",
       "    </tr>\n",
       "    <tr>\n",
       "      <th>3</th>\n",
       "      <td>лето</td>\n",
       "      <td>спорт</td>\n",
       "      <td>3010</td>\n",
       "    </tr>\n",
       "    <tr>\n",
       "      <th>4</th>\n",
       "      <td>лето</td>\n",
       "      <td>стендап</td>\n",
       "      <td>6384</td>\n",
       "    </tr>\n",
       "    <tr>\n",
       "      <th>5</th>\n",
       "      <td>лето</td>\n",
       "      <td>театр</td>\n",
       "      <td>24122</td>\n",
       "    </tr>\n",
       "    <tr>\n",
       "      <th>6</th>\n",
       "      <td>лето</td>\n",
       "      <td>ёлки</td>\n",
       "      <td>275</td>\n",
       "    </tr>\n",
       "    <tr>\n",
       "      <th>7</th>\n",
       "      <td>осень</td>\n",
       "      <td>выставки</td>\n",
       "      <td>2437</td>\n",
       "    </tr>\n",
       "    <tr>\n",
       "      <th>8</th>\n",
       "      <td>осень</td>\n",
       "      <td>другое</td>\n",
       "      <td>33286</td>\n",
       "    </tr>\n",
       "    <tr>\n",
       "      <th>9</th>\n",
       "      <td>осень</td>\n",
       "      <td>концерты</td>\n",
       "      <td>63575</td>\n",
       "    </tr>\n",
       "    <tr>\n",
       "      <th>10</th>\n",
       "      <td>осень</td>\n",
       "      <td>спорт</td>\n",
       "      <td>18882</td>\n",
       "    </tr>\n",
       "    <tr>\n",
       "      <th>11</th>\n",
       "      <td>осень</td>\n",
       "      <td>стендап</td>\n",
       "      <td>6944</td>\n",
       "    </tr>\n",
       "    <tr>\n",
       "      <th>12</th>\n",
       "      <td>осень</td>\n",
       "      <td>театр</td>\n",
       "      <td>42984</td>\n",
       "    </tr>\n",
       "    <tr>\n",
       "      <th>13</th>\n",
       "      <td>осень</td>\n",
       "      <td>ёлки</td>\n",
       "      <td>1712</td>\n",
       "    </tr>\n",
       "  </tbody>\n",
       "</table>\n",
       "</div>"
      ],
      "text/plain": [
       "   season event_type_main  order_id\n",
       "0    лето        выставки      2416\n",
       "1    лето          другое     32567\n",
       "2    лето        концерты     51388\n",
       "3    лето           спорт      3010\n",
       "4    лето         стендап      6384\n",
       "5    лето           театр     24122\n",
       "6    лето            ёлки       275\n",
       "7   осень        выставки      2437\n",
       "8   осень          другое     33286\n",
       "9   осень        концерты     63575\n",
       "10  осень           спорт     18882\n",
       "11  осень         стендап      6944\n",
       "12  осень           театр     42984\n",
       "13  осень            ёлки      1712"
      ]
     },
     "execution_count": 56,
     "metadata": {},
     "output_type": "execute_result"
    }
   ],
   "source": [
    "# Посмотрим на распределение количества заказов по типам мероприятий \n",
    "season_orders = orders_events_tenge_df.groupby(['season','event_type_main'], as_index = False)['order_id'].count()\n",
    "season_orders"
   ]
  },
  {
   "cell_type": "code",
   "execution_count": 57,
   "id": "a27411f5",
   "metadata": {},
   "outputs": [],
   "source": [
    "# Далее рассчитаем доли количества заказов определенного типа мероприятия от общего количества заказов за сезон\n",
    "events_sum = season_orders.groupby('season')['order_id'].sum()"
   ]
  },
  {
   "cell_type": "code",
   "execution_count": 58,
   "id": "00f2dff4",
   "metadata": {},
   "outputs": [
    {
     "data": {
      "text/html": [
       "<div>\n",
       "<style scoped>\n",
       "    .dataframe tbody tr th:only-of-type {\n",
       "        vertical-align: middle;\n",
       "    }\n",
       "\n",
       "    .dataframe tbody tr th {\n",
       "        vertical-align: top;\n",
       "    }\n",
       "\n",
       "    .dataframe thead th {\n",
       "        text-align: right;\n",
       "    }\n",
       "</style>\n",
       "<table border=\"1\" class=\"dataframe\">\n",
       "  <thead>\n",
       "    <tr style=\"text-align: right;\">\n",
       "      <th></th>\n",
       "      <th>season</th>\n",
       "      <th>event_type_main</th>\n",
       "      <th>order_id</th>\n",
       "      <th>season_total</th>\n",
       "    </tr>\n",
       "  </thead>\n",
       "  <tbody>\n",
       "    <tr>\n",
       "      <th>0</th>\n",
       "      <td>лето</td>\n",
       "      <td>выставки</td>\n",
       "      <td>2416</td>\n",
       "      <td>120162</td>\n",
       "    </tr>\n",
       "    <tr>\n",
       "      <th>1</th>\n",
       "      <td>лето</td>\n",
       "      <td>другое</td>\n",
       "      <td>32567</td>\n",
       "      <td>120162</td>\n",
       "    </tr>\n",
       "    <tr>\n",
       "      <th>2</th>\n",
       "      <td>лето</td>\n",
       "      <td>концерты</td>\n",
       "      <td>51388</td>\n",
       "      <td>120162</td>\n",
       "    </tr>\n",
       "    <tr>\n",
       "      <th>3</th>\n",
       "      <td>лето</td>\n",
       "      <td>спорт</td>\n",
       "      <td>3010</td>\n",
       "      <td>120162</td>\n",
       "    </tr>\n",
       "    <tr>\n",
       "      <th>4</th>\n",
       "      <td>лето</td>\n",
       "      <td>стендап</td>\n",
       "      <td>6384</td>\n",
       "      <td>120162</td>\n",
       "    </tr>\n",
       "    <tr>\n",
       "      <th>5</th>\n",
       "      <td>лето</td>\n",
       "      <td>театр</td>\n",
       "      <td>24122</td>\n",
       "      <td>120162</td>\n",
       "    </tr>\n",
       "    <tr>\n",
       "      <th>6</th>\n",
       "      <td>лето</td>\n",
       "      <td>ёлки</td>\n",
       "      <td>275</td>\n",
       "      <td>120162</td>\n",
       "    </tr>\n",
       "    <tr>\n",
       "      <th>7</th>\n",
       "      <td>осень</td>\n",
       "      <td>выставки</td>\n",
       "      <td>2437</td>\n",
       "      <td>169820</td>\n",
       "    </tr>\n",
       "    <tr>\n",
       "      <th>8</th>\n",
       "      <td>осень</td>\n",
       "      <td>другое</td>\n",
       "      <td>33286</td>\n",
       "      <td>169820</td>\n",
       "    </tr>\n",
       "    <tr>\n",
       "      <th>9</th>\n",
       "      <td>осень</td>\n",
       "      <td>концерты</td>\n",
       "      <td>63575</td>\n",
       "      <td>169820</td>\n",
       "    </tr>\n",
       "    <tr>\n",
       "      <th>10</th>\n",
       "      <td>осень</td>\n",
       "      <td>спорт</td>\n",
       "      <td>18882</td>\n",
       "      <td>169820</td>\n",
       "    </tr>\n",
       "    <tr>\n",
       "      <th>11</th>\n",
       "      <td>осень</td>\n",
       "      <td>стендап</td>\n",
       "      <td>6944</td>\n",
       "      <td>169820</td>\n",
       "    </tr>\n",
       "    <tr>\n",
       "      <th>12</th>\n",
       "      <td>осень</td>\n",
       "      <td>театр</td>\n",
       "      <td>42984</td>\n",
       "      <td>169820</td>\n",
       "    </tr>\n",
       "    <tr>\n",
       "      <th>13</th>\n",
       "      <td>осень</td>\n",
       "      <td>ёлки</td>\n",
       "      <td>1712</td>\n",
       "      <td>169820</td>\n",
       "    </tr>\n",
       "  </tbody>\n",
       "</table>\n",
       "</div>"
      ],
      "text/plain": [
       "   season event_type_main  order_id  season_total\n",
       "0    лето        выставки      2416        120162\n",
       "1    лето          другое     32567        120162\n",
       "2    лето        концерты     51388        120162\n",
       "3    лето           спорт      3010        120162\n",
       "4    лето         стендап      6384        120162\n",
       "5    лето           театр     24122        120162\n",
       "6    лето            ёлки       275        120162\n",
       "7   осень        выставки      2437        169820\n",
       "8   осень          другое     33286        169820\n",
       "9   осень        концерты     63575        169820\n",
       "10  осень           спорт     18882        169820\n",
       "11  осень         стендап      6944        169820\n",
       "12  осень           театр     42984        169820\n",
       "13  осень            ёлки      1712        169820"
      ]
     },
     "execution_count": 58,
     "metadata": {},
     "output_type": "execute_result"
    }
   ],
   "source": [
    "season_orders['season_total'] = season_orders['season'].map(events_sum)\n",
    "season_orders"
   ]
  },
  {
   "cell_type": "code",
   "execution_count": 59,
   "id": "169bb7e2",
   "metadata": {},
   "outputs": [
    {
     "data": {
      "text/html": [
       "<div>\n",
       "<style scoped>\n",
       "    .dataframe tbody tr th:only-of-type {\n",
       "        vertical-align: middle;\n",
       "    }\n",
       "\n",
       "    .dataframe tbody tr th {\n",
       "        vertical-align: top;\n",
       "    }\n",
       "\n",
       "    .dataframe thead th {\n",
       "        text-align: right;\n",
       "    }\n",
       "</style>\n",
       "<table border=\"1\" class=\"dataframe\">\n",
       "  <thead>\n",
       "    <tr style=\"text-align: right;\">\n",
       "      <th></th>\n",
       "      <th>season</th>\n",
       "      <th>event_type_main</th>\n",
       "      <th>order_id</th>\n",
       "      <th>season_total</th>\n",
       "      <th>order_share</th>\n",
       "    </tr>\n",
       "  </thead>\n",
       "  <tbody>\n",
       "    <tr>\n",
       "      <th>0</th>\n",
       "      <td>лето</td>\n",
       "      <td>выставки</td>\n",
       "      <td>2416</td>\n",
       "      <td>120162</td>\n",
       "      <td>0.020</td>\n",
       "    </tr>\n",
       "    <tr>\n",
       "      <th>1</th>\n",
       "      <td>лето</td>\n",
       "      <td>другое</td>\n",
       "      <td>32567</td>\n",
       "      <td>120162</td>\n",
       "      <td>0.271</td>\n",
       "    </tr>\n",
       "    <tr>\n",
       "      <th>2</th>\n",
       "      <td>лето</td>\n",
       "      <td>концерты</td>\n",
       "      <td>51388</td>\n",
       "      <td>120162</td>\n",
       "      <td>0.428</td>\n",
       "    </tr>\n",
       "    <tr>\n",
       "      <th>3</th>\n",
       "      <td>лето</td>\n",
       "      <td>спорт</td>\n",
       "      <td>3010</td>\n",
       "      <td>120162</td>\n",
       "      <td>0.025</td>\n",
       "    </tr>\n",
       "    <tr>\n",
       "      <th>4</th>\n",
       "      <td>лето</td>\n",
       "      <td>стендап</td>\n",
       "      <td>6384</td>\n",
       "      <td>120162</td>\n",
       "      <td>0.053</td>\n",
       "    </tr>\n",
       "    <tr>\n",
       "      <th>5</th>\n",
       "      <td>лето</td>\n",
       "      <td>театр</td>\n",
       "      <td>24122</td>\n",
       "      <td>120162</td>\n",
       "      <td>0.201</td>\n",
       "    </tr>\n",
       "    <tr>\n",
       "      <th>6</th>\n",
       "      <td>лето</td>\n",
       "      <td>ёлки</td>\n",
       "      <td>275</td>\n",
       "      <td>120162</td>\n",
       "      <td>0.002</td>\n",
       "    </tr>\n",
       "    <tr>\n",
       "      <th>7</th>\n",
       "      <td>осень</td>\n",
       "      <td>выставки</td>\n",
       "      <td>2437</td>\n",
       "      <td>169820</td>\n",
       "      <td>0.014</td>\n",
       "    </tr>\n",
       "    <tr>\n",
       "      <th>8</th>\n",
       "      <td>осень</td>\n",
       "      <td>другое</td>\n",
       "      <td>33286</td>\n",
       "      <td>169820</td>\n",
       "      <td>0.196</td>\n",
       "    </tr>\n",
       "    <tr>\n",
       "      <th>9</th>\n",
       "      <td>осень</td>\n",
       "      <td>концерты</td>\n",
       "      <td>63575</td>\n",
       "      <td>169820</td>\n",
       "      <td>0.374</td>\n",
       "    </tr>\n",
       "    <tr>\n",
       "      <th>10</th>\n",
       "      <td>осень</td>\n",
       "      <td>спорт</td>\n",
       "      <td>18882</td>\n",
       "      <td>169820</td>\n",
       "      <td>0.111</td>\n",
       "    </tr>\n",
       "    <tr>\n",
       "      <th>11</th>\n",
       "      <td>осень</td>\n",
       "      <td>стендап</td>\n",
       "      <td>6944</td>\n",
       "      <td>169820</td>\n",
       "      <td>0.041</td>\n",
       "    </tr>\n",
       "    <tr>\n",
       "      <th>12</th>\n",
       "      <td>осень</td>\n",
       "      <td>театр</td>\n",
       "      <td>42984</td>\n",
       "      <td>169820</td>\n",
       "      <td>0.253</td>\n",
       "    </tr>\n",
       "    <tr>\n",
       "      <th>13</th>\n",
       "      <td>осень</td>\n",
       "      <td>ёлки</td>\n",
       "      <td>1712</td>\n",
       "      <td>169820</td>\n",
       "      <td>0.010</td>\n",
       "    </tr>\n",
       "  </tbody>\n",
       "</table>\n",
       "</div>"
      ],
      "text/plain": [
       "   season event_type_main  order_id  season_total  order_share\n",
       "0    лето        выставки      2416        120162        0.020\n",
       "1    лето          другое     32567        120162        0.271\n",
       "2    лето        концерты     51388        120162        0.428\n",
       "3    лето           спорт      3010        120162        0.025\n",
       "4    лето         стендап      6384        120162        0.053\n",
       "5    лето           театр     24122        120162        0.201\n",
       "6    лето            ёлки       275        120162        0.002\n",
       "7   осень        выставки      2437        169820        0.014\n",
       "8   осень          другое     33286        169820        0.196\n",
       "9   осень        концерты     63575        169820        0.374\n",
       "10  осень           спорт     18882        169820        0.111\n",
       "11  осень         стендап      6944        169820        0.041\n",
       "12  осень           театр     42984        169820        0.253\n",
       "13  осень            ёлки      1712        169820        0.010"
      ]
     },
     "execution_count": 59,
     "metadata": {},
     "output_type": "execute_result"
    }
   ],
   "source": [
    "# Рассчитаем доли для удобства\n",
    "season_orders['order_share'] = round(season_orders['order_id']/season_orders['season_total'],3 )\n",
    "season_orders"
   ]
  },
  {
   "cell_type": "code",
   "execution_count": 60,
   "id": "43a32fb1",
   "metadata": {},
   "outputs": [
    {
     "data": {
      "image/png": "[encoded data removed]",
      "text/plain": [
       "<Figure size 864x576 with 1 Axes>"
      ]
     },
     "metadata": {
      "needs_background": "light"
     },
     "output_type": "display_data"
    }
   ],
   "source": [
    "# Строим диаграмму, сравниваем доли количества заказов по типу мероприятия в летний и осенний сезон\n",
    "plt.figure(figsize = (12, 8)) \n",
    "sns.barplot(data = season_orders,\n",
    "            x = 'event_type_main', \n",
    "            y = 'order_share',\n",
    "            hue = 'season',  \n",
    "            palette = (['green', 'yellow']),\n",
    "            edgecolor = 'black'\n",
    "           )\n",
    "\n",
    "plt.xlabel('')\n",
    "plt.ylabel('Доля')\n",
    "plt.grid(axis = 'y')\n",
    "plt.title('Распределение долей количества заказов по типу мероприятия в летний и осенний сезон')\n",
    "plt.show()"
   ]
  },
  {
   "cell_type": "code",
   "execution_count": 61,
   "id": "182e58d7",
   "metadata": {},
   "outputs": [
    {
     "data": {
      "text/html": [
       "<div>\n",
       "<style scoped>\n",
       "    .dataframe tbody tr th:only-of-type {\n",
       "        vertical-align: middle;\n",
       "    }\n",
       "\n",
       "    .dataframe tbody tr th {\n",
       "        vertical-align: top;\n",
       "    }\n",
       "\n",
       "    .dataframe thead th {\n",
       "        text-align: right;\n",
       "    }\n",
       "</style>\n",
       "<table border=\"1\" class=\"dataframe\">\n",
       "  <thead>\n",
       "    <tr style=\"text-align: right;\">\n",
       "      <th>season</th>\n",
       "      <th>event_type_main</th>\n",
       "      <th>лето</th>\n",
       "      <th>осень</th>\n",
       "      <th>summer_share</th>\n",
       "      <th>autumn_share</th>\n",
       "    </tr>\n",
       "  </thead>\n",
       "  <tbody>\n",
       "    <tr>\n",
       "      <th>2</th>\n",
       "      <td>концерты</td>\n",
       "      <td>51388</td>\n",
       "      <td>63575</td>\n",
       "      <td>0.428</td>\n",
       "      <td>0.374</td>\n",
       "    </tr>\n",
       "    <tr>\n",
       "      <th>1</th>\n",
       "      <td>другое</td>\n",
       "      <td>32567</td>\n",
       "      <td>33286</td>\n",
       "      <td>0.271</td>\n",
       "      <td>0.196</td>\n",
       "    </tr>\n",
       "    <tr>\n",
       "      <th>5</th>\n",
       "      <td>театр</td>\n",
       "      <td>24122</td>\n",
       "      <td>42984</td>\n",
       "      <td>0.201</td>\n",
       "      <td>0.253</td>\n",
       "    </tr>\n",
       "    <tr>\n",
       "      <th>4</th>\n",
       "      <td>стендап</td>\n",
       "      <td>6384</td>\n",
       "      <td>6944</td>\n",
       "      <td>0.053</td>\n",
       "      <td>0.041</td>\n",
       "    </tr>\n",
       "    <tr>\n",
       "      <th>3</th>\n",
       "      <td>спорт</td>\n",
       "      <td>3010</td>\n",
       "      <td>18882</td>\n",
       "      <td>0.025</td>\n",
       "      <td>0.111</td>\n",
       "    </tr>\n",
       "    <tr>\n",
       "      <th>0</th>\n",
       "      <td>выставки</td>\n",
       "      <td>2416</td>\n",
       "      <td>2437</td>\n",
       "      <td>0.020</td>\n",
       "      <td>0.014</td>\n",
       "    </tr>\n",
       "    <tr>\n",
       "      <th>6</th>\n",
       "      <td>ёлки</td>\n",
       "      <td>275</td>\n",
       "      <td>1712</td>\n",
       "      <td>0.002</td>\n",
       "      <td>0.010</td>\n",
       "    </tr>\n",
       "  </tbody>\n",
       "</table>\n",
       "</div>"
      ],
      "text/plain": [
       "season event_type_main   лето  осень  summer_share  autumn_share\n",
       "2             концерты  51388  63575         0.428         0.374\n",
       "1               другое  32567  33286         0.271         0.196\n",
       "5                театр  24122  42984         0.201         0.253\n",
       "4              стендап   6384   6944         0.053         0.041\n",
       "3                спорт   3010  18882         0.025         0.111\n",
       "0             выставки   2416   2437         0.020         0.014\n",
       "6                 ёлки    275   1712         0.002         0.010"
      ]
     },
     "execution_count": 61,
     "metadata": {},
     "output_type": "execute_result"
    }
   ],
   "source": [
    "# Сравним доли в летний и осенний сезоны\n",
    "categories =  orders_events_tenge_df.groupby(['season','event_type_main'])['order_id'].count().unstack().T.reset_index()\n",
    "categories['summer_share'] = round(categories['лето']/categories['лето'].sum() ,3 )\n",
    "categories['autumn_share'] = round(categories['осень']/categories['осень'].sum(), 3)\n",
    "categories.sort_values('лето', ascending = False)"
   ]
  },
  {
   "cell_type": "markdown",
   "id": "749a94f5",
   "metadata": {},
   "source": [
    "Видим, что популярные меропряития летом и осенью были концерты. Доля концертов летом составлляет 42.8%, осенью 37.4%, видим спад\n",
    "\n",
    "На втором и третьем месте - другие мероприятия (летом - 27.1%, осенью 19.6%, также видим снижение) и театры (летом - 20.1%, осенью - 25.3%, здесь видим увеличение заказов)"
   ]
  },
  {
   "cell_type": "markdown",
   "id": "c6c9558b",
   "metadata": {},
   "source": [
    "#### Распределение заказов билетов для осеннего и летнего периодов по типу устройства"
   ]
  },
  {
   "cell_type": "code",
   "execution_count": 62,
   "id": "a3d1fa72",
   "metadata": {},
   "outputs": [
    {
     "data": {
      "text/html": [
       "<div>\n",
       "<style scoped>\n",
       "    .dataframe tbody tr th:only-of-type {\n",
       "        vertical-align: middle;\n",
       "    }\n",
       "\n",
       "    .dataframe tbody tr th {\n",
       "        vertical-align: top;\n",
       "    }\n",
       "\n",
       "    .dataframe thead th {\n",
       "        text-align: right;\n",
       "    }\n",
       "</style>\n",
       "<table border=\"1\" class=\"dataframe\">\n",
       "  <thead>\n",
       "    <tr style=\"text-align: right;\">\n",
       "      <th></th>\n",
       "      <th>season</th>\n",
       "      <th>device_type_canonical</th>\n",
       "      <th>order_id</th>\n",
       "    </tr>\n",
       "  </thead>\n",
       "  <tbody>\n",
       "    <tr>\n",
       "      <th>0</th>\n",
       "      <td>лето</td>\n",
       "      <td>desktop</td>\n",
       "      <td>23356</td>\n",
       "    </tr>\n",
       "    <tr>\n",
       "      <th>1</th>\n",
       "      <td>лето</td>\n",
       "      <td>mobile</td>\n",
       "      <td>96806</td>\n",
       "    </tr>\n",
       "    <tr>\n",
       "      <th>2</th>\n",
       "      <td>осень</td>\n",
       "      <td>desktop</td>\n",
       "      <td>34617</td>\n",
       "    </tr>\n",
       "    <tr>\n",
       "      <th>3</th>\n",
       "      <td>осень</td>\n",
       "      <td>mobile</td>\n",
       "      <td>135203</td>\n",
       "    </tr>\n",
       "  </tbody>\n",
       "</table>\n",
       "</div>"
      ],
      "text/plain": [
       "  season device_type_canonical  order_id\n",
       "0   лето               desktop     23356\n",
       "1   лето                mobile     96806\n",
       "2  осень               desktop     34617\n",
       "3  осень                mobile    135203"
      ]
     },
     "execution_count": 62,
     "metadata": {},
     "output_type": "execute_result"
    }
   ],
   "source": [
    "# Посмотрим на распределение количества заказов по типу устройства \n",
    "device_type_orders = orders_events_tenge_df.groupby(['season','device_type_canonical'], as_index = False)['order_id'].count()\n",
    "device_type_orders"
   ]
  },
  {
   "cell_type": "code",
   "execution_count": 63,
   "id": "62639918",
   "metadata": {},
   "outputs": [],
   "source": [
    "# Далее рассчитаем доли количества заказов определенного типа устройства от общего количества заказов за сезон\n",
    "device_sum = device_type_orders.groupby('season')['order_id'].sum()"
   ]
  },
  {
   "cell_type": "code",
   "execution_count": 64,
   "id": "aa10d5ab",
   "metadata": {},
   "outputs": [
    {
     "data": {
      "text/html": [
       "<div>\n",
       "<style scoped>\n",
       "    .dataframe tbody tr th:only-of-type {\n",
       "        vertical-align: middle;\n",
       "    }\n",
       "\n",
       "    .dataframe tbody tr th {\n",
       "        vertical-align: top;\n",
       "    }\n",
       "\n",
       "    .dataframe thead th {\n",
       "        text-align: right;\n",
       "    }\n",
       "</style>\n",
       "<table border=\"1\" class=\"dataframe\">\n",
       "  <thead>\n",
       "    <tr style=\"text-align: right;\">\n",
       "      <th></th>\n",
       "      <th>season</th>\n",
       "      <th>device_type_canonical</th>\n",
       "      <th>order_id</th>\n",
       "      <th>device_tolal</th>\n",
       "    </tr>\n",
       "  </thead>\n",
       "  <tbody>\n",
       "    <tr>\n",
       "      <th>0</th>\n",
       "      <td>лето</td>\n",
       "      <td>desktop</td>\n",
       "      <td>23356</td>\n",
       "      <td>120162</td>\n",
       "    </tr>\n",
       "    <tr>\n",
       "      <th>1</th>\n",
       "      <td>лето</td>\n",
       "      <td>mobile</td>\n",
       "      <td>96806</td>\n",
       "      <td>120162</td>\n",
       "    </tr>\n",
       "    <tr>\n",
       "      <th>2</th>\n",
       "      <td>осень</td>\n",
       "      <td>desktop</td>\n",
       "      <td>34617</td>\n",
       "      <td>169820</td>\n",
       "    </tr>\n",
       "    <tr>\n",
       "      <th>3</th>\n",
       "      <td>осень</td>\n",
       "      <td>mobile</td>\n",
       "      <td>135203</td>\n",
       "      <td>169820</td>\n",
       "    </tr>\n",
       "  </tbody>\n",
       "</table>\n",
       "</div>"
      ],
      "text/plain": [
       "  season device_type_canonical  order_id  device_tolal\n",
       "0   лето               desktop     23356        120162\n",
       "1   лето                mobile     96806        120162\n",
       "2  осень               desktop     34617        169820\n",
       "3  осень                mobile    135203        169820"
      ]
     },
     "execution_count": 64,
     "metadata": {},
     "output_type": "execute_result"
    }
   ],
   "source": [
    "device_type_orders['device_tolal'] = device_type_orders['season'].map(device_sum)\n",
    "device_type_orders"
   ]
  },
  {
   "cell_type": "code",
   "execution_count": 65,
   "id": "0193136d",
   "metadata": {},
   "outputs": [
    {
     "data": {
      "text/html": [
       "<div>\n",
       "<style scoped>\n",
       "    .dataframe tbody tr th:only-of-type {\n",
       "        vertical-align: middle;\n",
       "    }\n",
       "\n",
       "    .dataframe tbody tr th {\n",
       "        vertical-align: top;\n",
       "    }\n",
       "\n",
       "    .dataframe thead th {\n",
       "        text-align: right;\n",
       "    }\n",
       "</style>\n",
       "<table border=\"1\" class=\"dataframe\">\n",
       "  <thead>\n",
       "    <tr style=\"text-align: right;\">\n",
       "      <th></th>\n",
       "      <th>season</th>\n",
       "      <th>device_type_canonical</th>\n",
       "      <th>order_id</th>\n",
       "      <th>device_tolal</th>\n",
       "      <th>device_share</th>\n",
       "    </tr>\n",
       "  </thead>\n",
       "  <tbody>\n",
       "    <tr>\n",
       "      <th>0</th>\n",
       "      <td>лето</td>\n",
       "      <td>desktop</td>\n",
       "      <td>23356</td>\n",
       "      <td>120162</td>\n",
       "      <td>0.194</td>\n",
       "    </tr>\n",
       "    <tr>\n",
       "      <th>1</th>\n",
       "      <td>лето</td>\n",
       "      <td>mobile</td>\n",
       "      <td>96806</td>\n",
       "      <td>120162</td>\n",
       "      <td>0.806</td>\n",
       "    </tr>\n",
       "    <tr>\n",
       "      <th>2</th>\n",
       "      <td>осень</td>\n",
       "      <td>desktop</td>\n",
       "      <td>34617</td>\n",
       "      <td>169820</td>\n",
       "      <td>0.204</td>\n",
       "    </tr>\n",
       "    <tr>\n",
       "      <th>3</th>\n",
       "      <td>осень</td>\n",
       "      <td>mobile</td>\n",
       "      <td>135203</td>\n",
       "      <td>169820</td>\n",
       "      <td>0.796</td>\n",
       "    </tr>\n",
       "  </tbody>\n",
       "</table>\n",
       "</div>"
      ],
      "text/plain": [
       "  season device_type_canonical  order_id  device_tolal  device_share\n",
       "0   лето               desktop     23356        120162         0.194\n",
       "1   лето                mobile     96806        120162         0.806\n",
       "2  осень               desktop     34617        169820         0.204\n",
       "3  осень                mobile    135203        169820         0.796"
      ]
     },
     "execution_count": 65,
     "metadata": {},
     "output_type": "execute_result"
    }
   ],
   "source": [
    "# Рассчитаем доли для удобства\n",
    "device_type_orders['device_share'] = round(device_type_orders['order_id']/device_type_orders['device_tolal'],3 )\n",
    "device_type_orders"
   ]
  },
  {
   "cell_type": "code",
   "execution_count": 66,
   "id": "9c292c9c",
   "metadata": {},
   "outputs": [
    {
     "data": {
      "image/png": "[encoded data removed]",
      "text/plain": [
       "<Figure size 864x576 with 1 Axes>"
      ]
     },
     "metadata": {
      "needs_background": "light"
     },
     "output_type": "display_data"
    }
   ],
   "source": [
    "# Строим диаграмму, сравниваем доли количества заказов по типу устройства в летний и осенний сезон\n",
    "plt.figure(figsize = (12, 8)) \n",
    "sns.barplot(data = device_type_orders,\n",
    "            x = 'device_type_canonical', \n",
    "            y = 'device_share',\n",
    "            hue = 'season',  \n",
    "            palette = (['red', 'black']),\n",
    "            edgecolor = 'black'\n",
    "           )\n",
    "\n",
    "plt.xlabel('')\n",
    "plt.ylabel('Доля')\n",
    "plt.grid(axis = 'y')\n",
    "plt.title('Распределение долей количества заказов по типу устройства в летний и осенний сезон')\n",
    "plt.show()"
   ]
  },
  {
   "cell_type": "code",
   "execution_count": 67,
   "id": "3fbcdb00",
   "metadata": {},
   "outputs": [
    {
     "data": {
      "text/html": [
       "<div>\n",
       "<style scoped>\n",
       "    .dataframe tbody tr th:only-of-type {\n",
       "        vertical-align: middle;\n",
       "    }\n",
       "\n",
       "    .dataframe tbody tr th {\n",
       "        vertical-align: top;\n",
       "    }\n",
       "\n",
       "    .dataframe thead th {\n",
       "        text-align: right;\n",
       "    }\n",
       "</style>\n",
       "<table border=\"1\" class=\"dataframe\">\n",
       "  <thead>\n",
       "    <tr style=\"text-align: right;\">\n",
       "      <th>season</th>\n",
       "      <th>device_type_canonical</th>\n",
       "      <th>лето</th>\n",
       "      <th>осень</th>\n",
       "      <th>summer_share</th>\n",
       "      <th>autumn_share</th>\n",
       "    </tr>\n",
       "  </thead>\n",
       "  <tbody>\n",
       "    <tr>\n",
       "      <th>1</th>\n",
       "      <td>mobile</td>\n",
       "      <td>96806</td>\n",
       "      <td>135203</td>\n",
       "      <td>0.806</td>\n",
       "      <td>0.796</td>\n",
       "    </tr>\n",
       "    <tr>\n",
       "      <th>0</th>\n",
       "      <td>desktop</td>\n",
       "      <td>23356</td>\n",
       "      <td>34617</td>\n",
       "      <td>0.194</td>\n",
       "      <td>0.204</td>\n",
       "    </tr>\n",
       "  </tbody>\n",
       "</table>\n",
       "</div>"
      ],
      "text/plain": [
       "season device_type_canonical   лето   осень  summer_share  autumn_share\n",
       "1                     mobile  96806  135203         0.806         0.796\n",
       "0                    desktop  23356   34617         0.194         0.204"
      ]
     },
     "execution_count": 67,
     "metadata": {},
     "output_type": "execute_result"
    }
   ],
   "source": [
    "# Сравним доли в летний и осенний сезоны\n",
    "device_categories =  orders_events_tenge_df.groupby(['season','device_type_canonical'])['order_id'].count().unstack().T.reset_index()\n",
    "device_categories['summer_share'] = round(device_categories['лето']/device_categories['лето'].sum() ,3 )\n",
    "device_categories['autumn_share'] = round(device_categories['осень']/device_categories['осень'].sum(), 3)\n",
    "device_categories.sort_values('лето', ascending = False)"
   ]
  },
  {
   "cell_type": "markdown",
   "id": "84a6bb2d",
   "metadata": {},
   "source": [
    "Видим, что доля заказов превышает с мобильных устройств, но по динамике осенью видим снижение, летом доля была 80.6%, осенью 79.6%\n",
    "По дексктопным устройствам наоборот, видим увеличение количества заказов, летом 19.4%, осенью - 20.4%"
   ]
  },
  {
   "cell_type": "markdown",
   "id": "d11f5840",
   "metadata": {},
   "source": [
    "#### Распределение заказов билетов для осеннего и летнего периодов по возрастному рейтингу"
   ]
  },
  {
   "cell_type": "code",
   "execution_count": 68,
   "id": "6eceec28",
   "metadata": {},
   "outputs": [
    {
     "data": {
      "text/html": [
       "<div>\n",
       "<style scoped>\n",
       "    .dataframe tbody tr th:only-of-type {\n",
       "        vertical-align: middle;\n",
       "    }\n",
       "\n",
       "    .dataframe tbody tr th {\n",
       "        vertical-align: top;\n",
       "    }\n",
       "\n",
       "    .dataframe thead th {\n",
       "        text-align: right;\n",
       "    }\n",
       "</style>\n",
       "<table border=\"1\" class=\"dataframe\">\n",
       "  <thead>\n",
       "    <tr style=\"text-align: right;\">\n",
       "      <th></th>\n",
       "      <th>season</th>\n",
       "      <th>age_limit</th>\n",
       "      <th>order_id</th>\n",
       "    </tr>\n",
       "  </thead>\n",
       "  <tbody>\n",
       "    <tr>\n",
       "      <th>0</th>\n",
       "      <td>лето</td>\n",
       "      <td>0</td>\n",
       "      <td>21608</td>\n",
       "    </tr>\n",
       "    <tr>\n",
       "      <th>1</th>\n",
       "      <td>лето</td>\n",
       "      <td>6</td>\n",
       "      <td>21945</td>\n",
       "    </tr>\n",
       "    <tr>\n",
       "      <th>2</th>\n",
       "      <td>лето</td>\n",
       "      <td>12</td>\n",
       "      <td>24709</td>\n",
       "    </tr>\n",
       "    <tr>\n",
       "      <th>3</th>\n",
       "      <td>лето</td>\n",
       "      <td>16</td>\n",
       "      <td>33937</td>\n",
       "    </tr>\n",
       "    <tr>\n",
       "      <th>4</th>\n",
       "      <td>лето</td>\n",
       "      <td>18</td>\n",
       "      <td>17963</td>\n",
       "    </tr>\n",
       "    <tr>\n",
       "      <th>5</th>\n",
       "      <td>осень</td>\n",
       "      <td>0</td>\n",
       "      <td>39865</td>\n",
       "    </tr>\n",
       "    <tr>\n",
       "      <th>6</th>\n",
       "      <td>осень</td>\n",
       "      <td>6</td>\n",
       "      <td>30174</td>\n",
       "    </tr>\n",
       "    <tr>\n",
       "      <th>7</th>\n",
       "      <td>осень</td>\n",
       "      <td>12</td>\n",
       "      <td>37575</td>\n",
       "    </tr>\n",
       "    <tr>\n",
       "      <th>8</th>\n",
       "      <td>осень</td>\n",
       "      <td>16</td>\n",
       "      <td>44443</td>\n",
       "    </tr>\n",
       "    <tr>\n",
       "      <th>9</th>\n",
       "      <td>осень</td>\n",
       "      <td>18</td>\n",
       "      <td>17763</td>\n",
       "    </tr>\n",
       "  </tbody>\n",
       "</table>\n",
       "</div>"
      ],
      "text/plain": [
       "  season  age_limit  order_id\n",
       "0   лето          0     21608\n",
       "1   лето          6     21945\n",
       "2   лето         12     24709\n",
       "3   лето         16     33937\n",
       "4   лето         18     17963\n",
       "5  осень          0     39865\n",
       "6  осень          6     30174\n",
       "7  осень         12     37575\n",
       "8  осень         16     44443\n",
       "9  осень         18     17763"
      ]
     },
     "execution_count": 68,
     "metadata": {},
     "output_type": "execute_result"
    }
   ],
   "source": [
    "# Посмотрим на распределение количества заказов по возрастному рейтингу\n",
    "age_orders = orders_events_tenge_df.groupby(['season','age_limit'], as_index = False)['order_id'].count()\n",
    "age_orders"
   ]
  },
  {
   "cell_type": "code",
   "execution_count": 69,
   "id": "96be9168",
   "metadata": {},
   "outputs": [],
   "source": [
    "# Далее рассчитаем доли количества заказов по возрастному рейтингу от общего количества заказов за сезон\n",
    "age_sum = age_orders.groupby('season')['order_id'].sum()"
   ]
  },
  {
   "cell_type": "code",
   "execution_count": 70,
   "id": "1f38f06f",
   "metadata": {},
   "outputs": [
    {
     "data": {
      "text/html": [
       "<div>\n",
       "<style scoped>\n",
       "    .dataframe tbody tr th:only-of-type {\n",
       "        vertical-align: middle;\n",
       "    }\n",
       "\n",
       "    .dataframe tbody tr th {\n",
       "        vertical-align: top;\n",
       "    }\n",
       "\n",
       "    .dataframe thead th {\n",
       "        text-align: right;\n",
       "    }\n",
       "</style>\n",
       "<table border=\"1\" class=\"dataframe\">\n",
       "  <thead>\n",
       "    <tr style=\"text-align: right;\">\n",
       "      <th></th>\n",
       "      <th>season</th>\n",
       "      <th>age_limit</th>\n",
       "      <th>order_id</th>\n",
       "      <th>age_tolal</th>\n",
       "    </tr>\n",
       "  </thead>\n",
       "  <tbody>\n",
       "    <tr>\n",
       "      <th>0</th>\n",
       "      <td>лето</td>\n",
       "      <td>0</td>\n",
       "      <td>21608</td>\n",
       "      <td>120162</td>\n",
       "    </tr>\n",
       "    <tr>\n",
       "      <th>1</th>\n",
       "      <td>лето</td>\n",
       "      <td>6</td>\n",
       "      <td>21945</td>\n",
       "      <td>120162</td>\n",
       "    </tr>\n",
       "    <tr>\n",
       "      <th>2</th>\n",
       "      <td>лето</td>\n",
       "      <td>12</td>\n",
       "      <td>24709</td>\n",
       "      <td>120162</td>\n",
       "    </tr>\n",
       "    <tr>\n",
       "      <th>3</th>\n",
       "      <td>лето</td>\n",
       "      <td>16</td>\n",
       "      <td>33937</td>\n",
       "      <td>120162</td>\n",
       "    </tr>\n",
       "    <tr>\n",
       "      <th>4</th>\n",
       "      <td>лето</td>\n",
       "      <td>18</td>\n",
       "      <td>17963</td>\n",
       "      <td>120162</td>\n",
       "    </tr>\n",
       "    <tr>\n",
       "      <th>5</th>\n",
       "      <td>осень</td>\n",
       "      <td>0</td>\n",
       "      <td>39865</td>\n",
       "      <td>169820</td>\n",
       "    </tr>\n",
       "    <tr>\n",
       "      <th>6</th>\n",
       "      <td>осень</td>\n",
       "      <td>6</td>\n",
       "      <td>30174</td>\n",
       "      <td>169820</td>\n",
       "    </tr>\n",
       "    <tr>\n",
       "      <th>7</th>\n",
       "      <td>осень</td>\n",
       "      <td>12</td>\n",
       "      <td>37575</td>\n",
       "      <td>169820</td>\n",
       "    </tr>\n",
       "    <tr>\n",
       "      <th>8</th>\n",
       "      <td>осень</td>\n",
       "      <td>16</td>\n",
       "      <td>44443</td>\n",
       "      <td>169820</td>\n",
       "    </tr>\n",
       "    <tr>\n",
       "      <th>9</th>\n",
       "      <td>осень</td>\n",
       "      <td>18</td>\n",
       "      <td>17763</td>\n",
       "      <td>169820</td>\n",
       "    </tr>\n",
       "  </tbody>\n",
       "</table>\n",
       "</div>"
      ],
      "text/plain": [
       "  season  age_limit  order_id  age_tolal\n",
       "0   лето          0     21608     120162\n",
       "1   лето          6     21945     120162\n",
       "2   лето         12     24709     120162\n",
       "3   лето         16     33937     120162\n",
       "4   лето         18     17963     120162\n",
       "5  осень          0     39865     169820\n",
       "6  осень          6     30174     169820\n",
       "7  осень         12     37575     169820\n",
       "8  осень         16     44443     169820\n",
       "9  осень         18     17763     169820"
      ]
     },
     "execution_count": 70,
     "metadata": {},
     "output_type": "execute_result"
    }
   ],
   "source": [
    "age_orders['age_tolal'] = age_orders['season'].map(age_sum)\n",
    "age_orders"
   ]
  },
  {
   "cell_type": "code",
   "execution_count": 71,
   "id": "def18059",
   "metadata": {},
   "outputs": [
    {
     "data": {
      "text/html": [
       "<div>\n",
       "<style scoped>\n",
       "    .dataframe tbody tr th:only-of-type {\n",
       "        vertical-align: middle;\n",
       "    }\n",
       "\n",
       "    .dataframe tbody tr th {\n",
       "        vertical-align: top;\n",
       "    }\n",
       "\n",
       "    .dataframe thead th {\n",
       "        text-align: right;\n",
       "    }\n",
       "</style>\n",
       "<table border=\"1\" class=\"dataframe\">\n",
       "  <thead>\n",
       "    <tr style=\"text-align: right;\">\n",
       "      <th></th>\n",
       "      <th>season</th>\n",
       "      <th>age_limit</th>\n",
       "      <th>order_id</th>\n",
       "      <th>age_tolal</th>\n",
       "      <th>age_share</th>\n",
       "    </tr>\n",
       "  </thead>\n",
       "  <tbody>\n",
       "    <tr>\n",
       "      <th>0</th>\n",
       "      <td>лето</td>\n",
       "      <td>0</td>\n",
       "      <td>21608</td>\n",
       "      <td>120162</td>\n",
       "      <td>0.180</td>\n",
       "    </tr>\n",
       "    <tr>\n",
       "      <th>1</th>\n",
       "      <td>лето</td>\n",
       "      <td>6</td>\n",
       "      <td>21945</td>\n",
       "      <td>120162</td>\n",
       "      <td>0.183</td>\n",
       "    </tr>\n",
       "    <tr>\n",
       "      <th>2</th>\n",
       "      <td>лето</td>\n",
       "      <td>12</td>\n",
       "      <td>24709</td>\n",
       "      <td>120162</td>\n",
       "      <td>0.206</td>\n",
       "    </tr>\n",
       "    <tr>\n",
       "      <th>3</th>\n",
       "      <td>лето</td>\n",
       "      <td>16</td>\n",
       "      <td>33937</td>\n",
       "      <td>120162</td>\n",
       "      <td>0.282</td>\n",
       "    </tr>\n",
       "    <tr>\n",
       "      <th>4</th>\n",
       "      <td>лето</td>\n",
       "      <td>18</td>\n",
       "      <td>17963</td>\n",
       "      <td>120162</td>\n",
       "      <td>0.149</td>\n",
       "    </tr>\n",
       "    <tr>\n",
       "      <th>5</th>\n",
       "      <td>осень</td>\n",
       "      <td>0</td>\n",
       "      <td>39865</td>\n",
       "      <td>169820</td>\n",
       "      <td>0.235</td>\n",
       "    </tr>\n",
       "    <tr>\n",
       "      <th>6</th>\n",
       "      <td>осень</td>\n",
       "      <td>6</td>\n",
       "      <td>30174</td>\n",
       "      <td>169820</td>\n",
       "      <td>0.178</td>\n",
       "    </tr>\n",
       "    <tr>\n",
       "      <th>7</th>\n",
       "      <td>осень</td>\n",
       "      <td>12</td>\n",
       "      <td>37575</td>\n",
       "      <td>169820</td>\n",
       "      <td>0.221</td>\n",
       "    </tr>\n",
       "    <tr>\n",
       "      <th>8</th>\n",
       "      <td>осень</td>\n",
       "      <td>16</td>\n",
       "      <td>44443</td>\n",
       "      <td>169820</td>\n",
       "      <td>0.262</td>\n",
       "    </tr>\n",
       "    <tr>\n",
       "      <th>9</th>\n",
       "      <td>осень</td>\n",
       "      <td>18</td>\n",
       "      <td>17763</td>\n",
       "      <td>169820</td>\n",
       "      <td>0.105</td>\n",
       "    </tr>\n",
       "  </tbody>\n",
       "</table>\n",
       "</div>"
      ],
      "text/plain": [
       "  season  age_limit  order_id  age_tolal  age_share\n",
       "0   лето          0     21608     120162      0.180\n",
       "1   лето          6     21945     120162      0.183\n",
       "2   лето         12     24709     120162      0.206\n",
       "3   лето         16     33937     120162      0.282\n",
       "4   лето         18     17963     120162      0.149\n",
       "5  осень          0     39865     169820      0.235\n",
       "6  осень          6     30174     169820      0.178\n",
       "7  осень         12     37575     169820      0.221\n",
       "8  осень         16     44443     169820      0.262\n",
       "9  осень         18     17763     169820      0.105"
      ]
     },
     "execution_count": 71,
     "metadata": {},
     "output_type": "execute_result"
    }
   ],
   "source": [
    "# Рассчитаем доли для удобства\n",
    "age_orders['age_share'] = round(age_orders['order_id']/age_orders['age_tolal'],3 )\n",
    "age_orders"
   ]
  },
  {
   "cell_type": "code",
   "execution_count": 72,
   "id": "2c6aefc8",
   "metadata": {},
   "outputs": [
    {
     "data": {
      "image/png": "[encoded data removed]",
      "text/plain": [
       "<Figure size 864x576 with 1 Axes>"
      ]
     },
     "metadata": {
      "needs_background": "light"
     },
     "output_type": "display_data"
    }
   ],
   "source": [
    "# Строим диаграмму, сравниваем доли количества заказов по возрастному рейтингу в летний и осенний сезон\n",
    "plt.figure(figsize = (12, 8)) \n",
    "sns.barplot(data = age_orders,\n",
    "            x = 'age_limit', \n",
    "            y = 'age_share',\n",
    "            hue = 'season',  \n",
    "            palette = (['green', 'pink']),\n",
    "            edgecolor = 'black'\n",
    "           )\n",
    "\n",
    "plt.xlabel('')\n",
    "plt.ylabel('Доля')\n",
    "plt.grid(axis = 'y')\n",
    "plt.title('Распределение долей количества заказов по возрастному рейтингу в летний и осенний сезон')\n",
    "plt.show()"
   ]
  },
  {
   "cell_type": "code",
   "execution_count": 73,
   "id": "1757428b",
   "metadata": {},
   "outputs": [
    {
     "data": {
      "text/html": [
       "<div>\n",
       "<style scoped>\n",
       "    .dataframe tbody tr th:only-of-type {\n",
       "        vertical-align: middle;\n",
       "    }\n",
       "\n",
       "    .dataframe tbody tr th {\n",
       "        vertical-align: top;\n",
       "    }\n",
       "\n",
       "    .dataframe thead th {\n",
       "        text-align: right;\n",
       "    }\n",
       "</style>\n",
       "<table border=\"1\" class=\"dataframe\">\n",
       "  <thead>\n",
       "    <tr style=\"text-align: right;\">\n",
       "      <th>season</th>\n",
       "      <th>age_limit</th>\n",
       "      <th>лето</th>\n",
       "      <th>осень</th>\n",
       "      <th>summer_share</th>\n",
       "      <th>autumn_share</th>\n",
       "    </tr>\n",
       "  </thead>\n",
       "  <tbody>\n",
       "    <tr>\n",
       "      <th>3</th>\n",
       "      <td>16</td>\n",
       "      <td>33937</td>\n",
       "      <td>44443</td>\n",
       "      <td>0.282</td>\n",
       "      <td>0.262</td>\n",
       "    </tr>\n",
       "    <tr>\n",
       "      <th>2</th>\n",
       "      <td>12</td>\n",
       "      <td>24709</td>\n",
       "      <td>37575</td>\n",
       "      <td>0.206</td>\n",
       "      <td>0.221</td>\n",
       "    </tr>\n",
       "    <tr>\n",
       "      <th>1</th>\n",
       "      <td>6</td>\n",
       "      <td>21945</td>\n",
       "      <td>30174</td>\n",
       "      <td>0.183</td>\n",
       "      <td>0.178</td>\n",
       "    </tr>\n",
       "    <tr>\n",
       "      <th>0</th>\n",
       "      <td>0</td>\n",
       "      <td>21608</td>\n",
       "      <td>39865</td>\n",
       "      <td>0.180</td>\n",
       "      <td>0.235</td>\n",
       "    </tr>\n",
       "    <tr>\n",
       "      <th>4</th>\n",
       "      <td>18</td>\n",
       "      <td>17963</td>\n",
       "      <td>17763</td>\n",
       "      <td>0.149</td>\n",
       "      <td>0.105</td>\n",
       "    </tr>\n",
       "  </tbody>\n",
       "</table>\n",
       "</div>"
      ],
      "text/plain": [
       "season  age_limit   лето  осень  summer_share  autumn_share\n",
       "3              16  33937  44443         0.282         0.262\n",
       "2              12  24709  37575         0.206         0.221\n",
       "1               6  21945  30174         0.183         0.178\n",
       "0               0  21608  39865         0.180         0.235\n",
       "4              18  17963  17763         0.149         0.105"
      ]
     },
     "execution_count": 73,
     "metadata": {},
     "output_type": "execute_result"
    }
   ],
   "source": [
    "# Сравним доли в летний и осенний сезоны\n",
    "age_limits =  orders_events_tenge_df.groupby(['season','age_limit'])['order_id'].count().unstack().T.reset_index()\n",
    "age_limits['summer_share'] = round(age_limits['лето']/age_limits['лето'].sum() ,3 )\n",
    "age_limits['autumn_share'] = round(age_limits['осень']/age_limits['осень'].sum(), 3)\n",
    "age_limits.sort_values('лето', ascending = False)"
   ]
  },
  {
   "cell_type": "markdown",
   "id": "2b77d8f7",
   "metadata": {},
   "source": [
    "На первом месте находятся мероприятия для возраста 16 лет, летом количество заказов составляло 28.2%, осенью видим снижение - 26.2%\n",
    "\n",
    "На втором месте мероприятия для 12-ти лет, летом 20.6%, осенью же увеличение количества заказов - 22.1%\n",
    "\n",
    "На третьем и четвёртом месте мероприятия для 0 и для 18-летних пользователей, повышение для 0: летом - 18%, осенью - 23.5% и для 18-ти лет: летом 14.9% и 10.5% соответственно"
   ]
  },
  {
   "cell_type": "markdown",
   "id": "c62918a0",
   "metadata": {},
   "source": [
    "#### Изменение выручки с продажи одного билета"
   ]
  },
  {
   "cell_type": "code",
   "execution_count": 74,
   "id": "b9586dc0",
   "metadata": {},
   "outputs": [
    {
     "data": {
      "text/html": [
       "<div>\n",
       "<style scoped>\n",
       "    .dataframe tbody tr th:only-of-type {\n",
       "        vertical-align: middle;\n",
       "    }\n",
       "\n",
       "    .dataframe tbody tr th {\n",
       "        vertical-align: top;\n",
       "    }\n",
       "\n",
       "    .dataframe thead th {\n",
       "        text-align: right;\n",
       "    }\n",
       "</style>\n",
       "<table border=\"1\" class=\"dataframe\">\n",
       "  <thead>\n",
       "    <tr style=\"text-align: right;\">\n",
       "      <th></th>\n",
       "      <th>season</th>\n",
       "      <th>event_type_main</th>\n",
       "      <th>revenue_rub</th>\n",
       "    </tr>\n",
       "  </thead>\n",
       "  <tbody>\n",
       "    <tr>\n",
       "      <th>0</th>\n",
       "      <td>лето</td>\n",
       "      <td>выставки</td>\n",
       "      <td>228.38</td>\n",
       "    </tr>\n",
       "    <tr>\n",
       "      <th>1</th>\n",
       "      <td>лето</td>\n",
       "      <td>другое</td>\n",
       "      <td>245.97</td>\n",
       "    </tr>\n",
       "    <tr>\n",
       "      <th>2</th>\n",
       "      <td>лето</td>\n",
       "      <td>концерты</td>\n",
       "      <td>826.74</td>\n",
       "    </tr>\n",
       "    <tr>\n",
       "      <th>3</th>\n",
       "      <td>лето</td>\n",
       "      <td>спорт</td>\n",
       "      <td>151.47</td>\n",
       "    </tr>\n",
       "    <tr>\n",
       "      <th>4</th>\n",
       "      <td>лето</td>\n",
       "      <td>стендап</td>\n",
       "      <td>660.57</td>\n",
       "    </tr>\n",
       "    <tr>\n",
       "      <th>5</th>\n",
       "      <td>лето</td>\n",
       "      <td>театр</td>\n",
       "      <td>601.94</td>\n",
       "    </tr>\n",
       "    <tr>\n",
       "      <th>6</th>\n",
       "      <td>лето</td>\n",
       "      <td>ёлки</td>\n",
       "      <td>822.19</td>\n",
       "    </tr>\n",
       "    <tr>\n",
       "      <th>7</th>\n",
       "      <td>осень</td>\n",
       "      <td>выставки</td>\n",
       "      <td>237.39</td>\n",
       "    </tr>\n",
       "    <tr>\n",
       "      <th>8</th>\n",
       "      <td>осень</td>\n",
       "      <td>другое</td>\n",
       "      <td>230.35</td>\n",
       "    </tr>\n",
       "    <tr>\n",
       "      <th>9</th>\n",
       "      <td>осень</td>\n",
       "      <td>концерты</td>\n",
       "      <td>736.76</td>\n",
       "    </tr>\n",
       "    <tr>\n",
       "      <th>10</th>\n",
       "      <td>осень</td>\n",
       "      <td>спорт</td>\n",
       "      <td>153.33</td>\n",
       "    </tr>\n",
       "    <tr>\n",
       "      <th>11</th>\n",
       "      <td>осень</td>\n",
       "      <td>стендап</td>\n",
       "      <td>684.18</td>\n",
       "    </tr>\n",
       "    <tr>\n",
       "      <th>12</th>\n",
       "      <td>осень</td>\n",
       "      <td>театр</td>\n",
       "      <td>497.28</td>\n",
       "    </tr>\n",
       "    <tr>\n",
       "      <th>13</th>\n",
       "      <td>осень</td>\n",
       "      <td>ёлки</td>\n",
       "      <td>760.91</td>\n",
       "    </tr>\n",
       "  </tbody>\n",
       "</table>\n",
       "</div>"
      ],
      "text/plain": [
       "   season event_type_main  revenue_rub\n",
       "0    лето        выставки       228.38\n",
       "1    лето          другое       245.97\n",
       "2    лето        концерты       826.74\n",
       "3    лето           спорт       151.47\n",
       "4    лето         стендап       660.57\n",
       "5    лето           театр       601.94\n",
       "6    лето            ёлки       822.19\n",
       "7   осень        выставки       237.39\n",
       "8   осень          другое       230.35\n",
       "9   осень        концерты       736.76\n",
       "10  осень           спорт       153.33\n",
       "11  осень         стендап       684.18\n",
       "12  осень           театр       497.28\n",
       "13  осень            ёлки       760.91"
      ]
     },
     "execution_count": 74,
     "metadata": {},
     "output_type": "execute_result"
    }
   ],
   "source": [
    "# Посчитаем среднюю выручку с 1 билета в каждой категории мероприятий летом и осенью\n",
    "avg_revenue_per_ticket = round(orders_events_tenge_df.groupby(['season','event_type_main'], as_index = False)['revenue_rub'].mean(),2)\n",
    "avg_revenue_per_ticket"
   ]
  },
  {
   "cell_type": "code",
   "execution_count": 75,
   "id": "386035d6",
   "metadata": {},
   "outputs": [
    {
     "data": {
      "text/html": [
       "<div>\n",
       "<style scoped>\n",
       "    .dataframe tbody tr th:only-of-type {\n",
       "        vertical-align: middle;\n",
       "    }\n",
       "\n",
       "    .dataframe tbody tr th {\n",
       "        vertical-align: top;\n",
       "    }\n",
       "\n",
       "    .dataframe thead th {\n",
       "        text-align: right;\n",
       "    }\n",
       "</style>\n",
       "<table border=\"1\" class=\"dataframe\">\n",
       "  <thead>\n",
       "    <tr style=\"text-align: right;\">\n",
       "      <th></th>\n",
       "      <th>season</th>\n",
       "      <th>event_type_main</th>\n",
       "      <th>revenue_rub</th>\n",
       "      <th>sums</th>\n",
       "      <th>share</th>\n",
       "    </tr>\n",
       "  </thead>\n",
       "  <tbody>\n",
       "    <tr>\n",
       "      <th>0</th>\n",
       "      <td>лето</td>\n",
       "      <td>выставки</td>\n",
       "      <td>228.38</td>\n",
       "      <td>3537.26</td>\n",
       "      <td>0.065</td>\n",
       "    </tr>\n",
       "    <tr>\n",
       "      <th>1</th>\n",
       "      <td>лето</td>\n",
       "      <td>другое</td>\n",
       "      <td>245.97</td>\n",
       "      <td>3537.26</td>\n",
       "      <td>0.070</td>\n",
       "    </tr>\n",
       "    <tr>\n",
       "      <th>2</th>\n",
       "      <td>лето</td>\n",
       "      <td>концерты</td>\n",
       "      <td>826.74</td>\n",
       "      <td>3537.26</td>\n",
       "      <td>0.234</td>\n",
       "    </tr>\n",
       "    <tr>\n",
       "      <th>3</th>\n",
       "      <td>лето</td>\n",
       "      <td>спорт</td>\n",
       "      <td>151.47</td>\n",
       "      <td>3537.26</td>\n",
       "      <td>0.043</td>\n",
       "    </tr>\n",
       "    <tr>\n",
       "      <th>4</th>\n",
       "      <td>лето</td>\n",
       "      <td>стендап</td>\n",
       "      <td>660.57</td>\n",
       "      <td>3537.26</td>\n",
       "      <td>0.187</td>\n",
       "    </tr>\n",
       "    <tr>\n",
       "      <th>5</th>\n",
       "      <td>лето</td>\n",
       "      <td>театр</td>\n",
       "      <td>601.94</td>\n",
       "      <td>3537.26</td>\n",
       "      <td>0.170</td>\n",
       "    </tr>\n",
       "    <tr>\n",
       "      <th>6</th>\n",
       "      <td>лето</td>\n",
       "      <td>ёлки</td>\n",
       "      <td>822.19</td>\n",
       "      <td>3537.26</td>\n",
       "      <td>0.232</td>\n",
       "    </tr>\n",
       "    <tr>\n",
       "      <th>7</th>\n",
       "      <td>осень</td>\n",
       "      <td>выставки</td>\n",
       "      <td>237.39</td>\n",
       "      <td>3300.20</td>\n",
       "      <td>0.072</td>\n",
       "    </tr>\n",
       "    <tr>\n",
       "      <th>8</th>\n",
       "      <td>осень</td>\n",
       "      <td>другое</td>\n",
       "      <td>230.35</td>\n",
       "      <td>3300.20</td>\n",
       "      <td>0.070</td>\n",
       "    </tr>\n",
       "    <tr>\n",
       "      <th>9</th>\n",
       "      <td>осень</td>\n",
       "      <td>концерты</td>\n",
       "      <td>736.76</td>\n",
       "      <td>3300.20</td>\n",
       "      <td>0.223</td>\n",
       "    </tr>\n",
       "    <tr>\n",
       "      <th>10</th>\n",
       "      <td>осень</td>\n",
       "      <td>спорт</td>\n",
       "      <td>153.33</td>\n",
       "      <td>3300.20</td>\n",
       "      <td>0.046</td>\n",
       "    </tr>\n",
       "    <tr>\n",
       "      <th>11</th>\n",
       "      <td>осень</td>\n",
       "      <td>стендап</td>\n",
       "      <td>684.18</td>\n",
       "      <td>3300.20</td>\n",
       "      <td>0.207</td>\n",
       "    </tr>\n",
       "    <tr>\n",
       "      <th>12</th>\n",
       "      <td>осень</td>\n",
       "      <td>театр</td>\n",
       "      <td>497.28</td>\n",
       "      <td>3300.20</td>\n",
       "      <td>0.151</td>\n",
       "    </tr>\n",
       "    <tr>\n",
       "      <th>13</th>\n",
       "      <td>осень</td>\n",
       "      <td>ёлки</td>\n",
       "      <td>760.91</td>\n",
       "      <td>3300.20</td>\n",
       "      <td>0.231</td>\n",
       "    </tr>\n",
       "  </tbody>\n",
       "</table>\n",
       "</div>"
      ],
      "text/plain": [
       "   season event_type_main  revenue_rub     sums  share\n",
       "0    лето        выставки       228.38  3537.26  0.065\n",
       "1    лето          другое       245.97  3537.26  0.070\n",
       "2    лето        концерты       826.74  3537.26  0.234\n",
       "3    лето           спорт       151.47  3537.26  0.043\n",
       "4    лето         стендап       660.57  3537.26  0.187\n",
       "5    лето           театр       601.94  3537.26  0.170\n",
       "6    лето            ёлки       822.19  3537.26  0.232\n",
       "7   осень        выставки       237.39  3300.20  0.072\n",
       "8   осень          другое       230.35  3300.20  0.070\n",
       "9   осень        концерты       736.76  3300.20  0.223\n",
       "10  осень           спорт       153.33  3300.20  0.046\n",
       "11  осень         стендап       684.18  3300.20  0.207\n",
       "12  осень           театр       497.28  3300.20  0.151\n",
       "13  осень            ёлки       760.91  3300.20  0.231"
      ]
     },
     "execution_count": 75,
     "metadata": {},
     "output_type": "execute_result"
    }
   ],
   "source": [
    "# Посчитаем в долях для построения диаграммы\n",
    "ticket_sum = avg_revenue_per_ticket.groupby('season')['revenue_rub'].sum()\n",
    "\n",
    "avg_revenue_per_ticket['sums'] = avg_revenue_per_ticket['season'].map(ticket_sum)\n",
    "\n",
    "avg_revenue_per_ticket['share'] = round(avg_revenue_per_ticket['revenue_rub']/avg_revenue_per_ticket['sums'] , 3)\n",
    "avg_revenue_per_ticket"
   ]
  },
  {
   "cell_type": "code",
   "execution_count": 76,
   "id": "05cac039",
   "metadata": {},
   "outputs": [
    {
     "data": {
      "image/png": "[encoded data removed]",
      "text/plain": [
       "<Figure size 864x576 with 1 Axes>"
      ]
     },
     "metadata": {
      "needs_background": "light"
     },
     "output_type": "display_data"
    }
   ],
   "source": [
    "plt.figure(figsize = (12, 8)) \n",
    "sns.barplot(data = avg_revenue_per_ticket,\n",
    "            x = 'event_type_main', \n",
    "            y = 'share',\n",
    "            hue = 'season',  \n",
    "            palette = (['yellow', 'purple']),\n",
    "            edgecolor = 'black'       \n",
    "           )\n",
    "\n",
    "plt.xlabel('')\n",
    "plt.ylabel('Доля')\n",
    "plt.grid(axis = 'y')\n",
    "plt.title('Средняя выручка с 1 билета в разных категориях мероприятий в разные сезоны')\n",
    "plt.show()"
   ]
  },
  {
   "cell_type": "code",
   "execution_count": 77,
   "id": "d99895ce",
   "metadata": {},
   "outputs": [
    {
     "data": {
      "text/html": [
       "<div>\n",
       "<style scoped>\n",
       "    .dataframe tbody tr th:only-of-type {\n",
       "        vertical-align: middle;\n",
       "    }\n",
       "\n",
       "    .dataframe tbody tr th {\n",
       "        vertical-align: top;\n",
       "    }\n",
       "\n",
       "    .dataframe thead th {\n",
       "        text-align: right;\n",
       "    }\n",
       "</style>\n",
       "<table border=\"1\" class=\"dataframe\">\n",
       "  <thead>\n",
       "    <tr style=\"text-align: right;\">\n",
       "      <th>season</th>\n",
       "      <th>event_type_main</th>\n",
       "      <th>лето</th>\n",
       "      <th>осень</th>\n",
       "      <th>diff</th>\n",
       "      <th>rel</th>\n",
       "    </tr>\n",
       "  </thead>\n",
       "  <tbody>\n",
       "    <tr>\n",
       "      <th>0</th>\n",
       "      <td>выставки</td>\n",
       "      <td>228.381672</td>\n",
       "      <td>237.394592</td>\n",
       "      <td>9.01</td>\n",
       "      <td>0.039</td>\n",
       "    </tr>\n",
       "    <tr>\n",
       "      <th>1</th>\n",
       "      <td>другое</td>\n",
       "      <td>245.974819</td>\n",
       "      <td>230.350079</td>\n",
       "      <td>-15.62</td>\n",
       "      <td>-0.064</td>\n",
       "    </tr>\n",
       "    <tr>\n",
       "      <th>2</th>\n",
       "      <td>концерты</td>\n",
       "      <td>826.740986</td>\n",
       "      <td>736.758622</td>\n",
       "      <td>-89.98</td>\n",
       "      <td>-0.109</td>\n",
       "    </tr>\n",
       "    <tr>\n",
       "      <th>3</th>\n",
       "      <td>спорт</td>\n",
       "      <td>151.471807</td>\n",
       "      <td>153.329161</td>\n",
       "      <td>1.86</td>\n",
       "      <td>0.012</td>\n",
       "    </tr>\n",
       "    <tr>\n",
       "      <th>4</th>\n",
       "      <td>стендап</td>\n",
       "      <td>660.565123</td>\n",
       "      <td>684.184633</td>\n",
       "      <td>23.62</td>\n",
       "      <td>0.036</td>\n",
       "    </tr>\n",
       "    <tr>\n",
       "      <th>5</th>\n",
       "      <td>театр</td>\n",
       "      <td>601.938994</td>\n",
       "      <td>497.278069</td>\n",
       "      <td>-104.66</td>\n",
       "      <td>-0.174</td>\n",
       "    </tr>\n",
       "    <tr>\n",
       "      <th>6</th>\n",
       "      <td>ёлки</td>\n",
       "      <td>822.187782</td>\n",
       "      <td>760.905076</td>\n",
       "      <td>-61.28</td>\n",
       "      <td>-0.075</td>\n",
       "    </tr>\n",
       "  </tbody>\n",
       "</table>\n",
       "</div>"
      ],
      "text/plain": [
       "season event_type_main        лето       осень    diff    rel\n",
       "0             выставки  228.381672  237.394592    9.01  0.039\n",
       "1               другое  245.974819  230.350079  -15.62 -0.064\n",
       "2             концерты  826.740986  736.758622  -89.98 -0.109\n",
       "3                спорт  151.471807  153.329161    1.86  0.012\n",
       "4              стендап  660.565123  684.184633   23.62  0.036\n",
       "5                театр  601.938994  497.278069 -104.66 -0.174\n",
       "6                 ёлки  822.187782  760.905076  -61.28 -0.075"
      ]
     },
     "execution_count": 77,
     "metadata": {},
     "output_type": "execute_result"
    }
   ],
   "source": [
    "# Найдем  изменение выручки с 1 билета осенью в сравнении с летом\n",
    "change = orders_events_tenge_df.groupby(['season','event_type_main'])['revenue_rub'].mean().unstack().T.reset_index()\n",
    "change ['diff'] =  round(change ['осень'] - change ['лето'] ,2 )  \n",
    "change ['rel'] = round(change ['diff']/change ['лето'] , 3)  \n",
    "change"
   ]
  },
  {
   "cell_type": "markdown",
   "id": "7a15f6a0",
   "metadata": {},
   "source": [
    "По данным средня выручка возросла с 1 билета в категориях выставки(+3.9%), спорт(+1,2%), стендап(3,6%)\n",
    "\n",
    "Средняя выручка снизилась в категориях другое(-6,4%), концерты(-10,9%), театр(-17,4%), ёлки(-7,5%)\n",
    "\n",
    "Мы можем заметить рост количества заказов осенью по сравнению с летним периодом"
   ]
  },
  {
   "cell_type": "markdown",
   "id": "f3dac44e",
   "metadata": {},
   "source": [
    "### Осенняя активность пользователей"
   ]
  },
  {
   "cell_type": "markdown",
   "id": "8b62645b",
   "metadata": {},
   "source": [
    "#### Динамика изменений по дням"
   ]
  },
  {
   "cell_type": "code",
   "execution_count": 78,
   "id": "064d07ff",
   "metadata": {},
   "outputs": [
    {
     "data": {
      "text/html": [
       "<div>\n",
       "<style scoped>\n",
       "    .dataframe tbody tr th:only-of-type {\n",
       "        vertical-align: middle;\n",
       "    }\n",
       "\n",
       "    .dataframe tbody tr th {\n",
       "        vertical-align: top;\n",
       "    }\n",
       "\n",
       "    .dataframe thead th {\n",
       "        text-align: right;\n",
       "    }\n",
       "</style>\n",
       "<table border=\"1\" class=\"dataframe\">\n",
       "  <thead>\n",
       "    <tr style=\"text-align: right;\">\n",
       "      <th></th>\n",
       "      <th>order_id</th>\n",
       "      <th>user_id</th>\n",
       "      <th>created_dt_msk</th>\n",
       "      <th>created_ts_msk</th>\n",
       "      <th>event_id</th>\n",
       "      <th>cinema_circuit</th>\n",
       "      <th>age_limit</th>\n",
       "      <th>currency_code</th>\n",
       "      <th>device_type_canonical</th>\n",
       "      <th>revenue</th>\n",
       "      <th>...</th>\n",
       "      <th>venue_address</th>\n",
       "      <th>data</th>\n",
       "      <th>nominal</th>\n",
       "      <th>curs</th>\n",
       "      <th>cdx</th>\n",
       "      <th>revenue_rub</th>\n",
       "      <th>one_ticket_revenue_rub</th>\n",
       "      <th>month</th>\n",
       "      <th>monthname</th>\n",
       "      <th>season</th>\n",
       "    </tr>\n",
       "  </thead>\n",
       "  <tbody>\n",
       "    <tr>\n",
       "      <th>8058</th>\n",
       "      <td>4222372</td>\n",
       "      <td>0beb8fc0c0a9ce1</td>\n",
       "      <td>2024-10-21</td>\n",
       "      <td>2024-10-21 14:14:26</td>\n",
       "      <td>169230</td>\n",
       "      <td>нет</td>\n",
       "      <td>16</td>\n",
       "      <td>rub</td>\n",
       "      <td>mobile</td>\n",
       "      <td>1521.94</td>\n",
       "      <td>...</td>\n",
       "      <td>алл. Машиностроителей, д. 19 стр. 6</td>\n",
       "      <td>2024-10-21</td>\n",
       "      <td>100</td>\n",
       "      <td>19.7884</td>\n",
       "      <td>kzt</td>\n",
       "      <td>1521.94</td>\n",
       "      <td>380.48</td>\n",
       "      <td>10</td>\n",
       "      <td>October</td>\n",
       "      <td>осень</td>\n",
       "    </tr>\n",
       "    <tr>\n",
       "      <th>8059</th>\n",
       "      <td>3188290</td>\n",
       "      <td>fc950d43881de43</td>\n",
       "      <td>2024-10-21</td>\n",
       "      <td>2024-10-21 21:42:42</td>\n",
       "      <td>169230</td>\n",
       "      <td>нет</td>\n",
       "      <td>16</td>\n",
       "      <td>rub</td>\n",
       "      <td>mobile</td>\n",
       "      <td>1141.45</td>\n",
       "      <td>...</td>\n",
       "      <td>алл. Машиностроителей, д. 19 стр. 6</td>\n",
       "      <td>2024-10-21</td>\n",
       "      <td>100</td>\n",
       "      <td>19.7884</td>\n",
       "      <td>kzt</td>\n",
       "      <td>1141.45</td>\n",
       "      <td>380.48</td>\n",
       "      <td>10</td>\n",
       "      <td>October</td>\n",
       "      <td>осень</td>\n",
       "    </tr>\n",
       "    <tr>\n",
       "      <th>8060</th>\n",
       "      <td>2217370</td>\n",
       "      <td>b11294e5f3e6da6</td>\n",
       "      <td>2024-10-21</td>\n",
       "      <td>2024-10-21 14:05:34</td>\n",
       "      <td>237325</td>\n",
       "      <td>нет</td>\n",
       "      <td>0</td>\n",
       "      <td>rub</td>\n",
       "      <td>mobile</td>\n",
       "      <td>289.45</td>\n",
       "      <td>...</td>\n",
       "      <td>алл. Шмидта, д. 9 стр. 4</td>\n",
       "      <td>2024-10-21</td>\n",
       "      <td>100</td>\n",
       "      <td>19.7884</td>\n",
       "      <td>kzt</td>\n",
       "      <td>289.45</td>\n",
       "      <td>144.72</td>\n",
       "      <td>10</td>\n",
       "      <td>October</td>\n",
       "      <td>осень</td>\n",
       "    </tr>\n",
       "    <tr>\n",
       "      <th>8061</th>\n",
       "      <td>7926136</td>\n",
       "      <td>b5ecbee7c8fe379</td>\n",
       "      <td>2024-10-21</td>\n",
       "      <td>2024-10-21 21:36:31</td>\n",
       "      <td>237325</td>\n",
       "      <td>нет</td>\n",
       "      <td>0</td>\n",
       "      <td>rub</td>\n",
       "      <td>mobile</td>\n",
       "      <td>434.18</td>\n",
       "      <td>...</td>\n",
       "      <td>алл. Шмидта, д. 9 стр. 4</td>\n",
       "      <td>2024-10-21</td>\n",
       "      <td>100</td>\n",
       "      <td>19.7884</td>\n",
       "      <td>kzt</td>\n",
       "      <td>434.18</td>\n",
       "      <td>144.73</td>\n",
       "      <td>10</td>\n",
       "      <td>October</td>\n",
       "      <td>осень</td>\n",
       "    </tr>\n",
       "    <tr>\n",
       "      <th>8062</th>\n",
       "      <td>7453001</td>\n",
       "      <td>c87b8d1ab30ce07</td>\n",
       "      <td>2024-10-21</td>\n",
       "      <td>2024-10-21 10:19:19</td>\n",
       "      <td>578454</td>\n",
       "      <td>нет</td>\n",
       "      <td>0</td>\n",
       "      <td>rub</td>\n",
       "      <td>mobile</td>\n",
       "      <td>1258.57</td>\n",
       "      <td>...</td>\n",
       "      <td>алл. Юбилейная, д. 5/6</td>\n",
       "      <td>2024-10-21</td>\n",
       "      <td>100</td>\n",
       "      <td>19.7884</td>\n",
       "      <td>kzt</td>\n",
       "      <td>1258.57</td>\n",
       "      <td>314.64</td>\n",
       "      <td>10</td>\n",
       "      <td>October</td>\n",
       "      <td>осень</td>\n",
       "    </tr>\n",
       "  </tbody>\n",
       "</table>\n",
       "<p>5 rows × 33 columns</p>\n",
       "</div>"
      ],
      "text/plain": [
       "      order_id          user_id created_dt_msk      created_ts_msk  event_id  \\\n",
       "8058   4222372  0beb8fc0c0a9ce1     2024-10-21 2024-10-21 14:14:26    169230   \n",
       "8059   3188290  fc950d43881de43     2024-10-21 2024-10-21 21:42:42    169230   \n",
       "8060   2217370  b11294e5f3e6da6     2024-10-21 2024-10-21 14:05:34    237325   \n",
       "8061   7926136  b5ecbee7c8fe379     2024-10-21 2024-10-21 21:36:31    237325   \n",
       "8062   7453001  c87b8d1ab30ce07     2024-10-21 2024-10-21 10:19:19    578454   \n",
       "\n",
       "     cinema_circuit  age_limit currency_code device_type_canonical  revenue  \\\n",
       "8058            нет         16           rub                mobile  1521.94   \n",
       "8059            нет         16           rub                mobile  1141.45   \n",
       "8060            нет          0           rub                mobile   289.45   \n",
       "8061            нет          0           rub                mobile   434.18   \n",
       "8062            нет          0           rub                mobile  1258.57   \n",
       "\n",
       "      ...                        venue_address       data  nominal     curs  \\\n",
       "8058  ...  алл. Машиностроителей, д. 19 стр. 6 2024-10-21      100  19.7884   \n",
       "8059  ...  алл. Машиностроителей, д. 19 стр. 6 2024-10-21      100  19.7884   \n",
       "8060  ...             алл. Шмидта, д. 9 стр. 4 2024-10-21      100  19.7884   \n",
       "8061  ...             алл. Шмидта, д. 9 стр. 4 2024-10-21      100  19.7884   \n",
       "8062  ...               алл. Юбилейная, д. 5/6 2024-10-21      100  19.7884   \n",
       "\n",
       "      cdx revenue_rub one_ticket_revenue_rub month monthname season  \n",
       "8058  kzt     1521.94                 380.48    10   October  осень  \n",
       "8059  kzt     1141.45                 380.48    10   October  осень  \n",
       "8060  kzt      289.45                 144.72    10   October  осень  \n",
       "8061  kzt      434.18                 144.73    10   October  осень  \n",
       "8062  kzt     1258.57                 314.64    10   October  осень  \n",
       "\n",
       "[5 rows x 33 columns]"
      ]
     },
     "execution_count": 78,
     "metadata": {},
     "output_type": "execute_result"
    }
   ],
   "source": [
    "# В отдельный датафрейм вынесем осень\n",
    "autumn_df = orders_events_tenge_df[orders_events_tenge_df['season'] == 'осень']\n",
    "autumn_df.head()"
   ]
  },
  {
   "cell_type": "code",
   "execution_count": 79,
   "id": "608ee4c9",
   "metadata": {},
   "outputs": [
    {
     "data": {
      "text/html": [
       "<div>\n",
       "<style scoped>\n",
       "    .dataframe tbody tr th:only-of-type {\n",
       "        vertical-align: middle;\n",
       "    }\n",
       "\n",
       "    .dataframe tbody tr th {\n",
       "        vertical-align: top;\n",
       "    }\n",
       "\n",
       "    .dataframe thead th {\n",
       "        text-align: right;\n",
       "    }\n",
       "</style>\n",
       "<table border=\"1\" class=\"dataframe\">\n",
       "  <thead>\n",
       "    <tr style=\"text-align: right;\">\n",
       "      <th></th>\n",
       "      <th>order_id</th>\n",
       "      <th>revenue_rub</th>\n",
       "      <th>user_id</th>\n",
       "      <th>orders_per_user</th>\n",
       "    </tr>\n",
       "    <tr>\n",
       "      <th>created_dt_msk</th>\n",
       "      <th></th>\n",
       "      <th></th>\n",
       "      <th></th>\n",
       "      <th></th>\n",
       "    </tr>\n",
       "  </thead>\n",
       "  <tbody>\n",
       "    <tr>\n",
       "      <th>2024-09-01</th>\n",
       "      <td>1346</td>\n",
       "      <td>580.0</td>\n",
       "      <td>569</td>\n",
       "      <td>2.37</td>\n",
       "    </tr>\n",
       "    <tr>\n",
       "      <th>2024-09-02</th>\n",
       "      <td>1388</td>\n",
       "      <td>525.0</td>\n",
       "      <td>578</td>\n",
       "      <td>2.40</td>\n",
       "    </tr>\n",
       "    <tr>\n",
       "      <th>2024-09-03</th>\n",
       "      <td>5120</td>\n",
       "      <td>230.0</td>\n",
       "      <td>782</td>\n",
       "      <td>6.55</td>\n",
       "    </tr>\n",
       "    <tr>\n",
       "      <th>2024-09-04</th>\n",
       "      <td>1780</td>\n",
       "      <td>495.0</td>\n",
       "      <td>688</td>\n",
       "      <td>2.59</td>\n",
       "    </tr>\n",
       "    <tr>\n",
       "      <th>2024-09-05</th>\n",
       "      <td>1957</td>\n",
       "      <td>526.0</td>\n",
       "      <td>744</td>\n",
       "      <td>2.63</td>\n",
       "    </tr>\n",
       "    <tr>\n",
       "      <th>...</th>\n",
       "      <td>...</td>\n",
       "      <td>...</td>\n",
       "      <td>...</td>\n",
       "      <td>...</td>\n",
       "    </tr>\n",
       "    <tr>\n",
       "      <th>2024-10-27</th>\n",
       "      <td>2864</td>\n",
       "      <td>525.0</td>\n",
       "      <td>1037</td>\n",
       "      <td>2.76</td>\n",
       "    </tr>\n",
       "    <tr>\n",
       "      <th>2024-10-28</th>\n",
       "      <td>2851</td>\n",
       "      <td>489.0</td>\n",
       "      <td>987</td>\n",
       "      <td>2.89</td>\n",
       "    </tr>\n",
       "    <tr>\n",
       "      <th>2024-10-29</th>\n",
       "      <td>2886</td>\n",
       "      <td>517.0</td>\n",
       "      <td>1002</td>\n",
       "      <td>2.88</td>\n",
       "    </tr>\n",
       "    <tr>\n",
       "      <th>2024-10-30</th>\n",
       "      <td>2957</td>\n",
       "      <td>525.0</td>\n",
       "      <td>1048</td>\n",
       "      <td>2.82</td>\n",
       "    </tr>\n",
       "    <tr>\n",
       "      <th>2024-10-31</th>\n",
       "      <td>5988</td>\n",
       "      <td>400.0</td>\n",
       "      <td>1281</td>\n",
       "      <td>4.67</td>\n",
       "    </tr>\n",
       "  </tbody>\n",
       "</table>\n",
       "<p>61 rows × 4 columns</p>\n",
       "</div>"
      ],
      "text/plain": [
       "                order_id  revenue_rub  user_id  orders_per_user\n",
       "created_dt_msk                                                 \n",
       "2024-09-01          1346        580.0      569             2.37\n",
       "2024-09-02          1388        525.0      578             2.40\n",
       "2024-09-03          5120        230.0      782             6.55\n",
       "2024-09-04          1780        495.0      688             2.59\n",
       "2024-09-05          1957        526.0      744             2.63\n",
       "...                  ...          ...      ...              ...\n",
       "2024-10-27          2864        525.0     1037             2.76\n",
       "2024-10-28          2851        489.0      987             2.89\n",
       "2024-10-29          2886        517.0     1002             2.88\n",
       "2024-10-30          2957        525.0     1048             2.82\n",
       "2024-10-31          5988        400.0     1281             4.67\n",
       "\n",
       "[61 rows x 4 columns]"
      ]
     },
     "execution_count": 79,
     "metadata": {},
     "output_type": "execute_result"
    }
   ],
   "source": [
    "# Построим сводную таблицу \n",
    "table =  autumn_df.pivot_table(index = 'created_dt_msk',\n",
    "                           values = ['order_id', 'user_id', 'revenue_rub'],\n",
    "                           aggfunc = {'order_id': 'count', 'user_id': 'nunique','revenue_rub' : 'mean'})\n",
    "\n",
    "table['orders_per_user'] = round(table['order_id']/ table['user_id'] ,2)\n",
    "table['revenue_rub'] = table['revenue_rub'].round()\n",
    "table"
   ]
  },
  {
   "cell_type": "code",
   "execution_count": 80,
   "id": "3258180b",
   "metadata": {},
   "outputs": [
    {
     "data": {
      "image/png": "[encoded data removed]",
      "text/plain": [
       "<Figure size 1152x432 with 1 Axes>"
      ]
     },
     "metadata": {
      "needs_background": "light"
     },
     "output_type": "display_data"
    },
    {
     "data": {
      "image/png": "[encoded data removed]",
      "text/plain": [
       "<Figure size 1152x432 with 1 Axes>"
      ]
     },
     "metadata": {
      "needs_background": "light"
     },
     "output_type": "display_data"
    },
    {
     "data": {
      "image/png": "[encoded data removed]",
      "text/plain": [
       "<Figure size 1152x432 with 1 Axes>"
      ]
     },
     "metadata": {
      "needs_background": "light"
     },
     "output_type": "display_data"
    },
    {
     "data": {
      "image/png": "[encoded data removed]",
      "text/plain": [
       "<Figure size 1152x432 with 1 Axes>"
      ]
     },
     "metadata": {
      "needs_background": "light"
     },
     "output_type": "display_data"
    }
   ],
   "source": [
    "table.plot(kind = 'line',\n",
    "          y = 'order_id',\n",
    "           figsize = (16,6))\n",
    "\n",
    "# Добавляем подписи значений\n",
    "for x, y in zip(table.index, table['order_id']):\n",
    "    plt.text(x, y, f'{y}', \n",
    "             ha='center',  # выравнивание по горизонтали\n",
    "             va='bottom',  # выравнивание по вертикали\n",
    "             rotation=45,  # поворот текста\n",
    "             fontsize=8)\n",
    "\n",
    "plt.grid()\n",
    "plt.xlabel('Дата')\n",
    "plt.ylabel('Количество заказов')\n",
    "plt.title('Дневная динамика количества заказов в осенний период')\n",
    "plt.show()\n",
    "\n",
    "####\n",
    "\n",
    "table.plot(kind = 'line',\n",
    "          y = 'user_id',\n",
    "           figsize = (16,6))\n",
    "\n",
    "# Добавляем подписи значений\n",
    "for x, y in zip(table.index, table['user_id']):\n",
    "    plt.text(x, y, f'{y}', \n",
    "             ha='center',  # выравнивание по горизонтали\n",
    "             va='bottom',  # выравнивание по вертикали\n",
    "             rotation=45,  # поворот текста\n",
    "             fontsize=8)\n",
    "\n",
    "plt.grid()\n",
    "plt.xlabel('Дата')\n",
    "plt.ylabel('Количество уникальных пользователей')\n",
    "plt.title('Дневная динамика количества уникальных пользователей в осенний период')\n",
    "plt.show()\n",
    "\n",
    "####\n",
    "\n",
    "\n",
    "table.plot(kind = 'line',\n",
    "          y = 'orders_per_user',\n",
    "           figsize = (16,6))\n",
    "\n",
    "# Добавляем подписи значений\n",
    "for x, y in zip(table.index, table['orders_per_user']):\n",
    "    plt.text(x, y, f'{y}', \n",
    "             ha='center',  # выравнивание по горизонтали\n",
    "             va='bottom',  # выравнивание по вертикали\n",
    "             rotation=45,  # поворот текста\n",
    "             fontsize=8)\n",
    "\n",
    "plt.grid()\n",
    "plt.xlabel('Дата')\n",
    "plt.ylabel('Количество заказов')\n",
    "plt.title('Дневная динамика среднего количества заказов в день на пользователя в осенний период')\n",
    "plt.show()\n",
    "\n",
    "####\n",
    "\n",
    "table.plot(kind = 'line',\n",
    "          y = 'revenue_rub',\n",
    "           figsize = (16,6))\n",
    "\n",
    "# Добавляем подписи значений\n",
    "for x, y in zip(table.index, table['revenue_rub']):\n",
    "    plt.text(x, y, f'{y}', \n",
    "             ha='center',  # выравнивание по горизонтали\n",
    "             va='bottom',  # выравнивание по вертикали\n",
    "             rotation=45,  # поворот текста\n",
    "             fontsize=8)\n",
    "\n",
    "plt.grid()\n",
    "plt.xlabel('Дата')\n",
    "plt.ylabel('Выручка с 1 билета')\n",
    "plt.title('Дневная динамика выручки с 1 билета в осенний период')\n",
    "plt.show()"
   ]
  },
  {
   "cell_type": "markdown",
   "id": "4e2f68e8",
   "metadata": {},
   "source": [
    "**Общее количество заказов в день:** видим пики продаж в начале сентября, в конце сентября-начале октября и в конце октября, получается, что пики по количествам наблюдаются в начале и в конце месяца\n",
    "\n",
    "**Количество активных пользователей DAU:** здесь видим стабильное повышение активных пользователей с начала осени и по конец октября\n",
    "\n",
    "**Среднее число заказов на одного пользователя:** график идентичен данным графика общего количества заказов в день, пики высокого показателя приходятся на начало и конец месяцев\n",
    "\n",
    "**Средняя стоимость одного билета:** дневная выручка с 1 билета в пиковые дни продаж низкая и она полностью совпадает с пиками высокого количества заказов, скорее всего это обусловлено тем, что в эти дни проходят акции и билеты продаются по сниженным ценам (знаю, что такие акции есть в некоторых кинотеатрах, напимер есть акция по вторникам, когда билеты на 50% дешевле обычной стоимости и по средам также в некоторых кинотеатрах наблюдала такие акционные предложения)"
   ]
  },
  {
   "cell_type": "markdown",
   "id": "ff1a34df",
   "metadata": {},
   "source": [
    "#### Недельная цикличность"
   ]
  },
  {
   "cell_type": "code",
   "execution_count": 81,
   "id": "f6393633",
   "metadata": {},
   "outputs": [
    {
     "name": "stderr",
     "output_type": "stream",
     "text": [
      "/tmp/ipykernel_31/3037339460.py:2: SettingWithCopyWarning: \n",
      "A value is trying to be set on a copy of a slice from a DataFrame.\n",
      "Try using .loc[row_indexer,col_indexer] = value instead\n",
      "\n",
      "See the caveats in the documentation: https://pandas.pydata.org/pandas-docs/stable/user_guide/indexing.html#returning-a-view-versus-a-copy\n",
      "  autumn_df['day_of_week'] = autumn_df['created_dt_msk'].dt.weekday\n"
     ]
    }
   ],
   "source": [
    "# Добавим столбец,в котором выделим день недели day of week\n",
    "autumn_df['day_of_week'] = autumn_df['created_dt_msk'].dt.weekday"
   ]
  },
  {
   "cell_type": "code",
   "execution_count": 82,
   "id": "f82ded18",
   "metadata": {},
   "outputs": [
    {
     "name": "stderr",
     "output_type": "stream",
     "text": [
      "/tmp/ipykernel_31/2144430128.py:19: SettingWithCopyWarning: \n",
      "A value is trying to be set on a copy of a slice from a DataFrame.\n",
      "Try using .loc[row_indexer,col_indexer] = value instead\n",
      "\n",
      "See the caveats in the documentation: https://pandas.pydata.org/pandas-docs/stable/user_guide/indexing.html#returning-a-view-versus-a-copy\n",
      "  autumn_df['day_of_week_name'] = autumn_df['day_of_week'].apply(day_of_weekname)\n"
     ]
    },
    {
     "data": {
      "text/html": [
       "<div>\n",
       "<style scoped>\n",
       "    .dataframe tbody tr th:only-of-type {\n",
       "        vertical-align: middle;\n",
       "    }\n",
       "\n",
       "    .dataframe tbody tr th {\n",
       "        vertical-align: top;\n",
       "    }\n",
       "\n",
       "    .dataframe thead th {\n",
       "        text-align: right;\n",
       "    }\n",
       "</style>\n",
       "<table border=\"1\" class=\"dataframe\">\n",
       "  <thead>\n",
       "    <tr style=\"text-align: right;\">\n",
       "      <th></th>\n",
       "      <th>order_id</th>\n",
       "      <th>user_id</th>\n",
       "      <th>created_dt_msk</th>\n",
       "      <th>created_ts_msk</th>\n",
       "      <th>event_id</th>\n",
       "      <th>cinema_circuit</th>\n",
       "      <th>age_limit</th>\n",
       "      <th>currency_code</th>\n",
       "      <th>device_type_canonical</th>\n",
       "      <th>revenue</th>\n",
       "      <th>...</th>\n",
       "      <th>nominal</th>\n",
       "      <th>curs</th>\n",
       "      <th>cdx</th>\n",
       "      <th>revenue_rub</th>\n",
       "      <th>one_ticket_revenue_rub</th>\n",
       "      <th>month</th>\n",
       "      <th>monthname</th>\n",
       "      <th>season</th>\n",
       "      <th>day_of_week</th>\n",
       "      <th>day_of_week_name</th>\n",
       "    </tr>\n",
       "  </thead>\n",
       "  <tbody>\n",
       "    <tr>\n",
       "      <th>24469</th>\n",
       "      <td>571968</td>\n",
       "      <td>b9fbc0df8f0f203</td>\n",
       "      <td>2024-10-24</td>\n",
       "      <td>2024-10-24 19:21:41</td>\n",
       "      <td>294473</td>\n",
       "      <td>нет</td>\n",
       "      <td>16</td>\n",
       "      <td>rub</td>\n",
       "      <td>mobile</td>\n",
       "      <td>831.88</td>\n",
       "      <td>...</td>\n",
       "      <td>100</td>\n",
       "      <td>19.9587</td>\n",
       "      <td>kzt</td>\n",
       "      <td>831.88</td>\n",
       "      <td>277.29</td>\n",
       "      <td>10</td>\n",
       "      <td>October</td>\n",
       "      <td>осень</td>\n",
       "      <td>3</td>\n",
       "      <td>Четверг</td>\n",
       "    </tr>\n",
       "    <tr>\n",
       "      <th>233518</th>\n",
       "      <td>1095070</td>\n",
       "      <td>2564e3703075008</td>\n",
       "      <td>2024-09-05</td>\n",
       "      <td>2024-09-05 17:27:54</td>\n",
       "      <td>461844</td>\n",
       "      <td>нет</td>\n",
       "      <td>16</td>\n",
       "      <td>rub</td>\n",
       "      <td>mobile</td>\n",
       "      <td>58.57</td>\n",
       "      <td>...</td>\n",
       "      <td>100</td>\n",
       "      <td>18.4217</td>\n",
       "      <td>kzt</td>\n",
       "      <td>58.57</td>\n",
       "      <td>14.64</td>\n",
       "      <td>9</td>\n",
       "      <td>September</td>\n",
       "      <td>осень</td>\n",
       "      <td>3</td>\n",
       "      <td>Четверг</td>\n",
       "    </tr>\n",
       "    <tr>\n",
       "      <th>77536</th>\n",
       "      <td>3496763</td>\n",
       "      <td>baa9150d3e7cc39</td>\n",
       "      <td>2024-10-20</td>\n",
       "      <td>2024-10-20 14:03:34</td>\n",
       "      <td>319992</td>\n",
       "      <td>нет</td>\n",
       "      <td>0</td>\n",
       "      <td>rub</td>\n",
       "      <td>mobile</td>\n",
       "      <td>113.71</td>\n",
       "      <td>...</td>\n",
       "      <td>100</td>\n",
       "      <td>19.7884</td>\n",
       "      <td>kzt</td>\n",
       "      <td>113.71</td>\n",
       "      <td>37.90</td>\n",
       "      <td>10</td>\n",
       "      <td>October</td>\n",
       "      <td>осень</td>\n",
       "      <td>6</td>\n",
       "      <td>Воскресенье</td>\n",
       "    </tr>\n",
       "    <tr>\n",
       "      <th>66118</th>\n",
       "      <td>4896390</td>\n",
       "      <td>8d6c1ff89fac35f</td>\n",
       "      <td>2024-10-31</td>\n",
       "      <td>2024-10-31 21:29:25</td>\n",
       "      <td>589624</td>\n",
       "      <td>нет</td>\n",
       "      <td>16</td>\n",
       "      <td>rub</td>\n",
       "      <td>desktop</td>\n",
       "      <td>125.49</td>\n",
       "      <td>...</td>\n",
       "      <td>100</td>\n",
       "      <td>19.7383</td>\n",
       "      <td>kzt</td>\n",
       "      <td>125.49</td>\n",
       "      <td>41.83</td>\n",
       "      <td>10</td>\n",
       "      <td>October</td>\n",
       "      <td>осень</td>\n",
       "      <td>3</td>\n",
       "      <td>Четверг</td>\n",
       "    </tr>\n",
       "    <tr>\n",
       "      <th>57482</th>\n",
       "      <td>4901494</td>\n",
       "      <td>6c53f4c1f1210cc</td>\n",
       "      <td>2024-10-17</td>\n",
       "      <td>2024-10-17 13:22:27</td>\n",
       "      <td>161434</td>\n",
       "      <td>нет</td>\n",
       "      <td>12</td>\n",
       "      <td>rub</td>\n",
       "      <td>mobile</td>\n",
       "      <td>84.64</td>\n",
       "      <td>...</td>\n",
       "      <td>100</td>\n",
       "      <td>19.9534</td>\n",
       "      <td>kzt</td>\n",
       "      <td>84.64</td>\n",
       "      <td>28.21</td>\n",
       "      <td>10</td>\n",
       "      <td>October</td>\n",
       "      <td>осень</td>\n",
       "      <td>3</td>\n",
       "      <td>Четверг</td>\n",
       "    </tr>\n",
       "    <tr>\n",
       "      <th>35495</th>\n",
       "      <td>6480196</td>\n",
       "      <td>2a92d67b4597d1c</td>\n",
       "      <td>2024-10-30</td>\n",
       "      <td>2024-10-30 08:23:51</td>\n",
       "      <td>583621</td>\n",
       "      <td>нет</td>\n",
       "      <td>0</td>\n",
       "      <td>rub</td>\n",
       "      <td>mobile</td>\n",
       "      <td>36.36</td>\n",
       "      <td>...</td>\n",
       "      <td>100</td>\n",
       "      <td>19.9516</td>\n",
       "      <td>kzt</td>\n",
       "      <td>36.36</td>\n",
       "      <td>12.12</td>\n",
       "      <td>10</td>\n",
       "      <td>October</td>\n",
       "      <td>осень</td>\n",
       "      <td>2</td>\n",
       "      <td>Среда</td>\n",
       "    </tr>\n",
       "    <tr>\n",
       "      <th>212922</th>\n",
       "      <td>2131704</td>\n",
       "      <td>4c96e2a46134b1c</td>\n",
       "      <td>2024-10-15</td>\n",
       "      <td>2024-10-15 20:27:04</td>\n",
       "      <td>579028</td>\n",
       "      <td>нет</td>\n",
       "      <td>16</td>\n",
       "      <td>rub</td>\n",
       "      <td>mobile</td>\n",
       "      <td>473.82</td>\n",
       "      <td>...</td>\n",
       "      <td>100</td>\n",
       "      <td>19.7185</td>\n",
       "      <td>kzt</td>\n",
       "      <td>473.82</td>\n",
       "      <td>236.91</td>\n",
       "      <td>10</td>\n",
       "      <td>October</td>\n",
       "      <td>осень</td>\n",
       "      <td>1</td>\n",
       "      <td>Вторник</td>\n",
       "    </tr>\n",
       "  </tbody>\n",
       "</table>\n",
       "<p>7 rows × 35 columns</p>\n",
       "</div>"
      ],
      "text/plain": [
       "        order_id          user_id created_dt_msk      created_ts_msk  \\\n",
       "24469     571968  b9fbc0df8f0f203     2024-10-24 2024-10-24 19:21:41   \n",
       "233518   1095070  2564e3703075008     2024-09-05 2024-09-05 17:27:54   \n",
       "77536    3496763  baa9150d3e7cc39     2024-10-20 2024-10-20 14:03:34   \n",
       "66118    4896390  8d6c1ff89fac35f     2024-10-31 2024-10-31 21:29:25   \n",
       "57482    4901494  6c53f4c1f1210cc     2024-10-17 2024-10-17 13:22:27   \n",
       "35495    6480196  2a92d67b4597d1c     2024-10-30 2024-10-30 08:23:51   \n",
       "212922   2131704  4c96e2a46134b1c     2024-10-15 2024-10-15 20:27:04   \n",
       "\n",
       "        event_id cinema_circuit  age_limit currency_code  \\\n",
       "24469     294473            нет         16           rub   \n",
       "233518    461844            нет         16           rub   \n",
       "77536     319992            нет          0           rub   \n",
       "66118     589624            нет         16           rub   \n",
       "57482     161434            нет         12           rub   \n",
       "35495     583621            нет          0           rub   \n",
       "212922    579028            нет         16           rub   \n",
       "\n",
       "       device_type_canonical  revenue  ... nominal     curs  cdx  revenue_rub  \\\n",
       "24469                 mobile   831.88  ...     100  19.9587  kzt       831.88   \n",
       "233518                mobile    58.57  ...     100  18.4217  kzt        58.57   \n",
       "77536                 mobile   113.71  ...     100  19.7884  kzt       113.71   \n",
       "66118                desktop   125.49  ...     100  19.7383  kzt       125.49   \n",
       "57482                 mobile    84.64  ...     100  19.9534  kzt        84.64   \n",
       "35495                 mobile    36.36  ...     100  19.9516  kzt        36.36   \n",
       "212922                mobile   473.82  ...     100  19.7185  kzt       473.82   \n",
       "\n",
       "       one_ticket_revenue_rub month  monthname season day_of_week  \\\n",
       "24469                  277.29    10    October  осень           3   \n",
       "233518                  14.64     9  September  осень           3   \n",
       "77536                   37.90    10    October  осень           6   \n",
       "66118                   41.83    10    October  осень           3   \n",
       "57482                   28.21    10    October  осень           3   \n",
       "35495                   12.12    10    October  осень           2   \n",
       "212922                 236.91    10    October  осень           1   \n",
       "\n",
       "       day_of_week_name  \n",
       "24469           Четверг  \n",
       "233518          Четверг  \n",
       "77536       Воскресенье  \n",
       "66118           Четверг  \n",
       "57482           Четверг  \n",
       "35495             Среда  \n",
       "212922          Вторник  \n",
       "\n",
       "[7 rows x 35 columns]"
      ]
     },
     "execution_count": 82,
     "metadata": {},
     "output_type": "execute_result"
    }
   ],
   "source": [
    "#Создадим функцию, которая присвоит названия номерам дня недели,\n",
    "# и добавим название дня недели как новый столбец\n",
    "def day_of_weekname(day_of_week):  \n",
    "    if day_of_week == 0:\n",
    "        return 'Понедельник'\n",
    "    elif day_of_week == 1:  \n",
    "        return 'Вторник'\n",
    "    elif day_of_week == 2:\n",
    "        return 'Среда'\n",
    "    elif day_of_week == 3:\n",
    "        return 'Четверг'\n",
    "    elif day_of_week == 4:\n",
    "        return 'Пятница'\n",
    "    elif day_of_week == 5:\n",
    "        return 'Суббота'\n",
    "    else:\n",
    "        return 'Воскресенье'\n",
    "    \n",
    "autumn_df['day_of_week_name'] = autumn_df['day_of_week'].apply(day_of_weekname) \n",
    "autumn_df.sample(7)"
   ]
  },
  {
   "cell_type": "code",
   "execution_count": 83,
   "id": "10715dd2",
   "metadata": {},
   "outputs": [
    {
     "data": {
      "text/html": [
       "<div>\n",
       "<style scoped>\n",
       "    .dataframe tbody tr th:only-of-type {\n",
       "        vertical-align: middle;\n",
       "    }\n",
       "\n",
       "    .dataframe tbody tr th {\n",
       "        vertical-align: top;\n",
       "    }\n",
       "\n",
       "    .dataframe thead th {\n",
       "        text-align: right;\n",
       "    }\n",
       "</style>\n",
       "<table border=\"1\" class=\"dataframe\">\n",
       "  <thead>\n",
       "    <tr style=\"text-align: right;\">\n",
       "      <th></th>\n",
       "      <th>order_id</th>\n",
       "      <th>user_id</th>\n",
       "      <th>revenue_rub</th>\n",
       "    </tr>\n",
       "    <tr>\n",
       "      <th>day_of_week_name</th>\n",
       "      <th></th>\n",
       "      <th></th>\n",
       "      <th></th>\n",
       "    </tr>\n",
       "  </thead>\n",
       "  <tbody>\n",
       "    <tr>\n",
       "      <th>Понедельник</th>\n",
       "      <td>21660</td>\n",
       "      <td>4468</td>\n",
       "      <td>516.702127</td>\n",
       "    </tr>\n",
       "    <tr>\n",
       "      <th>Вторник</th>\n",
       "      <td>31687</td>\n",
       "      <td>4813</td>\n",
       "      <td>402.650112</td>\n",
       "    </tr>\n",
       "    <tr>\n",
       "      <th>Среда</th>\n",
       "      <td>23071</td>\n",
       "      <td>4845</td>\n",
       "      <td>523.410470</td>\n",
       "    </tr>\n",
       "    <tr>\n",
       "      <th>Четверг</th>\n",
       "      <td>27338</td>\n",
       "      <td>4992</td>\n",
       "      <td>494.370757</td>\n",
       "    </tr>\n",
       "    <tr>\n",
       "      <th>Пятница</th>\n",
       "      <td>25032</td>\n",
       "      <td>4889</td>\n",
       "      <td>527.534916</td>\n",
       "    </tr>\n",
       "    <tr>\n",
       "      <th>Суббота</th>\n",
       "      <td>21495</td>\n",
       "      <td>4594</td>\n",
       "      <td>546.574329</td>\n",
       "    </tr>\n",
       "    <tr>\n",
       "      <th>Воскресенье</th>\n",
       "      <td>19537</td>\n",
       "      <td>4409</td>\n",
       "      <td>558.636429</td>\n",
       "    </tr>\n",
       "  </tbody>\n",
       "</table>\n",
       "</div>"
      ],
      "text/plain": [
       "                  order_id  user_id  revenue_rub\n",
       "day_of_week_name                                \n",
       "Понедельник          21660     4468   516.702127\n",
       "Вторник              31687     4813   402.650112\n",
       "Среда                23071     4845   523.410470\n",
       "Четверг              27338     4992   494.370757\n",
       "Пятница              25032     4889   527.534916\n",
       "Суббота              21495     4594   546.574329\n",
       "Воскресенье          19537     4409   558.636429"
      ]
     },
     "execution_count": 83,
     "metadata": {},
     "output_type": "execute_result"
    }
   ],
   "source": [
    "# Создадим таблицу данные о пользовательской активности в каждый из дней недели\n",
    "table2  = autumn_df.groupby('day_of_week_name').agg({'order_id': 'count',\n",
    "                                          'user_id' : 'nunique',\n",
    "                                          'revenue_rub' : 'mean'}).sort_values(by = 'day_of_week_name')\n",
    "# Переставим дни недели в правильном порядке \n",
    "days_order = ['Понедельник', 'Вторник', 'Среда', 'Четверг', 'Пятница', 'Суббота', 'Воскресенье']\n",
    "table2 = table2.reindex(days_order)\n",
    "table2"
   ]
  },
  {
   "cell_type": "code",
   "execution_count": 84,
   "id": "3f4c5833",
   "metadata": {},
   "outputs": [
    {
     "data": {
      "image/png": "[encoded data removed]",
      "text/plain": [
       "<Figure size 864x576 with 1 Axes>"
      ]
     },
     "metadata": {
      "needs_background": "light"
     },
     "output_type": "display_data"
    },
    {
     "data": {
      "image/png": "[encoded data removed]",
      "text/plain": [
       "<Figure size 864x576 with 1 Axes>"
      ]
     },
     "metadata": {
      "needs_background": "light"
     },
     "output_type": "display_data"
    },
    {
     "data": {
      "image/png": "[encoded data removed]",
      "text/plain": [
       "<Figure size 864x576 with 1 Axes>"
      ]
     },
     "metadata": {
      "needs_background": "light"
     },
     "output_type": "display_data"
    }
   ],
   "source": [
    "table2['order_id'].plot(kind =  'bar',\n",
    "             rot = 45,\n",
    "             figsize = (12,8),\n",
    "             color = 'blue',\n",
    "             edgecolor = 'black')\n",
    "\n",
    "plt.grid(axis = 'y')\n",
    "plt.xlabel('День недели')\n",
    "plt.ylabel('Количество заказов')\n",
    "plt.legend()\n",
    "plt.title('Количество заказов в каждый день недели')\n",
    "plt.show()\n",
    "\n",
    "###\n",
    "\n",
    "table2['user_id'].plot(kind =  'bar',\n",
    "             rot = 45,\n",
    "             figsize = (12,8),\n",
    "             color = 'yellow',\n",
    "             edgecolor = 'black')\n",
    "\n",
    "plt.grid(axis = 'y')\n",
    "plt.xlabel('День недели')\n",
    "plt.ylabel('Количество пользователей')\n",
    "plt.legend()\n",
    "plt.title('Количество уникальных пользователей в каждый день недели')\n",
    "plt.show() \n",
    "\n",
    "###\n",
    "\n",
    "table2['revenue_rub'].plot(kind =  'bar',\n",
    "             rot = 45,\n",
    "             figsize = (12,8),\n",
    "             color = 'red',\n",
    "             edgecolor = 'black')\n",
    "\n",
    "plt.grid(axis = 'y')\n",
    "plt.xlabel('День недели')\n",
    "plt.ylabel('руб.')\n",
    "plt.legend()\n",
    "plt.title('Средняя выручка с 1 билета в каждый день недели')\n",
    "plt.show() "
   ]
  },
  {
   "cell_type": "markdown",
   "id": "9f93a77c",
   "metadata": {},
   "source": [
    "**Количество заказов:** видим, что наиболее высокие показатели по количеству по вторникам, четвергам и пятницам; снижение заметно на выходных\n",
    "\n",
    "**Количество активных пользователей DAU:** график отличается не слишклм сильно, на первом месте - четверг, после пятница, в остальные дни значения практически равны\n",
    "\n",
    "**Средняя выручка с одного билета:** данные примерно равны, но видим сильное снижение по вторникам, в остальные дни данные находятся практически на одном уровне"
   ]
  },
  {
   "cell_type": "markdown",
   "id": "7f7b6819",
   "metadata": {},
   "source": [
    "### Популярные события и партнёры"
   ]
  },
  {
   "cell_type": "code",
   "execution_count": 85,
   "id": "d97f71b1",
   "metadata": {},
   "outputs": [
    {
     "data": {
      "text/plain": [
       "array(['Белоярская область', 'Берестовский округ', 'Берёзовская область',\n",
       "       'Боровлянский край', 'Верховинская область', 'Верхозёрский край',\n",
       "       'Верхоречная область', 'Ветренский регион', 'Вишнёвский край',\n",
       "       'Глиногорская область', 'Голубевский округ',\n",
       "       'Горицветская область', 'Горноземский регион',\n",
       "       'Горностепной регион', 'Дальнеземская область',\n",
       "       'Дальнезорский край', 'Дубравная область', 'Залесский край',\n",
       "       'Заречная область', 'Зеленоградский округ', 'Златопольский округ',\n",
       "       'Золотоключевской край', 'Зоринский регион', 'Каменевский регион',\n",
       "       'Каменичская область', 'Каменноозёрный край', 'Каменноярский край',\n",
       "       'Каменополянский округ', 'Ключеводский округ',\n",
       "       'Кристаловская область', 'Кристальная область',\n",
       "       'Крутоводская область', 'Крутоводский регион', 'Лесноярский край',\n",
       "       'Лесодальний край', 'Лесополянская область', 'Лесостепной край',\n",
       "       'Лесоярская область', 'Луговая область', 'Лугоградская область',\n",
       "       'Малиновая область', 'Малиновоярский округ', 'Медовская область',\n",
       "       'Миропольская область', 'Нежинская область', 'Озернинский край',\n",
       "       'Озернопольская область', 'Островная область',\n",
       "       'Островогорский округ', 'Поленовский край',\n",
       "       'Радужногорская область', 'Радужнопольский край',\n",
       "       'Речиновская область', 'Речицкая область', 'Речицкий регион',\n",
       "       'Ручейковский край', 'Светолесский край', 'Светополянский округ',\n",
       "       'Североключевской округ', 'Североозёрский округ',\n",
       "       'Североярская область', 'Серебринская область',\n",
       "       'Серебряноярский округ', 'Синегорский регион',\n",
       "       'Солнечноземская область', 'Солнечнореченская область',\n",
       "       'Сосноводолинская область', 'Сосновская область',\n",
       "       'Теплоозёрский округ', 'Тепляковская область',\n",
       "       'Тихогорская область', 'Тихолесский край', 'Тихореченская область',\n",
       "       'Травиницкий округ', 'Травяная область', 'Чистогорская область',\n",
       "       'Шанырский регион', 'Широковская область', 'Яблоневская область',\n",
       "       'Ягодиновская область', 'Яснопольский округ'], dtype=object)"
      ]
     },
     "execution_count": 85,
     "metadata": {},
     "output_type": "execute_result"
    }
   ],
   "source": [
    "# Проверим уникальные значения по регионам\n",
    "orders_events_tenge_df['region_name'].sort_values().unique()"
   ]
  },
  {
   "cell_type": "code",
   "execution_count": 86,
   "id": "dd9ed36b",
   "metadata": {},
   "outputs": [
    {
     "data": {
      "text/html": [
       "<div>\n",
       "<style scoped>\n",
       "    .dataframe tbody tr th:only-of-type {\n",
       "        vertical-align: middle;\n",
       "    }\n",
       "\n",
       "    .dataframe tbody tr th {\n",
       "        vertical-align: top;\n",
       "    }\n",
       "\n",
       "    .dataframe thead th {\n",
       "        text-align: right;\n",
       "    }\n",
       "</style>\n",
       "<table border=\"1\" class=\"dataframe\">\n",
       "  <thead>\n",
       "    <tr style=\"text-align: right;\">\n",
       "      <th></th>\n",
       "      <th>region_name</th>\n",
       "      <th>event_id</th>\n",
       "      <th>order_id</th>\n",
       "    </tr>\n",
       "  </thead>\n",
       "  <tbody>\n",
       "    <tr>\n",
       "      <th>0</th>\n",
       "      <td>Белоярская область</td>\n",
       "      <td>57</td>\n",
       "      <td>199</td>\n",
       "    </tr>\n",
       "    <tr>\n",
       "      <th>1</th>\n",
       "      <td>Берестовский округ</td>\n",
       "      <td>39</td>\n",
       "      <td>395</td>\n",
       "    </tr>\n",
       "    <tr>\n",
       "      <th>2</th>\n",
       "      <td>Берёзовская область</td>\n",
       "      <td>166</td>\n",
       "      <td>1282</td>\n",
       "    </tr>\n",
       "    <tr>\n",
       "      <th>3</th>\n",
       "      <td>Боровлянский край</td>\n",
       "      <td>97</td>\n",
       "      <td>1721</td>\n",
       "    </tr>\n",
       "    <tr>\n",
       "      <th>4</th>\n",
       "      <td>Верховинская область</td>\n",
       "      <td>8</td>\n",
       "      <td>46</td>\n",
       "    </tr>\n",
       "    <tr>\n",
       "      <th>...</th>\n",
       "      <td>...</td>\n",
       "      <td>...</td>\n",
       "      <td>...</td>\n",
       "    </tr>\n",
       "    <tr>\n",
       "      <th>76</th>\n",
       "      <td>Шанырский регион</td>\n",
       "      <td>28</td>\n",
       "      <td>2879</td>\n",
       "    </tr>\n",
       "    <tr>\n",
       "      <th>77</th>\n",
       "      <td>Широковская область</td>\n",
       "      <td>1233</td>\n",
       "      <td>16446</td>\n",
       "    </tr>\n",
       "    <tr>\n",
       "      <th>78</th>\n",
       "      <td>Яблоневская область</td>\n",
       "      <td>535</td>\n",
       "      <td>6173</td>\n",
       "    </tr>\n",
       "    <tr>\n",
       "      <th>79</th>\n",
       "      <td>Ягодиновская область</td>\n",
       "      <td>120</td>\n",
       "      <td>1044</td>\n",
       "    </tr>\n",
       "    <tr>\n",
       "      <th>80</th>\n",
       "      <td>Яснопольский округ</td>\n",
       "      <td>5</td>\n",
       "      <td>21</td>\n",
       "    </tr>\n",
       "  </tbody>\n",
       "</table>\n",
       "<p>81 rows × 3 columns</p>\n",
       "</div>"
      ],
      "text/plain": [
       "             region_name  event_id  order_id\n",
       "0     Белоярская область        57       199\n",
       "1     Берестовский округ        39       395\n",
       "2    Берёзовская область       166      1282\n",
       "3      Боровлянский край        97      1721\n",
       "4   Верховинская область         8        46\n",
       "..                   ...       ...       ...\n",
       "76      Шанырский регион        28      2879\n",
       "77   Широковская область      1233     16446\n",
       "78   Яблоневская область       535      6173\n",
       "79  Ягодиновская область       120      1044\n",
       "80    Яснопольский округ         5        21\n",
       "\n",
       "[81 rows x 3 columns]"
      ]
     },
     "execution_count": 86,
     "metadata": {},
     "output_type": "execute_result"
    }
   ],
   "source": [
    "# В отдельную таблицу соберем данные о регионах, сгруппируем их\n",
    "regions = orders_events_tenge_df.groupby('region_name').agg({'event_id' : 'nunique',\n",
    "                                      'order_id' : 'count'})\n",
    "regions = regions.reset_index()\n",
    "regions"
   ]
  },
  {
   "cell_type": "code",
   "execution_count": 87,
   "id": "06a8788e",
   "metadata": {},
   "outputs": [
    {
     "data": {
      "text/html": [
       "<div>\n",
       "<style scoped>\n",
       "    .dataframe tbody tr th:only-of-type {\n",
       "        vertical-align: middle;\n",
       "    }\n",
       "\n",
       "    .dataframe tbody tr th {\n",
       "        vertical-align: top;\n",
       "    }\n",
       "\n",
       "    .dataframe thead th {\n",
       "        text-align: right;\n",
       "    }\n",
       "</style>\n",
       "<table border=\"1\" class=\"dataframe\">\n",
       "  <thead>\n",
       "    <tr style=\"text-align: right;\">\n",
       "      <th></th>\n",
       "      <th>region_name</th>\n",
       "      <th>event_id</th>\n",
       "      <th>order_id</th>\n",
       "      <th>event_share</th>\n",
       "      <th>order_share</th>\n",
       "    </tr>\n",
       "  </thead>\n",
       "  <tbody>\n",
       "    <tr>\n",
       "      <th>23</th>\n",
       "      <td>Каменевский регион</td>\n",
       "      <td>5966</td>\n",
       "      <td>90669</td>\n",
       "      <td>0.266</td>\n",
       "      <td>0.313</td>\n",
       "    </tr>\n",
       "    <tr>\n",
       "      <th>60</th>\n",
       "      <td>Североярская область</td>\n",
       "      <td>3809</td>\n",
       "      <td>43966</td>\n",
       "      <td>0.170</td>\n",
       "      <td>0.152</td>\n",
       "    </tr>\n",
       "    <tr>\n",
       "      <th>77</th>\n",
       "      <td>Широковская область</td>\n",
       "      <td>1233</td>\n",
       "      <td>16446</td>\n",
       "      <td>0.055</td>\n",
       "      <td>0.057</td>\n",
       "    </tr>\n",
       "    <tr>\n",
       "      <th>42</th>\n",
       "      <td>Медовская область</td>\n",
       "      <td>504</td>\n",
       "      <td>13898</td>\n",
       "      <td>0.022</td>\n",
       "      <td>0.048</td>\n",
       "    </tr>\n",
       "    <tr>\n",
       "      <th>45</th>\n",
       "      <td>Озернинский край</td>\n",
       "      <td>349</td>\n",
       "      <td>10476</td>\n",
       "      <td>0.016</td>\n",
       "      <td>0.036</td>\n",
       "    </tr>\n",
       "    <tr>\n",
       "      <th>...</th>\n",
       "      <td>...</td>\n",
       "      <td>...</td>\n",
       "      <td>...</td>\n",
       "      <td>...</td>\n",
       "      <td>...</td>\n",
       "    </tr>\n",
       "    <tr>\n",
       "      <th>51</th>\n",
       "      <td>Радужнопольский край</td>\n",
       "      <td>13</td>\n",
       "      <td>139</td>\n",
       "      <td>0.001</td>\n",
       "      <td>0.000</td>\n",
       "    </tr>\n",
       "    <tr>\n",
       "      <th>70</th>\n",
       "      <td>Тихогорская область</td>\n",
       "      <td>14</td>\n",
       "      <td>48</td>\n",
       "      <td>0.001</td>\n",
       "      <td>0.000</td>\n",
       "    </tr>\n",
       "    <tr>\n",
       "      <th>16</th>\n",
       "      <td>Дубравная область</td>\n",
       "      <td>16</td>\n",
       "      <td>67</td>\n",
       "      <td>0.001</td>\n",
       "      <td>0.000</td>\n",
       "    </tr>\n",
       "    <tr>\n",
       "      <th>35</th>\n",
       "      <td>Лесополянская область</td>\n",
       "      <td>18</td>\n",
       "      <td>87</td>\n",
       "      <td>0.001</td>\n",
       "      <td>0.000</td>\n",
       "    </tr>\n",
       "    <tr>\n",
       "      <th>68</th>\n",
       "      <td>Теплоозёрский округ</td>\n",
       "      <td>2</td>\n",
       "      <td>7</td>\n",
       "      <td>0.000</td>\n",
       "      <td>0.000</td>\n",
       "    </tr>\n",
       "  </tbody>\n",
       "</table>\n",
       "<p>81 rows × 5 columns</p>\n",
       "</div>"
      ],
      "text/plain": [
       "              region_name  event_id  order_id  event_share  order_share\n",
       "23     Каменевский регион      5966     90669        0.266        0.313\n",
       "60   Североярская область      3809     43966        0.170        0.152\n",
       "77    Широковская область      1233     16446        0.055        0.057\n",
       "42      Медовская область       504     13898        0.022        0.048\n",
       "45       Озернинский край       349     10476        0.016        0.036\n",
       "..                    ...       ...       ...          ...          ...\n",
       "51   Радужнопольский край        13       139        0.001        0.000\n",
       "70    Тихогорская область        14        48        0.001        0.000\n",
       "16      Дубравная область        16        67        0.001        0.000\n",
       "35  Лесополянская область        18        87        0.001        0.000\n",
       "68    Теплоозёрский округ         2         7        0.000        0.000\n",
       "\n",
       "[81 rows x 5 columns]"
      ]
     },
     "execution_count": 87,
     "metadata": {},
     "output_type": "execute_result"
    }
   ],
   "source": [
    "# Создадим столбцы, где рассчитаем доли каждого региона от общего количестова событий и заказов \n",
    "# Отсортируем по убыванию количества доли прибыли\n",
    "regions['event_share'] = round(regions['event_id']/ regions['event_id'].sum() ,3 ) \n",
    "regions['order_share'] = round(regions['order_id']/ regions['order_id'].sum() ,3 )\n",
    "regions = regions.sort_values(by = ['event_id', 'order_id'], ascending = [False,False])\n",
    "regions\n",
    "regions.sort_values(by = 'order_share', ascending = False)"
   ]
  },
  {
   "cell_type": "code",
   "execution_count": 88,
   "id": "8fad07b3",
   "metadata": {},
   "outputs": [
    {
     "data": {
      "text/html": [
       "<div>\n",
       "<style scoped>\n",
       "    .dataframe tbody tr th:only-of-type {\n",
       "        vertical-align: middle;\n",
       "    }\n",
       "\n",
       "    .dataframe tbody tr th {\n",
       "        vertical-align: top;\n",
       "    }\n",
       "\n",
       "    .dataframe thead th {\n",
       "        text-align: right;\n",
       "    }\n",
       "</style>\n",
       "<table border=\"1\" class=\"dataframe\">\n",
       "  <thead>\n",
       "    <tr style=\"text-align: right;\">\n",
       "      <th></th>\n",
       "      <th>region_name</th>\n",
       "      <th>event_id</th>\n",
       "      <th>order_id</th>\n",
       "      <th>event_share</th>\n",
       "      <th>order_share</th>\n",
       "    </tr>\n",
       "  </thead>\n",
       "  <tbody>\n",
       "    <tr>\n",
       "      <th>23</th>\n",
       "      <td>Каменевский регион</td>\n",
       "      <td>5966</td>\n",
       "      <td>90669</td>\n",
       "      <td>0.266</td>\n",
       "      <td>0.313</td>\n",
       "    </tr>\n",
       "    <tr>\n",
       "      <th>60</th>\n",
       "      <td>Североярская область</td>\n",
       "      <td>3809</td>\n",
       "      <td>43966</td>\n",
       "      <td>0.170</td>\n",
       "      <td>0.152</td>\n",
       "    </tr>\n",
       "    <tr>\n",
       "      <th>77</th>\n",
       "      <td>Широковская область</td>\n",
       "      <td>1233</td>\n",
       "      <td>16446</td>\n",
       "      <td>0.055</td>\n",
       "      <td>0.057</td>\n",
       "    </tr>\n",
       "    <tr>\n",
       "      <th>57</th>\n",
       "      <td>Светополянский округ</td>\n",
       "      <td>1075</td>\n",
       "      <td>7575</td>\n",
       "      <td>0.048</td>\n",
       "      <td>0.026</td>\n",
       "    </tr>\n",
       "    <tr>\n",
       "      <th>52</th>\n",
       "      <td>Речиновская область</td>\n",
       "      <td>702</td>\n",
       "      <td>6290</td>\n",
       "      <td>0.031</td>\n",
       "      <td>0.022</td>\n",
       "    </tr>\n",
       "    <tr>\n",
       "      <th>74</th>\n",
       "      <td>Травяная область</td>\n",
       "      <td>683</td>\n",
       "      <td>5042</td>\n",
       "      <td>0.030</td>\n",
       "      <td>0.017</td>\n",
       "    </tr>\n",
       "    <tr>\n",
       "      <th>11</th>\n",
       "      <td>Горицветская область</td>\n",
       "      <td>551</td>\n",
       "      <td>5162</td>\n",
       "      <td>0.025</td>\n",
       "      <td>0.018</td>\n",
       "    </tr>\n",
       "    <tr>\n",
       "      <th>61</th>\n",
       "      <td>Серебринская область</td>\n",
       "      <td>541</td>\n",
       "      <td>5608</td>\n",
       "      <td>0.024</td>\n",
       "      <td>0.019</td>\n",
       "    </tr>\n",
       "    <tr>\n",
       "      <th>78</th>\n",
       "      <td>Яблоневская область</td>\n",
       "      <td>535</td>\n",
       "      <td>6173</td>\n",
       "      <td>0.024</td>\n",
       "      <td>0.021</td>\n",
       "    </tr>\n",
       "    <tr>\n",
       "      <th>69</th>\n",
       "      <td>Тепляковская область</td>\n",
       "      <td>529</td>\n",
       "      <td>4387</td>\n",
       "      <td>0.024</td>\n",
       "      <td>0.015</td>\n",
       "    </tr>\n",
       "    <tr>\n",
       "      <th>64</th>\n",
       "      <td>Солнечноземская область</td>\n",
       "      <td>522</td>\n",
       "      <td>6287</td>\n",
       "      <td>0.023</td>\n",
       "      <td>0.022</td>\n",
       "    </tr>\n",
       "    <tr>\n",
       "      <th>42</th>\n",
       "      <td>Медовская область</td>\n",
       "      <td>504</td>\n",
       "      <td>13898</td>\n",
       "      <td>0.022</td>\n",
       "      <td>0.048</td>\n",
       "    </tr>\n",
       "    <tr>\n",
       "      <th>22</th>\n",
       "      <td>Зоринский регион</td>\n",
       "      <td>382</td>\n",
       "      <td>3212</td>\n",
       "      <td>0.017</td>\n",
       "      <td>0.011</td>\n",
       "    </tr>\n",
       "    <tr>\n",
       "      <th>65</th>\n",
       "      <td>Солнечнореченская область</td>\n",
       "      <td>361</td>\n",
       "      <td>3990</td>\n",
       "      <td>0.016</td>\n",
       "      <td>0.014</td>\n",
       "    </tr>\n",
       "    <tr>\n",
       "      <th>45</th>\n",
       "      <td>Озернинский край</td>\n",
       "      <td>349</td>\n",
       "      <td>10476</td>\n",
       "      <td>0.016</td>\n",
       "      <td>0.036</td>\n",
       "    </tr>\n",
       "    <tr>\n",
       "      <th>39</th>\n",
       "      <td>Лугоградская область</td>\n",
       "      <td>248</td>\n",
       "      <td>4701</td>\n",
       "      <td>0.011</td>\n",
       "      <td>0.016</td>\n",
       "    </tr>\n",
       "    <tr>\n",
       "      <th>41</th>\n",
       "      <td>Малиновоярский округ</td>\n",
       "      <td>165</td>\n",
       "      <td>6612</td>\n",
       "      <td>0.007</td>\n",
       "      <td>0.023</td>\n",
       "    </tr>\n",
       "    <tr>\n",
       "      <th>9</th>\n",
       "      <td>Глиногорская область</td>\n",
       "      <td>159</td>\n",
       "      <td>3191</td>\n",
       "      <td>0.007</td>\n",
       "      <td>0.011</td>\n",
       "    </tr>\n",
       "  </tbody>\n",
       "</table>\n",
       "</div>"
      ],
      "text/plain": [
       "                  region_name  event_id  order_id  event_share  order_share\n",
       "23         Каменевский регион      5966     90669        0.266        0.313\n",
       "60       Североярская область      3809     43966        0.170        0.152\n",
       "77        Широковская область      1233     16446        0.055        0.057\n",
       "57       Светополянский округ      1075      7575        0.048        0.026\n",
       "52        Речиновская область       702      6290        0.031        0.022\n",
       "74           Травяная область       683      5042        0.030        0.017\n",
       "11       Горицветская область       551      5162        0.025        0.018\n",
       "61       Серебринская область       541      5608        0.024        0.019\n",
       "78        Яблоневская область       535      6173        0.024        0.021\n",
       "69       Тепляковская область       529      4387        0.024        0.015\n",
       "64    Солнечноземская область       522      6287        0.023        0.022\n",
       "42          Медовская область       504     13898        0.022        0.048\n",
       "22           Зоринский регион       382      3212        0.017        0.011\n",
       "65  Солнечнореченская область       361      3990        0.016        0.014\n",
       "45           Озернинский край       349     10476        0.016        0.036\n",
       "39       Лугоградская область       248      4701        0.011        0.016\n",
       "41       Малиновоярский округ       165      6612        0.007        0.023\n",
       "9        Глиногорская область       159      3191        0.007        0.011"
      ]
     },
     "execution_count": 88,
     "metadata": {},
     "output_type": "execute_result"
    }
   ],
   "source": [
    "# Выберем регионы, в которых проведено более 500 мероприятий\n",
    "regions_top = regions[regions['order_share'] > 0.01]\n",
    "regions_top"
   ]
  },
  {
   "cell_type": "code",
   "execution_count": 89,
   "id": "fcb4a0e1",
   "metadata": {},
   "outputs": [
    {
     "name": "stdout",
     "output_type": "stream",
     "text": [
      "Из 81 регионов 18  приносят более 1% выручки.Суммарная выручка данных регионов составляет 84.1 %\n"
     ]
    }
   ],
   "source": [
    "regions_all = len(regions)\n",
    "reg_top = len(regions_top)\n",
    "reg_top_percentage = round(regions_top['order_share'].sum() ,3)\n",
    "print(f'Из {regions_all} регионов {reg_top}  приносят более 1% выручки.'\n",
    "f'Суммарная выручка данных регионов составляет {100 * reg_top_percentage} %')"
   ]
  },
  {
   "cell_type": "code",
   "execution_count": 90,
   "id": "628b1209",
   "metadata": {},
   "outputs": [],
   "source": [
    "# Соберем данные о билетных операторах, сгруппируем ее\n",
    "services  = orders_events_tenge_df.groupby('service_name').agg({'event_id' : 'nunique',\n",
    "                                                    'order_id' : 'count',\n",
    "                                                    'revenue_rub' : 'sum'})\n",
    "services = services.reset_index()\n",
    "# Создадим столбцы, где рассчитаем доли каждого оператора от общего количестова событий, заказов, выручки \n",
    "# Отсортируем по убыванию процента выручки\n",
    "services['event_share'] = round(services['event_id']/ services['event_id'].sum() ,3 ) \n",
    "services['order_share'] = round(services['order_id']/ services['order_id'].sum() ,3 )\n",
    "services['revenue_rub'] = round(services['revenue_rub'] ,2 )\n",
    "# Посчитаем,какой процент выручки приносит каждый из билетных операторов\n",
    "services['revenue_share'] = round(services['revenue_rub']/ services['revenue_rub'].sum() ,3)\n",
    "services = services.sort_values(by = ['event_id', 'order_id'], ascending = [False,False])\n",
    "\n",
    "services = services.sort_values(by = 'revenue_share', ascending = False)"
   ]
  },
  {
   "cell_type": "code",
   "execution_count": 91,
   "id": "a7dd5c39",
   "metadata": {},
   "outputs": [
    {
     "data": {
      "text/html": [
       "<div>\n",
       "<style scoped>\n",
       "    .dataframe tbody tr th:only-of-type {\n",
       "        vertical-align: middle;\n",
       "    }\n",
       "\n",
       "    .dataframe tbody tr th {\n",
       "        vertical-align: top;\n",
       "    }\n",
       "\n",
       "    .dataframe thead th {\n",
       "        text-align: right;\n",
       "    }\n",
       "</style>\n",
       "<table border=\"1\" class=\"dataframe\">\n",
       "  <thead>\n",
       "    <tr style=\"text-align: right;\">\n",
       "      <th></th>\n",
       "      <th>service_name</th>\n",
       "      <th>event_id</th>\n",
       "      <th>order_id</th>\n",
       "      <th>revenue_rub</th>\n",
       "      <th>event_share</th>\n",
       "      <th>order_share</th>\n",
       "      <th>revenue_share</th>\n",
       "    </tr>\n",
       "  </thead>\n",
       "  <tbody>\n",
       "    <tr>\n",
       "      <th>3</th>\n",
       "      <td>Билеты без проблем</td>\n",
       "      <td>4253</td>\n",
       "      <td>63391</td>\n",
       "      <td>25883328.06</td>\n",
       "      <td>0.174</td>\n",
       "      <td>0.219</td>\n",
       "      <td>0.166</td>\n",
       "    </tr>\n",
       "    <tr>\n",
       "      <th>24</th>\n",
       "      <td>Мой билет</td>\n",
       "      <td>1306</td>\n",
       "      <td>34751</td>\n",
       "      <td>22975601.44</td>\n",
       "      <td>0.053</td>\n",
       "      <td>0.120</td>\n",
       "      <td>0.147</td>\n",
       "    </tr>\n",
       "    <tr>\n",
       "      <th>25</th>\n",
       "      <td>Облачко</td>\n",
       "      <td>2343</td>\n",
       "      <td>26557</td>\n",
       "      <td>19041296.87</td>\n",
       "      <td>0.096</td>\n",
       "      <td>0.092</td>\n",
       "      <td>0.122</td>\n",
       "    </tr>\n",
       "    <tr>\n",
       "      <th>21</th>\n",
       "      <td>Лови билет!</td>\n",
       "      <td>4878</td>\n",
       "      <td>41104</td>\n",
       "      <td>17573375.71</td>\n",
       "      <td>0.200</td>\n",
       "      <td>0.142</td>\n",
       "      <td>0.113</td>\n",
       "    </tr>\n",
       "    <tr>\n",
       "      <th>8</th>\n",
       "      <td>Весь в билетах</td>\n",
       "      <td>864</td>\n",
       "      <td>16728</td>\n",
       "      <td>17433448.77</td>\n",
       "      <td>0.035</td>\n",
       "      <td>0.058</td>\n",
       "      <td>0.112</td>\n",
       "    </tr>\n",
       "    <tr>\n",
       "      <th>5</th>\n",
       "      <td>Билеты в руки</td>\n",
       "      <td>3536</td>\n",
       "      <td>40330</td>\n",
       "      <td>13341168.49</td>\n",
       "      <td>0.145</td>\n",
       "      <td>0.139</td>\n",
       "      <td>0.086</td>\n",
       "    </tr>\n",
       "    <tr>\n",
       "      <th>19</th>\n",
       "      <td>Край билетов</td>\n",
       "      <td>252</td>\n",
       "      <td>6195</td>\n",
       "      <td>6653104.66</td>\n",
       "      <td>0.010</td>\n",
       "      <td>0.021</td>\n",
       "      <td>0.043</td>\n",
       "    </tr>\n",
       "    <tr>\n",
       "      <th>26</th>\n",
       "      <td>Прачечная</td>\n",
       "      <td>1027</td>\n",
       "      <td>10273</td>\n",
       "      <td>4900985.27</td>\n",
       "      <td>0.042</td>\n",
       "      <td>0.035</td>\n",
       "      <td>0.031</td>\n",
       "    </tr>\n",
       "    <tr>\n",
       "      <th>13</th>\n",
       "      <td>Дом культуры</td>\n",
       "      <td>274</td>\n",
       "      <td>4477</td>\n",
       "      <td>4549880.81</td>\n",
       "      <td>0.011</td>\n",
       "      <td>0.015</td>\n",
       "      <td>0.029</td>\n",
       "    </tr>\n",
       "    <tr>\n",
       "      <th>35</th>\n",
       "      <td>Яблоко</td>\n",
       "      <td>715</td>\n",
       "      <td>5038</td>\n",
       "      <td>3966818.61</td>\n",
       "      <td>0.029</td>\n",
       "      <td>0.017</td>\n",
       "      <td>0.025</td>\n",
       "    </tr>\n",
       "    <tr>\n",
       "      <th>30</th>\n",
       "      <td>Тебе билет!</td>\n",
       "      <td>1062</td>\n",
       "      <td>5225</td>\n",
       "      <td>3065264.71</td>\n",
       "      <td>0.043</td>\n",
       "      <td>0.018</td>\n",
       "      <td>0.020</td>\n",
       "    </tr>\n",
       "    <tr>\n",
       "      <th>22</th>\n",
       "      <td>Лучшие билеты</td>\n",
       "      <td>1762</td>\n",
       "      <td>17769</td>\n",
       "      <td>2810506.81</td>\n",
       "      <td>0.072</td>\n",
       "      <td>0.061</td>\n",
       "      <td>0.018</td>\n",
       "    </tr>\n",
       "    <tr>\n",
       "      <th>15</th>\n",
       "      <td>За билетом!</td>\n",
       "      <td>235</td>\n",
       "      <td>2861</td>\n",
       "      <td>2058061.70</td>\n",
       "      <td>0.010</td>\n",
       "      <td>0.010</td>\n",
       "      <td>0.013</td>\n",
       "    </tr>\n",
       "    <tr>\n",
       "      <th>23</th>\n",
       "      <td>Мир касс</td>\n",
       "      <td>194</td>\n",
       "      <td>2167</td>\n",
       "      <td>1922668.25</td>\n",
       "      <td>0.008</td>\n",
       "      <td>0.007</td>\n",
       "      <td>0.012</td>\n",
       "    </tr>\n",
       "    <tr>\n",
       "      <th>12</th>\n",
       "      <td>Городской дом культуры</td>\n",
       "      <td>378</td>\n",
       "      <td>2733</td>\n",
       "      <td>1657328.81</td>\n",
       "      <td>0.015</td>\n",
       "      <td>0.009</td>\n",
       "      <td>0.011</td>\n",
       "    </tr>\n",
       "    <tr>\n",
       "      <th>1</th>\n",
       "      <td>Show_ticket</td>\n",
       "      <td>295</td>\n",
       "      <td>2148</td>\n",
       "      <td>1640625.55</td>\n",
       "      <td>0.012</td>\n",
       "      <td>0.007</td>\n",
       "      <td>0.011</td>\n",
       "    </tr>\n",
       "  </tbody>\n",
       "</table>\n",
       "</div>"
      ],
      "text/plain": [
       "              service_name  event_id  order_id  revenue_rub  event_share  \\\n",
       "3       Билеты без проблем      4253     63391  25883328.06        0.174   \n",
       "24               Мой билет      1306     34751  22975601.44        0.053   \n",
       "25                 Облачко      2343     26557  19041296.87        0.096   \n",
       "21             Лови билет!      4878     41104  17573375.71        0.200   \n",
       "8           Весь в билетах       864     16728  17433448.77        0.035   \n",
       "5            Билеты в руки      3536     40330  13341168.49        0.145   \n",
       "19            Край билетов       252      6195   6653104.66        0.010   \n",
       "26               Прачечная      1027     10273   4900985.27        0.042   \n",
       "13            Дом культуры       274      4477   4549880.81        0.011   \n",
       "35                  Яблоко       715      5038   3966818.61        0.029   \n",
       "30             Тебе билет!      1062      5225   3065264.71        0.043   \n",
       "22           Лучшие билеты      1762     17769   2810506.81        0.072   \n",
       "15             За билетом!       235      2861   2058061.70        0.010   \n",
       "23                Мир касс       194      2167   1922668.25        0.008   \n",
       "12  Городской дом культуры       378      2733   1657328.81        0.015   \n",
       "1              Show_ticket       295      2148   1640625.55        0.012   \n",
       "\n",
       "    order_share  revenue_share  \n",
       "3         0.219          0.166  \n",
       "24        0.120          0.147  \n",
       "25        0.092          0.122  \n",
       "21        0.142          0.113  \n",
       "8         0.058          0.112  \n",
       "5         0.139          0.086  \n",
       "19        0.021          0.043  \n",
       "26        0.035          0.031  \n",
       "13        0.015          0.029  \n",
       "35        0.017          0.025  \n",
       "30        0.018          0.020  \n",
       "22        0.061          0.018  \n",
       "15        0.010          0.013  \n",
       "23        0.007          0.012  \n",
       "12        0.009          0.011  \n",
       "1         0.007          0.011  "
      ]
     },
     "execution_count": 91,
     "metadata": {},
     "output_type": "execute_result"
    }
   ],
   "source": [
    "# Отберем билетных партнеров, которые приносят более 1% от общей выручки\n",
    "\n",
    "services_top = services[services['revenue_share'] > 0.01]\n",
    "services_top"
   ]
  },
  {
   "cell_type": "code",
   "execution_count": 92,
   "id": "2cac0658",
   "metadata": {},
   "outputs": [
    {
     "name": "stdout",
     "output_type": "stream",
     "text": [
      "Из 36 билетных партнеров 16  приносят более 1% выручки.Суммарная выручка данных билетных партнеров составляет 97.0 % от общего объема выручки\n"
     ]
    }
   ],
   "source": [
    "services_all = len(services)\n",
    "serv_top = len(services_top)\n",
    "serv_top_percentage = round(services_top['order_share'].sum() ,3)\n",
    "print(f'Из {services_all} билетных партнеров {serv_top}  приносят более 1% выручки.'\n",
    "f'Суммарная выручка данных билетных партнеров составляет {100 * serv_top_percentage} % от общего объема выручки')"
   ]
  },
  {
   "cell_type": "markdown",
   "id": "807898a7",
   "metadata": {},
   "source": [
    "Анализ показал неравномерное распределение событий и заказов по регионам\n",
    "\n",
    "Лидером по количеству заказов является Каменевский регион — на него приходится 31,2 % всех заказов\n",
    "\n",
    "Далее идут Североярская область (15,2 %) и Широковская область (5,6 %)\n",
    "\n",
    "Доля заказов из остальных регионов не превышает 3 %\n",
    "\n",
    "Что касается билетных партнёров, то здесь тоже наблюдается неравномерное распределение выручки. Самые крупные доли рынка занимают:\n",
    "* «Билеты без проблем» — 16,6 %;\n",
    "* «Мой билет» — 14,7 %;\n",
    "* «Облачко» — 12,2 %;\n",
    "* «Лови билет!» — 11,3 %;\n",
    "* «Весь в билетах» — 11,2 %\n",
    "\n",
    "Ещё три компании приносят от 3 % до 9 % выручки, а доля остальных партнёров — менее 3 %. Таким образом, распределение заказов, пользователей и выручки между билетными партнёрами неоднородно"
   ]
  },
  {
   "cell_type": "markdown",
   "id": "1c1b0e9a",
   "metadata": {},
   "source": [
    "## Статистический анализ данных"
   ]
  },
  {
   "cell_type": "markdown",
   "id": "3590ae5e",
   "metadata": {},
   "source": [
    "### Среднее количество заказов"
   ]
  },
  {
   "cell_type": "markdown",
   "id": "00338bbe",
   "metadata": {},
   "source": [
    "Мы работаем только с данными за осенний период\n",
    "\n",
    "Сформулируем основную и альтернативную гипотезы: \n",
    "\n",
    "**H0:** Среднее количество заказов на 1 пользователя мобильного приложения не больше по сравнению с пользователями стационарных устройств\n",
    "\n",
    "\n",
    "**H1:** Среднее количество заказов на 1 пользователя мобильного приложения больше по сравнению с пользователями стационарных устройств"
   ]
  },
  {
   "cell_type": "code",
   "execution_count": 93,
   "id": "1b12a5c4",
   "metadata": {},
   "outputs": [
    {
     "name": "stdout",
     "output_type": "stream",
     "text": [
      "<class 'pandas.core.frame.DataFrame'>\n",
      "Int64Index: 169820 entries, 8058 to 269637\n",
      "Data columns (total 35 columns):\n",
      " #   Column                  Non-Null Count   Dtype         \n",
      "---  ------                  --------------   -----         \n",
      " 0   order_id                169820 non-null  int64         \n",
      " 1   user_id                 169820 non-null  object        \n",
      " 2   created_dt_msk          169820 non-null  datetime64[ns]\n",
      " 3   created_ts_msk          169820 non-null  datetime64[ns]\n",
      " 4   event_id                169820 non-null  int64         \n",
      " 5   cinema_circuit          169820 non-null  object        \n",
      " 6   age_limit               169820 non-null  int64         \n",
      " 7   currency_code           169820 non-null  object        \n",
      " 8   device_type_canonical   169820 non-null  object        \n",
      " 9   revenue                 169820 non-null  float64       \n",
      " 10  service_name            169820 non-null  object        \n",
      " 11  tickets_count           169820 non-null  int64         \n",
      " 12  total                   169820 non-null  float64       \n",
      " 13  days_since_prev         161419 non-null  float64       \n",
      " 14  event_name              169820 non-null  object        \n",
      " 15  event_type_description  169820 non-null  object        \n",
      " 16  event_type_main         169820 non-null  object        \n",
      " 17  organizers              169820 non-null  object        \n",
      " 18  region_name             169820 non-null  object        \n",
      " 19  city_name               169820 non-null  object        \n",
      " 20  city_id                 169820 non-null  int64         \n",
      " 21  venue_id                169820 non-null  int64         \n",
      " 22  venue_name              169820 non-null  object        \n",
      " 23  venue_address           169820 non-null  object        \n",
      " 24  data                    169820 non-null  datetime64[ns]\n",
      " 25  nominal                 169820 non-null  int64         \n",
      " 26  curs                    169820 non-null  float64       \n",
      " 27  cdx                     169820 non-null  object        \n",
      " 28  revenue_rub             169820 non-null  float64       \n",
      " 29  one_ticket_revenue_rub  169820 non-null  float64       \n",
      " 30  month                   169820 non-null  int64         \n",
      " 31  monthname               169820 non-null  object        \n",
      " 32  season                  169820 non-null  object        \n",
      " 33  day_of_week             169820 non-null  int64         \n",
      " 34  day_of_week_name        169820 non-null  object        \n",
      "dtypes: datetime64[ns](3), float64(6), int64(9), object(17)\n",
      "memory usage: 46.6+ MB\n"
     ]
    }
   ],
   "source": [
    "# Используем осенний датафрейм\n",
    "autumn_df.info()"
   ]
  },
  {
   "cell_type": "code",
   "execution_count": 94,
   "id": "dcebfe59",
   "metadata": {},
   "outputs": [],
   "source": [
    "# Сгруппируем данные по  типу устройства\n",
    "orders = autumn_df.groupby(['user_id','device_type_canonical'])['order_id'].nunique().reset_index()"
   ]
  },
  {
   "cell_type": "code",
   "execution_count": 95,
   "id": "22eeea6c",
   "metadata": {},
   "outputs": [],
   "source": [
    "# Разделим пользователей на 2 группы - по признаку устройства\n",
    "mobile = orders[orders['device_type_canonical'] == 'mobile']\n",
    "desktop = orders[orders['device_type_canonical'] == 'desktop']"
   ]
  },
  {
   "cell_type": "code",
   "execution_count": 96,
   "id": "da1f45fe",
   "metadata": {},
   "outputs": [
    {
     "name": "stdout",
     "output_type": "stream",
     "text": [
      "Среднее кол-во заказов на 1 пользователя мобильного приложения  9.50193267271066\n",
      "Среднее кол-во заказов на 1 пользователя десктопа  7.069021850112314\n"
     ]
    }
   ],
   "source": [
    "# Найдем средние значения\n",
    "avg_mobile_orders = mobile['order_id'].sum()/mobile['user_id'].nunique()\n",
    "avg_desktop_orders = desktop['order_id'].sum()/desktop['user_id'].nunique()\n",
    "print(f'Среднее кол-во заказов на 1 пользователя мобильного приложения  {avg_mobile_orders}')\n",
    "print(f'Среднее кол-во заказов на 1 пользователя десктопа  {avg_desktop_orders}')"
   ]
  },
  {
   "cell_type": "markdown",
   "id": "00326a06",
   "metadata": {},
   "source": [
    "Разница среди пользователей есть, найдём причину этой разницы"
   ]
  },
  {
   "cell_type": "code",
   "execution_count": 97,
   "id": "bd88bd6d",
   "metadata": {},
   "outputs": [
    {
     "data": {
      "text/plain": [
       "count    14229.000000\n",
       "mean         9.501933\n",
       "std         68.381681\n",
       "min          1.000000\n",
       "25%          1.000000\n",
       "50%          2.000000\n",
       "75%          5.000000\n",
       "max       4361.000000\n",
       "Name: order_id, dtype: float64"
      ]
     },
     "execution_count": 97,
     "metadata": {},
     "output_type": "execute_result"
    }
   ],
   "source": [
    "# Проверим разделение по количеству заказов устройства mobile\n",
    "mobile['order_id'].describe()"
   ]
  },
  {
   "cell_type": "code",
   "execution_count": 98,
   "id": "8f4908c9",
   "metadata": {},
   "outputs": [
    {
     "data": {
      "text/plain": [
       "count    4897.000000\n",
       "mean        7.069022\n",
       "std        36.186903\n",
       "min         1.000000\n",
       "25%         1.000000\n",
       "50%         2.000000\n",
       "75%         4.000000\n",
       "max      1510.000000\n",
       "Name: order_id, dtype: float64"
      ]
     },
     "execution_count": 98,
     "metadata": {},
     "output_type": "execute_result"
    }
   ],
   "source": [
    "# Проверим разделение по количеству заказов устройства desktop\n",
    "desktop['order_id'].describe()"
   ]
  },
  {
   "cell_type": "markdown",
   "id": "01b4b91b",
   "metadata": {},
   "source": [
    "Так как есть эктсремальные значения, используем тест Манна-Уитни"
   ]
  },
  {
   "cell_type": "code",
   "execution_count": 99,
   "id": "f2c5dccb",
   "metadata": {},
   "outputs": [
    {
     "name": "stdout",
     "output_type": "stream",
     "text": [
      "pvalue=1.7143741813128202e-07 < 0.05\n",
      "Нулевая гипотеза не находит подтверждения!\n",
      "Среднее количество заказов на 1 пользователя мобильного приложения больше в сравнении с пользователями десктопов!\n"
     ]
    }
   ],
   "source": [
    "# Выборка целевой метрики для группы A\n",
    "metric_a = mobile['order_id']\n",
    "# Выборка целевой метрики для группы B\n",
    "metric_b = desktop['order_id']\n",
    "\n",
    "# На каком уровне значимости проверяем гипотезу о равенстве распределений\n",
    "alpha = 0.05 \n",
    "\n",
    "# Применяем тест Манна — Уитни\n",
    "stat_mw, p_value_mw = mannwhitneyu(\n",
    "    metric_a, \n",
    "    metric_b, \n",
    "    alternative='greater' # Альтернативная гипотеза односторонняя\n",
    ") \n",
    "\n",
    "if p_value_mw > alpha:\n",
    "    print(f'pvalue={p_value_mw} > {alpha}')\n",
    "    print('Нулевая гипотеза находит подтверждение!')\n",
    "    print('Среднее количество заказов на 1 пользователя мобильного приложения не больше в сравнении с пользователями десктопов!')\n",
    "else:\n",
    "    print(f'pvalue={p_value_mw} < {alpha}')\n",
    "    print('Нулевая гипотеза не находит подтверждения!')\n",
    "    print('Среднее количество заказов на 1 пользователя мобильного приложения больше в сравнении с пользователями десктопов!')"
   ]
  },
  {
   "cell_type": "markdown",
   "id": "0e8bbc74",
   "metadata": {},
   "source": [
    "Исходя из полученного результата, делаем вывод, что нулевая гипотеза не подтверждена и пользователи мобильных устройств в среднем делают больше заказов, чем пользователи десктопных устройств"
   ]
  },
  {
   "cell_type": "markdown",
   "id": "fda9cb4a",
   "metadata": {},
   "source": [
    "### Среднее время между заказами"
   ]
  },
  {
   "cell_type": "markdown",
   "id": "d4b030d4",
   "metadata": {},
   "source": [
    "Сформулируем основную и альтернативную гипотезы: \n",
    "\n",
    "**H0:** Среднее время между заказами пользователей мобильных приложений не выше по сравнению с пользователями стационарных устройств\n",
    "\n",
    "\n",
    "**H1:** Среднее время между заказами пользователей мобильных приложений  выше по сравнению с пользователями стационарных устройств"
   ]
  },
  {
   "cell_type": "code",
   "execution_count": 100,
   "id": "2da448ff",
   "metadata": {},
   "outputs": [
    {
     "data": {
      "text/html": [
       "<div>\n",
       "<style scoped>\n",
       "    .dataframe tbody tr th:only-of-type {\n",
       "        vertical-align: middle;\n",
       "    }\n",
       "\n",
       "    .dataframe tbody tr th {\n",
       "        vertical-align: top;\n",
       "    }\n",
       "\n",
       "    .dataframe thead th {\n",
       "        text-align: right;\n",
       "    }\n",
       "</style>\n",
       "<table border=\"1\" class=\"dataframe\">\n",
       "  <thead>\n",
       "    <tr style=\"text-align: right;\">\n",
       "      <th></th>\n",
       "      <th>user_id</th>\n",
       "      <th>device_type_canonical</th>\n",
       "      <th>days_since_prev</th>\n",
       "    </tr>\n",
       "  </thead>\n",
       "  <tbody>\n",
       "    <tr>\n",
       "      <th>0</th>\n",
       "      <td>0005ca5e93f2cf4</td>\n",
       "      <td>mobile</td>\n",
       "      <td>75.0</td>\n",
       "    </tr>\n",
       "    <tr>\n",
       "      <th>1</th>\n",
       "      <td>000898990054619</td>\n",
       "      <td>mobile</td>\n",
       "      <td>51.0</td>\n",
       "    </tr>\n",
       "    <tr>\n",
       "      <th>2</th>\n",
       "      <td>000a55a418c128c</td>\n",
       "      <td>mobile</td>\n",
       "      <td>16.0</td>\n",
       "    </tr>\n",
       "    <tr>\n",
       "      <th>3</th>\n",
       "      <td>001e7037d013f0f</td>\n",
       "      <td>mobile</td>\n",
       "      <td>43.5</td>\n",
       "    </tr>\n",
       "    <tr>\n",
       "      <th>4</th>\n",
       "      <td>00245c702bc343e</td>\n",
       "      <td>mobile</td>\n",
       "      <td>27.5</td>\n",
       "    </tr>\n",
       "    <tr>\n",
       "      <th>...</th>\n",
       "      <td>...</td>\n",
       "      <td>...</td>\n",
       "      <td>...</td>\n",
       "    </tr>\n",
       "    <tr>\n",
       "      <th>19121</th>\n",
       "      <td>fff32fc9ad0f9f6</td>\n",
       "      <td>desktop</td>\n",
       "      <td>74.0</td>\n",
       "    </tr>\n",
       "    <tr>\n",
       "      <th>19122</th>\n",
       "      <td>fffcd3dde79eb2c</td>\n",
       "      <td>desktop</td>\n",
       "      <td>2.5</td>\n",
       "    </tr>\n",
       "    <tr>\n",
       "      <th>19123</th>\n",
       "      <td>fffcd3dde79eb2c</td>\n",
       "      <td>mobile</td>\n",
       "      <td>4.0</td>\n",
       "    </tr>\n",
       "    <tr>\n",
       "      <th>19124</th>\n",
       "      <td>fffeeb3c120cf0b</td>\n",
       "      <td>desktop</td>\n",
       "      <td>NaN</td>\n",
       "    </tr>\n",
       "    <tr>\n",
       "      <th>19125</th>\n",
       "      <td>ffff00725179321</td>\n",
       "      <td>mobile</td>\n",
       "      <td>NaN</td>\n",
       "    </tr>\n",
       "  </tbody>\n",
       "</table>\n",
       "<p>19126 rows × 3 columns</p>\n",
       "</div>"
      ],
      "text/plain": [
       "               user_id device_type_canonical  days_since_prev\n",
       "0      0005ca5e93f2cf4                mobile             75.0\n",
       "1      000898990054619                mobile             51.0\n",
       "2      000a55a418c128c                mobile             16.0\n",
       "3      001e7037d013f0f                mobile             43.5\n",
       "4      00245c702bc343e                mobile             27.5\n",
       "...                ...                   ...              ...\n",
       "19121  fff32fc9ad0f9f6               desktop             74.0\n",
       "19122  fffcd3dde79eb2c               desktop              2.5\n",
       "19123  fffcd3dde79eb2c                mobile              4.0\n",
       "19124  fffeeb3c120cf0b               desktop              NaN\n",
       "19125  ffff00725179321                mobile              NaN\n",
       "\n",
       "[19126 rows x 3 columns]"
      ]
     },
     "execution_count": 100,
     "metadata": {},
     "output_type": "execute_result"
    }
   ],
   "source": [
    "# Также берём осенний период\n",
    "# Сгруппируем данные по  типу устройства\n",
    "devices_group = autumn_df.groupby(['user_id','device_type_canonical'])['days_since_prev'].mean().reset_index()\n",
    "devices_group"
   ]
  },
  {
   "cell_type": "code",
   "execution_count": 101,
   "id": "82b7764c",
   "metadata": {},
   "outputs": [
    {
     "data": {
      "text/html": [
       "<div>\n",
       "<style scoped>\n",
       "    .dataframe tbody tr th:only-of-type {\n",
       "        vertical-align: middle;\n",
       "    }\n",
       "\n",
       "    .dataframe tbody tr th {\n",
       "        vertical-align: top;\n",
       "    }\n",
       "\n",
       "    .dataframe thead th {\n",
       "        text-align: right;\n",
       "    }\n",
       "</style>\n",
       "<table border=\"1\" class=\"dataframe\">\n",
       "  <thead>\n",
       "    <tr style=\"text-align: right;\">\n",
       "      <th></th>\n",
       "      <th>user_id</th>\n",
       "      <th>device_type_canonical</th>\n",
       "      <th>days_since_prev</th>\n",
       "    </tr>\n",
       "  </thead>\n",
       "  <tbody>\n",
       "    <tr>\n",
       "      <th>5</th>\n",
       "      <td>0028d17a676f8c8</td>\n",
       "      <td>desktop</td>\n",
       "      <td>NaN</td>\n",
       "    </tr>\n",
       "    <tr>\n",
       "      <th>7</th>\n",
       "      <td>002b75ca606ba46</td>\n",
       "      <td>desktop</td>\n",
       "      <td>4.666667</td>\n",
       "    </tr>\n",
       "    <tr>\n",
       "      <th>9</th>\n",
       "      <td>002ec276eee9b0b</td>\n",
       "      <td>desktop</td>\n",
       "      <td>10.000000</td>\n",
       "    </tr>\n",
       "    <tr>\n",
       "      <th>16</th>\n",
       "      <td>0040e12d70fae81</td>\n",
       "      <td>desktop</td>\n",
       "      <td>39.000000</td>\n",
       "    </tr>\n",
       "    <tr>\n",
       "      <th>21</th>\n",
       "      <td>005fefeabf1e678</td>\n",
       "      <td>desktop</td>\n",
       "      <td>0.000000</td>\n",
       "    </tr>\n",
       "    <tr>\n",
       "      <th>...</th>\n",
       "      <td>...</td>\n",
       "      <td>...</td>\n",
       "      <td>...</td>\n",
       "    </tr>\n",
       "    <tr>\n",
       "      <th>19105</th>\n",
       "      <td>ffb51f6745ee8a2</td>\n",
       "      <td>desktop</td>\n",
       "      <td>24.000000</td>\n",
       "    </tr>\n",
       "    <tr>\n",
       "      <th>19107</th>\n",
       "      <td>ffb556471d3ea4d</td>\n",
       "      <td>desktop</td>\n",
       "      <td>73.000000</td>\n",
       "    </tr>\n",
       "    <tr>\n",
       "      <th>19121</th>\n",
       "      <td>fff32fc9ad0f9f6</td>\n",
       "      <td>desktop</td>\n",
       "      <td>74.000000</td>\n",
       "    </tr>\n",
       "    <tr>\n",
       "      <th>19122</th>\n",
       "      <td>fffcd3dde79eb2c</td>\n",
       "      <td>desktop</td>\n",
       "      <td>2.500000</td>\n",
       "    </tr>\n",
       "    <tr>\n",
       "      <th>19124</th>\n",
       "      <td>fffeeb3c120cf0b</td>\n",
       "      <td>desktop</td>\n",
       "      <td>NaN</td>\n",
       "    </tr>\n",
       "  </tbody>\n",
       "</table>\n",
       "<p>4897 rows × 3 columns</p>\n",
       "</div>"
      ],
      "text/plain": [
       "               user_id device_type_canonical  days_since_prev\n",
       "5      0028d17a676f8c8               desktop              NaN\n",
       "7      002b75ca606ba46               desktop         4.666667\n",
       "9      002ec276eee9b0b               desktop        10.000000\n",
       "16     0040e12d70fae81               desktop        39.000000\n",
       "21     005fefeabf1e678               desktop         0.000000\n",
       "...                ...                   ...              ...\n",
       "19105  ffb51f6745ee8a2               desktop        24.000000\n",
       "19107  ffb556471d3ea4d               desktop        73.000000\n",
       "19121  fff32fc9ad0f9f6               desktop        74.000000\n",
       "19122  fffcd3dde79eb2c               desktop         2.500000\n",
       "19124  fffeeb3c120cf0b               desktop              NaN\n",
       "\n",
       "[4897 rows x 3 columns]"
      ]
     },
     "execution_count": 101,
     "metadata": {},
     "output_type": "execute_result"
    }
   ],
   "source": [
    "# Разделим пользователей на 2 группы - по признаку устройства\n",
    "group_mobile = devices_group[devices_group['device_type_canonical'] == 'mobile']\n",
    "group_desktop = devices_group[devices_group['device_type_canonical'] == 'desktop']\n",
    "group_desktop"
   ]
  },
  {
   "cell_type": "code",
   "execution_count": 102,
   "id": "ad5bcf57",
   "metadata": {},
   "outputs": [],
   "source": [
    "# Удаляем пропуски, чтобы выполнить тест\n",
    "group_mobile  = group_mobile.dropna(subset=['days_since_prev']) \n",
    "group_desktop  = group_desktop.dropna(subset=['days_since_prev'])"
   ]
  },
  {
   "cell_type": "code",
   "execution_count": 103,
   "id": "0753f1ef",
   "metadata": {},
   "outputs": [
    {
     "name": "stdout",
     "output_type": "stream",
     "text": [
      "Среднее кол-во дней между заказами у пользователей мобильного приложения  20.64382653792035\n",
      "Среднее кол-во дней между заказами у пользователей  десктопа  14.942460823923959\n"
     ]
    }
   ],
   "source": [
    "# Рассчитаем средние значения\n",
    "avg_group_mobile = group_mobile['days_since_prev'].mean()\n",
    "avg_group_desktop = group_desktop['days_since_prev'].mean()\n",
    "print(f'Среднее кол-во дней между заказами у пользователей мобильного приложения  {avg_group_mobile}')\n",
    "print(f'Среднее кол-во дней между заказами у пользователей  десктопа  {avg_group_desktop}')"
   ]
  },
  {
   "cell_type": "markdown",
   "id": "24ae7cfc",
   "metadata": {},
   "source": [
    "Количество дней у групп между заказами различается"
   ]
  },
  {
   "cell_type": "code",
   "execution_count": 104,
   "id": "81c7338a",
   "metadata": {},
   "outputs": [
    {
     "data": {
      "text/plain": [
       "count    10218.000000\n",
       "mean        20.643827\n",
       "std         27.368182\n",
       "min          0.000000\n",
       "25%          2.058824\n",
       "50%          9.500000\n",
       "75%         28.000000\n",
       "max        148.000000\n",
       "Name: days_since_prev, dtype: float64"
      ]
     },
     "execution_count": 104,
     "metadata": {},
     "output_type": "execute_result"
    }
   ],
   "source": [
    "# Проверим распределение показателей у группы mobile\n",
    "group_mobile['days_since_prev'].describe()"
   ]
  },
  {
   "cell_type": "code",
   "execution_count": 105,
   "id": "97ef4e75",
   "metadata": {},
   "outputs": [
    {
     "data": {
      "text/plain": [
       "count    4052.000000\n",
       "mean       14.942461\n",
       "std        24.238695\n",
       "min         0.000000\n",
       "25%         1.000000\n",
       "50%         4.500000\n",
       "75%        17.000000\n",
       "max       146.000000\n",
       "Name: days_since_prev, dtype: float64"
      ]
     },
     "execution_count": 105,
     "metadata": {},
     "output_type": "execute_result"
    }
   ],
   "source": [
    "# Проверим распределение показателей у группы desktop\n",
    "group_desktop['days_since_prev'].describe()"
   ]
  },
  {
   "cell_type": "markdown",
   "id": "fbef0ff6",
   "metadata": {},
   "source": [
    "Также видим экстремальные значения, также используем тест Манна-Уитни"
   ]
  },
  {
   "cell_type": "code",
   "execution_count": 106,
   "id": "73f1006f",
   "metadata": {},
   "outputs": [
    {
     "name": "stdout",
     "output_type": "stream",
     "text": [
      "pvalue=9.155063944003828e-52 < 0.05\n",
      "Нулевая гипотеза не находит подтверждения!\n",
      "Среднее время между заказами пользователя мобильного приложения больше в сравнении с пользователями десктопов!\n"
     ]
    }
   ],
   "source": [
    "# Выборка целевой метрики для группы A\n",
    "metric_a = group_mobile['days_since_prev']\n",
    "# Выборка целевой метрики для группы B\n",
    "metric_b = group_desktop['days_since_prev']\n",
    "\n",
    "# На каком уровне значимости проверяем гипотезу о равенстве распределений\n",
    "alpha = 0.05 \n",
    "\n",
    "# Применяем тест Манна — Уитни\n",
    "stat_mw, p_value_mw = mannwhitneyu(\n",
    "    metric_a, \n",
    "    metric_b, \n",
    "    alternative='greater' # Альтернативная гипотеза односторонняя\n",
    ") \n",
    "\n",
    "if p_value_mw > alpha:\n",
    "    print(f'pvalue={p_value_mw} > {alpha}')\n",
    "    print('Нулевая гипотеза находит подтверждение!')\n",
    "    print('Среднее время между заказами пользователя мобильного приложения не больше в сравнении с пользователями десктопов!')\n",
    "else:\n",
    "    print(f'pvalue={p_value_mw} < {alpha}')\n",
    "    print('Нулевая гипотеза не находит подтверждения!')\n",
    "    print('Среднее время между заказами пользователя мобильного приложения больше в сравнении с пользователями десктопов!')"
   ]
  },
  {
   "cell_type": "markdown",
   "id": "5e34edfd",
   "metadata": {},
   "source": [
    "Исходя из результата, нулевая гипотеза отвергнута, пользователи мобильного приложения проводят в среднем больше времени, чем пользователи десктопных устройств"
   ]
  },
  {
   "cell_type": "markdown",
   "id": "fda2da16",
   "metadata": {},
   "source": [
    "## Общий вывод и рекомендации"
   ]
  },
  {
   "cell_type": "markdown",
   "id": "c9cc8124",
   "metadata": {},
   "source": [
    "В рамках исследования были проанализированы данные о бронировании билетов на сервисе Яндекс.Афиша за период с 1 июня по 30 ноября 2024 года. Данные из трёх датафреймов были объединены в один.\n",
    "\n",
    "Исследование выявило устойчивый рост количества заказов на протяжении всего анализируемого периода.\n",
    "\n",
    "Среди категорий мероприятий наибольшую популярность как летом, так и осенью сохраняют концерты, театральные постановки и категория «другое».\n",
    "\n",
    "Распределение устройств, с которых совершаются заказы, остаётся стабильным в оба сезона: 80 % заказов приходится на мобильные устройства, 20 % — на десктопы.\n",
    "\n",
    "Самой востребованной возрастной категорией мероприятий оказалась 16+, в то время как мероприятия с ограничением 18+ пользуются наименьшим спросом.\n",
    "\n",
    "Анализ выручки показал, что максимальная средняя цена билета наблюдается в категориях «концерты» и «ёлки», тогда как спортивные мероприятия оказались наименее прибыльными. Некоторые категории мероприятий продемонстрировали рост выручки с одного билета, в то время как другие — снижение.\n",
    "\n",
    "Выводы по дневной активности:\n",
    "* Наблюдаются пики количества заказов в начале и в конце месяца.\n",
    "* В дни с наибольшим числом продаж средняя выручка с одного билета минимальна, при этом отмечается максимальное количество заказов на одного пользователя.\n",
    "* Отмечен общий тренд на увеличение числа уникальных пользователей (DAU).\n",
    "\n",
    "Пользовательская активность по дням недели:\n",
    "* Максимум заказов приходится на вторник, минимум — на среду; к выходным активность снижается.\n",
    "\n",
    "Региональная и партнёрская аналитика:\n",
    "* Лидеры по доле в общей выручке — Каменевский район и Североярская область (совместно 46 %).\n",
    "* Наибольший вклад в выручку среди билетных партнёров вносят: «Мой билет» (14,7 %), «Облачко» (12,2 %), «Лови билет!» (11,3 %), «Весь в билетах» (11,2 %) и ещё один партнёр (16,6 %). В совокупности эти компании обеспечивают 66 % выручки.\n",
    "\n",
    "В ходе исследования были проверены две гипотезы о поведении пользователей:\n",
    "* в среднем пользователи мобильных устройств совершают больше заказов;\n",
    "* среднее время между заказами у пользователей мобильных устройств больше."
   ]
  }
 ],
 "metadata": {
  "ExecuteTimeLog": [
   {
    "duration": 3,
    "start_time": "2025-08-21T11:32:04.680Z"
   },
   {
    "duration": 1390,
    "start_time": "2025-08-21T11:33:41.540Z"
   },
   {
    "duration": 1543,
    "start_time": "2025-08-21T11:33:42.932Z"
   },
   {
    "duration": 106,
    "start_time": "2025-08-21T11:34:56.118Z"
   },
   {
    "duration": 1892,
    "start_time": "2025-08-21T11:40:20.820Z"
   },
   {
    "duration": 91,
    "start_time": "2025-08-21T11:43:06.701Z"
   },
   {
    "duration": 17,
    "start_time": "2025-08-21T11:43:22.517Z"
   },
   {
    "duration": 11,
    "start_time": "2025-08-21T11:43:56.129Z"
   },
   {
    "duration": 975,
    "start_time": "2025-08-21T12:55:56.959Z"
   },
   {
    "duration": 23,
    "start_time": "2025-08-21T13:20:10.862Z"
   },
   {
    "duration": 16,
    "start_time": "2025-08-21T13:21:14.623Z"
   },
   {
    "duration": 11,
    "start_time": "2025-08-21T14:43:46.017Z"
   },
   {
    "duration": 278,
    "start_time": "2025-08-21T14:58:57.832Z"
   },
   {
    "duration": 28,
    "start_time": "2025-08-21T14:59:24.901Z"
   },
   {
    "duration": 6,
    "start_time": "2025-08-21T14:59:44.819Z"
   },
   {
    "duration": 210,
    "start_time": "2025-08-21T18:15:51.245Z"
   },
   {
    "duration": 75,
    "start_time": "2025-08-21T18:16:01.358Z"
   },
   {
    "duration": 23,
    "start_time": "2025-08-21T18:16:10.162Z"
   },
   {
    "duration": 328,
    "start_time": "2025-08-21T18:18:03.990Z"
   },
   {
    "duration": 42,
    "start_time": "2025-08-21T18:18:42.750Z"
   },
   {
    "duration": 32,
    "start_time": "2025-08-21T18:19:38.035Z"
   },
   {
    "duration": 43,
    "start_time": "2025-08-21T18:20:32.968Z"
   },
   {
    "duration": 58,
    "start_time": "2025-08-21T18:20:52.224Z"
   },
   {
    "duration": 44,
    "start_time": "2025-08-21T18:21:32.833Z"
   },
   {
    "duration": 89,
    "start_time": "2025-08-21T18:22:17.245Z"
   },
   {
    "duration": 42,
    "start_time": "2025-08-21T18:22:22.434Z"
   },
   {
    "duration": 15,
    "start_time": "2025-08-21T18:23:03.621Z"
   },
   {
    "duration": 10,
    "start_time": "2025-08-21T18:23:37.991Z"
   },
   {
    "duration": 9,
    "start_time": "2025-08-21T18:24:17.632Z"
   },
   {
    "duration": 11,
    "start_time": "2025-08-21T18:24:37.271Z"
   },
   {
    "duration": 10,
    "start_time": "2025-08-21T18:24:59.415Z"
   },
   {
    "duration": 10,
    "start_time": "2025-08-21T18:25:12.695Z"
   },
   {
    "duration": 12,
    "start_time": "2025-08-21T18:25:24.818Z"
   },
   {
    "duration": 12,
    "start_time": "2025-08-21T18:25:45.612Z"
   },
   {
    "duration": 12,
    "start_time": "2025-08-21T18:33:35.768Z"
   },
   {
    "duration": 19,
    "start_time": "2025-08-21T18:36:21.900Z"
   },
   {
    "duration": 16,
    "start_time": "2025-08-21T18:37:03.372Z"
   },
   {
    "duration": 17,
    "start_time": "2025-08-21T18:37:27.424Z"
   },
   {
    "duration": 41,
    "start_time": "2025-08-21T18:38:35.227Z"
   },
   {
    "duration": 23,
    "start_time": "2025-08-21T18:38:36.626Z"
   },
   {
    "duration": 8,
    "start_time": "2025-08-21T18:39:45.274Z"
   },
   {
    "duration": 5,
    "start_time": "2025-08-21T18:40:31.795Z"
   },
   {
    "duration": 5,
    "start_time": "2025-08-21T18:40:57.040Z"
   },
   {
    "duration": 5,
    "start_time": "2025-08-21T18:41:17.480Z"
   },
   {
    "duration": 6,
    "start_time": "2025-08-21T18:41:40.480Z"
   },
   {
    "duration": 8,
    "start_time": "2025-08-21T18:42:02.782Z"
   },
   {
    "duration": 9,
    "start_time": "2025-08-21T18:42:31.364Z"
   },
   {
    "duration": 9,
    "start_time": "2025-08-21T18:42:54.003Z"
   },
   {
    "duration": 7,
    "start_time": "2025-08-21T18:43:23.357Z"
   },
   {
    "duration": 17,
    "start_time": "2025-08-21T18:46:40.052Z"
   },
   {
    "duration": 16,
    "start_time": "2025-08-21T18:46:59.499Z"
   },
   {
    "duration": 75,
    "start_time": "2025-08-21T18:48:00.306Z"
   },
   {
    "duration": 25,
    "start_time": "2025-08-21T18:48:00.947Z"
   },
   {
    "duration": 17,
    "start_time": "2025-08-21T18:48:01.546Z"
   },
   {
    "duration": 17,
    "start_time": "2025-08-21T18:48:02.113Z"
   },
   {
    "duration": 11,
    "start_time": "2025-08-21T18:48:27.673Z"
   },
   {
    "duration": 12,
    "start_time": "2025-08-21T18:49:27.976Z"
   },
   {
    "duration": 377,
    "start_time": "2025-08-21T18:52:17.896Z"
   },
   {
    "duration": 375,
    "start_time": "2025-08-21T18:53:50.162Z"
   },
   {
    "duration": 327,
    "start_time": "2025-08-21T18:58:06.870Z"
   },
   {
    "duration": 290,
    "start_time": "2025-08-21T18:59:30.063Z"
   },
   {
    "duration": 10,
    "start_time": "2025-08-21T19:10:59.144Z"
   },
   {
    "duration": 35,
    "start_time": "2025-08-21T19:11:26.522Z"
   },
   {
    "duration": 51,
    "start_time": "2025-08-21T19:12:24.323Z"
   },
   {
    "duration": 332,
    "start_time": "2025-08-21T19:12:44.408Z"
   },
   {
    "duration": 365,
    "start_time": "2025-08-21T19:14:01.126Z"
   },
   {
    "duration": 120,
    "start_time": "2025-08-21T19:14:29.556Z"
   },
   {
    "duration": 299,
    "start_time": "2025-08-21T19:15:29.573Z"
   },
   {
    "duration": 362,
    "start_time": "2025-08-21T19:15:58.825Z"
   },
   {
    "duration": 109,
    "start_time": "2025-08-21T19:16:24.426Z"
   },
   {
    "duration": 32,
    "start_time": "2025-08-21T19:18:28.848Z"
   },
   {
    "duration": 38,
    "start_time": "2025-08-21T19:18:33.086Z"
   },
   {
    "duration": 42,
    "start_time": "2025-08-21T19:18:40.330Z"
   },
   {
    "duration": 24,
    "start_time": "2025-08-21T19:18:45.803Z"
   },
   {
    "duration": 37,
    "start_time": "2025-08-21T19:27:18.520Z"
   },
   {
    "duration": 24,
    "start_time": "2025-08-21T19:27:20.565Z"
   },
   {
    "duration": 10,
    "start_time": "2025-08-21T19:33:52.359Z"
   },
   {
    "duration": 711,
    "start_time": "2025-08-21T19:33:59.353Z"
   },
   {
    "duration": 68,
    "start_time": "2025-08-21T19:37:28.584Z"
   },
   {
    "duration": 92,
    "start_time": "2025-08-21T19:38:04.873Z"
   },
   {
    "duration": 67,
    "start_time": "2025-08-21T19:38:23.194Z"
   },
   {
    "duration": 808,
    "start_time": "2025-08-21T19:41:12.560Z"
   },
   {
    "duration": 1424,
    "start_time": "2025-08-21T19:44:22.508Z"
   },
   {
    "duration": 154,
    "start_time": "2025-08-21T19:44:50.958Z"
   },
   {
    "duration": 26,
    "start_time": "2025-08-21T19:52:16.217Z"
   },
   {
    "duration": 56,
    "start_time": "2025-08-21T21:30:56.531Z"
   },
   {
    "duration": 58,
    "start_time": "2025-08-21T21:31:15.241Z"
   },
   {
    "duration": 52,
    "start_time": "2025-08-21T21:39:46.048Z"
   },
   {
    "duration": 49,
    "start_time": "2025-08-21T21:41:40.809Z"
   },
   {
    "duration": 221,
    "start_time": "2025-08-21T21:42:01.097Z"
   },
   {
    "duration": 30,
    "start_time": "2025-08-21T21:42:20.749Z"
   },
   {
    "duration": 10,
    "start_time": "2025-08-21T21:42:36.601Z"
   },
   {
    "duration": 4,
    "start_time": "2025-08-21T21:45:01.746Z"
   },
   {
    "duration": 8,
    "start_time": "2025-08-21T21:45:08.726Z"
   },
   {
    "duration": 7,
    "start_time": "2025-08-21T21:45:38.298Z"
   },
   {
    "duration": 58,
    "start_time": "2025-08-21T21:47:48.602Z"
   },
   {
    "duration": 11,
    "start_time": "2025-08-22T13:22:36.949Z"
   },
   {
    "duration": 10,
    "start_time": "2025-08-22T13:22:50.856Z"
   },
   {
    "duration": 292,
    "start_time": "2025-08-22T13:23:34.124Z"
   },
   {
    "duration": 319,
    "start_time": "2025-08-22T13:24:13.368Z"
   },
   {
    "duration": 206,
    "start_time": "2025-08-22T13:24:17.324Z"
   },
   {
    "duration": 24,
    "start_time": "2025-08-22T13:25:21.290Z"
   },
   {
    "duration": 166,
    "start_time": "2025-08-22T13:26:16.393Z"
   },
   {
    "duration": 230,
    "start_time": "2025-08-22T13:26:54.100Z"
   },
   {
    "duration": 30,
    "start_time": "2025-08-22T13:27:36.490Z"
   },
   {
    "duration": 5831,
    "start_time": "2025-08-22T13:28:34.604Z"
   },
   {
    "duration": 3,
    "start_time": "2025-08-22T13:28:55.691Z"
   },
   {
    "duration": 35,
    "start_time": "2025-08-22T13:29:04.213Z"
   },
   {
    "duration": 229,
    "start_time": "2025-08-22T13:32:49.501Z"
   },
   {
    "duration": 8,
    "start_time": "2025-08-22T13:33:02.842Z"
   },
   {
    "duration": 19,
    "start_time": "2025-08-22T13:33:14.031Z"
   },
   {
    "duration": 22,
    "start_time": "2025-08-22T13:33:36.665Z"
   },
   {
    "duration": 373,
    "start_time": "2025-08-22T13:33:59.342Z"
   },
   {
    "duration": 399,
    "start_time": "2025-08-22T14:16:46.160Z"
   },
   {
    "duration": 14,
    "start_time": "2025-08-22T14:16:47.199Z"
   },
   {
    "duration": 446,
    "start_time": "2025-08-22T14:16:54.554Z"
   },
   {
    "duration": 18,
    "start_time": "2025-08-22T14:17:38.832Z"
   },
   {
    "duration": 18,
    "start_time": "2025-08-22T14:17:51.312Z"
   },
   {
    "duration": 8,
    "start_time": "2025-08-22T14:19:13.650Z"
   },
   {
    "duration": 247,
    "start_time": "2025-08-22T14:19:52.185Z"
   },
   {
    "duration": 5,
    "start_time": "2025-08-22T14:20:47.409Z"
   },
   {
    "duration": 369,
    "start_time": "2025-08-22T14:21:47.254Z"
   },
   {
    "duration": 367,
    "start_time": "2025-08-22T14:23:38.236Z"
   },
   {
    "duration": 191,
    "start_time": "2025-08-22T14:23:47.018Z"
   },
   {
    "duration": 103,
    "start_time": "2025-08-22T14:24:22.971Z"
   },
   {
    "duration": 312,
    "start_time": "2025-08-22T14:24:45.456Z"
   },
   {
    "duration": 326,
    "start_time": "2025-08-22T14:25:07.462Z"
   },
   {
    "duration": 313,
    "start_time": "2025-08-22T14:25:17.518Z"
   },
   {
    "duration": 329,
    "start_time": "2025-08-22T14:26:56.116Z"
   },
   {
    "duration": 31,
    "start_time": "2025-08-22T14:27:42.571Z"
   },
   {
    "duration": 189,
    "start_time": "2025-08-22T14:27:46.547Z"
   },
   {
    "duration": 18,
    "start_time": "2025-08-22T14:27:53.435Z"
   },
   {
    "duration": 368,
    "start_time": "2025-08-22T14:27:55.223Z"
   },
   {
    "duration": 319,
    "start_time": "2025-08-22T14:28:18.574Z"
   },
   {
    "duration": 2,
    "start_time": "2025-08-22T14:28:30.163Z"
   },
   {
    "duration": 2026,
    "start_time": "2025-08-22T14:28:30.769Z"
   },
   {
    "duration": 89,
    "start_time": "2025-08-22T14:28:32.797Z"
   },
   {
    "duration": 181,
    "start_time": "2025-08-22T14:28:38.109Z"
   },
   {
    "duration": 68,
    "start_time": "2025-08-22T14:28:39.655Z"
   },
   {
    "duration": 62,
    "start_time": "2025-08-22T14:28:40.732Z"
   },
   {
    "duration": 24,
    "start_time": "2025-08-22T14:28:41.533Z"
   },
   {
    "duration": 18,
    "start_time": "2025-08-22T14:28:42.272Z"
   },
   {
    "duration": 106,
    "start_time": "2025-08-22T14:28:43.083Z"
   },
   {
    "duration": 10,
    "start_time": "2025-08-22T14:28:44.773Z"
   },
   {
    "duration": 12,
    "start_time": "2025-08-22T14:28:46.336Z"
   },
   {
    "duration": 41,
    "start_time": "2025-08-22T14:28:48.106Z"
   },
   {
    "duration": 42,
    "start_time": "2025-08-22T14:28:48.881Z"
   },
   {
    "duration": 46,
    "start_time": "2025-08-22T14:28:49.633Z"
   },
   {
    "duration": 45,
    "start_time": "2025-08-22T14:28:50.396Z"
   },
   {
    "duration": 832,
    "start_time": "2025-08-22T14:28:51.180Z"
   },
   {
    "duration": 16,
    "start_time": "2025-08-22T14:28:53.488Z"
   },
   {
    "duration": 9,
    "start_time": "2025-08-22T14:28:54.248Z"
   },
   {
    "duration": 9,
    "start_time": "2025-08-22T14:28:54.972Z"
   },
   {
    "duration": 12,
    "start_time": "2025-08-22T14:28:56.332Z"
   },
   {
    "duration": 11,
    "start_time": "2025-08-22T14:28:57.101Z"
   },
   {
    "duration": 9,
    "start_time": "2025-08-22T14:28:57.911Z"
   },
   {
    "duration": 10,
    "start_time": "2025-08-22T14:28:58.650Z"
   },
   {
    "duration": 10,
    "start_time": "2025-08-22T14:28:59.403Z"
   },
   {
    "duration": 139,
    "start_time": "2025-08-22T14:29:00.206Z"
   },
   {
    "duration": 12,
    "start_time": "2025-08-22T14:29:02.390Z"
   },
   {
    "duration": 212,
    "start_time": "2025-08-22T14:29:03.085Z"
   },
   {
    "duration": 24,
    "start_time": "2025-08-22T14:29:03.773Z"
   },
   {
    "duration": 5,
    "start_time": "2025-08-22T14:29:04.573Z"
   },
   {
    "duration": 62,
    "start_time": "2025-08-22T14:29:06.091Z"
   },
   {
    "duration": 253,
    "start_time": "2025-08-22T14:29:08.129Z"
   },
   {
    "duration": 165,
    "start_time": "2025-08-22T14:29:09.089Z"
   },
   {
    "duration": 25,
    "start_time": "2025-08-22T14:29:10.777Z"
   },
   {
    "duration": 153,
    "start_time": "2025-08-22T14:29:11.587Z"
   },
   {
    "duration": 182,
    "start_time": "2025-08-22T14:29:12.514Z"
   },
   {
    "duration": 28,
    "start_time": "2025-08-22T14:29:13.649Z"
   },
   {
    "duration": 5330,
    "start_time": "2025-08-22T14:29:14.489Z"
   },
   {
    "duration": 51,
    "start_time": "2025-08-22T14:29:19.821Z"
   },
   {
    "duration": 214,
    "start_time": "2025-08-22T14:29:19.874Z"
   },
   {
    "duration": 18,
    "start_time": "2025-08-22T14:29:22.482Z"
   },
   {
    "duration": 407,
    "start_time": "2025-08-22T14:29:24.566Z"
   },
   {
    "duration": 302,
    "start_time": "2025-08-22T14:29:28.196Z"
   },
   {
    "duration": 18,
    "start_time": "2025-08-22T14:30:01.850Z"
   },
   {
    "duration": 9,
    "start_time": "2025-08-22T14:30:02.495Z"
   },
   {
    "duration": 231,
    "start_time": "2025-08-22T14:30:03.325Z"
   },
   {
    "duration": 5,
    "start_time": "2025-08-22T14:30:04.467Z"
   },
   {
    "duration": 383,
    "start_time": "2025-08-22T14:30:05.237Z"
   },
   {
    "duration": 201,
    "start_time": "2025-08-22T14:30:07.356Z"
   },
   {
    "duration": 318,
    "start_time": "2025-08-22T14:30:15.043Z"
   },
   {
    "duration": 311,
    "start_time": "2025-08-22T14:30:18.112Z"
   },
   {
    "duration": 460,
    "start_time": "2025-08-22T14:32:29.080Z"
   },
   {
    "duration": 5,
    "start_time": "2025-08-22T14:33:30.396Z"
   },
   {
    "duration": 2,
    "start_time": "2025-08-22T14:33:58.708Z"
   },
   {
    "duration": 10,
    "start_time": "2025-08-22T14:34:02.640Z"
   },
   {
    "duration": 477,
    "start_time": "2025-08-22T14:34:10.588Z"
   },
   {
    "duration": 479,
    "start_time": "2025-08-22T14:35:27.021Z"
   },
   {
    "duration": 26,
    "start_time": "2025-08-22T14:36:14.243Z"
   },
   {
    "duration": 99,
    "start_time": "2025-08-22T14:37:35.360Z"
   },
   {
    "duration": 26,
    "start_time": "2025-08-22T14:37:54.434Z"
   },
   {
    "duration": 102,
    "start_time": "2025-08-22T14:38:07.090Z"
   },
   {
    "duration": 30,
    "start_time": "2025-08-22T14:38:07.759Z"
   },
   {
    "duration": 3,
    "start_time": "2025-08-22T14:38:35.701Z"
   },
   {
    "duration": 71,
    "start_time": "2025-08-22T14:38:56.383Z"
   },
   {
    "duration": 24,
    "start_time": "2025-08-22T14:39:08.908Z"
   },
   {
    "duration": 109,
    "start_time": "2025-08-22T14:39:37.439Z"
   },
   {
    "duration": 25,
    "start_time": "2025-08-22T14:39:38.112Z"
   },
   {
    "duration": 25,
    "start_time": "2025-08-22T14:40:05.539Z"
   },
   {
    "duration": 91,
    "start_time": "2025-08-22T14:40:12.114Z"
   },
   {
    "duration": 25,
    "start_time": "2025-08-22T14:40:12.880Z"
   },
   {
    "duration": 25,
    "start_time": "2025-08-22T14:40:44.203Z"
   },
   {
    "duration": 89,
    "start_time": "2025-08-22T14:40:44.756Z"
   },
   {
    "duration": 26,
    "start_time": "2025-08-22T14:40:45.396Z"
   },
   {
    "duration": 4,
    "start_time": "2025-08-22T14:41:37.555Z"
   },
   {
    "duration": 1839,
    "start_time": "2025-08-22T14:41:38.095Z"
   },
   {
    "duration": 89,
    "start_time": "2025-08-22T14:41:39.936Z"
   },
   {
    "duration": 187,
    "start_time": "2025-08-22T14:41:40.027Z"
   },
   {
    "duration": 64,
    "start_time": "2025-08-22T14:41:40.450Z"
   },
   {
    "duration": 65,
    "start_time": "2025-08-22T14:41:41.096Z"
   },
   {
    "duration": 23,
    "start_time": "2025-08-22T14:41:41.712Z"
   },
   {
    "duration": 17,
    "start_time": "2025-08-22T14:41:42.295Z"
   },
   {
    "duration": 16,
    "start_time": "2025-08-22T14:41:42.959Z"
   },
   {
    "duration": 10,
    "start_time": "2025-08-22T14:41:44.171Z"
   },
   {
    "duration": 13,
    "start_time": "2025-08-22T14:41:45.434Z"
   },
   {
    "duration": 43,
    "start_time": "2025-08-22T14:41:46.689Z"
   },
   {
    "duration": 43,
    "start_time": "2025-08-22T14:41:47.200Z"
   },
   {
    "duration": 42,
    "start_time": "2025-08-22T14:41:47.802Z"
   },
   {
    "duration": 42,
    "start_time": "2025-08-22T14:41:48.417Z"
   },
   {
    "duration": 768,
    "start_time": "2025-08-22T14:41:48.977Z"
   },
   {
    "duration": 14,
    "start_time": "2025-08-22T14:41:50.200Z"
   },
   {
    "duration": 9,
    "start_time": "2025-08-22T14:41:50.757Z"
   },
   {
    "duration": 9,
    "start_time": "2025-08-22T14:41:51.390Z"
   },
   {
    "duration": 10,
    "start_time": "2025-08-22T14:41:51.935Z"
   },
   {
    "duration": 10,
    "start_time": "2025-08-22T14:41:52.503Z"
   },
   {
    "duration": 9,
    "start_time": "2025-08-22T14:41:53.085Z"
   },
   {
    "duration": 11,
    "start_time": "2025-08-22T14:41:53.608Z"
   },
   {
    "duration": 10,
    "start_time": "2025-08-22T14:41:54.198Z"
   },
   {
    "duration": 160,
    "start_time": "2025-08-22T14:41:54.716Z"
   },
   {
    "duration": 11,
    "start_time": "2025-08-22T14:41:56.573Z"
   },
   {
    "duration": 188,
    "start_time": "2025-08-22T14:41:57.178Z"
   },
   {
    "duration": 35,
    "start_time": "2025-08-22T14:41:57.829Z"
   },
   {
    "duration": 6,
    "start_time": "2025-08-22T14:41:58.493Z"
   },
   {
    "duration": 58,
    "start_time": "2025-08-22T14:41:59.817Z"
   },
   {
    "duration": 230,
    "start_time": "2025-08-22T14:42:00.997Z"
   },
   {
    "duration": 185,
    "start_time": "2025-08-22T14:42:01.661Z"
   },
   {
    "duration": 22,
    "start_time": "2025-08-22T14:42:02.566Z"
   },
   {
    "duration": 139,
    "start_time": "2025-08-22T14:42:03.259Z"
   },
   {
    "duration": 196,
    "start_time": "2025-08-22T14:42:04.061Z"
   },
   {
    "duration": 22,
    "start_time": "2025-08-22T14:42:04.712Z"
   },
   {
    "duration": 5418,
    "start_time": "2025-08-22T14:42:05.358Z"
   },
   {
    "duration": 35,
    "start_time": "2025-08-22T14:42:10.779Z"
   },
   {
    "duration": 251,
    "start_time": "2025-08-22T14:42:10.816Z"
   },
   {
    "duration": 20,
    "start_time": "2025-08-22T14:42:11.072Z"
   },
   {
    "duration": 410,
    "start_time": "2025-08-22T14:42:11.094Z"
   },
   {
    "duration": 317,
    "start_time": "2025-08-22T14:42:11.506Z"
   },
   {
    "duration": 20,
    "start_time": "2025-08-22T14:42:12.604Z"
   },
   {
    "duration": 8,
    "start_time": "2025-08-22T14:42:13.423Z"
   },
   {
    "duration": 228,
    "start_time": "2025-08-22T14:42:14.047Z"
   },
   {
    "duration": 6,
    "start_time": "2025-08-22T14:42:14.810Z"
   },
   {
    "duration": 390,
    "start_time": "2025-08-22T14:42:15.482Z"
   },
   {
    "duration": 214,
    "start_time": "2025-08-22T14:42:16.174Z"
   },
   {
    "duration": 329,
    "start_time": "2025-08-22T14:42:18.407Z"
   },
   {
    "duration": 305,
    "start_time": "2025-08-22T14:42:20.401Z"
   },
   {
    "duration": 458,
    "start_time": "2025-08-22T14:42:22.392Z"
   },
   {
    "duration": 4,
    "start_time": "2025-08-22T14:42:24.239Z"
   },
   {
    "duration": 450,
    "start_time": "2025-08-22T14:42:25.040Z"
   },
   {
    "duration": 502,
    "start_time": "2025-08-22T14:42:25.672Z"
   },
   {
    "duration": 27,
    "start_time": "2025-08-22T14:42:26.300Z"
   },
   {
    "duration": 27,
    "start_time": "2025-08-22T14:42:26.918Z"
   },
   {
    "duration": 77,
    "start_time": "2025-08-22T14:42:30.035Z"
   },
   {
    "duration": 26,
    "start_time": "2025-08-22T14:42:30.761Z"
   },
   {
    "duration": 3,
    "start_time": "2025-08-22T14:42:35.161Z"
   },
   {
    "duration": 75,
    "start_time": "2025-08-22T14:42:36.287Z"
   },
   {
    "duration": 27,
    "start_time": "2025-08-22T14:42:37.179Z"
   },
   {
    "duration": 195,
    "start_time": "2025-08-22T14:43:28.089Z"
   },
   {
    "duration": 15,
    "start_time": "2025-08-22T21:45:33.589Z"
   },
   {
    "duration": 26,
    "start_time": "2025-08-22T21:45:56.119Z"
   },
   {
    "duration": 87,
    "start_time": "2025-08-22T21:45:56.742Z"
   },
   {
    "duration": 24,
    "start_time": "2025-08-22T21:45:57.321Z"
   },
   {
    "duration": 3,
    "start_time": "2025-08-22T21:45:59.763Z"
   },
   {
    "duration": 70,
    "start_time": "2025-08-22T21:46:00.421Z"
   },
   {
    "duration": 24,
    "start_time": "2025-08-22T21:46:01.622Z"
   },
   {
    "duration": 197,
    "start_time": "2025-08-22T21:46:05.227Z"
   },
   {
    "duration": 14,
    "start_time": "2025-08-22T21:46:15.401Z"
   },
   {
    "duration": 26,
    "start_time": "2025-08-22T21:49:01.504Z"
   },
   {
    "duration": 16,
    "start_time": "2025-08-22T21:49:27.425Z"
   },
   {
    "duration": 12,
    "start_time": "2025-08-22T21:49:30.012Z"
   },
   {
    "duration": 8,
    "start_time": "2025-08-22T21:50:27.099Z"
   },
   {
    "duration": 12,
    "start_time": "2025-08-22T21:51:02.494Z"
   },
   {
    "duration": 26,
    "start_time": "2025-08-22T21:52:42.421Z"
   },
   {
    "duration": 131,
    "start_time": "2025-08-22T21:53:24.140Z"
   },
   {
    "duration": 187,
    "start_time": "2025-08-22T21:53:34.412Z"
   },
   {
    "duration": 186,
    "start_time": "2025-08-22T21:53:45.527Z"
   },
   {
    "duration": 140,
    "start_time": "2025-08-22T21:54:12.813Z"
   },
   {
    "duration": 142,
    "start_time": "2025-08-22T21:54:25.035Z"
   },
   {
    "duration": 96,
    "start_time": "2025-08-22T21:54:39.303Z"
   },
   {
    "duration": 141,
    "start_time": "2025-08-22T21:54:44.818Z"
   },
   {
    "duration": 138,
    "start_time": "2025-08-22T21:54:52.469Z"
   },
   {
    "duration": 133,
    "start_time": "2025-08-22T21:54:59.812Z"
   },
   {
    "duration": 139,
    "start_time": "2025-08-22T21:55:11.453Z"
   },
   {
    "duration": 140,
    "start_time": "2025-08-22T21:55:21.289Z"
   },
   {
    "duration": 138,
    "start_time": "2025-08-22T21:55:26.940Z"
   },
   {
    "duration": 22,
    "start_time": "2025-08-22T22:06:12.682Z"
   },
   {
    "duration": 22,
    "start_time": "2025-08-22T22:06:22.476Z"
   },
   {
    "duration": 12,
    "start_time": "2025-08-22T22:08:30.756Z"
   },
   {
    "duration": 50,
    "start_time": "2025-08-22T22:09:10.892Z"
   },
   {
    "duration": 43,
    "start_time": "2025-08-22T22:12:22.777Z"
   },
   {
    "duration": 29,
    "start_time": "2025-08-22T22:13:19.785Z"
   },
   {
    "duration": 197,
    "start_time": "2025-08-22T22:16:07.363Z"
   },
   {
    "duration": 48,
    "start_time": "2025-08-22T22:16:35.688Z"
   },
   {
    "duration": 48,
    "start_time": "2025-08-22T22:16:39.335Z"
   },
   {
    "duration": 50,
    "start_time": "2025-08-22T22:16:52.858Z"
   },
   {
    "duration": 229,
    "start_time": "2025-08-22T22:17:41.359Z"
   },
   {
    "duration": 44,
    "start_time": "2025-08-22T22:18:57.359Z"
   },
   {
    "duration": 23,
    "start_time": "2025-08-22T22:21:51.693Z"
   },
   {
    "duration": 137,
    "start_time": "2025-08-22T22:21:52.341Z"
   },
   {
    "duration": 45,
    "start_time": "2025-08-22T22:21:53.840Z"
   },
   {
    "duration": 4,
    "start_time": "2025-08-22T22:24:00.759Z"
   },
   {
    "duration": 9,
    "start_time": "2025-08-22T22:24:40.083Z"
   },
   {
    "duration": 10,
    "start_time": "2025-08-22T22:25:50.221Z"
   },
   {
    "duration": 11,
    "start_time": "2025-08-22T22:26:22.083Z"
   },
   {
    "duration": 223,
    "start_time": "2025-08-22T22:27:51.893Z"
   },
   {
    "duration": 51,
    "start_time": "2025-08-22T22:29:25.070Z"
   },
   {
    "duration": 45,
    "start_time": "2025-08-22T22:35:28.698Z"
   },
   {
    "duration": 1661,
    "start_time": "2025-08-22T22:36:13.215Z"
   },
   {
    "duration": 4,
    "start_time": "2025-08-22T22:38:01.745Z"
   },
   {
    "duration": 9,
    "start_time": "2025-08-22T22:38:30.882Z"
   },
   {
    "duration": 1487,
    "start_time": "2025-08-22T22:39:25.543Z"
   },
   {
    "duration": 9,
    "start_time": "2025-08-22T22:39:38.772Z"
   },
   {
    "duration": 166,
    "start_time": "2025-08-22T22:40:59.990Z"
   },
   {
    "duration": 48,
    "start_time": "2025-08-22T22:43:11.395Z"
   },
   {
    "duration": 32,
    "start_time": "2025-08-22T22:46:42.441Z"
   },
   {
    "duration": 4,
    "start_time": "2025-08-22T22:47:16.589Z"
   },
   {
    "duration": 9,
    "start_time": "2025-08-22T22:48:16.700Z"
   },
   {
    "duration": 10,
    "start_time": "2025-08-22T22:49:38.357Z"
   },
   {
    "duration": 193,
    "start_time": "2025-08-22T22:51:26.493Z"
   },
   {
    "duration": 35,
    "start_time": "2025-08-22T22:52:05.636Z"
   },
   {
    "duration": 48,
    "start_time": "2025-08-22T22:53:18.762Z"
   },
   {
    "duration": 32,
    "start_time": "2025-08-22T22:53:59.060Z"
   },
   {
    "duration": 34,
    "start_time": "2025-08-22T22:54:09.284Z"
   },
   {
    "duration": 11,
    "start_time": "2025-08-23T13:25:34.239Z"
   },
   {
    "duration": 176,
    "start_time": "2025-08-23T13:25:43.552Z"
   },
   {
    "duration": 111,
    "start_time": "2025-08-23T13:26:30.099Z"
   },
   {
    "duration": 172,
    "start_time": "2025-08-23T13:27:02.285Z"
   },
   {
    "duration": 161,
    "start_time": "2025-08-23T13:28:20.973Z"
   },
   {
    "duration": 160,
    "start_time": "2025-08-23T13:28:41.014Z"
   },
   {
    "duration": 50,
    "start_time": "2025-08-23T13:30:26.854Z"
   },
   {
    "duration": 51,
    "start_time": "2025-08-23T14:54:14.891Z"
   },
   {
    "duration": 15,
    "start_time": "2025-08-23T14:56:25.098Z"
   },
   {
    "duration": 219,
    "start_time": "2025-08-23T14:58:23.695Z"
   },
   {
    "duration": 52,
    "start_time": "2025-08-23T15:00:23.667Z"
   },
   {
    "duration": 114,
    "start_time": "2025-08-23T15:01:30.436Z"
   },
   {
    "duration": 57,
    "start_time": "2025-08-23T15:17:17.628Z"
   },
   {
    "duration": 9,
    "start_time": "2025-08-23T15:18:40.737Z"
   },
   {
    "duration": 59,
    "start_time": "2025-08-23T15:18:51.847Z"
   },
   {
    "duration": 102,
    "start_time": "2025-08-23T15:18:52.491Z"
   },
   {
    "duration": 10,
    "start_time": "2025-08-23T15:19:52.037Z"
   },
   {
    "duration": 97,
    "start_time": "2025-08-23T15:22:57.920Z"
   },
   {
    "duration": 10,
    "start_time": "2025-08-23T15:22:58.951Z"
   },
   {
    "duration": 188,
    "start_time": "2025-08-23T15:25:15.955Z"
   },
   {
    "duration": 86,
    "start_time": "2025-08-23T15:25:28.456Z"
   },
   {
    "duration": 63,
    "start_time": "2025-08-23T15:26:25.512Z"
   },
   {
    "duration": 1216,
    "start_time": "2025-08-23T15:27:43.972Z"
   },
   {
    "duration": 1413,
    "start_time": "2025-08-23T15:29:51.575Z"
   },
   {
    "duration": 1278,
    "start_time": "2025-08-23T15:30:01.731Z"
   },
   {
    "duration": 1864,
    "start_time": "2025-08-23T15:31:17.635Z"
   },
   {
    "duration": 1685,
    "start_time": "2025-08-23T15:31:50.461Z"
   },
   {
    "duration": 447,
    "start_time": "2025-08-23T15:32:09.046Z"
   },
   {
    "duration": 316,
    "start_time": "2025-08-23T15:32:17.399Z"
   },
   {
    "duration": 1660,
    "start_time": "2025-08-23T15:32:29.049Z"
   },
   {
    "duration": 1762,
    "start_time": "2025-08-23T15:33:44.801Z"
   },
   {
    "duration": 1598,
    "start_time": "2025-08-23T15:34:15.147Z"
   },
   {
    "duration": 1791,
    "start_time": "2025-08-23T15:34:29.404Z"
   },
   {
    "duration": 1640,
    "start_time": "2025-08-23T15:34:55.271Z"
   },
   {
    "duration": 1806,
    "start_time": "2025-08-23T15:35:01.949Z"
   },
   {
    "duration": 1637,
    "start_time": "2025-08-23T15:35:12.713Z"
   },
   {
    "duration": 1767,
    "start_time": "2025-08-23T15:35:20.254Z"
   },
   {
    "duration": 1597,
    "start_time": "2025-08-23T15:35:48.057Z"
   },
   {
    "duration": 1727,
    "start_time": "2025-08-23T15:35:54.927Z"
   },
   {
    "duration": 1631,
    "start_time": "2025-08-23T15:36:06.350Z"
   },
   {
    "duration": 1792,
    "start_time": "2025-08-23T15:36:21.892Z"
   },
   {
    "duration": 1591,
    "start_time": "2025-08-23T15:36:39.473Z"
   },
   {
    "duration": 3330,
    "start_time": "2025-08-23T15:37:02.417Z"
   },
   {
    "duration": 3044,
    "start_time": "2025-08-23T15:37:46.721Z"
   },
   {
    "duration": 60,
    "start_time": "2025-08-23T15:39:58.896Z"
   },
   {
    "duration": 2757,
    "start_time": "2025-08-23T15:40:04.457Z"
   },
   {
    "duration": 62,
    "start_time": "2025-08-23T15:40:25.827Z"
   },
   {
    "duration": 2881,
    "start_time": "2025-08-23T15:40:27.237Z"
   },
   {
    "duration": 61,
    "start_time": "2025-08-23T15:40:39.355Z"
   },
   {
    "duration": 3061,
    "start_time": "2025-08-23T15:40:46.715Z"
   },
   {
    "duration": 2807,
    "start_time": "2025-08-23T15:47:41.993Z"
   },
   {
    "duration": 3010,
    "start_time": "2025-08-23T15:50:18.440Z"
   },
   {
    "duration": 18,
    "start_time": "2025-08-23T15:56:21.787Z"
   },
   {
    "duration": 11,
    "start_time": "2025-08-23T16:01:24.586Z"
   },
   {
    "duration": 127,
    "start_time": "2025-08-23T16:01:37.020Z"
   },
   {
    "duration": 55,
    "start_time": "2025-08-23T16:03:18.119Z"
   },
   {
    "duration": 556,
    "start_time": "2025-08-23T16:21:31.932Z"
   },
   {
    "duration": 524,
    "start_time": "2025-08-23T16:22:04.103Z"
   },
   {
    "duration": 18,
    "start_time": "2025-08-23T16:38:28.353Z"
   },
   {
    "duration": 191,
    "start_time": "2025-08-23T16:39:46.986Z"
   },
   {
    "duration": 67,
    "start_time": "2025-08-23T16:39:59.907Z"
   },
   {
    "duration": 69,
    "start_time": "2025-08-23T16:40:23.305Z"
   },
   {
    "duration": 48,
    "start_time": "2025-08-23T20:07:01.979Z"
   },
   {
    "duration": 7,
    "start_time": "2025-08-23T20:07:06.599Z"
   },
   {
    "duration": 1370,
    "start_time": "2025-08-23T20:07:15.429Z"
   },
   {
    "duration": 1711,
    "start_time": "2025-08-23T20:07:16.802Z"
   },
   {
    "duration": 95,
    "start_time": "2025-08-23T20:07:18.514Z"
   },
   {
    "duration": 217,
    "start_time": "2025-08-23T20:07:18.944Z"
   },
   {
    "duration": 65,
    "start_time": "2025-08-23T20:07:19.814Z"
   },
   {
    "duration": 68,
    "start_time": "2025-08-23T20:07:20.451Z"
   },
   {
    "duration": 23,
    "start_time": "2025-08-23T20:07:21.140Z"
   },
   {
    "duration": 28,
    "start_time": "2025-08-23T20:07:21.754Z"
   },
   {
    "duration": 23,
    "start_time": "2025-08-23T20:07:22.401Z"
   },
   {
    "duration": 10,
    "start_time": "2025-08-23T20:07:23.857Z"
   },
   {
    "duration": 12,
    "start_time": "2025-08-23T20:07:25.244Z"
   },
   {
    "duration": 163,
    "start_time": "2025-08-23T20:07:26.633Z"
   },
   {
    "duration": 803,
    "start_time": "2025-08-23T20:07:27.593Z"
   },
   {
    "duration": 53,
    "start_time": "2025-08-23T20:07:31.770Z"
   },
   {
    "duration": 149,
    "start_time": "2025-08-23T20:07:32.846Z"
   },
   {
    "duration": 13,
    "start_time": "2025-08-23T20:07:35.357Z"
   },
   {
    "duration": 212,
    "start_time": "2025-08-23T20:07:36.057Z"
   },
   {
    "duration": 26,
    "start_time": "2025-08-23T20:07:36.746Z"
   },
   {
    "duration": 6,
    "start_time": "2025-08-23T20:07:37.375Z"
   },
   {
    "duration": 58,
    "start_time": "2025-08-23T20:07:38.772Z"
   },
   {
    "duration": 261,
    "start_time": "2025-08-23T20:07:40.072Z"
   },
   {
    "duration": 213,
    "start_time": "2025-08-23T20:07:40.827Z"
   },
   {
    "duration": 29,
    "start_time": "2025-08-23T20:07:42.146Z"
   },
   {
    "duration": 139,
    "start_time": "2025-08-23T20:07:42.889Z"
   },
   {
    "duration": 181,
    "start_time": "2025-08-23T20:07:43.690Z"
   },
   {
    "duration": 23,
    "start_time": "2025-08-23T20:07:44.456Z"
   },
   {
    "duration": 5191,
    "start_time": "2025-08-23T20:07:45.181Z"
   },
   {
    "duration": 35,
    "start_time": "2025-08-23T20:07:50.374Z"
   },
   {
    "duration": 220,
    "start_time": "2025-08-23T20:07:50.410Z"
   },
   {
    "duration": 22,
    "start_time": "2025-08-23T20:07:50.632Z"
   },
   {
    "duration": 350,
    "start_time": "2025-08-23T20:07:52.542Z"
   },
   {
    "duration": 311,
    "start_time": "2025-08-23T20:07:53.607Z"
   },
   {
    "duration": 18,
    "start_time": "2025-08-23T20:07:55.205Z"
   },
   {
    "duration": 9,
    "start_time": "2025-08-23T20:07:55.978Z"
   },
   {
    "duration": 223,
    "start_time": "2025-08-23T20:07:56.771Z"
   },
   {
    "duration": 5,
    "start_time": "2025-08-23T20:07:57.659Z"
   },
   {
    "duration": 335,
    "start_time": "2025-08-23T20:07:58.375Z"
   },
   {
    "duration": 190,
    "start_time": "2025-08-23T20:07:59.057Z"
   },
   {
    "duration": 362,
    "start_time": "2025-08-23T20:08:00.821Z"
   },
   {
    "duration": 315,
    "start_time": "2025-08-23T20:08:02.512Z"
   },
   {
    "duration": 515,
    "start_time": "2025-08-23T20:08:04.225Z"
   },
   {
    "duration": 4,
    "start_time": "2025-08-23T20:08:05.676Z"
   },
   {
    "duration": 450,
    "start_time": "2025-08-23T20:08:06.502Z"
   },
   {
    "duration": 513,
    "start_time": "2025-08-23T20:08:07.159Z"
   },
   {
    "duration": 26,
    "start_time": "2025-08-23T20:08:09.039Z"
   },
   {
    "duration": 32,
    "start_time": "2025-08-23T20:08:09.917Z"
   },
   {
    "duration": 79,
    "start_time": "2025-08-23T20:08:10.649Z"
   },
   {
    "duration": 25,
    "start_time": "2025-08-23T20:08:11.521Z"
   },
   {
    "duration": 3,
    "start_time": "2025-08-23T20:08:12.269Z"
   },
   {
    "duration": 70,
    "start_time": "2025-08-23T20:08:12.993Z"
   },
   {
    "duration": 26,
    "start_time": "2025-08-23T20:08:13.812Z"
   },
   {
    "duration": 207,
    "start_time": "2025-08-23T20:08:21.902Z"
   },
   {
    "duration": 36,
    "start_time": "2025-08-23T20:08:25.039Z"
   },
   {
    "duration": 153,
    "start_time": "2025-08-23T20:08:26.412Z"
   },
   {
    "duration": 189,
    "start_time": "2025-08-23T20:08:43.217Z"
   },
   {
    "duration": 4,
    "start_time": "2025-08-23T20:08:43.974Z"
   },
   {
    "duration": 9,
    "start_time": "2025-08-23T20:08:44.692Z"
   },
   {
    "duration": 14,
    "start_time": "2025-08-23T20:08:45.292Z"
   },
   {
    "duration": 257,
    "start_time": "2025-08-23T20:08:45.886Z"
   },
   {
    "duration": 53,
    "start_time": "2025-08-23T20:08:46.497Z"
   },
   {
    "duration": 58,
    "start_time": "2025-08-23T20:08:48.606Z"
   },
   {
    "duration": 5,
    "start_time": "2025-08-23T20:08:49.309Z"
   },
   {
    "duration": 9,
    "start_time": "2025-08-23T20:08:50.041Z"
   },
   {
    "duration": 10,
    "start_time": "2025-08-23T20:08:50.641Z"
   },
   {
    "duration": 169,
    "start_time": "2025-08-23T20:08:51.314Z"
   },
   {
    "duration": 61,
    "start_time": "2025-08-23T20:08:52.107Z"
   },
   {
    "duration": 34,
    "start_time": "2025-08-23T20:08:54.281Z"
   },
   {
    "duration": 4,
    "start_time": "2025-08-23T20:08:55.225Z"
   },
   {
    "duration": 7,
    "start_time": "2025-08-23T20:08:55.866Z"
   },
   {
    "duration": 10,
    "start_time": "2025-08-23T20:08:56.598Z"
   },
   {
    "duration": 208,
    "start_time": "2025-08-23T20:08:57.406Z"
   },
   {
    "duration": 36,
    "start_time": "2025-08-23T20:08:58.197Z"
   },
   {
    "duration": 51,
    "start_time": "2025-08-23T20:09:00.324Z"
   },
   {
    "duration": 15,
    "start_time": "2025-08-23T20:09:01.015Z"
   },
   {
    "duration": 218,
    "start_time": "2025-08-23T20:09:01.721Z"
   },
   {
    "duration": 52,
    "start_time": "2025-08-23T20:09:02.533Z"
   },
   {
    "duration": 66,
    "start_time": "2025-08-23T20:09:05.550Z"
   },
   {
    "duration": 66,
    "start_time": "2025-08-23T20:09:06.223Z"
   },
   {
    "duration": 2765,
    "start_time": "2025-08-23T20:09:07.044Z"
   },
   {
    "duration": 30,
    "start_time": "2025-08-23T20:09:09.811Z"
   },
   {
    "duration": 150,
    "start_time": "2025-08-23T20:09:10.051Z"
   },
   {
    "duration": 52,
    "start_time": "2025-08-23T20:09:10.705Z"
   },
   {
    "duration": 511,
    "start_time": "2025-08-23T20:09:11.414Z"
   },
   {
    "duration": 189,
    "start_time": "2025-08-23T20:09:14.321Z"
   },
   {
    "duration": 67,
    "start_time": "2025-08-23T20:09:15.215Z"
   },
   {
    "duration": 18,
    "start_time": "2025-08-23T20:09:16.081Z"
   },
   {
    "duration": 10,
    "start_time": "2025-08-23T20:09:37.539Z"
   },
   {
    "duration": 4,
    "start_time": "2025-08-23T20:10:40.870Z"
   },
   {
    "duration": 64,
    "start_time": "2025-08-23T20:14:17.180Z"
   },
   {
    "duration": 14,
    "start_time": "2025-08-23T20:14:42.281Z"
   },
   {
    "duration": 4,
    "start_time": "2025-08-23T20:15:38.240Z"
   },
   {
    "duration": 127,
    "start_time": "2025-08-23T20:22:15.881Z"
   },
   {
    "duration": 65,
    "start_time": "2025-08-23T20:22:58.591Z"
   },
   {
    "duration": 9,
    "start_time": "2025-08-23T20:23:19.780Z"
   },
   {
    "duration": 13,
    "start_time": "2025-08-23T20:23:50.890Z"
   },
   {
    "duration": 3,
    "start_time": "2025-08-23T20:24:23.677Z"
   },
   {
    "duration": 9,
    "start_time": "2025-08-23T20:25:41.079Z"
   },
   {
    "duration": 9,
    "start_time": "2025-08-23T20:25:56.928Z"
   },
   {
    "duration": 64,
    "start_time": "2025-08-23T20:27:10.832Z"
   },
   {
    "duration": 4,
    "start_time": "2025-08-23T20:27:43.402Z"
   },
   {
    "duration": 14,
    "start_time": "2025-08-23T20:27:52.614Z"
   },
   {
    "duration": 87,
    "start_time": "2025-08-23T20:30:26.450Z"
   },
   {
    "duration": 8,
    "start_time": "2025-08-23T20:31:26.245Z"
   },
   {
    "duration": 55,
    "start_time": "2025-08-23T20:31:31.070Z"
   },
   {
    "duration": 16,
    "start_time": "2025-08-23T20:32:43.069Z"
   },
   {
    "duration": 8,
    "start_time": "2025-08-23T20:33:51.982Z"
   },
   {
    "duration": 5,
    "start_time": "2025-08-23T20:34:59.602Z"
   },
   {
    "duration": 9,
    "start_time": "2025-08-23T20:35:21.507Z"
   },
   {
    "duration": 12,
    "start_time": "2025-08-23T20:37:25.165Z"
   },
   {
    "duration": 8,
    "start_time": "2025-08-23T20:37:40.810Z"
   },
   {
    "duration": 20,
    "start_time": "2025-08-23T20:38:50.141Z"
   },
   {
    "duration": 48,
    "start_time": "2025-08-24T08:22:31.279Z"
   },
   {
    "duration": 1425,
    "start_time": "2025-08-24T08:24:07.033Z"
   },
   {
    "duration": 2149,
    "start_time": "2025-08-24T08:24:08.460Z"
   },
   {
    "duration": 98,
    "start_time": "2025-08-24T08:24:10.611Z"
   },
   {
    "duration": 259,
    "start_time": "2025-08-24T08:24:10.712Z"
   },
   {
    "duration": 73,
    "start_time": "2025-08-24T08:24:10.974Z"
   },
   {
    "duration": 91,
    "start_time": "2025-08-24T08:24:11.048Z"
   },
   {
    "duration": 38,
    "start_time": "2025-08-24T08:24:11.140Z"
   },
   {
    "duration": 18,
    "start_time": "2025-08-24T08:24:11.179Z"
   },
   {
    "duration": 16,
    "start_time": "2025-08-24T08:24:11.198Z"
   },
   {
    "duration": 34,
    "start_time": "2025-08-24T08:24:11.216Z"
   },
   {
    "duration": 23,
    "start_time": "2025-08-24T08:24:11.252Z"
   },
   {
    "duration": 166,
    "start_time": "2025-08-24T08:24:11.276Z"
   },
   {
    "duration": 842,
    "start_time": "2025-08-24T08:24:11.444Z"
   },
   {
    "duration": 55,
    "start_time": "2025-08-24T08:24:12.290Z"
   },
   {
    "duration": 183,
    "start_time": "2025-08-24T08:24:12.346Z"
   },
   {
    "duration": 12,
    "start_time": "2025-08-24T08:24:12.530Z"
   },
   {
    "duration": 271,
    "start_time": "2025-08-24T08:24:12.544Z"
   },
   {
    "duration": 27,
    "start_time": "2025-08-24T08:24:12.817Z"
   },
   {
    "duration": 5,
    "start_time": "2025-08-24T08:24:12.846Z"
   },
   {
    "duration": 138,
    "start_time": "2025-08-24T08:24:12.853Z"
   },
   {
    "duration": 290,
    "start_time": "2025-08-24T08:24:12.993Z"
   },
   {
    "duration": 182,
    "start_time": "2025-08-24T08:24:13.284Z"
   },
   {
    "duration": 22,
    "start_time": "2025-08-24T08:24:13.471Z"
   },
   {
    "duration": 150,
    "start_time": "2025-08-24T08:24:13.494Z"
   },
   {
    "duration": 190,
    "start_time": "2025-08-24T08:24:13.645Z"
   },
   {
    "duration": 23,
    "start_time": "2025-08-24T08:24:13.837Z"
   },
   {
    "duration": 5325,
    "start_time": "2025-08-24T08:24:13.872Z"
   },
   {
    "duration": 36,
    "start_time": "2025-08-24T08:24:19.198Z"
   },
   {
    "duration": 237,
    "start_time": "2025-08-24T08:24:19.236Z"
   },
   {
    "duration": 18,
    "start_time": "2025-08-24T08:24:19.475Z"
   },
   {
    "duration": 405,
    "start_time": "2025-08-24T08:24:19.495Z"
   },
   {
    "duration": 321,
    "start_time": "2025-08-24T08:24:19.901Z"
   },
   {
    "duration": 20,
    "start_time": "2025-08-24T08:24:20.224Z"
   },
   {
    "duration": 8,
    "start_time": "2025-08-24T08:24:20.246Z"
   },
   {
    "duration": 257,
    "start_time": "2025-08-24T08:24:20.272Z"
   },
   {
    "duration": 4,
    "start_time": "2025-08-24T08:24:20.530Z"
   },
   {
    "duration": 376,
    "start_time": "2025-08-24T08:24:20.536Z"
   },
   {
    "duration": 212,
    "start_time": "2025-08-24T08:24:20.913Z"
   },
   {
    "duration": 324,
    "start_time": "2025-08-24T08:24:21.127Z"
   },
   {
    "duration": 321,
    "start_time": "2025-08-24T08:24:21.452Z"
   },
   {
    "duration": 547,
    "start_time": "2025-08-24T08:24:21.778Z"
   },
   {
    "duration": 4,
    "start_time": "2025-08-24T08:24:22.326Z"
   },
   {
    "duration": 467,
    "start_time": "2025-08-24T08:24:22.331Z"
   },
   {
    "duration": 512,
    "start_time": "2025-08-24T08:24:22.799Z"
   },
   {
    "duration": 26,
    "start_time": "2025-08-24T08:24:23.313Z"
   },
   {
    "duration": 36,
    "start_time": "2025-08-24T08:24:23.341Z"
   },
   {
    "duration": 94,
    "start_time": "2025-08-24T08:24:23.379Z"
   },
   {
    "duration": 25,
    "start_time": "2025-08-24T08:24:23.475Z"
   },
   {
    "duration": 3,
    "start_time": "2025-08-24T08:24:23.502Z"
   },
   {
    "duration": 85,
    "start_time": "2025-08-24T08:24:23.507Z"
   },
   {
    "duration": 27,
    "start_time": "2025-08-24T08:24:23.594Z"
   },
   {
    "duration": 227,
    "start_time": "2025-08-24T08:24:23.623Z"
   },
   {
    "duration": 32,
    "start_time": "2025-08-24T08:24:23.852Z"
   },
   {
    "duration": 156,
    "start_time": "2025-08-24T08:24:23.886Z"
   },
   {
    "duration": 207,
    "start_time": "2025-08-24T08:24:24.044Z"
   },
   {
    "duration": 4,
    "start_time": "2025-08-24T08:24:24.253Z"
   },
   {
    "duration": 9,
    "start_time": "2025-08-24T08:24:24.271Z"
   },
   {
    "duration": 22,
    "start_time": "2025-08-24T08:24:24.282Z"
   },
   {
    "duration": 232,
    "start_time": "2025-08-24T08:24:24.306Z"
   },
   {
    "duration": 60,
    "start_time": "2025-08-24T08:24:24.539Z"
   },
   {
    "duration": 45,
    "start_time": "2025-08-24T08:24:24.601Z"
   },
   {
    "duration": 28,
    "start_time": "2025-08-24T08:24:24.648Z"
   },
   {
    "duration": 13,
    "start_time": "2025-08-24T08:24:24.677Z"
   },
   {
    "duration": 84,
    "start_time": "2025-08-24T08:24:24.692Z"
   },
   {
    "duration": 177,
    "start_time": "2025-08-24T08:24:24.778Z"
   },
   {
    "duration": 59,
    "start_time": "2025-08-24T08:24:24.957Z"
   },
   {
    "duration": 33,
    "start_time": "2025-08-24T08:24:25.018Z"
   },
   {
    "duration": 19,
    "start_time": "2025-08-24T08:24:25.053Z"
   },
   {
    "duration": 10,
    "start_time": "2025-08-24T08:24:25.074Z"
   },
   {
    "duration": 110,
    "start_time": "2025-08-24T08:24:25.085Z"
   },
   {
    "duration": 194,
    "start_time": "2025-08-24T08:24:25.197Z"
   },
   {
    "duration": 35,
    "start_time": "2025-08-24T08:24:25.393Z"
   },
   {
    "duration": 68,
    "start_time": "2025-08-24T08:24:25.430Z"
   },
   {
    "duration": 14,
    "start_time": "2025-08-24T08:24:25.500Z"
   },
   {
    "duration": 237,
    "start_time": "2025-08-24T08:24:25.515Z"
   },
   {
    "duration": 60,
    "start_time": "2025-08-24T08:24:25.754Z"
   },
   {
    "duration": 77,
    "start_time": "2025-08-24T08:24:25.815Z"
   },
   {
    "duration": 65,
    "start_time": "2025-08-24T08:24:25.893Z"
   },
   {
    "duration": 2813,
    "start_time": "2025-08-24T08:24:25.972Z"
   },
   {
    "duration": 19,
    "start_time": "2025-08-24T08:24:28.786Z"
   },
   {
    "duration": 180,
    "start_time": "2025-08-24T08:24:28.806Z"
   },
   {
    "duration": 56,
    "start_time": "2025-08-24T08:24:28.987Z"
   },
   {
    "duration": 553,
    "start_time": "2025-08-24T08:24:29.045Z"
   },
   {
    "duration": 199,
    "start_time": "2025-08-24T08:24:29.600Z"
   },
   {
    "duration": 71,
    "start_time": "2025-08-24T08:24:29.801Z"
   },
   {
    "duration": 16,
    "start_time": "2025-08-24T08:24:29.874Z"
   },
   {
    "duration": 11,
    "start_time": "2025-08-24T08:24:29.892Z"
   },
   {
    "duration": 5,
    "start_time": "2025-08-24T08:24:29.904Z"
   },
   {
    "duration": 97,
    "start_time": "2025-08-24T08:24:29.910Z"
   },
   {
    "duration": 15,
    "start_time": "2025-08-24T08:24:30.008Z"
   },
   {
    "duration": 30,
    "start_time": "2025-08-24T08:24:30.024Z"
   },
   {
    "duration": 139,
    "start_time": "2025-08-24T08:24:30.056Z"
   },
   {
    "duration": 80,
    "start_time": "2025-08-24T08:24:30.197Z"
   },
   {
    "duration": 8,
    "start_time": "2025-08-24T08:24:30.279Z"
   },
   {
    "duration": 16,
    "start_time": "2025-08-24T08:24:30.289Z"
   },
   {
    "duration": 16,
    "start_time": "2025-08-24T08:24:30.307Z"
   },
   {
    "duration": 36,
    "start_time": "2025-08-24T08:24:30.325Z"
   },
   {
    "duration": 15,
    "start_time": "2025-08-24T08:24:30.363Z"
   },
   {
    "duration": 64,
    "start_time": "2025-08-24T08:24:30.380Z"
   },
   {
    "duration": 25,
    "start_time": "2025-08-24T08:24:30.446Z"
   },
   {
    "duration": 8,
    "start_time": "2025-08-24T08:24:30.473Z"
   },
   {
    "duration": 13,
    "start_time": "2025-08-24T08:24:30.483Z"
   },
   {
    "duration": 23,
    "start_time": "2025-08-24T08:24:30.498Z"
   },
   {
    "duration": 25,
    "start_time": "2025-08-24T08:24:30.523Z"
   },
   {
    "duration": 24,
    "start_time": "2025-08-24T08:24:30.550Z"
   }
  ],
  "kernelspec": {
   "display_name": "Python 3 (ipykernel)",
   "language": "python",
   "name": "python3"
  },
  "language_info": {
   "codemirror_mode": {
    "name": "ipython",
    "version": 3
   },
   "file_extension": ".py",
   "mimetype": "text/x-python",
   "name": "python",
   "nbconvert_exporter": "python",
   "pygments_lexer": "ipython3",
   "version": "3.9.5"
  },
  "toc": {
   "base_numbering": 1,
   "nav_menu": {},
   "number_sections": true,
   "sideBar": true,
   "skip_h1_title": true,
   "title_cell": "Table of Contents",
   "title_sidebar": "Contents",
   "toc_cell": false,
   "toc_position": {},
   "toc_section_display": true,
   "toc_window_display": false
  }
 },
 "nbformat": 4,
 "nbformat_minor": 5
}
